{
  "nbformat": 4,
  "nbformat_minor": 0,
  "metadata": {
    "colab": {
      "name": "Dataset-overview",
      "provenance": [],
      "collapsed_sections": [
        "whPRbBNbIrIl"
      ],
      "machine_shape": "hm",
      "toc_visible": true
    },
    "language_info": {
      "name": "python"
    },
    "kernelspec": {
      "name": "python3",
      "display_name": "Python 3"
    },
    "widgets": {
      "application/vnd.jupyter.widget-state+json": {
        "589a291b78954e06948c2cbc67df0842": {
          "model_module": "@jupyter-widgets/controls",
          "model_name": "HBoxModel",
          "model_module_version": "1.5.0",
          "state": {
            "_view_name": "HBoxView",
            "_dom_classes": [],
            "_model_name": "HBoxModel",
            "_view_module": "@jupyter-widgets/controls",
            "_model_module_version": "1.5.0",
            "_view_count": null,
            "_view_module_version": "1.5.0",
            "box_style": "",
            "layout": "IPY_MODEL_3a29a48745bf4b18b26218ec2e5e2e80",
            "_model_module": "@jupyter-widgets/controls",
            "children": [
              "IPY_MODEL_dd1ba2c21bd2439399192fb7c80f0692",
              "IPY_MODEL_6b0718a227c54289b8751b195323f02a",
              "IPY_MODEL_7ccb5773a8ca4736900719e41a6c2b81"
            ]
          }
        },
        "3a29a48745bf4b18b26218ec2e5e2e80": {
          "model_module": "@jupyter-widgets/base",
          "model_name": "LayoutModel",
          "model_module_version": "1.2.0",
          "state": {
            "_view_name": "LayoutView",
            "grid_template_rows": null,
            "right": null,
            "justify_content": null,
            "_view_module": "@jupyter-widgets/base",
            "overflow": null,
            "_model_module_version": "1.2.0",
            "_view_count": null,
            "flex_flow": null,
            "width": null,
            "min_width": null,
            "border": null,
            "align_items": null,
            "bottom": null,
            "_model_module": "@jupyter-widgets/base",
            "top": null,
            "grid_column": null,
            "overflow_y": null,
            "overflow_x": null,
            "grid_auto_flow": null,
            "grid_area": null,
            "grid_template_columns": null,
            "flex": null,
            "_model_name": "LayoutModel",
            "justify_items": null,
            "grid_row": null,
            "max_height": null,
            "align_content": null,
            "visibility": null,
            "align_self": null,
            "height": null,
            "min_height": null,
            "padding": null,
            "grid_auto_rows": null,
            "grid_gap": null,
            "max_width": null,
            "order": null,
            "_view_module_version": "1.2.0",
            "grid_template_areas": null,
            "object_position": null,
            "object_fit": null,
            "grid_auto_columns": null,
            "margin": null,
            "display": null,
            "left": null
          }
        },
        "dd1ba2c21bd2439399192fb7c80f0692": {
          "model_module": "@jupyter-widgets/controls",
          "model_name": "HTMLModel",
          "model_module_version": "1.5.0",
          "state": {
            "_view_name": "HTMLView",
            "style": "IPY_MODEL_de92e3ab4d704df68553ffbbbce84ed8",
            "_dom_classes": [],
            "description": "",
            "_model_name": "HTMLModel",
            "placeholder": "​",
            "_view_module": "@jupyter-widgets/controls",
            "_model_module_version": "1.5.0",
            "value": "Downloading: 100%",
            "_view_count": null,
            "_view_module_version": "1.5.0",
            "description_tooltip": null,
            "_model_module": "@jupyter-widgets/controls",
            "layout": "IPY_MODEL_61a2126aef734648ae889bd1918c59ea"
          }
        },
        "6b0718a227c54289b8751b195323f02a": {
          "model_module": "@jupyter-widgets/controls",
          "model_name": "FloatProgressModel",
          "model_module_version": "1.5.0",
          "state": {
            "_view_name": "ProgressView",
            "style": "IPY_MODEL_93726938643541b3ad0307438b66c831",
            "_dom_classes": [],
            "description": "",
            "_model_name": "FloatProgressModel",
            "bar_style": "success",
            "max": 791656,
            "_view_module": "@jupyter-widgets/controls",
            "_model_module_version": "1.5.0",
            "value": 791656,
            "_view_count": null,
            "_view_module_version": "1.5.0",
            "orientation": "horizontal",
            "min": 0,
            "description_tooltip": null,
            "_model_module": "@jupyter-widgets/controls",
            "layout": "IPY_MODEL_77b5a8ef835e48dba022c738f7d5ef2b"
          }
        },
        "7ccb5773a8ca4736900719e41a6c2b81": {
          "model_module": "@jupyter-widgets/controls",
          "model_name": "HTMLModel",
          "model_module_version": "1.5.0",
          "state": {
            "_view_name": "HTMLView",
            "style": "IPY_MODEL_8287f225e8874345b201a2242918a4dc",
            "_dom_classes": [],
            "description": "",
            "_model_name": "HTMLModel",
            "placeholder": "​",
            "_view_module": "@jupyter-widgets/controls",
            "_model_module_version": "1.5.0",
            "value": " 773k/773k [00:00&lt;00:00, 2.71MB/s]",
            "_view_count": null,
            "_view_module_version": "1.5.0",
            "description_tooltip": null,
            "_model_module": "@jupyter-widgets/controls",
            "layout": "IPY_MODEL_9516cdd34fa8455d8a37f83ee7f5dce5"
          }
        },
        "de92e3ab4d704df68553ffbbbce84ed8": {
          "model_module": "@jupyter-widgets/controls",
          "model_name": "DescriptionStyleModel",
          "model_module_version": "1.5.0",
          "state": {
            "_view_name": "StyleView",
            "_model_name": "DescriptionStyleModel",
            "description_width": "",
            "_view_module": "@jupyter-widgets/base",
            "_model_module_version": "1.5.0",
            "_view_count": null,
            "_view_module_version": "1.2.0",
            "_model_module": "@jupyter-widgets/controls"
          }
        },
        "61a2126aef734648ae889bd1918c59ea": {
          "model_module": "@jupyter-widgets/base",
          "model_name": "LayoutModel",
          "model_module_version": "1.2.0",
          "state": {
            "_view_name": "LayoutView",
            "grid_template_rows": null,
            "right": null,
            "justify_content": null,
            "_view_module": "@jupyter-widgets/base",
            "overflow": null,
            "_model_module_version": "1.2.0",
            "_view_count": null,
            "flex_flow": null,
            "width": null,
            "min_width": null,
            "border": null,
            "align_items": null,
            "bottom": null,
            "_model_module": "@jupyter-widgets/base",
            "top": null,
            "grid_column": null,
            "overflow_y": null,
            "overflow_x": null,
            "grid_auto_flow": null,
            "grid_area": null,
            "grid_template_columns": null,
            "flex": null,
            "_model_name": "LayoutModel",
            "justify_items": null,
            "grid_row": null,
            "max_height": null,
            "align_content": null,
            "visibility": null,
            "align_self": null,
            "height": null,
            "min_height": null,
            "padding": null,
            "grid_auto_rows": null,
            "grid_gap": null,
            "max_width": null,
            "order": null,
            "_view_module_version": "1.2.0",
            "grid_template_areas": null,
            "object_position": null,
            "object_fit": null,
            "grid_auto_columns": null,
            "margin": null,
            "display": null,
            "left": null
          }
        },
        "93726938643541b3ad0307438b66c831": {
          "model_module": "@jupyter-widgets/controls",
          "model_name": "ProgressStyleModel",
          "model_module_version": "1.5.0",
          "state": {
            "_view_name": "StyleView",
            "_model_name": "ProgressStyleModel",
            "description_width": "",
            "_view_module": "@jupyter-widgets/base",
            "_model_module_version": "1.5.0",
            "_view_count": null,
            "_view_module_version": "1.2.0",
            "bar_color": null,
            "_model_module": "@jupyter-widgets/controls"
          }
        },
        "77b5a8ef835e48dba022c738f7d5ef2b": {
          "model_module": "@jupyter-widgets/base",
          "model_name": "LayoutModel",
          "model_module_version": "1.2.0",
          "state": {
            "_view_name": "LayoutView",
            "grid_template_rows": null,
            "right": null,
            "justify_content": null,
            "_view_module": "@jupyter-widgets/base",
            "overflow": null,
            "_model_module_version": "1.2.0",
            "_view_count": null,
            "flex_flow": null,
            "width": null,
            "min_width": null,
            "border": null,
            "align_items": null,
            "bottom": null,
            "_model_module": "@jupyter-widgets/base",
            "top": null,
            "grid_column": null,
            "overflow_y": null,
            "overflow_x": null,
            "grid_auto_flow": null,
            "grid_area": null,
            "grid_template_columns": null,
            "flex": null,
            "_model_name": "LayoutModel",
            "justify_items": null,
            "grid_row": null,
            "max_height": null,
            "align_content": null,
            "visibility": null,
            "align_self": null,
            "height": null,
            "min_height": null,
            "padding": null,
            "grid_auto_rows": null,
            "grid_gap": null,
            "max_width": null,
            "order": null,
            "_view_module_version": "1.2.0",
            "grid_template_areas": null,
            "object_position": null,
            "object_fit": null,
            "grid_auto_columns": null,
            "margin": null,
            "display": null,
            "left": null
          }
        },
        "8287f225e8874345b201a2242918a4dc": {
          "model_module": "@jupyter-widgets/controls",
          "model_name": "DescriptionStyleModel",
          "model_module_version": "1.5.0",
          "state": {
            "_view_name": "StyleView",
            "_model_name": "DescriptionStyleModel",
            "description_width": "",
            "_view_module": "@jupyter-widgets/base",
            "_model_module_version": "1.5.0",
            "_view_count": null,
            "_view_module_version": "1.2.0",
            "_model_module": "@jupyter-widgets/controls"
          }
        },
        "9516cdd34fa8455d8a37f83ee7f5dce5": {
          "model_module": "@jupyter-widgets/base",
          "model_name": "LayoutModel",
          "model_module_version": "1.2.0",
          "state": {
            "_view_name": "LayoutView",
            "grid_template_rows": null,
            "right": null,
            "justify_content": null,
            "_view_module": "@jupyter-widgets/base",
            "overflow": null,
            "_model_module_version": "1.2.0",
            "_view_count": null,
            "flex_flow": null,
            "width": null,
            "min_width": null,
            "border": null,
            "align_items": null,
            "bottom": null,
            "_model_module": "@jupyter-widgets/base",
            "top": null,
            "grid_column": null,
            "overflow_y": null,
            "overflow_x": null,
            "grid_auto_flow": null,
            "grid_area": null,
            "grid_template_columns": null,
            "flex": null,
            "_model_name": "LayoutModel",
            "justify_items": null,
            "grid_row": null,
            "max_height": null,
            "align_content": null,
            "visibility": null,
            "align_self": null,
            "height": null,
            "min_height": null,
            "padding": null,
            "grid_auto_rows": null,
            "grid_gap": null,
            "max_width": null,
            "order": null,
            "_view_module_version": "1.2.0",
            "grid_template_areas": null,
            "object_position": null,
            "object_fit": null,
            "grid_auto_columns": null,
            "margin": null,
            "display": null,
            "left": null
          }
        },
        "83ab957fa0474878ad679020a9c56ddb": {
          "model_module": "@jupyter-widgets/controls",
          "model_name": "HBoxModel",
          "model_module_version": "1.5.0",
          "state": {
            "_view_name": "HBoxView",
            "_dom_classes": [],
            "_model_name": "HBoxModel",
            "_view_module": "@jupyter-widgets/controls",
            "_model_module_version": "1.5.0",
            "_view_count": null,
            "_view_module_version": "1.5.0",
            "box_style": "",
            "layout": "IPY_MODEL_e211e0cfbc5a4c838f95a8b5b5368076",
            "_model_module": "@jupyter-widgets/controls",
            "children": [
              "IPY_MODEL_076f7090bd82449ea99c65a1efd84e41",
              "IPY_MODEL_afee14faa2db43698a7e15a137e16d70",
              "IPY_MODEL_460f3ff3998a4bdc8c793ba20f689f7e"
            ]
          }
        },
        "e211e0cfbc5a4c838f95a8b5b5368076": {
          "model_module": "@jupyter-widgets/base",
          "model_name": "LayoutModel",
          "model_module_version": "1.2.0",
          "state": {
            "_view_name": "LayoutView",
            "grid_template_rows": null,
            "right": null,
            "justify_content": null,
            "_view_module": "@jupyter-widgets/base",
            "overflow": null,
            "_model_module_version": "1.2.0",
            "_view_count": null,
            "flex_flow": null,
            "width": null,
            "min_width": null,
            "border": null,
            "align_items": null,
            "bottom": null,
            "_model_module": "@jupyter-widgets/base",
            "top": null,
            "grid_column": null,
            "overflow_y": null,
            "overflow_x": null,
            "grid_auto_flow": null,
            "grid_area": null,
            "grid_template_columns": null,
            "flex": null,
            "_model_name": "LayoutModel",
            "justify_items": null,
            "grid_row": null,
            "max_height": null,
            "align_content": null,
            "visibility": null,
            "align_self": null,
            "height": null,
            "min_height": null,
            "padding": null,
            "grid_auto_rows": null,
            "grid_gap": null,
            "max_width": null,
            "order": null,
            "_view_module_version": "1.2.0",
            "grid_template_areas": null,
            "object_position": null,
            "object_fit": null,
            "grid_auto_columns": null,
            "margin": null,
            "display": null,
            "left": null
          }
        },
        "076f7090bd82449ea99c65a1efd84e41": {
          "model_module": "@jupyter-widgets/controls",
          "model_name": "HTMLModel",
          "model_module_version": "1.5.0",
          "state": {
            "_view_name": "HTMLView",
            "style": "IPY_MODEL_892dd09bb23244baaf93a7c559fc70e1",
            "_dom_classes": [],
            "description": "",
            "_model_name": "HTMLModel",
            "placeholder": "​",
            "_view_module": "@jupyter-widgets/controls",
            "_model_module_version": "1.5.0",
            "value": "Downloading: 100%",
            "_view_count": null,
            "_view_module_version": "1.5.0",
            "description_tooltip": null,
            "_model_module": "@jupyter-widgets/controls",
            "layout": "IPY_MODEL_b053aacac55c4c81a0b41f2d22e1753b"
          }
        },
        "afee14faa2db43698a7e15a137e16d70": {
          "model_module": "@jupyter-widgets/controls",
          "model_name": "FloatProgressModel",
          "model_module_version": "1.5.0",
          "state": {
            "_view_name": "ProgressView",
            "style": "IPY_MODEL_80ac8a0069e14fcd98138954c700e33a",
            "_dom_classes": [],
            "description": "",
            "_model_name": "FloatProgressModel",
            "bar_style": "success",
            "max": 1389353,
            "_view_module": "@jupyter-widgets/controls",
            "_model_module_version": "1.5.0",
            "value": 1389353,
            "_view_count": null,
            "_view_module_version": "1.5.0",
            "orientation": "horizontal",
            "min": 0,
            "description_tooltip": null,
            "_model_module": "@jupyter-widgets/controls",
            "layout": "IPY_MODEL_47b9244e2da54246996c185b3c14edba"
          }
        },
        "460f3ff3998a4bdc8c793ba20f689f7e": {
          "model_module": "@jupyter-widgets/controls",
          "model_name": "HTMLModel",
          "model_module_version": "1.5.0",
          "state": {
            "_view_name": "HTMLView",
            "style": "IPY_MODEL_476e5e0d9243468fa7f00343c41efc9b",
            "_dom_classes": [],
            "description": "",
            "_model_name": "HTMLModel",
            "placeholder": "​",
            "_view_module": "@jupyter-widgets/controls",
            "_model_module_version": "1.5.0",
            "value": " 1.32M/1.32M [00:00&lt;00:00, 2.61MB/s]",
            "_view_count": null,
            "_view_module_version": "1.5.0",
            "description_tooltip": null,
            "_model_module": "@jupyter-widgets/controls",
            "layout": "IPY_MODEL_01509d24534541b0ac908537de9bec92"
          }
        },
        "892dd09bb23244baaf93a7c559fc70e1": {
          "model_module": "@jupyter-widgets/controls",
          "model_name": "DescriptionStyleModel",
          "model_module_version": "1.5.0",
          "state": {
            "_view_name": "StyleView",
            "_model_name": "DescriptionStyleModel",
            "description_width": "",
            "_view_module": "@jupyter-widgets/base",
            "_model_module_version": "1.5.0",
            "_view_count": null,
            "_view_module_version": "1.2.0",
            "_model_module": "@jupyter-widgets/controls"
          }
        },
        "b053aacac55c4c81a0b41f2d22e1753b": {
          "model_module": "@jupyter-widgets/base",
          "model_name": "LayoutModel",
          "model_module_version": "1.2.0",
          "state": {
            "_view_name": "LayoutView",
            "grid_template_rows": null,
            "right": null,
            "justify_content": null,
            "_view_module": "@jupyter-widgets/base",
            "overflow": null,
            "_model_module_version": "1.2.0",
            "_view_count": null,
            "flex_flow": null,
            "width": null,
            "min_width": null,
            "border": null,
            "align_items": null,
            "bottom": null,
            "_model_module": "@jupyter-widgets/base",
            "top": null,
            "grid_column": null,
            "overflow_y": null,
            "overflow_x": null,
            "grid_auto_flow": null,
            "grid_area": null,
            "grid_template_columns": null,
            "flex": null,
            "_model_name": "LayoutModel",
            "justify_items": null,
            "grid_row": null,
            "max_height": null,
            "align_content": null,
            "visibility": null,
            "align_self": null,
            "height": null,
            "min_height": null,
            "padding": null,
            "grid_auto_rows": null,
            "grid_gap": null,
            "max_width": null,
            "order": null,
            "_view_module_version": "1.2.0",
            "grid_template_areas": null,
            "object_position": null,
            "object_fit": null,
            "grid_auto_columns": null,
            "margin": null,
            "display": null,
            "left": null
          }
        },
        "80ac8a0069e14fcd98138954c700e33a": {
          "model_module": "@jupyter-widgets/controls",
          "model_name": "ProgressStyleModel",
          "model_module_version": "1.5.0",
          "state": {
            "_view_name": "StyleView",
            "_model_name": "ProgressStyleModel",
            "description_width": "",
            "_view_module": "@jupyter-widgets/base",
            "_model_module_version": "1.5.0",
            "_view_count": null,
            "_view_module_version": "1.2.0",
            "bar_color": null,
            "_model_module": "@jupyter-widgets/controls"
          }
        },
        "47b9244e2da54246996c185b3c14edba": {
          "model_module": "@jupyter-widgets/base",
          "model_name": "LayoutModel",
          "model_module_version": "1.2.0",
          "state": {
            "_view_name": "LayoutView",
            "grid_template_rows": null,
            "right": null,
            "justify_content": null,
            "_view_module": "@jupyter-widgets/base",
            "overflow": null,
            "_model_module_version": "1.2.0",
            "_view_count": null,
            "flex_flow": null,
            "width": null,
            "min_width": null,
            "border": null,
            "align_items": null,
            "bottom": null,
            "_model_module": "@jupyter-widgets/base",
            "top": null,
            "grid_column": null,
            "overflow_y": null,
            "overflow_x": null,
            "grid_auto_flow": null,
            "grid_area": null,
            "grid_template_columns": null,
            "flex": null,
            "_model_name": "LayoutModel",
            "justify_items": null,
            "grid_row": null,
            "max_height": null,
            "align_content": null,
            "visibility": null,
            "align_self": null,
            "height": null,
            "min_height": null,
            "padding": null,
            "grid_auto_rows": null,
            "grid_gap": null,
            "max_width": null,
            "order": null,
            "_view_module_version": "1.2.0",
            "grid_template_areas": null,
            "object_position": null,
            "object_fit": null,
            "grid_auto_columns": null,
            "margin": null,
            "display": null,
            "left": null
          }
        },
        "476e5e0d9243468fa7f00343c41efc9b": {
          "model_module": "@jupyter-widgets/controls",
          "model_name": "DescriptionStyleModel",
          "model_module_version": "1.5.0",
          "state": {
            "_view_name": "StyleView",
            "_model_name": "DescriptionStyleModel",
            "description_width": "",
            "_view_module": "@jupyter-widgets/base",
            "_model_module_version": "1.5.0",
            "_view_count": null,
            "_view_module_version": "1.2.0",
            "_model_module": "@jupyter-widgets/controls"
          }
        },
        "01509d24534541b0ac908537de9bec92": {
          "model_module": "@jupyter-widgets/base",
          "model_name": "LayoutModel",
          "model_module_version": "1.2.0",
          "state": {
            "_view_name": "LayoutView",
            "grid_template_rows": null,
            "right": null,
            "justify_content": null,
            "_view_module": "@jupyter-widgets/base",
            "overflow": null,
            "_model_module_version": "1.2.0",
            "_view_count": null,
            "flex_flow": null,
            "width": null,
            "min_width": null,
            "border": null,
            "align_items": null,
            "bottom": null,
            "_model_module": "@jupyter-widgets/base",
            "top": null,
            "grid_column": null,
            "overflow_y": null,
            "overflow_x": null,
            "grid_auto_flow": null,
            "grid_area": null,
            "grid_template_columns": null,
            "flex": null,
            "_model_name": "LayoutModel",
            "justify_items": null,
            "grid_row": null,
            "max_height": null,
            "align_content": null,
            "visibility": null,
            "align_self": null,
            "height": null,
            "min_height": null,
            "padding": null,
            "grid_auto_rows": null,
            "grid_gap": null,
            "max_width": null,
            "order": null,
            "_view_module_version": "1.2.0",
            "grid_template_areas": null,
            "object_position": null,
            "object_fit": null,
            "grid_auto_columns": null,
            "margin": null,
            "display": null,
            "left": null
          }
        },
        "eaa13d48d7fe498eb9a498e7b5b6768a": {
          "model_module": "@jupyter-widgets/controls",
          "model_name": "HBoxModel",
          "model_module_version": "1.5.0",
          "state": {
            "_view_name": "HBoxView",
            "_dom_classes": [],
            "_model_name": "HBoxModel",
            "_view_module": "@jupyter-widgets/controls",
            "_model_module_version": "1.5.0",
            "_view_count": null,
            "_view_module_version": "1.5.0",
            "box_style": "",
            "layout": "IPY_MODEL_d0e6b79066ca4703a21ea0e34628db18",
            "_model_module": "@jupyter-widgets/controls",
            "children": [
              "IPY_MODEL_6aa105b61fd74787b2a9e08dbb1ddabd",
              "IPY_MODEL_1849141f805048018ba01680673efcda",
              "IPY_MODEL_415ed915b0954b7495df6966635a7ddf"
            ]
          }
        },
        "d0e6b79066ca4703a21ea0e34628db18": {
          "model_module": "@jupyter-widgets/base",
          "model_name": "LayoutModel",
          "model_module_version": "1.2.0",
          "state": {
            "_view_name": "LayoutView",
            "grid_template_rows": null,
            "right": null,
            "justify_content": null,
            "_view_module": "@jupyter-widgets/base",
            "overflow": null,
            "_model_module_version": "1.2.0",
            "_view_count": null,
            "flex_flow": null,
            "width": null,
            "min_width": null,
            "border": null,
            "align_items": null,
            "bottom": null,
            "_model_module": "@jupyter-widgets/base",
            "top": null,
            "grid_column": null,
            "overflow_y": null,
            "overflow_x": null,
            "grid_auto_flow": null,
            "grid_area": null,
            "grid_template_columns": null,
            "flex": null,
            "_model_name": "LayoutModel",
            "justify_items": null,
            "grid_row": null,
            "max_height": null,
            "align_content": null,
            "visibility": null,
            "align_self": null,
            "height": null,
            "min_height": null,
            "padding": null,
            "grid_auto_rows": null,
            "grid_gap": null,
            "max_width": null,
            "order": null,
            "_view_module_version": "1.2.0",
            "grid_template_areas": null,
            "object_position": null,
            "object_fit": null,
            "grid_auto_columns": null,
            "margin": null,
            "display": null,
            "left": null
          }
        },
        "6aa105b61fd74787b2a9e08dbb1ddabd": {
          "model_module": "@jupyter-widgets/controls",
          "model_name": "HTMLModel",
          "model_module_version": "1.5.0",
          "state": {
            "_view_name": "HTMLView",
            "style": "IPY_MODEL_07f0bfeb33a84bbd84f9dbce2c17bbbd",
            "_dom_classes": [],
            "description": "",
            "_model_name": "HTMLModel",
            "placeholder": "​",
            "_view_module": "@jupyter-widgets/controls",
            "_model_module_version": "1.5.0",
            "value": "Downloading: 100%",
            "_view_count": null,
            "_view_module_version": "1.5.0",
            "description_tooltip": null,
            "_model_module": "@jupyter-widgets/controls",
            "layout": "IPY_MODEL_9387c588cb194d6491559da9b5fd38de"
          }
        },
        "1849141f805048018ba01680673efcda": {
          "model_module": "@jupyter-widgets/controls",
          "model_name": "FloatProgressModel",
          "model_module_version": "1.5.0",
          "state": {
            "_view_name": "ProgressView",
            "style": "IPY_MODEL_0bb44e078a1947b190fcaad8384f9dbb",
            "_dom_classes": [],
            "description": "",
            "_model_name": "FloatProgressModel",
            "bar_style": "success",
            "max": 1199,
            "_view_module": "@jupyter-widgets/controls",
            "_model_module_version": "1.5.0",
            "value": 1199,
            "_view_count": null,
            "_view_module_version": "1.5.0",
            "orientation": "horizontal",
            "min": 0,
            "description_tooltip": null,
            "_model_module": "@jupyter-widgets/controls",
            "layout": "IPY_MODEL_94acc20a6254414486f6504d6eefb5bf"
          }
        },
        "415ed915b0954b7495df6966635a7ddf": {
          "model_module": "@jupyter-widgets/controls",
          "model_name": "HTMLModel",
          "model_module_version": "1.5.0",
          "state": {
            "_view_name": "HTMLView",
            "style": "IPY_MODEL_47e6f98aa99f41c4a255f65d1b84f944",
            "_dom_classes": [],
            "description": "",
            "_model_name": "HTMLModel",
            "placeholder": "​",
            "_view_module": "@jupyter-widgets/controls",
            "_model_module_version": "1.5.0",
            "value": " 1.17k/1.17k [00:00&lt;00:00, 37.2kB/s]",
            "_view_count": null,
            "_view_module_version": "1.5.0",
            "description_tooltip": null,
            "_model_module": "@jupyter-widgets/controls",
            "layout": "IPY_MODEL_281177d780e84df2badd182e8a33c6a3"
          }
        },
        "07f0bfeb33a84bbd84f9dbce2c17bbbd": {
          "model_module": "@jupyter-widgets/controls",
          "model_name": "DescriptionStyleModel",
          "model_module_version": "1.5.0",
          "state": {
            "_view_name": "StyleView",
            "_model_name": "DescriptionStyleModel",
            "description_width": "",
            "_view_module": "@jupyter-widgets/base",
            "_model_module_version": "1.5.0",
            "_view_count": null,
            "_view_module_version": "1.2.0",
            "_model_module": "@jupyter-widgets/controls"
          }
        },
        "9387c588cb194d6491559da9b5fd38de": {
          "model_module": "@jupyter-widgets/base",
          "model_name": "LayoutModel",
          "model_module_version": "1.2.0",
          "state": {
            "_view_name": "LayoutView",
            "grid_template_rows": null,
            "right": null,
            "justify_content": null,
            "_view_module": "@jupyter-widgets/base",
            "overflow": null,
            "_model_module_version": "1.2.0",
            "_view_count": null,
            "flex_flow": null,
            "width": null,
            "min_width": null,
            "border": null,
            "align_items": null,
            "bottom": null,
            "_model_module": "@jupyter-widgets/base",
            "top": null,
            "grid_column": null,
            "overflow_y": null,
            "overflow_x": null,
            "grid_auto_flow": null,
            "grid_area": null,
            "grid_template_columns": null,
            "flex": null,
            "_model_name": "LayoutModel",
            "justify_items": null,
            "grid_row": null,
            "max_height": null,
            "align_content": null,
            "visibility": null,
            "align_self": null,
            "height": null,
            "min_height": null,
            "padding": null,
            "grid_auto_rows": null,
            "grid_gap": null,
            "max_width": null,
            "order": null,
            "_view_module_version": "1.2.0",
            "grid_template_areas": null,
            "object_position": null,
            "object_fit": null,
            "grid_auto_columns": null,
            "margin": null,
            "display": null,
            "left": null
          }
        },
        "0bb44e078a1947b190fcaad8384f9dbb": {
          "model_module": "@jupyter-widgets/controls",
          "model_name": "ProgressStyleModel",
          "model_module_version": "1.5.0",
          "state": {
            "_view_name": "StyleView",
            "_model_name": "ProgressStyleModel",
            "description_width": "",
            "_view_module": "@jupyter-widgets/base",
            "_model_module_version": "1.5.0",
            "_view_count": null,
            "_view_module_version": "1.2.0",
            "bar_color": null,
            "_model_module": "@jupyter-widgets/controls"
          }
        },
        "94acc20a6254414486f6504d6eefb5bf": {
          "model_module": "@jupyter-widgets/base",
          "model_name": "LayoutModel",
          "model_module_version": "1.2.0",
          "state": {
            "_view_name": "LayoutView",
            "grid_template_rows": null,
            "right": null,
            "justify_content": null,
            "_view_module": "@jupyter-widgets/base",
            "overflow": null,
            "_model_module_version": "1.2.0",
            "_view_count": null,
            "flex_flow": null,
            "width": null,
            "min_width": null,
            "border": null,
            "align_items": null,
            "bottom": null,
            "_model_module": "@jupyter-widgets/base",
            "top": null,
            "grid_column": null,
            "overflow_y": null,
            "overflow_x": null,
            "grid_auto_flow": null,
            "grid_area": null,
            "grid_template_columns": null,
            "flex": null,
            "_model_name": "LayoutModel",
            "justify_items": null,
            "grid_row": null,
            "max_height": null,
            "align_content": null,
            "visibility": null,
            "align_self": null,
            "height": null,
            "min_height": null,
            "padding": null,
            "grid_auto_rows": null,
            "grid_gap": null,
            "max_width": null,
            "order": null,
            "_view_module_version": "1.2.0",
            "grid_template_areas": null,
            "object_position": null,
            "object_fit": null,
            "grid_auto_columns": null,
            "margin": null,
            "display": null,
            "left": null
          }
        },
        "47e6f98aa99f41c4a255f65d1b84f944": {
          "model_module": "@jupyter-widgets/controls",
          "model_name": "DescriptionStyleModel",
          "model_module_version": "1.5.0",
          "state": {
            "_view_name": "StyleView",
            "_model_name": "DescriptionStyleModel",
            "description_width": "",
            "_view_module": "@jupyter-widgets/base",
            "_model_module_version": "1.5.0",
            "_view_count": null,
            "_view_module_version": "1.2.0",
            "_model_module": "@jupyter-widgets/controls"
          }
        },
        "281177d780e84df2badd182e8a33c6a3": {
          "model_module": "@jupyter-widgets/base",
          "model_name": "LayoutModel",
          "model_module_version": "1.2.0",
          "state": {
            "_view_name": "LayoutView",
            "grid_template_rows": null,
            "right": null,
            "justify_content": null,
            "_view_module": "@jupyter-widgets/base",
            "overflow": null,
            "_model_module_version": "1.2.0",
            "_view_count": null,
            "flex_flow": null,
            "width": null,
            "min_width": null,
            "border": null,
            "align_items": null,
            "bottom": null,
            "_model_module": "@jupyter-widgets/base",
            "top": null,
            "grid_column": null,
            "overflow_y": null,
            "overflow_x": null,
            "grid_auto_flow": null,
            "grid_area": null,
            "grid_template_columns": null,
            "flex": null,
            "_model_name": "LayoutModel",
            "justify_items": null,
            "grid_row": null,
            "max_height": null,
            "align_content": null,
            "visibility": null,
            "align_self": null,
            "height": null,
            "min_height": null,
            "padding": null,
            "grid_auto_rows": null,
            "grid_gap": null,
            "max_width": null,
            "order": null,
            "_view_module_version": "1.2.0",
            "grid_template_areas": null,
            "object_position": null,
            "object_fit": null,
            "grid_auto_columns": null,
            "margin": null,
            "display": null,
            "left": null
          }
        },
        "a9158ec576094e2ab184160dc45a40b2": {
          "model_module": "@jupyter-widgets/controls",
          "model_name": "HBoxModel",
          "model_module_version": "1.5.0",
          "state": {
            "_view_name": "HBoxView",
            "_dom_classes": [],
            "_model_name": "HBoxModel",
            "_view_module": "@jupyter-widgets/controls",
            "_model_module_version": "1.5.0",
            "_view_count": null,
            "_view_module_version": "1.5.0",
            "box_style": "",
            "layout": "IPY_MODEL_09bbff7ecd684ddaab8fe32d10d9d9ce",
            "_model_module": "@jupyter-widgets/controls",
            "children": [
              "IPY_MODEL_c627c8ea62364042b9ee56edf85e0b7c",
              "IPY_MODEL_fc1fa308a9844267808e01b3e82605b9",
              "IPY_MODEL_3a7086cbfde74b869248d80c2297b5f6"
            ]
          }
        },
        "09bbff7ecd684ddaab8fe32d10d9d9ce": {
          "model_module": "@jupyter-widgets/base",
          "model_name": "LayoutModel",
          "model_module_version": "1.2.0",
          "state": {
            "_view_name": "LayoutView",
            "grid_template_rows": null,
            "right": null,
            "justify_content": null,
            "_view_module": "@jupyter-widgets/base",
            "overflow": null,
            "_model_module_version": "1.2.0",
            "_view_count": null,
            "flex_flow": null,
            "width": null,
            "min_width": null,
            "border": null,
            "align_items": null,
            "bottom": null,
            "_model_module": "@jupyter-widgets/base",
            "top": null,
            "grid_column": null,
            "overflow_y": null,
            "overflow_x": null,
            "grid_auto_flow": null,
            "grid_area": null,
            "grid_template_columns": null,
            "flex": null,
            "_model_name": "LayoutModel",
            "justify_items": null,
            "grid_row": null,
            "max_height": null,
            "align_content": null,
            "visibility": null,
            "align_self": null,
            "height": null,
            "min_height": null,
            "padding": null,
            "grid_auto_rows": null,
            "grid_gap": null,
            "max_width": null,
            "order": null,
            "_view_module_version": "1.2.0",
            "grid_template_areas": null,
            "object_position": null,
            "object_fit": null,
            "grid_auto_columns": null,
            "margin": null,
            "display": null,
            "left": null
          }
        },
        "c627c8ea62364042b9ee56edf85e0b7c": {
          "model_module": "@jupyter-widgets/controls",
          "model_name": "HTMLModel",
          "model_module_version": "1.5.0",
          "state": {
            "_view_name": "HTMLView",
            "style": "IPY_MODEL_db154316d24b4a99a5af1faf2b598b81",
            "_dom_classes": [],
            "description": "",
            "_model_name": "HTMLModel",
            "placeholder": "​",
            "_view_module": "@jupyter-widgets/controls",
            "_model_module_version": "1.5.0",
            "value": "100%",
            "_view_count": null,
            "_view_module_version": "1.5.0",
            "description_tooltip": null,
            "_model_module": "@jupyter-widgets/controls",
            "layout": "IPY_MODEL_c7bbe44eeaac45f0be4fb5a6523b28ab"
          }
        },
        "fc1fa308a9844267808e01b3e82605b9": {
          "model_module": "@jupyter-widgets/controls",
          "model_name": "FloatProgressModel",
          "model_module_version": "1.5.0",
          "state": {
            "_view_name": "ProgressView",
            "style": "IPY_MODEL_644b4c28b6004c34bb74739a2b32f00a",
            "_dom_classes": [],
            "description": "",
            "_model_name": "FloatProgressModel",
            "bar_style": "success",
            "max": 1,
            "_view_module": "@jupyter-widgets/controls",
            "_model_module_version": "1.5.0",
            "value": 1,
            "_view_count": null,
            "_view_module_version": "1.5.0",
            "orientation": "horizontal",
            "min": 0,
            "description_tooltip": null,
            "_model_module": "@jupyter-widgets/controls",
            "layout": "IPY_MODEL_8ab40ff6cdd24bcb80caa6d2047afbd1"
          }
        },
        "3a7086cbfde74b869248d80c2297b5f6": {
          "model_module": "@jupyter-widgets/controls",
          "model_name": "HTMLModel",
          "model_module_version": "1.5.0",
          "state": {
            "_view_name": "HTMLView",
            "style": "IPY_MODEL_45b6234406cb413e8d60850d277693e3",
            "_dom_classes": [],
            "description": "",
            "_model_name": "HTMLModel",
            "placeholder": "​",
            "_view_module": "@jupyter-widgets/controls",
            "_model_module_version": "1.5.0",
            "value": " 1/1 [00:00&lt;00:00,  5.12ba/s]",
            "_view_count": null,
            "_view_module_version": "1.5.0",
            "description_tooltip": null,
            "_model_module": "@jupyter-widgets/controls",
            "layout": "IPY_MODEL_6a0e0d661eaa48aa8a1a0c91011a1820"
          }
        },
        "db154316d24b4a99a5af1faf2b598b81": {
          "model_module": "@jupyter-widgets/controls",
          "model_name": "DescriptionStyleModel",
          "model_module_version": "1.5.0",
          "state": {
            "_view_name": "StyleView",
            "_model_name": "DescriptionStyleModel",
            "description_width": "",
            "_view_module": "@jupyter-widgets/base",
            "_model_module_version": "1.5.0",
            "_view_count": null,
            "_view_module_version": "1.2.0",
            "_model_module": "@jupyter-widgets/controls"
          }
        },
        "c7bbe44eeaac45f0be4fb5a6523b28ab": {
          "model_module": "@jupyter-widgets/base",
          "model_name": "LayoutModel",
          "model_module_version": "1.2.0",
          "state": {
            "_view_name": "LayoutView",
            "grid_template_rows": null,
            "right": null,
            "justify_content": null,
            "_view_module": "@jupyter-widgets/base",
            "overflow": null,
            "_model_module_version": "1.2.0",
            "_view_count": null,
            "flex_flow": null,
            "width": null,
            "min_width": null,
            "border": null,
            "align_items": null,
            "bottom": null,
            "_model_module": "@jupyter-widgets/base",
            "top": null,
            "grid_column": null,
            "overflow_y": null,
            "overflow_x": null,
            "grid_auto_flow": null,
            "grid_area": null,
            "grid_template_columns": null,
            "flex": null,
            "_model_name": "LayoutModel",
            "justify_items": null,
            "grid_row": null,
            "max_height": null,
            "align_content": null,
            "visibility": null,
            "align_self": null,
            "height": null,
            "min_height": null,
            "padding": null,
            "grid_auto_rows": null,
            "grid_gap": null,
            "max_width": null,
            "order": null,
            "_view_module_version": "1.2.0",
            "grid_template_areas": null,
            "object_position": null,
            "object_fit": null,
            "grid_auto_columns": null,
            "margin": null,
            "display": null,
            "left": null
          }
        },
        "644b4c28b6004c34bb74739a2b32f00a": {
          "model_module": "@jupyter-widgets/controls",
          "model_name": "ProgressStyleModel",
          "model_module_version": "1.5.0",
          "state": {
            "_view_name": "StyleView",
            "_model_name": "ProgressStyleModel",
            "description_width": "",
            "_view_module": "@jupyter-widgets/base",
            "_model_module_version": "1.5.0",
            "_view_count": null,
            "_view_module_version": "1.2.0",
            "bar_color": null,
            "_model_module": "@jupyter-widgets/controls"
          }
        },
        "8ab40ff6cdd24bcb80caa6d2047afbd1": {
          "model_module": "@jupyter-widgets/base",
          "model_name": "LayoutModel",
          "model_module_version": "1.2.0",
          "state": {
            "_view_name": "LayoutView",
            "grid_template_rows": null,
            "right": null,
            "justify_content": null,
            "_view_module": "@jupyter-widgets/base",
            "overflow": null,
            "_model_module_version": "1.2.0",
            "_view_count": null,
            "flex_flow": null,
            "width": null,
            "min_width": null,
            "border": null,
            "align_items": null,
            "bottom": null,
            "_model_module": "@jupyter-widgets/base",
            "top": null,
            "grid_column": null,
            "overflow_y": null,
            "overflow_x": null,
            "grid_auto_flow": null,
            "grid_area": null,
            "grid_template_columns": null,
            "flex": null,
            "_model_name": "LayoutModel",
            "justify_items": null,
            "grid_row": null,
            "max_height": null,
            "align_content": null,
            "visibility": null,
            "align_self": null,
            "height": null,
            "min_height": null,
            "padding": null,
            "grid_auto_rows": null,
            "grid_gap": null,
            "max_width": null,
            "order": null,
            "_view_module_version": "1.2.0",
            "grid_template_areas": null,
            "object_position": null,
            "object_fit": null,
            "grid_auto_columns": null,
            "margin": null,
            "display": null,
            "left": null
          }
        },
        "45b6234406cb413e8d60850d277693e3": {
          "model_module": "@jupyter-widgets/controls",
          "model_name": "DescriptionStyleModel",
          "model_module_version": "1.5.0",
          "state": {
            "_view_name": "StyleView",
            "_model_name": "DescriptionStyleModel",
            "description_width": "",
            "_view_module": "@jupyter-widgets/base",
            "_model_module_version": "1.5.0",
            "_view_count": null,
            "_view_module_version": "1.2.0",
            "_model_module": "@jupyter-widgets/controls"
          }
        },
        "6a0e0d661eaa48aa8a1a0c91011a1820": {
          "model_module": "@jupyter-widgets/base",
          "model_name": "LayoutModel",
          "model_module_version": "1.2.0",
          "state": {
            "_view_name": "LayoutView",
            "grid_template_rows": null,
            "right": null,
            "justify_content": null,
            "_view_module": "@jupyter-widgets/base",
            "overflow": null,
            "_model_module_version": "1.2.0",
            "_view_count": null,
            "flex_flow": null,
            "width": null,
            "min_width": null,
            "border": null,
            "align_items": null,
            "bottom": null,
            "_model_module": "@jupyter-widgets/base",
            "top": null,
            "grid_column": null,
            "overflow_y": null,
            "overflow_x": null,
            "grid_auto_flow": null,
            "grid_area": null,
            "grid_template_columns": null,
            "flex": null,
            "_model_name": "LayoutModel",
            "justify_items": null,
            "grid_row": null,
            "max_height": null,
            "align_content": null,
            "visibility": null,
            "align_self": null,
            "height": null,
            "min_height": null,
            "padding": null,
            "grid_auto_rows": null,
            "grid_gap": null,
            "max_width": null,
            "order": null,
            "_view_module_version": "1.2.0",
            "grid_template_areas": null,
            "object_position": null,
            "object_fit": null,
            "grid_auto_columns": null,
            "margin": null,
            "display": null,
            "left": null
          }
        },
        "7eafa62a814a41a296ab8f9bf23ecb69": {
          "model_module": "@jupyter-widgets/controls",
          "model_name": "HBoxModel",
          "model_module_version": "1.5.0",
          "state": {
            "_view_name": "HBoxView",
            "_dom_classes": [],
            "_model_name": "HBoxModel",
            "_view_module": "@jupyter-widgets/controls",
            "_model_module_version": "1.5.0",
            "_view_count": null,
            "_view_module_version": "1.5.0",
            "box_style": "",
            "layout": "IPY_MODEL_6ec33c2f6cd34cfd84f5fde1fd067ed5",
            "_model_module": "@jupyter-widgets/controls",
            "children": [
              "IPY_MODEL_ed3784f89a9643fa8542689694287596",
              "IPY_MODEL_41fbd17bcc1c4da6a7216c335c4c93cb",
              "IPY_MODEL_9212bbd775d14627bf2d1c1d227e05b0"
            ]
          }
        },
        "6ec33c2f6cd34cfd84f5fde1fd067ed5": {
          "model_module": "@jupyter-widgets/base",
          "model_name": "LayoutModel",
          "model_module_version": "1.2.0",
          "state": {
            "_view_name": "LayoutView",
            "grid_template_rows": null,
            "right": null,
            "justify_content": null,
            "_view_module": "@jupyter-widgets/base",
            "overflow": null,
            "_model_module_version": "1.2.0",
            "_view_count": null,
            "flex_flow": null,
            "width": null,
            "min_width": null,
            "border": null,
            "align_items": null,
            "bottom": null,
            "_model_module": "@jupyter-widgets/base",
            "top": null,
            "grid_column": null,
            "overflow_y": null,
            "overflow_x": null,
            "grid_auto_flow": null,
            "grid_area": null,
            "grid_template_columns": null,
            "flex": null,
            "_model_name": "LayoutModel",
            "justify_items": null,
            "grid_row": null,
            "max_height": null,
            "align_content": null,
            "visibility": null,
            "align_self": null,
            "height": null,
            "min_height": null,
            "padding": null,
            "grid_auto_rows": null,
            "grid_gap": null,
            "max_width": null,
            "order": null,
            "_view_module_version": "1.2.0",
            "grid_template_areas": null,
            "object_position": null,
            "object_fit": null,
            "grid_auto_columns": null,
            "margin": null,
            "display": null,
            "left": null
          }
        },
        "ed3784f89a9643fa8542689694287596": {
          "model_module": "@jupyter-widgets/controls",
          "model_name": "HTMLModel",
          "model_module_version": "1.5.0",
          "state": {
            "_view_name": "HTMLView",
            "style": "IPY_MODEL_de31a0fc44914b8797b6b1e0a33bcd38",
            "_dom_classes": [],
            "description": "",
            "_model_name": "HTMLModel",
            "placeholder": "​",
            "_view_module": "@jupyter-widgets/controls",
            "_model_module_version": "1.5.0",
            "value": "100%",
            "_view_count": null,
            "_view_module_version": "1.5.0",
            "description_tooltip": null,
            "_model_module": "@jupyter-widgets/controls",
            "layout": "IPY_MODEL_810631a41c2c4d038822e0a23a0e8d8c"
          }
        },
        "41fbd17bcc1c4da6a7216c335c4c93cb": {
          "model_module": "@jupyter-widgets/controls",
          "model_name": "FloatProgressModel",
          "model_module_version": "1.5.0",
          "state": {
            "_view_name": "ProgressView",
            "style": "IPY_MODEL_8f0a9cccd2cf4c5f9f35f32b77e11d21",
            "_dom_classes": [],
            "description": "",
            "_model_name": "FloatProgressModel",
            "bar_style": "success",
            "max": 1,
            "_view_module": "@jupyter-widgets/controls",
            "_model_module_version": "1.5.0",
            "value": 1,
            "_view_count": null,
            "_view_module_version": "1.5.0",
            "orientation": "horizontal",
            "min": 0,
            "description_tooltip": null,
            "_model_module": "@jupyter-widgets/controls",
            "layout": "IPY_MODEL_6e41ed70246d45a48e61634f0baafedf"
          }
        },
        "9212bbd775d14627bf2d1c1d227e05b0": {
          "model_module": "@jupyter-widgets/controls",
          "model_name": "HTMLModel",
          "model_module_version": "1.5.0",
          "state": {
            "_view_name": "HTMLView",
            "style": "IPY_MODEL_460b9f7189c445ee8f0ed21dc90a890d",
            "_dom_classes": [],
            "description": "",
            "_model_name": "HTMLModel",
            "placeholder": "​",
            "_view_module": "@jupyter-widgets/controls",
            "_model_module_version": "1.5.0",
            "value": " 1/1 [00:00&lt;00:00,  3.51ba/s]",
            "_view_count": null,
            "_view_module_version": "1.5.0",
            "description_tooltip": null,
            "_model_module": "@jupyter-widgets/controls",
            "layout": "IPY_MODEL_e5b6b255cb654964b791d161b98b1c41"
          }
        },
        "de31a0fc44914b8797b6b1e0a33bcd38": {
          "model_module": "@jupyter-widgets/controls",
          "model_name": "DescriptionStyleModel",
          "model_module_version": "1.5.0",
          "state": {
            "_view_name": "StyleView",
            "_model_name": "DescriptionStyleModel",
            "description_width": "",
            "_view_module": "@jupyter-widgets/base",
            "_model_module_version": "1.5.0",
            "_view_count": null,
            "_view_module_version": "1.2.0",
            "_model_module": "@jupyter-widgets/controls"
          }
        },
        "810631a41c2c4d038822e0a23a0e8d8c": {
          "model_module": "@jupyter-widgets/base",
          "model_name": "LayoutModel",
          "model_module_version": "1.2.0",
          "state": {
            "_view_name": "LayoutView",
            "grid_template_rows": null,
            "right": null,
            "justify_content": null,
            "_view_module": "@jupyter-widgets/base",
            "overflow": null,
            "_model_module_version": "1.2.0",
            "_view_count": null,
            "flex_flow": null,
            "width": null,
            "min_width": null,
            "border": null,
            "align_items": null,
            "bottom": null,
            "_model_module": "@jupyter-widgets/base",
            "top": null,
            "grid_column": null,
            "overflow_y": null,
            "overflow_x": null,
            "grid_auto_flow": null,
            "grid_area": null,
            "grid_template_columns": null,
            "flex": null,
            "_model_name": "LayoutModel",
            "justify_items": null,
            "grid_row": null,
            "max_height": null,
            "align_content": null,
            "visibility": null,
            "align_self": null,
            "height": null,
            "min_height": null,
            "padding": null,
            "grid_auto_rows": null,
            "grid_gap": null,
            "max_width": null,
            "order": null,
            "_view_module_version": "1.2.0",
            "grid_template_areas": null,
            "object_position": null,
            "object_fit": null,
            "grid_auto_columns": null,
            "margin": null,
            "display": null,
            "left": null
          }
        },
        "8f0a9cccd2cf4c5f9f35f32b77e11d21": {
          "model_module": "@jupyter-widgets/controls",
          "model_name": "ProgressStyleModel",
          "model_module_version": "1.5.0",
          "state": {
            "_view_name": "StyleView",
            "_model_name": "ProgressStyleModel",
            "description_width": "",
            "_view_module": "@jupyter-widgets/base",
            "_model_module_version": "1.5.0",
            "_view_count": null,
            "_view_module_version": "1.2.0",
            "bar_color": null,
            "_model_module": "@jupyter-widgets/controls"
          }
        },
        "6e41ed70246d45a48e61634f0baafedf": {
          "model_module": "@jupyter-widgets/base",
          "model_name": "LayoutModel",
          "model_module_version": "1.2.0",
          "state": {
            "_view_name": "LayoutView",
            "grid_template_rows": null,
            "right": null,
            "justify_content": null,
            "_view_module": "@jupyter-widgets/base",
            "overflow": null,
            "_model_module_version": "1.2.0",
            "_view_count": null,
            "flex_flow": null,
            "width": null,
            "min_width": null,
            "border": null,
            "align_items": null,
            "bottom": null,
            "_model_module": "@jupyter-widgets/base",
            "top": null,
            "grid_column": null,
            "overflow_y": null,
            "overflow_x": null,
            "grid_auto_flow": null,
            "grid_area": null,
            "grid_template_columns": null,
            "flex": null,
            "_model_name": "LayoutModel",
            "justify_items": null,
            "grid_row": null,
            "max_height": null,
            "align_content": null,
            "visibility": null,
            "align_self": null,
            "height": null,
            "min_height": null,
            "padding": null,
            "grid_auto_rows": null,
            "grid_gap": null,
            "max_width": null,
            "order": null,
            "_view_module_version": "1.2.0",
            "grid_template_areas": null,
            "object_position": null,
            "object_fit": null,
            "grid_auto_columns": null,
            "margin": null,
            "display": null,
            "left": null
          }
        },
        "460b9f7189c445ee8f0ed21dc90a890d": {
          "model_module": "@jupyter-widgets/controls",
          "model_name": "DescriptionStyleModel",
          "model_module_version": "1.5.0",
          "state": {
            "_view_name": "StyleView",
            "_model_name": "DescriptionStyleModel",
            "description_width": "",
            "_view_module": "@jupyter-widgets/base",
            "_model_module_version": "1.5.0",
            "_view_count": null,
            "_view_module_version": "1.2.0",
            "_model_module": "@jupyter-widgets/controls"
          }
        },
        "e5b6b255cb654964b791d161b98b1c41": {
          "model_module": "@jupyter-widgets/base",
          "model_name": "LayoutModel",
          "model_module_version": "1.2.0",
          "state": {
            "_view_name": "LayoutView",
            "grid_template_rows": null,
            "right": null,
            "justify_content": null,
            "_view_module": "@jupyter-widgets/base",
            "overflow": null,
            "_model_module_version": "1.2.0",
            "_view_count": null,
            "flex_flow": null,
            "width": null,
            "min_width": null,
            "border": null,
            "align_items": null,
            "bottom": null,
            "_model_module": "@jupyter-widgets/base",
            "top": null,
            "grid_column": null,
            "overflow_y": null,
            "overflow_x": null,
            "grid_auto_flow": null,
            "grid_area": null,
            "grid_template_columns": null,
            "flex": null,
            "_model_name": "LayoutModel",
            "justify_items": null,
            "grid_row": null,
            "max_height": null,
            "align_content": null,
            "visibility": null,
            "align_self": null,
            "height": null,
            "min_height": null,
            "padding": null,
            "grid_auto_rows": null,
            "grid_gap": null,
            "max_width": null,
            "order": null,
            "_view_module_version": "1.2.0",
            "grid_template_areas": null,
            "object_position": null,
            "object_fit": null,
            "grid_auto_columns": null,
            "margin": null,
            "display": null,
            "left": null
          }
        },
        "45ba5fd94ae44c6ca2ef6a5accf11286": {
          "model_module": "@jupyter-widgets/controls",
          "model_name": "HBoxModel",
          "model_module_version": "1.5.0",
          "state": {
            "_view_name": "HBoxView",
            "_dom_classes": [],
            "_model_name": "HBoxModel",
            "_view_module": "@jupyter-widgets/controls",
            "_model_module_version": "1.5.0",
            "_view_count": null,
            "_view_module_version": "1.5.0",
            "box_style": "",
            "layout": "IPY_MODEL_9e182a81101e4f52991badb075e50a54",
            "_model_module": "@jupyter-widgets/controls",
            "children": [
              "IPY_MODEL_02f8263734a04d318bc35b619ab2ffbd",
              "IPY_MODEL_83eb557a8b9a445a980e27baa9b9d135",
              "IPY_MODEL_bff90370e95344438248afacdacd1d21"
            ]
          }
        },
        "9e182a81101e4f52991badb075e50a54": {
          "model_module": "@jupyter-widgets/base",
          "model_name": "LayoutModel",
          "model_module_version": "1.2.0",
          "state": {
            "_view_name": "LayoutView",
            "grid_template_rows": null,
            "right": null,
            "justify_content": null,
            "_view_module": "@jupyter-widgets/base",
            "overflow": null,
            "_model_module_version": "1.2.0",
            "_view_count": null,
            "flex_flow": null,
            "width": null,
            "min_width": null,
            "border": null,
            "align_items": null,
            "bottom": null,
            "_model_module": "@jupyter-widgets/base",
            "top": null,
            "grid_column": null,
            "overflow_y": null,
            "overflow_x": null,
            "grid_auto_flow": null,
            "grid_area": null,
            "grid_template_columns": null,
            "flex": null,
            "_model_name": "LayoutModel",
            "justify_items": null,
            "grid_row": null,
            "max_height": null,
            "align_content": null,
            "visibility": null,
            "align_self": null,
            "height": null,
            "min_height": null,
            "padding": null,
            "grid_auto_rows": null,
            "grid_gap": null,
            "max_width": null,
            "order": null,
            "_view_module_version": "1.2.0",
            "grid_template_areas": null,
            "object_position": null,
            "object_fit": null,
            "grid_auto_columns": null,
            "margin": null,
            "display": null,
            "left": null
          }
        },
        "02f8263734a04d318bc35b619ab2ffbd": {
          "model_module": "@jupyter-widgets/controls",
          "model_name": "HTMLModel",
          "model_module_version": "1.5.0",
          "state": {
            "_view_name": "HTMLView",
            "style": "IPY_MODEL_faf5f8e7b80849649bbb83ffc26955c3",
            "_dom_classes": [],
            "description": "",
            "_model_name": "HTMLModel",
            "placeholder": "​",
            "_view_module": "@jupyter-widgets/controls",
            "_model_module_version": "1.5.0",
            "value": "100%",
            "_view_count": null,
            "_view_module_version": "1.5.0",
            "description_tooltip": null,
            "_model_module": "@jupyter-widgets/controls",
            "layout": "IPY_MODEL_4b65bb14ba3c4076bffafe13c100239d"
          }
        },
        "83eb557a8b9a445a980e27baa9b9d135": {
          "model_module": "@jupyter-widgets/controls",
          "model_name": "FloatProgressModel",
          "model_module_version": "1.5.0",
          "state": {
            "_view_name": "ProgressView",
            "style": "IPY_MODEL_cbe003417c3f4e70ae521c9bb3b5be51",
            "_dom_classes": [],
            "description": "",
            "_model_name": "FloatProgressModel",
            "bar_style": "success",
            "max": 3,
            "_view_module": "@jupyter-widgets/controls",
            "_model_module_version": "1.5.0",
            "value": 3,
            "_view_count": null,
            "_view_module_version": "1.5.0",
            "orientation": "horizontal",
            "min": 0,
            "description_tooltip": null,
            "_model_module": "@jupyter-widgets/controls",
            "layout": "IPY_MODEL_71b2cf46c11f40c897ed90dc8998923f"
          }
        },
        "bff90370e95344438248afacdacd1d21": {
          "model_module": "@jupyter-widgets/controls",
          "model_name": "HTMLModel",
          "model_module_version": "1.5.0",
          "state": {
            "_view_name": "HTMLView",
            "style": "IPY_MODEL_a40015e4e2024b0eaa7a57d3aa34ec2a",
            "_dom_classes": [],
            "description": "",
            "_model_name": "HTMLModel",
            "placeholder": "​",
            "_view_module": "@jupyter-widgets/controls",
            "_model_module_version": "1.5.0",
            "value": " 3/3 [00:00&lt;00:00, 56.39it/s]",
            "_view_count": null,
            "_view_module_version": "1.5.0",
            "description_tooltip": null,
            "_model_module": "@jupyter-widgets/controls",
            "layout": "IPY_MODEL_95853d0dcc8f4ec2b909a37ee86413ee"
          }
        },
        "faf5f8e7b80849649bbb83ffc26955c3": {
          "model_module": "@jupyter-widgets/controls",
          "model_name": "DescriptionStyleModel",
          "model_module_version": "1.5.0",
          "state": {
            "_view_name": "StyleView",
            "_model_name": "DescriptionStyleModel",
            "description_width": "",
            "_view_module": "@jupyter-widgets/base",
            "_model_module_version": "1.5.0",
            "_view_count": null,
            "_view_module_version": "1.2.0",
            "_model_module": "@jupyter-widgets/controls"
          }
        },
        "4b65bb14ba3c4076bffafe13c100239d": {
          "model_module": "@jupyter-widgets/base",
          "model_name": "LayoutModel",
          "model_module_version": "1.2.0",
          "state": {
            "_view_name": "LayoutView",
            "grid_template_rows": null,
            "right": null,
            "justify_content": null,
            "_view_module": "@jupyter-widgets/base",
            "overflow": null,
            "_model_module_version": "1.2.0",
            "_view_count": null,
            "flex_flow": null,
            "width": null,
            "min_width": null,
            "border": null,
            "align_items": null,
            "bottom": null,
            "_model_module": "@jupyter-widgets/base",
            "top": null,
            "grid_column": null,
            "overflow_y": null,
            "overflow_x": null,
            "grid_auto_flow": null,
            "grid_area": null,
            "grid_template_columns": null,
            "flex": null,
            "_model_name": "LayoutModel",
            "justify_items": null,
            "grid_row": null,
            "max_height": null,
            "align_content": null,
            "visibility": null,
            "align_self": null,
            "height": null,
            "min_height": null,
            "padding": null,
            "grid_auto_rows": null,
            "grid_gap": null,
            "max_width": null,
            "order": null,
            "_view_module_version": "1.2.0",
            "grid_template_areas": null,
            "object_position": null,
            "object_fit": null,
            "grid_auto_columns": null,
            "margin": null,
            "display": null,
            "left": null
          }
        },
        "cbe003417c3f4e70ae521c9bb3b5be51": {
          "model_module": "@jupyter-widgets/controls",
          "model_name": "ProgressStyleModel",
          "model_module_version": "1.5.0",
          "state": {
            "_view_name": "StyleView",
            "_model_name": "ProgressStyleModel",
            "description_width": "",
            "_view_module": "@jupyter-widgets/base",
            "_model_module_version": "1.5.0",
            "_view_count": null,
            "_view_module_version": "1.2.0",
            "bar_color": null,
            "_model_module": "@jupyter-widgets/controls"
          }
        },
        "71b2cf46c11f40c897ed90dc8998923f": {
          "model_module": "@jupyter-widgets/base",
          "model_name": "LayoutModel",
          "model_module_version": "1.2.0",
          "state": {
            "_view_name": "LayoutView",
            "grid_template_rows": null,
            "right": null,
            "justify_content": null,
            "_view_module": "@jupyter-widgets/base",
            "overflow": null,
            "_model_module_version": "1.2.0",
            "_view_count": null,
            "flex_flow": null,
            "width": null,
            "min_width": null,
            "border": null,
            "align_items": null,
            "bottom": null,
            "_model_module": "@jupyter-widgets/base",
            "top": null,
            "grid_column": null,
            "overflow_y": null,
            "overflow_x": null,
            "grid_auto_flow": null,
            "grid_area": null,
            "grid_template_columns": null,
            "flex": null,
            "_model_name": "LayoutModel",
            "justify_items": null,
            "grid_row": null,
            "max_height": null,
            "align_content": null,
            "visibility": null,
            "align_self": null,
            "height": null,
            "min_height": null,
            "padding": null,
            "grid_auto_rows": null,
            "grid_gap": null,
            "max_width": null,
            "order": null,
            "_view_module_version": "1.2.0",
            "grid_template_areas": null,
            "object_position": null,
            "object_fit": null,
            "grid_auto_columns": null,
            "margin": null,
            "display": null,
            "left": null
          }
        },
        "a40015e4e2024b0eaa7a57d3aa34ec2a": {
          "model_module": "@jupyter-widgets/controls",
          "model_name": "DescriptionStyleModel",
          "model_module_version": "1.5.0",
          "state": {
            "_view_name": "StyleView",
            "_model_name": "DescriptionStyleModel",
            "description_width": "",
            "_view_module": "@jupyter-widgets/base",
            "_model_module_version": "1.5.0",
            "_view_count": null,
            "_view_module_version": "1.2.0",
            "_model_module": "@jupyter-widgets/controls"
          }
        },
        "95853d0dcc8f4ec2b909a37ee86413ee": {
          "model_module": "@jupyter-widgets/base",
          "model_name": "LayoutModel",
          "model_module_version": "1.2.0",
          "state": {
            "_view_name": "LayoutView",
            "grid_template_rows": null,
            "right": null,
            "justify_content": null,
            "_view_module": "@jupyter-widgets/base",
            "overflow": null,
            "_model_module_version": "1.2.0",
            "_view_count": null,
            "flex_flow": null,
            "width": null,
            "min_width": null,
            "border": null,
            "align_items": null,
            "bottom": null,
            "_model_module": "@jupyter-widgets/base",
            "top": null,
            "grid_column": null,
            "overflow_y": null,
            "overflow_x": null,
            "grid_auto_flow": null,
            "grid_area": null,
            "grid_template_columns": null,
            "flex": null,
            "_model_name": "LayoutModel",
            "justify_items": null,
            "grid_row": null,
            "max_height": null,
            "align_content": null,
            "visibility": null,
            "align_self": null,
            "height": null,
            "min_height": null,
            "padding": null,
            "grid_auto_rows": null,
            "grid_gap": null,
            "max_width": null,
            "order": null,
            "_view_module_version": "1.2.0",
            "grid_template_areas": null,
            "object_position": null,
            "object_fit": null,
            "grid_auto_columns": null,
            "margin": null,
            "display": null,
            "left": null
          }
        },
        "066361518d704ca5a123add2b0473a74": {
          "model_module": "@jupyter-widgets/controls",
          "model_name": "HBoxModel",
          "model_module_version": "1.5.0",
          "state": {
            "_view_name": "HBoxView",
            "_dom_classes": [],
            "_model_name": "HBoxModel",
            "_view_module": "@jupyter-widgets/controls",
            "_model_module_version": "1.5.0",
            "_view_count": null,
            "_view_module_version": "1.5.0",
            "box_style": "",
            "layout": "IPY_MODEL_37a678f5882349699ea51286603fc121",
            "_model_module": "@jupyter-widgets/controls",
            "children": [
              "IPY_MODEL_64ae47459f6b4f7e86a1ac902236572b",
              "IPY_MODEL_37bd0de2f5c743c2880d2448565e07d4",
              "IPY_MODEL_68e0da8b5e4046cb9ca50ac4263e694f"
            ]
          }
        },
        "37a678f5882349699ea51286603fc121": {
          "model_module": "@jupyter-widgets/base",
          "model_name": "LayoutModel",
          "model_module_version": "1.2.0",
          "state": {
            "_view_name": "LayoutView",
            "grid_template_rows": null,
            "right": null,
            "justify_content": null,
            "_view_module": "@jupyter-widgets/base",
            "overflow": null,
            "_model_module_version": "1.2.0",
            "_view_count": null,
            "flex_flow": null,
            "width": null,
            "min_width": null,
            "border": null,
            "align_items": null,
            "bottom": null,
            "_model_module": "@jupyter-widgets/base",
            "top": null,
            "grid_column": null,
            "overflow_y": null,
            "overflow_x": null,
            "grid_auto_flow": null,
            "grid_area": null,
            "grid_template_columns": null,
            "flex": null,
            "_model_name": "LayoutModel",
            "justify_items": null,
            "grid_row": null,
            "max_height": null,
            "align_content": null,
            "visibility": null,
            "align_self": null,
            "height": null,
            "min_height": null,
            "padding": null,
            "grid_auto_rows": null,
            "grid_gap": null,
            "max_width": null,
            "order": null,
            "_view_module_version": "1.2.0",
            "grid_template_areas": null,
            "object_position": null,
            "object_fit": null,
            "grid_auto_columns": null,
            "margin": null,
            "display": null,
            "left": null
          }
        },
        "64ae47459f6b4f7e86a1ac902236572b": {
          "model_module": "@jupyter-widgets/controls",
          "model_name": "HTMLModel",
          "model_module_version": "1.5.0",
          "state": {
            "_view_name": "HTMLView",
            "style": "IPY_MODEL_0bc74a15e32c47e0a7de9833302eb86c",
            "_dom_classes": [],
            "description": "",
            "_model_name": "HTMLModel",
            "placeholder": "​",
            "_view_module": "@jupyter-widgets/controls",
            "_model_module_version": "1.5.0",
            "value": "100%",
            "_view_count": null,
            "_view_module_version": "1.5.0",
            "description_tooltip": null,
            "_model_module": "@jupyter-widgets/controls",
            "layout": "IPY_MODEL_f51ae547447e4b8a9e23b47529b60b4c"
          }
        },
        "37bd0de2f5c743c2880d2448565e07d4": {
          "model_module": "@jupyter-widgets/controls",
          "model_name": "FloatProgressModel",
          "model_module_version": "1.5.0",
          "state": {
            "_view_name": "ProgressView",
            "style": "IPY_MODEL_14a9a8f6b6664275af6f2f0dfd508986",
            "_dom_classes": [],
            "description": "",
            "_model_name": "FloatProgressModel",
            "bar_style": "success",
            "max": 1,
            "_view_module": "@jupyter-widgets/controls",
            "_model_module_version": "1.5.0",
            "value": 1,
            "_view_count": null,
            "_view_module_version": "1.5.0",
            "orientation": "horizontal",
            "min": 0,
            "description_tooltip": null,
            "_model_module": "@jupyter-widgets/controls",
            "layout": "IPY_MODEL_3da7c9e7475e4e01a8262097b9561706"
          }
        },
        "68e0da8b5e4046cb9ca50ac4263e694f": {
          "model_module": "@jupyter-widgets/controls",
          "model_name": "HTMLModel",
          "model_module_version": "1.5.0",
          "state": {
            "_view_name": "HTMLView",
            "style": "IPY_MODEL_fb9ed12554b84344920826f055292ecf",
            "_dom_classes": [],
            "description": "",
            "_model_name": "HTMLModel",
            "placeholder": "​",
            "_view_module": "@jupyter-widgets/controls",
            "_model_module_version": "1.5.0",
            "value": " 1/1 [00:00&lt;00:00,  3.87ba/s]",
            "_view_count": null,
            "_view_module_version": "1.5.0",
            "description_tooltip": null,
            "_model_module": "@jupyter-widgets/controls",
            "layout": "IPY_MODEL_125b948d2847423db2196b78b7362d67"
          }
        },
        "0bc74a15e32c47e0a7de9833302eb86c": {
          "model_module": "@jupyter-widgets/controls",
          "model_name": "DescriptionStyleModel",
          "model_module_version": "1.5.0",
          "state": {
            "_view_name": "StyleView",
            "_model_name": "DescriptionStyleModel",
            "description_width": "",
            "_view_module": "@jupyter-widgets/base",
            "_model_module_version": "1.5.0",
            "_view_count": null,
            "_view_module_version": "1.2.0",
            "_model_module": "@jupyter-widgets/controls"
          }
        },
        "f51ae547447e4b8a9e23b47529b60b4c": {
          "model_module": "@jupyter-widgets/base",
          "model_name": "LayoutModel",
          "model_module_version": "1.2.0",
          "state": {
            "_view_name": "LayoutView",
            "grid_template_rows": null,
            "right": null,
            "justify_content": null,
            "_view_module": "@jupyter-widgets/base",
            "overflow": null,
            "_model_module_version": "1.2.0",
            "_view_count": null,
            "flex_flow": null,
            "width": null,
            "min_width": null,
            "border": null,
            "align_items": null,
            "bottom": null,
            "_model_module": "@jupyter-widgets/base",
            "top": null,
            "grid_column": null,
            "overflow_y": null,
            "overflow_x": null,
            "grid_auto_flow": null,
            "grid_area": null,
            "grid_template_columns": null,
            "flex": null,
            "_model_name": "LayoutModel",
            "justify_items": null,
            "grid_row": null,
            "max_height": null,
            "align_content": null,
            "visibility": null,
            "align_self": null,
            "height": null,
            "min_height": null,
            "padding": null,
            "grid_auto_rows": null,
            "grid_gap": null,
            "max_width": null,
            "order": null,
            "_view_module_version": "1.2.0",
            "grid_template_areas": null,
            "object_position": null,
            "object_fit": null,
            "grid_auto_columns": null,
            "margin": null,
            "display": null,
            "left": null
          }
        },
        "14a9a8f6b6664275af6f2f0dfd508986": {
          "model_module": "@jupyter-widgets/controls",
          "model_name": "ProgressStyleModel",
          "model_module_version": "1.5.0",
          "state": {
            "_view_name": "StyleView",
            "_model_name": "ProgressStyleModel",
            "description_width": "",
            "_view_module": "@jupyter-widgets/base",
            "_model_module_version": "1.5.0",
            "_view_count": null,
            "_view_module_version": "1.2.0",
            "bar_color": null,
            "_model_module": "@jupyter-widgets/controls"
          }
        },
        "3da7c9e7475e4e01a8262097b9561706": {
          "model_module": "@jupyter-widgets/base",
          "model_name": "LayoutModel",
          "model_module_version": "1.2.0",
          "state": {
            "_view_name": "LayoutView",
            "grid_template_rows": null,
            "right": null,
            "justify_content": null,
            "_view_module": "@jupyter-widgets/base",
            "overflow": null,
            "_model_module_version": "1.2.0",
            "_view_count": null,
            "flex_flow": null,
            "width": null,
            "min_width": null,
            "border": null,
            "align_items": null,
            "bottom": null,
            "_model_module": "@jupyter-widgets/base",
            "top": null,
            "grid_column": null,
            "overflow_y": null,
            "overflow_x": null,
            "grid_auto_flow": null,
            "grid_area": null,
            "grid_template_columns": null,
            "flex": null,
            "_model_name": "LayoutModel",
            "justify_items": null,
            "grid_row": null,
            "max_height": null,
            "align_content": null,
            "visibility": null,
            "align_self": null,
            "height": null,
            "min_height": null,
            "padding": null,
            "grid_auto_rows": null,
            "grid_gap": null,
            "max_width": null,
            "order": null,
            "_view_module_version": "1.2.0",
            "grid_template_areas": null,
            "object_position": null,
            "object_fit": null,
            "grid_auto_columns": null,
            "margin": null,
            "display": null,
            "left": null
          }
        },
        "fb9ed12554b84344920826f055292ecf": {
          "model_module": "@jupyter-widgets/controls",
          "model_name": "DescriptionStyleModel",
          "model_module_version": "1.5.0",
          "state": {
            "_view_name": "StyleView",
            "_model_name": "DescriptionStyleModel",
            "description_width": "",
            "_view_module": "@jupyter-widgets/base",
            "_model_module_version": "1.5.0",
            "_view_count": null,
            "_view_module_version": "1.2.0",
            "_model_module": "@jupyter-widgets/controls"
          }
        },
        "125b948d2847423db2196b78b7362d67": {
          "model_module": "@jupyter-widgets/base",
          "model_name": "LayoutModel",
          "model_module_version": "1.2.0",
          "state": {
            "_view_name": "LayoutView",
            "grid_template_rows": null,
            "right": null,
            "justify_content": null,
            "_view_module": "@jupyter-widgets/base",
            "overflow": null,
            "_model_module_version": "1.2.0",
            "_view_count": null,
            "flex_flow": null,
            "width": null,
            "min_width": null,
            "border": null,
            "align_items": null,
            "bottom": null,
            "_model_module": "@jupyter-widgets/base",
            "top": null,
            "grid_column": null,
            "overflow_y": null,
            "overflow_x": null,
            "grid_auto_flow": null,
            "grid_area": null,
            "grid_template_columns": null,
            "flex": null,
            "_model_name": "LayoutModel",
            "justify_items": null,
            "grid_row": null,
            "max_height": null,
            "align_content": null,
            "visibility": null,
            "align_self": null,
            "height": null,
            "min_height": null,
            "padding": null,
            "grid_auto_rows": null,
            "grid_gap": null,
            "max_width": null,
            "order": null,
            "_view_module_version": "1.2.0",
            "grid_template_areas": null,
            "object_position": null,
            "object_fit": null,
            "grid_auto_columns": null,
            "margin": null,
            "display": null,
            "left": null
          }
        }
      }
    }
  },
  "cells": [
    {
      "cell_type": "markdown",
      "metadata": {
        "id": "EUGbYz84pdUH"
      },
      "source": [
        "# Dataset Overview for T5-base tokenizer"
      ]
    },
    {
      "cell_type": "code",
      "metadata": {
        "id": "MOsHUjgdIrIW"
      },
      "source": [
        "#Install essential packages\n",
        "%%capture\n",
        "!pip install datasets\n",
        "!pip install transformers\n",
        "\n",
        "!apt install git-lfs"
      ],
      "execution_count": 1,
      "outputs": []
    },
    {
      "cell_type": "code",
      "metadata": {
        "id": "glZC8RTP0UHU"
      },
      "source": [
        "# Make sure your version of Transformers is at 4.11.0\n",
        "# to run the following code correctly:\n",
        "import datasets\n",
        "import transformers"
      ],
      "execution_count": 2,
      "outputs": []
    },
    {
      "cell_type": "code",
      "source": [
        "from transformers import T5TokenizerFast\n",
        "\n",
        "tokenizer = T5TokenizerFast.from_pretrained(\"t5-base\")"
      ],
      "metadata": {
        "colab": {
          "base_uri": "https://localhost:8080/",
          "height": 113,
          "referenced_widgets": [
            "589a291b78954e06948c2cbc67df0842",
            "3a29a48745bf4b18b26218ec2e5e2e80",
            "dd1ba2c21bd2439399192fb7c80f0692",
            "6b0718a227c54289b8751b195323f02a",
            "7ccb5773a8ca4736900719e41a6c2b81",
            "de92e3ab4d704df68553ffbbbce84ed8",
            "61a2126aef734648ae889bd1918c59ea",
            "93726938643541b3ad0307438b66c831",
            "77b5a8ef835e48dba022c738f7d5ef2b",
            "8287f225e8874345b201a2242918a4dc",
            "9516cdd34fa8455d8a37f83ee7f5dce5",
            "83ab957fa0474878ad679020a9c56ddb",
            "e211e0cfbc5a4c838f95a8b5b5368076",
            "076f7090bd82449ea99c65a1efd84e41",
            "afee14faa2db43698a7e15a137e16d70",
            "460f3ff3998a4bdc8c793ba20f689f7e",
            "892dd09bb23244baaf93a7c559fc70e1",
            "b053aacac55c4c81a0b41f2d22e1753b",
            "80ac8a0069e14fcd98138954c700e33a",
            "47b9244e2da54246996c185b3c14edba",
            "476e5e0d9243468fa7f00343c41efc9b",
            "01509d24534541b0ac908537de9bec92",
            "eaa13d48d7fe498eb9a498e7b5b6768a",
            "d0e6b79066ca4703a21ea0e34628db18",
            "6aa105b61fd74787b2a9e08dbb1ddabd",
            "1849141f805048018ba01680673efcda",
            "415ed915b0954b7495df6966635a7ddf",
            "07f0bfeb33a84bbd84f9dbce2c17bbbd",
            "9387c588cb194d6491559da9b5fd38de",
            "0bb44e078a1947b190fcaad8384f9dbb",
            "94acc20a6254414486f6504d6eefb5bf",
            "47e6f98aa99f41c4a255f65d1b84f944",
            "281177d780e84df2badd182e8a33c6a3"
          ]
        },
        "id": "uqNlmSGKSmIr",
        "outputId": "51bebc19-7766-49ee-c552-4a247854e6ee"
      },
      "execution_count": 3,
      "outputs": [
        {
          "output_type": "display_data",
          "data": {
            "application/vnd.jupyter.widget-view+json": {
              "model_id": "589a291b78954e06948c2cbc67df0842",
              "version_minor": 0,
              "version_major": 2
            },
            "text/plain": [
              "Downloading:   0%|          | 0.00/773k [00:00<?, ?B/s]"
            ]
          },
          "metadata": {}
        },
        {
          "output_type": "display_data",
          "data": {
            "application/vnd.jupyter.widget-view+json": {
              "model_id": "83ab957fa0474878ad679020a9c56ddb",
              "version_minor": 0,
              "version_major": 2
            },
            "text/plain": [
              "Downloading:   0%|          | 0.00/1.32M [00:00<?, ?B/s]"
            ]
          },
          "metadata": {}
        },
        {
          "output_type": "display_data",
          "data": {
            "application/vnd.jupyter.widget-view+json": {
              "model_id": "eaa13d48d7fe498eb9a498e7b5b6768a",
              "version_minor": 0,
              "version_major": 2
            },
            "text/plain": [
              "Downloading:   0%|          | 0.00/1.17k [00:00<?, ?B/s]"
            ]
          },
          "metadata": {}
        }
      ]
    },
    {
      "cell_type": "markdown",
      "metadata": {
        "id": "whPRbBNbIrIl"
      },
      "source": [
        "##XSum"
      ]
    },
    {
      "cell_type": "code",
      "metadata": {
        "id": "IreSlFmlIrIm",
        "colab": {
          "base_uri": "https://localhost:8080/"
        },
        "outputId": "3ddb436a-b70c-4a08-fb76-2aa1e303b028"
      },
      "source": [
        "# import dataset and metrics with huggingface\n",
        "train_xsum = datasets.load_dataset(\"xsum\", split=\"train\")"
      ],
      "execution_count": 4,
      "outputs": [
        {
          "output_type": "stream",
          "name": "stderr",
          "text": [
            "Using custom data configuration default\n",
            "Reusing dataset xsum (/root/.cache/huggingface/datasets/xsum/default/1.2.0/32c23220eadddb1149b16ed2e9430a05293768cfffbdfd151058697d4c11f934)\n"
          ]
        }
      ]
    },
    {
      "cell_type": "code",
      "source": [
        "train_xsum"
      ],
      "metadata": {
        "colab": {
          "base_uri": "https://localhost:8080/"
        },
        "id": "PHh-LiSMRzNR",
        "outputId": "949b54e5-e58b-4819-b935-1a84fa595469"
      },
      "execution_count": 5,
      "outputs": [
        {
          "output_type": "execute_result",
          "data": {
            "text/plain": [
              "Dataset({\n",
              "    features: ['document', 'summary', 'id'],\n",
              "    num_rows: 204045\n",
              "})"
            ]
          },
          "metadata": {},
          "execution_count": 5
        }
      ]
    },
    {
      "cell_type": "code",
      "metadata": {
        "id": "i3j8APAoIrI3"
      },
      "source": [
        "# Visualize the Data\n",
        "\n",
        "import random\n",
        "import pandas as pd\n",
        "from IPython.display import display, HTML\n",
        "\n",
        "def show_random_elements(dataset, num_examples=5):\n",
        "    assert num_examples <= len(dataset), \"Can't pick more elements than there are in the dataset.\"\n",
        "    picks = []\n",
        "    for _ in range(num_examples):\n",
        "        pick = random.randint(0, len(dataset)-1)\n",
        "        while pick in picks:\n",
        "            pick = random.randint(0, len(dataset)-1)\n",
        "        picks.append(pick)\n",
        "    \n",
        "    df = pd.DataFrame(dataset[picks])\n",
        "    del df[\"id\"]\n",
        "    for column, typ in dataset.features.items():\n",
        "        if isinstance(typ, datasets.ClassLabel):\n",
        "            df[column] = df[column].transform(lambda i: typ.names[i])\n",
        "    display(HTML(df.to_html()))"
      ],
      "execution_count": 6,
      "outputs": []
    },
    {
      "cell_type": "code",
      "metadata": {
        "id": "SZy5tRB_IrI7",
        "colab": {
          "base_uri": "https://localhost:8080/",
          "height": 1000
        },
        "outputId": "d52975d1-2eb3-40ac-b1f1-34facdcda7d4"
      },
      "source": [
        "show_random_elements(train_xsum)"
      ],
      "execution_count": 7,
      "outputs": [
        {
          "output_type": "display_data",
          "data": {
            "text/html": [
              "<table border=\"1\" class=\"dataframe\">\n",
              "  <thead>\n",
              "    <tr style=\"text-align: right;\">\n",
              "      <th></th>\n",
              "      <th>document</th>\n",
              "      <th>summary</th>\n",
              "    </tr>\n",
              "  </thead>\n",
              "  <tbody>\n",
              "    <tr>\n",
              "      <th>0</th>\n",
              "      <td>A formal Cardiff \"city deal\" submission was made ahead of the chancellor's spending review on 25 November.\\nThe document was signed by the leaders of 10 local councils across the region.\\nWelsh ministers have pledged £580m and the councils £120m, while £580m from the Treasury would make for a deal worth nearly £1.3bn.\\nNo specific projects have been identified yet, but it is expected to include better bus and train services as part of a Metro scheme.\\nIt could also include projects covering regeneration and improving skills, road improvements and better broadband connections.\\nOfficials from the councils, the Welsh government and the UK government will seek to identify schemes over the next few months, if the Treasury agrees to the match-funding request.\\nA spokesman for the Welsh government said the deal was \"focused on connectivity, business support, skills and innovation\" and would be \"a significant step forward for regional collaboration and economic growth\".\\n\"Transport infrastructure will play a key role in this, which is why we have focused our contribution in this area,\" the spokesman said.\\n\"We look forward to an early and positive response from the Treasury to enable the vision to become a reality.\"\\nCardiff council leader Phil Bale said: \"The partners welcome this positive step by Welsh government, and hope the UK government will in turn match this contribution.\\n\"We are at an early stage of the process, but the submission has been made to try and ensure we get a commitment in the forthcoming Comprehensive Spending Review which will then lead to further negotiations.\"\\nCity deals have become a particular favourite of George Osborne, as he looks to fund major infrastructure around the UK.\\nThis is a way for Wales to get in on the act. The big prize here is to pull in more than half a billion pounds of extra funding.\\nAll eyes will now be on the chancellor. The timing is clear: to pile on the pressure ahead of his spending review.\\nIn its favour, a city deal has the big benefit of at least being a Conservative concept, even if it has been taken up by nine Labour run councils and a Labour-run Welsh government.\\nThere are all sorts of unanswered questions, such as how the projects will be selected, but none of this will get off the ground unless there's buy in from the Treasury.</td>\n",
              "      <td>The Welsh government has challenged the Treasury to match nearly £600m it has pledged for economic development and transport projects in south east Wales.</td>\n",
              "    </tr>\n",
              "    <tr>\n",
              "      <th>1</th>\n",
              "      <td>World number three Murray had to play on to a second day after the contest was rained off at 4-4 on Tuesday.\\nThe 28-year-old Scot went a break down in the second set but recovered and faces Gilles Muller of Luxembourg next.\\n\"It was tricky conditions, very windy, completely different to yesterday. When the shadow came across it became hard to pick up the ball,\" said Murray.\\n\"I lost my timing in the middle of the second set but came up with some good shots towards the end.\\n\"I feel much better on the court. I am hitting my backhand better and it forced Tommy to slice the ball. Then I could dictate the points. It wasn't something I could do early on in the year.\"\\nShould Murray reach the final in Montreal he will replace Swiss Roger Federer as number two in the world rankings. He last held the position - the highest of his career - in 2013.\\nThird seed Stan Wawrinka of Switzerland went out after withdrawing with a back injury as he trailed Australian Nick Kyrgios in the third set.\\nCroatian US Open champion Marin Cilic also lost, beaten 6-3 6-4 by Bernard Tomic of Australia.\\nFourteenth-seed Grigor Dimitrov of Bulgaria was beaten 5-7 7-6 (7-5) 7-5 by unseeded American Jack Sock, who now plays top seed Novak Djokovic.\\nSpanish seventh seed Rafael Nadal beat Ukrainian Sergiy Stakhovsky 7-6 (7-4) 6-3, while fourth seed Kei Nishikori of Japan went through with a 6-3 6-3 win over Spain's Pablo Andujar.</td>\n",
              "      <td>Andy Murray reached the third round of the Rogers Cup in Canada after a 6-4 7-5 win over Spaniard Tommy Robredo.</td>\n",
              "    </tr>\n",
              "    <tr>\n",
              "      <th>2</th>\n",
              "      <td>Originating in the frozen north as an essential part of daily life, it now sits along other Nordic skiing sports such as Nordic combined, ski jumping and biathlon.\\nA good place to start if you want to get involved with cross-country is with Snowsport England, who have produced a guide on how to begin the sport in England - where the ideal conditions don't often exist. They also offer GO SKI GO BOARD roller skiing sessions for those who want learn the basics needed for cross country.\\nScotland tends to be a more natural home for cross-country skiers, so check the Snowsport Scotland slope finder.\\nMost Britons who aren't doing the sport for a living will almost certainly want to supplement any cross-country skiing with sessions at nearby indoor slopes. Snowsport England provides a handy club and slope finder, as does Snowsport Wales.\\nBe in no doubt about the physical exertion required - cross-country skiing can be punishing. You will need to quickly develop your balance and coordination to pick up the sport and make the most of it.\\nTo start with you need only venture out for a few hundred metres at a time, but committed amateurs will routinely ski for five kilometres or more, and elite skiers go for 50km at a time at the Olympics. Those distances require phenomenal reserves of energy alongside mental stamina and years of acquired muscle memory.\\nNorwegian army units were skiing for sport as early as the 18th Century and this soon spread to the rest of the country, with the first recorded race taking place in 1842.\\nMen's cross-country skiing was first featured at the original Winter Olympics of 1924. The women's version was introduced ahead of the Oslo Games in 1952.\\nAre you inspired to try Cross-country Skiing? Or maybe you are a keen enthusiast already? Get in touch and tell us your experience of the activity by tweeting us on @bbcgetinspired or email us on getinspired@bbc.co.uk.\\nSee our full list of activity guides for more inspiration.</td>\n",
              "      <td>Cross-country skiing is the marathon of the Winter Olympics world.</td>\n",
              "    </tr>\n",
              "    <tr>\n",
              "      <th>3</th>\n",
              "      <td>The 26-year-old has scored four tries in 12 Test appearances, but has not played for his country since 2013.\\nHe has been at Japan Top League side Toyota Industries Shuttles since July 2015, after leaving Blue Bulls.\\n\"For Ospreys to secure such a quality player is a major coup. We look forward to welcoming him to the region,\" said general manager Andrew Millward.\\n\"JJ is a much-needed, quality addition to the squad, who not only brings experience at the highest end of the game, but also a real dynamism in the wider channels.\"\\nMillward said the retirement of Andrew Bishop and Ashley Beck's knee injury had left Ospreys \"stretched at times\" in midfield.\\nHe added: \"JJ is the kind of player who, with his physical attributes, can be really captivating. We want to compete at the very top level and he is the kind of player you need to be able to do so.\\n\"He fits the mould in terms of what we are looking for in his position. Supplementing our current options with a quality player like JJ will help us as we look to compete on two fronts in 2016.\"\\nEngelbrecht, who can also play wing, but specialises in the outside centre position, has also played for Western Province, Stormers and Bulls.</td>\n",
              "      <td>Ospreys have signed South Africa centre JJ Engelbrecht until the end of the season, subject to a work permit.</td>\n",
              "    </tr>\n",
              "    <tr>\n",
              "      <th>4</th>\n",
              "      <td>6 January 2016 Last updated at 01:28 GMT\\nWithout access to the right schools or vocational training, most disabled people live in desperate poverty.\\nHowever, major companies - in both the private and public sector - are beginning to change attitudes, as Shilpa Kannan reports from Delhi.\\nWatch more reports on Asia Business Report's website</td>\n",
              "      <td>In India having a disability has long been a barrier to getting a good education and a decent job.</td>\n",
              "    </tr>\n",
              "  </tbody>\n",
              "</table>"
            ],
            "text/plain": [
              "<IPython.core.display.HTML object>"
            ]
          },
          "metadata": {}
        }
      ]
    },
    {
      "cell_type": "code",
      "source": [
        "# map article and summary len to dict as well as if sample is longer than 512 tokens\n",
        "def map_to_length(x):\n",
        "  x[\"article_len\"] = len(tokenizer(x[\"document\"]).input_ids)\n",
        "  x[\"article_longer_512\"] = int(x[\"article_len\"] > 512)\n",
        "  x[\"summary_len\"] = len(tokenizer(x[\"summary\"]).input_ids)\n",
        "  x[\"summary_longer_64\"] = int(x[\"summary_len\"] > 64)\n",
        "  x[\"summary_longer_128\"] = int(x[\"summary_len\"] > 128)\n",
        "  return x"
      ],
      "metadata": {
        "id": "I1SrhmjWSqd6"
      },
      "execution_count": 8,
      "outputs": []
    },
    {
      "cell_type": "code",
      "source": [
        "# random choose 10% of the dataset\n",
        "sample_size = 20000\n",
        "data_stats = train_xsum.select(range(sample_size)).map(map_to_length, num_proc=4)"
      ],
      "metadata": {
        "colab": {
          "base_uri": "https://localhost:8080/",
          "height": 106
        },
        "id": "_16udOIwTBLz",
        "outputId": "6dbb060f-02e7-4496-a633-e4edf091dbd0"
      },
      "execution_count": 9,
      "outputs": [
        {
          "output_type": "stream",
          "name": "stderr",
          "text": [
            "Token indices sequence length is longer than the specified maximum sequence length for this model (539 > 512). Running this sequence through the model will result in indexing errors\n",
            "Token indices sequence length is longer than the specified maximum sequence length for this model (1076 > 512). Running this sequence through the model will result in indexing errors\n",
            "Token indices sequence length is longer than the specified maximum sequence length for this model (607 > 512). Running this sequence through the model will result in indexing errors\n",
            "Token indices sequence length is longer than the specified maximum sequence length for this model (744 > 512). Running this sequence through the model will result in indexing errors\n"
          ]
        }
      ]
    },
    {
      "cell_type": "code",
      "source": [
        "def compute_and_print_stats(x):\n",
        "  if len(x[\"article_len\"]) == sample_size:\n",
        "    print(\n",
        "        \"Article Mean: {}, %-Articles > 512:{}, Summary Mean:{}, %-Summary > 64:{}, %-Summary > 128:{}\".format(\n",
        "            sum(x[\"article_len\"]) / sample_size,\n",
        "            sum(x[\"article_longer_512\"]) / sample_size, \n",
        "            sum(x[\"summary_len\"]) / sample_size,\n",
        "            sum(x[\"summary_longer_64\"]) / sample_size,\n",
        "            sum(x[\"summary_longer_128\"]) / sample_size,\n",
        "        )\n",
        "    )\n",
        "\n",
        "output = data_stats.map(\n",
        "  compute_and_print_stats, \n",
        "  batched=True,\n",
        "  batch_size=-1,\n",
        ")"
      ],
      "metadata": {
        "colab": {
          "base_uri": "https://localhost:8080/",
          "height": 66,
          "referenced_widgets": [
            "a9158ec576094e2ab184160dc45a40b2",
            "09bbff7ecd684ddaab8fe32d10d9d9ce",
            "c627c8ea62364042b9ee56edf85e0b7c",
            "fc1fa308a9844267808e01b3e82605b9",
            "3a7086cbfde74b869248d80c2297b5f6",
            "db154316d24b4a99a5af1faf2b598b81",
            "c7bbe44eeaac45f0be4fb5a6523b28ab",
            "644b4c28b6004c34bb74739a2b32f00a",
            "8ab40ff6cdd24bcb80caa6d2047afbd1",
            "45b6234406cb413e8d60850d277693e3",
            "6a0e0d661eaa48aa8a1a0c91011a1820"
          ]
        },
        "id": "jE6yX9juTQc3",
        "outputId": "817325a4-f2ed-4982-e2a2-34c3f737a72b"
      },
      "execution_count": 10,
      "outputs": [
        {
          "output_type": "display_data",
          "data": {
            "application/vnd.jupyter.widget-view+json": {
              "model_id": "a9158ec576094e2ab184160dc45a40b2",
              "version_minor": 0,
              "version_major": 2
            },
            "text/plain": [
              "  0%|          | 0/1 [00:00<?, ?ba/s]"
            ]
          },
          "metadata": {}
        },
        {
          "output_type": "stream",
          "name": "stdout",
          "text": [
            "Article Mean: 525.18615, %-Articles > 512:0.38325, Summary Mean:30.4454, %-Summary > 64:0.0047, %-Summary > 128:0.0002\n"
          ]
        }
      ]
    },
    {
      "cell_type": "markdown",
      "source": [
        "From the Result, we can see that for random 20000 sample (10% of training dataset), our articles has average token length of 525, and 38% is longer than 512. And the mean summary's token length is 30, almost none are longer than 64. \n",
        "\n",
        "It should be reasonable to use **512** for tokenized article length and **64** for tokenized summary length on T5 tokenizer for Xsum dataset.\n"
      ],
      "metadata": {
        "id": "lT6Fs6Pdb-X1"
      }
    },
    {
      "cell_type": "markdown",
      "metadata": {
        "id": "uqZAjghh9UzX"
      },
      "source": [
        "##CNN/Daily"
      ]
    },
    {
      "cell_type": "code",
      "source": [
        "train_cnn = datasets.load_dataset(\"cnn_dailymail\", \"3.0.0\", split=\"train\")"
      ],
      "metadata": {
        "colab": {
          "base_uri": "https://localhost:8080/"
        },
        "id": "7qe2LTok-atw",
        "outputId": "9f0d0cf8-7a54-442b-bb38-40748b236322"
      },
      "execution_count": 11,
      "outputs": [
        {
          "output_type": "stream",
          "name": "stderr",
          "text": [
            "Reusing dataset cnn_dailymail (/root/.cache/huggingface/datasets/cnn_dailymail/3.0.0/3.0.0/3cb851bf7cf5826e45d49db2863f627cba583cbc32342df7349dfe6c38060234)\n"
          ]
        }
      ]
    },
    {
      "cell_type": "code",
      "source": [
        "train_cnn"
      ],
      "metadata": {
        "colab": {
          "base_uri": "https://localhost:8080/"
        },
        "outputId": "b18fd855-3952-4fb7-d262-a4f7f6b686da",
        "id": "-P7HPqIG9Uzc"
      },
      "execution_count": 12,
      "outputs": [
        {
          "output_type": "execute_result",
          "data": {
            "text/plain": [
              "Dataset({\n",
              "    features: ['article', 'highlights', 'id'],\n",
              "    num_rows: 287113\n",
              "})"
            ]
          },
          "metadata": {},
          "execution_count": 12
        }
      ]
    },
    {
      "cell_type": "code",
      "metadata": {
        "colab": {
          "base_uri": "https://localhost:8080/",
          "height": 1000
        },
        "outputId": "a30c3be1-173e-400b-fe54-dbe21460e616",
        "id": "ISpa1ChX9Uzd"
      },
      "source": [
        "show_random_elements(train_cnn)"
      ],
      "execution_count": 13,
      "outputs": [
        {
          "output_type": "display_data",
          "data": {
            "text/html": [
              "<table border=\"1\" class=\"dataframe\">\n",
              "  <thead>\n",
              "    <tr style=\"text-align: right;\">\n",
              "      <th></th>\n",
              "      <th>article</th>\n",
              "      <th>highlights</th>\n",
              "    </tr>\n",
              "  </thead>\n",
              "  <tbody>\n",
              "    <tr>\n",
              "      <th>0</th>\n",
              "      <td>(CNN) -- Four months after he was escorted in his pajamas onto a military plane and flown out of the country, ousted Honduran President Jose Manuel Zelaya could return to power within days, analysts said Friday. Negotiators for Zelaya and Roberto Micheletti, the politician who was appointed president hours after Zelaya's June 28 removal, reached an agreement late Thursday to form a government of national reconciliation. The nation's congress, in consultation with the supreme court, must approve Zelaya's return to power. The reconciliation government would rule until a new president, to be chosen in November 29 elections, takes office in January. Micheletti announced the agreement in a televised speech to the nation Thursday night. Zelaya said Friday his return to the presidency is \"imminent\" and should occur within days. He has been staying at the Brazilian Embassy in Tegucigalpa, the Honduran capital, since secretly returning to the country September 21. \"At this moment we are trying to reach a consensus so we can reconstruct democracy,\" he told CNN en Español on Friday. Although Zelaya's return to the presidency is not guaranteed in the eight-point pact, several analysts say they expect the congress will approve the measure. \"If Micheletti came forward with a public announcement, the odds of this being approved by congress are pretty good. It's a done deal,\" said Kevin Casas-Zamora, a senior foreign policy fellow at the non-partisan Brookings Institution and a former vice president of Costa Rica. \"It would be a horrible letdown if congress did not approve the agreement.\" Peter Hakim, president of the Inter-American Dialogue policy institute, also believes \"they'll go ahead and vote for it.\" Said Larry Birns, director of the liberal Council on Hemispheric Affairs: \"There seems to be no other way.\" The United States played a key role in the accord after weeks of stalemate. Thomas Shannon, assistant secretary of state for Western Hemisphere affairs, and two other high-level U.S. officials arrived Wednesday and met separately with Zelaya and Micheletti. An agreement appeared possible Thursday when Shannon announced at a news conference that the U.S. delegation would stay another day. A delegation from the Organization of American States had visited Honduras in early October but failed to obtain an agreement. Costa Rican President Oscar Arias had held consultations with both sides but did not get them to agree on a solution. The OAS, the United Nations, the European Union and the United States condemned the military-backed coup and demanded that Zelaya be reinstated. The United States and others imposed economic sanctions, which some analysts say have started to hurt Honduras. \"The dark secret here is that the Honduran economy has been devastated,\" Birns said. \"Huge numbers of Hondurans have crossed over into Mexico and are desperate for jobs.\" Crumbling economic conditions left Micheletti little choice, Birns said. \"All along Micheletti was holding a diminishing deck,\" he said. \"Not only the poor were being hurt. The cutoffs were hurting the nation's economic elite. So there was a very strong economic motive to reach a solution.\" There also was a strong political motive, Hakim said. \"The candidates for president, the people looking forward, wanted to see the elections on November 29 as being legitimate,\" he said. Birns agreed that \"the candidates wanted a resolution because of legitimacy.\" The United States and many other nations had said the elections would be considered illegitimate if held under Micheletti's rule. \"By far, the most important thing right now is not whether Zelaya will be reinstated, but that the U.S. is going to recognize the elections,\" said Heather Berkman, a Latin America analyst with the Eurasia Group consulting firm. \"The next president will be able to receive diplomatic recognition and much-needed access to international aid and financing, which will be crucial given the weakness of the economy and the fact that the government is running out of money,\" she said. Zelaya also appeared to have little choice but to accept the pact, even though it does not automatically return to him to power, as he had demanded all along. \"He didn't have many options, did he?\" said Casas-Zamora of the Brookings Institution. \"He was never able to mobilize people in the numbers he claimed to have. He didn't have much clout, frankly. Holed up in the Brazilian Embassy he became much more marginalized. That's as good as it gets for him.\" The president's four-year term -- whether it's Zelaya or Micheletti -- ends January 27, when the new head of state will take over. Berkman believes Zelaya heard the clock ticking. \"Zelaya probably accepted this agreement because he was running out of time and leverage, and he may have thought that going through congress was his best bet at getting an agreement in his favor,\" she said. Birns sees it as a face-saving move. \"The only thing Zelaya gets out of this is the dignity of serving out his complete term,\" Birns said. \"He will be a president without any authority. Basically, he's been rendered into a figurehead president.\" In addition to the formation of a reconciliation government, the pact also stipulates -- at Zelaya's insistence -- that there will be no amnesty for those involved in his ouster. Micheletti said in an interview Friday evening with CNN en Español that he's certain Zelaya will try to prosecute him. Just a few weeks ago, it was Micheletti who was saying Zelaya would be prosecuted if he left the Brazilian Embassy. \"Yes, we are certain that there will be persecution,\" Micheletti said Friday. \"But I am not afraid. What we did was within the constitution.\" Micheletti has insisted Zelaya was removed through constitutional means, not a coup. Some analysts say legal proceedings might not be the best course. \"Any attempt to seek revenge here is going to be costly and inefficient and conflictive,\" said Birns, head of the Council on Hemispheric Affairs. The pact also calls for the creation of a \"truth commission\" to investigate the events surrounding Zelaya's ouster; the formation of a \"verification commission\" to ensure that the agreement is adhered to; and a solicitation to the international community to lift economic and diplomatic sanctions. The political crisis stemmed from Zelaya's plan to hold a referendum that could have changed the constitution to allow longer terms for the president. The country's congress had outlawed the vote and the supreme court had ruled it illegal. Zelaya has said since his ouster he would not try to revive the issue if returned to power. That's a good thing, Hakim said. \"The most important thing,\" he said, \"are the assurances that Zelaya will be limited in his powers.\"</td>\n",
              "      <td>Negotiators for President Manuel Zelaya and de facto President Roberto Micheletti reach deal .\\nTwo sides to form a government of national reconciliation that could reinstate Zelaya .\\nZelaya forced out of country in June 28 coup, replaced by legislative leader Micheletti .\\nCrisis stems from Zelaya's referendum plan that may have given president longer term .</td>\n",
              "    </tr>\n",
              "    <tr>\n",
              "      <th>1</th>\n",
              "      <td>(CNN) -- The facts: On August 27, 1891, a passenger train jumped the tracks on a tall bridge near Statesville, North Carolina, sending seven rail cars below and about 30 people to their deaths. The legend: On the wreck's anniversary, the sounds of screeching wheels, screaming passengers and a horrific crash might still be heard. You might also see a uniformed man with a gold watch. Shortly before 3 a.m. Friday, on the 119th anniversary of the Bostian Bridge train tragedy and at about the same time, between 10 and 12 ghost hunters were on that approximately 300-foot long span. They were hoping to hear the sounds of the crash, and perhaps see something. Instead, a real Norfolk-Southern train -- three engines and one car -- turned the corner as it headed east to Statesville, about 35 miles north of Charlotte, authorities said. The terrified \"amateur ghost watchers\" ran away, back toward Statesville, trying to cover the nearly 150 feet to safety, said Iredell County Sheriff's Office Capt. Darren Campbell. All but two made it. Christopher Kaiser, 29, of Charlotte, was struck and killed, said Campbell. A woman who witnesses say Kaiser pushed to safety fell about 30 to 40 feet from the trestle and was injured. Her name and condition were not known Friday night. She was being treated at Carolinas Medical Center in Charlotte. \"There was no way out, said Campbell. \"They almost made it.\" The engineer of the train, which was traveling at its customary 35 to 40 mph, hit the horn and \"stopped as fast as he could,\" Campbell said. Campbell, 38, is from the area and has heard all the stories, although he said he knows of no one who has ever seen or heard the \"ghost train.\" On the 50th anniversary of the Bostian Bridge incident, a woman said she witnessed it all again. In 1991, hawkers sold T-shirts and other memorabilia, and there were an estimated 150 people waiting for the train, according to the Charlotte Observer. There are occasional reports of railroad crossing arms dropping without cause, Campbell said. The ghost trip on the anniversary has become an annual tradition of sorts. A woman who did not want to be identified, but who was part of the group of onlookers, told CNN affiliate WCNC, \"We were there looking for what people say happened. You hear the train wreck or hear people screaming. We were just watching.\" Kaiser's mother said the family was too distraught to talk about the incident, WCNC said. Campbell said most of the ghost hunters, who were from out of town, have been interviewed. Many fled because they were trespassing on railroad property, he said. Campbell said there were no patrols near the bridge early Friday. Although the investigation is continuing, Campbell said the incident appears to be an accident. At least two blogs that cover the phenomena, N.C. Ghost Guide and CreepyNC.com, detail the 1891 wreck's legend. While accounts vary somewhat, the man with the gold watch reportedly was first seen on the first anniversary. According to CreepyNC.com, Hugh K. Linster was a baggage master for the Asheville-bound train that crashed into Third Creek that August of 1891. \"Hugh Linster never made it to retirement,\" the blog reads. \"His body was found in the wreck having been killed immediately upon impact with a broken neck.\" One year later, a group of people at the bridge said they saw a man in a railroad uniform, holding a watch. He vanished before their eyes, legend has it.</td>\n",
              "      <td>\"Ghost train\" hunter killed by train near Statesville, North Carolina .\\nGroup was on Bostian Bridge, site of 1891 tragedy .\\nLegends sprang up after 30 people killed in wreck .</td>\n",
              "    </tr>\n",
              "    <tr>\n",
              "      <th>2</th>\n",
              "      <td>New York (CNN) -- Organizers of New York City's Halloween parade have rallied public support and raised enough money to put on the annual event after facing financial woes stemming from losses caused by Superstorm Sandy in 2012. Members of the non-profit organization that puts on the parade each year started an online fundraising campaign using Kickstarter.com with the goal of raising $50,000 by Monday. In total, organizers raised $56,030 from over 900 donors -- more than enough to host the hundreds of puppets, more than 50 bands, and thousands of dancers, artists and costumed New Yorkers who will take part, according to organizers. The parade was canceled for the first time in its 39-year history in 2012 after Superstorm Sandy \"Frankenstormed\" the event . After the fundraising success the parade has been officially revived, just in time for the 40-year anniversary, organizers said on the parade's official website. The financial losses from 2012's last-minute cancellation posed a \"huge obstacle\" to putting on this year's parade, they said. \"We fronted money for the parade that we never got the chance to make back,\" the organizers said in their online campaign. \"We lost a lot of money ... . We really went down,\" Matthew Fass, musical director of the parade, said in an online video, adding that without donations from the public, the parade would have been canceled again. Online organizers say that the parade will provide a much-needed economic boost to the area's local businesses, which was hard-hit by the storm. Often referred to as the Village Halloween Parade, the annual festivities have taken place on Halloween every year since 1973 and include more than 60,000 participants. Two million spectators line a mile-long stretch of 6th Avenue to watch, the online campaign boasted.</td>\n",
              "      <td>Superstorm Sandy forced cancellation of parade in 2012, causing financial losses .\\nOrganizers say they raised $56,030 from 900 donors to fund this year's event .\\nThis is the 40th anniversary of the event, which boasts thousands of participants .</td>\n",
              "    </tr>\n",
              "    <tr>\n",
              "      <th>3</th>\n",
              "      <td>(CNN) -- Singer Solange Knowles, also known as younger sister to Beyonce, took to Twitter on Wednesday claiming that Transportation Security Administration officials in Miami had searched her hair. It didn't take long for Knowles, who called it \"Discrim-FRO-nation\" to get funny with it. \"Lets play a little game called: \"What did TSA find in Solange's Fro\"?\" she wrote to her 1.3 million Twitter followers. \"Romney's actual 5 point plan,\" replied @Elle_is_haute. \"@Remzophilos: the good lord, Jesus of nazareth was fount in @solangeknowles' fro,\" wrote someone else. While she wouldn't comment on the specifics, the TSA doesn't have a policy of specifically searching Afros, said agency spokeswoman Sari Koshetz. \"Can I touch it?\" The fascination with natural, African-American hair . \"If someone is passing through the advanced imaging technology machine, it shows an outline of an individual, the same for every single person,\" said Koshetz. \"If the hair area is highlighted, the machine may have picked up an anomaly or a possible threat in the head area.\" That could include a bobby pin, hair clip, extension clips, ponytail holders or cloth head wraps. \"It would not be someone's hair but something in someone's hair,\" she said. Natural hair stylist Isis Brantley, who claimed that TSA agents searched her hair last year, isn't buying it. Brantley says her hair clients often complain that security officials search their hair at the airport. \"How could you not know that people wear Afros?\" she said. But she thinks African-American women who wear their hair naturally are seen as \"flaunting it. You cannot be seen in public with this hair and not have something happen.\" Knowles had fun with her fans, and then she called it quits. \"Ok. Game over:( Flights taking off. Me and my wig had a lot of good laughs with y'all.\" The TSA's Blogger Bob outlined the agency's screening procedures for hair after another African-American woman with an Afro complained about her hair being searched. Have you had a similar screening experience? Share your comments below.</td>\n",
              "      <td>Solange Knowles claimed her Afro was searched by the TSA on Wednesday .\\nShe took to Twitter asking fans, \"What did TSA find in Solange's Fro?\"\\nThe TSA does not have a policy of specifically searching Afros, spokeswoman said .\\n\"It would not be someone's hair but something in someone's hair,\" she said .</td>\n",
              "    </tr>\n",
              "    <tr>\n",
              "      <th>4</th>\n",
              "      <td>It's a scheme that saw Waitrose face a middle-class backlash over complaints that its stores were being invaded by less well-off shoppers. And now the retailer has decided to introduce a stricter policy on its free tea or coffee option for myWaitrose loyalty card holders when drinking at its in-store cafés, as a retail expert claimed it could cost as much as £150,000 a week to provide the perk. It has trialled a scheme at six stores in Bedford, Hitchin, Exeter, Weston-super-Mare, Nailsea and Chester whereby free drinks are only available at the café till to customers buying food as well. This could be anything from a cake to a sandwich or even a full meal - but at these stores you can still get a no-strings-attached free drink from the self-service machine. Changes: From February 9 all members will be asked to buy food if enjoying a free drink in a Waitrose café . And from February 9 cardholders will be asked to buy food if enjoying their drink at all of its cafés. The offer - introduced in 2011 - has allowed anybody with a card to pick up a free Americano, cappuccino, latte, tea, mocha or espresso every day - even if they do not spend anything in store. In some stores, including at Bloomsbury in central London, the free coffee cups are stored at the tills - although customers with a myWaitrose card do not have to make a purchase to receive one. Today The Times newspaper reported that customers do need a shopping receipt at the Bloomsbury store to get their free tea or coffee, but this was denied by Waitrose. The popularity of the myWaitrose card offer has made the retailer the second largest provider of coffee in the UK, with its stores shifting one million cups a week. Popular: The loyalty scheme has five million members, with Waitrose giving out an estimated one million free teas or coffees every week. Shoppers can also get a free newspaper when spending more than £5 . Phil Dorrell, director of the retail consultancy Retail Remedy, told MailOnline: ‘It was a very good commercial marketing ploy that has over the last few years become a little bit abused. ‘It costs them money to do it and they’ve got to ask themselves is it worth it? [Northern supermarket chain] Booths do exactly the same thing. Does it really benefit the actual Waitrose customer? ‘The execution of it at store level has been a little poor and allowed people to come in, get a free coffee and then not really shop - and a lot of these people would tend to do that on a frequent basis. ‘That was not the intent of the card. The intent was a thank you from Waitrose. I think Waitrose when they did it were under pressure from all the other supermarkets doing a price war. ‘They wanted to make a statement to their customers saying “we’re different too”. It’s just a sort of expression of the fact that they were different.’ The loyalty scheme has five million members, with Waitrose giving out an estimated one million free teas or coffees every week. Shoppers with the card can also get a free newspaper when spending more than £5. Mr Dorrell said he estimated that the ingredients of the tea or coffee available at Waitrose would come in at between 12p and 15p, meaning that it could be costing the supermarket as much as £150,000 a week to provide the perk. But he added: ‘Some of that will be extremely beneficial to them as they’re getting new customers, but we don’t how much of that is being abused. That’s the unknown quantity.' A statement on the Waitrose website said: ‘From February 9 we will be asking myWaitrose members who wish to enjoy their free tea or coffee in one of our cafés to also purchase a treat - such as a sandwich, cake, biscuit or piece of fruit. ‘This change will enable us to continue to offer our customers the enjoyable service they expect.’ Choices: The popularity of the myWaitrose card offer has made the retailer the second largest provider of coffee in the UK, with its stores shifting one million cups a week . Christmas rise: This graph published last week on the John Lewis Partnership website shows Waitrose's weekly sales figures up to week 25 (to January 17, 2015), compared to the same weeks in 2013-14 and 2012-13 . And a Waitrose spokesman told MailOnline today: ‘A complimentary tea or coffee while shopping with us is one of our ways of saying thank you to our customers. ‘Most people who have their myWaitrose free drink in the café understand that they should buy something from the café to have with their tea or coffee, and so we are simply confirming that. ‘MyWaitrose members who would like to drink their free tea or coffee in the café will also need to buy something, in the café such as a sandwich, cake or piece of fruit to go with their drink. Customers can still buy a drink in the café too. ‘Of course myWaitrose customers can still get their free hot drink from the self-serve machines whilst they are shopping with us.’ Last September Waitrose reported operating profit  fell 9.4 per cent to £145million because of - among other factors - 'substantial' investment in stores, its website and the myWaitrose scheme. In December 2013 the Mail reported how regular Waitrose customers claimed the supermarket's offer of free cups of tea and coffee in all its stores was attracting the wrong type of clientele. Long-standing customers said at the time that the move was encouraging large numbers of myWaitrose cardholders who have no intention of shopping and merely get in the way. Waitrose boss Mark Price said he believed that shoppers want instant rewards, such as free coffee, rather than the 'meaningless' benefits offered by conventional supermarket loyalty cards. And in March 2014 the Mail told how a woman had to go to the Royal Sussex County Hospital in Brighton after drinking a free coffee from a Waitrose store that contained cleaning fluid. Paramedics were called to the branch of the supermarket in Lewes, East Sussex, and advised her to visit a burns unit, although she is thought to have attended a local A&amp;E instead. Waitrose apologised for the 'unfortunate incident' and sent her a £25 voucher. A spokesman said: ‘We have confirmed that the cleaning fluid does not have any long term impact on health.' The next month MailOnline revealed how a second customer had fallen ill after drinking a free coffee from Waitrose that was contaminated with cleaning fluid. Father-of-two David Sack, 49, was in a rush when he grabbed a free cappuccino at the branch in West Byfleet, Surrey, but felt sick after drinking it. The supermarket chain apologised to Mr Sack, and offered him £25 compensation, but he returned the money because the amount was 'insulting' - and was then presented with £100. A spokesman for Waitrose said at the time: ‘Mr Sack should not have been able to pour a drink while the machine was being rinsed - and we have taken action to prevent it happening again.'</td>\n",
              "      <td>Stricter policy on free tea or coffee policy for myWaitrose cardholders .\\nTrialled scheme at six of its stores including Bedford, Exeter and Chester .\\nMeans free drinks are only available at café till to customers buying food .\\nBut shoppers can still get a no-strings-attached free drink from machine .\\nFrom February 9 they will be asked to buy food with free drink at all cafés .\\nOffer introduced in 2011 allows cardholders to pick up free drink each day .</td>\n",
              "    </tr>\n",
              "  </tbody>\n",
              "</table>"
            ],
            "text/plain": [
              "<IPython.core.display.HTML object>"
            ]
          },
          "metadata": {}
        }
      ]
    },
    {
      "cell_type": "code",
      "source": [
        "# map article and summary len to dict as well as if sample is longer than 512 tokens\n",
        "def map_to_length(x):\n",
        "  x[\"article_len\"] = len(tokenizer(x[\"article\"]).input_ids)\n",
        "  x[\"article_longer_512\"] = int(x[\"article_len\"] > 512)\n",
        "  x[\"summary_len\"] = len(tokenizer(x[\"highlights\"]).input_ids)\n",
        "  x[\"summary_longer_64\"] = int(x[\"summary_len\"] > 64)\n",
        "  x[\"summary_longer_128\"] = int(x[\"summary_len\"] > 128)\n",
        "  return x"
      ],
      "metadata": {
        "id": "_iU6nt3I9Uzd"
      },
      "execution_count": 14,
      "outputs": []
    },
    {
      "cell_type": "code",
      "source": [
        "sample_size = 25000\n",
        "data_stats = train_cnn.select(range(sample_size)).map(map_to_length, num_proc=4)"
      ],
      "metadata": {
        "colab": {
          "base_uri": "https://localhost:8080/",
          "height": 106
        },
        "outputId": "2e1e7caf-04c5-4fc2-d99c-ee399713860c",
        "id": "YugtPs-u9Uzd"
      },
      "execution_count": 15,
      "outputs": [
        {
          "output_type": "stream",
          "name": "stderr",
          "text": [
            "Token indices sequence length is longer than the specified maximum sequence length for this model (2116 > 512). Running this sequence through the model will result in indexing errors\n",
            "Token indices sequence length is longer than the specified maximum sequence length for this model (954 > 512). Running this sequence through the model will result in indexing errors\n",
            "Token indices sequence length is longer than the specified maximum sequence length for this model (1515 > 512). Running this sequence through the model will result in indexing errors\n",
            "Token indices sequence length is longer than the specified maximum sequence length for this model (1574 > 512). Running this sequence through the model will result in indexing errors\n"
          ]
        }
      ]
    },
    {
      "cell_type": "code",
      "source": [
        "def compute_and_print_stats(x):\n",
        "  if len(x[\"article_len\"]) == sample_size:\n",
        "    print(\n",
        "        \"Article Mean: {}, %-Articles > 512:{}, Summary Mean:{}, %-Summary > 64:{}, %-Summary > 128:{}\".format(\n",
        "            sum(x[\"article_len\"]) / sample_size,\n",
        "            sum(x[\"article_longer_512\"]) / sample_size, \n",
        "            sum(x[\"summary_len\"]) / sample_size,\n",
        "            sum(x[\"summary_longer_64\"]) / sample_size,\n",
        "            sum(x[\"summary_longer_128\"]) / sample_size,\n",
        "        )\n",
        "    )\n",
        "\n",
        "output = data_stats.map(\n",
        "  compute_and_print_stats, \n",
        "  batched=True,\n",
        "  batch_size=-1,\n",
        ")"
      ],
      "metadata": {
        "colab": {
          "base_uri": "https://localhost:8080/",
          "height": 66,
          "referenced_widgets": [
            "7eafa62a814a41a296ab8f9bf23ecb69",
            "6ec33c2f6cd34cfd84f5fde1fd067ed5",
            "ed3784f89a9643fa8542689694287596",
            "41fbd17bcc1c4da6a7216c335c4c93cb",
            "9212bbd775d14627bf2d1c1d227e05b0",
            "de31a0fc44914b8797b6b1e0a33bcd38",
            "810631a41c2c4d038822e0a23a0e8d8c",
            "8f0a9cccd2cf4c5f9f35f32b77e11d21",
            "6e41ed70246d45a48e61634f0baafedf",
            "460b9f7189c445ee8f0ed21dc90a890d",
            "e5b6b255cb654964b791d161b98b1c41"
          ]
        },
        "outputId": "b6c12359-c4ee-4685-fab4-6e0a6828cab1",
        "id": "o0NtfKNq9Uzd"
      },
      "execution_count": 16,
      "outputs": [
        {
          "output_type": "display_data",
          "data": {
            "application/vnd.jupyter.widget-view+json": {
              "model_id": "7eafa62a814a41a296ab8f9bf23ecb69",
              "version_minor": 0,
              "version_major": 2
            },
            "text/plain": [
              "  0%|          | 0/1 [00:00<?, ?ba/s]"
            ]
          },
          "metadata": {}
        },
        {
          "output_type": "stream",
          "name": "stdout",
          "text": [
            "Article Mean: 923.15184, %-Articles > 512:0.77716, Summary Mean:66.51544, %-Summary > 64:0.55212, %-Summary > 128:4e-05\n"
          ]
        }
      ]
    },
    {
      "cell_type": "markdown",
      "source": [
        "We can see that on average an article contains 923 tokens with 3/4 of the articles being longer than 512. The summary is on average 66 tokens long. Over half of our 25000-sample summaries are longer than 64 tokens, and almost none are longer than 128 tokens.\n",
        "\n",
        "Since T5 has not hard limit of `max_length` on tokenizer, It should be reasonable to use **1024** for tokenized article length and **128** for tokenized summary length on T5 tokenizer for CNN/Daily dataset."
      ],
      "metadata": {
        "id": "eIUQGxSZdo6S"
      }
    },
    {
      "cell_type": "markdown",
      "source": [
        "##Wikihow"
      ],
      "metadata": {
        "id": "roK9OjTrWFh7"
      }
    },
    {
      "cell_type": "code",
      "source": [
        "from google.colab import drive\n",
        "drive.mount('/content/drive')"
      ],
      "metadata": {
        "colab": {
          "base_uri": "https://localhost:8080/"
        },
        "id": "dkc0b8tZVBKu",
        "outputId": "05e10ef6-c330-4b1f-dbea-51be6060ab42"
      },
      "execution_count": 20,
      "outputs": [
        {
          "output_type": "stream",
          "name": "stdout",
          "text": [
            "Mounted at /content/drive\n"
          ]
        }
      ]
    },
    {
      "cell_type": "code",
      "source": [
        "!ls /content/drive/MyDrive/dataset"
      ],
      "metadata": {
        "id": "sMf94moM54LR",
        "colab": {
          "base_uri": "https://localhost:8080/"
        },
        "outputId": "06669990-dd7f-47f0-c46c-c659d38e8d6a"
      },
      "execution_count": 21,
      "outputs": [
        {
          "output_type": "stream",
          "name": "stdout",
          "text": [
            "wikihowAll.csv\n"
          ]
        }
      ]
    },
    {
      "cell_type": "code",
      "metadata": {
        "colab": {
          "base_uri": "https://localhost:8080/",
          "height": 104,
          "referenced_widgets": [
            "45ba5fd94ae44c6ca2ef6a5accf11286",
            "9e182a81101e4f52991badb075e50a54",
            "02f8263734a04d318bc35b619ab2ffbd",
            "83eb557a8b9a445a980e27baa9b9d135",
            "bff90370e95344438248afacdacd1d21",
            "faf5f8e7b80849649bbb83ffc26955c3",
            "4b65bb14ba3c4076bffafe13c100239d",
            "cbe003417c3f4e70ae521c9bb3b5be51",
            "71b2cf46c11f40c897ed90dc8998923f",
            "a40015e4e2024b0eaa7a57d3aa34ec2a",
            "95853d0dcc8f4ec2b909a37ee86413ee"
          ]
        },
        "outputId": "fa115585-54ce-4367-d9eb-1f28a86d3e54",
        "id": "JYOnGtMKWTXl"
      },
      "source": [
        "# import dataset from cache\n",
        "dataset_wiki = datasets.load_dataset(\"wikihow\", \"all\", \"/content/drive/MyDrive/dataset\")"
      ],
      "execution_count": 17,
      "outputs": [
        {
          "output_type": "stream",
          "name": "stderr",
          "text": [
            "Using custom data configuration all-6f5101161f12f62f\n",
            "Reusing dataset wikihow (/root/.cache/huggingface/datasets/wikihow/all-6f5101161f12f62f/1.2.0/5343fc81d685acaa086c9cc19eb8706206cd1f8b315792b04c1d7b92091c305e)\n"
          ]
        },
        {
          "output_type": "display_data",
          "data": {
            "application/vnd.jupyter.widget-view+json": {
              "model_id": "45ba5fd94ae44c6ca2ef6a5accf11286",
              "version_minor": 0,
              "version_major": 2
            },
            "text/plain": [
              "  0%|          | 0/3 [00:00<?, ?it/s]"
            ]
          },
          "metadata": {}
        }
      ]
    },
    {
      "cell_type": "code",
      "source": [
        "train_wiki=dataset_wiki['train']\n",
        "train_wiki"
      ],
      "metadata": {
        "colab": {
          "base_uri": "https://localhost:8080/"
        },
        "outputId": "42205b3d-d7cf-4e56-a73a-d8cfe2441697",
        "id": "i41s0JvoWTXm"
      },
      "execution_count": 18,
      "outputs": [
        {
          "output_type": "execute_result",
          "data": {
            "text/plain": [
              "Dataset({\n",
              "    features: ['text', 'headline', 'title'],\n",
              "    num_rows: 157252\n",
              "})"
            ]
          },
          "metadata": {},
          "execution_count": 18
        }
      ]
    },
    {
      "cell_type": "code",
      "metadata": {
        "colab": {
          "base_uri": "https://localhost:8080/",
          "height": 1000
        },
        "outputId": "fa1f772f-2228-4a41-8c00-1615e73433b7",
        "id": "EmV_kZz6WTXm"
      },
      "source": [
        "# Visualize the Data\n",
        "\n",
        "import random\n",
        "import pandas as pd\n",
        "from IPython.display import display, HTML\n",
        "\n",
        "def show_random_elements(dataset, num_examples=5):\n",
        "    assert num_examples <= len(dataset), \"Can't pick more elements than there are in the dataset.\"\n",
        "    picks = []\n",
        "    for _ in range(num_examples):\n",
        "        pick = random.randint(0, len(dataset)-1)\n",
        "        while pick in picks:\n",
        "            pick = random.randint(0, len(dataset)-1)\n",
        "        picks.append(pick)\n",
        "    \n",
        "    df = pd.DataFrame(dataset[picks])\n",
        "    for column, typ in dataset.features.items():\n",
        "        if isinstance(typ, datasets.ClassLabel):\n",
        "            df[column] = df[column].transform(lambda i: typ.names[i])\n",
        "    display(HTML(df.to_html()))\n",
        "\n",
        "show_random_elements(train_wiki)"
      ],
      "execution_count": 19,
      "outputs": [
        {
          "output_type": "display_data",
          "data": {
            "text/html": [
              "<table border=\"1\" class=\"dataframe\">\n",
              "  <thead>\n",
              "    <tr style=\"text-align: right;\">\n",
              "      <th></th>\n",
              "      <th>text</th>\n",
              "      <th>headline</th>\n",
              "      <th>title</th>\n",
              "    </tr>\n",
              "  </thead>\n",
              "  <tbody>\n",
              "    <tr>\n",
              "      <th>0</th>\n",
              "      <td>If you want to use images as a border instead of the built-in line tools, you can insert the images into your document. You can use separate images for each side of the border, or insert a complete border image. There are several ways to do this:\\n\\n\\nClick the Insert tab and select \"Pictures.\" Browse for the border picture that you want to use.\\nClick and drag the image file into your document. This will insert it.\\nCopy an image from a website and paste it into the document.\\n This will allow you to change the image position and layering.\\n This will ensure that all of the text appears on top of the image file, which is especially useful for images of complete page borders. It also allows you to move the image around without making the text shift.\\n You can click and drag your image around until it is in the proper location. Click and drag the boxes on the corners of the image to resize it.\\n If you're building the border from multiple image files, repeat the process until all of the images are in the correct place. If you need to mirror an image (for opposing border sides), click the Rotate button in the Format tab and select Flip Horizontal or Vertical.</td>\n",
              "      <td>Insert the image that you want to use as the border.\\nSelect the image and click the Format tab.\\nClick the \"Wrap Text\" button and select \"Behind Text.\",\\nMove and resize the image as necessary.\\nRepeat for any additional border images.</td>\n",
              "      <td>How to Add a Border to Word3</td>\n",
              "    </tr>\n",
              "    <tr>\n",
              "      <th>1</th>\n",
              "      <td>Assuming you have a good working relationship with the company or financial institution that issued you your secured credit card, you should apply for your unsecured credit card with them, as well.;\\n, Depending on the institution’s rules, you might need to fill out some paperwork, so going in person might be the best option.\\n\\n\\nIf you find it is not possible to convert your card to an unsecured card, you will have to replace your secured card with a new unsecured card. Talk to your existing card issuer about your doing so.\\n\\nRequest that your card number remain the same if you convert your card.If your card number remains the same when you convert your secured card into an unsecured card, you’ll be able to smoothly transfer recurring payments onto your new unsecured card, and won’t have to suffer the dip in your credit score that you would when canceling the secured card, or opening a new card.\\n Know your lender's policies. Different lenders have different rules for their lines of credit. Just as you did when opening your secured credit card, you should investigate your lender’s policies regarding the fine print of the unsecured credit card, including the card’s minimum payments, interest rates, and late fees. This information will help you choose the best unsecured credit card for you.\\n\\n\\nResearch your bank or lender's criteria for obtaining an unsecured credit card. You will need to be a U.S. citizen and meet other institution-specific criteria to apply for a card change.\\nTry to get the lowest late fees, minimum payments, and interest rate possible. These are usually non-negotiable, but you should ask anyway just in case your institution is more lenient.\\n The type of fee-free card you get depends on your credit score.\\n\\n\\nIf your score is above 700, choose the best cash-back credit card — in other words, the card with the lowest interest rate, minimum payment requirements, and no fees.\\nIf your score is below 700, you’ll be more limited. Credit cards issued by department stores should be fee-free, so contact a major store (like Target, for instance) for more information about their credit card program.\\n How you use your credit card (or how you want to use your credit card) should guide your decision process when selecting your new unsecured credit card.There are a dizzying variety of cards available. Think about your spending style and what you usually use your credit cards for to choose the best one for you.\\n\\n\\nIf you sometimes have a balance on your secured credit card, try to get a card with a low interest rate and APR.\\nIf you travel a lot and have a high (700 or above) credit score, you should get a travel card that rewards you with free air miles when you spend.\\n Canceling credit cards hurts your credit score. If you cancel your credit card right before applying for an unsecured card, you might push your credit score down past the point where you’d be eligible to obtain one.Having a long credit history gives the new credit card issuer more data to look at, and makes them feel more comfortable about extending an unsecured card to you.\\n\\n\\nInstead of canceling the card, use it once a month for a small purchase, then pay it off immediately. Talk to the lender about reducing your deposit.\\n When applying for a secured credit card, you’ll need to provide a security deposit, sometimes up to $10,000. This money backs your credit card and provides you with a maximum credit limit. After upgrading to an unsecured credit card, however, you must be sure to get your security deposit back.Talk to your financial institution or creditor about how to do so.\\n\\n\\nIf a bank or credit union issued you your card, they’ll probably deposit the money in your account. If you got the card directly from a credit card company, they’ll probably send you a check, or put the money toward your credit card card.\\nYou might get the runaround from your card issuer. Be persistent and insist on getting the deposit back.</td>\n",
              "      <td>Maintain your current financial relationship.You’re more likely to get an unsecured credit card from a company that already knows all about your credit history and has done business with you in the past.\\nAsk your financial institution if it is possible to convert your card.Call your financial institution, or go in person, to inquire about the process of converting your card from secured to unsecured.\\nUnderstand your lender’s policies.You might need to talk to your credit card company directly, or the institution where you want to obtain the unsecured card.\\nGet a card without fees.If you have a card with fees, you’ll end up paying extra just to use it (and could even end up paying a fee if you don’t use it enough).\\nChoose a card that fits your spending style.\\nDon’t cancel your secured card right away if you are unable to convert your card.\\nRecover your security deposit.</td>\n",
              "      <td>How to Change a Secured to an Unsecured Credit Card1</td>\n",
              "    </tr>\n",
              "    <tr>\n",
              "      <th>2</th>\n",
              "      <td>Examine the wound and look carefully at the victim. Check to see if the victim has a bleeding head wound. Concussions might not bleed on the surface, but under the scalp, creating a \"goose egg\" or a hematoma (a large bruise).Visible external injuries are not always a good way to tell if someone has a concussion since some very minor scalp wounds bleed profusely, while some less visible impact injuries can cause major brain impairment.\\nPhysical symptoms to look for include signs of basilar skull fracture, Battle’s sign (a swollen bruised area that appears several days after a skull fracture because blood has leaked into the area behind the ear), raccoon eyes, and rhinorrhea (leakage of cerebrospinal fluid).;\\n, Mild and severe concussions can result in many physical symptoms. Look for any of the following symptoms:\\n\\n\\nLoss of consciousness.\\nSevere headache.\\nLight sensitivity.\\nDouble or blurred vision.\\nSeeing \"stars\", spots or other visual anomalies.\\nLoss of coordination and balance.\\nVertigo.\\nNumbness, tingling, or weakness in legs and arms.\\nNausea and vomiting.Amnesia.\\nObvious confusion.\\n Since a concussion is an ailment of the brain, concussions often disrupt brain function. These disruptions include:\\n\\n\\nUnusual irritability or excitability.\\nDisinterest or difficulties with concentration, logic, and memory.\\nMood swings or outbursts of inappropriate emotions and tearfulness.\\nDrowsiness or lethargy.\\n When checking for a concussion, it is important to know whether or not the victim is conscious and know his or her level of cognitive function. To check the consciousness of the victim, try the AVPU code:A - Is the victim alert? - Does the victim watch you with their eyes? Does he answer your questions? Does he respond to normal environmental stimuli?\\nV - Does the victim respond to voice? - Does the victim respond when spoken to, even if the response is small and not completely alert? Does he need to be yelled at to respond? A victim can respond to verbal commands and not be alert. A response of \"Huh?\" when you speak to them means they are verbally responsive, yet not alert.\\nP - Does the victim respond to pain or touch? - Pinch skin to see if there is movement or if the victim opens his eyes. Another technique is to pinch or poke the nail bed. Be careful when doing this; you do not want to cause unnecessary harm to the victim. You are simply trying to get a physical response from him.U - Is the victim unresponsive to anything attempted?\\n\\n, Most concussion symptoms appear within minutes of the injury. Others appear hours later. Some symptoms can change days later. Keep a watch on the victim and call a doctor if symptoms worsen or change., To reduce swelling with a minor injury, apply an ice pack to the affected area. Apply ice every two to four hours, for 20-30 minute increments.Do not apply ice directly to the skin. Wrap it in a cloth or plastic. If ice is not available, use a bag of frozen vegetables.\\nDo not apply pressure to any head trauma wound as this could push bone splinters into the brain.\\n To treat head pain at home, take acetaminophen (Tylenol). Do not take ibuprofen or aspirin because that could make bruising or bleeding worse., If the victim is conscious, ask questions continually. This serves two purposes: to assess the degree of the victim's impairment, and to keep the victim awake. Continuing to ask questions can alert you to changes in the victim's cognitive state if the victim fails to answer a question they could answer before. If the cognitive state changes and worsens, seek medical attention. Good questions include:\\n\\n\\nWhat is today's date?\\nWhere are you?\\nWhat happened to you?\\nWhat is your name?\\nAre you feeling alright?\\nCan you repeat the following words after me...?\\n\\n, For the first twenty-four hours, stay with the victim. Do not leave them alone. Monitor their physical and cognitive function for any changes. If the victim wishes to sleep, wake the victim every quarter hour for the first 2 hours, then every half hour for the following 2 hours, then hourly.Every time you wake them, do the AVPU consciousness test as outlined above. You want to continuously monitor their cognitive and physical state in case symptoms appear later or worsen.\\nIf the victim does not respond to being woken up, treat as an unconscious patient.\\n For days after your concussion, avoid sports and strenuous activity. During this time, avoid stressful situations. Your brain needs to rest and heal.Before taking part in sports, you may want to contact your doctor.\\n\\n\\nReturning to activity too early predisposes you to increased risk for a repeat concussion and long term problems of dementia.\\n Do not operate a vehicle or ride a bicycle until you feel fully healed. Get someone to drive you to and from the doctor's office or hospital.\\n Do not read, watch TV, text, listen to music, play video games, or perform any other mental task. You should rest both physically and mentally., Food can positively and negatively affect the healing of your brain. Avoid alcohol after a concussion. Also avoid fried foods, sugars, caffeine, artificial colors and flavors. Instead, eat the following foods:\\n\\n\\nAvocados.\\nBlueberries.\\nCoconut oil.\\nNuts and seeds.\\nSalmon.\\nButter, cheese, and eggs.\\nHoney.\\nAny of your favorite fruits and vegetables., Any suspected head injury or concussion needs to be evaluated by a medical professional. What may seem like a minor head injury could be a fatal one. If the victim is not regaining consciousness, call for an ambulance. Otherwise, drive the victim to the nearest emergency room or doctor's office.If the patient is unconscious or if you are unsure the extent of the damage, call an ambulance. Driving a head trauma patient requires moving them, which should never done until the head is stabilized. Moving a head trauma patient could lead to death.\\nIt may be best to be evaluated in the emergency room if you have a loss of consciousness or severe amnesia. A doctor will order a test called a CT scan to evaluate for swelling or bleeding and diagnose the concussion. Another name for a concussion is mild traumatic brain injury.\\n For severe concussions, you may want to take the victim to the emergency room. If the victim shows any of these symptoms, take them immediately to the ER:\\n\\n\\nLoss of consciousness, even if briefly.\\nPeriods of amnesia.\\nFeeling dazed or confused.\\nSevere headache.\\nRepeated vomiting.\\nSeizure., If you think a neck or spine injury may accompany the concussion, avoid moving the victim while waiting on the paramedics. Moving the person may cause further injury.\\n\\n\\nIf you must move the person, do so very carefully. Make sure to move the head and the back as little as possible., If your symptoms do not improve within 7-10 days, contact your physician. If at any time your symptoms change or worsen, contact your physician., There is very little known about the effects of concussion on the brain and on cognitive function. However, some treatments prescribed by your doctor may improve lingering symptoms.\\n\\n\\nA doctor may perform any number of scans, including an MRI, CT, or EEG.A doctor may also perform a neurological test that evaluates your vision, hearing, reflexes, and coordination. Another test they may perform is a cognitive test, which checks memory, concentration, and recall.</td>\n",
              "      <td>Assess the victim.\\nCheck for physical symptoms.\\nCheck for cognitive symptoms.\\nAssess consciousness.\\nWatch the victim afterwards.\\nApply ice.\\nTake over the counter pain medicine.\\nKeep focused.\\nStay with the victim.\\nAvoid strenuous activity.\\nDon't drive.\\nRest.\\nEat brain-healthy foods.\\nContact a doctor.\\nGo to the hospital.\\nStay still and avoid movement.\\nFollow up.\\nContinue treatment.</td>\n",
              "      <td>How to Treat a Concussion</td>\n",
              "    </tr>\n",
              "    <tr>\n",
              "      <th>3</th>\n",
              "      <td>Nail polish dries due evaporation of the solvents it contains. Applying the second coat effectively softens these same solvents. This allows the polish to return to a liquid state and be wiped away. The best type of polish for this method is thin and slow to dry. A clear top coat would work, as they tend to dry slowly. Avoid quick dry nail polishes or sprays or drops that cause nails to dry faster.Some blogs suggest that darker colors than the polish you're removing often have the best effects. That said, the rate at which a polish dries is the most important factor. It should be slow., Paint the nail, covering the old polish. You do not need to take as much time applying the polish as you normally would as you are going to wipe it off anyway. Do not allow the new polish to dry. If it dries on, the nail polish will be even more difficult to remove which will take even longer.\\n Immediately after adding new polish, wipe off the old nail polish. For the best results, use a paper towel.\\n\\n\\n\\n\\n\\n\\n\\n\\nWhile many people typically use cotton balls when using nail polish remover, you should avoid cotton balls when using this method. They are likely to break apart or get stuck to the wet polish, leaving the polish stuck on.You may have to apply some force for the best effect. While using a second layer of nail polish is effective, it may require slightly more effort than using normal remover to wipe up the old paint, This method may take a few tries before it works correctly. Keep adding another layer of nail polish and rubbing it off. It may take two or three rounds before polish is fully removed. Difficult to remove polishes, like glitter-based polishes, will require more care.\\n\\n\\n\\n\\n\\n\\n\\n\\nThis method is often a good start, removing the main chunks of paint. You can then use the DIY methods above to finish removing the paint.</td>\n",
              "      <td>Select another nail polish that will not dry too quickly.\\nApply the polish to one nail at a time.\\nWipe the new polish off quickly.\\nRepeat painting and wiping until your nails are free of polish.</td>\n",
              "      <td>How to Remove Nail Polish Without Using Remover2</td>\n",
              "    </tr>\n",
              "    <tr>\n",
              "      <th>4</th>\n",
              "      <td>For your redstone torch to flicker, it must be mounted on a wall, rather than planted on the floor. Find the spot where you want your final flickering torch to be. Note that the torch must be mounted on the highest block of the wall - for the \"flicker\" to work, it can't be any lower.\\n\\n\\nAlso note that because it's necessary to lay redstone dust on top of the block the torch is on, you'll want unimpeded access to the top of the wall.\\n Equip your redstone torch and mount it on the top block of the wall. To be clear, you must mount it on the side of the top block in the wall, not on the very top of the wall.\\n Lay one redstone dust on top of the block with the redstone torch on it. This should cause your torch (and the dust) to begin to flash on and off.\\n If the redstone dust on top of your wall ruins the aesthetic of your structure, you may want to hide the dust by concealing in the construction of your wall. Use any sort of block you wish to conceal the redstone dust. Note, however, that, if you're creating a building, you may need to work these blocks into the plans for your ceiling..</td>\n",
              "      <td>Find a suitable wall.\\nPlace your torch at the top of the wall.\\nAdd redstone dust to the top of the wall.\\nIf desired, surround the redstone dust with blocks.</td>\n",
              "      <td>How to Create Flickering Redstone Torches in Minecraft2</td>\n",
              "    </tr>\n",
              "  </tbody>\n",
              "</table>"
            ],
            "text/plain": [
              "<IPython.core.display.HTML object>"
            ]
          },
          "metadata": {}
        }
      ]
    },
    {
      "cell_type": "code",
      "source": [
        "# map article and summary len to dict as well as if sample is longer than 512 tokens\n",
        "def map_to_length(x):\n",
        "  x[\"article_len\"] = len(tokenizer(x[\"text\"]).input_ids)\n",
        "  x[\"article_longer_512\"] = int(x[\"article_len\"] > 512)\n",
        "  x[\"summary_len\"] = len(tokenizer(x[\"headline\"]).input_ids)\n",
        "  x[\"summary_longer_64\"] = int(x[\"summary_len\"] > 64)\n",
        "  x[\"summary_longer_128\"] = int(x[\"summary_len\"] > 128)\n",
        "  return x"
      ],
      "metadata": {
        "id": "AHk6oLzFWTXm"
      },
      "execution_count": 20,
      "outputs": []
    },
    {
      "cell_type": "code",
      "source": [
        "sample_size = 20000\n",
        "data_stats = train_wiki.select(range(sample_size)).map(map_to_length, num_proc=4)"
      ],
      "metadata": {
        "colab": {
          "base_uri": "https://localhost:8080/",
          "height": 106
        },
        "outputId": "57ef4535-0d30-49f0-9326-d90f94127806",
        "id": "ewi-AfH4WTXm"
      },
      "execution_count": 21,
      "outputs": [
        {
          "output_type": "stream",
          "name": "stderr",
          "text": [
            "Token indices sequence length is longer than the specified maximum sequence length for this model (785 > 512). Running this sequence through the model will result in indexing errors\n",
            "Token indices sequence length is longer than the specified maximum sequence length for this model (885 > 512). Running this sequence through the model will result in indexing errors\n",
            "Token indices sequence length is longer than the specified maximum sequence length for this model (807 > 512). Running this sequence through the model will result in indexing errors\n",
            "Token indices sequence length is longer than the specified maximum sequence length for this model (600 > 512). Running this sequence through the model will result in indexing errors\n"
          ]
        }
      ]
    },
    {
      "cell_type": "code",
      "source": [
        "def compute_and_print_stats(x):\n",
        "  if len(x[\"article_len\"]) == sample_size:\n",
        "    print(\n",
        "        \"Article Mean: {}, %-Articles > 512:{}, Summary Mean:{}, %-Summary > 64:{}, %-Summary > 128:{}\".format(\n",
        "            sum(x[\"article_len\"]) / sample_size,\n",
        "            sum(x[\"article_longer_512\"]) / sample_size, \n",
        "            sum(x[\"summary_len\"]) / sample_size,\n",
        "            sum(x[\"summary_longer_64\"]) / sample_size,\n",
        "            sum(x[\"summary_longer_128\"]) / sample_size,\n",
        "        )\n",
        "    )\n",
        "\n",
        "output = data_stats.map(\n",
        "  compute_and_print_stats, \n",
        "  batched=True,\n",
        "  batch_size=-1,\n",
        ")"
      ],
      "metadata": {
        "colab": {
          "base_uri": "https://localhost:8080/",
          "height": 66,
          "referenced_widgets": [
            "066361518d704ca5a123add2b0473a74",
            "37a678f5882349699ea51286603fc121",
            "64ae47459f6b4f7e86a1ac902236572b",
            "37bd0de2f5c743c2880d2448565e07d4",
            "68e0da8b5e4046cb9ca50ac4263e694f",
            "0bc74a15e32c47e0a7de9833302eb86c",
            "f51ae547447e4b8a9e23b47529b60b4c",
            "14a9a8f6b6664275af6f2f0dfd508986",
            "3da7c9e7475e4e01a8262097b9561706",
            "fb9ed12554b84344920826f055292ecf",
            "125b948d2847423db2196b78b7362d67"
          ]
        },
        "outputId": "9c80cb59-ad42-402f-ced4-85c6eca4d829",
        "id": "Baf_46tzWTXm"
      },
      "execution_count": 22,
      "outputs": [
        {
          "output_type": "display_data",
          "data": {
            "application/vnd.jupyter.widget-view+json": {
              "model_id": "066361518d704ca5a123add2b0473a74",
              "version_minor": 0,
              "version_major": 2
            },
            "text/plain": [
              "  0%|          | 0/1 [00:00<?, ?ba/s]"
            ]
          },
          "metadata": {}
        },
        {
          "output_type": "stream",
          "name": "stdout",
          "text": [
            "Article Mean: 795.8587, %-Articles > 512:0.5574, Summary Mean:72.78955, %-Summary > 64:0.4139, %-Summary > 128:0.1335\n"
          ]
        }
      ]
    },
    {
      "cell_type": "markdown",
      "source": [
        "We can see that on average an article contains 796 tokens with over half of the articles being longer than 512. The summary is on average 73 tokens long. Over 40% of our 20000-sample summaries are longer than 64 tokens, and few are longer than 128 tokens.\n",
        "\n",
        "Since T5 has not hard limit of `max_length` on tokenizer, It should be reasonable to use **1024** for tokenized article length and **128** for tokenized summary length on T5 tokenizer for this dataset."
      ],
      "metadata": {
        "id": "pZw6eGbRg8vg"
      }
    }
  ]
}
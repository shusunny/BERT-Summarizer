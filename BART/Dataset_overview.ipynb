{
  "nbformat": 4,
  "nbformat_minor": 0,
  "metadata": {
    "colab": {
      "name": "Dataset-overview",
      "provenance": [],
      "collapsed_sections": [
        "whPRbBNbIrIl"
      ],
      "machine_shape": "hm",
      "toc_visible": true
    },
    "language_info": {
      "name": "python"
    },
    "kernelspec": {
      "name": "python3",
      "display_name": "Python 3"
    },
    "widgets": {
      "application/vnd.jupyter.widget-state+json": {
        "2b488b5ae4c74a42abeea6245318f083": {
          "model_module": "@jupyter-widgets/controls",
          "model_name": "HBoxModel",
          "model_module_version": "1.5.0",
          "state": {
            "_view_name": "HBoxView",
            "_dom_classes": [],
            "_model_name": "HBoxModel",
            "_view_module": "@jupyter-widgets/controls",
            "_model_module_version": "1.5.0",
            "_view_count": null,
            "_view_module_version": "1.5.0",
            "box_style": "",
            "layout": "IPY_MODEL_643fdb2719034400bbcd64ec0468a249",
            "_model_module": "@jupyter-widgets/controls",
            "children": [
              "IPY_MODEL_ba180cd3113343918e77b9aeef6ef45e",
              "IPY_MODEL_1232eeeba735442d85237b72251dbee8",
              "IPY_MODEL_8d4b7d1de8ba43c99b2feac5135ec8ad"
            ]
          }
        },
        "643fdb2719034400bbcd64ec0468a249": {
          "model_module": "@jupyter-widgets/base",
          "model_name": "LayoutModel",
          "model_module_version": "1.2.0",
          "state": {
            "_view_name": "LayoutView",
            "grid_template_rows": null,
            "right": null,
            "justify_content": null,
            "_view_module": "@jupyter-widgets/base",
            "overflow": null,
            "_model_module_version": "1.2.0",
            "_view_count": null,
            "flex_flow": null,
            "width": null,
            "min_width": null,
            "border": null,
            "align_items": null,
            "bottom": null,
            "_model_module": "@jupyter-widgets/base",
            "top": null,
            "grid_column": null,
            "overflow_y": null,
            "overflow_x": null,
            "grid_auto_flow": null,
            "grid_area": null,
            "grid_template_columns": null,
            "flex": null,
            "_model_name": "LayoutModel",
            "justify_items": null,
            "grid_row": null,
            "max_height": null,
            "align_content": null,
            "visibility": null,
            "align_self": null,
            "height": null,
            "min_height": null,
            "padding": null,
            "grid_auto_rows": null,
            "grid_gap": null,
            "max_width": null,
            "order": null,
            "_view_module_version": "1.2.0",
            "grid_template_areas": null,
            "object_position": null,
            "object_fit": null,
            "grid_auto_columns": null,
            "margin": null,
            "display": null,
            "left": null
          }
        },
        "ba180cd3113343918e77b9aeef6ef45e": {
          "model_module": "@jupyter-widgets/controls",
          "model_name": "HTMLModel",
          "model_module_version": "1.5.0",
          "state": {
            "_view_name": "HTMLView",
            "style": "IPY_MODEL_707a7ee6fcbc45f0b9837836c5321c26",
            "_dom_classes": [],
            "description": "",
            "_model_name": "HTMLModel",
            "placeholder": "​",
            "_view_module": "@jupyter-widgets/controls",
            "_model_module_version": "1.5.0",
            "value": "Downloading: 100%",
            "_view_count": null,
            "_view_module_version": "1.5.0",
            "description_tooltip": null,
            "_model_module": "@jupyter-widgets/controls",
            "layout": "IPY_MODEL_e556ddc75f5a4706acf5dbe9905efca0"
          }
        },
        "1232eeeba735442d85237b72251dbee8": {
          "model_module": "@jupyter-widgets/controls",
          "model_name": "FloatProgressModel",
          "model_module_version": "1.5.0",
          "state": {
            "_view_name": "ProgressView",
            "style": "IPY_MODEL_c1ebed660c394a728ec0d6e8693d5dc1",
            "_dom_classes": [],
            "description": "",
            "_model_name": "FloatProgressModel",
            "bar_style": "success",
            "max": 898823,
            "_view_module": "@jupyter-widgets/controls",
            "_model_module_version": "1.5.0",
            "value": 898823,
            "_view_count": null,
            "_view_module_version": "1.5.0",
            "orientation": "horizontal",
            "min": 0,
            "description_tooltip": null,
            "_model_module": "@jupyter-widgets/controls",
            "layout": "IPY_MODEL_8d6e7df420334a0388460fd049408116"
          }
        },
        "8d4b7d1de8ba43c99b2feac5135ec8ad": {
          "model_module": "@jupyter-widgets/controls",
          "model_name": "HTMLModel",
          "model_module_version": "1.5.0",
          "state": {
            "_view_name": "HTMLView",
            "style": "IPY_MODEL_729ed65dee114a15873c40532c8d0261",
            "_dom_classes": [],
            "description": "",
            "_model_name": "HTMLModel",
            "placeholder": "​",
            "_view_module": "@jupyter-widgets/controls",
            "_model_module_version": "1.5.0",
            "value": " 878k/878k [00:00&lt;00:00, 3.07MB/s]",
            "_view_count": null,
            "_view_module_version": "1.5.0",
            "description_tooltip": null,
            "_model_module": "@jupyter-widgets/controls",
            "layout": "IPY_MODEL_75935ecd92974d719598880102b7820a"
          }
        },
        "707a7ee6fcbc45f0b9837836c5321c26": {
          "model_module": "@jupyter-widgets/controls",
          "model_name": "DescriptionStyleModel",
          "model_module_version": "1.5.0",
          "state": {
            "_view_name": "StyleView",
            "_model_name": "DescriptionStyleModel",
            "description_width": "",
            "_view_module": "@jupyter-widgets/base",
            "_model_module_version": "1.5.0",
            "_view_count": null,
            "_view_module_version": "1.2.0",
            "_model_module": "@jupyter-widgets/controls"
          }
        },
        "e556ddc75f5a4706acf5dbe9905efca0": {
          "model_module": "@jupyter-widgets/base",
          "model_name": "LayoutModel",
          "model_module_version": "1.2.0",
          "state": {
            "_view_name": "LayoutView",
            "grid_template_rows": null,
            "right": null,
            "justify_content": null,
            "_view_module": "@jupyter-widgets/base",
            "overflow": null,
            "_model_module_version": "1.2.0",
            "_view_count": null,
            "flex_flow": null,
            "width": null,
            "min_width": null,
            "border": null,
            "align_items": null,
            "bottom": null,
            "_model_module": "@jupyter-widgets/base",
            "top": null,
            "grid_column": null,
            "overflow_y": null,
            "overflow_x": null,
            "grid_auto_flow": null,
            "grid_area": null,
            "grid_template_columns": null,
            "flex": null,
            "_model_name": "LayoutModel",
            "justify_items": null,
            "grid_row": null,
            "max_height": null,
            "align_content": null,
            "visibility": null,
            "align_self": null,
            "height": null,
            "min_height": null,
            "padding": null,
            "grid_auto_rows": null,
            "grid_gap": null,
            "max_width": null,
            "order": null,
            "_view_module_version": "1.2.0",
            "grid_template_areas": null,
            "object_position": null,
            "object_fit": null,
            "grid_auto_columns": null,
            "margin": null,
            "display": null,
            "left": null
          }
        },
        "c1ebed660c394a728ec0d6e8693d5dc1": {
          "model_module": "@jupyter-widgets/controls",
          "model_name": "ProgressStyleModel",
          "model_module_version": "1.5.0",
          "state": {
            "_view_name": "StyleView",
            "_model_name": "ProgressStyleModel",
            "description_width": "",
            "_view_module": "@jupyter-widgets/base",
            "_model_module_version": "1.5.0",
            "_view_count": null,
            "_view_module_version": "1.2.0",
            "bar_color": null,
            "_model_module": "@jupyter-widgets/controls"
          }
        },
        "8d6e7df420334a0388460fd049408116": {
          "model_module": "@jupyter-widgets/base",
          "model_name": "LayoutModel",
          "model_module_version": "1.2.0",
          "state": {
            "_view_name": "LayoutView",
            "grid_template_rows": null,
            "right": null,
            "justify_content": null,
            "_view_module": "@jupyter-widgets/base",
            "overflow": null,
            "_model_module_version": "1.2.0",
            "_view_count": null,
            "flex_flow": null,
            "width": null,
            "min_width": null,
            "border": null,
            "align_items": null,
            "bottom": null,
            "_model_module": "@jupyter-widgets/base",
            "top": null,
            "grid_column": null,
            "overflow_y": null,
            "overflow_x": null,
            "grid_auto_flow": null,
            "grid_area": null,
            "grid_template_columns": null,
            "flex": null,
            "_model_name": "LayoutModel",
            "justify_items": null,
            "grid_row": null,
            "max_height": null,
            "align_content": null,
            "visibility": null,
            "align_self": null,
            "height": null,
            "min_height": null,
            "padding": null,
            "grid_auto_rows": null,
            "grid_gap": null,
            "max_width": null,
            "order": null,
            "_view_module_version": "1.2.0",
            "grid_template_areas": null,
            "object_position": null,
            "object_fit": null,
            "grid_auto_columns": null,
            "margin": null,
            "display": null,
            "left": null
          }
        },
        "729ed65dee114a15873c40532c8d0261": {
          "model_module": "@jupyter-widgets/controls",
          "model_name": "DescriptionStyleModel",
          "model_module_version": "1.5.0",
          "state": {
            "_view_name": "StyleView",
            "_model_name": "DescriptionStyleModel",
            "description_width": "",
            "_view_module": "@jupyter-widgets/base",
            "_model_module_version": "1.5.0",
            "_view_count": null,
            "_view_module_version": "1.2.0",
            "_model_module": "@jupyter-widgets/controls"
          }
        },
        "75935ecd92974d719598880102b7820a": {
          "model_module": "@jupyter-widgets/base",
          "model_name": "LayoutModel",
          "model_module_version": "1.2.0",
          "state": {
            "_view_name": "LayoutView",
            "grid_template_rows": null,
            "right": null,
            "justify_content": null,
            "_view_module": "@jupyter-widgets/base",
            "overflow": null,
            "_model_module_version": "1.2.0",
            "_view_count": null,
            "flex_flow": null,
            "width": null,
            "min_width": null,
            "border": null,
            "align_items": null,
            "bottom": null,
            "_model_module": "@jupyter-widgets/base",
            "top": null,
            "grid_column": null,
            "overflow_y": null,
            "overflow_x": null,
            "grid_auto_flow": null,
            "grid_area": null,
            "grid_template_columns": null,
            "flex": null,
            "_model_name": "LayoutModel",
            "justify_items": null,
            "grid_row": null,
            "max_height": null,
            "align_content": null,
            "visibility": null,
            "align_self": null,
            "height": null,
            "min_height": null,
            "padding": null,
            "grid_auto_rows": null,
            "grid_gap": null,
            "max_width": null,
            "order": null,
            "_view_module_version": "1.2.0",
            "grid_template_areas": null,
            "object_position": null,
            "object_fit": null,
            "grid_auto_columns": null,
            "margin": null,
            "display": null,
            "left": null
          }
        },
        "6ce88fb701bc4dc69ba016bc6194cdee": {
          "model_module": "@jupyter-widgets/controls",
          "model_name": "HBoxModel",
          "model_module_version": "1.5.0",
          "state": {
            "_view_name": "HBoxView",
            "_dom_classes": [],
            "_model_name": "HBoxModel",
            "_view_module": "@jupyter-widgets/controls",
            "_model_module_version": "1.5.0",
            "_view_count": null,
            "_view_module_version": "1.5.0",
            "box_style": "",
            "layout": "IPY_MODEL_2950ce9530464784b97c4bd81b47a2f8",
            "_model_module": "@jupyter-widgets/controls",
            "children": [
              "IPY_MODEL_95c09fd2d40f403f85e4fb9cea560e96",
              "IPY_MODEL_3da192b65b7743bd8c961d0f8a13e54e",
              "IPY_MODEL_713f119be09b4fc1bec5b0465715cea7"
            ]
          }
        },
        "2950ce9530464784b97c4bd81b47a2f8": {
          "model_module": "@jupyter-widgets/base",
          "model_name": "LayoutModel",
          "model_module_version": "1.2.0",
          "state": {
            "_view_name": "LayoutView",
            "grid_template_rows": null,
            "right": null,
            "justify_content": null,
            "_view_module": "@jupyter-widgets/base",
            "overflow": null,
            "_model_module_version": "1.2.0",
            "_view_count": null,
            "flex_flow": null,
            "width": null,
            "min_width": null,
            "border": null,
            "align_items": null,
            "bottom": null,
            "_model_module": "@jupyter-widgets/base",
            "top": null,
            "grid_column": null,
            "overflow_y": null,
            "overflow_x": null,
            "grid_auto_flow": null,
            "grid_area": null,
            "grid_template_columns": null,
            "flex": null,
            "_model_name": "LayoutModel",
            "justify_items": null,
            "grid_row": null,
            "max_height": null,
            "align_content": null,
            "visibility": null,
            "align_self": null,
            "height": null,
            "min_height": null,
            "padding": null,
            "grid_auto_rows": null,
            "grid_gap": null,
            "max_width": null,
            "order": null,
            "_view_module_version": "1.2.0",
            "grid_template_areas": null,
            "object_position": null,
            "object_fit": null,
            "grid_auto_columns": null,
            "margin": null,
            "display": null,
            "left": null
          }
        },
        "95c09fd2d40f403f85e4fb9cea560e96": {
          "model_module": "@jupyter-widgets/controls",
          "model_name": "HTMLModel",
          "model_module_version": "1.5.0",
          "state": {
            "_view_name": "HTMLView",
            "style": "IPY_MODEL_05af130261dc4d5a80b2e42da0840556",
            "_dom_classes": [],
            "description": "",
            "_model_name": "HTMLModel",
            "placeholder": "​",
            "_view_module": "@jupyter-widgets/controls",
            "_model_module_version": "1.5.0",
            "value": "Downloading: 100%",
            "_view_count": null,
            "_view_module_version": "1.5.0",
            "description_tooltip": null,
            "_model_module": "@jupyter-widgets/controls",
            "layout": "IPY_MODEL_e64eeb3d38ba4c5c935e39ccd220d3d9"
          }
        },
        "3da192b65b7743bd8c961d0f8a13e54e": {
          "model_module": "@jupyter-widgets/controls",
          "model_name": "FloatProgressModel",
          "model_module_version": "1.5.0",
          "state": {
            "_view_name": "ProgressView",
            "style": "IPY_MODEL_18f7fbca9fbf40d2af4a3f3011bdb0ec",
            "_dom_classes": [],
            "description": "",
            "_model_name": "FloatProgressModel",
            "bar_style": "success",
            "max": 456318,
            "_view_module": "@jupyter-widgets/controls",
            "_model_module_version": "1.5.0",
            "value": 456318,
            "_view_count": null,
            "_view_module_version": "1.5.0",
            "orientation": "horizontal",
            "min": 0,
            "description_tooltip": null,
            "_model_module": "@jupyter-widgets/controls",
            "layout": "IPY_MODEL_d73e95a72af04a7eaed483063b34d49f"
          }
        },
        "713f119be09b4fc1bec5b0465715cea7": {
          "model_module": "@jupyter-widgets/controls",
          "model_name": "HTMLModel",
          "model_module_version": "1.5.0",
          "state": {
            "_view_name": "HTMLView",
            "style": "IPY_MODEL_bc26a4dbbf5345e7917fd12e3de8e3d0",
            "_dom_classes": [],
            "description": "",
            "_model_name": "HTMLModel",
            "placeholder": "​",
            "_view_module": "@jupyter-widgets/controls",
            "_model_module_version": "1.5.0",
            "value": " 446k/446k [00:00&lt;00:00, 3.24MB/s]",
            "_view_count": null,
            "_view_module_version": "1.5.0",
            "description_tooltip": null,
            "_model_module": "@jupyter-widgets/controls",
            "layout": "IPY_MODEL_46bfab04a6824226b0d8f8e6acff1a69"
          }
        },
        "05af130261dc4d5a80b2e42da0840556": {
          "model_module": "@jupyter-widgets/controls",
          "model_name": "DescriptionStyleModel",
          "model_module_version": "1.5.0",
          "state": {
            "_view_name": "StyleView",
            "_model_name": "DescriptionStyleModel",
            "description_width": "",
            "_view_module": "@jupyter-widgets/base",
            "_model_module_version": "1.5.0",
            "_view_count": null,
            "_view_module_version": "1.2.0",
            "_model_module": "@jupyter-widgets/controls"
          }
        },
        "e64eeb3d38ba4c5c935e39ccd220d3d9": {
          "model_module": "@jupyter-widgets/base",
          "model_name": "LayoutModel",
          "model_module_version": "1.2.0",
          "state": {
            "_view_name": "LayoutView",
            "grid_template_rows": null,
            "right": null,
            "justify_content": null,
            "_view_module": "@jupyter-widgets/base",
            "overflow": null,
            "_model_module_version": "1.2.0",
            "_view_count": null,
            "flex_flow": null,
            "width": null,
            "min_width": null,
            "border": null,
            "align_items": null,
            "bottom": null,
            "_model_module": "@jupyter-widgets/base",
            "top": null,
            "grid_column": null,
            "overflow_y": null,
            "overflow_x": null,
            "grid_auto_flow": null,
            "grid_area": null,
            "grid_template_columns": null,
            "flex": null,
            "_model_name": "LayoutModel",
            "justify_items": null,
            "grid_row": null,
            "max_height": null,
            "align_content": null,
            "visibility": null,
            "align_self": null,
            "height": null,
            "min_height": null,
            "padding": null,
            "grid_auto_rows": null,
            "grid_gap": null,
            "max_width": null,
            "order": null,
            "_view_module_version": "1.2.0",
            "grid_template_areas": null,
            "object_position": null,
            "object_fit": null,
            "grid_auto_columns": null,
            "margin": null,
            "display": null,
            "left": null
          }
        },
        "18f7fbca9fbf40d2af4a3f3011bdb0ec": {
          "model_module": "@jupyter-widgets/controls",
          "model_name": "ProgressStyleModel",
          "model_module_version": "1.5.0",
          "state": {
            "_view_name": "StyleView",
            "_model_name": "ProgressStyleModel",
            "description_width": "",
            "_view_module": "@jupyter-widgets/base",
            "_model_module_version": "1.5.0",
            "_view_count": null,
            "_view_module_version": "1.2.0",
            "bar_color": null,
            "_model_module": "@jupyter-widgets/controls"
          }
        },
        "d73e95a72af04a7eaed483063b34d49f": {
          "model_module": "@jupyter-widgets/base",
          "model_name": "LayoutModel",
          "model_module_version": "1.2.0",
          "state": {
            "_view_name": "LayoutView",
            "grid_template_rows": null,
            "right": null,
            "justify_content": null,
            "_view_module": "@jupyter-widgets/base",
            "overflow": null,
            "_model_module_version": "1.2.0",
            "_view_count": null,
            "flex_flow": null,
            "width": null,
            "min_width": null,
            "border": null,
            "align_items": null,
            "bottom": null,
            "_model_module": "@jupyter-widgets/base",
            "top": null,
            "grid_column": null,
            "overflow_y": null,
            "overflow_x": null,
            "grid_auto_flow": null,
            "grid_area": null,
            "grid_template_columns": null,
            "flex": null,
            "_model_name": "LayoutModel",
            "justify_items": null,
            "grid_row": null,
            "max_height": null,
            "align_content": null,
            "visibility": null,
            "align_self": null,
            "height": null,
            "min_height": null,
            "padding": null,
            "grid_auto_rows": null,
            "grid_gap": null,
            "max_width": null,
            "order": null,
            "_view_module_version": "1.2.0",
            "grid_template_areas": null,
            "object_position": null,
            "object_fit": null,
            "grid_auto_columns": null,
            "margin": null,
            "display": null,
            "left": null
          }
        },
        "bc26a4dbbf5345e7917fd12e3de8e3d0": {
          "model_module": "@jupyter-widgets/controls",
          "model_name": "DescriptionStyleModel",
          "model_module_version": "1.5.0",
          "state": {
            "_view_name": "StyleView",
            "_model_name": "DescriptionStyleModel",
            "description_width": "",
            "_view_module": "@jupyter-widgets/base",
            "_model_module_version": "1.5.0",
            "_view_count": null,
            "_view_module_version": "1.2.0",
            "_model_module": "@jupyter-widgets/controls"
          }
        },
        "46bfab04a6824226b0d8f8e6acff1a69": {
          "model_module": "@jupyter-widgets/base",
          "model_name": "LayoutModel",
          "model_module_version": "1.2.0",
          "state": {
            "_view_name": "LayoutView",
            "grid_template_rows": null,
            "right": null,
            "justify_content": null,
            "_view_module": "@jupyter-widgets/base",
            "overflow": null,
            "_model_module_version": "1.2.0",
            "_view_count": null,
            "flex_flow": null,
            "width": null,
            "min_width": null,
            "border": null,
            "align_items": null,
            "bottom": null,
            "_model_module": "@jupyter-widgets/base",
            "top": null,
            "grid_column": null,
            "overflow_y": null,
            "overflow_x": null,
            "grid_auto_flow": null,
            "grid_area": null,
            "grid_template_columns": null,
            "flex": null,
            "_model_name": "LayoutModel",
            "justify_items": null,
            "grid_row": null,
            "max_height": null,
            "align_content": null,
            "visibility": null,
            "align_self": null,
            "height": null,
            "min_height": null,
            "padding": null,
            "grid_auto_rows": null,
            "grid_gap": null,
            "max_width": null,
            "order": null,
            "_view_module_version": "1.2.0",
            "grid_template_areas": null,
            "object_position": null,
            "object_fit": null,
            "grid_auto_columns": null,
            "margin": null,
            "display": null,
            "left": null
          }
        },
        "64097da008c948a8b30e3ace2297f958": {
          "model_module": "@jupyter-widgets/controls",
          "model_name": "HBoxModel",
          "model_module_version": "1.5.0",
          "state": {
            "_view_name": "HBoxView",
            "_dom_classes": [],
            "_model_name": "HBoxModel",
            "_view_module": "@jupyter-widgets/controls",
            "_model_module_version": "1.5.0",
            "_view_count": null,
            "_view_module_version": "1.5.0",
            "box_style": "",
            "layout": "IPY_MODEL_ec8b59b6858c40fbb540f7bb7dff2f22",
            "_model_module": "@jupyter-widgets/controls",
            "children": [
              "IPY_MODEL_2726dc16860449e8bd5e3e553ebbffa6",
              "IPY_MODEL_e37e68067abe464da99b8408798f32bb",
              "IPY_MODEL_883914c453c24c868b461489ad0da30d"
            ]
          }
        },
        "ec8b59b6858c40fbb540f7bb7dff2f22": {
          "model_module": "@jupyter-widgets/base",
          "model_name": "LayoutModel",
          "model_module_version": "1.2.0",
          "state": {
            "_view_name": "LayoutView",
            "grid_template_rows": null,
            "right": null,
            "justify_content": null,
            "_view_module": "@jupyter-widgets/base",
            "overflow": null,
            "_model_module_version": "1.2.0",
            "_view_count": null,
            "flex_flow": null,
            "width": null,
            "min_width": null,
            "border": null,
            "align_items": null,
            "bottom": null,
            "_model_module": "@jupyter-widgets/base",
            "top": null,
            "grid_column": null,
            "overflow_y": null,
            "overflow_x": null,
            "grid_auto_flow": null,
            "grid_area": null,
            "grid_template_columns": null,
            "flex": null,
            "_model_name": "LayoutModel",
            "justify_items": null,
            "grid_row": null,
            "max_height": null,
            "align_content": null,
            "visibility": null,
            "align_self": null,
            "height": null,
            "min_height": null,
            "padding": null,
            "grid_auto_rows": null,
            "grid_gap": null,
            "max_width": null,
            "order": null,
            "_view_module_version": "1.2.0",
            "grid_template_areas": null,
            "object_position": null,
            "object_fit": null,
            "grid_auto_columns": null,
            "margin": null,
            "display": null,
            "left": null
          }
        },
        "2726dc16860449e8bd5e3e553ebbffa6": {
          "model_module": "@jupyter-widgets/controls",
          "model_name": "HTMLModel",
          "model_module_version": "1.5.0",
          "state": {
            "_view_name": "HTMLView",
            "style": "IPY_MODEL_9d8be10f52d84f61aebcfe017da3078f",
            "_dom_classes": [],
            "description": "",
            "_model_name": "HTMLModel",
            "placeholder": "​",
            "_view_module": "@jupyter-widgets/controls",
            "_model_module_version": "1.5.0",
            "value": "Downloading: 100%",
            "_view_count": null,
            "_view_module_version": "1.5.0",
            "description_tooltip": null,
            "_model_module": "@jupyter-widgets/controls",
            "layout": "IPY_MODEL_610405cd8d2345e0a1b5c1fd5fc57e15"
          }
        },
        "e37e68067abe464da99b8408798f32bb": {
          "model_module": "@jupyter-widgets/controls",
          "model_name": "FloatProgressModel",
          "model_module_version": "1.5.0",
          "state": {
            "_view_name": "ProgressView",
            "style": "IPY_MODEL_bd726a6b9055487da3c660bde94424c4",
            "_dom_classes": [],
            "description": "",
            "_model_name": "FloatProgressModel",
            "bar_style": "success",
            "max": 1355863,
            "_view_module": "@jupyter-widgets/controls",
            "_model_module_version": "1.5.0",
            "value": 1355863,
            "_view_count": null,
            "_view_module_version": "1.5.0",
            "orientation": "horizontal",
            "min": 0,
            "description_tooltip": null,
            "_model_module": "@jupyter-widgets/controls",
            "layout": "IPY_MODEL_06b4644e36f74902bf2b3840758c6583"
          }
        },
        "883914c453c24c868b461489ad0da30d": {
          "model_module": "@jupyter-widgets/controls",
          "model_name": "HTMLModel",
          "model_module_version": "1.5.0",
          "state": {
            "_view_name": "HTMLView",
            "style": "IPY_MODEL_49a350d981d94814ba55cae4d9acf71c",
            "_dom_classes": [],
            "description": "",
            "_model_name": "HTMLModel",
            "placeholder": "​",
            "_view_module": "@jupyter-widgets/controls",
            "_model_module_version": "1.5.0",
            "value": " 1.29M/1.29M [00:00&lt;00:00, 2.45MB/s]",
            "_view_count": null,
            "_view_module_version": "1.5.0",
            "description_tooltip": null,
            "_model_module": "@jupyter-widgets/controls",
            "layout": "IPY_MODEL_92643edb01584224ae27ad5788a23b12"
          }
        },
        "9d8be10f52d84f61aebcfe017da3078f": {
          "model_module": "@jupyter-widgets/controls",
          "model_name": "DescriptionStyleModel",
          "model_module_version": "1.5.0",
          "state": {
            "_view_name": "StyleView",
            "_model_name": "DescriptionStyleModel",
            "description_width": "",
            "_view_module": "@jupyter-widgets/base",
            "_model_module_version": "1.5.0",
            "_view_count": null,
            "_view_module_version": "1.2.0",
            "_model_module": "@jupyter-widgets/controls"
          }
        },
        "610405cd8d2345e0a1b5c1fd5fc57e15": {
          "model_module": "@jupyter-widgets/base",
          "model_name": "LayoutModel",
          "model_module_version": "1.2.0",
          "state": {
            "_view_name": "LayoutView",
            "grid_template_rows": null,
            "right": null,
            "justify_content": null,
            "_view_module": "@jupyter-widgets/base",
            "overflow": null,
            "_model_module_version": "1.2.0",
            "_view_count": null,
            "flex_flow": null,
            "width": null,
            "min_width": null,
            "border": null,
            "align_items": null,
            "bottom": null,
            "_model_module": "@jupyter-widgets/base",
            "top": null,
            "grid_column": null,
            "overflow_y": null,
            "overflow_x": null,
            "grid_auto_flow": null,
            "grid_area": null,
            "grid_template_columns": null,
            "flex": null,
            "_model_name": "LayoutModel",
            "justify_items": null,
            "grid_row": null,
            "max_height": null,
            "align_content": null,
            "visibility": null,
            "align_self": null,
            "height": null,
            "min_height": null,
            "padding": null,
            "grid_auto_rows": null,
            "grid_gap": null,
            "max_width": null,
            "order": null,
            "_view_module_version": "1.2.0",
            "grid_template_areas": null,
            "object_position": null,
            "object_fit": null,
            "grid_auto_columns": null,
            "margin": null,
            "display": null,
            "left": null
          }
        },
        "bd726a6b9055487da3c660bde94424c4": {
          "model_module": "@jupyter-widgets/controls",
          "model_name": "ProgressStyleModel",
          "model_module_version": "1.5.0",
          "state": {
            "_view_name": "StyleView",
            "_model_name": "ProgressStyleModel",
            "description_width": "",
            "_view_module": "@jupyter-widgets/base",
            "_model_module_version": "1.5.0",
            "_view_count": null,
            "_view_module_version": "1.2.0",
            "bar_color": null,
            "_model_module": "@jupyter-widgets/controls"
          }
        },
        "06b4644e36f74902bf2b3840758c6583": {
          "model_module": "@jupyter-widgets/base",
          "model_name": "LayoutModel",
          "model_module_version": "1.2.0",
          "state": {
            "_view_name": "LayoutView",
            "grid_template_rows": null,
            "right": null,
            "justify_content": null,
            "_view_module": "@jupyter-widgets/base",
            "overflow": null,
            "_model_module_version": "1.2.0",
            "_view_count": null,
            "flex_flow": null,
            "width": null,
            "min_width": null,
            "border": null,
            "align_items": null,
            "bottom": null,
            "_model_module": "@jupyter-widgets/base",
            "top": null,
            "grid_column": null,
            "overflow_y": null,
            "overflow_x": null,
            "grid_auto_flow": null,
            "grid_area": null,
            "grid_template_columns": null,
            "flex": null,
            "_model_name": "LayoutModel",
            "justify_items": null,
            "grid_row": null,
            "max_height": null,
            "align_content": null,
            "visibility": null,
            "align_self": null,
            "height": null,
            "min_height": null,
            "padding": null,
            "grid_auto_rows": null,
            "grid_gap": null,
            "max_width": null,
            "order": null,
            "_view_module_version": "1.2.0",
            "grid_template_areas": null,
            "object_position": null,
            "object_fit": null,
            "grid_auto_columns": null,
            "margin": null,
            "display": null,
            "left": null
          }
        },
        "49a350d981d94814ba55cae4d9acf71c": {
          "model_module": "@jupyter-widgets/controls",
          "model_name": "DescriptionStyleModel",
          "model_module_version": "1.5.0",
          "state": {
            "_view_name": "StyleView",
            "_model_name": "DescriptionStyleModel",
            "description_width": "",
            "_view_module": "@jupyter-widgets/base",
            "_model_module_version": "1.5.0",
            "_view_count": null,
            "_view_module_version": "1.2.0",
            "_model_module": "@jupyter-widgets/controls"
          }
        },
        "92643edb01584224ae27ad5788a23b12": {
          "model_module": "@jupyter-widgets/base",
          "model_name": "LayoutModel",
          "model_module_version": "1.2.0",
          "state": {
            "_view_name": "LayoutView",
            "grid_template_rows": null,
            "right": null,
            "justify_content": null,
            "_view_module": "@jupyter-widgets/base",
            "overflow": null,
            "_model_module_version": "1.2.0",
            "_view_count": null,
            "flex_flow": null,
            "width": null,
            "min_width": null,
            "border": null,
            "align_items": null,
            "bottom": null,
            "_model_module": "@jupyter-widgets/base",
            "top": null,
            "grid_column": null,
            "overflow_y": null,
            "overflow_x": null,
            "grid_auto_flow": null,
            "grid_area": null,
            "grid_template_columns": null,
            "flex": null,
            "_model_name": "LayoutModel",
            "justify_items": null,
            "grid_row": null,
            "max_height": null,
            "align_content": null,
            "visibility": null,
            "align_self": null,
            "height": null,
            "min_height": null,
            "padding": null,
            "grid_auto_rows": null,
            "grid_gap": null,
            "max_width": null,
            "order": null,
            "_view_module_version": "1.2.0",
            "grid_template_areas": null,
            "object_position": null,
            "object_fit": null,
            "grid_auto_columns": null,
            "margin": null,
            "display": null,
            "left": null
          }
        },
        "91b2ab0333a147e9b51322e1bc5163d2": {
          "model_module": "@jupyter-widgets/controls",
          "model_name": "HBoxModel",
          "model_module_version": "1.5.0",
          "state": {
            "_view_name": "HBoxView",
            "_dom_classes": [],
            "_model_name": "HBoxModel",
            "_view_module": "@jupyter-widgets/controls",
            "_model_module_version": "1.5.0",
            "_view_count": null,
            "_view_module_version": "1.5.0",
            "box_style": "",
            "layout": "IPY_MODEL_75f86b6618f8491d8f496926528ea4c1",
            "_model_module": "@jupyter-widgets/controls",
            "children": [
              "IPY_MODEL_b02af51779bb4e3e90c81de79d29a391",
              "IPY_MODEL_169d948d1def477a89c7522f339e1fb0",
              "IPY_MODEL_57e7fea5b01a42779ecf8de06af8555e"
            ]
          }
        },
        "75f86b6618f8491d8f496926528ea4c1": {
          "model_module": "@jupyter-widgets/base",
          "model_name": "LayoutModel",
          "model_module_version": "1.2.0",
          "state": {
            "_view_name": "LayoutView",
            "grid_template_rows": null,
            "right": null,
            "justify_content": null,
            "_view_module": "@jupyter-widgets/base",
            "overflow": null,
            "_model_module_version": "1.2.0",
            "_view_count": null,
            "flex_flow": null,
            "width": null,
            "min_width": null,
            "border": null,
            "align_items": null,
            "bottom": null,
            "_model_module": "@jupyter-widgets/base",
            "top": null,
            "grid_column": null,
            "overflow_y": null,
            "overflow_x": null,
            "grid_auto_flow": null,
            "grid_area": null,
            "grid_template_columns": null,
            "flex": null,
            "_model_name": "LayoutModel",
            "justify_items": null,
            "grid_row": null,
            "max_height": null,
            "align_content": null,
            "visibility": null,
            "align_self": null,
            "height": null,
            "min_height": null,
            "padding": null,
            "grid_auto_rows": null,
            "grid_gap": null,
            "max_width": null,
            "order": null,
            "_view_module_version": "1.2.0",
            "grid_template_areas": null,
            "object_position": null,
            "object_fit": null,
            "grid_auto_columns": null,
            "margin": null,
            "display": null,
            "left": null
          }
        },
        "b02af51779bb4e3e90c81de79d29a391": {
          "model_module": "@jupyter-widgets/controls",
          "model_name": "HTMLModel",
          "model_module_version": "1.5.0",
          "state": {
            "_view_name": "HTMLView",
            "style": "IPY_MODEL_05672ec76dda4062807336cb5779e46b",
            "_dom_classes": [],
            "description": "",
            "_model_name": "HTMLModel",
            "placeholder": "​",
            "_view_module": "@jupyter-widgets/controls",
            "_model_module_version": "1.5.0",
            "value": "Downloading: 100%",
            "_view_count": null,
            "_view_module_version": "1.5.0",
            "description_tooltip": null,
            "_model_module": "@jupyter-widgets/controls",
            "layout": "IPY_MODEL_32652ee99b374ac9b42943108d83aa8d"
          }
        },
        "169d948d1def477a89c7522f339e1fb0": {
          "model_module": "@jupyter-widgets/controls",
          "model_name": "FloatProgressModel",
          "model_module_version": "1.5.0",
          "state": {
            "_view_name": "ProgressView",
            "style": "IPY_MODEL_41b6f3ac14f44bb897d6036cc94dcae7",
            "_dom_classes": [],
            "description": "",
            "_model_name": "FloatProgressModel",
            "bar_style": "success",
            "max": 1688,
            "_view_module": "@jupyter-widgets/controls",
            "_model_module_version": "1.5.0",
            "value": 1688,
            "_view_count": null,
            "_view_module_version": "1.5.0",
            "orientation": "horizontal",
            "min": 0,
            "description_tooltip": null,
            "_model_module": "@jupyter-widgets/controls",
            "layout": "IPY_MODEL_a26ba469d7764d739d8dc425bf0de078"
          }
        },
        "57e7fea5b01a42779ecf8de06af8555e": {
          "model_module": "@jupyter-widgets/controls",
          "model_name": "HTMLModel",
          "model_module_version": "1.5.0",
          "state": {
            "_view_name": "HTMLView",
            "style": "IPY_MODEL_71705991ef17459aa17ea0068e0faca2",
            "_dom_classes": [],
            "description": "",
            "_model_name": "HTMLModel",
            "placeholder": "​",
            "_view_module": "@jupyter-widgets/controls",
            "_model_module_version": "1.5.0",
            "value": " 1.65k/1.65k [00:00&lt;00:00, 43.6kB/s]",
            "_view_count": null,
            "_view_module_version": "1.5.0",
            "description_tooltip": null,
            "_model_module": "@jupyter-widgets/controls",
            "layout": "IPY_MODEL_de2203b7a82447a095878ada4ecadcc1"
          }
        },
        "05672ec76dda4062807336cb5779e46b": {
          "model_module": "@jupyter-widgets/controls",
          "model_name": "DescriptionStyleModel",
          "model_module_version": "1.5.0",
          "state": {
            "_view_name": "StyleView",
            "_model_name": "DescriptionStyleModel",
            "description_width": "",
            "_view_module": "@jupyter-widgets/base",
            "_model_module_version": "1.5.0",
            "_view_count": null,
            "_view_module_version": "1.2.0",
            "_model_module": "@jupyter-widgets/controls"
          }
        },
        "32652ee99b374ac9b42943108d83aa8d": {
          "model_module": "@jupyter-widgets/base",
          "model_name": "LayoutModel",
          "model_module_version": "1.2.0",
          "state": {
            "_view_name": "LayoutView",
            "grid_template_rows": null,
            "right": null,
            "justify_content": null,
            "_view_module": "@jupyter-widgets/base",
            "overflow": null,
            "_model_module_version": "1.2.0",
            "_view_count": null,
            "flex_flow": null,
            "width": null,
            "min_width": null,
            "border": null,
            "align_items": null,
            "bottom": null,
            "_model_module": "@jupyter-widgets/base",
            "top": null,
            "grid_column": null,
            "overflow_y": null,
            "overflow_x": null,
            "grid_auto_flow": null,
            "grid_area": null,
            "grid_template_columns": null,
            "flex": null,
            "_model_name": "LayoutModel",
            "justify_items": null,
            "grid_row": null,
            "max_height": null,
            "align_content": null,
            "visibility": null,
            "align_self": null,
            "height": null,
            "min_height": null,
            "padding": null,
            "grid_auto_rows": null,
            "grid_gap": null,
            "max_width": null,
            "order": null,
            "_view_module_version": "1.2.0",
            "grid_template_areas": null,
            "object_position": null,
            "object_fit": null,
            "grid_auto_columns": null,
            "margin": null,
            "display": null,
            "left": null
          }
        },
        "41b6f3ac14f44bb897d6036cc94dcae7": {
          "model_module": "@jupyter-widgets/controls",
          "model_name": "ProgressStyleModel",
          "model_module_version": "1.5.0",
          "state": {
            "_view_name": "StyleView",
            "_model_name": "ProgressStyleModel",
            "description_width": "",
            "_view_module": "@jupyter-widgets/base",
            "_model_module_version": "1.5.0",
            "_view_count": null,
            "_view_module_version": "1.2.0",
            "bar_color": null,
            "_model_module": "@jupyter-widgets/controls"
          }
        },
        "a26ba469d7764d739d8dc425bf0de078": {
          "model_module": "@jupyter-widgets/base",
          "model_name": "LayoutModel",
          "model_module_version": "1.2.0",
          "state": {
            "_view_name": "LayoutView",
            "grid_template_rows": null,
            "right": null,
            "justify_content": null,
            "_view_module": "@jupyter-widgets/base",
            "overflow": null,
            "_model_module_version": "1.2.0",
            "_view_count": null,
            "flex_flow": null,
            "width": null,
            "min_width": null,
            "border": null,
            "align_items": null,
            "bottom": null,
            "_model_module": "@jupyter-widgets/base",
            "top": null,
            "grid_column": null,
            "overflow_y": null,
            "overflow_x": null,
            "grid_auto_flow": null,
            "grid_area": null,
            "grid_template_columns": null,
            "flex": null,
            "_model_name": "LayoutModel",
            "justify_items": null,
            "grid_row": null,
            "max_height": null,
            "align_content": null,
            "visibility": null,
            "align_self": null,
            "height": null,
            "min_height": null,
            "padding": null,
            "grid_auto_rows": null,
            "grid_gap": null,
            "max_width": null,
            "order": null,
            "_view_module_version": "1.2.0",
            "grid_template_areas": null,
            "object_position": null,
            "object_fit": null,
            "grid_auto_columns": null,
            "margin": null,
            "display": null,
            "left": null
          }
        },
        "71705991ef17459aa17ea0068e0faca2": {
          "model_module": "@jupyter-widgets/controls",
          "model_name": "DescriptionStyleModel",
          "model_module_version": "1.5.0",
          "state": {
            "_view_name": "StyleView",
            "_model_name": "DescriptionStyleModel",
            "description_width": "",
            "_view_module": "@jupyter-widgets/base",
            "_model_module_version": "1.5.0",
            "_view_count": null,
            "_view_module_version": "1.2.0",
            "_model_module": "@jupyter-widgets/controls"
          }
        },
        "de2203b7a82447a095878ada4ecadcc1": {
          "model_module": "@jupyter-widgets/base",
          "model_name": "LayoutModel",
          "model_module_version": "1.2.0",
          "state": {
            "_view_name": "LayoutView",
            "grid_template_rows": null,
            "right": null,
            "justify_content": null,
            "_view_module": "@jupyter-widgets/base",
            "overflow": null,
            "_model_module_version": "1.2.0",
            "_view_count": null,
            "flex_flow": null,
            "width": null,
            "min_width": null,
            "border": null,
            "align_items": null,
            "bottom": null,
            "_model_module": "@jupyter-widgets/base",
            "top": null,
            "grid_column": null,
            "overflow_y": null,
            "overflow_x": null,
            "grid_auto_flow": null,
            "grid_area": null,
            "grid_template_columns": null,
            "flex": null,
            "_model_name": "LayoutModel",
            "justify_items": null,
            "grid_row": null,
            "max_height": null,
            "align_content": null,
            "visibility": null,
            "align_self": null,
            "height": null,
            "min_height": null,
            "padding": null,
            "grid_auto_rows": null,
            "grid_gap": null,
            "max_width": null,
            "order": null,
            "_view_module_version": "1.2.0",
            "grid_template_areas": null,
            "object_position": null,
            "object_fit": null,
            "grid_auto_columns": null,
            "margin": null,
            "display": null,
            "left": null
          }
        },
        "9bc5db0f29104928bfbe0637e49aa840": {
          "model_module": "@jupyter-widgets/controls",
          "model_name": "HBoxModel",
          "model_module_version": "1.5.0",
          "state": {
            "_view_name": "HBoxView",
            "_dom_classes": [],
            "_model_name": "HBoxModel",
            "_view_module": "@jupyter-widgets/controls",
            "_model_module_version": "1.5.0",
            "_view_count": null,
            "_view_module_version": "1.5.0",
            "box_style": "",
            "layout": "IPY_MODEL_df3bedd8af334f4984566c857c7025c2",
            "_model_module": "@jupyter-widgets/controls",
            "children": [
              "IPY_MODEL_cec708aa38424a48a40861d94f513378",
              "IPY_MODEL_e13096d5c5e34a7fb6f43888321af6f6",
              "IPY_MODEL_4e536e69b047447c87432c6bcc3c339b"
            ]
          }
        },
        "df3bedd8af334f4984566c857c7025c2": {
          "model_module": "@jupyter-widgets/base",
          "model_name": "LayoutModel",
          "model_module_version": "1.2.0",
          "state": {
            "_view_name": "LayoutView",
            "grid_template_rows": null,
            "right": null,
            "justify_content": null,
            "_view_module": "@jupyter-widgets/base",
            "overflow": null,
            "_model_module_version": "1.2.0",
            "_view_count": null,
            "flex_flow": null,
            "width": null,
            "min_width": null,
            "border": null,
            "align_items": null,
            "bottom": null,
            "_model_module": "@jupyter-widgets/base",
            "top": null,
            "grid_column": null,
            "overflow_y": null,
            "overflow_x": null,
            "grid_auto_flow": null,
            "grid_area": null,
            "grid_template_columns": null,
            "flex": null,
            "_model_name": "LayoutModel",
            "justify_items": null,
            "grid_row": null,
            "max_height": null,
            "align_content": null,
            "visibility": null,
            "align_self": null,
            "height": null,
            "min_height": null,
            "padding": null,
            "grid_auto_rows": null,
            "grid_gap": null,
            "max_width": null,
            "order": null,
            "_view_module_version": "1.2.0",
            "grid_template_areas": null,
            "object_position": null,
            "object_fit": null,
            "grid_auto_columns": null,
            "margin": null,
            "display": null,
            "left": null
          }
        },
        "cec708aa38424a48a40861d94f513378": {
          "model_module": "@jupyter-widgets/controls",
          "model_name": "HTMLModel",
          "model_module_version": "1.5.0",
          "state": {
            "_view_name": "HTMLView",
            "style": "IPY_MODEL_e424c870de9d4bcbb150bbb069684c03",
            "_dom_classes": [],
            "description": "",
            "_model_name": "HTMLModel",
            "placeholder": "​",
            "_view_module": "@jupyter-widgets/controls",
            "_model_module_version": "1.5.0",
            "value": "100%",
            "_view_count": null,
            "_view_module_version": "1.5.0",
            "description_tooltip": null,
            "_model_module": "@jupyter-widgets/controls",
            "layout": "IPY_MODEL_7c93c9e9378142ddaf37bc8ed7ffac14"
          }
        },
        "e13096d5c5e34a7fb6f43888321af6f6": {
          "model_module": "@jupyter-widgets/controls",
          "model_name": "FloatProgressModel",
          "model_module_version": "1.5.0",
          "state": {
            "_view_name": "ProgressView",
            "style": "IPY_MODEL_343f44b1f7584bb78cb0197855856432",
            "_dom_classes": [],
            "description": "",
            "_model_name": "FloatProgressModel",
            "bar_style": "success",
            "max": 1,
            "_view_module": "@jupyter-widgets/controls",
            "_model_module_version": "1.5.0",
            "value": 1,
            "_view_count": null,
            "_view_module_version": "1.5.0",
            "orientation": "horizontal",
            "min": 0,
            "description_tooltip": null,
            "_model_module": "@jupyter-widgets/controls",
            "layout": "IPY_MODEL_ba5d95885b204769bd93196d41459651"
          }
        },
        "4e536e69b047447c87432c6bcc3c339b": {
          "model_module": "@jupyter-widgets/controls",
          "model_name": "HTMLModel",
          "model_module_version": "1.5.0",
          "state": {
            "_view_name": "HTMLView",
            "style": "IPY_MODEL_ca16f4d0f3cf46b3a46fc4c6afc9f6f6",
            "_dom_classes": [],
            "description": "",
            "_model_name": "HTMLModel",
            "placeholder": "​",
            "_view_module": "@jupyter-widgets/controls",
            "_model_module_version": "1.5.0",
            "value": " 1/1 [00:00&lt;00:00,  5.15ba/s]",
            "_view_count": null,
            "_view_module_version": "1.5.0",
            "description_tooltip": null,
            "_model_module": "@jupyter-widgets/controls",
            "layout": "IPY_MODEL_42454dbe077b4c15bb86cb7eb08daae5"
          }
        },
        "e424c870de9d4bcbb150bbb069684c03": {
          "model_module": "@jupyter-widgets/controls",
          "model_name": "DescriptionStyleModel",
          "model_module_version": "1.5.0",
          "state": {
            "_view_name": "StyleView",
            "_model_name": "DescriptionStyleModel",
            "description_width": "",
            "_view_module": "@jupyter-widgets/base",
            "_model_module_version": "1.5.0",
            "_view_count": null,
            "_view_module_version": "1.2.0",
            "_model_module": "@jupyter-widgets/controls"
          }
        },
        "7c93c9e9378142ddaf37bc8ed7ffac14": {
          "model_module": "@jupyter-widgets/base",
          "model_name": "LayoutModel",
          "model_module_version": "1.2.0",
          "state": {
            "_view_name": "LayoutView",
            "grid_template_rows": null,
            "right": null,
            "justify_content": null,
            "_view_module": "@jupyter-widgets/base",
            "overflow": null,
            "_model_module_version": "1.2.0",
            "_view_count": null,
            "flex_flow": null,
            "width": null,
            "min_width": null,
            "border": null,
            "align_items": null,
            "bottom": null,
            "_model_module": "@jupyter-widgets/base",
            "top": null,
            "grid_column": null,
            "overflow_y": null,
            "overflow_x": null,
            "grid_auto_flow": null,
            "grid_area": null,
            "grid_template_columns": null,
            "flex": null,
            "_model_name": "LayoutModel",
            "justify_items": null,
            "grid_row": null,
            "max_height": null,
            "align_content": null,
            "visibility": null,
            "align_self": null,
            "height": null,
            "min_height": null,
            "padding": null,
            "grid_auto_rows": null,
            "grid_gap": null,
            "max_width": null,
            "order": null,
            "_view_module_version": "1.2.0",
            "grid_template_areas": null,
            "object_position": null,
            "object_fit": null,
            "grid_auto_columns": null,
            "margin": null,
            "display": null,
            "left": null
          }
        },
        "343f44b1f7584bb78cb0197855856432": {
          "model_module": "@jupyter-widgets/controls",
          "model_name": "ProgressStyleModel",
          "model_module_version": "1.5.0",
          "state": {
            "_view_name": "StyleView",
            "_model_name": "ProgressStyleModel",
            "description_width": "",
            "_view_module": "@jupyter-widgets/base",
            "_model_module_version": "1.5.0",
            "_view_count": null,
            "_view_module_version": "1.2.0",
            "bar_color": null,
            "_model_module": "@jupyter-widgets/controls"
          }
        },
        "ba5d95885b204769bd93196d41459651": {
          "model_module": "@jupyter-widgets/base",
          "model_name": "LayoutModel",
          "model_module_version": "1.2.0",
          "state": {
            "_view_name": "LayoutView",
            "grid_template_rows": null,
            "right": null,
            "justify_content": null,
            "_view_module": "@jupyter-widgets/base",
            "overflow": null,
            "_model_module_version": "1.2.0",
            "_view_count": null,
            "flex_flow": null,
            "width": null,
            "min_width": null,
            "border": null,
            "align_items": null,
            "bottom": null,
            "_model_module": "@jupyter-widgets/base",
            "top": null,
            "grid_column": null,
            "overflow_y": null,
            "overflow_x": null,
            "grid_auto_flow": null,
            "grid_area": null,
            "grid_template_columns": null,
            "flex": null,
            "_model_name": "LayoutModel",
            "justify_items": null,
            "grid_row": null,
            "max_height": null,
            "align_content": null,
            "visibility": null,
            "align_self": null,
            "height": null,
            "min_height": null,
            "padding": null,
            "grid_auto_rows": null,
            "grid_gap": null,
            "max_width": null,
            "order": null,
            "_view_module_version": "1.2.0",
            "grid_template_areas": null,
            "object_position": null,
            "object_fit": null,
            "grid_auto_columns": null,
            "margin": null,
            "display": null,
            "left": null
          }
        },
        "ca16f4d0f3cf46b3a46fc4c6afc9f6f6": {
          "model_module": "@jupyter-widgets/controls",
          "model_name": "DescriptionStyleModel",
          "model_module_version": "1.5.0",
          "state": {
            "_view_name": "StyleView",
            "_model_name": "DescriptionStyleModel",
            "description_width": "",
            "_view_module": "@jupyter-widgets/base",
            "_model_module_version": "1.5.0",
            "_view_count": null,
            "_view_module_version": "1.2.0",
            "_model_module": "@jupyter-widgets/controls"
          }
        },
        "42454dbe077b4c15bb86cb7eb08daae5": {
          "model_module": "@jupyter-widgets/base",
          "model_name": "LayoutModel",
          "model_module_version": "1.2.0",
          "state": {
            "_view_name": "LayoutView",
            "grid_template_rows": null,
            "right": null,
            "justify_content": null,
            "_view_module": "@jupyter-widgets/base",
            "overflow": null,
            "_model_module_version": "1.2.0",
            "_view_count": null,
            "flex_flow": null,
            "width": null,
            "min_width": null,
            "border": null,
            "align_items": null,
            "bottom": null,
            "_model_module": "@jupyter-widgets/base",
            "top": null,
            "grid_column": null,
            "overflow_y": null,
            "overflow_x": null,
            "grid_auto_flow": null,
            "grid_area": null,
            "grid_template_columns": null,
            "flex": null,
            "_model_name": "LayoutModel",
            "justify_items": null,
            "grid_row": null,
            "max_height": null,
            "align_content": null,
            "visibility": null,
            "align_self": null,
            "height": null,
            "min_height": null,
            "padding": null,
            "grid_auto_rows": null,
            "grid_gap": null,
            "max_width": null,
            "order": null,
            "_view_module_version": "1.2.0",
            "grid_template_areas": null,
            "object_position": null,
            "object_fit": null,
            "grid_auto_columns": null,
            "margin": null,
            "display": null,
            "left": null
          }
        },
        "2e38f8c3b84b473aa83cef20598bdc36": {
          "model_module": "@jupyter-widgets/controls",
          "model_name": "HBoxModel",
          "model_module_version": "1.5.0",
          "state": {
            "_view_name": "HBoxView",
            "_dom_classes": [],
            "_model_name": "HBoxModel",
            "_view_module": "@jupyter-widgets/controls",
            "_model_module_version": "1.5.0",
            "_view_count": null,
            "_view_module_version": "1.5.0",
            "box_style": "",
            "layout": "IPY_MODEL_aa37536441d0484d97fab2abbc367880",
            "_model_module": "@jupyter-widgets/controls",
            "children": [
              "IPY_MODEL_c9397b066ad84ae49b9788e782472a30",
              "IPY_MODEL_e770a96b109243fc8fc89b039d185df3",
              "IPY_MODEL_13072fb4bd6d411ea5f78f79b662aa75"
            ]
          }
        },
        "aa37536441d0484d97fab2abbc367880": {
          "model_module": "@jupyter-widgets/base",
          "model_name": "LayoutModel",
          "model_module_version": "1.2.0",
          "state": {
            "_view_name": "LayoutView",
            "grid_template_rows": null,
            "right": null,
            "justify_content": null,
            "_view_module": "@jupyter-widgets/base",
            "overflow": null,
            "_model_module_version": "1.2.0",
            "_view_count": null,
            "flex_flow": null,
            "width": null,
            "min_width": null,
            "border": null,
            "align_items": null,
            "bottom": null,
            "_model_module": "@jupyter-widgets/base",
            "top": null,
            "grid_column": null,
            "overflow_y": null,
            "overflow_x": null,
            "grid_auto_flow": null,
            "grid_area": null,
            "grid_template_columns": null,
            "flex": null,
            "_model_name": "LayoutModel",
            "justify_items": null,
            "grid_row": null,
            "max_height": null,
            "align_content": null,
            "visibility": null,
            "align_self": null,
            "height": null,
            "min_height": null,
            "padding": null,
            "grid_auto_rows": null,
            "grid_gap": null,
            "max_width": null,
            "order": null,
            "_view_module_version": "1.2.0",
            "grid_template_areas": null,
            "object_position": null,
            "object_fit": null,
            "grid_auto_columns": null,
            "margin": null,
            "display": null,
            "left": null
          }
        },
        "c9397b066ad84ae49b9788e782472a30": {
          "model_module": "@jupyter-widgets/controls",
          "model_name": "HTMLModel",
          "model_module_version": "1.5.0",
          "state": {
            "_view_name": "HTMLView",
            "style": "IPY_MODEL_632b6629ed3e441b980035610d185152",
            "_dom_classes": [],
            "description": "",
            "_model_name": "HTMLModel",
            "placeholder": "​",
            "_view_module": "@jupyter-widgets/controls",
            "_model_module_version": "1.5.0",
            "value": "100%",
            "_view_count": null,
            "_view_module_version": "1.5.0",
            "description_tooltip": null,
            "_model_module": "@jupyter-widgets/controls",
            "layout": "IPY_MODEL_ce989f037a6349539ecc62d4e63adf8f"
          }
        },
        "e770a96b109243fc8fc89b039d185df3": {
          "model_module": "@jupyter-widgets/controls",
          "model_name": "FloatProgressModel",
          "model_module_version": "1.5.0",
          "state": {
            "_view_name": "ProgressView",
            "style": "IPY_MODEL_3ffec980e0ae4946acffe30b9d9abd10",
            "_dom_classes": [],
            "description": "",
            "_model_name": "FloatProgressModel",
            "bar_style": "success",
            "max": 1,
            "_view_module": "@jupyter-widgets/controls",
            "_model_module_version": "1.5.0",
            "value": 1,
            "_view_count": null,
            "_view_module_version": "1.5.0",
            "orientation": "horizontal",
            "min": 0,
            "description_tooltip": null,
            "_model_module": "@jupyter-widgets/controls",
            "layout": "IPY_MODEL_bb153212c370414784f6fbd536511af1"
          }
        },
        "13072fb4bd6d411ea5f78f79b662aa75": {
          "model_module": "@jupyter-widgets/controls",
          "model_name": "HTMLModel",
          "model_module_version": "1.5.0",
          "state": {
            "_view_name": "HTMLView",
            "style": "IPY_MODEL_7c973fd8a47d49e4b79704b83f86dea6",
            "_dom_classes": [],
            "description": "",
            "_model_name": "HTMLModel",
            "placeholder": "​",
            "_view_module": "@jupyter-widgets/controls",
            "_model_module_version": "1.5.0",
            "value": " 1/1 [00:00&lt;00:00,  3.45ba/s]",
            "_view_count": null,
            "_view_module_version": "1.5.0",
            "description_tooltip": null,
            "_model_module": "@jupyter-widgets/controls",
            "layout": "IPY_MODEL_28bc0dda3c56490cb7e3ad7c49e02e5d"
          }
        },
        "632b6629ed3e441b980035610d185152": {
          "model_module": "@jupyter-widgets/controls",
          "model_name": "DescriptionStyleModel",
          "model_module_version": "1.5.0",
          "state": {
            "_view_name": "StyleView",
            "_model_name": "DescriptionStyleModel",
            "description_width": "",
            "_view_module": "@jupyter-widgets/base",
            "_model_module_version": "1.5.0",
            "_view_count": null,
            "_view_module_version": "1.2.0",
            "_model_module": "@jupyter-widgets/controls"
          }
        },
        "ce989f037a6349539ecc62d4e63adf8f": {
          "model_module": "@jupyter-widgets/base",
          "model_name": "LayoutModel",
          "model_module_version": "1.2.0",
          "state": {
            "_view_name": "LayoutView",
            "grid_template_rows": null,
            "right": null,
            "justify_content": null,
            "_view_module": "@jupyter-widgets/base",
            "overflow": null,
            "_model_module_version": "1.2.0",
            "_view_count": null,
            "flex_flow": null,
            "width": null,
            "min_width": null,
            "border": null,
            "align_items": null,
            "bottom": null,
            "_model_module": "@jupyter-widgets/base",
            "top": null,
            "grid_column": null,
            "overflow_y": null,
            "overflow_x": null,
            "grid_auto_flow": null,
            "grid_area": null,
            "grid_template_columns": null,
            "flex": null,
            "_model_name": "LayoutModel",
            "justify_items": null,
            "grid_row": null,
            "max_height": null,
            "align_content": null,
            "visibility": null,
            "align_self": null,
            "height": null,
            "min_height": null,
            "padding": null,
            "grid_auto_rows": null,
            "grid_gap": null,
            "max_width": null,
            "order": null,
            "_view_module_version": "1.2.0",
            "grid_template_areas": null,
            "object_position": null,
            "object_fit": null,
            "grid_auto_columns": null,
            "margin": null,
            "display": null,
            "left": null
          }
        },
        "3ffec980e0ae4946acffe30b9d9abd10": {
          "model_module": "@jupyter-widgets/controls",
          "model_name": "ProgressStyleModel",
          "model_module_version": "1.5.0",
          "state": {
            "_view_name": "StyleView",
            "_model_name": "ProgressStyleModel",
            "description_width": "",
            "_view_module": "@jupyter-widgets/base",
            "_model_module_version": "1.5.0",
            "_view_count": null,
            "_view_module_version": "1.2.0",
            "bar_color": null,
            "_model_module": "@jupyter-widgets/controls"
          }
        },
        "bb153212c370414784f6fbd536511af1": {
          "model_module": "@jupyter-widgets/base",
          "model_name": "LayoutModel",
          "model_module_version": "1.2.0",
          "state": {
            "_view_name": "LayoutView",
            "grid_template_rows": null,
            "right": null,
            "justify_content": null,
            "_view_module": "@jupyter-widgets/base",
            "overflow": null,
            "_model_module_version": "1.2.0",
            "_view_count": null,
            "flex_flow": null,
            "width": null,
            "min_width": null,
            "border": null,
            "align_items": null,
            "bottom": null,
            "_model_module": "@jupyter-widgets/base",
            "top": null,
            "grid_column": null,
            "overflow_y": null,
            "overflow_x": null,
            "grid_auto_flow": null,
            "grid_area": null,
            "grid_template_columns": null,
            "flex": null,
            "_model_name": "LayoutModel",
            "justify_items": null,
            "grid_row": null,
            "max_height": null,
            "align_content": null,
            "visibility": null,
            "align_self": null,
            "height": null,
            "min_height": null,
            "padding": null,
            "grid_auto_rows": null,
            "grid_gap": null,
            "max_width": null,
            "order": null,
            "_view_module_version": "1.2.0",
            "grid_template_areas": null,
            "object_position": null,
            "object_fit": null,
            "grid_auto_columns": null,
            "margin": null,
            "display": null,
            "left": null
          }
        },
        "7c973fd8a47d49e4b79704b83f86dea6": {
          "model_module": "@jupyter-widgets/controls",
          "model_name": "DescriptionStyleModel",
          "model_module_version": "1.5.0",
          "state": {
            "_view_name": "StyleView",
            "_model_name": "DescriptionStyleModel",
            "description_width": "",
            "_view_module": "@jupyter-widgets/base",
            "_model_module_version": "1.5.0",
            "_view_count": null,
            "_view_module_version": "1.2.0",
            "_model_module": "@jupyter-widgets/controls"
          }
        },
        "28bc0dda3c56490cb7e3ad7c49e02e5d": {
          "model_module": "@jupyter-widgets/base",
          "model_name": "LayoutModel",
          "model_module_version": "1.2.0",
          "state": {
            "_view_name": "LayoutView",
            "grid_template_rows": null,
            "right": null,
            "justify_content": null,
            "_view_module": "@jupyter-widgets/base",
            "overflow": null,
            "_model_module_version": "1.2.0",
            "_view_count": null,
            "flex_flow": null,
            "width": null,
            "min_width": null,
            "border": null,
            "align_items": null,
            "bottom": null,
            "_model_module": "@jupyter-widgets/base",
            "top": null,
            "grid_column": null,
            "overflow_y": null,
            "overflow_x": null,
            "grid_auto_flow": null,
            "grid_area": null,
            "grid_template_columns": null,
            "flex": null,
            "_model_name": "LayoutModel",
            "justify_items": null,
            "grid_row": null,
            "max_height": null,
            "align_content": null,
            "visibility": null,
            "align_self": null,
            "height": null,
            "min_height": null,
            "padding": null,
            "grid_auto_rows": null,
            "grid_gap": null,
            "max_width": null,
            "order": null,
            "_view_module_version": "1.2.0",
            "grid_template_areas": null,
            "object_position": null,
            "object_fit": null,
            "grid_auto_columns": null,
            "margin": null,
            "display": null,
            "left": null
          }
        },
        "6f92b092e6984d5097a80a729988097a": {
          "model_module": "@jupyter-widgets/controls",
          "model_name": "HBoxModel",
          "model_module_version": "1.5.0",
          "state": {
            "_view_name": "HBoxView",
            "_dom_classes": [],
            "_model_name": "HBoxModel",
            "_view_module": "@jupyter-widgets/controls",
            "_model_module_version": "1.5.0",
            "_view_count": null,
            "_view_module_version": "1.5.0",
            "box_style": "",
            "layout": "IPY_MODEL_c893683ba3b04571a7512a4197c8b52b",
            "_model_module": "@jupyter-widgets/controls",
            "children": [
              "IPY_MODEL_bddcd27ab9434cb99fdd6dbde50c0d64",
              "IPY_MODEL_4c8f57af8aa741dbaae3f6cc2a03d361",
              "IPY_MODEL_e5c304fe787e494bbdf19f1e000eed25"
            ]
          }
        },
        "c893683ba3b04571a7512a4197c8b52b": {
          "model_module": "@jupyter-widgets/base",
          "model_name": "LayoutModel",
          "model_module_version": "1.2.0",
          "state": {
            "_view_name": "LayoutView",
            "grid_template_rows": null,
            "right": null,
            "justify_content": null,
            "_view_module": "@jupyter-widgets/base",
            "overflow": null,
            "_model_module_version": "1.2.0",
            "_view_count": null,
            "flex_flow": null,
            "width": null,
            "min_width": null,
            "border": null,
            "align_items": null,
            "bottom": null,
            "_model_module": "@jupyter-widgets/base",
            "top": null,
            "grid_column": null,
            "overflow_y": null,
            "overflow_x": null,
            "grid_auto_flow": null,
            "grid_area": null,
            "grid_template_columns": null,
            "flex": null,
            "_model_name": "LayoutModel",
            "justify_items": null,
            "grid_row": null,
            "max_height": null,
            "align_content": null,
            "visibility": null,
            "align_self": null,
            "height": null,
            "min_height": null,
            "padding": null,
            "grid_auto_rows": null,
            "grid_gap": null,
            "max_width": null,
            "order": null,
            "_view_module_version": "1.2.0",
            "grid_template_areas": null,
            "object_position": null,
            "object_fit": null,
            "grid_auto_columns": null,
            "margin": null,
            "display": null,
            "left": null
          }
        },
        "bddcd27ab9434cb99fdd6dbde50c0d64": {
          "model_module": "@jupyter-widgets/controls",
          "model_name": "HTMLModel",
          "model_module_version": "1.5.0",
          "state": {
            "_view_name": "HTMLView",
            "style": "IPY_MODEL_11f1b655f012433387229f2367844688",
            "_dom_classes": [],
            "description": "",
            "_model_name": "HTMLModel",
            "placeholder": "​",
            "_view_module": "@jupyter-widgets/controls",
            "_model_module_version": "1.5.0",
            "value": "100%",
            "_view_count": null,
            "_view_module_version": "1.5.0",
            "description_tooltip": null,
            "_model_module": "@jupyter-widgets/controls",
            "layout": "IPY_MODEL_c1f2f66486cb46c4ab1754bd30ee5300"
          }
        },
        "4c8f57af8aa741dbaae3f6cc2a03d361": {
          "model_module": "@jupyter-widgets/controls",
          "model_name": "FloatProgressModel",
          "model_module_version": "1.5.0",
          "state": {
            "_view_name": "ProgressView",
            "style": "IPY_MODEL_095535335f4d46b393181747064a65cb",
            "_dom_classes": [],
            "description": "",
            "_model_name": "FloatProgressModel",
            "bar_style": "success",
            "max": 3,
            "_view_module": "@jupyter-widgets/controls",
            "_model_module_version": "1.5.0",
            "value": 3,
            "_view_count": null,
            "_view_module_version": "1.5.0",
            "orientation": "horizontal",
            "min": 0,
            "description_tooltip": null,
            "_model_module": "@jupyter-widgets/controls",
            "layout": "IPY_MODEL_46dc6319d6e24f3dbef8d940208e4de5"
          }
        },
        "e5c304fe787e494bbdf19f1e000eed25": {
          "model_module": "@jupyter-widgets/controls",
          "model_name": "HTMLModel",
          "model_module_version": "1.5.0",
          "state": {
            "_view_name": "HTMLView",
            "style": "IPY_MODEL_2f196b69c46b41459084029f74dd2533",
            "_dom_classes": [],
            "description": "",
            "_model_name": "HTMLModel",
            "placeholder": "​",
            "_view_module": "@jupyter-widgets/controls",
            "_model_module_version": "1.5.0",
            "value": " 3/3 [00:00&lt;00:00, 57.14it/s]",
            "_view_count": null,
            "_view_module_version": "1.5.0",
            "description_tooltip": null,
            "_model_module": "@jupyter-widgets/controls",
            "layout": "IPY_MODEL_5e68ad0a6ca74129957640d5494341d4"
          }
        },
        "11f1b655f012433387229f2367844688": {
          "model_module": "@jupyter-widgets/controls",
          "model_name": "DescriptionStyleModel",
          "model_module_version": "1.5.0",
          "state": {
            "_view_name": "StyleView",
            "_model_name": "DescriptionStyleModel",
            "description_width": "",
            "_view_module": "@jupyter-widgets/base",
            "_model_module_version": "1.5.0",
            "_view_count": null,
            "_view_module_version": "1.2.0",
            "_model_module": "@jupyter-widgets/controls"
          }
        },
        "c1f2f66486cb46c4ab1754bd30ee5300": {
          "model_module": "@jupyter-widgets/base",
          "model_name": "LayoutModel",
          "model_module_version": "1.2.0",
          "state": {
            "_view_name": "LayoutView",
            "grid_template_rows": null,
            "right": null,
            "justify_content": null,
            "_view_module": "@jupyter-widgets/base",
            "overflow": null,
            "_model_module_version": "1.2.0",
            "_view_count": null,
            "flex_flow": null,
            "width": null,
            "min_width": null,
            "border": null,
            "align_items": null,
            "bottom": null,
            "_model_module": "@jupyter-widgets/base",
            "top": null,
            "grid_column": null,
            "overflow_y": null,
            "overflow_x": null,
            "grid_auto_flow": null,
            "grid_area": null,
            "grid_template_columns": null,
            "flex": null,
            "_model_name": "LayoutModel",
            "justify_items": null,
            "grid_row": null,
            "max_height": null,
            "align_content": null,
            "visibility": null,
            "align_self": null,
            "height": null,
            "min_height": null,
            "padding": null,
            "grid_auto_rows": null,
            "grid_gap": null,
            "max_width": null,
            "order": null,
            "_view_module_version": "1.2.0",
            "grid_template_areas": null,
            "object_position": null,
            "object_fit": null,
            "grid_auto_columns": null,
            "margin": null,
            "display": null,
            "left": null
          }
        },
        "095535335f4d46b393181747064a65cb": {
          "model_module": "@jupyter-widgets/controls",
          "model_name": "ProgressStyleModel",
          "model_module_version": "1.5.0",
          "state": {
            "_view_name": "StyleView",
            "_model_name": "ProgressStyleModel",
            "description_width": "",
            "_view_module": "@jupyter-widgets/base",
            "_model_module_version": "1.5.0",
            "_view_count": null,
            "_view_module_version": "1.2.0",
            "bar_color": null,
            "_model_module": "@jupyter-widgets/controls"
          }
        },
        "46dc6319d6e24f3dbef8d940208e4de5": {
          "model_module": "@jupyter-widgets/base",
          "model_name": "LayoutModel",
          "model_module_version": "1.2.0",
          "state": {
            "_view_name": "LayoutView",
            "grid_template_rows": null,
            "right": null,
            "justify_content": null,
            "_view_module": "@jupyter-widgets/base",
            "overflow": null,
            "_model_module_version": "1.2.0",
            "_view_count": null,
            "flex_flow": null,
            "width": null,
            "min_width": null,
            "border": null,
            "align_items": null,
            "bottom": null,
            "_model_module": "@jupyter-widgets/base",
            "top": null,
            "grid_column": null,
            "overflow_y": null,
            "overflow_x": null,
            "grid_auto_flow": null,
            "grid_area": null,
            "grid_template_columns": null,
            "flex": null,
            "_model_name": "LayoutModel",
            "justify_items": null,
            "grid_row": null,
            "max_height": null,
            "align_content": null,
            "visibility": null,
            "align_self": null,
            "height": null,
            "min_height": null,
            "padding": null,
            "grid_auto_rows": null,
            "grid_gap": null,
            "max_width": null,
            "order": null,
            "_view_module_version": "1.2.0",
            "grid_template_areas": null,
            "object_position": null,
            "object_fit": null,
            "grid_auto_columns": null,
            "margin": null,
            "display": null,
            "left": null
          }
        },
        "2f196b69c46b41459084029f74dd2533": {
          "model_module": "@jupyter-widgets/controls",
          "model_name": "DescriptionStyleModel",
          "model_module_version": "1.5.0",
          "state": {
            "_view_name": "StyleView",
            "_model_name": "DescriptionStyleModel",
            "description_width": "",
            "_view_module": "@jupyter-widgets/base",
            "_model_module_version": "1.5.0",
            "_view_count": null,
            "_view_module_version": "1.2.0",
            "_model_module": "@jupyter-widgets/controls"
          }
        },
        "5e68ad0a6ca74129957640d5494341d4": {
          "model_module": "@jupyter-widgets/base",
          "model_name": "LayoutModel",
          "model_module_version": "1.2.0",
          "state": {
            "_view_name": "LayoutView",
            "grid_template_rows": null,
            "right": null,
            "justify_content": null,
            "_view_module": "@jupyter-widgets/base",
            "overflow": null,
            "_model_module_version": "1.2.0",
            "_view_count": null,
            "flex_flow": null,
            "width": null,
            "min_width": null,
            "border": null,
            "align_items": null,
            "bottom": null,
            "_model_module": "@jupyter-widgets/base",
            "top": null,
            "grid_column": null,
            "overflow_y": null,
            "overflow_x": null,
            "grid_auto_flow": null,
            "grid_area": null,
            "grid_template_columns": null,
            "flex": null,
            "_model_name": "LayoutModel",
            "justify_items": null,
            "grid_row": null,
            "max_height": null,
            "align_content": null,
            "visibility": null,
            "align_self": null,
            "height": null,
            "min_height": null,
            "padding": null,
            "grid_auto_rows": null,
            "grid_gap": null,
            "max_width": null,
            "order": null,
            "_view_module_version": "1.2.0",
            "grid_template_areas": null,
            "object_position": null,
            "object_fit": null,
            "grid_auto_columns": null,
            "margin": null,
            "display": null,
            "left": null
          }
        },
        "93be5243bbd148108327adccb0377140": {
          "model_module": "@jupyter-widgets/controls",
          "model_name": "HBoxModel",
          "model_module_version": "1.5.0",
          "state": {
            "_view_name": "HBoxView",
            "_dom_classes": [],
            "_model_name": "HBoxModel",
            "_view_module": "@jupyter-widgets/controls",
            "_model_module_version": "1.5.0",
            "_view_count": null,
            "_view_module_version": "1.5.0",
            "box_style": "",
            "layout": "IPY_MODEL_390b48fb7eaf43689b004b0a974bd6c4",
            "_model_module": "@jupyter-widgets/controls",
            "children": [
              "IPY_MODEL_9ce1f30face24246971d97a345c617e5",
              "IPY_MODEL_5056d24d7384443db563e7c223b0d56a",
              "IPY_MODEL_528a587c912a4be98bcc79c577f3d3ee"
            ]
          }
        },
        "390b48fb7eaf43689b004b0a974bd6c4": {
          "model_module": "@jupyter-widgets/base",
          "model_name": "LayoutModel",
          "model_module_version": "1.2.0",
          "state": {
            "_view_name": "LayoutView",
            "grid_template_rows": null,
            "right": null,
            "justify_content": null,
            "_view_module": "@jupyter-widgets/base",
            "overflow": null,
            "_model_module_version": "1.2.0",
            "_view_count": null,
            "flex_flow": null,
            "width": null,
            "min_width": null,
            "border": null,
            "align_items": null,
            "bottom": null,
            "_model_module": "@jupyter-widgets/base",
            "top": null,
            "grid_column": null,
            "overflow_y": null,
            "overflow_x": null,
            "grid_auto_flow": null,
            "grid_area": null,
            "grid_template_columns": null,
            "flex": null,
            "_model_name": "LayoutModel",
            "justify_items": null,
            "grid_row": null,
            "max_height": null,
            "align_content": null,
            "visibility": null,
            "align_self": null,
            "height": null,
            "min_height": null,
            "padding": null,
            "grid_auto_rows": null,
            "grid_gap": null,
            "max_width": null,
            "order": null,
            "_view_module_version": "1.2.0",
            "grid_template_areas": null,
            "object_position": null,
            "object_fit": null,
            "grid_auto_columns": null,
            "margin": null,
            "display": null,
            "left": null
          }
        },
        "9ce1f30face24246971d97a345c617e5": {
          "model_module": "@jupyter-widgets/controls",
          "model_name": "HTMLModel",
          "model_module_version": "1.5.0",
          "state": {
            "_view_name": "HTMLView",
            "style": "IPY_MODEL_db823aeb43844079a0beb1e3b6c2f224",
            "_dom_classes": [],
            "description": "",
            "_model_name": "HTMLModel",
            "placeholder": "​",
            "_view_module": "@jupyter-widgets/controls",
            "_model_module_version": "1.5.0",
            "value": "100%",
            "_view_count": null,
            "_view_module_version": "1.5.0",
            "description_tooltip": null,
            "_model_module": "@jupyter-widgets/controls",
            "layout": "IPY_MODEL_21cc3f2558fc47b5bd6335ba77cbeeab"
          }
        },
        "5056d24d7384443db563e7c223b0d56a": {
          "model_module": "@jupyter-widgets/controls",
          "model_name": "FloatProgressModel",
          "model_module_version": "1.5.0",
          "state": {
            "_view_name": "ProgressView",
            "style": "IPY_MODEL_0a18297dfa2e470290ae866cfa2a1344",
            "_dom_classes": [],
            "description": "",
            "_model_name": "FloatProgressModel",
            "bar_style": "success",
            "max": 1,
            "_view_module": "@jupyter-widgets/controls",
            "_model_module_version": "1.5.0",
            "value": 1,
            "_view_count": null,
            "_view_module_version": "1.5.0",
            "orientation": "horizontal",
            "min": 0,
            "description_tooltip": null,
            "_model_module": "@jupyter-widgets/controls",
            "layout": "IPY_MODEL_13a39b7f747746429ee4e4d338e030c9"
          }
        },
        "528a587c912a4be98bcc79c577f3d3ee": {
          "model_module": "@jupyter-widgets/controls",
          "model_name": "HTMLModel",
          "model_module_version": "1.5.0",
          "state": {
            "_view_name": "HTMLView",
            "style": "IPY_MODEL_eba15b5d84dd4a889aef63950768a778",
            "_dom_classes": [],
            "description": "",
            "_model_name": "HTMLModel",
            "placeholder": "​",
            "_view_module": "@jupyter-widgets/controls",
            "_model_module_version": "1.5.0",
            "value": " 1/1 [00:00&lt;00:00,  4.24ba/s]",
            "_view_count": null,
            "_view_module_version": "1.5.0",
            "description_tooltip": null,
            "_model_module": "@jupyter-widgets/controls",
            "layout": "IPY_MODEL_e170ea46868e4ad5b863c2a08dbfc50a"
          }
        },
        "db823aeb43844079a0beb1e3b6c2f224": {
          "model_module": "@jupyter-widgets/controls",
          "model_name": "DescriptionStyleModel",
          "model_module_version": "1.5.0",
          "state": {
            "_view_name": "StyleView",
            "_model_name": "DescriptionStyleModel",
            "description_width": "",
            "_view_module": "@jupyter-widgets/base",
            "_model_module_version": "1.5.0",
            "_view_count": null,
            "_view_module_version": "1.2.0",
            "_model_module": "@jupyter-widgets/controls"
          }
        },
        "21cc3f2558fc47b5bd6335ba77cbeeab": {
          "model_module": "@jupyter-widgets/base",
          "model_name": "LayoutModel",
          "model_module_version": "1.2.0",
          "state": {
            "_view_name": "LayoutView",
            "grid_template_rows": null,
            "right": null,
            "justify_content": null,
            "_view_module": "@jupyter-widgets/base",
            "overflow": null,
            "_model_module_version": "1.2.0",
            "_view_count": null,
            "flex_flow": null,
            "width": null,
            "min_width": null,
            "border": null,
            "align_items": null,
            "bottom": null,
            "_model_module": "@jupyter-widgets/base",
            "top": null,
            "grid_column": null,
            "overflow_y": null,
            "overflow_x": null,
            "grid_auto_flow": null,
            "grid_area": null,
            "grid_template_columns": null,
            "flex": null,
            "_model_name": "LayoutModel",
            "justify_items": null,
            "grid_row": null,
            "max_height": null,
            "align_content": null,
            "visibility": null,
            "align_self": null,
            "height": null,
            "min_height": null,
            "padding": null,
            "grid_auto_rows": null,
            "grid_gap": null,
            "max_width": null,
            "order": null,
            "_view_module_version": "1.2.0",
            "grid_template_areas": null,
            "object_position": null,
            "object_fit": null,
            "grid_auto_columns": null,
            "margin": null,
            "display": null,
            "left": null
          }
        },
        "0a18297dfa2e470290ae866cfa2a1344": {
          "model_module": "@jupyter-widgets/controls",
          "model_name": "ProgressStyleModel",
          "model_module_version": "1.5.0",
          "state": {
            "_view_name": "StyleView",
            "_model_name": "ProgressStyleModel",
            "description_width": "",
            "_view_module": "@jupyter-widgets/base",
            "_model_module_version": "1.5.0",
            "_view_count": null,
            "_view_module_version": "1.2.0",
            "bar_color": null,
            "_model_module": "@jupyter-widgets/controls"
          }
        },
        "13a39b7f747746429ee4e4d338e030c9": {
          "model_module": "@jupyter-widgets/base",
          "model_name": "LayoutModel",
          "model_module_version": "1.2.0",
          "state": {
            "_view_name": "LayoutView",
            "grid_template_rows": null,
            "right": null,
            "justify_content": null,
            "_view_module": "@jupyter-widgets/base",
            "overflow": null,
            "_model_module_version": "1.2.0",
            "_view_count": null,
            "flex_flow": null,
            "width": null,
            "min_width": null,
            "border": null,
            "align_items": null,
            "bottom": null,
            "_model_module": "@jupyter-widgets/base",
            "top": null,
            "grid_column": null,
            "overflow_y": null,
            "overflow_x": null,
            "grid_auto_flow": null,
            "grid_area": null,
            "grid_template_columns": null,
            "flex": null,
            "_model_name": "LayoutModel",
            "justify_items": null,
            "grid_row": null,
            "max_height": null,
            "align_content": null,
            "visibility": null,
            "align_self": null,
            "height": null,
            "min_height": null,
            "padding": null,
            "grid_auto_rows": null,
            "grid_gap": null,
            "max_width": null,
            "order": null,
            "_view_module_version": "1.2.0",
            "grid_template_areas": null,
            "object_position": null,
            "object_fit": null,
            "grid_auto_columns": null,
            "margin": null,
            "display": null,
            "left": null
          }
        },
        "eba15b5d84dd4a889aef63950768a778": {
          "model_module": "@jupyter-widgets/controls",
          "model_name": "DescriptionStyleModel",
          "model_module_version": "1.5.0",
          "state": {
            "_view_name": "StyleView",
            "_model_name": "DescriptionStyleModel",
            "description_width": "",
            "_view_module": "@jupyter-widgets/base",
            "_model_module_version": "1.5.0",
            "_view_count": null,
            "_view_module_version": "1.2.0",
            "_model_module": "@jupyter-widgets/controls"
          }
        },
        "e170ea46868e4ad5b863c2a08dbfc50a": {
          "model_module": "@jupyter-widgets/base",
          "model_name": "LayoutModel",
          "model_module_version": "1.2.0",
          "state": {
            "_view_name": "LayoutView",
            "grid_template_rows": null,
            "right": null,
            "justify_content": null,
            "_view_module": "@jupyter-widgets/base",
            "overflow": null,
            "_model_module_version": "1.2.0",
            "_view_count": null,
            "flex_flow": null,
            "width": null,
            "min_width": null,
            "border": null,
            "align_items": null,
            "bottom": null,
            "_model_module": "@jupyter-widgets/base",
            "top": null,
            "grid_column": null,
            "overflow_y": null,
            "overflow_x": null,
            "grid_auto_flow": null,
            "grid_area": null,
            "grid_template_columns": null,
            "flex": null,
            "_model_name": "LayoutModel",
            "justify_items": null,
            "grid_row": null,
            "max_height": null,
            "align_content": null,
            "visibility": null,
            "align_self": null,
            "height": null,
            "min_height": null,
            "padding": null,
            "grid_auto_rows": null,
            "grid_gap": null,
            "max_width": null,
            "order": null,
            "_view_module_version": "1.2.0",
            "grid_template_areas": null,
            "object_position": null,
            "object_fit": null,
            "grid_auto_columns": null,
            "margin": null,
            "display": null,
            "left": null
          }
        }
      }
    }
  },
  "cells": [
    {
      "cell_type": "markdown",
      "metadata": {
        "id": "EUGbYz84pdUH"
      },
      "source": [
        "# Dataset Overview for Bart tokenizer\n",
        "\n"
      ]
    },
    {
      "cell_type": "code",
      "metadata": {
        "id": "MOsHUjgdIrIW"
      },
      "source": [
        "#Install essential packages\n",
        "%%capture\n",
        "!pip install datasets\n",
        "!pip install transformers\n",
        "\n",
        "!apt install git-lfs"
      ],
      "execution_count": 1,
      "outputs": []
    },
    {
      "cell_type": "code",
      "metadata": {
        "id": "glZC8RTP0UHU"
      },
      "source": [
        "# Make sure your version of Transformers is at 4.11.0\n",
        "# to run the following code correctly:\n",
        "import datasets\n",
        "import transformers"
      ],
      "execution_count": 2,
      "outputs": []
    },
    {
      "cell_type": "code",
      "source": [
        "from transformers import BartTokenizer\n",
        "\n",
        "tokenizer = BartTokenizer.from_pretrained(\"facebook/bart-base\")"
      ],
      "metadata": {
        "colab": {
          "base_uri": "https://localhost:8080/",
          "height": 145,
          "referenced_widgets": [
            "2b488b5ae4c74a42abeea6245318f083",
            "643fdb2719034400bbcd64ec0468a249",
            "ba180cd3113343918e77b9aeef6ef45e",
            "1232eeeba735442d85237b72251dbee8",
            "8d4b7d1de8ba43c99b2feac5135ec8ad",
            "707a7ee6fcbc45f0b9837836c5321c26",
            "e556ddc75f5a4706acf5dbe9905efca0",
            "c1ebed660c394a728ec0d6e8693d5dc1",
            "8d6e7df420334a0388460fd049408116",
            "729ed65dee114a15873c40532c8d0261",
            "75935ecd92974d719598880102b7820a",
            "6ce88fb701bc4dc69ba016bc6194cdee",
            "2950ce9530464784b97c4bd81b47a2f8",
            "95c09fd2d40f403f85e4fb9cea560e96",
            "3da192b65b7743bd8c961d0f8a13e54e",
            "713f119be09b4fc1bec5b0465715cea7",
            "05af130261dc4d5a80b2e42da0840556",
            "e64eeb3d38ba4c5c935e39ccd220d3d9",
            "18f7fbca9fbf40d2af4a3f3011bdb0ec",
            "d73e95a72af04a7eaed483063b34d49f",
            "bc26a4dbbf5345e7917fd12e3de8e3d0",
            "46bfab04a6824226b0d8f8e6acff1a69",
            "64097da008c948a8b30e3ace2297f958",
            "ec8b59b6858c40fbb540f7bb7dff2f22",
            "2726dc16860449e8bd5e3e553ebbffa6",
            "e37e68067abe464da99b8408798f32bb",
            "883914c453c24c868b461489ad0da30d",
            "9d8be10f52d84f61aebcfe017da3078f",
            "610405cd8d2345e0a1b5c1fd5fc57e15",
            "bd726a6b9055487da3c660bde94424c4",
            "06b4644e36f74902bf2b3840758c6583",
            "49a350d981d94814ba55cae4d9acf71c",
            "92643edb01584224ae27ad5788a23b12",
            "91b2ab0333a147e9b51322e1bc5163d2",
            "75f86b6618f8491d8f496926528ea4c1",
            "b02af51779bb4e3e90c81de79d29a391",
            "169d948d1def477a89c7522f339e1fb0",
            "57e7fea5b01a42779ecf8de06af8555e",
            "05672ec76dda4062807336cb5779e46b",
            "32652ee99b374ac9b42943108d83aa8d",
            "41b6f3ac14f44bb897d6036cc94dcae7",
            "a26ba469d7764d739d8dc425bf0de078",
            "71705991ef17459aa17ea0068e0faca2",
            "de2203b7a82447a095878ada4ecadcc1"
          ]
        },
        "id": "uqNlmSGKSmIr",
        "outputId": "2ed9783f-e9ab-463f-f458-48f63dbcc20d"
      },
      "execution_count": 3,
      "outputs": [
        {
          "output_type": "display_data",
          "data": {
            "application/vnd.jupyter.widget-view+json": {
              "model_id": "2b488b5ae4c74a42abeea6245318f083",
              "version_minor": 0,
              "version_major": 2
            },
            "text/plain": [
              "Downloading:   0%|          | 0.00/878k [00:00<?, ?B/s]"
            ]
          },
          "metadata": {}
        },
        {
          "output_type": "display_data",
          "data": {
            "application/vnd.jupyter.widget-view+json": {
              "model_id": "6ce88fb701bc4dc69ba016bc6194cdee",
              "version_minor": 0,
              "version_major": 2
            },
            "text/plain": [
              "Downloading:   0%|          | 0.00/446k [00:00<?, ?B/s]"
            ]
          },
          "metadata": {}
        },
        {
          "output_type": "display_data",
          "data": {
            "application/vnd.jupyter.widget-view+json": {
              "model_id": "64097da008c948a8b30e3ace2297f958",
              "version_minor": 0,
              "version_major": 2
            },
            "text/plain": [
              "Downloading:   0%|          | 0.00/1.29M [00:00<?, ?B/s]"
            ]
          },
          "metadata": {}
        },
        {
          "output_type": "display_data",
          "data": {
            "application/vnd.jupyter.widget-view+json": {
              "model_id": "91b2ab0333a147e9b51322e1bc5163d2",
              "version_minor": 0,
              "version_major": 2
            },
            "text/plain": [
              "Downloading:   0%|          | 0.00/1.65k [00:00<?, ?B/s]"
            ]
          },
          "metadata": {}
        }
      ]
    },
    {
      "cell_type": "markdown",
      "metadata": {
        "id": "whPRbBNbIrIl"
      },
      "source": [
        "##XSum"
      ]
    },
    {
      "cell_type": "code",
      "metadata": {
        "id": "IreSlFmlIrIm",
        "colab": {
          "base_uri": "https://localhost:8080/"
        },
        "outputId": "64aebbfe-1098-4686-a3d7-8cae64daeb26"
      },
      "source": [
        "# import dataset from cache\n",
        "train_xsum = datasets.load_dataset(\"xsum\", split=\"train\")"
      ],
      "execution_count": 4,
      "outputs": [
        {
          "output_type": "stream",
          "name": "stderr",
          "text": [
            "Using custom data configuration default\n",
            "Reusing dataset xsum (/root/.cache/huggingface/datasets/xsum/default/1.2.0/32c23220eadddb1149b16ed2e9430a05293768cfffbdfd151058697d4c11f934)\n"
          ]
        }
      ]
    },
    {
      "cell_type": "code",
      "source": [
        "train_xsum"
      ],
      "metadata": {
        "colab": {
          "base_uri": "https://localhost:8080/"
        },
        "id": "PHh-LiSMRzNR",
        "outputId": "f976d326-fce4-48e3-bf15-d415077560e5"
      },
      "execution_count": 5,
      "outputs": [
        {
          "output_type": "execute_result",
          "data": {
            "text/plain": [
              "Dataset({\n",
              "    features: ['document', 'summary', 'id'],\n",
              "    num_rows: 204045\n",
              "})"
            ]
          },
          "metadata": {},
          "execution_count": 5
        }
      ]
    },
    {
      "cell_type": "code",
      "metadata": {
        "id": "i3j8APAoIrI3"
      },
      "source": [
        "# Visualize the Data\n",
        "\n",
        "import random\n",
        "import pandas as pd\n",
        "from IPython.display import display, HTML\n",
        "\n",
        "def show_random_elements(dataset, num_examples=5):\n",
        "    assert num_examples <= len(dataset), \"Can't pick more elements than there are in the dataset.\"\n",
        "    picks = []\n",
        "    for _ in range(num_examples):\n",
        "        pick = random.randint(0, len(dataset)-1)\n",
        "        while pick in picks:\n",
        "            pick = random.randint(0, len(dataset)-1)\n",
        "        picks.append(pick)\n",
        "    \n",
        "    df = pd.DataFrame(dataset[picks])\n",
        "    del df[\"id\"]\n",
        "    for column, typ in dataset.features.items():\n",
        "        if isinstance(typ, datasets.ClassLabel):\n",
        "            df[column] = df[column].transform(lambda i: typ.names[i])\n",
        "    display(HTML(df.to_html()))"
      ],
      "execution_count": 6,
      "outputs": []
    },
    {
      "cell_type": "code",
      "metadata": {
        "id": "SZy5tRB_IrI7",
        "colab": {
          "base_uri": "https://localhost:8080/",
          "height": 1000
        },
        "outputId": "0fc39d43-0349-460b-9edd-e4404af65133"
      },
      "source": [
        "show_random_elements(train_xsum)"
      ],
      "execution_count": 7,
      "outputs": [
        {
          "output_type": "display_data",
          "data": {
            "text/html": [
              "<table border=\"1\" class=\"dataframe\">\n",
              "  <thead>\n",
              "    <tr style=\"text-align: right;\">\n",
              "      <th></th>\n",
              "      <th>document</th>\n",
              "      <th>summary</th>\n",
              "    </tr>\n",
              "  </thead>\n",
              "  <tbody>\n",
              "    <tr>\n",
              "      <th>0</th>\n",
              "      <td>Robert Faulds was severely injured when his right arm was pulled into machinery at the bottle-top factory in Bridge of Allan in September 2013.\\nThe 58-year-old said United Closures and Plastics blamed him for the accident and demoted him.\\nThe firm was also fined £12,000 after admitting health and safety breaches at Stirling Sheriff Court.\\nMr Faulds, from Falkirk, was working on a printing machine when the accident happened.\\nHis arm was dragged into the offset machine and crushed.\\nThe Health and Safety Executive took United Closures and Plastics to court over the incident, where the firm admitted failing to do a sufficient risk assessment of the machine and failing to ensure proper access.\\nThe firm was issued the £12,000 fine at Stirling Sheriff Court last week.\\nMr Faulds, who was off work for more than 14 months after the accident, said he was sacked from his role as production engineer for gross misconduct but was offered another job as an operator.\\nThe father-of-four said: \"The thing that upsets me is that all the way through this, they have put the blame on me. They said I did an unsafe act and had a flippant attitude to safety.\\n\"My arm was smashed to pieces and I am now 30% disabled in it.\\n\"The money will change my life because I will be able to buy a flat and look to the future.\\n\"But I am now doing a menial job packing boxes when I was working as a skilled engineer before. But who is going to employ me when it's on my record that I was sacked for gross misconduct?\\n\"I have never had an apology but I would just like them to clear my record.\"\\nMr Faulds' lawyer, Tracey McKenzie from Thompsons Solicitors, said: \"Robert is a very hard-working man who was following instructions from his employer when he was seriously injured.\\n\"He was used as a scapegoat and sacked before being reinstated in a lower role.\\n\"His employers were then prosecuted and pled guilty to breaches of health and safety law which totally vindicates Robert's version of events.\\n\"He has now been left with a life-changing injury and his future employment prospects have been greatly affected - it is only right that he has been paid this substantial level of compensation.\"\\nNo-one from United Closures and Plastics was available for comment.</td>\n",
              "      <td>A factory worker who had his arm crushed by machinery has won a £125,000 payout from his employer.</td>\n",
              "    </tr>\n",
              "    <tr>\n",
              "      <th>1</th>\n",
              "      <td>\"Significant damage\" has been caused to the Churchfields playing fields in West Bromwich, according to Sandwell council.\\nThe authority said \"a number of incidents\" have been reported since the travellers arrived on Wednesday.\\n\"They have ruined the football pitches and damaged metal palisade fencing,\" said Councillor Paul Moore.\\nIn a statement the council said officers were \"working to move the travellers on as quickly as possible\".\\nMr Moore, cabinet member for regeneration and investment, said: \"It's completely unacceptable.\\n\"It's also unfair on kids and their parents that these matches have been cancelled. I am sorry for the inconvenience that's been caused.\\n\"Illegal encampments will not be tolerated on council owned land and we will be working to get the pitches back to a decent standard very soon.\"</td>\n",
              "      <td>Children's football matches have been cancelled after travellers set up an illegal camp on a playing field.</td>\n",
              "    </tr>\n",
              "    <tr>\n",
              "      <th>2</th>\n",
              "      <td>The 35-year-old collapsed during a training session with his Gabonese club FC 105 Libreville.\\nHe played for the Panthers at the Africa Cup of Nations in 2010 and 2012.\\n\"We played together, we played against each other but it was always a pleasure to play alongside you,\" Gabon captain Pierre-Emerick Aubameyang posted.\\n\"Rest in peace my brother.\"\\nThe Gabon Football Federation (Fegafoot) announced the news and also paid their own tribute.\\n\"The country has lost a brave son who has always given his best for the Gabonese flag,\" Fegafoot wrote.\\n\"All our condolences to his family and team-mates.\"\\nSunderland and Gabon midfielder Didier Ndong also paid tribute to Brou Apanga on social media.\\n\"I take this moment to tell you that I'll be thinking about you every minute of this match - rest in peace big brother,\" the 22-year-old wrote just before he took to the field for Sunderland against Middlesbrough.\\n\"Brou Apanga a legend of Gabonese football.\" he added.\\nBrou Apanga was born in Ivory Coast but during his first spell with FC 105 he was persuaded to become a Gabonese citizen by the then coach Alain Giresse.\\nThe French coach handed Brou Apanga his debut in 2007 and also helped him secure a move to Brest.\\n\"I have collapsed, I'm destroyed,\" Giresse, who told French newspaper L'Equipe.\\nAs well as playing for Brest in France he also had spells with Italian clubs Perugia and Brescia after originally beginning his career with FC Politehnica Timisoara in Romania.\\nAfter his spell with Brest he returned to Gabon in 2012 and played for Mangasport before enjoying his second spell with FC 105 after returning earlier this year.</td>\n",
              "      <td>Tributes have been paid to former Gabon international Moise Brou Apanga who died on Wednesday from a suspected heart attack.</td>\n",
              "    </tr>\n",
              "    <tr>\n",
              "      <th>3</th>\n",
              "      <td>The report, produced last month by academics at the request of the Belgian privacy commission, said that the site tracks people without their consent.\\nAn annexe to that report, published last week, added details of Facebook's tracking and prompted fresh criticism.\\nFacebook said the report was \"inaccurate\" and complained that it was not contacted before its publication.\\n\"This report contains factual inaccuracies,\" a spokesperson said.\\n\"The authors have never contacted us, nor sought to clarify any assumptions upon which their report is based. Neither did they invite our comment on the report before making it public.\\n\"However, we remain willing to engage with them and hope they will be prepared to update their work in due course.\"\\nThe report's authors have said that they stick by their findings.\\n\"To date, we have not been contacted by Facebook directly nor have we received any meeting request,\" Brendan Van Alsenoy and Gunes Acar said.\\n\"We're not surprised that Facebook holds a different opinion as to what European data protection laws require.\\n\"But if Facebook feels today's releases contain factual errors, we're happy to receive any specific remarks it would like to make.\"\\nFacebook is regulated by the Irish Data Commissioner and says it has passed two audits of its data protection policies.\\nOn 27 March, the report's authors - who include researchers from KU Leuven university and Vrije Universiteit Brussel in Belgium - published a separate paper about Facebook's use of plug-ins to track people.\\nA plug-in, such as the follow button that Facebook provides to direct users to a company's Facebook page from its own website, can also act as a tracker, following the sites a person visits.\\nHowever, many online companies use plug-ins, as well as cookies, for tracking internet use.\\nFacebook was also criticised for not offering opt-outs on location data collations.\\nThe authors said this may put Facebook in breach of EU laws that demand explicit consent from individuals for website tracking and the use of cookies.\\nFacebook updated its policies in January but the researchers said the changes were not significant.\\n\"To be clear: the changes introduced in 2015 weren't all that drastic,\" they wrote in their original paper.\\n\"Most of Facebook's 'new' policies and terms are simply old practices made more explicit.\"\\nThe terms stated that Facebook could track its users across websites and devices, use pictures uploaded for commercial purposes and collate location data.\\nThe report also claimed that the platform \"places too much burden\" on site members by presenting them with a \"complicated web\" of settings.\\nFacebook, however, has defended its approach.\\n\"Cookies have been an industry standard for more than 15 years,\" said a spokesman.\\nIf people want to opt out of seeing advertising based on the websites they visit and apps they use, they opt out through the EDAA [European Interactive Digital Advertising Alliance], whose principles and opt out we and more than 100 other companies comply with.\\n\"Facebook takes this commitment one step further: when you use the EDAA opt out, we opt you out on all devices you use and you won't see ads based on the websites and apps you use.\"</td>\n",
              "      <td>Facebook has attacked a report that said its privacy policy may be in breach of EU laws.</td>\n",
              "    </tr>\n",
              "    <tr>\n",
              "      <th>4</th>\n",
              "      <td>Builders had moved into the Belfast Metropolitan College building on College Square East with the job of converting it into student accommodation.\\nInstead, they discovered a memento from a long-passed wartime era.\\nPhotographs of teachers and students in uniform who had enlisted to fight in World War One.\\nThese photos, found covered in dust in a box, shed light on a chapter of the college's history indelibly tied to the events of 100 years ago.\\n\"You're staring into the faces of people who died or fought in that war,\" said Henry Bell, a former staff member and historian of the college.\\n\"I think those photos are there so relatives could come into this college as a kind of memorial and look at them.\\n\"You've officers, you've people who have medals and honours and you've just got the ordinary boys who lost their lives maybe in a ship in the Battle of Jutland.\\n\"You've got the strange case of somebody who ended up in the Italian Army, somebody who ended up in the Australian Camel Corps.\"\\nAmong the young men captured in the photographs is Billy McFadzean, the first soldier from the 36th Ulster Division to die at the Somme on the morning of 1 July 1916.\\nThe Belfast-born soldier was posthumously awarded the Victoria Cross.\\n\"He had been assigned to bomb distribution,\" said David Brown, a Somme history researcher.\\n\"His job was to distribute bombs to other men in the trenches who were going to use them in attacking the enemy.\\n\"He lifted a box, which were secured by ropes, and one of the ropes broke off.\\n\"Two of the bombs fell out of the box, the pins came off the bombs and dropped to the floor.\\n\"There was over 600 men in the trench.\\n\"He hadn't time to think about it. He had about four seconds of his life and all that was left that he could do was to throw himself on top of them and he was blown to smithereens.\"\\nAccording to Henry Bell, it was the political situation at the time, combined with the enthusiasm of some at the college, that would have convinced so many to join the fighting.\\n\"The principal of the college at the time, Frances Forth, was very heavily involved with the military.\\n\"He would've probably held meetings in this hall encouraging boys in those heady days of 1914 to go off and fight for their king and country.\\n\"And, remember, there was a heightened tension here about the Home Rule bill and people feeling that fighting for king and country would actually stop Home Rule.\\n\"So, in a way, it (the photos) is part very much of the history not just of the war but what was happening here politically between 1912 and 1914.\"\\nWhile the old college building has taken on new life, this photographic memory of those who fought at the Somme and elsewhere now rests with their families and historians for generations to come.</td>\n",
              "      <td>It was an unexpected fragment of Northern Ireland's military history that had lain dormant for decades.</td>\n",
              "    </tr>\n",
              "  </tbody>\n",
              "</table>"
            ],
            "text/plain": [
              "<IPython.core.display.HTML object>"
            ]
          },
          "metadata": {}
        }
      ]
    },
    {
      "cell_type": "code",
      "source": [
        "# map article and summary len to dict as well as if sample is longer than 512 tokens\n",
        "def map_to_length(x):\n",
        "  x[\"article_len\"] = len(tokenizer(x[\"document\"]).input_ids)\n",
        "  x[\"article_longer_512\"] = int(x[\"article_len\"] > 512)\n",
        "  x[\"summary_len\"] = len(tokenizer(x[\"summary\"]).input_ids)\n",
        "  x[\"summary_longer_64\"] = int(x[\"summary_len\"] > 64)\n",
        "  x[\"summary_longer_128\"] = int(x[\"summary_len\"] > 128)\n",
        "  return x"
      ],
      "metadata": {
        "id": "I1SrhmjWSqd6"
      },
      "execution_count": 8,
      "outputs": []
    },
    {
      "cell_type": "code",
      "source": [
        "# random choose 10% of the dataset\n",
        "sample_size = 20000\n",
        "data_stats = train_xsum.select(range(sample_size)).map(map_to_length, num_proc=4)"
      ],
      "metadata": {
        "colab": {
          "base_uri": "https://localhost:8080/",
          "height": 106
        },
        "id": "_16udOIwTBLz",
        "outputId": "6f702fa8-1b79-4a7a-c7e3-f41ab576c510"
      },
      "execution_count": 9,
      "outputs": [
        {
          "output_type": "stream",
          "name": "stderr",
          "text": [
            "Token indices sequence length is longer than the specified maximum sequence length for this model (1140 > 1024). Running this sequence through the model will result in indexing errors\n",
            "Token indices sequence length is longer than the specified maximum sequence length for this model (1334 > 1024). Running this sequence through the model will result in indexing errors\n",
            "Token indices sequence length is longer than the specified maximum sequence length for this model (1126 > 1024). Running this sequence through the model will result in indexing errors\n",
            "Token indices sequence length is longer than the specified maximum sequence length for this model (1078 > 1024). Running this sequence through the model will result in indexing errors\n"
          ]
        }
      ]
    },
    {
      "cell_type": "code",
      "source": [
        "def compute_and_print_stats(x):\n",
        "  if len(x[\"article_len\"]) == sample_size:\n",
        "    print(\n",
        "        \"Article Mean: {}, %-Articles > 512:{}, Summary Mean:{}, %-Summary > 64:{}, %-Summary > 128:{}\".format(\n",
        "            sum(x[\"article_len\"]) / sample_size,\n",
        "            sum(x[\"article_longer_512\"]) / sample_size, \n",
        "            sum(x[\"summary_len\"]) / sample_size,\n",
        "            sum(x[\"summary_longer_64\"]) / sample_size,\n",
        "            sum(x[\"summary_longer_128\"]) / sample_size,\n",
        "        )\n",
        "    )\n",
        "\n",
        "output = data_stats.map(\n",
        "  compute_and_print_stats, \n",
        "  batched=True,\n",
        "  batch_size=-1,\n",
        ")"
      ],
      "metadata": {
        "colab": {
          "base_uri": "https://localhost:8080/",
          "height": 66,
          "referenced_widgets": [
            "9bc5db0f29104928bfbe0637e49aa840",
            "df3bedd8af334f4984566c857c7025c2",
            "cec708aa38424a48a40861d94f513378",
            "e13096d5c5e34a7fb6f43888321af6f6",
            "4e536e69b047447c87432c6bcc3c339b",
            "e424c870de9d4bcbb150bbb069684c03",
            "7c93c9e9378142ddaf37bc8ed7ffac14",
            "343f44b1f7584bb78cb0197855856432",
            "ba5d95885b204769bd93196d41459651",
            "ca16f4d0f3cf46b3a46fc4c6afc9f6f6",
            "42454dbe077b4c15bb86cb7eb08daae5"
          ]
        },
        "id": "jE6yX9juTQc3",
        "outputId": "cb901826-529c-4686-c85e-127aca1e99af"
      },
      "execution_count": 10,
      "outputs": [
        {
          "output_type": "display_data",
          "data": {
            "application/vnd.jupyter.widget-view+json": {
              "model_id": "9bc5db0f29104928bfbe0637e49aa840",
              "version_minor": 0,
              "version_major": 2
            },
            "text/plain": [
              "  0%|          | 0/1 [00:00<?, ?ba/s]"
            ]
          },
          "metadata": {}
        },
        {
          "output_type": "stream",
          "name": "stdout",
          "text": [
            "Article Mean: 489.4413, %-Articles > 512:0.34995, Summary Mean:28.1944, %-Summary > 64:0.002, %-Summary > 128:0.0\n"
          ]
        }
      ]
    },
    {
      "cell_type": "markdown",
      "source": [
        "From the Result, we can see that for random 20000 sample (10% of training dataset), our articles has average token length of 489, and 35% is longer than 512. And the mean summary's token length is 28, almost none are longer than 64. \n",
        "\n",
        "It should be reasonable to use 512 for tokenized article length and 64 for tokenized summary length on Bart tokenizer for Xsum dataset. But since Bart is limited to 1024, and to keep the same track with other dataset, we will stick to **1024** and **128**.\n"
      ],
      "metadata": {
        "id": "lT6Fs6Pdb-X1"
      }
    },
    {
      "cell_type": "markdown",
      "metadata": {
        "id": "uqZAjghh9UzX"
      },
      "source": [
        "##CNN/Daily"
      ]
    },
    {
      "cell_type": "code",
      "source": [
        "train_cnn = datasets.load_dataset(\"cnn_dailymail\", \"3.0.0\", split=\"train\")"
      ],
      "metadata": {
        "colab": {
          "base_uri": "https://localhost:8080/"
        },
        "id": "7qe2LTok-atw",
        "outputId": "d9da496b-9211-4935-9a23-54a60452c349"
      },
      "execution_count": 11,
      "outputs": [
        {
          "output_type": "stream",
          "name": "stderr",
          "text": [
            "Reusing dataset cnn_dailymail (/root/.cache/huggingface/datasets/cnn_dailymail/3.0.0/3.0.0/3cb851bf7cf5826e45d49db2863f627cba583cbc32342df7349dfe6c38060234)\n"
          ]
        }
      ]
    },
    {
      "cell_type": "code",
      "source": [
        "train_cnn"
      ],
      "metadata": {
        "colab": {
          "base_uri": "https://localhost:8080/"
        },
        "outputId": "78dfdf49-57a9-4f4e-b0c4-7968ca4344d1",
        "id": "-P7HPqIG9Uzc"
      },
      "execution_count": 12,
      "outputs": [
        {
          "output_type": "execute_result",
          "data": {
            "text/plain": [
              "Dataset({\n",
              "    features: ['article', 'highlights', 'id'],\n",
              "    num_rows: 287113\n",
              "})"
            ]
          },
          "metadata": {},
          "execution_count": 12
        }
      ]
    },
    {
      "cell_type": "code",
      "metadata": {
        "colab": {
          "base_uri": "https://localhost:8080/",
          "height": 1000
        },
        "outputId": "c7979fd0-4933-4910-b7b3-18aa64775ee1",
        "id": "ISpa1ChX9Uzd"
      },
      "source": [
        "show_random_elements(train_cnn)"
      ],
      "execution_count": 13,
      "outputs": [
        {
          "output_type": "display_data",
          "data": {
            "text/html": [
              "<table border=\"1\" class=\"dataframe\">\n",
              "  <thead>\n",
              "    <tr style=\"text-align: right;\">\n",
              "      <th></th>\n",
              "      <th>article</th>\n",
              "      <th>highlights</th>\n",
              "    </tr>\n",
              "  </thead>\n",
              "  <tbody>\n",
              "    <tr>\n",
              "      <th>0</th>\n",
              "      <td>Former Arsenal title-winner Alan Smith believes the club's Premier League challenge this season is already over and the best that they can achieve is another top four finish. The Gunners left it late to defeat Southampton 1-0 at home on Wednesday night courtesy of an Alexis Sanchez strike - a result that moves the Gunners up to sixth in the Premier League. However, Smith feels the gap between the Emirates outfit and league leaders Chelsea is already insurmountable after 14 matches, despite Arsene Wenger's belief that they can still overhaul Jose Mourinho's side. Former Arsenal striker Alan Smith believes the club must forget about the title and focus on a top-four finish . Alexis Sanchez (right) scored in the 89th minute to give the Gunners a 1-0 win against Southampton . The Blues are unbeaten this season and sit top of the table on 36 points - 13 ahead of their bitter London rivals - and the former England striker is adamant Arsenal must set their sights lower and focus on achieving qualification for the Champions League next season. Speaking on TalkSPORT's Hawksbee and Jacobs show, the 1988-89 and 1990-91 First Division winner with Arsenal said: 'I can see them having a good run, they have done it in years gone by, but I can't see them getting the kind of results that give them that proper belief that they are title challengers. 'I think they are a better team going forward now, without question, but you look back to their defensive weaknesses and think of the Anderlecht game, the Swansea game, the Man United game and have they erased it from their game? 'We will have to see when they come up against better opposition in the months to come. I don't see them as a title-challenging team. 'They will finish in the top four, no danger. I think them and Manchester United will be vying for those third and fourth places, but I cannot see them getting to the level of Chelsea.' Loic Remy (left) was on target as Chelsea beat Tottenham 3-0 on Wednesday in a London derby .</td>\n",
              "      <td>Arsenal scored a late winner to beat Southampton 1-0 on Wednesday .\\nResult moves Gunners up to sixth in the Premier League, 13 points adrift of leaders Chelsea after 14 games .\\nArsenal travel to Stoke on Saturday in their next league encounter .</td>\n",
              "    </tr>\n",
              "    <tr>\n",
              "      <th>1</th>\n",
              "      <td>(CNN) -- Egyptian security forces have arrested four Al Jazeera journalists, with the government saying at least one of them met with members of the banned Muslim Brotherhood. Correspondent Peter Greste, Bureau Chief Mohamed Fahmy, producer Baher Mohamed and cameraman Mohamed Fawzy were taken into custody Sunday evening in Cairo, the network said. The Egyptian Interior Ministry said on its Facebook page that security forces arrested a Muslim Brotherhood member and an Australian journalist at a Cairo hotel. Greste, an Australian, previously worked for CNN, Reuters and the BBC. The ministry said the Muslim Brotherhood member used the hotel to meet with other members and as a media center to broadcast damaging news about the government for Al Jazeera. The network demanded the journalists be released. Calling the arrests arbitrary, Al Jazeera said the network \"has been subject to harassment by Egyptian security forces,\" including having its equipment confiscated and offices raided, despite the network not being banned from working in Egypt. The arrests occurred the day before the Committee to Protect Journalists issued a report saying Egypt, Syria and Iraq have become the deadliest countries for journalists. Seventy journalists were killed in 2013, with six of those deaths in Egypt, the CPJ said. Egypt's current round of political turmoil began when former President Mohamed Morsy was removed from office in a July 3 coup. Last week, the military-backed government declared the Muslim Brotherhood a terrorist organization. Police and members of the Muslim Brotherhood have clashed in the streets since then.</td>\n",
              "      <td>NEW: Four Al Jazeera journalists were arrested, the network said .\\nNEW: Al Jazeera calls the arrests \"arbitrary,\" slams \"harassment\" of network .\\nThe Egyptian government says at least one journalist met with Muslim Brotherhood members .\\nThe government recently declared the Muslim Brotherhood a terrorist organization .</td>\n",
              "    </tr>\n",
              "    <tr>\n",
              "      <th>2</th>\n",
              "      <td>The median price of a free-standing house in Sydney will now set you back more than $1 million as property prices continue to soar across the country. Housing prices in Sydney rose 2.7 percent in the three months leading to September, while Melbourne, Brisbane, Adelaide and Hobart all jumped 1 percent, according to Australian Bureau of Statistics data. The figures released on Tuesday showed property prices in Darwin and Canberra  had risen just 0.3 percent, while the market in Perth fell 0.1 percent. Scroll down for video . The median price of a free-standing house in Sydney will now set you back more than $1 million with this property in Bellevue Hill selling last week for $4.6 million . Sydney free-standing home prices, including terraces, were significantly higher than other capital cities, with prices in Melbourne hitting $646,500, $547,200 in Brisbane and $485,700 in Adelaide . Separate figures from SQM Research has shown the median home price in Sydney hit $1.005 million this week. 'Right now it would be impossible to purchase a free standing house in Sydney’s inner ring for under a million dollars, and will become increasingly difficult to purchase a free standing house in Sydney’s middle ring for under a million dollars,' Managing Director of SQM Research, Louis Christopher, said. Sydney free-standing home prices, including terraces, were significantly higher than other capital cities, with the median price of a home in Melbourne hitting $646,500, $547,200 in Brisbane and $485,700 in Adelaide. SQM Research's Louis Christopher says it's impossible to buy a free-standing home in Sydney's inner ring for under $1 million. This property in Strathfield sold for $3.6 million last week . The inner west eight bedroom home has five bathrooms and a whopping six car spaces . The $1 million price tag is 7.2 percent higher than this time last year and 22 percent higher than three years ago. The median asking price for units in Sydney sits at $569,000. It comes as a new survey by ME Bank showed 26 percent of young Australians believed they will never be able to afford to buy their own home. This five-bedroom home in Sydney's iconic North Bondi sold for a cool $3.1 million . The two-storey freestanding home is located in a quiet street just minutes from Bondi Beach . ME Bank General Manager Asset Products, Luke Easton said it's a sign of how challenging housing affordability has become for many Australians. 'A large group of young people are delaying or ruling out home ownership altogether,' Mr Easton said. He said the financial challenges faced by first home buyers, including some of the highest property prices in the world, were forcing young buyers to be creative in their pursuits for the 'great Australian dream.'</td>\n",
              "      <td>Median price of a free-standing home in Sydney hit $1.005m this week .\\nSydney prices were considerably higher than other states, with Melbourne prices at $646,500 and $547,200 in Brisbane .\\nExpert says it's impossible to purchase home in Sydney's inner suburbs for under $1 million .\\nThe median asking price for units in Sydney sits at $569,000 .</td>\n",
              "    </tr>\n",
              "    <tr>\n",
              "      <th>3</th>\n",
              "      <td>Passengers may one day be able to hitch a ride on a plane with their thumb as carriers consider new ways to trim airport waiting times. Despite privacy concerns and fears the data could be stolen by hackers, the parent company of Alaska Airlines is testing a system that uses fingerprint scans to identify travellers with the goal of using it to speed up the process of getting from the check-in counter to the gate. If the ‘e-thumb’ system is implemented, the Seattle-based airline would become the first in the US to use biometrics for things such as boarding passes, entry into airport lounges or in-flight purchases, Bloomberg reported. Pioneer: Alaska Airlines could become the first carrier in the US to use biometrics to identify travellers . Fingerprint scans could replace government-issued identification documents such as passports or driver’s licences to reduce queues. Alaska Air Group began using the technology, which uses human physical characteristics to identify a person, at a frequent flier lounge in Seattle in August. The pilot project does not store images but uses an algorithm that converts reference points on a fingerprint into an encrypted code that cannot reconstruct the original image, Bloomberg reported. But the Electronic Frontier Foundation said the technology poses significant risks for privacy and security, and could be vulnerable to hackers. Under your thumb: Fingerprint scans could be used as boarding passes or to gain access into an airport lounge . The system faces a few hurdles before it can be implemented for commercial use. It must go through rigorous approval process and Alaska Air must convince the Transportation Security Administration and other aviation authorities that the system cannot be defeated and personal information will be kept safe and secure. Sandy Stelling, Alaska Airlines’ managing director for customer research and development, told Bloomberg: ‘We’re already in discussions of how we extend this, where we go next. Is it the boarding door? Is it the bag drop? ‘Obviously we have to line up a number of partnerships to make that happen. The customer response has been that strong. We don’t want to take our foot off the gas.’ UK arrivals with biometric visas or biometric residence permits must submit to a fingerprint scan . Fingerprint scans are not unusual in airports. Currently in the UK, passengers with biometric visas or biometric residence permits must submit to a fingerprint scan when they arrive at passport control. A similar program is used in the US. Passengers who are flying between the UK and Ireland require a facial biometric image to verify their identity. In 2008, the former British Airports Authority was forced to scrap plans to take fingerprints of passengers using London Heathrow’s Terminal 5 following warnings that such checks could be illegal. BAA had planned to fingerprint both domestic and international travellers transferring to domestic flights at Heathrow. That same year, Scandinavian Airlines began allowing passengers with luggage to board domestic flights with a scan of their index finger.</td>\n",
              "      <td>The 'e-thumb' system could be used for boarding passes or lounge entry .\\nAlaska Air would be the first US carrier to use biometrics if it is implemented .\\nAirline says scans would speed up process from check-in counter to gate .\\nElectronic Frontier Foundation has concerns about safety and privacy .</td>\n",
              "    </tr>\n",
              "    <tr>\n",
              "      <th>4</th>\n",
              "      <td>By . John Stevens . and Hugo Gye . PUBLISHED: . 16:14 EST, 25 February 2014 . | . UPDATED: . 06:15 EST, 26 February 2014 . A council is investigating why swastikas are carved into the stonework of its offices after a member of the public spotted the masonry 75 years after the building was built. A row of the infamous Nazi symbols adorn part of the stone façade above a door at Essex County Hall in Chelmsford, which was completed in 1939, the year the Second World War started. A member of the public wrote to the council asking why it 'was still commissioned given the symbol's negative connotations.' A county council has been asked to explain why the front of its HQ is decorated with swastikas . They added: 'It struck me as strange seeing as the Nazi party formed in 1933 and by March 1938 were beginning an invasion into Austria. 'It's potentially offensive and upsetting to those that lost loved ones in the war or those that fought for their country.' The council is dealing with the request for an explanation under the Freedom of Information Act. A spokesman said: 'We will be responding in detail to the individual who has raised the questions before making any further comment.' John Hammond of the Chelmsford Civic . Society questioned why the request for an explanation was being made 75 . years after the building was constructed. He said: 'I'm mystified as to why it's coming up now. Personally I think it would be overkill to remove the symbols.' A row of the infamous Nazi symbols are on the stone façade above a door at Essex County Hall in Chelmsford - completed in 1939, the year the Second World War started. A member of the public wrote to the council asking for an explanation . The swastika was used for thousands of years, including a Hindu symbol, before it was adopted by Hitler. The Grade II-listed building was constructed between 1929 to 1939 - the decade of the Nazis' rise to power. The hall 'strongly represents the civic pride and authority of a county council', according to English Heritage. In addition to the controversial swastika carvings, the exterior is decorated with Corinthian columns and other details. The building is particularly noted for its interior fixtures and fittings, including stained glass windows and murals by prominent local artists. The swastika is an ancient symbol whose history stretched back for millennia before its meaning was perverted by Nazi ideology. It is used to represent luck in Hinduism, Buddhism and Jainism, and takes its name - meaning 'it is good' from the Sanskrit language in which the Hindu religious texts were written. Many Hindus traditionally painted the swastika symbol over their doors during festivals in order to welcome the gods inside. As well as Asian religions, the swastika has been a popular decorative motif in Greek, Roman, Celtic and Byzantine art, making it one of the most common symbols in human history. However, in 1920 Adolf Hitler declared that the swastika - tilted 45 degrees - should be the official logo of his nascent Nazi Party. When he came to power, he replaced the German flag with a swastika in a white circle on a red background, making the emblem a feared symbol of his murderous regime. After the Second World War the Nazi swastika was outlawed in Germany, Poland, Hungary and Lithuania, although it is still permitted in a religious or scholarly context.</td>\n",
              "      <td>Nazi symbols adorn part of stone façade above door at Essex County Hall .\\nHall in Chelmsford was completed in 1939, year Second World War started .\\nCouncil was asked to explain by an offended member of the public .</td>\n",
              "    </tr>\n",
              "  </tbody>\n",
              "</table>"
            ],
            "text/plain": [
              "<IPython.core.display.HTML object>"
            ]
          },
          "metadata": {}
        }
      ]
    },
    {
      "cell_type": "code",
      "source": [
        "# map article and summary len to dict as well as if sample is longer than 512 tokens\n",
        "def map_to_length(x):\n",
        "  x[\"article_len\"] = len(tokenizer(x[\"article\"]).input_ids)\n",
        "  x[\"article_longer_512\"] = int(x[\"article_len\"] > 512)\n",
        "  x[\"summary_len\"] = len(tokenizer(x[\"highlights\"]).input_ids)\n",
        "  x[\"summary_longer_64\"] = int(x[\"summary_len\"] > 64)\n",
        "  x[\"summary_longer_128\"] = int(x[\"summary_len\"] > 128)\n",
        "  return x"
      ],
      "metadata": {
        "id": "_iU6nt3I9Uzd"
      },
      "execution_count": 14,
      "outputs": []
    },
    {
      "cell_type": "code",
      "source": [
        "sample_size = 25000\n",
        "data_stats = train_cnn.select(range(sample_size)).map(map_to_length, num_proc=4)"
      ],
      "metadata": {
        "colab": {
          "base_uri": "https://localhost:8080/",
          "height": 106
        },
        "outputId": "3360d947-f577-4505-82ce-4832b76cb59a",
        "id": "YugtPs-u9Uzd"
      },
      "execution_count": 15,
      "outputs": [
        {
          "output_type": "stream",
          "name": "stderr",
          "text": [
            "Token indices sequence length is longer than the specified maximum sequence length for this model (1287 > 1024). Running this sequence through the model will result in indexing errors\n",
            "Token indices sequence length is longer than the specified maximum sequence length for this model (1881 > 1024). Running this sequence through the model will result in indexing errors\n",
            "Token indices sequence length is longer than the specified maximum sequence length for this model (2023 > 1024). Running this sequence through the model will result in indexing errors\n",
            "Token indices sequence length is longer than the specified maximum sequence length for this model (1398 > 1024). Running this sequence through the model will result in indexing errors\n"
          ]
        }
      ]
    },
    {
      "cell_type": "code",
      "source": [
        "def compute_and_print_stats(x):\n",
        "  if len(x[\"article_len\"]) == sample_size:\n",
        "    print(\n",
        "        \"Article Mean: {}, %-Articles > 512:{}, Summary Mean:{}, %-Summary > 64:{}, %-Summary > 128:{}\".format(\n",
        "            sum(x[\"article_len\"]) / sample_size,\n",
        "            sum(x[\"article_longer_512\"]) / sample_size, \n",
        "            sum(x[\"summary_len\"]) / sample_size,\n",
        "            sum(x[\"summary_longer_64\"]) / sample_size,\n",
        "            sum(x[\"summary_longer_128\"]) / sample_size,\n",
        "        )\n",
        "    )\n",
        "\n",
        "output = data_stats.map(\n",
        "  compute_and_print_stats, \n",
        "  batched=True,\n",
        "  batch_size=-1,\n",
        ")"
      ],
      "metadata": {
        "colab": {
          "base_uri": "https://localhost:8080/",
          "height": 66,
          "referenced_widgets": [
            "2e38f8c3b84b473aa83cef20598bdc36",
            "aa37536441d0484d97fab2abbc367880",
            "c9397b066ad84ae49b9788e782472a30",
            "e770a96b109243fc8fc89b039d185df3",
            "13072fb4bd6d411ea5f78f79b662aa75",
            "632b6629ed3e441b980035610d185152",
            "ce989f037a6349539ecc62d4e63adf8f",
            "3ffec980e0ae4946acffe30b9d9abd10",
            "bb153212c370414784f6fbd536511af1",
            "7c973fd8a47d49e4b79704b83f86dea6",
            "28bc0dda3c56490cb7e3ad7c49e02e5d"
          ]
        },
        "outputId": "3ad590fa-4e99-428d-ab68-6ae7cb1b5957",
        "id": "o0NtfKNq9Uzd"
      },
      "execution_count": 16,
      "outputs": [
        {
          "output_type": "display_data",
          "data": {
            "application/vnd.jupyter.widget-view+json": {
              "model_id": "2e38f8c3b84b473aa83cef20598bdc36",
              "version_minor": 0,
              "version_major": 2
            },
            "text/plain": [
              "  0%|          | 0/1 [00:00<?, ?ba/s]"
            ]
          },
          "metadata": {}
        },
        {
          "output_type": "stream",
          "name": "stdout",
          "text": [
            "Article Mean: 822.216, %-Articles > 512:0.72224, Summary Mean:60.1818, %-Summary > 64:0.3936, %-Summary > 128:0.0\n"
          ]
        }
      ]
    },
    {
      "cell_type": "markdown",
      "source": [
        "We can see that on average an article contains 822 tokens with 3/4 of the articles being longer than 512. The summary is on average 60 tokens long. 40% our 25000-sample summaries are longer than 64 tokens, and almost none are longer than 128 tokens.\n",
        "\n",
        "Bart has limit of `max_length` 1024 on tokenizer, It should be reasonable to use **1024** for tokenized article length and **128** for tokenized summary length for CNN/Daily dataset."
      ],
      "metadata": {
        "id": "eIUQGxSZdo6S"
      }
    },
    {
      "cell_type": "markdown",
      "source": [
        "##Wikihow"
      ],
      "metadata": {
        "id": "roK9OjTrWFh7"
      }
    },
    {
      "cell_type": "code",
      "source": [
        "from google.colab import drive\n",
        "drive.mount('/content/drive')"
      ],
      "metadata": {
        "colab": {
          "base_uri": "https://localhost:8080/"
        },
        "id": "dkc0b8tZVBKu",
        "outputId": "05e10ef6-c330-4b1f-dbea-51be6060ab42"
      },
      "execution_count": 20,
      "outputs": [
        {
          "output_type": "stream",
          "name": "stdout",
          "text": [
            "Mounted at /content/drive\n"
          ]
        }
      ]
    },
    {
      "cell_type": "code",
      "source": [
        "!ls /content/drive/MyDrive/dataset"
      ],
      "metadata": {
        "id": "sMf94moM54LR",
        "colab": {
          "base_uri": "https://localhost:8080/"
        },
        "outputId": "06669990-dd7f-47f0-c46c-c659d38e8d6a"
      },
      "execution_count": 21,
      "outputs": [
        {
          "output_type": "stream",
          "name": "stdout",
          "text": [
            "wikihowAll.csv\n"
          ]
        }
      ]
    },
    {
      "cell_type": "code",
      "metadata": {
        "colab": {
          "base_uri": "https://localhost:8080/",
          "height": 104,
          "referenced_widgets": [
            "6f92b092e6984d5097a80a729988097a",
            "c893683ba3b04571a7512a4197c8b52b",
            "bddcd27ab9434cb99fdd6dbde50c0d64",
            "4c8f57af8aa741dbaae3f6cc2a03d361",
            "e5c304fe787e494bbdf19f1e000eed25",
            "11f1b655f012433387229f2367844688",
            "c1f2f66486cb46c4ab1754bd30ee5300",
            "095535335f4d46b393181747064a65cb",
            "46dc6319d6e24f3dbef8d940208e4de5",
            "2f196b69c46b41459084029f74dd2533",
            "5e68ad0a6ca74129957640d5494341d4"
          ]
        },
        "outputId": "471ca165-1210-4f7d-80d8-ef674da746cb",
        "id": "JYOnGtMKWTXl"
      },
      "source": [
        "# import dataset from cache\n",
        "dataset_wiki = datasets.load_dataset(\"wikihow\", \"all\", \"/content/drive/MyDrive/dataset\")"
      ],
      "execution_count": 17,
      "outputs": [
        {
          "output_type": "stream",
          "name": "stderr",
          "text": [
            "Using custom data configuration all-6f5101161f12f62f\n",
            "Reusing dataset wikihow (/root/.cache/huggingface/datasets/wikihow/all-6f5101161f12f62f/1.2.0/5343fc81d685acaa086c9cc19eb8706206cd1f8b315792b04c1d7b92091c305e)\n"
          ]
        },
        {
          "output_type": "display_data",
          "data": {
            "application/vnd.jupyter.widget-view+json": {
              "model_id": "6f92b092e6984d5097a80a729988097a",
              "version_minor": 0,
              "version_major": 2
            },
            "text/plain": [
              "  0%|          | 0/3 [00:00<?, ?it/s]"
            ]
          },
          "metadata": {}
        }
      ]
    },
    {
      "cell_type": "code",
      "source": [
        "train_wiki=dataset_wiki['train']\n",
        "train_wiki"
      ],
      "metadata": {
        "colab": {
          "base_uri": "https://localhost:8080/"
        },
        "outputId": "dac3440a-311a-4c3e-f45b-7dd634884a77",
        "id": "i41s0JvoWTXm"
      },
      "execution_count": 18,
      "outputs": [
        {
          "output_type": "execute_result",
          "data": {
            "text/plain": [
              "Dataset({\n",
              "    features: ['text', 'headline', 'title'],\n",
              "    num_rows: 157252\n",
              "})"
            ]
          },
          "metadata": {},
          "execution_count": 18
        }
      ]
    },
    {
      "cell_type": "code",
      "metadata": {
        "colab": {
          "base_uri": "https://localhost:8080/",
          "height": 1000
        },
        "outputId": "e851aaae-127d-4ad7-fd07-09d64d07892f",
        "id": "EmV_kZz6WTXm"
      },
      "source": [
        "# Visualize the Data\n",
        "\n",
        "import random\n",
        "import pandas as pd\n",
        "from IPython.display import display, HTML\n",
        "\n",
        "def show_random_elements(dataset, num_examples=5):\n",
        "    assert num_examples <= len(dataset), \"Can't pick more elements than there are in the dataset.\"\n",
        "    picks = []\n",
        "    for _ in range(num_examples):\n",
        "        pick = random.randint(0, len(dataset)-1)\n",
        "        while pick in picks:\n",
        "            pick = random.randint(0, len(dataset)-1)\n",
        "        picks.append(pick)\n",
        "    \n",
        "    df = pd.DataFrame(dataset[picks])\n",
        "    for column, typ in dataset.features.items():\n",
        "        if isinstance(typ, datasets.ClassLabel):\n",
        "            df[column] = df[column].transform(lambda i: typ.names[i])\n",
        "    display(HTML(df.to_html()))\n",
        "\n",
        "show_random_elements(train_wiki)"
      ],
      "execution_count": 19,
      "outputs": [
        {
          "output_type": "display_data",
          "data": {
            "text/html": [
              "<table border=\"1\" class=\"dataframe\">\n",
              "  <thead>\n",
              "    <tr style=\"text-align: right;\">\n",
              "      <th></th>\n",
              "      <th>text</th>\n",
              "      <th>headline</th>\n",
              "      <th>title</th>\n",
              "    </tr>\n",
              "  </thead>\n",
              "  <tbody>\n",
              "    <tr>\n",
              "      <th>0</th>\n",
              "      <td>In a single, microwaveable bowl, add one cup of rice, and two cups of water. If you want to make more rice, make sure to add more water at the same ratio.For example, for 2 cups of rice you’d use 4 cups of water, for 3 cups of rice, 6 cups of water.\\nMake sure you have a big enough bowl.\\n Amount of time you keep your rice in the microwave depends on its wattage.\\n\\n\\nFor a 750W microwave keep your rice cooking for 6 minutes.\\nFor a 650W microwave keep your rice in for 7 minutes., Covering your bowl with plastic wrap will steam it and completely cook it.Do not poke holes on the top of the plastic wrap.\\nMake sure to use wrap that can be microwaved.\\n Refer to your microwave’s instruction manual to see how to reduce its settings to medium. Not reducing the settings could result in overcooked or burnt rice.\\n\\n\\nDo not stir your rice at any time during the cooking process., Your rice should not be completely cooked. Fluff with your fork to break up the rice before serving it.\\n\\n\\nBe careful when taking the bowl out of the microwave. It will be hot.</td>\n",
              "      <td>Fill a bowl with a 1:2 ratio of rice and water.\\nPlace in microwave and cook for 6-7 minutes on high, uncovered.\\nCover bowl with microwavable plastic wrap, leaving a vent on the side.\\nReduce microwave to medium (350W) and cook for another 15 minutes.\\nLet stand for 5 minutes and fluff with fork before serving.</td>\n",
              "      <td>How to Cook Basmati Rice3</td>\n",
              "    </tr>\n",
              "    <tr>\n",
              "      <th>1</th>\n",
              "      <td>Dietary fiber is a portion of plant-based foods that your body can neither digest nor absorb. Fiber helps move material through your digestive tract and also adds bulk to your bowel movements, but of which can help regulate your bowels.Though your diet should include a solid mix of both, dietary fiber comes in two forms—soluble and insoluble.Soluble dietary fiber means that the fiber is water soluble, the mix of which creates a gel-like substance that can help promote the movement of material through your bowels. Since this fiber absorbs water, it also cuts down on runny stools by solidifying them. Foods rich in soluble fiber include oats, peas, beans (navy, pinto, black, kidney), apples, citrus fruits, carrots, barley, and psyllium.Insoluble fiber is not water soluble, so it helps add bulk to stool, which helps maintain regular movement of your bowels. Foods rich in insoluble fiber include whole wheat flour, wheat bran, nuts (pecans, almonds, Brazil nuts), beans, and vegetables (such as cauliflower, green beans, leafy greens, and potatoes).Your suggested amount of daily fiber depends on your sex and age. Men and women age 50 and under should aim for 38 and 25 grams per day, respectively. Men and women over age 50 should consume 30 and 21 grams per day, respectively.;\\n, Many common foods are very low in fiber. Relying on a diet too heavy in these foods can lead to irregularity, so you should always balance them with high-fiber options. Foods low in dietary fiber include:Cheese (and other dairy such as ice cream)\\nMeat\\nProcessed foods such as fast food, hot dogs, or microwave dinners\\n\\n, If you have any dietary restrictions due to a medical condition, then it is important to discuss these with your doctor. You may require a nutritional consult to ensure that you are following a balanced diet and to help keep you regular.\\n You should aim to drink two to three liters of fluid each day.While most of your fluid should come from water, you can also include fruit and vegetable juices, as well as clear soup broths to meet your daily requirements.Some medical conditions (such as congestive heart failure) will require you to restrict your fluid intake.Consult your doctor regarding your acceptable level of fluid intake before making any changes if you have a condition where you fluids have been restricted.\\nDehydration is also associated with a condition known as “retentive constipation,” especially in children.With this condition, initial constipation due to dry, hardened stool is worsened by stagnating in the colon/rectum where additional water is drawn out, hardening it even further. This can lead to a vicious cycle of irregularity.\\n The lactic-acid producing bacteria (LAB) found in yogurt has been shown in studies to assist with regularity for some gastrointestinal conditions, including constipation and some diarrheal diseases.The most commonly studied strains of LAB are Lactobacillus and Streptococcus.Check the label on the brand of yogurt for the presence of these LAB strains.\\n You can also purchase over-the-counter fiber supplements to help regulate your bowel movements. Some of the most common are products containing psyllium (such as Metamucil), which is a good source of soluble fiber.</td>\n",
              "      <td>Eat more foods rich in dietary fiber.\\nCut back on foods low in fiber.\\nDiscuss any dietary restrictions with your doctor.\\nDrink plenty of fluids.\\nEat more yogurt.\\nAdd a fiber supplement.</td>\n",
              "      <td>How to Regulate Bowel Movements1</td>\n",
              "    </tr>\n",
              "    <tr>\n",
              "      <th>2</th>\n",
              "      <td>If your dog's breath is worse than usual, it could be a sign that your dog has dental disease. With dental disease, bacteria and infected tissue can exude a putrid smell once it has developed quite a bit.Dogs can have bad breath for a wide variety of reasons. The key is to identify when the smell changes or becomes markedly worse.;\\n, If your dog is pawing at its mouth or jaw, that is a sign that it may have a dental infection. If it is having a hard time eating, that may also be a sign that there is a problem in its mouth. These are behavioral clues that you need to do some investigation in your dog's mouth.Do not let your dog suffer by ignoring signs it is in pain. If a dog is showing its pain outwardly, it usually means that the dog is in pretty bad pain. Most dogs are good at hiding pain, so when you can actually see that it is in pain, that means it is serious., Look in the dog's mouth for signs of inflammation and infection. This can include red and puffy gums or discolored teeth. It can also include pus or discharge coming from the gums.If you see any problems in your dog's mouth, then you should take the dog to a veterinarian for evaluation.\\n Call your veterinarian and make an appointment to get your dog's teeth looked at. At the appointment your veterinarian is likely to first ask you a variety of questions about your dog's symptoms and when they began. He or she will then proceed to look at your dog's teeth and assess their condition.\\n\\n\\nMany dogs are resistant to letting a stranger, or even their owners, look in their mouths. Because of this, your veterinarian may need to give your dog a sedative or have you help restrain the dog while they look in its mouth.\\n If your veterinarian thinks that there may be a problem with your dog's teeth, then they will probably suggest a dental cleaning exam that will allow them to get a better look at the dental problems. A professional dental cleaning includes a thorough examination and x-rays of the teeth and jaw. This will allow the veterinary dentist to understand the extent of the disease and how best he or she should proceed with treatment.Your dog will need to be put under anesthesia to have their teeth completely assessed and cleaned.\\nIf the dental disease is mild, treatment will only require the removal of buildup and polishing of the teeth.Your veterinarian may refer you to a veterinary dentist if he or she thinks the condition needs a specialist for treatment.\\n In some cases of periodontal disease, the tooth cannot be saved and the best treatment is to have the diseased tooth taken out. In cases where the infection is just in the tooth, and not down in the jaw, this will eliminate the infection.Tooth extraction requires that your dog be put under anesthesia.\\n If the dental disease is so advanced that the infection is in the dog's jaw, then removal of the teeth may not be enough to eliminate the infection. If the infection goes into the jaw, a veterinary surgeon will need to go down into the jaw to remove diseased tissue and debris.If the tooth can be saved, then the surgeon will do a process called \"open root planing\" in order to get down into the infected area without removing the tooth.\\n There are some risk factors that may increase the chance of your dog getting dental disease. These include:Age: Older dogs are more likely to get dental disease.\\nChewing habits: Eating soft food instead of hard kibble can increase the chance of gingivitis build up\\nTooth alignment: Small breeds and short-muzzled breeds often have teeth that are tightly together, promoting food and bacteria to stay in the teeth.\\n The earlier in life you start cleaning your dog's teeth, the more your dog will be used to it and the healthier its teeth will be. Even a puppy that has baby teeth can have its teeth cleaned, if only to get it used to the process.Start the process by getting your puppy used to having your hands near it mouth.\\n Dental disease is entirely preventable if you clean your dog's teeth regularly. Take the time to brush your dog's teeth so that your dog does not have to go through the pain and discomfort of dental disease.It is recommended that you brush your dog's teeth daily.However, any amount that you can do to help to eliminate plaque and gingivitis is better than nothing.\\n If you are concerned about dental disease, or your dog has a history of dental disease, then you may want to consider feeding it a diet that is specially formulated to help with dental health. You can also give special treats that are chews that help clean the teeth.While neither of these options should be used as your dog's only dental care, they have been shown to benefit a dog's dental health.\\n If you are unable to clean your dog's teeth regularly, perhaps due to your dog's resistance to the process, then you should get its teeth professionally cleaned. Have your dog's teeth assessed when it gets veterinary treatment or a check up and discuss whether and when teeth cleaning should occur.Your veterinarian should be able to do this process or can refer you to a veterinary dentist who specializes in this kind of treatment.</td>\n",
              "      <td>Pay attention to unusually bad breath.\\nLook for signs that your dog is having oral pain.\\nAssess your dog's oral health.\\nHave the dog's teeth assessed by a veterinarian.\\nGet your dog a professional dental cleaning.\\nHave teeth extracted.\\nApprove surgical treatment.\\nBe aware of risk factors.\\nStart dental hygiene practices early.\\nClean your dog's teeth regularly.\\nGive your dog dental chews or dental diets.\\nHave your dog's teeth professionally cleaned.</td>\n",
              "      <td>How to Diagnose Dental Disease in Dogs</td>\n",
              "    </tr>\n",
              "    <tr>\n",
              "      <th>3</th>\n",
              "      <td>Any original text, audio, or visual work has copyright protection from the moment you put it into a tangible form.\\n\\n\\nGenerally, your copyright gives you the exclusive right to reproduce, distribute, display, and perform your work publicly. You also can enter into an agreement with someone else to do any of those things for you.However, if someone does any of those things without your consent, they have infringed your copyright and you have the right to sue them for damages. You also can get an injunction – a court order that requires the infringer to stop copying or using your work.Copyright protects the words, sounds, or images themselves, but not the ideas they embody or the processes they describe.For example, if you create a training video for your employees, you could register your copyright in that video. If someone copied your video and put it on the internet, that would constitute copyright infringement. However, it would not be copyright infringement if another business owner created his own training video, even if it discussed similar processes.\\nComputer programs can be protected by copyright as literary works, but the copyright protects the code sequences themselves – think of the code as a language like English, but read by computers rather than people – not the program's functions or processes. Application processes or systems can be protected by a patent.You also should keep in mind that copyright generally doesn't protect single words, names, mottos or short phrases. If you have a brief phrase you use in connection with your business, you may be able to trademark it, but copyright would not apply., You will need to disclose information about yourself and your copyrighted work.\\n\\n\\nRegistration basically is a legal formality, since your work is protected by copyright from the moment you create it. However, you must have a registered copyright to file an infringement suit in federal court.If you're filing online, you will be asked some brief questions about the work you're filing before you proceed. Once you start your application, you must enter information such as the type of work, the title of the work, whether and when it has been published, and the names of the authors of the work., The U.S. Copyright Office allows registration to be done either online, or by mailing in a paper application.\\n\\n\\nFiling online provides a number of benefits, including faster processing time and a lower filing fee.If you file online, you only have to pay either $35 or $55 to file your application. The lower rate applies to registration of a single work by one author.When filing online, you can save your application whenever you want and return to it later. Your application will only be submitted after you've paid the filing fee and clicked the button to submit your work.If you'd prefer to file paper forms, you can download them from the Copyright Office website. You must include a filing fee of $85 with your paper application. Some types of copyrights such as serial registrations or works by multiple authors may have a higher filing fee.Processing will take approximately eight months if you file your application online, and can take up to 13 months if you mail in a paper application. If you file online, you have the additional benefit of being able to check the status of your application whenever you want., To complete registration, you must deposit copies of your work.\\n\\n\\nIf you file your application online, you may be able to upload electronic copies of your work directly into the system.If your work has been published in the United States, you are required to send two physical copies for use by the Library of Congress within three months of publication. This deposit is separate from the registration deposit requirements, but you can use the same copies to satisfy both requirements in some circumstances. Failure to make the Library of Congress deposit doesn't affect the status of your registration, but it can lead to fines or other penalties., Although the Copyright Office registers copyrights, it does not enforce them. It is your responsibility to detect and go after infringing uses of your work.\\n\\n\\nCopyright protection endures for the life of the author plus 70 years. If you file your copyright and list a corporate entity as the author, protection will last 95 years from publication or 120 years from creation, whichever is shorter.If you own a website or blog where you publish your work, there are applications available that will scan the internet for copies of your work.Some of these services may charge a fee, so you should compare them so you can choose the maximum amount of protection that will fit your budget.\\nIf you find someone infringing your work, take action immediately. Find out the name and contact information of the infringer and send them a letter letting them know that you have a registered copyright in the work and their use is infringing.You can ask them to cease and desist their infringing use, but you also may want to give them the opportunity to work out an agreement with you to license the work.</td>\n",
              "      <td>Determine what is covered by copyright.\\nFill out your registration application.\\nFile your registration application.\\nDeposit your registered work.\\nMonitor against infringement.</td>\n",
              "      <td>How to Protect Intellectual Property Rights2</td>\n",
              "    </tr>\n",
              "    <tr>\n",
              "      <th>4</th>\n",
              "      <td>Nearly all major radio stations will allow live listening on their website. Many smaller radio stations (such as college stations) will also broadcast their channel on their website.;\\n, A podcast disseminates broadcasts in an episodic format; however, podcasts are not streamed live. Once the podcast episode is released, you can simply download it using the appropriate software (Apple's iTunes has built-in support for downloading podcasts).\\n There are many programs available for download that have this capability. Compare software in terms of functionality and cost to determine which one is appropriate for your needs.\\n\\n\\nAn important thing to consider is whether the program supports automatic disambiguation - meaning it will automatically split the recording into separate files for each song. If this feature is not included, you will end up with a single large audio file for the entire recording.\\nSome popular software available includes RipCast, Freecorder, Replay A/V, and StationRipper. Some of these programs will offer a free trial version that allows limited functionality.\\n This process will differ based on the software you use. Some applications actually have a browser that allows you to find and mark your favorite programs for later recording, much like a DVR on a television set. Other programs will simply have a \"Record\" button that you press after you have manually started streaming the broadcast.\\n Using the software's menus, save the recording on your hard drive. At this point, you will choose the format for saving the audio file (mp3 is a common and highly supported format, for example).\\n Once you have saved the files, you can play them using any media player software by double-clicking on them. You can also burn them to CDs using the appropriate software.</td>\n",
              "      <td>Ensure that the radio stations in which you are interested have an online broadcast.\\nCheck to see if the content in which you're interested is available as a podcast.\\nDownload software capable of recording (or \"ripping\") streaming audio.\\nOpen the software and capture the audio stream.\\nSave the recorded file.\\nListen to the recording(s) at your leisure.</td>\n",
              "      <td>How to Record Internet Radio</td>\n",
              "    </tr>\n",
              "  </tbody>\n",
              "</table>"
            ],
            "text/plain": [
              "<IPython.core.display.HTML object>"
            ]
          },
          "metadata": {}
        }
      ]
    },
    {
      "cell_type": "code",
      "source": [
        "# map article and summary len to dict as well as if sample is longer than 512 tokens\n",
        "def map_to_length(x):\n",
        "  x[\"article_len\"] = len(tokenizer(x[\"text\"]).input_ids)\n",
        "  x[\"article_longer_512\"] = int(x[\"article_len\"] > 512)\n",
        "  x[\"summary_len\"] = len(tokenizer(x[\"headline\"]).input_ids)\n",
        "  x[\"summary_longer_64\"] = int(x[\"summary_len\"] > 64)\n",
        "  x[\"summary_longer_128\"] = int(x[\"summary_len\"] > 128)\n",
        "  return x"
      ],
      "metadata": {
        "id": "AHk6oLzFWTXm"
      },
      "execution_count": 20,
      "outputs": []
    },
    {
      "cell_type": "code",
      "source": [
        "sample_size = 20000\n",
        "data_stats = train_wiki.select(range(sample_size)).map(map_to_length, num_proc=4)"
      ],
      "metadata": {
        "colab": {
          "base_uri": "https://localhost:8080/",
          "height": 106
        },
        "outputId": "e20c222c-251e-43f1-902e-ad2849223d56",
        "id": "ewi-AfH4WTXm"
      },
      "execution_count": 21,
      "outputs": [
        {
          "output_type": "stream",
          "name": "stderr",
          "text": [
            "Token indices sequence length is longer than the specified maximum sequence length for this model (1265 > 1024). Running this sequence through the model will result in indexing errors\n",
            "Token indices sequence length is longer than the specified maximum sequence length for this model (1057 > 1024). Running this sequence through the model will result in indexing errors\n",
            "Token indices sequence length is longer than the specified maximum sequence length for this model (2143 > 1024). Running this sequence through the model will result in indexing errors\n",
            "Token indices sequence length is longer than the specified maximum sequence length for this model (1669 > 1024). Running this sequence through the model will result in indexing errors\n"
          ]
        }
      ]
    },
    {
      "cell_type": "code",
      "source": [
        "def compute_and_print_stats(x):\n",
        "  if len(x[\"article_len\"]) == sample_size:\n",
        "    print(\n",
        "        \"Article Mean: {}, %-Articles > 512:{}, Summary Mean:{}, %-Summary > 64:{}, %-Summary > 128:{}\".format(\n",
        "            sum(x[\"article_len\"]) / sample_size,\n",
        "            sum(x[\"article_longer_512\"]) / sample_size, \n",
        "            sum(x[\"summary_len\"]) / sample_size,\n",
        "            sum(x[\"summary_longer_64\"]) / sample_size,\n",
        "            sum(x[\"summary_longer_128\"]) / sample_size,\n",
        "        )\n",
        "    )\n",
        "\n",
        "output = data_stats.map(\n",
        "  compute_and_print_stats, \n",
        "  batched=True,\n",
        "  batch_size=-1,\n",
        ")"
      ],
      "metadata": {
        "colab": {
          "base_uri": "https://localhost:8080/",
          "height": 66,
          "referenced_widgets": [
            "93be5243bbd148108327adccb0377140",
            "390b48fb7eaf43689b004b0a974bd6c4",
            "9ce1f30face24246971d97a345c617e5",
            "5056d24d7384443db563e7c223b0d56a",
            "528a587c912a4be98bcc79c577f3d3ee",
            "db823aeb43844079a0beb1e3b6c2f224",
            "21cc3f2558fc47b5bd6335ba77cbeeab",
            "0a18297dfa2e470290ae866cfa2a1344",
            "13a39b7f747746429ee4e4d338e030c9",
            "eba15b5d84dd4a889aef63950768a778",
            "e170ea46868e4ad5b863c2a08dbfc50a"
          ]
        },
        "outputId": "4932bda0-bcb0-4058-eff3-7992d1e6fb3b",
        "id": "Baf_46tzWTXm"
      },
      "execution_count": 22,
      "outputs": [
        {
          "output_type": "display_data",
          "data": {
            "application/vnd.jupyter.widget-view+json": {
              "model_id": "93be5243bbd148108327adccb0377140",
              "version_minor": 0,
              "version_major": 2
            },
            "text/plain": [
              "  0%|          | 0/1 [00:00<?, ?ba/s]"
            ]
          },
          "metadata": {}
        },
        {
          "output_type": "stream",
          "name": "stdout",
          "text": [
            "Article Mean: 750.42735, %-Articles > 512:0.52435, Summary Mean:75.6844, %-Summary > 64:0.43275, %-Summary > 128:0.1454\n"
          ]
        }
      ]
    },
    {
      "cell_type": "markdown",
      "source": [
        "We can see that on average an article contains 750 tokens with half of the articles being longer than 512. The summary is on average 76 tokens long. 40% our 20000-sample summaries are longer than 64 tokens, and few are longer than 128 tokens.\n",
        "\n",
        "Bart has limit of `max_length` 1024 on tokenizer, It should be reasonable to use **1024** for tokenized article length and **128** for tokenized summary length for CNN/Daily dataset."
      ],
      "metadata": {
        "id": "pZw6eGbRg8vg"
      }
    }
  ]
}
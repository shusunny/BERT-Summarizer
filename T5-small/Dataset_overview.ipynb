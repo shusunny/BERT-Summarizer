{
  "nbformat": 4,
  "nbformat_minor": 0,
  "metadata": {
    "colab": {
      "name": "Dataset-overview",
      "provenance": [],
      "collapsed_sections": [
        "whPRbBNbIrIl"
      ],
      "machine_shape": "hm",
      "toc_visible": true
    },
    "language_info": {
      "name": "python"
    },
    "kernelspec": {
      "name": "python3",
      "display_name": "Python 3"
    },
    "widgets": {
      "application/vnd.jupyter.widget-state+json": {
        "1e3a922160b74db9a9e690f7e1cc739b": {
          "model_module": "@jupyter-widgets/controls",
          "model_name": "HBoxModel",
          "model_module_version": "1.5.0",
          "state": {
            "_view_name": "HBoxView",
            "_dom_classes": [],
            "_model_name": "HBoxModel",
            "_view_module": "@jupyter-widgets/controls",
            "_model_module_version": "1.5.0",
            "_view_count": null,
            "_view_module_version": "1.5.0",
            "box_style": "",
            "layout": "IPY_MODEL_7aab225fa0b44c68807f3b9f9675931a",
            "_model_module": "@jupyter-widgets/controls",
            "children": [
              "IPY_MODEL_0b61cd8529b6435b97447d3bed6dba08",
              "IPY_MODEL_ec4090b8e3324106bfa6dd2578cddff0",
              "IPY_MODEL_b1dcbd69cac443e7afe98bc390587bb6"
            ]
          }
        },
        "7aab225fa0b44c68807f3b9f9675931a": {
          "model_module": "@jupyter-widgets/base",
          "model_name": "LayoutModel",
          "model_module_version": "1.2.0",
          "state": {
            "_view_name": "LayoutView",
            "grid_template_rows": null,
            "right": null,
            "justify_content": null,
            "_view_module": "@jupyter-widgets/base",
            "overflow": null,
            "_model_module_version": "1.2.0",
            "_view_count": null,
            "flex_flow": null,
            "width": null,
            "min_width": null,
            "border": null,
            "align_items": null,
            "bottom": null,
            "_model_module": "@jupyter-widgets/base",
            "top": null,
            "grid_column": null,
            "overflow_y": null,
            "overflow_x": null,
            "grid_auto_flow": null,
            "grid_area": null,
            "grid_template_columns": null,
            "flex": null,
            "_model_name": "LayoutModel",
            "justify_items": null,
            "grid_row": null,
            "max_height": null,
            "align_content": null,
            "visibility": null,
            "align_self": null,
            "height": null,
            "min_height": null,
            "padding": null,
            "grid_auto_rows": null,
            "grid_gap": null,
            "max_width": null,
            "order": null,
            "_view_module_version": "1.2.0",
            "grid_template_areas": null,
            "object_position": null,
            "object_fit": null,
            "grid_auto_columns": null,
            "margin": null,
            "display": null,
            "left": null
          }
        },
        "0b61cd8529b6435b97447d3bed6dba08": {
          "model_module": "@jupyter-widgets/controls",
          "model_name": "HTMLModel",
          "model_module_version": "1.5.0",
          "state": {
            "_view_name": "HTMLView",
            "style": "IPY_MODEL_85163cae7c234dd1a25c50f54fd29f82",
            "_dom_classes": [],
            "description": "",
            "_model_name": "HTMLModel",
            "placeholder": "​",
            "_view_module": "@jupyter-widgets/controls",
            "_model_module_version": "1.5.0",
            "value": "Downloading: 100%",
            "_view_count": null,
            "_view_module_version": "1.5.0",
            "description_tooltip": null,
            "_model_module": "@jupyter-widgets/controls",
            "layout": "IPY_MODEL_198944903a9d465bbc39a3949788f979"
          }
        },
        "ec4090b8e3324106bfa6dd2578cddff0": {
          "model_module": "@jupyter-widgets/controls",
          "model_name": "FloatProgressModel",
          "model_module_version": "1.5.0",
          "state": {
            "_view_name": "ProgressView",
            "style": "IPY_MODEL_0f1e40b77051442ca18bf205447e682d",
            "_dom_classes": [],
            "description": "",
            "_model_name": "FloatProgressModel",
            "bar_style": "success",
            "max": 791656,
            "_view_module": "@jupyter-widgets/controls",
            "_model_module_version": "1.5.0",
            "value": 791656,
            "_view_count": null,
            "_view_module_version": "1.5.0",
            "orientation": "horizontal",
            "min": 0,
            "description_tooltip": null,
            "_model_module": "@jupyter-widgets/controls",
            "layout": "IPY_MODEL_50cf746205904de2b707a49c416c92a9"
          }
        },
        "b1dcbd69cac443e7afe98bc390587bb6": {
          "model_module": "@jupyter-widgets/controls",
          "model_name": "HTMLModel",
          "model_module_version": "1.5.0",
          "state": {
            "_view_name": "HTMLView",
            "style": "IPY_MODEL_4759674c9f46446ebdfdabeda8384a8e",
            "_dom_classes": [],
            "description": "",
            "_model_name": "HTMLModel",
            "placeholder": "​",
            "_view_module": "@jupyter-widgets/controls",
            "_model_module_version": "1.5.0",
            "value": " 773k/773k [00:00&lt;00:00, 3.20MB/s]",
            "_view_count": null,
            "_view_module_version": "1.5.0",
            "description_tooltip": null,
            "_model_module": "@jupyter-widgets/controls",
            "layout": "IPY_MODEL_6136998e97e24f3c8c12d7fc5c21b10b"
          }
        },
        "85163cae7c234dd1a25c50f54fd29f82": {
          "model_module": "@jupyter-widgets/controls",
          "model_name": "DescriptionStyleModel",
          "model_module_version": "1.5.0",
          "state": {
            "_view_name": "StyleView",
            "_model_name": "DescriptionStyleModel",
            "description_width": "",
            "_view_module": "@jupyter-widgets/base",
            "_model_module_version": "1.5.0",
            "_view_count": null,
            "_view_module_version": "1.2.0",
            "_model_module": "@jupyter-widgets/controls"
          }
        },
        "198944903a9d465bbc39a3949788f979": {
          "model_module": "@jupyter-widgets/base",
          "model_name": "LayoutModel",
          "model_module_version": "1.2.0",
          "state": {
            "_view_name": "LayoutView",
            "grid_template_rows": null,
            "right": null,
            "justify_content": null,
            "_view_module": "@jupyter-widgets/base",
            "overflow": null,
            "_model_module_version": "1.2.0",
            "_view_count": null,
            "flex_flow": null,
            "width": null,
            "min_width": null,
            "border": null,
            "align_items": null,
            "bottom": null,
            "_model_module": "@jupyter-widgets/base",
            "top": null,
            "grid_column": null,
            "overflow_y": null,
            "overflow_x": null,
            "grid_auto_flow": null,
            "grid_area": null,
            "grid_template_columns": null,
            "flex": null,
            "_model_name": "LayoutModel",
            "justify_items": null,
            "grid_row": null,
            "max_height": null,
            "align_content": null,
            "visibility": null,
            "align_self": null,
            "height": null,
            "min_height": null,
            "padding": null,
            "grid_auto_rows": null,
            "grid_gap": null,
            "max_width": null,
            "order": null,
            "_view_module_version": "1.2.0",
            "grid_template_areas": null,
            "object_position": null,
            "object_fit": null,
            "grid_auto_columns": null,
            "margin": null,
            "display": null,
            "left": null
          }
        },
        "0f1e40b77051442ca18bf205447e682d": {
          "model_module": "@jupyter-widgets/controls",
          "model_name": "ProgressStyleModel",
          "model_module_version": "1.5.0",
          "state": {
            "_view_name": "StyleView",
            "_model_name": "ProgressStyleModel",
            "description_width": "",
            "_view_module": "@jupyter-widgets/base",
            "_model_module_version": "1.5.0",
            "_view_count": null,
            "_view_module_version": "1.2.0",
            "bar_color": null,
            "_model_module": "@jupyter-widgets/controls"
          }
        },
        "50cf746205904de2b707a49c416c92a9": {
          "model_module": "@jupyter-widgets/base",
          "model_name": "LayoutModel",
          "model_module_version": "1.2.0",
          "state": {
            "_view_name": "LayoutView",
            "grid_template_rows": null,
            "right": null,
            "justify_content": null,
            "_view_module": "@jupyter-widgets/base",
            "overflow": null,
            "_model_module_version": "1.2.0",
            "_view_count": null,
            "flex_flow": null,
            "width": null,
            "min_width": null,
            "border": null,
            "align_items": null,
            "bottom": null,
            "_model_module": "@jupyter-widgets/base",
            "top": null,
            "grid_column": null,
            "overflow_y": null,
            "overflow_x": null,
            "grid_auto_flow": null,
            "grid_area": null,
            "grid_template_columns": null,
            "flex": null,
            "_model_name": "LayoutModel",
            "justify_items": null,
            "grid_row": null,
            "max_height": null,
            "align_content": null,
            "visibility": null,
            "align_self": null,
            "height": null,
            "min_height": null,
            "padding": null,
            "grid_auto_rows": null,
            "grid_gap": null,
            "max_width": null,
            "order": null,
            "_view_module_version": "1.2.0",
            "grid_template_areas": null,
            "object_position": null,
            "object_fit": null,
            "grid_auto_columns": null,
            "margin": null,
            "display": null,
            "left": null
          }
        },
        "4759674c9f46446ebdfdabeda8384a8e": {
          "model_module": "@jupyter-widgets/controls",
          "model_name": "DescriptionStyleModel",
          "model_module_version": "1.5.0",
          "state": {
            "_view_name": "StyleView",
            "_model_name": "DescriptionStyleModel",
            "description_width": "",
            "_view_module": "@jupyter-widgets/base",
            "_model_module_version": "1.5.0",
            "_view_count": null,
            "_view_module_version": "1.2.0",
            "_model_module": "@jupyter-widgets/controls"
          }
        },
        "6136998e97e24f3c8c12d7fc5c21b10b": {
          "model_module": "@jupyter-widgets/base",
          "model_name": "LayoutModel",
          "model_module_version": "1.2.0",
          "state": {
            "_view_name": "LayoutView",
            "grid_template_rows": null,
            "right": null,
            "justify_content": null,
            "_view_module": "@jupyter-widgets/base",
            "overflow": null,
            "_model_module_version": "1.2.0",
            "_view_count": null,
            "flex_flow": null,
            "width": null,
            "min_width": null,
            "border": null,
            "align_items": null,
            "bottom": null,
            "_model_module": "@jupyter-widgets/base",
            "top": null,
            "grid_column": null,
            "overflow_y": null,
            "overflow_x": null,
            "grid_auto_flow": null,
            "grid_area": null,
            "grid_template_columns": null,
            "flex": null,
            "_model_name": "LayoutModel",
            "justify_items": null,
            "grid_row": null,
            "max_height": null,
            "align_content": null,
            "visibility": null,
            "align_self": null,
            "height": null,
            "min_height": null,
            "padding": null,
            "grid_auto_rows": null,
            "grid_gap": null,
            "max_width": null,
            "order": null,
            "_view_module_version": "1.2.0",
            "grid_template_areas": null,
            "object_position": null,
            "object_fit": null,
            "grid_auto_columns": null,
            "margin": null,
            "display": null,
            "left": null
          }
        },
        "83ff6aa3ee4c43f88bee3294d8762615": {
          "model_module": "@jupyter-widgets/controls",
          "model_name": "HBoxModel",
          "model_module_version": "1.5.0",
          "state": {
            "_view_name": "HBoxView",
            "_dom_classes": [],
            "_model_name": "HBoxModel",
            "_view_module": "@jupyter-widgets/controls",
            "_model_module_version": "1.5.0",
            "_view_count": null,
            "_view_module_version": "1.5.0",
            "box_style": "",
            "layout": "IPY_MODEL_7dffd19d4f6844a6b94117bcd51a2b75",
            "_model_module": "@jupyter-widgets/controls",
            "children": [
              "IPY_MODEL_f0d9165d950e49d8837850aba82eda70",
              "IPY_MODEL_5a98a356e9914f3596b1ae6fbaa414ba",
              "IPY_MODEL_95796d5896e34d97919813c1ffb52e11"
            ]
          }
        },
        "7dffd19d4f6844a6b94117bcd51a2b75": {
          "model_module": "@jupyter-widgets/base",
          "model_name": "LayoutModel",
          "model_module_version": "1.2.0",
          "state": {
            "_view_name": "LayoutView",
            "grid_template_rows": null,
            "right": null,
            "justify_content": null,
            "_view_module": "@jupyter-widgets/base",
            "overflow": null,
            "_model_module_version": "1.2.0",
            "_view_count": null,
            "flex_flow": null,
            "width": null,
            "min_width": null,
            "border": null,
            "align_items": null,
            "bottom": null,
            "_model_module": "@jupyter-widgets/base",
            "top": null,
            "grid_column": null,
            "overflow_y": null,
            "overflow_x": null,
            "grid_auto_flow": null,
            "grid_area": null,
            "grid_template_columns": null,
            "flex": null,
            "_model_name": "LayoutModel",
            "justify_items": null,
            "grid_row": null,
            "max_height": null,
            "align_content": null,
            "visibility": null,
            "align_self": null,
            "height": null,
            "min_height": null,
            "padding": null,
            "grid_auto_rows": null,
            "grid_gap": null,
            "max_width": null,
            "order": null,
            "_view_module_version": "1.2.0",
            "grid_template_areas": null,
            "object_position": null,
            "object_fit": null,
            "grid_auto_columns": null,
            "margin": null,
            "display": null,
            "left": null
          }
        },
        "f0d9165d950e49d8837850aba82eda70": {
          "model_module": "@jupyter-widgets/controls",
          "model_name": "HTMLModel",
          "model_module_version": "1.5.0",
          "state": {
            "_view_name": "HTMLView",
            "style": "IPY_MODEL_7b1a605c27534b3abcebf8a44ab5f982",
            "_dom_classes": [],
            "description": "",
            "_model_name": "HTMLModel",
            "placeholder": "​",
            "_view_module": "@jupyter-widgets/controls",
            "_model_module_version": "1.5.0",
            "value": "Downloading: 100%",
            "_view_count": null,
            "_view_module_version": "1.5.0",
            "description_tooltip": null,
            "_model_module": "@jupyter-widgets/controls",
            "layout": "IPY_MODEL_64d5d8a5b4c54a00a5846aa8bc091d8c"
          }
        },
        "5a98a356e9914f3596b1ae6fbaa414ba": {
          "model_module": "@jupyter-widgets/controls",
          "model_name": "FloatProgressModel",
          "model_module_version": "1.5.0",
          "state": {
            "_view_name": "ProgressView",
            "style": "IPY_MODEL_125e25c18aab4f7097b4c3a9f62a51cf",
            "_dom_classes": [],
            "description": "",
            "_model_name": "FloatProgressModel",
            "bar_style": "success",
            "max": 1389353,
            "_view_module": "@jupyter-widgets/controls",
            "_model_module_version": "1.5.0",
            "value": 1389353,
            "_view_count": null,
            "_view_module_version": "1.5.0",
            "orientation": "horizontal",
            "min": 0,
            "description_tooltip": null,
            "_model_module": "@jupyter-widgets/controls",
            "layout": "IPY_MODEL_dc7503ffd48641df885c76e788af7628"
          }
        },
        "95796d5896e34d97919813c1ffb52e11": {
          "model_module": "@jupyter-widgets/controls",
          "model_name": "HTMLModel",
          "model_module_version": "1.5.0",
          "state": {
            "_view_name": "HTMLView",
            "style": "IPY_MODEL_43a62c51d76049dd89e033acc03c9a08",
            "_dom_classes": [],
            "description": "",
            "_model_name": "HTMLModel",
            "placeholder": "​",
            "_view_module": "@jupyter-widgets/controls",
            "_model_module_version": "1.5.0",
            "value": " 1.32M/1.32M [00:00&lt;00:00, 6.49MB/s]",
            "_view_count": null,
            "_view_module_version": "1.5.0",
            "description_tooltip": null,
            "_model_module": "@jupyter-widgets/controls",
            "layout": "IPY_MODEL_e89b618283fc4df48ef80ec2e75ddab0"
          }
        },
        "7b1a605c27534b3abcebf8a44ab5f982": {
          "model_module": "@jupyter-widgets/controls",
          "model_name": "DescriptionStyleModel",
          "model_module_version": "1.5.0",
          "state": {
            "_view_name": "StyleView",
            "_model_name": "DescriptionStyleModel",
            "description_width": "",
            "_view_module": "@jupyter-widgets/base",
            "_model_module_version": "1.5.0",
            "_view_count": null,
            "_view_module_version": "1.2.0",
            "_model_module": "@jupyter-widgets/controls"
          }
        },
        "64d5d8a5b4c54a00a5846aa8bc091d8c": {
          "model_module": "@jupyter-widgets/base",
          "model_name": "LayoutModel",
          "model_module_version": "1.2.0",
          "state": {
            "_view_name": "LayoutView",
            "grid_template_rows": null,
            "right": null,
            "justify_content": null,
            "_view_module": "@jupyter-widgets/base",
            "overflow": null,
            "_model_module_version": "1.2.0",
            "_view_count": null,
            "flex_flow": null,
            "width": null,
            "min_width": null,
            "border": null,
            "align_items": null,
            "bottom": null,
            "_model_module": "@jupyter-widgets/base",
            "top": null,
            "grid_column": null,
            "overflow_y": null,
            "overflow_x": null,
            "grid_auto_flow": null,
            "grid_area": null,
            "grid_template_columns": null,
            "flex": null,
            "_model_name": "LayoutModel",
            "justify_items": null,
            "grid_row": null,
            "max_height": null,
            "align_content": null,
            "visibility": null,
            "align_self": null,
            "height": null,
            "min_height": null,
            "padding": null,
            "grid_auto_rows": null,
            "grid_gap": null,
            "max_width": null,
            "order": null,
            "_view_module_version": "1.2.0",
            "grid_template_areas": null,
            "object_position": null,
            "object_fit": null,
            "grid_auto_columns": null,
            "margin": null,
            "display": null,
            "left": null
          }
        },
        "125e25c18aab4f7097b4c3a9f62a51cf": {
          "model_module": "@jupyter-widgets/controls",
          "model_name": "ProgressStyleModel",
          "model_module_version": "1.5.0",
          "state": {
            "_view_name": "StyleView",
            "_model_name": "ProgressStyleModel",
            "description_width": "",
            "_view_module": "@jupyter-widgets/base",
            "_model_module_version": "1.5.0",
            "_view_count": null,
            "_view_module_version": "1.2.0",
            "bar_color": null,
            "_model_module": "@jupyter-widgets/controls"
          }
        },
        "dc7503ffd48641df885c76e788af7628": {
          "model_module": "@jupyter-widgets/base",
          "model_name": "LayoutModel",
          "model_module_version": "1.2.0",
          "state": {
            "_view_name": "LayoutView",
            "grid_template_rows": null,
            "right": null,
            "justify_content": null,
            "_view_module": "@jupyter-widgets/base",
            "overflow": null,
            "_model_module_version": "1.2.0",
            "_view_count": null,
            "flex_flow": null,
            "width": null,
            "min_width": null,
            "border": null,
            "align_items": null,
            "bottom": null,
            "_model_module": "@jupyter-widgets/base",
            "top": null,
            "grid_column": null,
            "overflow_y": null,
            "overflow_x": null,
            "grid_auto_flow": null,
            "grid_area": null,
            "grid_template_columns": null,
            "flex": null,
            "_model_name": "LayoutModel",
            "justify_items": null,
            "grid_row": null,
            "max_height": null,
            "align_content": null,
            "visibility": null,
            "align_self": null,
            "height": null,
            "min_height": null,
            "padding": null,
            "grid_auto_rows": null,
            "grid_gap": null,
            "max_width": null,
            "order": null,
            "_view_module_version": "1.2.0",
            "grid_template_areas": null,
            "object_position": null,
            "object_fit": null,
            "grid_auto_columns": null,
            "margin": null,
            "display": null,
            "left": null
          }
        },
        "43a62c51d76049dd89e033acc03c9a08": {
          "model_module": "@jupyter-widgets/controls",
          "model_name": "DescriptionStyleModel",
          "model_module_version": "1.5.0",
          "state": {
            "_view_name": "StyleView",
            "_model_name": "DescriptionStyleModel",
            "description_width": "",
            "_view_module": "@jupyter-widgets/base",
            "_model_module_version": "1.5.0",
            "_view_count": null,
            "_view_module_version": "1.2.0",
            "_model_module": "@jupyter-widgets/controls"
          }
        },
        "e89b618283fc4df48ef80ec2e75ddab0": {
          "model_module": "@jupyter-widgets/base",
          "model_name": "LayoutModel",
          "model_module_version": "1.2.0",
          "state": {
            "_view_name": "LayoutView",
            "grid_template_rows": null,
            "right": null,
            "justify_content": null,
            "_view_module": "@jupyter-widgets/base",
            "overflow": null,
            "_model_module_version": "1.2.0",
            "_view_count": null,
            "flex_flow": null,
            "width": null,
            "min_width": null,
            "border": null,
            "align_items": null,
            "bottom": null,
            "_model_module": "@jupyter-widgets/base",
            "top": null,
            "grid_column": null,
            "overflow_y": null,
            "overflow_x": null,
            "grid_auto_flow": null,
            "grid_area": null,
            "grid_template_columns": null,
            "flex": null,
            "_model_name": "LayoutModel",
            "justify_items": null,
            "grid_row": null,
            "max_height": null,
            "align_content": null,
            "visibility": null,
            "align_self": null,
            "height": null,
            "min_height": null,
            "padding": null,
            "grid_auto_rows": null,
            "grid_gap": null,
            "max_width": null,
            "order": null,
            "_view_module_version": "1.2.0",
            "grid_template_areas": null,
            "object_position": null,
            "object_fit": null,
            "grid_auto_columns": null,
            "margin": null,
            "display": null,
            "left": null
          }
        },
        "f544fa0cf0cd4eec9449bc2c3fd98d18": {
          "model_module": "@jupyter-widgets/controls",
          "model_name": "HBoxModel",
          "model_module_version": "1.5.0",
          "state": {
            "_view_name": "HBoxView",
            "_dom_classes": [],
            "_model_name": "HBoxModel",
            "_view_module": "@jupyter-widgets/controls",
            "_model_module_version": "1.5.0",
            "_view_count": null,
            "_view_module_version": "1.5.0",
            "box_style": "",
            "layout": "IPY_MODEL_47c4fbc3d7924d76bb3cb85ad5d09f53",
            "_model_module": "@jupyter-widgets/controls",
            "children": [
              "IPY_MODEL_eea2f82b2a024583851ebed226373d50",
              "IPY_MODEL_0ba9e924061646e7aeb0f002780e5edf",
              "IPY_MODEL_de18e13521124289be7a572728988ea1"
            ]
          }
        },
        "47c4fbc3d7924d76bb3cb85ad5d09f53": {
          "model_module": "@jupyter-widgets/base",
          "model_name": "LayoutModel",
          "model_module_version": "1.2.0",
          "state": {
            "_view_name": "LayoutView",
            "grid_template_rows": null,
            "right": null,
            "justify_content": null,
            "_view_module": "@jupyter-widgets/base",
            "overflow": null,
            "_model_module_version": "1.2.0",
            "_view_count": null,
            "flex_flow": null,
            "width": null,
            "min_width": null,
            "border": null,
            "align_items": null,
            "bottom": null,
            "_model_module": "@jupyter-widgets/base",
            "top": null,
            "grid_column": null,
            "overflow_y": null,
            "overflow_x": null,
            "grid_auto_flow": null,
            "grid_area": null,
            "grid_template_columns": null,
            "flex": null,
            "_model_name": "LayoutModel",
            "justify_items": null,
            "grid_row": null,
            "max_height": null,
            "align_content": null,
            "visibility": null,
            "align_self": null,
            "height": null,
            "min_height": null,
            "padding": null,
            "grid_auto_rows": null,
            "grid_gap": null,
            "max_width": null,
            "order": null,
            "_view_module_version": "1.2.0",
            "grid_template_areas": null,
            "object_position": null,
            "object_fit": null,
            "grid_auto_columns": null,
            "margin": null,
            "display": null,
            "left": null
          }
        },
        "eea2f82b2a024583851ebed226373d50": {
          "model_module": "@jupyter-widgets/controls",
          "model_name": "HTMLModel",
          "model_module_version": "1.5.0",
          "state": {
            "_view_name": "HTMLView",
            "style": "IPY_MODEL_fe2e912837bf4935bf84fcc01a534e64",
            "_dom_classes": [],
            "description": "",
            "_model_name": "HTMLModel",
            "placeholder": "​",
            "_view_module": "@jupyter-widgets/controls",
            "_model_module_version": "1.5.0",
            "value": "Downloading: 100%",
            "_view_count": null,
            "_view_module_version": "1.5.0",
            "description_tooltip": null,
            "_model_module": "@jupyter-widgets/controls",
            "layout": "IPY_MODEL_e4ca29adae214e0ba3d62a2bf8a2385f"
          }
        },
        "0ba9e924061646e7aeb0f002780e5edf": {
          "model_module": "@jupyter-widgets/controls",
          "model_name": "FloatProgressModel",
          "model_module_version": "1.5.0",
          "state": {
            "_view_name": "ProgressView",
            "style": "IPY_MODEL_05c0363761b54b60944a2867e93c0f5c",
            "_dom_classes": [],
            "description": "",
            "_model_name": "FloatProgressModel",
            "bar_style": "success",
            "max": 1197,
            "_view_module": "@jupyter-widgets/controls",
            "_model_module_version": "1.5.0",
            "value": 1197,
            "_view_count": null,
            "_view_module_version": "1.5.0",
            "orientation": "horizontal",
            "min": 0,
            "description_tooltip": null,
            "_model_module": "@jupyter-widgets/controls",
            "layout": "IPY_MODEL_bb1994a9871144e681897c0343361873"
          }
        },
        "de18e13521124289be7a572728988ea1": {
          "model_module": "@jupyter-widgets/controls",
          "model_name": "HTMLModel",
          "model_module_version": "1.5.0",
          "state": {
            "_view_name": "HTMLView",
            "style": "IPY_MODEL_124afddc9e884be7bdb1484e2ebe596d",
            "_dom_classes": [],
            "description": "",
            "_model_name": "HTMLModel",
            "placeholder": "​",
            "_view_module": "@jupyter-widgets/controls",
            "_model_module_version": "1.5.0",
            "value": " 1.17k/1.17k [00:00&lt;00:00, 30.3kB/s]",
            "_view_count": null,
            "_view_module_version": "1.5.0",
            "description_tooltip": null,
            "_model_module": "@jupyter-widgets/controls",
            "layout": "IPY_MODEL_5d494b9791354e82b080bcb8273bd7bd"
          }
        },
        "fe2e912837bf4935bf84fcc01a534e64": {
          "model_module": "@jupyter-widgets/controls",
          "model_name": "DescriptionStyleModel",
          "model_module_version": "1.5.0",
          "state": {
            "_view_name": "StyleView",
            "_model_name": "DescriptionStyleModel",
            "description_width": "",
            "_view_module": "@jupyter-widgets/base",
            "_model_module_version": "1.5.0",
            "_view_count": null,
            "_view_module_version": "1.2.0",
            "_model_module": "@jupyter-widgets/controls"
          }
        },
        "e4ca29adae214e0ba3d62a2bf8a2385f": {
          "model_module": "@jupyter-widgets/base",
          "model_name": "LayoutModel",
          "model_module_version": "1.2.0",
          "state": {
            "_view_name": "LayoutView",
            "grid_template_rows": null,
            "right": null,
            "justify_content": null,
            "_view_module": "@jupyter-widgets/base",
            "overflow": null,
            "_model_module_version": "1.2.0",
            "_view_count": null,
            "flex_flow": null,
            "width": null,
            "min_width": null,
            "border": null,
            "align_items": null,
            "bottom": null,
            "_model_module": "@jupyter-widgets/base",
            "top": null,
            "grid_column": null,
            "overflow_y": null,
            "overflow_x": null,
            "grid_auto_flow": null,
            "grid_area": null,
            "grid_template_columns": null,
            "flex": null,
            "_model_name": "LayoutModel",
            "justify_items": null,
            "grid_row": null,
            "max_height": null,
            "align_content": null,
            "visibility": null,
            "align_self": null,
            "height": null,
            "min_height": null,
            "padding": null,
            "grid_auto_rows": null,
            "grid_gap": null,
            "max_width": null,
            "order": null,
            "_view_module_version": "1.2.0",
            "grid_template_areas": null,
            "object_position": null,
            "object_fit": null,
            "grid_auto_columns": null,
            "margin": null,
            "display": null,
            "left": null
          }
        },
        "05c0363761b54b60944a2867e93c0f5c": {
          "model_module": "@jupyter-widgets/controls",
          "model_name": "ProgressStyleModel",
          "model_module_version": "1.5.0",
          "state": {
            "_view_name": "StyleView",
            "_model_name": "ProgressStyleModel",
            "description_width": "",
            "_view_module": "@jupyter-widgets/base",
            "_model_module_version": "1.5.0",
            "_view_count": null,
            "_view_module_version": "1.2.0",
            "bar_color": null,
            "_model_module": "@jupyter-widgets/controls"
          }
        },
        "bb1994a9871144e681897c0343361873": {
          "model_module": "@jupyter-widgets/base",
          "model_name": "LayoutModel",
          "model_module_version": "1.2.0",
          "state": {
            "_view_name": "LayoutView",
            "grid_template_rows": null,
            "right": null,
            "justify_content": null,
            "_view_module": "@jupyter-widgets/base",
            "overflow": null,
            "_model_module_version": "1.2.0",
            "_view_count": null,
            "flex_flow": null,
            "width": null,
            "min_width": null,
            "border": null,
            "align_items": null,
            "bottom": null,
            "_model_module": "@jupyter-widgets/base",
            "top": null,
            "grid_column": null,
            "overflow_y": null,
            "overflow_x": null,
            "grid_auto_flow": null,
            "grid_area": null,
            "grid_template_columns": null,
            "flex": null,
            "_model_name": "LayoutModel",
            "justify_items": null,
            "grid_row": null,
            "max_height": null,
            "align_content": null,
            "visibility": null,
            "align_self": null,
            "height": null,
            "min_height": null,
            "padding": null,
            "grid_auto_rows": null,
            "grid_gap": null,
            "max_width": null,
            "order": null,
            "_view_module_version": "1.2.0",
            "grid_template_areas": null,
            "object_position": null,
            "object_fit": null,
            "grid_auto_columns": null,
            "margin": null,
            "display": null,
            "left": null
          }
        },
        "124afddc9e884be7bdb1484e2ebe596d": {
          "model_module": "@jupyter-widgets/controls",
          "model_name": "DescriptionStyleModel",
          "model_module_version": "1.5.0",
          "state": {
            "_view_name": "StyleView",
            "_model_name": "DescriptionStyleModel",
            "description_width": "",
            "_view_module": "@jupyter-widgets/base",
            "_model_module_version": "1.5.0",
            "_view_count": null,
            "_view_module_version": "1.2.0",
            "_model_module": "@jupyter-widgets/controls"
          }
        },
        "5d494b9791354e82b080bcb8273bd7bd": {
          "model_module": "@jupyter-widgets/base",
          "model_name": "LayoutModel",
          "model_module_version": "1.2.0",
          "state": {
            "_view_name": "LayoutView",
            "grid_template_rows": null,
            "right": null,
            "justify_content": null,
            "_view_module": "@jupyter-widgets/base",
            "overflow": null,
            "_model_module_version": "1.2.0",
            "_view_count": null,
            "flex_flow": null,
            "width": null,
            "min_width": null,
            "border": null,
            "align_items": null,
            "bottom": null,
            "_model_module": "@jupyter-widgets/base",
            "top": null,
            "grid_column": null,
            "overflow_y": null,
            "overflow_x": null,
            "grid_auto_flow": null,
            "grid_area": null,
            "grid_template_columns": null,
            "flex": null,
            "_model_name": "LayoutModel",
            "justify_items": null,
            "grid_row": null,
            "max_height": null,
            "align_content": null,
            "visibility": null,
            "align_self": null,
            "height": null,
            "min_height": null,
            "padding": null,
            "grid_auto_rows": null,
            "grid_gap": null,
            "max_width": null,
            "order": null,
            "_view_module_version": "1.2.0",
            "grid_template_areas": null,
            "object_position": null,
            "object_fit": null,
            "grid_auto_columns": null,
            "margin": null,
            "display": null,
            "left": null
          }
        },
        "48e03d03e07f4ca8952360a90e719e78": {
          "model_module": "@jupyter-widgets/controls",
          "model_name": "HBoxModel",
          "model_module_version": "1.5.0",
          "state": {
            "_view_name": "HBoxView",
            "_dom_classes": [],
            "_model_name": "HBoxModel",
            "_view_module": "@jupyter-widgets/controls",
            "_model_module_version": "1.5.0",
            "_view_count": null,
            "_view_module_version": "1.5.0",
            "box_style": "",
            "layout": "IPY_MODEL_6c2cd39d5b184402b6ef896620c2f1f8",
            "_model_module": "@jupyter-widgets/controls",
            "children": [
              "IPY_MODEL_4c3b9dea74dd44d3a3d1dd7ab844b325",
              "IPY_MODEL_8f45d06d3e0a4223b3ce22d32d4927a8",
              "IPY_MODEL_551cbff1dfff4665ab85360cbb6a6ccc"
            ]
          }
        },
        "6c2cd39d5b184402b6ef896620c2f1f8": {
          "model_module": "@jupyter-widgets/base",
          "model_name": "LayoutModel",
          "model_module_version": "1.2.0",
          "state": {
            "_view_name": "LayoutView",
            "grid_template_rows": null,
            "right": null,
            "justify_content": null,
            "_view_module": "@jupyter-widgets/base",
            "overflow": null,
            "_model_module_version": "1.2.0",
            "_view_count": null,
            "flex_flow": null,
            "width": null,
            "min_width": null,
            "border": null,
            "align_items": null,
            "bottom": null,
            "_model_module": "@jupyter-widgets/base",
            "top": null,
            "grid_column": null,
            "overflow_y": null,
            "overflow_x": null,
            "grid_auto_flow": null,
            "grid_area": null,
            "grid_template_columns": null,
            "flex": null,
            "_model_name": "LayoutModel",
            "justify_items": null,
            "grid_row": null,
            "max_height": null,
            "align_content": null,
            "visibility": null,
            "align_self": null,
            "height": null,
            "min_height": null,
            "padding": null,
            "grid_auto_rows": null,
            "grid_gap": null,
            "max_width": null,
            "order": null,
            "_view_module_version": "1.2.0",
            "grid_template_areas": null,
            "object_position": null,
            "object_fit": null,
            "grid_auto_columns": null,
            "margin": null,
            "display": null,
            "left": null
          }
        },
        "4c3b9dea74dd44d3a3d1dd7ab844b325": {
          "model_module": "@jupyter-widgets/controls",
          "model_name": "HTMLModel",
          "model_module_version": "1.5.0",
          "state": {
            "_view_name": "HTMLView",
            "style": "IPY_MODEL_7f6b328700584f149b407b94ceed774e",
            "_dom_classes": [],
            "description": "",
            "_model_name": "HTMLModel",
            "placeholder": "​",
            "_view_module": "@jupyter-widgets/controls",
            "_model_module_version": "1.5.0",
            "value": "100%",
            "_view_count": null,
            "_view_module_version": "1.5.0",
            "description_tooltip": null,
            "_model_module": "@jupyter-widgets/controls",
            "layout": "IPY_MODEL_96f4523eb5634d358dcb4b58540ee714"
          }
        },
        "8f45d06d3e0a4223b3ce22d32d4927a8": {
          "model_module": "@jupyter-widgets/controls",
          "model_name": "FloatProgressModel",
          "model_module_version": "1.5.0",
          "state": {
            "_view_name": "ProgressView",
            "style": "IPY_MODEL_394d4b06a5ea45f5becceef3c6341359",
            "_dom_classes": [],
            "description": "",
            "_model_name": "FloatProgressModel",
            "bar_style": "success",
            "max": 1,
            "_view_module": "@jupyter-widgets/controls",
            "_model_module_version": "1.5.0",
            "value": 1,
            "_view_count": null,
            "_view_module_version": "1.5.0",
            "orientation": "horizontal",
            "min": 0,
            "description_tooltip": null,
            "_model_module": "@jupyter-widgets/controls",
            "layout": "IPY_MODEL_da962a7849f441b599e64114cf28b410"
          }
        },
        "551cbff1dfff4665ab85360cbb6a6ccc": {
          "model_module": "@jupyter-widgets/controls",
          "model_name": "HTMLModel",
          "model_module_version": "1.5.0",
          "state": {
            "_view_name": "HTMLView",
            "style": "IPY_MODEL_6d5b5e3a6df54b4d8bf8853cdfeab8d8",
            "_dom_classes": [],
            "description": "",
            "_model_name": "HTMLModel",
            "placeholder": "​",
            "_view_module": "@jupyter-widgets/controls",
            "_model_module_version": "1.5.0",
            "value": " 1/1 [00:00&lt;00:00,  5.05ba/s]",
            "_view_count": null,
            "_view_module_version": "1.5.0",
            "description_tooltip": null,
            "_model_module": "@jupyter-widgets/controls",
            "layout": "IPY_MODEL_a9e78f068b8b4fc689bf3b545dde5823"
          }
        },
        "7f6b328700584f149b407b94ceed774e": {
          "model_module": "@jupyter-widgets/controls",
          "model_name": "DescriptionStyleModel",
          "model_module_version": "1.5.0",
          "state": {
            "_view_name": "StyleView",
            "_model_name": "DescriptionStyleModel",
            "description_width": "",
            "_view_module": "@jupyter-widgets/base",
            "_model_module_version": "1.5.0",
            "_view_count": null,
            "_view_module_version": "1.2.0",
            "_model_module": "@jupyter-widgets/controls"
          }
        },
        "96f4523eb5634d358dcb4b58540ee714": {
          "model_module": "@jupyter-widgets/base",
          "model_name": "LayoutModel",
          "model_module_version": "1.2.0",
          "state": {
            "_view_name": "LayoutView",
            "grid_template_rows": null,
            "right": null,
            "justify_content": null,
            "_view_module": "@jupyter-widgets/base",
            "overflow": null,
            "_model_module_version": "1.2.0",
            "_view_count": null,
            "flex_flow": null,
            "width": null,
            "min_width": null,
            "border": null,
            "align_items": null,
            "bottom": null,
            "_model_module": "@jupyter-widgets/base",
            "top": null,
            "grid_column": null,
            "overflow_y": null,
            "overflow_x": null,
            "grid_auto_flow": null,
            "grid_area": null,
            "grid_template_columns": null,
            "flex": null,
            "_model_name": "LayoutModel",
            "justify_items": null,
            "grid_row": null,
            "max_height": null,
            "align_content": null,
            "visibility": null,
            "align_self": null,
            "height": null,
            "min_height": null,
            "padding": null,
            "grid_auto_rows": null,
            "grid_gap": null,
            "max_width": null,
            "order": null,
            "_view_module_version": "1.2.0",
            "grid_template_areas": null,
            "object_position": null,
            "object_fit": null,
            "grid_auto_columns": null,
            "margin": null,
            "display": null,
            "left": null
          }
        },
        "394d4b06a5ea45f5becceef3c6341359": {
          "model_module": "@jupyter-widgets/controls",
          "model_name": "ProgressStyleModel",
          "model_module_version": "1.5.0",
          "state": {
            "_view_name": "StyleView",
            "_model_name": "ProgressStyleModel",
            "description_width": "",
            "_view_module": "@jupyter-widgets/base",
            "_model_module_version": "1.5.0",
            "_view_count": null,
            "_view_module_version": "1.2.0",
            "bar_color": null,
            "_model_module": "@jupyter-widgets/controls"
          }
        },
        "da962a7849f441b599e64114cf28b410": {
          "model_module": "@jupyter-widgets/base",
          "model_name": "LayoutModel",
          "model_module_version": "1.2.0",
          "state": {
            "_view_name": "LayoutView",
            "grid_template_rows": null,
            "right": null,
            "justify_content": null,
            "_view_module": "@jupyter-widgets/base",
            "overflow": null,
            "_model_module_version": "1.2.0",
            "_view_count": null,
            "flex_flow": null,
            "width": null,
            "min_width": null,
            "border": null,
            "align_items": null,
            "bottom": null,
            "_model_module": "@jupyter-widgets/base",
            "top": null,
            "grid_column": null,
            "overflow_y": null,
            "overflow_x": null,
            "grid_auto_flow": null,
            "grid_area": null,
            "grid_template_columns": null,
            "flex": null,
            "_model_name": "LayoutModel",
            "justify_items": null,
            "grid_row": null,
            "max_height": null,
            "align_content": null,
            "visibility": null,
            "align_self": null,
            "height": null,
            "min_height": null,
            "padding": null,
            "grid_auto_rows": null,
            "grid_gap": null,
            "max_width": null,
            "order": null,
            "_view_module_version": "1.2.0",
            "grid_template_areas": null,
            "object_position": null,
            "object_fit": null,
            "grid_auto_columns": null,
            "margin": null,
            "display": null,
            "left": null
          }
        },
        "6d5b5e3a6df54b4d8bf8853cdfeab8d8": {
          "model_module": "@jupyter-widgets/controls",
          "model_name": "DescriptionStyleModel",
          "model_module_version": "1.5.0",
          "state": {
            "_view_name": "StyleView",
            "_model_name": "DescriptionStyleModel",
            "description_width": "",
            "_view_module": "@jupyter-widgets/base",
            "_model_module_version": "1.5.0",
            "_view_count": null,
            "_view_module_version": "1.2.0",
            "_model_module": "@jupyter-widgets/controls"
          }
        },
        "a9e78f068b8b4fc689bf3b545dde5823": {
          "model_module": "@jupyter-widgets/base",
          "model_name": "LayoutModel",
          "model_module_version": "1.2.0",
          "state": {
            "_view_name": "LayoutView",
            "grid_template_rows": null,
            "right": null,
            "justify_content": null,
            "_view_module": "@jupyter-widgets/base",
            "overflow": null,
            "_model_module_version": "1.2.0",
            "_view_count": null,
            "flex_flow": null,
            "width": null,
            "min_width": null,
            "border": null,
            "align_items": null,
            "bottom": null,
            "_model_module": "@jupyter-widgets/base",
            "top": null,
            "grid_column": null,
            "overflow_y": null,
            "overflow_x": null,
            "grid_auto_flow": null,
            "grid_area": null,
            "grid_template_columns": null,
            "flex": null,
            "_model_name": "LayoutModel",
            "justify_items": null,
            "grid_row": null,
            "max_height": null,
            "align_content": null,
            "visibility": null,
            "align_self": null,
            "height": null,
            "min_height": null,
            "padding": null,
            "grid_auto_rows": null,
            "grid_gap": null,
            "max_width": null,
            "order": null,
            "_view_module_version": "1.2.0",
            "grid_template_areas": null,
            "object_position": null,
            "object_fit": null,
            "grid_auto_columns": null,
            "margin": null,
            "display": null,
            "left": null
          }
        },
        "73fcec6f0e3f45ff87c23e5fafc743dd": {
          "model_module": "@jupyter-widgets/controls",
          "model_name": "HBoxModel",
          "model_module_version": "1.5.0",
          "state": {
            "_view_name": "HBoxView",
            "_dom_classes": [],
            "_model_name": "HBoxModel",
            "_view_module": "@jupyter-widgets/controls",
            "_model_module_version": "1.5.0",
            "_view_count": null,
            "_view_module_version": "1.5.0",
            "box_style": "",
            "layout": "IPY_MODEL_07eb69f91f54439f88cf707fb53d6725",
            "_model_module": "@jupyter-widgets/controls",
            "children": [
              "IPY_MODEL_256d6f701bd34db8a5dba77034ab693c",
              "IPY_MODEL_4db192b0cba049078c492081d52d3a51",
              "IPY_MODEL_8f2a8838ecdd4b619d0ee7f9cfabfdb5"
            ]
          }
        },
        "07eb69f91f54439f88cf707fb53d6725": {
          "model_module": "@jupyter-widgets/base",
          "model_name": "LayoutModel",
          "model_module_version": "1.2.0",
          "state": {
            "_view_name": "LayoutView",
            "grid_template_rows": null,
            "right": null,
            "justify_content": null,
            "_view_module": "@jupyter-widgets/base",
            "overflow": null,
            "_model_module_version": "1.2.0",
            "_view_count": null,
            "flex_flow": null,
            "width": null,
            "min_width": null,
            "border": null,
            "align_items": null,
            "bottom": null,
            "_model_module": "@jupyter-widgets/base",
            "top": null,
            "grid_column": null,
            "overflow_y": null,
            "overflow_x": null,
            "grid_auto_flow": null,
            "grid_area": null,
            "grid_template_columns": null,
            "flex": null,
            "_model_name": "LayoutModel",
            "justify_items": null,
            "grid_row": null,
            "max_height": null,
            "align_content": null,
            "visibility": null,
            "align_self": null,
            "height": null,
            "min_height": null,
            "padding": null,
            "grid_auto_rows": null,
            "grid_gap": null,
            "max_width": null,
            "order": null,
            "_view_module_version": "1.2.0",
            "grid_template_areas": null,
            "object_position": null,
            "object_fit": null,
            "grid_auto_columns": null,
            "margin": null,
            "display": null,
            "left": null
          }
        },
        "256d6f701bd34db8a5dba77034ab693c": {
          "model_module": "@jupyter-widgets/controls",
          "model_name": "HTMLModel",
          "model_module_version": "1.5.0",
          "state": {
            "_view_name": "HTMLView",
            "style": "IPY_MODEL_e3e70c77b7c442e8967ae11de1fbe310",
            "_dom_classes": [],
            "description": "",
            "_model_name": "HTMLModel",
            "placeholder": "​",
            "_view_module": "@jupyter-widgets/controls",
            "_model_module_version": "1.5.0",
            "value": "100%",
            "_view_count": null,
            "_view_module_version": "1.5.0",
            "description_tooltip": null,
            "_model_module": "@jupyter-widgets/controls",
            "layout": "IPY_MODEL_a88788520d244f608adfe6dd1d9edd68"
          }
        },
        "4db192b0cba049078c492081d52d3a51": {
          "model_module": "@jupyter-widgets/controls",
          "model_name": "FloatProgressModel",
          "model_module_version": "1.5.0",
          "state": {
            "_view_name": "ProgressView",
            "style": "IPY_MODEL_56f1142880424aa8b94ddc68dea2a911",
            "_dom_classes": [],
            "description": "",
            "_model_name": "FloatProgressModel",
            "bar_style": "success",
            "max": 1,
            "_view_module": "@jupyter-widgets/controls",
            "_model_module_version": "1.5.0",
            "value": 1,
            "_view_count": null,
            "_view_module_version": "1.5.0",
            "orientation": "horizontal",
            "min": 0,
            "description_tooltip": null,
            "_model_module": "@jupyter-widgets/controls",
            "layout": "IPY_MODEL_c33b68072d354e77ae087d83c803a261"
          }
        },
        "8f2a8838ecdd4b619d0ee7f9cfabfdb5": {
          "model_module": "@jupyter-widgets/controls",
          "model_name": "HTMLModel",
          "model_module_version": "1.5.0",
          "state": {
            "_view_name": "HTMLView",
            "style": "IPY_MODEL_14928d48554e4f149b4ea37c2ca06b40",
            "_dom_classes": [],
            "description": "",
            "_model_name": "HTMLModel",
            "placeholder": "​",
            "_view_module": "@jupyter-widgets/controls",
            "_model_module_version": "1.5.0",
            "value": " 1/1 [00:00&lt;00:00,  3.76ba/s]",
            "_view_count": null,
            "_view_module_version": "1.5.0",
            "description_tooltip": null,
            "_model_module": "@jupyter-widgets/controls",
            "layout": "IPY_MODEL_c28ba8abd7e1483d8679a90f73309689"
          }
        },
        "e3e70c77b7c442e8967ae11de1fbe310": {
          "model_module": "@jupyter-widgets/controls",
          "model_name": "DescriptionStyleModel",
          "model_module_version": "1.5.0",
          "state": {
            "_view_name": "StyleView",
            "_model_name": "DescriptionStyleModel",
            "description_width": "",
            "_view_module": "@jupyter-widgets/base",
            "_model_module_version": "1.5.0",
            "_view_count": null,
            "_view_module_version": "1.2.0",
            "_model_module": "@jupyter-widgets/controls"
          }
        },
        "a88788520d244f608adfe6dd1d9edd68": {
          "model_module": "@jupyter-widgets/base",
          "model_name": "LayoutModel",
          "model_module_version": "1.2.0",
          "state": {
            "_view_name": "LayoutView",
            "grid_template_rows": null,
            "right": null,
            "justify_content": null,
            "_view_module": "@jupyter-widgets/base",
            "overflow": null,
            "_model_module_version": "1.2.0",
            "_view_count": null,
            "flex_flow": null,
            "width": null,
            "min_width": null,
            "border": null,
            "align_items": null,
            "bottom": null,
            "_model_module": "@jupyter-widgets/base",
            "top": null,
            "grid_column": null,
            "overflow_y": null,
            "overflow_x": null,
            "grid_auto_flow": null,
            "grid_area": null,
            "grid_template_columns": null,
            "flex": null,
            "_model_name": "LayoutModel",
            "justify_items": null,
            "grid_row": null,
            "max_height": null,
            "align_content": null,
            "visibility": null,
            "align_self": null,
            "height": null,
            "min_height": null,
            "padding": null,
            "grid_auto_rows": null,
            "grid_gap": null,
            "max_width": null,
            "order": null,
            "_view_module_version": "1.2.0",
            "grid_template_areas": null,
            "object_position": null,
            "object_fit": null,
            "grid_auto_columns": null,
            "margin": null,
            "display": null,
            "left": null
          }
        },
        "56f1142880424aa8b94ddc68dea2a911": {
          "model_module": "@jupyter-widgets/controls",
          "model_name": "ProgressStyleModel",
          "model_module_version": "1.5.0",
          "state": {
            "_view_name": "StyleView",
            "_model_name": "ProgressStyleModel",
            "description_width": "",
            "_view_module": "@jupyter-widgets/base",
            "_model_module_version": "1.5.0",
            "_view_count": null,
            "_view_module_version": "1.2.0",
            "bar_color": null,
            "_model_module": "@jupyter-widgets/controls"
          }
        },
        "c33b68072d354e77ae087d83c803a261": {
          "model_module": "@jupyter-widgets/base",
          "model_name": "LayoutModel",
          "model_module_version": "1.2.0",
          "state": {
            "_view_name": "LayoutView",
            "grid_template_rows": null,
            "right": null,
            "justify_content": null,
            "_view_module": "@jupyter-widgets/base",
            "overflow": null,
            "_model_module_version": "1.2.0",
            "_view_count": null,
            "flex_flow": null,
            "width": null,
            "min_width": null,
            "border": null,
            "align_items": null,
            "bottom": null,
            "_model_module": "@jupyter-widgets/base",
            "top": null,
            "grid_column": null,
            "overflow_y": null,
            "overflow_x": null,
            "grid_auto_flow": null,
            "grid_area": null,
            "grid_template_columns": null,
            "flex": null,
            "_model_name": "LayoutModel",
            "justify_items": null,
            "grid_row": null,
            "max_height": null,
            "align_content": null,
            "visibility": null,
            "align_self": null,
            "height": null,
            "min_height": null,
            "padding": null,
            "grid_auto_rows": null,
            "grid_gap": null,
            "max_width": null,
            "order": null,
            "_view_module_version": "1.2.0",
            "grid_template_areas": null,
            "object_position": null,
            "object_fit": null,
            "grid_auto_columns": null,
            "margin": null,
            "display": null,
            "left": null
          }
        },
        "14928d48554e4f149b4ea37c2ca06b40": {
          "model_module": "@jupyter-widgets/controls",
          "model_name": "DescriptionStyleModel",
          "model_module_version": "1.5.0",
          "state": {
            "_view_name": "StyleView",
            "_model_name": "DescriptionStyleModel",
            "description_width": "",
            "_view_module": "@jupyter-widgets/base",
            "_model_module_version": "1.5.0",
            "_view_count": null,
            "_view_module_version": "1.2.0",
            "_model_module": "@jupyter-widgets/controls"
          }
        },
        "c28ba8abd7e1483d8679a90f73309689": {
          "model_module": "@jupyter-widgets/base",
          "model_name": "LayoutModel",
          "model_module_version": "1.2.0",
          "state": {
            "_view_name": "LayoutView",
            "grid_template_rows": null,
            "right": null,
            "justify_content": null,
            "_view_module": "@jupyter-widgets/base",
            "overflow": null,
            "_model_module_version": "1.2.0",
            "_view_count": null,
            "flex_flow": null,
            "width": null,
            "min_width": null,
            "border": null,
            "align_items": null,
            "bottom": null,
            "_model_module": "@jupyter-widgets/base",
            "top": null,
            "grid_column": null,
            "overflow_y": null,
            "overflow_x": null,
            "grid_auto_flow": null,
            "grid_area": null,
            "grid_template_columns": null,
            "flex": null,
            "_model_name": "LayoutModel",
            "justify_items": null,
            "grid_row": null,
            "max_height": null,
            "align_content": null,
            "visibility": null,
            "align_self": null,
            "height": null,
            "min_height": null,
            "padding": null,
            "grid_auto_rows": null,
            "grid_gap": null,
            "max_width": null,
            "order": null,
            "_view_module_version": "1.2.0",
            "grid_template_areas": null,
            "object_position": null,
            "object_fit": null,
            "grid_auto_columns": null,
            "margin": null,
            "display": null,
            "left": null
          }
        },
        "b02d1b7229b04aec8116c32a62104227": {
          "model_module": "@jupyter-widgets/controls",
          "model_name": "HBoxModel",
          "model_module_version": "1.5.0",
          "state": {
            "_view_name": "HBoxView",
            "_dom_classes": [],
            "_model_name": "HBoxModel",
            "_view_module": "@jupyter-widgets/controls",
            "_model_module_version": "1.5.0",
            "_view_count": null,
            "_view_module_version": "1.5.0",
            "box_style": "",
            "layout": "IPY_MODEL_5487c012d8764feab9262e0a2f4351ae",
            "_model_module": "@jupyter-widgets/controls",
            "children": [
              "IPY_MODEL_63484017c3f04f8d86457df7d3999443",
              "IPY_MODEL_3a03a0147d8d47819befc438efa91385",
              "IPY_MODEL_151c7d58f8534d169ea6c1d00bab8d49"
            ]
          }
        },
        "5487c012d8764feab9262e0a2f4351ae": {
          "model_module": "@jupyter-widgets/base",
          "model_name": "LayoutModel",
          "model_module_version": "1.2.0",
          "state": {
            "_view_name": "LayoutView",
            "grid_template_rows": null,
            "right": null,
            "justify_content": null,
            "_view_module": "@jupyter-widgets/base",
            "overflow": null,
            "_model_module_version": "1.2.0",
            "_view_count": null,
            "flex_flow": null,
            "width": null,
            "min_width": null,
            "border": null,
            "align_items": null,
            "bottom": null,
            "_model_module": "@jupyter-widgets/base",
            "top": null,
            "grid_column": null,
            "overflow_y": null,
            "overflow_x": null,
            "grid_auto_flow": null,
            "grid_area": null,
            "grid_template_columns": null,
            "flex": null,
            "_model_name": "LayoutModel",
            "justify_items": null,
            "grid_row": null,
            "max_height": null,
            "align_content": null,
            "visibility": null,
            "align_self": null,
            "height": null,
            "min_height": null,
            "padding": null,
            "grid_auto_rows": null,
            "grid_gap": null,
            "max_width": null,
            "order": null,
            "_view_module_version": "1.2.0",
            "grid_template_areas": null,
            "object_position": null,
            "object_fit": null,
            "grid_auto_columns": null,
            "margin": null,
            "display": null,
            "left": null
          }
        },
        "63484017c3f04f8d86457df7d3999443": {
          "model_module": "@jupyter-widgets/controls",
          "model_name": "HTMLModel",
          "model_module_version": "1.5.0",
          "state": {
            "_view_name": "HTMLView",
            "style": "IPY_MODEL_a20e5b25b7644d6caf673822848e9a44",
            "_dom_classes": [],
            "description": "",
            "_model_name": "HTMLModel",
            "placeholder": "​",
            "_view_module": "@jupyter-widgets/controls",
            "_model_module_version": "1.5.0",
            "value": "100%",
            "_view_count": null,
            "_view_module_version": "1.5.0",
            "description_tooltip": null,
            "_model_module": "@jupyter-widgets/controls",
            "layout": "IPY_MODEL_8c91b8c222a346e2bc24a11e030c9062"
          }
        },
        "3a03a0147d8d47819befc438efa91385": {
          "model_module": "@jupyter-widgets/controls",
          "model_name": "FloatProgressModel",
          "model_module_version": "1.5.0",
          "state": {
            "_view_name": "ProgressView",
            "style": "IPY_MODEL_63f79b682045421b88994871e8ba89cf",
            "_dom_classes": [],
            "description": "",
            "_model_name": "FloatProgressModel",
            "bar_style": "success",
            "max": 3,
            "_view_module": "@jupyter-widgets/controls",
            "_model_module_version": "1.5.0",
            "value": 3,
            "_view_count": null,
            "_view_module_version": "1.5.0",
            "orientation": "horizontal",
            "min": 0,
            "description_tooltip": null,
            "_model_module": "@jupyter-widgets/controls",
            "layout": "IPY_MODEL_e8a607a3cd7a41dbbec7bc5065f28eaf"
          }
        },
        "151c7d58f8534d169ea6c1d00bab8d49": {
          "model_module": "@jupyter-widgets/controls",
          "model_name": "HTMLModel",
          "model_module_version": "1.5.0",
          "state": {
            "_view_name": "HTMLView",
            "style": "IPY_MODEL_97071cc2408042ce9cf399499da84330",
            "_dom_classes": [],
            "description": "",
            "_model_name": "HTMLModel",
            "placeholder": "​",
            "_view_module": "@jupyter-widgets/controls",
            "_model_module_version": "1.5.0",
            "value": " 3/3 [00:00&lt;00:00, 60.77it/s]",
            "_view_count": null,
            "_view_module_version": "1.5.0",
            "description_tooltip": null,
            "_model_module": "@jupyter-widgets/controls",
            "layout": "IPY_MODEL_4d198b002cae41009193de6cc8798478"
          }
        },
        "a20e5b25b7644d6caf673822848e9a44": {
          "model_module": "@jupyter-widgets/controls",
          "model_name": "DescriptionStyleModel",
          "model_module_version": "1.5.0",
          "state": {
            "_view_name": "StyleView",
            "_model_name": "DescriptionStyleModel",
            "description_width": "",
            "_view_module": "@jupyter-widgets/base",
            "_model_module_version": "1.5.0",
            "_view_count": null,
            "_view_module_version": "1.2.0",
            "_model_module": "@jupyter-widgets/controls"
          }
        },
        "8c91b8c222a346e2bc24a11e030c9062": {
          "model_module": "@jupyter-widgets/base",
          "model_name": "LayoutModel",
          "model_module_version": "1.2.0",
          "state": {
            "_view_name": "LayoutView",
            "grid_template_rows": null,
            "right": null,
            "justify_content": null,
            "_view_module": "@jupyter-widgets/base",
            "overflow": null,
            "_model_module_version": "1.2.0",
            "_view_count": null,
            "flex_flow": null,
            "width": null,
            "min_width": null,
            "border": null,
            "align_items": null,
            "bottom": null,
            "_model_module": "@jupyter-widgets/base",
            "top": null,
            "grid_column": null,
            "overflow_y": null,
            "overflow_x": null,
            "grid_auto_flow": null,
            "grid_area": null,
            "grid_template_columns": null,
            "flex": null,
            "_model_name": "LayoutModel",
            "justify_items": null,
            "grid_row": null,
            "max_height": null,
            "align_content": null,
            "visibility": null,
            "align_self": null,
            "height": null,
            "min_height": null,
            "padding": null,
            "grid_auto_rows": null,
            "grid_gap": null,
            "max_width": null,
            "order": null,
            "_view_module_version": "1.2.0",
            "grid_template_areas": null,
            "object_position": null,
            "object_fit": null,
            "grid_auto_columns": null,
            "margin": null,
            "display": null,
            "left": null
          }
        },
        "63f79b682045421b88994871e8ba89cf": {
          "model_module": "@jupyter-widgets/controls",
          "model_name": "ProgressStyleModel",
          "model_module_version": "1.5.0",
          "state": {
            "_view_name": "StyleView",
            "_model_name": "ProgressStyleModel",
            "description_width": "",
            "_view_module": "@jupyter-widgets/base",
            "_model_module_version": "1.5.0",
            "_view_count": null,
            "_view_module_version": "1.2.0",
            "bar_color": null,
            "_model_module": "@jupyter-widgets/controls"
          }
        },
        "e8a607a3cd7a41dbbec7bc5065f28eaf": {
          "model_module": "@jupyter-widgets/base",
          "model_name": "LayoutModel",
          "model_module_version": "1.2.0",
          "state": {
            "_view_name": "LayoutView",
            "grid_template_rows": null,
            "right": null,
            "justify_content": null,
            "_view_module": "@jupyter-widgets/base",
            "overflow": null,
            "_model_module_version": "1.2.0",
            "_view_count": null,
            "flex_flow": null,
            "width": null,
            "min_width": null,
            "border": null,
            "align_items": null,
            "bottom": null,
            "_model_module": "@jupyter-widgets/base",
            "top": null,
            "grid_column": null,
            "overflow_y": null,
            "overflow_x": null,
            "grid_auto_flow": null,
            "grid_area": null,
            "grid_template_columns": null,
            "flex": null,
            "_model_name": "LayoutModel",
            "justify_items": null,
            "grid_row": null,
            "max_height": null,
            "align_content": null,
            "visibility": null,
            "align_self": null,
            "height": null,
            "min_height": null,
            "padding": null,
            "grid_auto_rows": null,
            "grid_gap": null,
            "max_width": null,
            "order": null,
            "_view_module_version": "1.2.0",
            "grid_template_areas": null,
            "object_position": null,
            "object_fit": null,
            "grid_auto_columns": null,
            "margin": null,
            "display": null,
            "left": null
          }
        },
        "97071cc2408042ce9cf399499da84330": {
          "model_module": "@jupyter-widgets/controls",
          "model_name": "DescriptionStyleModel",
          "model_module_version": "1.5.0",
          "state": {
            "_view_name": "StyleView",
            "_model_name": "DescriptionStyleModel",
            "description_width": "",
            "_view_module": "@jupyter-widgets/base",
            "_model_module_version": "1.5.0",
            "_view_count": null,
            "_view_module_version": "1.2.0",
            "_model_module": "@jupyter-widgets/controls"
          }
        },
        "4d198b002cae41009193de6cc8798478": {
          "model_module": "@jupyter-widgets/base",
          "model_name": "LayoutModel",
          "model_module_version": "1.2.0",
          "state": {
            "_view_name": "LayoutView",
            "grid_template_rows": null,
            "right": null,
            "justify_content": null,
            "_view_module": "@jupyter-widgets/base",
            "overflow": null,
            "_model_module_version": "1.2.0",
            "_view_count": null,
            "flex_flow": null,
            "width": null,
            "min_width": null,
            "border": null,
            "align_items": null,
            "bottom": null,
            "_model_module": "@jupyter-widgets/base",
            "top": null,
            "grid_column": null,
            "overflow_y": null,
            "overflow_x": null,
            "grid_auto_flow": null,
            "grid_area": null,
            "grid_template_columns": null,
            "flex": null,
            "_model_name": "LayoutModel",
            "justify_items": null,
            "grid_row": null,
            "max_height": null,
            "align_content": null,
            "visibility": null,
            "align_self": null,
            "height": null,
            "min_height": null,
            "padding": null,
            "grid_auto_rows": null,
            "grid_gap": null,
            "max_width": null,
            "order": null,
            "_view_module_version": "1.2.0",
            "grid_template_areas": null,
            "object_position": null,
            "object_fit": null,
            "grid_auto_columns": null,
            "margin": null,
            "display": null,
            "left": null
          }
        },
        "ad86eb9f3a5148d98bec154d440203f6": {
          "model_module": "@jupyter-widgets/controls",
          "model_name": "HBoxModel",
          "model_module_version": "1.5.0",
          "state": {
            "_view_name": "HBoxView",
            "_dom_classes": [],
            "_model_name": "HBoxModel",
            "_view_module": "@jupyter-widgets/controls",
            "_model_module_version": "1.5.0",
            "_view_count": null,
            "_view_module_version": "1.5.0",
            "box_style": "",
            "layout": "IPY_MODEL_72ca2393815e4d3ca940149d5c55a2d7",
            "_model_module": "@jupyter-widgets/controls",
            "children": [
              "IPY_MODEL_4d327619ee7f4f2bb9355f0e6df50b02",
              "IPY_MODEL_82218575b9494567aba1a1926c1173d8",
              "IPY_MODEL_38f0138f771846f58f782f1db30c8da7"
            ]
          }
        },
        "72ca2393815e4d3ca940149d5c55a2d7": {
          "model_module": "@jupyter-widgets/base",
          "model_name": "LayoutModel",
          "model_module_version": "1.2.0",
          "state": {
            "_view_name": "LayoutView",
            "grid_template_rows": null,
            "right": null,
            "justify_content": null,
            "_view_module": "@jupyter-widgets/base",
            "overflow": null,
            "_model_module_version": "1.2.0",
            "_view_count": null,
            "flex_flow": null,
            "width": null,
            "min_width": null,
            "border": null,
            "align_items": null,
            "bottom": null,
            "_model_module": "@jupyter-widgets/base",
            "top": null,
            "grid_column": null,
            "overflow_y": null,
            "overflow_x": null,
            "grid_auto_flow": null,
            "grid_area": null,
            "grid_template_columns": null,
            "flex": null,
            "_model_name": "LayoutModel",
            "justify_items": null,
            "grid_row": null,
            "max_height": null,
            "align_content": null,
            "visibility": null,
            "align_self": null,
            "height": null,
            "min_height": null,
            "padding": null,
            "grid_auto_rows": null,
            "grid_gap": null,
            "max_width": null,
            "order": null,
            "_view_module_version": "1.2.0",
            "grid_template_areas": null,
            "object_position": null,
            "object_fit": null,
            "grid_auto_columns": null,
            "margin": null,
            "display": null,
            "left": null
          }
        },
        "4d327619ee7f4f2bb9355f0e6df50b02": {
          "model_module": "@jupyter-widgets/controls",
          "model_name": "HTMLModel",
          "model_module_version": "1.5.0",
          "state": {
            "_view_name": "HTMLView",
            "style": "IPY_MODEL_7d41e88d1f8c40beb361cfb55b04ea40",
            "_dom_classes": [],
            "description": "",
            "_model_name": "HTMLModel",
            "placeholder": "​",
            "_view_module": "@jupyter-widgets/controls",
            "_model_module_version": "1.5.0",
            "value": "100%",
            "_view_count": null,
            "_view_module_version": "1.5.0",
            "description_tooltip": null,
            "_model_module": "@jupyter-widgets/controls",
            "layout": "IPY_MODEL_b30c4e50ed944470a459ef2553ba8542"
          }
        },
        "82218575b9494567aba1a1926c1173d8": {
          "model_module": "@jupyter-widgets/controls",
          "model_name": "FloatProgressModel",
          "model_module_version": "1.5.0",
          "state": {
            "_view_name": "ProgressView",
            "style": "IPY_MODEL_919e9b24d3674902858683ba714baea2",
            "_dom_classes": [],
            "description": "",
            "_model_name": "FloatProgressModel",
            "bar_style": "success",
            "max": 1,
            "_view_module": "@jupyter-widgets/controls",
            "_model_module_version": "1.5.0",
            "value": 1,
            "_view_count": null,
            "_view_module_version": "1.5.0",
            "orientation": "horizontal",
            "min": 0,
            "description_tooltip": null,
            "_model_module": "@jupyter-widgets/controls",
            "layout": "IPY_MODEL_a614a30a08ae44c1ade6d10fa2eab64e"
          }
        },
        "38f0138f771846f58f782f1db30c8da7": {
          "model_module": "@jupyter-widgets/controls",
          "model_name": "HTMLModel",
          "model_module_version": "1.5.0",
          "state": {
            "_view_name": "HTMLView",
            "style": "IPY_MODEL_20a456f75b194965aa3894be073c9438",
            "_dom_classes": [],
            "description": "",
            "_model_name": "HTMLModel",
            "placeholder": "​",
            "_view_module": "@jupyter-widgets/controls",
            "_model_module_version": "1.5.0",
            "value": " 1/1 [00:00&lt;00:00,  3.93ba/s]",
            "_view_count": null,
            "_view_module_version": "1.5.0",
            "description_tooltip": null,
            "_model_module": "@jupyter-widgets/controls",
            "layout": "IPY_MODEL_bc459676931845009d5d71927ac32489"
          }
        },
        "7d41e88d1f8c40beb361cfb55b04ea40": {
          "model_module": "@jupyter-widgets/controls",
          "model_name": "DescriptionStyleModel",
          "model_module_version": "1.5.0",
          "state": {
            "_view_name": "StyleView",
            "_model_name": "DescriptionStyleModel",
            "description_width": "",
            "_view_module": "@jupyter-widgets/base",
            "_model_module_version": "1.5.0",
            "_view_count": null,
            "_view_module_version": "1.2.0",
            "_model_module": "@jupyter-widgets/controls"
          }
        },
        "b30c4e50ed944470a459ef2553ba8542": {
          "model_module": "@jupyter-widgets/base",
          "model_name": "LayoutModel",
          "model_module_version": "1.2.0",
          "state": {
            "_view_name": "LayoutView",
            "grid_template_rows": null,
            "right": null,
            "justify_content": null,
            "_view_module": "@jupyter-widgets/base",
            "overflow": null,
            "_model_module_version": "1.2.0",
            "_view_count": null,
            "flex_flow": null,
            "width": null,
            "min_width": null,
            "border": null,
            "align_items": null,
            "bottom": null,
            "_model_module": "@jupyter-widgets/base",
            "top": null,
            "grid_column": null,
            "overflow_y": null,
            "overflow_x": null,
            "grid_auto_flow": null,
            "grid_area": null,
            "grid_template_columns": null,
            "flex": null,
            "_model_name": "LayoutModel",
            "justify_items": null,
            "grid_row": null,
            "max_height": null,
            "align_content": null,
            "visibility": null,
            "align_self": null,
            "height": null,
            "min_height": null,
            "padding": null,
            "grid_auto_rows": null,
            "grid_gap": null,
            "max_width": null,
            "order": null,
            "_view_module_version": "1.2.0",
            "grid_template_areas": null,
            "object_position": null,
            "object_fit": null,
            "grid_auto_columns": null,
            "margin": null,
            "display": null,
            "left": null
          }
        },
        "919e9b24d3674902858683ba714baea2": {
          "model_module": "@jupyter-widgets/controls",
          "model_name": "ProgressStyleModel",
          "model_module_version": "1.5.0",
          "state": {
            "_view_name": "StyleView",
            "_model_name": "ProgressStyleModel",
            "description_width": "",
            "_view_module": "@jupyter-widgets/base",
            "_model_module_version": "1.5.0",
            "_view_count": null,
            "_view_module_version": "1.2.0",
            "bar_color": null,
            "_model_module": "@jupyter-widgets/controls"
          }
        },
        "a614a30a08ae44c1ade6d10fa2eab64e": {
          "model_module": "@jupyter-widgets/base",
          "model_name": "LayoutModel",
          "model_module_version": "1.2.0",
          "state": {
            "_view_name": "LayoutView",
            "grid_template_rows": null,
            "right": null,
            "justify_content": null,
            "_view_module": "@jupyter-widgets/base",
            "overflow": null,
            "_model_module_version": "1.2.0",
            "_view_count": null,
            "flex_flow": null,
            "width": null,
            "min_width": null,
            "border": null,
            "align_items": null,
            "bottom": null,
            "_model_module": "@jupyter-widgets/base",
            "top": null,
            "grid_column": null,
            "overflow_y": null,
            "overflow_x": null,
            "grid_auto_flow": null,
            "grid_area": null,
            "grid_template_columns": null,
            "flex": null,
            "_model_name": "LayoutModel",
            "justify_items": null,
            "grid_row": null,
            "max_height": null,
            "align_content": null,
            "visibility": null,
            "align_self": null,
            "height": null,
            "min_height": null,
            "padding": null,
            "grid_auto_rows": null,
            "grid_gap": null,
            "max_width": null,
            "order": null,
            "_view_module_version": "1.2.0",
            "grid_template_areas": null,
            "object_position": null,
            "object_fit": null,
            "grid_auto_columns": null,
            "margin": null,
            "display": null,
            "left": null
          }
        },
        "20a456f75b194965aa3894be073c9438": {
          "model_module": "@jupyter-widgets/controls",
          "model_name": "DescriptionStyleModel",
          "model_module_version": "1.5.0",
          "state": {
            "_view_name": "StyleView",
            "_model_name": "DescriptionStyleModel",
            "description_width": "",
            "_view_module": "@jupyter-widgets/base",
            "_model_module_version": "1.5.0",
            "_view_count": null,
            "_view_module_version": "1.2.0",
            "_model_module": "@jupyter-widgets/controls"
          }
        },
        "bc459676931845009d5d71927ac32489": {
          "model_module": "@jupyter-widgets/base",
          "model_name": "LayoutModel",
          "model_module_version": "1.2.0",
          "state": {
            "_view_name": "LayoutView",
            "grid_template_rows": null,
            "right": null,
            "justify_content": null,
            "_view_module": "@jupyter-widgets/base",
            "overflow": null,
            "_model_module_version": "1.2.0",
            "_view_count": null,
            "flex_flow": null,
            "width": null,
            "min_width": null,
            "border": null,
            "align_items": null,
            "bottom": null,
            "_model_module": "@jupyter-widgets/base",
            "top": null,
            "grid_column": null,
            "overflow_y": null,
            "overflow_x": null,
            "grid_auto_flow": null,
            "grid_area": null,
            "grid_template_columns": null,
            "flex": null,
            "_model_name": "LayoutModel",
            "justify_items": null,
            "grid_row": null,
            "max_height": null,
            "align_content": null,
            "visibility": null,
            "align_self": null,
            "height": null,
            "min_height": null,
            "padding": null,
            "grid_auto_rows": null,
            "grid_gap": null,
            "max_width": null,
            "order": null,
            "_view_module_version": "1.2.0",
            "grid_template_areas": null,
            "object_position": null,
            "object_fit": null,
            "grid_auto_columns": null,
            "margin": null,
            "display": null,
            "left": null
          }
        }
      }
    }
  },
  "cells": [
    {
      "cell_type": "markdown",
      "metadata": {
        "id": "EUGbYz84pdUH"
      },
      "source": [
        "# Dataset Overview for T5-small tokenizer"
      ]
    },
    {
      "cell_type": "code",
      "metadata": {
        "id": "MOsHUjgdIrIW"
      },
      "source": [
        "#Install essential packages\n",
        "%%capture\n",
        "!pip install datasets\n",
        "!pip install transformers\n",
        "\n",
        "!apt install git-lfs"
      ],
      "execution_count": 1,
      "outputs": []
    },
    {
      "cell_type": "code",
      "metadata": {
        "id": "glZC8RTP0UHU"
      },
      "source": [
        "# Make sure your version of Transformers is at 4.11.0\n",
        "# to run the following code correctly:\n",
        "import datasets\n",
        "import transformers"
      ],
      "execution_count": 2,
      "outputs": []
    },
    {
      "cell_type": "code",
      "source": [
        "from transformers import T5TokenizerFast\n",
        "\n",
        "tokenizer = T5TokenizerFast.from_pretrained(\"t5-small\")"
      ],
      "metadata": {
        "colab": {
          "base_uri": "https://localhost:8080/",
          "height": 113,
          "referenced_widgets": [
            "1e3a922160b74db9a9e690f7e1cc739b",
            "7aab225fa0b44c68807f3b9f9675931a",
            "0b61cd8529b6435b97447d3bed6dba08",
            "ec4090b8e3324106bfa6dd2578cddff0",
            "b1dcbd69cac443e7afe98bc390587bb6",
            "85163cae7c234dd1a25c50f54fd29f82",
            "198944903a9d465bbc39a3949788f979",
            "0f1e40b77051442ca18bf205447e682d",
            "50cf746205904de2b707a49c416c92a9",
            "4759674c9f46446ebdfdabeda8384a8e",
            "6136998e97e24f3c8c12d7fc5c21b10b",
            "83ff6aa3ee4c43f88bee3294d8762615",
            "7dffd19d4f6844a6b94117bcd51a2b75",
            "f0d9165d950e49d8837850aba82eda70",
            "5a98a356e9914f3596b1ae6fbaa414ba",
            "95796d5896e34d97919813c1ffb52e11",
            "7b1a605c27534b3abcebf8a44ab5f982",
            "64d5d8a5b4c54a00a5846aa8bc091d8c",
            "125e25c18aab4f7097b4c3a9f62a51cf",
            "dc7503ffd48641df885c76e788af7628",
            "43a62c51d76049dd89e033acc03c9a08",
            "e89b618283fc4df48ef80ec2e75ddab0",
            "f544fa0cf0cd4eec9449bc2c3fd98d18",
            "47c4fbc3d7924d76bb3cb85ad5d09f53",
            "eea2f82b2a024583851ebed226373d50",
            "0ba9e924061646e7aeb0f002780e5edf",
            "de18e13521124289be7a572728988ea1",
            "fe2e912837bf4935bf84fcc01a534e64",
            "e4ca29adae214e0ba3d62a2bf8a2385f",
            "05c0363761b54b60944a2867e93c0f5c",
            "bb1994a9871144e681897c0343361873",
            "124afddc9e884be7bdb1484e2ebe596d",
            "5d494b9791354e82b080bcb8273bd7bd"
          ]
        },
        "id": "uqNlmSGKSmIr",
        "outputId": "2d11a766-008b-4af9-ae21-68a5cc688a89"
      },
      "execution_count": 8,
      "outputs": [
        {
          "output_type": "display_data",
          "data": {
            "application/vnd.jupyter.widget-view+json": {
              "model_id": "1e3a922160b74db9a9e690f7e1cc739b",
              "version_minor": 0,
              "version_major": 2
            },
            "text/plain": [
              "Downloading:   0%|          | 0.00/773k [00:00<?, ?B/s]"
            ]
          },
          "metadata": {}
        },
        {
          "output_type": "display_data",
          "data": {
            "application/vnd.jupyter.widget-view+json": {
              "model_id": "83ff6aa3ee4c43f88bee3294d8762615",
              "version_minor": 0,
              "version_major": 2
            },
            "text/plain": [
              "Downloading:   0%|          | 0.00/1.32M [00:00<?, ?B/s]"
            ]
          },
          "metadata": {}
        },
        {
          "output_type": "display_data",
          "data": {
            "application/vnd.jupyter.widget-view+json": {
              "model_id": "f544fa0cf0cd4eec9449bc2c3fd98d18",
              "version_minor": 0,
              "version_major": 2
            },
            "text/plain": [
              "Downloading:   0%|          | 0.00/1.17k [00:00<?, ?B/s]"
            ]
          },
          "metadata": {}
        }
      ]
    },
    {
      "cell_type": "markdown",
      "metadata": {
        "id": "whPRbBNbIrIl"
      },
      "source": [
        "##XSum"
      ]
    },
    {
      "cell_type": "code",
      "metadata": {
        "id": "IreSlFmlIrIm",
        "colab": {
          "base_uri": "https://localhost:8080/"
        },
        "outputId": "8b118374-f38f-4393-87ed-652a11d9f2fa"
      },
      "source": [
        "# import dataset and metrics with huggingface\n",
        "train_xsum = datasets.load_dataset(\"xsum\", split=\"train\")"
      ],
      "execution_count": 3,
      "outputs": [
        {
          "output_type": "stream",
          "name": "stderr",
          "text": [
            "Using custom data configuration default\n",
            "Reusing dataset xsum (/root/.cache/huggingface/datasets/xsum/default/1.2.0/32c23220eadddb1149b16ed2e9430a05293768cfffbdfd151058697d4c11f934)\n"
          ]
        }
      ]
    },
    {
      "cell_type": "code",
      "source": [
        "train_xsum"
      ],
      "metadata": {
        "colab": {
          "base_uri": "https://localhost:8080/"
        },
        "id": "PHh-LiSMRzNR",
        "outputId": "fb58f22c-fbe5-4b3d-a4f6-e5e230db1a15"
      },
      "execution_count": 4,
      "outputs": [
        {
          "output_type": "execute_result",
          "data": {
            "text/plain": [
              "Dataset({\n",
              "    features: ['document', 'summary', 'id'],\n",
              "    num_rows: 204045\n",
              "})"
            ]
          },
          "metadata": {},
          "execution_count": 4
        }
      ]
    },
    {
      "cell_type": "code",
      "metadata": {
        "id": "i3j8APAoIrI3"
      },
      "source": [
        "# Visualize the Data\n",
        "\n",
        "import random\n",
        "import pandas as pd\n",
        "from IPython.display import display, HTML\n",
        "\n",
        "def show_random_elements(dataset, num_examples=5):\n",
        "    assert num_examples <= len(dataset), \"Can't pick more elements than there are in the dataset.\"\n",
        "    picks = []\n",
        "    for _ in range(num_examples):\n",
        "        pick = random.randint(0, len(dataset)-1)\n",
        "        while pick in picks:\n",
        "            pick = random.randint(0, len(dataset)-1)\n",
        "        picks.append(pick)\n",
        "    \n",
        "    df = pd.DataFrame(dataset[picks])\n",
        "    del df[\"id\"]\n",
        "    for column, typ in dataset.features.items():\n",
        "        if isinstance(typ, datasets.ClassLabel):\n",
        "            df[column] = df[column].transform(lambda i: typ.names[i])\n",
        "    display(HTML(df.to_html()))"
      ],
      "execution_count": 5,
      "outputs": []
    },
    {
      "cell_type": "code",
      "metadata": {
        "id": "SZy5tRB_IrI7",
        "colab": {
          "base_uri": "https://localhost:8080/",
          "height": 1000
        },
        "outputId": "549cdb54-0d9f-4378-c274-6a0f56ea1754"
      },
      "source": [
        "show_random_elements(train_xsum)"
      ],
      "execution_count": 6,
      "outputs": [
        {
          "output_type": "display_data",
          "data": {
            "text/html": [
              "<table border=\"1\" class=\"dataframe\">\n",
              "  <thead>\n",
              "    <tr style=\"text-align: right;\">\n",
              "      <th></th>\n",
              "      <th>document</th>\n",
              "      <th>summary</th>\n",
              "    </tr>\n",
              "  </thead>\n",
              "  <tbody>\n",
              "    <tr>\n",
              "      <th>0</th>\n",
              "      <td>South Australian nurse Kirsty Boden, 28, was confirmed to have died on Tuesday.\\nThe other victim has not been named.\\n\"The Australian government is deeply saddened to confirm that two Australians have been killed in the London terrorist attack,\" Foreign Minister Julie Bishop said in a statement on Wednesday.\\n\"The Australian government has remained in close contact with the families who have requested privacy.\"\\nMs Boden was from a town called Loxton, about 250km (155 miles) from Adelaide, and had been working in the UK as a senior staff nurse in Theatres Recovery.\\nHer family said she died after running towards the danger to help victims on the bridge.\\n\"Kirsty was loved and adored by her family, friends and boyfriend,\" their statement said. \"She was the most outgoing, kind and generous person who loved to help people.\\n\"We are so proud of Kirsty's brave actions which demonstrate how selfless, caring and heroic she was, not only on that night, but throughout all of her life. Kirsty - we love you and we will miss you dearly.\"\\nSouth Australian Premier Jay Weatherill said Ms Boden's death was heartbreaking.\\n\"We all know someone who could have been innocently wandering through London last weekend,\" he said.\\n\"It is the random nature of this heinous crime which makes it so hard to fathom.\"\\nTwo more Australians, Candice Hedge from Brisbane and Andrew Morrison from Darwin, were among the injured, after both being stabbed.</td>\n",
              "      <td>Two Australians were killed in the London Bridge terror attack, the nation's government has confirmed.</td>\n",
              "    </tr>\n",
              "    <tr>\n",
              "      <th>1</th>\n",
              "      <td>Nadal, seeded fourth, beat the Belgian ninth seed 7-6 (7-3) 6-2 after Djokovic earlier had a walkover when Kei Nishikori withdrew with a wrist injury.\\nIn the other half of the draw, Uruguay's Pablo Cuevas will play Dominic Thiem.\\nThird seed Simona Halep beat Anastasija Sevastova 6-2 6-3 in the women's semis.\\nThe Romanian defending champion goes on to face France's Kristina Mladenovic - who saw off Russian Svetlana Kuznetsova 6-4 7-6 (7-3) - in the final.\\nNine-time French Open champion Nadal has lost his past seven matches against Djokovic stretching back to 2014, and trails the head-to-head 26-23 in their 49 meetings.\\nHowever, the Spaniard will go into Saturday's semi-final as the form player after taking his record on clay this year to 13-0 with an impressive win over Goffin.\\nNadal, 30, broke the Belgian's resolve in the first-set tie-break and could have won more comfortably had he converted more than just two of 13 break points.\\nDjokovic is into his first semi-final since he won his opening tournament of the year in Doha, while Nishikori is struggling to be fit for next week's Rome Masters and the French Open in 10 days' time.\\n\"I will plan to play Rome, but we'll see,\" said the Japanese player.\\n\"I cannot promise to play or pull out right now. The French is more important.\"\\nUnseeded Cuevas is through to his first Masters 1000 semi-final following a 3-6 6-0 6-4 win over Germany's Alexander Zverev.</td>\n",
              "      <td>Four-time champion Rafael Nadal will take on two-time winner Novak Djokovic in the Madrid Open semi-finals after the Spaniard saw off David Goffin.</td>\n",
              "    </tr>\n",
              "    <tr>\n",
              "      <th>2</th>\n",
              "      <td>A report commissioned by Communities Secretary Eric Pickles said the authority was \"not fit for purpose\".\\nCouncil leader Paul Lakin has resigned and the council cabinet will also quit.\\nAn earlier inquiry found 1,400 children were abused by gangs of men, mainly of Pakistani origin, from 1997 to 2013.\\nThe National Crime Agency (NCA) said the latest report, by Louise Casey, the director-general for troubled families at the Communities Department, identified \"a number of potentially criminal matters\".\\nFiles passed to the NCA relate to one former and one existing councillor arising from the inquiry, Ms Casey's spokesperson said.\\nInvestigators found the council had a \"deep-rooted\" culture of cover-ups and silencing whistleblowers, Ms Casey said.\\nIt also found the child sexual exploitation (CSE) team was poorly directed, suffered from excessive case loads, and did not share information between agencies.\\nMs Casey said: \"This inspection revealed past and present failures to accept, understand and combat the issue of child sexual exploitation, resulting in a lack of support for victims and insufficient action against known perpetrators.\"\\nA spokesman for the NCA said it would \"examine a number of potentially criminal matters identified during a recent inspection of Rotherham Metropolitan Borough Council.\"\\nMr Pickles said he planned to give control of the council to a team of five commissioners, including an overall lead and one tasked specifically with looking at children's services.\\n1,400\\nchildren were abused, 1997-2013\\n5 resignations, including South Yorkshire Police and Crime Commissioner Shaun Wright and Council leaders Roger Stone and Paul Lakin\\n5 reports published since August 2014\\n10 South Yorkshire Police officers under investigation by the IPCC\\n7,000 documents reviewed for Louise Casey Report\\nThey would \"provide new leadership\" and take over the roles of the \"wholly dysfunctional cabinet,\" he said.\\nThe council has 14 days to respond to his \"wholly exceptional\" proposals, Mr Pickles said.\\nHe also plans to impose early elections in 2016.\\nThe elections would give people a chance to \"renew the membership of their council and elect those they have confidence in\", he explained.\\nHe said he hoped control would be returned to Rotherham Council as \"rapidly as possible\".\\nIn a statement the council said it needed \"time to understand and respond to the detailed report\".\\nIt said: \"We recognise the need for a fresh start that is so clearly identified in the report, but also appreciate that we need to continue to deliver services to the people of Rotherham, and ensure business continuity.\\n\"We should not forget that the publication of this report will re-open old wounds for the victims and survivors of CSE.\\n\"We will continue to put in place the help and support they need at this difficult time, including our dedicated helpline.\"\\nMs Casey was asked by Mr Pickles to inspect the council in the wake of the Jay Report in August 2014.\\nA victim's story\\n\"You could tell with my appearance. I went to five-and-a-half stone and different coloured hair. I was a totally different person.\\n\"Obviously, there were warning signs there. I wasn't going to school, I wasn't going home so there's no way that they couldn't have realised that something was wrong.\\n\"A worker got involved with me. She was trying to tell people what was happening but nobody would listen.\\n\"There were various authorities that knew what was going off and decided to ignore it. I had a child protection officer, she ignored it, someone from social services, they ignored it.\\n\"There were various meetings about me, which were saying if there was anybody found to be dead it'd be me.\"\\nThe inspection team reviewed about 7,000 documents, looked in detail at case files and met more than 200 people, including current and former staff, council members, partners, victims and parents.\\nAccording to the report, child abusers in Rotherham are identified but \"little or no action is taken to stop or even disrupt their activities\".\\nRotherham Council demonstrated a \"resolute denial\" of the child abuse that was taking place, the report found.\\nMs Casey said the local authority was \"repeatedly told\" by its own youth service what was happening.\\nIt chose, she said \"not only to not act, but to close that service down.\"\\nAttitudes within the council include dismissal of Prof Jay's findings, denial of knowledge of the \"scale and scope\" of CSE, blaming others and denial that CSE remains a serious problem in present-day Rotherham.\\nThe council also had an \"excessive deference\" to South Yorkshire Police, preventing the use of council powers to tackle perpetrators, and a lack of scrutiny over the police's actions.\\nInvestigators were told that former council leader Roger Stone had been \"a bully\".\\n\"What Stone said, went,\" a senior officer told the investigation. \"Everyone was terrified of Stone.\"\\nA councillor said: \"He is a bully, in my opinion. In Labour group he would impress himself on people, male or female. A lot of women have felt a sense of suppression and macho culture.\"\\nMr Stone declined to be interviewed by investigators but sent a statement instead.\\nMichael Buchanan, BBC Social Affairs Correspondent\\nIn the days after the Alexis Jay report was published, Rotherham council promised much - they'd learn lessons, they'd support victims, they'd change. It hasn't happened.\\nBehind closed doors, they've poured scorn on the Jay report, still fear being called racist rather than acknowledge problems with Pakistani heritage men and most damningly of all are still failing to protect vulnerable children.\\nFaced with such appalling incompetence, the government have acted in the only way they could.\\nChanging the culture and practices of the council won't happen overnight but it's necessary.\\nThe people of Rotherham - in particular the children at continuing risk of sexual abuse - deserve nothing else.\\nMs Casey's report is the latest in a series of investigations following the publication of the Jay Report in August 2014.\\nProf Alexis Jay found an estimated 1,400 children had been sexually abused in Rotherham between 1997 and 2013.\\nChildren as young as 11 were raped by multiple perpetrators, abducted, trafficked to other cities in England, beaten and intimidated.\\nStaff at the council did not report issues for fear of appearing racist, Ms Casey's report found.\\nBut the investigators said that by failing to take action against the abusers of Pakistani heritage, the council had \"inadvertently fuelled the far right and allowed racial tensions to grow\".\\nThe report added the lack of action had done a great disservice to the Pakistani community.\\nTwo investigations by Commons committees have been launched since the Jay Report was published and a number of high-profile figures have resigned including Shaun Wright, South Yorkshire's police and crime commissioner, who had been a councillor in the town and responsible for children's services.\\nRoger Stone, the chief executive Martin Kimber and the council's director of children's services Joyce Thacker also quit.\\nMr Wright also refused to be interviewed for Ms Casey's report and sent a statement saying he had been unaware of the extent of the abuse.\\nThe National Crime Agency has taken over the investigation into child sexual exploitation in Rotherham and is in the preliminary stage of its inquiry.\\nLast month, Ofsted admitted to the Communities and Local Government Committee that its inspections of children's services in the town had been \"not good enough\".\\nInspectors from the regulator failed to spot the extent of child sexual exploitation in the town over several years, rating the council as adequate.\\nMeanwhile, police watchdog the Independent Police Complaints Commission (IPCC) is investigating 10 South Yorkshire Police officers over their handling of child sexual exploitation in Rotherham.</td>\n",
              "      <td>Government commissioners have been lined up to intervene at Rotherham Council where a culture of \"complete denial\" over child sexual exploitation in the town was exposed.</td>\n",
              "    </tr>\n",
              "    <tr>\n",
              "      <th>3</th>\n",
              "      <td>Media playback is not supported on this device\\nWill Grigg poked in Stephen Warnock's low cross to put the Latics in front just before half-time.\\nAnd Warnock was once again the provider as he cut the ball back for Yanic Wildschut to fire in a low finish.\\nEric Lichaj's late penalty for Forest was saved by Jakob Haugaard after Lica had been fouled in the area.\\nAn FA Cup classic had looked unlikely, with both sides in miserable form, and it is Forest who have now gone seven games without a win in all competitions.\\nThe visitors made few chances and saw little of the ball - and they have now lost six of their past seven matches.\\nWigan - inside the Championship relegation zone in 23rd place - had been on an equally disappointing run, but they were superior to a side who sit three places above them in their division.\\nThe Latics recovered from the early blow of losing Nick Powell to injury and could have added to their tally if Michael Jacobs and Jordi Gomez had done better with good chances.\\nWigan boss Warren Joyce: \"Whether it's the cup or the league, it's just nice to win games.\\n\"I was pleased with the performance and I thought we thoroughly deserved to win.\\n\"I would have been very disappointed had we let them back in - and it was sloppy play that resulted in the penalty.\"\\nNottingham Forest boss Philippe Montanier: \"It was a poor game. We were bad in every area, both with and without the ball, and we cannot keep accepting this situation.\\n\"We're on a terrible run and confidence is really low but that should not be an excuse. We need to show more when we've got the ball and do more when we haven't.\\n\"We looked weak in every part of the pitch and, even with a lot of players out injured, it should have been a much better performance.\"\\nMatch ends, Wigan Athletic 2, Nottingham Forest 0.\\nSecond Half ends, Wigan Athletic 2, Nottingham Forest 0.\\nAttempt missed. Jordan Flores (Wigan Athletic) left footed shot from outside the box is close, but misses to the left.\\nAdam Le Fondre (Wigan Athletic) wins a free kick on the right wing.\\nFoul by Jack Hobbs (Nottingham Forest).\\nMax Power (Wigan Athletic) is shown the yellow card.\\nHildeberto Pereira (Nottingham Forest) is shown the yellow card for a bad foul.\\nAdam Le Fondre (Wigan Athletic) wins a free kick on the right wing.\\nFoul by Hildeberto Pereira (Nottingham Forest).\\nJordan Flores (Wigan Athletic) is shown the yellow card for a bad foul.\\nFoul by Jordan Flores (Wigan Athletic).\\nHildeberto Pereira (Nottingham Forest) wins a free kick in the defensive half.\\nThomas Lam (Nottingham Forest) wins a free kick in the attacking half.\\nFoul by Sam Morsy (Wigan Athletic).\\nSubstitution, Wigan Athletic. Jordan Flores replaces William Grigg.\\nSubstitution, Nottingham Forest. Apostolos Vellios replaces Nicklas Bendtner.\\nJordi Gómez (Wigan Athletic) wins a free kick in the attacking half.\\nPenalty saved! Eric Lichaj (Nottingham Forest) fails to capitalise on this great opportunity,  right footed shot saved  in the centre of the goal.\\nFoul by Licá (Nottingham Forest).\\nAttempt saved. Adam Le Fondre (Wigan Athletic) right footed shot from outside the box is saved in the top centre of the goal.\\nJordi Gómez (Wigan Athletic) wins a free kick in the attacking half.\\nFoul by Jack Hobbs (Nottingham Forest).\\nStephen Warnock (Wigan Athletic) wins a free kick in the defensive half.\\nFoul by Licá (Nottingham Forest).\\nFoul by Sam Morsy (Wigan Athletic).\\nHildeberto Pereira (Nottingham Forest) wins a free kick in the defensive half.\\nSam Morsy (Wigan Athletic) wins a free kick in the defensive half.\\nFoul by Michael Mancienne (Nottingham Forest).\\nMax Power (Wigan Athletic) wins a free kick in the defensive half.\\nFoul by Mustapha Carayol (Nottingham Forest).\\nSubstitution, Wigan Athletic. Adam Le Fondre replaces Yanic Wildschut.\\nShaun MacDonald (Wigan Athletic) wins a free kick in the defensive half.\\nFoul by Thomas Lam (Nottingham Forest).\\nJordi Gómez (Wigan Athletic) wins a free kick in the defensive half.\\nFoul by Nicklas Bendtner (Nottingham Forest).\\nSubstitution, Nottingham Forest. Mustapha Carayol replaces Nicolao Dumitru.\\nFoul by Shaun MacDonald (Wigan Athletic).\\nBen Osborn (Nottingham Forest) wins a free kick in the defensive half.\\nYanic Wildschut (Wigan Athletic) wins a free kick on the right wing.\\nFoul by Eric Lichaj (Nottingham Forest).</td>\n",
              "      <td>Wigan ended a seven-game run without a win by beating Championship rivals Nottingham Forest in the third round of the FA Cup.</td>\n",
              "    </tr>\n",
              "    <tr>\n",
              "      <th>4</th>\n",
              "      <td>Armenia has been chosen to stage the event in 2019, and then the tournament returns to Northern Ireland after a gap of 15 years.\\nIn the 2005 event, matches were played at the grounds of Linfield, Glentoran, Ballymena, Glenavon and Newry.\\nThe finals involve eight teams and France are the holders having beaten Italy 4-0 in the 2016 final in Germany.\\nNorthern Ireland will qualify automatically in 2020 as the hosts.\\nThe tournament will be held in Georgia in 2017 and in Finland the following year.</td>\n",
              "      <td>Uefa has announced that Northern Ireland will host the European Under-19 Championship finals in 2020.</td>\n",
              "    </tr>\n",
              "  </tbody>\n",
              "</table>"
            ],
            "text/plain": [
              "<IPython.core.display.HTML object>"
            ]
          },
          "metadata": {}
        }
      ]
    },
    {
      "cell_type": "code",
      "source": [
        "# map article and summary len to dict as well as if sample is longer than 512 tokens\n",
        "def map_to_length(x):\n",
        "  x[\"article_len\"] = len(tokenizer(x[\"document\"]).input_ids)\n",
        "  x[\"article_longer_512\"] = int(x[\"article_len\"] > 512)\n",
        "  x[\"summary_len\"] = len(tokenizer(x[\"summary\"]).input_ids)\n",
        "  x[\"summary_longer_64\"] = int(x[\"summary_len\"] > 64)\n",
        "  x[\"summary_longer_128\"] = int(x[\"summary_len\"] > 128)\n",
        "  return x"
      ],
      "metadata": {
        "id": "I1SrhmjWSqd6"
      },
      "execution_count": 9,
      "outputs": []
    },
    {
      "cell_type": "code",
      "source": [
        "# random choose 10% of the dataset\n",
        "sample_size = 20000\n",
        "data_stats = train_xsum.select(range(sample_size)).map(map_to_length, num_proc=4)"
      ],
      "metadata": {
        "colab": {
          "base_uri": "https://localhost:8080/",
          "height": 106
        },
        "id": "_16udOIwTBLz",
        "outputId": "06aec1e1-840b-4d37-c218-c29903e2ac03"
      },
      "execution_count": 10,
      "outputs": [
        {
          "output_type": "stream",
          "name": "stderr",
          "text": [
            "Token indices sequence length is longer than the specified maximum sequence length for this model (539 > 512). Running this sequence through the model will result in indexing errors\n",
            "Token indices sequence length is longer than the specified maximum sequence length for this model (1076 > 512). Running this sequence through the model will result in indexing errors\n",
            "Token indices sequence length is longer than the specified maximum sequence length for this model (607 > 512). Running this sequence through the model will result in indexing errors\n",
            "Token indices sequence length is longer than the specified maximum sequence length for this model (744 > 512). Running this sequence through the model will result in indexing errors\n"
          ]
        }
      ]
    },
    {
      "cell_type": "code",
      "source": [
        "def compute_and_print_stats(x):\n",
        "  if len(x[\"article_len\"]) == sample_size:\n",
        "    print(\n",
        "        \"Article Mean: {}, %-Articles > 512:{}, Summary Mean:{}, %-Summary > 64:{}, %-Summary > 128:{}\".format(\n",
        "            sum(x[\"article_len\"]) / sample_size,\n",
        "            sum(x[\"article_longer_512\"]) / sample_size, \n",
        "            sum(x[\"summary_len\"]) / sample_size,\n",
        "            sum(x[\"summary_longer_64\"]) / sample_size,\n",
        "            sum(x[\"summary_longer_128\"]) / sample_size,\n",
        "        )\n",
        "    )\n",
        "\n",
        "output = data_stats.map(\n",
        "  compute_and_print_stats, \n",
        "  batched=True,\n",
        "  batch_size=-1,\n",
        ")"
      ],
      "metadata": {
        "colab": {
          "base_uri": "https://localhost:8080/",
          "height": 66,
          "referenced_widgets": [
            "48e03d03e07f4ca8952360a90e719e78",
            "6c2cd39d5b184402b6ef896620c2f1f8",
            "4c3b9dea74dd44d3a3d1dd7ab844b325",
            "8f45d06d3e0a4223b3ce22d32d4927a8",
            "551cbff1dfff4665ab85360cbb6a6ccc",
            "7f6b328700584f149b407b94ceed774e",
            "96f4523eb5634d358dcb4b58540ee714",
            "394d4b06a5ea45f5becceef3c6341359",
            "da962a7849f441b599e64114cf28b410",
            "6d5b5e3a6df54b4d8bf8853cdfeab8d8",
            "a9e78f068b8b4fc689bf3b545dde5823"
          ]
        },
        "id": "jE6yX9juTQc3",
        "outputId": "b0f0ab66-74be-46bb-9f96-68ba68708541"
      },
      "execution_count": 11,
      "outputs": [
        {
          "output_type": "display_data",
          "data": {
            "application/vnd.jupyter.widget-view+json": {
              "model_id": "48e03d03e07f4ca8952360a90e719e78",
              "version_minor": 0,
              "version_major": 2
            },
            "text/plain": [
              "  0%|          | 0/1 [00:00<?, ?ba/s]"
            ]
          },
          "metadata": {}
        },
        {
          "output_type": "stream",
          "name": "stdout",
          "text": [
            "Article Mean: 525.18615, %-Articles > 512:0.38325, Summary Mean:30.4454, %-Summary > 64:0.0047, %-Summary > 128:0.0002\n"
          ]
        }
      ]
    },
    {
      "cell_type": "markdown",
      "source": [
        "From the Result, we can see that for random 20000 sample (10% of training dataset), our articles has average token length of 525, and 38% is longer than 512. And the mean summary's token length is 30, almost none are longer than 64. \n",
        "\n",
        "It should be reasonable to use **512** for tokenized article length and **64** for tokenized summary length on T5-small tokenizer for Xsum dataset.\n"
      ],
      "metadata": {
        "id": "lT6Fs6Pdb-X1"
      }
    },
    {
      "cell_type": "markdown",
      "metadata": {
        "id": "uqZAjghh9UzX"
      },
      "source": [
        "##CNN/Daily"
      ]
    },
    {
      "cell_type": "code",
      "source": [
        "train_cnn = datasets.load_dataset(\"cnn_dailymail\", \"3.0.0\", split=\"train\")"
      ],
      "metadata": {
        "colab": {
          "base_uri": "https://localhost:8080/"
        },
        "id": "7qe2LTok-atw",
        "outputId": "f1feee2a-4f72-4cd2-91b1-07baf3f583de"
      },
      "execution_count": 12,
      "outputs": [
        {
          "output_type": "stream",
          "name": "stderr",
          "text": [
            "Reusing dataset cnn_dailymail (/root/.cache/huggingface/datasets/cnn_dailymail/3.0.0/3.0.0/3cb851bf7cf5826e45d49db2863f627cba583cbc32342df7349dfe6c38060234)\n"
          ]
        }
      ]
    },
    {
      "cell_type": "code",
      "source": [
        "train_cnn"
      ],
      "metadata": {
        "colab": {
          "base_uri": "https://localhost:8080/"
        },
        "outputId": "7d40efd3-4884-4bc8-f06d-5ab974f5c573",
        "id": "-P7HPqIG9Uzc"
      },
      "execution_count": 13,
      "outputs": [
        {
          "output_type": "execute_result",
          "data": {
            "text/plain": [
              "Dataset({\n",
              "    features: ['article', 'highlights', 'id'],\n",
              "    num_rows: 287113\n",
              "})"
            ]
          },
          "metadata": {},
          "execution_count": 13
        }
      ]
    },
    {
      "cell_type": "code",
      "metadata": {
        "colab": {
          "base_uri": "https://localhost:8080/",
          "height": 1000
        },
        "outputId": "55fc7788-52fc-4d54-d8a0-e09574ce5ca8",
        "id": "ISpa1ChX9Uzd"
      },
      "source": [
        "show_random_elements(train_cnn)"
      ],
      "execution_count": 14,
      "outputs": [
        {
          "output_type": "display_data",
          "data": {
            "text/html": [
              "<table border=\"1\" class=\"dataframe\">\n",
              "  <thead>\n",
              "    <tr style=\"text-align: right;\">\n",
              "      <th></th>\n",
              "      <th>article</th>\n",
              "      <th>highlights</th>\n",
              "    </tr>\n",
              "  </thead>\n",
              "  <tbody>\n",
              "    <tr>\n",
              "      <th>0</th>\n",
              "      <td>A misplaced mouse-click has been blamed for more than 200 patients temporarily 'killed off' after a major metropolitan hospital accidentally issued death notices to their family doctors. The Austin Health hospital in Heidelberg, in Melbourne's eastern suburbs, mistakenly sent out a fax to more than 200 patients saying they had died. Fortunately, the mistake was realised within hours, and Austin Health contacted each GP to alert them to the mistake and to apologise. Austin Health (left) accidentally writes off more than 200 patients as dead by sending death notices to their family doctors . It's believed GPs were alerted to the error before they had a chance to contact families, but in one case a doctor did call a family member to express their condolences. Austin health sent this letter to GPs stating their patients had died whilst an inpatient at the hospital. The health service has since apologised for the mistake . The blunder was put down to human error and came when a computer file was saved to the wrong location, substituting the death notice for the standard patient discharge form. Austin Heath communications director Taryn Sheehy said, 'Austin Health automatically notifies GPs when their patients are discharged from hospital. 'Notifications sent in the early hours of Wednesday, 30th July, incorrectly advised GPs that their patients, who had been discharged the previous day from the Austin Hospital, had died.' Ms Sheehy said 'we apologise unreservedly to affected clinics who, for the most part, were very understanding about the error.' The mix-up was not linked to the hospital's recent introduction of a new booking system, she said, and at no times did it impact on patient care . A number of GPs in Victoria have accidentally been sent death notices of their patients by Austin Health which has been blamed on human error . Dr. Tony Bartone, president of the Victorian branch of the Australian Medical Association, said the major blunder was just unacceptable. 'IT issues must not undermine patient care or trust in the Victorian healthcare system. Many of these GPs have long relationships with these patients and their families. It would have been distressing to receive such a fax, especially relating to the unexpected death of children and teenagers. It is unacceptable for failings like this to happen.' 'This serves to underline the importance of a strong and robust, state-wide IT health system. Victorians are still being denied this necessary resource.' GPs have been apologised to after Austin Health accidentally sent out death notices regarding their patients . The Victorian Labor Opposition has also weighed in and says the incident is a further sign of a hospital system in crisis. 'They obviously can't take that back, it's symptomatic of a health system that is in crisis, a health system where emergency departments are full,' said Labor leader Daniel Andrews in Melbourne. 'You talk to any nurses, any doctor, any paramedic, any patient or their loved ones, and they'll tell you that we shouldn't settle for the health system the way it is now.'</td>\n",
              "      <td>Major Victorian hospital accidentally writes off more than 200 patients as dead after one misplaced mouse click.\\nFamily doctors mistakenly sent death notices of their patients.\\nThe error was rectified within hours, the GPs contacted, and the hospital apologised.\\nThe hospital has blamed human error for the accident .\\nAMA Victoria says mistake is 'unacceptable' and 'distressing'.</td>\n",
              "    </tr>\n",
              "    <tr>\n",
              "      <th>1</th>\n",
              "      <td>By . Mark Duell . PUBLISHED: . 06:54 EST, 9 January 2014 . | . UPDATED: . 09:01 EST, 9 January 2014 . A former paratrooper has paid back £5 he borrowed from a friend 50 years ago - with £170 interest. David ‘Taffy’ Keegan lost touch with Victor Allin after they left the armed forces - but he never forgot the money 74-year-old Mr Allin lent him in 1964, and paid up as soon as they made contact again. And to make amends Mr Keegan, 73, of Sydney, Australia, sent his old friend - a great-grandfather of four from Kennington, Kent, a cheque for more than £170 - calculated at 7 per cent annual interest. Happy: Victor Allin and his wife Margaret with the cheque for £175  they were sent in payment of a £5 debt . It arrived in a Christmas card with . the note: ‘Please accept the enclosed £5 at 7 per cent compound interest . over 51 years in the spirit in which it is offered. Have a nice meal on . your interest.’ Mr Allin, . who also has 12 grandchildren, said: ‘It was such a nice shock. I’m . pleased Taffy has now salved his conscience, as he told me that it often . played on his mind.’ The two men met in 1958 when they both served with the 3rd Battalion of the Parachute Regiment. The . pair served in Cyprus, Germany, France and Bahrain, where their . aircraft was blown up on the runway by angry locals and their soup . poisoned by a rogue chef. They lost contact in 1964 and Mr Keegan moved to Sydney, where he has lived ever since. But they got back in touch last year. 'Have a nice meal': Mr Keegan sent the cheque for more than £170 in a Christmas card with this note . The . former comrades only made contact when the Allins decided to look Mr . Keegan up when they were on holiday in Prestatyn, North Wales, last year . - as they knew he had once lived there. Mr . Allin said: ‘We found the address for a Keegan and we went to see him. We asked if he knew David, and he told us it was his brother. ‘He . gave me quite a scare because he said we were 40 years too late. We . thought he had died! But it turned out he had moved away many years . ago.’ After inviting them . in, Mr Keegan's brother, John, immediately spoke David via Skype in . Sydney, to tell him his old friend had come to visit. Mr Allin said: ‘He came on the phone and the first words he said to me were “I still owe you a fiver”. I had no memory of it.’ Then and now: Mr Allin (left in left photo) and Mr Keegan (right in left) pictured during their time serving in the 3rd Battalion of the Parachute Regiment. Mr Keegan is also pictured now (right) Mr Keegan said he had needed to borrow the money because he was ‘absolutely skint’. He . said: ‘Vic was flush with funds which I suspect could only have been . amassed from a game of poker or a successful visit to the White City . greyhounds. ‘As our pay at . the time was four pound ten shillings plus an extra eight shillings a . week for jumping out of planes, you can imagine what the ten pounds he . lent me meant at the time.’ ‘I . managed to repay Vic half of what I owed him in 1964, leaving a fiver . to be repaid at a later date. Time marched on and as often happens . between good mates we lost touch with each other. ‘We . have stayed in touch since and I am looking forward to shaking his hand . when I visit him and his wife later this month whilst on my way to . Paris. ‘The idea of facing . him still owing him a fiver was too embarrassing, so I decided to repay . him with interest before I arrived in Ashford.’ Going up: The cheque was sent from Australia for more than £170 - calculated at 7 per cent annual interest . In . his Christmas card to Mr Allin, Mr Keegan also wrote: ‘When I left for . Paris in 1962 I owed you £10. I repaid a fiver when I saw you in . Aldershot in 1964 on my way to Tokyo for the 1964 Games.’ Mr Allin says he will spend his interest on a meal for the pair at the Eastwell Manor Hotel in Kent. 'Please accept the enclosed £5 at 7 per cent compound interest over 51 years in the spirit in which it is offered. Have a nice meal on your interest' David Keegan's note . He . added: ‘I'm really looking forward to seeing him. It is an exciting . time. It will probably be the one and only time we see each other again. The cheque was a by-product really, the best thing is that we're now . back in touch.’ Mr Keegan, who has lived in Sydney since 1973, added that he had always felt guilty about the debt. He said: ‘Many is the time I woke worrying about owing a good mate a loan given without hesitation when I most needed it. ‘Imagine . my surprise when I worked out that £5 at compound interest over the . time meant I had to repay Vic one hundred and seventy pounds and seventy . five pence. ‘I suppose the moral of the story is, don’t wait 50 years to repay an old mate a fiver.’</td>\n",
              "      <td>David Keegan lost touch with Victor Allin after they left the armed forces .\\nBut he remembered 1964 loan and paid up when they got back in touch .\\nKeegan sent cheque for more than £170, calculated at 7% annual interest .</td>\n",
              "    </tr>\n",
              "    <tr>\n",
              "      <th>2</th>\n",
              "      <td>By . Daily Mail Reporter . Last updated at 2:58 AM on 29th February 2012 . NASCAR racer Brad Keselowski drove right into the heart of the Twitterati during Monday's delayed Daytona 500 by tweeting from his car and picking up over 100,000 Twitter followers in the process. Before the race, Keselowski had about . 65,000 followers on the social networking site. About 24 hours later, he . had more than 212,000. He started by posting a photo of his view of the incident where a jet-dryer truck that erupted in a fireball after it was hit by driver Juan Pablo Montoya with 40 laps remaining. Scroll down for video . View from the driver's seat: Keselowski tweeted this image of what he saw during the massive inferno at the Daytona International Speedway . Trailblazer: Keselowski's interactive approach to the race was not only a hit with the thousands of fans who followed his tweets but some of his rivals . The 28-year-old tweeted quick . reactions to incidents in the race and shared his phone with . fellow drivers during the two-hour break as the track was cleared of the . truck. 'Nothing we could do there,' he posted. 'Never saw the wreck till we were windshield deep.' Twitter in the driver's seat: Brad Keselowski went from 52,000 Twitter followers to well over 212,000 as he from the track . He also interacted with fans and posted various musings about the delayed race. The Dodge driver took advantage of several breaks in the race to keep his followers updated. After a brief lapse in tweets, he told a concerned fan: 'Still here bs-ing w other drivers'. Most . professional sports ban competitors from tweeting during events but . NASCAR, keen to make ground in social media, has taken a more lenient . attitude. Keselowski's interactive approach was not only a hit with the thousands of fans who followed his tweets but his rivals also approved. 'Time to get back racing, thank you for following!,' Keselowski wrote. 'That's how Brad is. That's what he makes and what he enjoys,' runner up Dale Earnhardt Jr told reporters. 'I thought it was pretty funny.' Keselowski finished 32nd in the race won by Matt Kenseth after being involved in a group collision late in the race. 'Nothing we could do there... never saw the wreck till we were windshield deep,' he tweeted. Everything that could go wrong with NASCAR's marquee race, which finished last night, did. Speed: Keselowski, top, finished in 32nd place in the Daytona 500 on Monday night, a race delayed several times due to rain and a massive fire on the track . Victory: Matt Kenseth capped a crazy 36 hours for NASCAR by winning the first postponed Daytona 500 in 55 editions of the marquee event . Journeyman . driver Dave Blaney was leading when a problem with Juan Pablo Montoya's . car sent him spinning under caution into a safety truck. The truck, which holds 200 gallons of jet kerosene, burst into flames. Montoya's car slid into the grass, and he gingerly climbed from it as fire trucks rushed to the scene. The inferno raged on, and NASCAR red-flagged the race with 40 laps remaining. Blaze: Safety crews try to extinguish a fire from a jet dryer after it was hit by Juan Pablo Montoya during the Daytona 500 . Rescue: The driver of the jet dryer is helped down the track as leaking fuel bursts into flames after being hit by Juan Pablo Montoya . Safe: Juan Pablo Montoya walks from his burning car after it collided with a track-drying truck during the NASCAR Daytona 500 auto race . NASCAR officials were examining the track surface to determine whether the race could continue. 'About the time you think you've seen about everything, you see something like this,' NASCAR president Mike Helton said. 'I . think we, like everybody else, would like to see this race finished. This is within reason, and we think we can do that within reason. 'We've waited this long. Another 30 minutes is worth trying to finish the 40 laps.' Jet fuel poured down the surface of Turn 3 at Daytona International Speedway after the accident, creating a fiery lasting image of NASCAR's biggest race of the year. Hazard: Jet fuel from the truck poured down the surface of Turn 3 at Daytona International Speedway after the accident, creating a fiery lasting image of NASCAR's biggest race of the year . Battling the blaze: Safety workers try to extinguish a fire from a jet dryer after it was hit by Juan Pablo Montoya, grinding the Daytona 500 to a halt . The clean-up crews were using boxes of Tide laundry detergent to clean up the fuel. It . was par for the course for this Daytona 500, which had already been postponed for . the first time in NASCAR's 54-year history because of steady rain all . day Sunday at the track. NASCAR . initially planned to restart the race at noon Monday, but persistent . rain forced series officials to make an early decision to hold off until . 7pm. What's the damage? Montoya's team looks over his wrecked car after he collided with a jet dryer truck during the Daytona 500 . Speaking out: Juan Pablo Montoya talks to reporters after the massive crash . Carl Edwards, who fell just short of . winning the title last season, started from the pole with champion Tony . Stewart, seeking to snap an 0-for-13 losing streak in the Daytona 500, . right behind him. Danica Patrick, making the full-time move to NASCAR from IndyCar, was making her Daytona 500 debut. Those storylines, however, were quickly forgotten in this bizarre 55th running of NASCAR's version of the Super Bowl. It took several minutes for safety workers to put out the fire, and then came the task of removing the truck from the track and cleaning up all that spilled fuel. Rinse, repeat: The clean-up crews were using boxes of Tide laundry detergent and a lot of water to clean up the fuel on the track at the Daytona International Speedway . Towing the truck from the steep . banking presented a challenge, as NASCAR was nervous any movement would . dig into the track surface. Montoya, who said his helmet was singed in the fire and his foot ached, said he felt a vibration in his car before the accident. 'I've . hit a lot of things - but a jet dryer?' he said. 'It just felt really . strange, and as I was talking on the radio, the car just turned right.' The drivers were allowed to exit their cars after about 10 minutes under the red flag. Red-flagged: The race was halted with just 40 laps to go as firefighters battled the flames erupting from the jet dryer . Trouble on the track: Danica Patrick (right), Kurt Busch (left), David Ragan (second from left) and Jimmie Johnson (second from right) crashed into each other shortly after the race began . The racing was aggressive at the drop of the green flag, and the first accident occurred on just the second lap, when Elliott Sadler ran into the back of Jimmie Johnson as they drafted around the track. The contact sent Johnson into the wall, and as the five-time NASCAR champion slid back down across the track, he was hit hard in the door by David Ragan. The accident collected six cars total, including defending Daytona 500 winner Trevor Bayne and Danica Patrick. 'I'm just really, really bummed to start the season this way,' Johnson said. 'To work as hard as everyone did at Hendrick Motorsports to get this Lowe's Chevrolet and to have it barely complete two-and-a-half miles of green flag racing is pretty sad. We'll just go on and go to Phoenix and set our marks on winning that race.' TV event: The race was the first-ever Daytona 500 shown in primetime and a golden opportunity to feature the elite Sprint Cup Series . Star-studded event: Attendees at this year's Daytona 500 included Glee star Jane Lynch and Sports Illustrated swimsuit cover girl Kate Upton . Bringing the noise: Rocker Lenny Kravitz also attended the event, bringing along a Daytona 500-themed Gibson guitar . Watch video here .</td>\n",
              "      <td>Keselowski, who finished in 32nd place, took to Twitter to interact with his followers .\\nMatt Kenseth won race that was delayed several times .\\nRace was halted after rain and a massive fire sparked by Juan Pablo Montoya crashing into a jet-dryer truck .</td>\n",
              "    </tr>\n",
              "    <tr>\n",
              "      <th>3</th>\n",
              "      <td>(CNN) -- The Amazon rainforest is so vast and full of life that even its defenders don't know exactly what it is they are protecting. In the past 40 years, roughly 20 percent of the Amazon rainforest has been wiped out. \"The wealth of biodiversity is so immense, we cannot even estimate the amount we don't know,\" says Cláudio C. Maretti, Brazil-based director for conservation for the World Wildlife Fund. \"Every new expedition you do to the Amazon, you might find one new species of fish. Every other, you might find some new bird or frog.\" The Amazon rainforest, which encompasses an area nearly as large as the continental United States and stretches across nine countries, is considered the world's richest and most varied natural habitat, with several million species of insects, plants, birds and fish calling it home. It also plays an important role in regulating Earth's temperature as its dense vegetation absorbs carbon dioxide and releases oxygen into the air. But the Amazon has been under pressure from outside forces for decades. In the past 40 years, roughly 20 percent of the rainforest has been wiped out. Maretti says an additional 17 percent has been degraded to varying degrees. \"We have been deforesting at enormous rates,\" Maretti says. The chief drivers of this deforestation are large-scale business interests involved in logging, mining, agriculture and, especially, cattle ranching. Some of this activity is sanctioned by the government; much of it is not. Greenpeace estimates as much as 80 percent of the logging is illegal. The Amazon rainforest is just one of many habitats around the world threatened by encroaching development or natural resource extraction. The Food and Agriculture Organization (FAO) of the United Nations estimates that 50,000 square miles of forest -- more than three times the size of Switzerland -- are lost each year because of clearing and degradation. The threat is particularly acute in the more tropical areas of South America, Africa and Southeast Asia. Cambodia, for example, lost nearly 30 percent of its primary forests from 2000 to 2005, according to FAO. Vietnam lost close to 55 percent of its primary forests, FAO found. And Nigeria lost nearly 56 percent of its primary forests over the same period, the worst rate of forest loss in the world, according to FAO. The destruction of the Earth's oldest and richest forests is not a new phenomenon, but the rate of destruction has increased in recent decades. \"Worldwide, one-half of all forests we've lost in the last 10,000 years has occurred in the last 80 years. Half of that was destroyed in the last 30 years,\" says Scott Paul, Forest Campaign Coordinator for Greenpeace. Paul says the chief driver of forest destruction is the buying and selling of forest products and farm products in the international market, not to meet local needs. \"The timber market, and also for agriculture, mining: When it plugs into the international economic system, that's when you've got to watch it,\" he says. Paul would like to see a certification system so that consumers know the source and conditions under which the product they're consuming was harvested. \"If you buy wine and cheese, we can tell the region and the year. But forest products have always been cut in remote and distant areas and thrown in a pipe and spit out on the other side. There is no way to determine if something came from a well-managed forest or an illegal forest where there is slavery, murder, drug trade, etc.,\" he says. While the story of the world's old-growth forests would appear to be one of unremitting destruction, forests lost to logging and agriculture are actually growing back in some areas, such as the northeast region of the United States and parts of Europe. This thrills some wildlife advocates who would like to see the restoration of exiled or decimated species. \"Northern New England is the only place in the eastern United States where you have the potential for large-scale wilderness where wolves, lynxes, cougars, woodland caribou and salmon rivers could be restored,\" according to Michael J. Kellett, executive director of RESTORE: The North Woods. \"We could literally have almost the entire ecosystem of the Maine woods as it once was.\" With large-scale agriculture all but gone from New England and logging companies concentrating their attention elsewhere, Kellett's biggest fear is that real estate development could begin to carve up the vast forests of Maine. His proposed solution: create a national park. In Brazil in recent years, the government reportedly has stepped up efforts to slow the Amazon's destruction. Last October, Brazil said the rate of deforestation plunged 41 percent because of the enforcement of environmental laws. Environmental groups say the drop also was caused by the fall of soy prices and the rise of Brazil's currency against the dollar, making the country's exports more expensive. The World Wildlife Fund's Maretti is hopeful that Brazil, with international help, will be able to protect even more of the Amazon, an area he considers among the most vital natural habitats in the world. \"We do have strong civil society. We do have more governance,\" Maretti says. \"But we certainly need support from abroad. I don't believe Brazil can do this job alone.\" E-mail to a friend .</td>\n",
              "      <td>UN: More than 50,000 square miles of forest lost each year .\\nMost trees cut down for international sale .\\nSome forests making comeback in U.S., Europe .</td>\n",
              "    </tr>\n",
              "    <tr>\n",
              "      <th>4</th>\n",
              "      <td>(CNN) -- The Cannes Film festival, which kicked off Wednesday on the French Riviera, is an Olympics of cinema, where endurance matters as much as victory to the 30,000 industry insiders who attend each year. The festival was conceived in the late 1930s as a reaction against Italian dictator Benito Mussolini promoting fascist-Italian and national-socialist German films at the Venice Film Festival. Its first edition, planned in September 1939, was delayed by war till 1946 but its ideals remained the same: to show films from all over the world without prejudice of any sort. But today Cannes jostles in the crowded film industry schedules with other A-list events: Toronto (and Venice) act as Fall launchpads for the following year's awards season, while Sundance is at the vanguard of independent cinema and new talent. Meanwhile the Oscars are considered by many as the supreme accolade of the movie business. Cannes still regards itself as the grande dame of film events the world over -- but does it still matter? The festival, which this year celebrates its 67th edition, stands firmly apart -- and, some would argue, above -- the rest of the crowd. This comes in part from its original ambition, as put by the festival's first president, poet Jean Cocteau: \"The Cannes Film Festival is an apolitical no man's land, a microcosm of what the world would be like if people could make direct contact with one another and speak the same language.\" For Cannes is to cinema what the motto \"liberte, egalite, fraternite\" (\"liberty, egality, fraternity\") is to France: an aspiration, an ideal, an inclusive forum for all talents, old and new, coming from all over the world, and motivated by one common love: films. Without prejudices. In its early years Cannes was nothing more than a social event where stars mingled on the red carpet. Everyone smiled for the camera and everyone went home happy as almost every film received some kind of an award. Then, Cannes raised its game. First came the Palme d'Or, its top award, given in 1955 and rivaling the Oscars as the most prestigious prize in the film industry. In 1972, the festival declared its independence by setting up its own selection committee: until then, each country had chosen the films which would represent them at Cannes, as still happens with the Oscars' best foreign film category. The selection of features became more discerning, the awards became fewer in number -- and success at the festival became ever more elusive. But if the Cannes glamor of the 1950s and 1960s lingers still, the festival's reputation for passion and controversy has only increased. The entertainment industry is notorious for controlling its sometimes unruly talents, with PR agencies operating like war machines and publicity a matter of life and death at the box office. In contrast Cannes is a unique place for unleashing imagination and wildness. The mix of glamor and high art, frivolity and seriousness combine to make Cannes a temple to cinema like no other. For Cannes is where directors will throw tantrums and tell critics to go to hell in no uncertain terms; where the winner of the Palme d'Or can be booed, as happened to film-maker Maurice Pialat in 1987 when he collected the coveted prize for \"Under the Sun;\" and where a talent like Danish maverick Lars Von Trier can express sympathy at a press conference for Adolf Hitler, then apologize, then be kicked out of the festival by the organizers (he later withdrew his apology). It is also an event which has always embraced the times. In 1968, while students in Paris were rioting and building barricades, the enfants terribles of the French New Wave -- including François Truffaut and Jean-Luc Godard -- canceled the awards ceremony and turned the festival into a giant marketplace. In 2004, Michael Moore's \"Fahrenheit 9/11\" -- which criticized U.S. foreign policy -- became the first documentary to win the Palme d'Or from a festival jury which numbered more Americans than French. For directors and actors, success at Cannes is the Nobel Prize that they secretly covet. And for the 2,500 or so film critics -- who for 12 days start watching their first film at 8am and their last one just after midnight -- it is the most frantic and rewarding time, when masterpieces are seen for the first time and talents speak freely. Q. Can art really get any more expensive? A. 'We will see a billion dollar work' Can any train ride match the Orient Express for glamor and sheer romance? Scrap metal find turns out to be $33 million Faberge golden egg .</td>\n",
              "      <td>Film critic Agnes Poirier: The Cannes Film Festival is the Olympics of cinema .\\nIt was created as a reaction against Italian dictator Mussolini promoting fascist-Italian films .\\nPoirier: At Cannes directors are free to throw tantrums and tell critics what they really think .\\nToday success at Cannes is the Nobel Prize directors and actors secretly covet, says Poirier .</td>\n",
              "    </tr>\n",
              "  </tbody>\n",
              "</table>"
            ],
            "text/plain": [
              "<IPython.core.display.HTML object>"
            ]
          },
          "metadata": {}
        }
      ]
    },
    {
      "cell_type": "code",
      "source": [
        "# map article and summary len to dict as well as if sample is longer than 512 tokens\n",
        "def map_to_length(x):\n",
        "  x[\"article_len\"] = len(tokenizer(x[\"article\"]).input_ids)\n",
        "  x[\"article_longer_512\"] = int(x[\"article_len\"] > 512)\n",
        "  x[\"summary_len\"] = len(tokenizer(x[\"highlights\"]).input_ids)\n",
        "  x[\"summary_longer_64\"] = int(x[\"summary_len\"] > 64)\n",
        "  x[\"summary_longer_128\"] = int(x[\"summary_len\"] > 128)\n",
        "  return x"
      ],
      "metadata": {
        "id": "_iU6nt3I9Uzd"
      },
      "execution_count": 15,
      "outputs": []
    },
    {
      "cell_type": "code",
      "source": [
        "sample_size = 25000\n",
        "data_stats = train_cnn.select(range(sample_size)).map(map_to_length, num_proc=4)"
      ],
      "metadata": {
        "colab": {
          "base_uri": "https://localhost:8080/",
          "height": 106
        },
        "outputId": "70840be2-062c-49e6-a155-bb9268d91b5c",
        "id": "YugtPs-u9Uzd"
      },
      "execution_count": 16,
      "outputs": [
        {
          "output_type": "stream",
          "name": "stderr",
          "text": [
            "Token indices sequence length is longer than the specified maximum sequence length for this model (2116 > 512). Running this sequence through the model will result in indexing errors\n",
            "Token indices sequence length is longer than the specified maximum sequence length for this model (1515 > 512). Running this sequence through the model will result in indexing errors\n",
            "Token indices sequence length is longer than the specified maximum sequence length for this model (954 > 512). Running this sequence through the model will result in indexing errors\n",
            "Token indices sequence length is longer than the specified maximum sequence length for this model (1574 > 512). Running this sequence through the model will result in indexing errors\n"
          ]
        }
      ]
    },
    {
      "cell_type": "code",
      "source": [
        "def compute_and_print_stats(x):\n",
        "  if len(x[\"article_len\"]) == sample_size:\n",
        "    print(\n",
        "        \"Article Mean: {}, %-Articles > 512:{}, Summary Mean:{}, %-Summary > 64:{}, %-Summary > 128:{}\".format(\n",
        "            sum(x[\"article_len\"]) / sample_size,\n",
        "            sum(x[\"article_longer_512\"]) / sample_size, \n",
        "            sum(x[\"summary_len\"]) / sample_size,\n",
        "            sum(x[\"summary_longer_64\"]) / sample_size,\n",
        "            sum(x[\"summary_longer_128\"]) / sample_size,\n",
        "        )\n",
        "    )\n",
        "\n",
        "output = data_stats.map(\n",
        "  compute_and_print_stats, \n",
        "  batched=True,\n",
        "  batch_size=-1,\n",
        ")"
      ],
      "metadata": {
        "colab": {
          "base_uri": "https://localhost:8080/",
          "height": 66,
          "referenced_widgets": [
            "73fcec6f0e3f45ff87c23e5fafc743dd",
            "07eb69f91f54439f88cf707fb53d6725",
            "256d6f701bd34db8a5dba77034ab693c",
            "4db192b0cba049078c492081d52d3a51",
            "8f2a8838ecdd4b619d0ee7f9cfabfdb5",
            "e3e70c77b7c442e8967ae11de1fbe310",
            "a88788520d244f608adfe6dd1d9edd68",
            "56f1142880424aa8b94ddc68dea2a911",
            "c33b68072d354e77ae087d83c803a261",
            "14928d48554e4f149b4ea37c2ca06b40",
            "c28ba8abd7e1483d8679a90f73309689"
          ]
        },
        "outputId": "aa1da889-8058-401c-974f-02d24c11f5c8",
        "id": "o0NtfKNq9Uzd"
      },
      "execution_count": 17,
      "outputs": [
        {
          "output_type": "display_data",
          "data": {
            "application/vnd.jupyter.widget-view+json": {
              "model_id": "73fcec6f0e3f45ff87c23e5fafc743dd",
              "version_minor": 0,
              "version_major": 2
            },
            "text/plain": [
              "  0%|          | 0/1 [00:00<?, ?ba/s]"
            ]
          },
          "metadata": {}
        },
        {
          "output_type": "stream",
          "name": "stdout",
          "text": [
            "Article Mean: 923.15184, %-Articles > 512:0.77716, Summary Mean:66.51544, %-Summary > 64:0.55212, %-Summary > 128:4e-05\n"
          ]
        }
      ]
    },
    {
      "cell_type": "markdown",
      "source": [
        "We can see that on average an article contains 923 tokens with 3/4 of the articles being longer than 512. The summary is on average 66 tokens long. Over half of our 25000-sample summaries are longer than 64 tokens, and almost none are longer than 128 tokens.\n",
        "\n",
        "Since T5 has not hard limit of `max_length` on tokenizer, It should be reasonable to use **1024** for tokenized article length and **128** for tokenized summary length on T5-small tokenizer for CNN/Daily dataset."
      ],
      "metadata": {
        "id": "eIUQGxSZdo6S"
      }
    },
    {
      "cell_type": "markdown",
      "source": [
        "##Wikihow"
      ],
      "metadata": {
        "id": "roK9OjTrWFh7"
      }
    },
    {
      "cell_type": "code",
      "source": [
        "from google.colab import drive\n",
        "drive.mount('/content/drive')"
      ],
      "metadata": {
        "colab": {
          "base_uri": "https://localhost:8080/"
        },
        "id": "dkc0b8tZVBKu",
        "outputId": "05e10ef6-c330-4b1f-dbea-51be6060ab42"
      },
      "execution_count": 20,
      "outputs": [
        {
          "output_type": "stream",
          "name": "stdout",
          "text": [
            "Mounted at /content/drive\n"
          ]
        }
      ]
    },
    {
      "cell_type": "code",
      "source": [
        "!ls /content/drive/MyDrive/dataset"
      ],
      "metadata": {
        "id": "sMf94moM54LR",
        "colab": {
          "base_uri": "https://localhost:8080/"
        },
        "outputId": "06669990-dd7f-47f0-c46c-c659d38e8d6a"
      },
      "execution_count": 21,
      "outputs": [
        {
          "output_type": "stream",
          "name": "stdout",
          "text": [
            "wikihowAll.csv\n"
          ]
        }
      ]
    },
    {
      "cell_type": "code",
      "metadata": {
        "colab": {
          "base_uri": "https://localhost:8080/",
          "height": 104,
          "referenced_widgets": [
            "b02d1b7229b04aec8116c32a62104227",
            "5487c012d8764feab9262e0a2f4351ae",
            "63484017c3f04f8d86457df7d3999443",
            "3a03a0147d8d47819befc438efa91385",
            "151c7d58f8534d169ea6c1d00bab8d49",
            "a20e5b25b7644d6caf673822848e9a44",
            "8c91b8c222a346e2bc24a11e030c9062",
            "63f79b682045421b88994871e8ba89cf",
            "e8a607a3cd7a41dbbec7bc5065f28eaf",
            "97071cc2408042ce9cf399499da84330",
            "4d198b002cae41009193de6cc8798478"
          ]
        },
        "outputId": "44af933a-a7e3-42eb-9752-14522161e402",
        "id": "JYOnGtMKWTXl"
      },
      "source": [
        "# import dataset and metrics with huggingface\n",
        "dataset_wiki = datasets.load_dataset(\"wikihow\", \"all\", \"/content/drive/MyDrive/dataset\")"
      ],
      "execution_count": 18,
      "outputs": [
        {
          "output_type": "stream",
          "name": "stderr",
          "text": [
            "Using custom data configuration all-6f5101161f12f62f\n",
            "Reusing dataset wikihow (/root/.cache/huggingface/datasets/wikihow/all-6f5101161f12f62f/1.2.0/5343fc81d685acaa086c9cc19eb8706206cd1f8b315792b04c1d7b92091c305e)\n"
          ]
        },
        {
          "output_type": "display_data",
          "data": {
            "application/vnd.jupyter.widget-view+json": {
              "model_id": "b02d1b7229b04aec8116c32a62104227",
              "version_minor": 0,
              "version_major": 2
            },
            "text/plain": [
              "  0%|          | 0/3 [00:00<?, ?it/s]"
            ]
          },
          "metadata": {}
        }
      ]
    },
    {
      "cell_type": "code",
      "source": [
        "train_wiki=dataset_wiki['train']\n",
        "train_wiki"
      ],
      "metadata": {
        "colab": {
          "base_uri": "https://localhost:8080/"
        },
        "outputId": "92dcf47a-9673-4b7c-fe30-d64a3f524522",
        "id": "i41s0JvoWTXm"
      },
      "execution_count": 19,
      "outputs": [
        {
          "output_type": "execute_result",
          "data": {
            "text/plain": [
              "Dataset({\n",
              "    features: ['text', 'headline', 'title'],\n",
              "    num_rows: 157252\n",
              "})"
            ]
          },
          "metadata": {},
          "execution_count": 19
        }
      ]
    },
    {
      "cell_type": "code",
      "metadata": {
        "colab": {
          "base_uri": "https://localhost:8080/",
          "height": 1000
        },
        "outputId": "599e0d58-8fae-4c68-856e-08f381de5ed5",
        "id": "EmV_kZz6WTXm"
      },
      "source": [
        "# Visualize the Data\n",
        "\n",
        "import random\n",
        "import pandas as pd\n",
        "from IPython.display import display, HTML\n",
        "\n",
        "def show_random_elements(dataset, num_examples=5):\n",
        "    assert num_examples <= len(dataset), \"Can't pick more elements than there are in the dataset.\"\n",
        "    picks = []\n",
        "    for _ in range(num_examples):\n",
        "        pick = random.randint(0, len(dataset)-1)\n",
        "        while pick in picks:\n",
        "            pick = random.randint(0, len(dataset)-1)\n",
        "        picks.append(pick)\n",
        "    \n",
        "    df = pd.DataFrame(dataset[picks])\n",
        "    for column, typ in dataset.features.items():\n",
        "        if isinstance(typ, datasets.ClassLabel):\n",
        "            df[column] = df[column].transform(lambda i: typ.names[i])\n",
        "    display(HTML(df.to_html()))\n",
        "\n",
        "show_random_elements(train_wiki)"
      ],
      "execution_count": 20,
      "outputs": [
        {
          "output_type": "display_data",
          "data": {
            "text/html": [
              "<table border=\"1\" class=\"dataframe\">\n",
              "  <thead>\n",
              "    <tr style=\"text-align: right;\">\n",
              "      <th></th>\n",
              "      <th>text</th>\n",
              "      <th>headline</th>\n",
              "      <th>title</th>\n",
              "    </tr>\n",
              "  </thead>\n",
              "  <tbody>\n",
              "    <tr>\n",
              "      <th>0</th>\n",
              "      <td>Lock the included strap to lessen loss of camera, discourage theft.\\n\\n\\nIt is a rugged and weatherproof camera designed for extended outdoor use.\\nTake pictures each \"time-stamped\" (with the date and time it was recorded).\\n It is sold for hunters for instance to record and view deer, moose or bear, etc. that have been in a clearing, pasture or on an animal/game trail.\\n\\n\\nUse these unmanned cameras activated by motion to learn where game is located -- useful for \"preseason scouting\", finding good hunting locations, based on images on camera. Record images, either as a still photograph or a video.\\n,,\\n\\n\\nTake pictures of the same moment/place, as desired.\\n\\n\\n\\nDigital pictures instead of film, or\\nFilm to get developed, usually 35mm -- instead of digital memory,\\nLaser aim uses a red light beam to focus at a location to take the image,\\nStrobe flash (incandescent flash) that will reach out to 15 feet (4.6 m) for nighttime images.\\n, Some game cameras give choices of settings for regular flash or stealthy LED (IR) flash.\\n\\n\\nLED (Infrared) flash allows you to image game at night without visible flash. So, flash does not give away the camera position to others observing the different hunting areas. Some models have a manual switch to set an infrared imaging (filter) to day or night mode.</td>\n",
              "      <td>Use the strap that allows it to be hung from a tree (for example).\\nUse the camera for images of game-animals.\\nUse these functions day and/or night by sensing motion out to about 45 feet (13.7 m).\\n\\n,\\nUse information as a hunter to best place a deer-blind or tree-stand for example:\\n\\n\\nIn areas with limited viewing access,\\nTight spaces (such as thickets) where a person can not stay,\\n\\n,\\nTake images from more than one camera, at chosen angles, automatically.\\nChoose film or digital cameras.\\nGet stealth, night-view images with infrared (IR), sometimes available alone or in addition to strobe flash in the same camera,\\n\\n\\nSound producing can send out \"game calls or sounds to attract\" any of a wide choice of animals, with sounding intervals adjustable from 1 to 24 hours.\\n\\n,\\nDecide on how the camera will be set up, regarding timing as a new photo can, perhaps, be taken each/every 30 seconds for as long as the motion (or sensing heat) events are detected.</td>\n",
              "      <td>How to Use a Game Camera Hunters Trail Camera1</td>\n",
              "    </tr>\n",
              "    <tr>\n",
              "      <th>1</th>\n",
              "      <td>Freeware are free programs that anyone can download and install without paying. Some are open source, and some are “lite” versions of paid products. Many freeware projects are created by dedicated community members and enthusiasts.\\n\\n\\nAlways read the privacy policies and terms of service for freeware products. Ensure that your private data is not being used for marketing or tracking purposes.\\n There are a large number of freeware hosting sites that can give you download links for the software you want. Try to check the developer’s page to make sure that you are getting the latest version.</td>\n",
              "      <td>Browse freeware hosting sites.\\nDownload the program from a reputable host, or directly from the developer.</td>\n",
              "      <td>How to Legally Download Software Online2</td>\n",
              "    </tr>\n",
              "    <tr>\n",
              "      <th>2</th>\n",
              "      <td>Brown spots are harmless, but they can be mistaken for skin cancer. It’s always a good idea to have any spots on your skin checked by a dermatologist. Once your dermatologist has verified that the spots are merely cosmetic, you can take measures to reduce the appearance of the spots.\\n Dermatologists often talk about the “ABCDEs” of skin cancer-- ways to distinguish between skin cancer and a benign (non-cancerous) growth. Skin cancer tends to be:Assymetric\\nWith uneven Borders (edges)\\nWith varied Colors (Different shades of brown, black and tan)\\nLarger in Diameter (&gt;¼ inch or &gt; 6mm)\\n\\nEvolving (changing) in size, shape, color, how much above the skin surface they are raised etc)\\n\\n, Most cancerous spots are marked by change, so keeping track of the way your skin looks can help you with early detection. Depending on factors such as time spent exposed to UV rays and family history, you may need to have your skin checked regularly by a professional dermatologist.</td>\n",
              "      <td>Visit a dermatologist.\\nLearn your ABCDEs.\\nLook over your skin regularly.</td>\n",
              "      <td>How to Get Rid of Brown Spots Using Home Remedies4</td>\n",
              "    </tr>\n",
              "    <tr>\n",
              "      <th>3</th>\n",
              "      <td>Copy the URL.\\n\\n\\nYou may copy a URL by highlighting it and either right-clicking then choosing \"copy\" or by pressing CTL+C on your keyboard.\\n, Then click on \"Post.\" You will see that you can play the video directly from Facebook.\\n\\n\\nTo past the URL, you may either right-click and choose \"paste\" or press CTL+V on your keyboard.</td>\n",
              "      <td>Find your video's URL (typically in the top bar of your browser).\\nNavigate and log into Facebook.\\n\\n,\\nPaste the URL as a status update.</td>\n",
              "      <td>How to Share Videos on Facebook3</td>\n",
              "    </tr>\n",
              "    <tr>\n",
              "      <th>4</th>\n",
              "      <td>Remove each piece of tape from the edge of the table and apply it across the width of each of your nails. Press the tape onto your nails and into the edge of your nails near your cuticle so that you can make the chevron design go all the way across your nails.\\n Use a second color of nail polish to paint over your entire nail and the tape. Make sure that the second coat is thick enough to completely cover the first color. Do not allow the second coat to dry before you remove the tape.\\n Pull the tape strips off from your nails. Begin by pulling at the edges of the tape and continue to pull until you have removed the tape strip .\\n\\n\\n\\n\\n\\n\\n\\n\\n\\nMake sure that you pull off the tape while your nails are still wet. You may want to only do one fingernail at a time to make sure the polish doesn’t dry.\\nMake sure that you pull off the tape while your nails are still wet. You may want to only do one fingernail at a time to make sure the polish doesn’t dry., After you have removed the strips, paint over your entire nail with a clear top coat. Let the polish dry all the way before doing anything that might mess up your nails.\\n</td>\n",
              "      <td>Apply tape strips to your nails.\\nPaint over the tape with a different color of nail polish.\\nRemove tape strips.\\nApply a clear top coat.\\nFinished.</td>\n",
              "      <td>How to Do Chevron Nails2</td>\n",
              "    </tr>\n",
              "  </tbody>\n",
              "</table>"
            ],
            "text/plain": [
              "<IPython.core.display.HTML object>"
            ]
          },
          "metadata": {}
        }
      ]
    },
    {
      "cell_type": "code",
      "source": [
        "# map article and summary len to dict as well as if sample is longer than 512 tokens\n",
        "def map_to_length(x):\n",
        "  x[\"article_len\"] = len(tokenizer(x[\"text\"]).input_ids)\n",
        "  x[\"article_longer_512\"] = int(x[\"article_len\"] > 512)\n",
        "  x[\"summary_len\"] = len(tokenizer(x[\"headline\"]).input_ids)\n",
        "  x[\"summary_longer_64\"] = int(x[\"summary_len\"] > 64)\n",
        "  x[\"summary_longer_128\"] = int(x[\"summary_len\"] > 128)\n",
        "  return x"
      ],
      "metadata": {
        "id": "AHk6oLzFWTXm"
      },
      "execution_count": 21,
      "outputs": []
    },
    {
      "cell_type": "code",
      "source": [
        "sample_size = 20000\n",
        "data_stats = train_wiki.select(range(sample_size)).map(map_to_length, num_proc=4)"
      ],
      "metadata": {
        "colab": {
          "base_uri": "https://localhost:8080/",
          "height": 106
        },
        "outputId": "8d070391-ac89-4ecb-dd32-4ec78f88efc7",
        "id": "ewi-AfH4WTXm"
      },
      "execution_count": 22,
      "outputs": [
        {
          "output_type": "stream",
          "name": "stderr",
          "text": [
            "Token indices sequence length is longer than the specified maximum sequence length for this model (785 > 512). Running this sequence through the model will result in indexing errors\n",
            "Token indices sequence length is longer than the specified maximum sequence length for this model (807 > 512). Running this sequence through the model will result in indexing errors\n",
            "Token indices sequence length is longer than the specified maximum sequence length for this model (885 > 512). Running this sequence through the model will result in indexing errors\n",
            "Token indices sequence length is longer than the specified maximum sequence length for this model (600 > 512). Running this sequence through the model will result in indexing errors\n"
          ]
        }
      ]
    },
    {
      "cell_type": "code",
      "source": [
        "def compute_and_print_stats(x):\n",
        "  if len(x[\"article_len\"]) == sample_size:\n",
        "    print(\n",
        "        \"Article Mean: {}, %-Articles > 512:{}, Summary Mean:{}, %-Summary > 64:{}, %-Summary > 128:{}\".format(\n",
        "            sum(x[\"article_len\"]) / sample_size,\n",
        "            sum(x[\"article_longer_512\"]) / sample_size, \n",
        "            sum(x[\"summary_len\"]) / sample_size,\n",
        "            sum(x[\"summary_longer_64\"]) / sample_size,\n",
        "            sum(x[\"summary_longer_128\"]) / sample_size,\n",
        "        )\n",
        "    )\n",
        "\n",
        "output = data_stats.map(\n",
        "  compute_and_print_stats, \n",
        "  batched=True,\n",
        "  batch_size=-1,\n",
        ")"
      ],
      "metadata": {
        "colab": {
          "base_uri": "https://localhost:8080/",
          "height": 66,
          "referenced_widgets": [
            "ad86eb9f3a5148d98bec154d440203f6",
            "72ca2393815e4d3ca940149d5c55a2d7",
            "4d327619ee7f4f2bb9355f0e6df50b02",
            "82218575b9494567aba1a1926c1173d8",
            "38f0138f771846f58f782f1db30c8da7",
            "7d41e88d1f8c40beb361cfb55b04ea40",
            "b30c4e50ed944470a459ef2553ba8542",
            "919e9b24d3674902858683ba714baea2",
            "a614a30a08ae44c1ade6d10fa2eab64e",
            "20a456f75b194965aa3894be073c9438",
            "bc459676931845009d5d71927ac32489"
          ]
        },
        "outputId": "4af17c42-05cb-40fa-864c-1f26cdc74e81",
        "id": "Baf_46tzWTXm"
      },
      "execution_count": 23,
      "outputs": [
        {
          "output_type": "display_data",
          "data": {
            "application/vnd.jupyter.widget-view+json": {
              "model_id": "ad86eb9f3a5148d98bec154d440203f6",
              "version_minor": 0,
              "version_major": 2
            },
            "text/plain": [
              "  0%|          | 0/1 [00:00<?, ?ba/s]"
            ]
          },
          "metadata": {}
        },
        {
          "output_type": "stream",
          "name": "stdout",
          "text": [
            "Article Mean: 795.8587, %-Articles > 512:0.5574, Summary Mean:72.78955, %-Summary > 64:0.4139, %-Summary > 128:0.1335\n"
          ]
        }
      ]
    },
    {
      "cell_type": "markdown",
      "source": [
        "We can see that on average an article contains 796 tokens with over half of the articles being longer than 512. The summary is on average 73 tokens long. Over 40% of our 20000-sample summaries are longer than 64 tokens, and few are longer than 128 tokens.\n",
        "\n",
        "Since T5 has not hard limit of `max_length` on tokenizer, It should be reasonable to use **1024** for tokenized article length and **128** for tokenized summary length on T5-small tokenizer for this dataset."
      ],
      "metadata": {
        "id": "pZw6eGbRg8vg"
      }
    }
  ]
}
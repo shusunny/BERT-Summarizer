{
  "cells": [
    {
      "cell_type": "code",
      "execution_count": 2,
      "metadata": {
        "id": "2ziMXJ2Jdvbx"
      },
      "outputs": [],
      "source": [
        "%%capture\n",
        "!pip install datasets rouge-score nltk transformers sentencepiece"
      ]
    },
    {
      "cell_type": "code",
      "source": [
        "#GPU check\n",
        "!nvidia-smi"
      ],
      "metadata": {
        "colab": {
          "base_uri": "https://localhost:8080/"
        },
        "id": "npXG1b1h7afp",
        "outputId": "846d1098-6e1d-43ec-be16-64c128a41037"
      },
      "execution_count": 1,
      "outputs": [
        {
          "output_type": "stream",
          "name": "stdout",
          "text": [
            "Thu Mar 31 19:55:38 2022       \n",
            "+-----------------------------------------------------------------------------+\n",
            "| NVIDIA-SMI 460.32.03    Driver Version: 460.32.03    CUDA Version: 11.2     |\n",
            "|-------------------------------+----------------------+----------------------+\n",
            "| GPU  Name        Persistence-M| Bus-Id        Disp.A | Volatile Uncorr. ECC |\n",
            "| Fan  Temp  Perf  Pwr:Usage/Cap|         Memory-Usage | GPU-Util  Compute M. |\n",
            "|                               |                      |               MIG M. |\n",
            "|===============================+======================+======================|\n",
            "|   0  Tesla P100-PCIE...  Off  | 00000000:00:04.0 Off |                    0 |\n",
            "| N/A   39C    P0    29W / 250W |      0MiB / 16280MiB |      0%      Default |\n",
            "|                               |                      |                  N/A |\n",
            "+-------------------------------+----------------------+----------------------+\n",
            "                                                                               \n",
            "+-----------------------------------------------------------------------------+\n",
            "| Processes:                                                                  |\n",
            "|  GPU   GI   CI        PID   Type   Process name                  GPU Memory |\n",
            "|        ID   ID                                                   Usage      |\n",
            "|=============================================================================|\n",
            "|  No running processes found                                                 |\n",
            "+-----------------------------------------------------------------------------+\n"
          ]
        }
      ]
    },
    {
      "cell_type": "code",
      "source": [
        "torch.cuda.empty_cache()"
      ],
      "metadata": {
        "id": "3Sg62fFsXlbi"
      },
      "execution_count": 17,
      "outputs": []
    },
    {
      "cell_type": "code",
      "execution_count": 3,
      "metadata": {
        "id": "pnW2Pto4fAJA"
      },
      "outputs": [],
      "source": [
        "# Make sure your version of Transformers is at 4.11.0\n",
        "# to run the following code correctly:\n",
        "import datasets\n",
        "import transformers\n",
        "import torch"
      ]
    },
    {
      "cell_type": "code",
      "source": [
        "torch_device ='cuda'\n",
        "#torch_device = 'cpu' (run this line if no gpu attached)"
      ],
      "metadata": {
        "id": "p7NcDsv1rt63"
      },
      "execution_count": 4,
      "outputs": []
    },
    {
      "cell_type": "code",
      "execution_count": 5,
      "metadata": {
        "id": "aUPmFChtfQw-"
      },
      "outputs": [],
      "source": [
        "#load original model\n",
        "from transformers import T5Tokenizer, T5ForConditionalGeneration"
      ]
    },
    {
      "cell_type": "code",
      "source": [
        "tokenizer = T5Tokenizer.from_pretrained(\"t5-small\")\n",
        "model = T5ForConditionalGeneration.from_pretrained(\"t5-small\").to(torch_device)"
      ],
      "metadata": {
        "id": "gAaRO5qg6zI5",
        "colab": {
          "base_uri": "https://localhost:8080/",
          "height": 113,
          "referenced_widgets": [
            "c3c971c2b30c4675a1d20eb19e56b99a",
            "d001bc2443824989aa8e08091475adbd",
            "73b2586774c34971aec29b5003cefa12",
            "2dec1aa4926a49a6a5c72355353370dd",
            "e30b50f2794945cfb58b49a10c84aeee",
            "87459fa6676c42e3ba08079864b75977",
            "f8e3f8249ae54628b6e4368ee876abf5",
            "2ce92b1658c04ebdb57839027d7f65e2",
            "f51f057612dc4d98aef0611742e6ce7a",
            "76eb694c70d44a52b67a2615fa92b4b2",
            "abe666d961674c8cbd72a8cd3489c1c1",
            "f3918eebf23d4d4689000dab77bc23a2",
            "cfabe9e4974d4778850f9aee0913b5aa",
            "86aefb9d47cb4e8c8f1639e123974041",
            "6ac5ea5972e2487bb61bf6a956730237",
            "5cc4cb8fdecf46f99b1ce0c41311081c",
            "21ea0e64a8ed495f83313ee7c429b0af",
            "11d09f90db7b4d89917c37f13b648b6e",
            "92cd517360504759b9932ac8f3f5c903",
            "cf901d1632d14f3fbd643c394bd04a5e",
            "04f68b9bde084e39874da751c1aa4554",
            "62742dc55ffe4913a709479b539255af",
            "a6c2d7b0a6e946fd84e494113ba8aaf6",
            "cd9a24554daf49a0ba7afd0de6195583",
            "9eb89a71c6ea468db4c32b78a0baaa89",
            "4df5d3ab029d4901b229baecbc7725d8",
            "1aae494cc97d44dc838d900675b95a3a",
            "7d8b2e5bf82645e3bceb6c2980abf418",
            "5572fcd8617543f7a2bd9dc16139b1b5",
            "00f9509ec5d541efb7790c9d7df41c77",
            "e5942b46f38d4eb48a2a159763c8c922",
            "73867081525f404db9046942dfd71a92",
            "c6d101f8497046b09ae05a454cfbc279"
          ]
        },
        "outputId": "291c3884-e52f-4a39-9b8a-a7187687b1ac"
      },
      "execution_count": 6,
      "outputs": [
        {
          "output_type": "display_data",
          "data": {
            "text/plain": [
              "Downloading:   0%|          | 0.00/773k [00:00<?, ?B/s]"
            ],
            "application/vnd.jupyter.widget-view+json": {
              "version_major": 2,
              "version_minor": 0,
              "model_id": "c3c971c2b30c4675a1d20eb19e56b99a"
            }
          },
          "metadata": {}
        },
        {
          "output_type": "display_data",
          "data": {
            "text/plain": [
              "Downloading:   0%|          | 0.00/1.17k [00:00<?, ?B/s]"
            ],
            "application/vnd.jupyter.widget-view+json": {
              "version_major": 2,
              "version_minor": 0,
              "model_id": "f3918eebf23d4d4689000dab77bc23a2"
            }
          },
          "metadata": {}
        },
        {
          "output_type": "display_data",
          "data": {
            "text/plain": [
              "Downloading:   0%|          | 0.00/231M [00:00<?, ?B/s]"
            ],
            "application/vnd.jupyter.widget-view+json": {
              "version_major": 2,
              "version_minor": 0,
              "model_id": "a6c2d7b0a6e946fd84e494113ba8aaf6"
            }
          },
          "metadata": {}
        }
      ]
    },
    {
      "cell_type": "code",
      "source": [
        "prefix = \"summarize: \""
      ],
      "metadata": {
        "id": "FcfDV2r78A40"
      },
      "execution_count": 7,
      "outputs": []
    },
    {
      "cell_type": "markdown",
      "source": [
        "##XSUM"
      ],
      "metadata": {
        "id": "mYDb6PCiRHCM"
      }
    },
    {
      "cell_type": "code",
      "execution_count": 8,
      "metadata": {
        "colab": {
          "base_uri": "https://localhost:8080/"
        },
        "id": "i6huZjtTfHwf",
        "outputId": "5dc5b28c-5d53-48c6-cd4a-823573cc7c0a"
      },
      "outputs": [
        {
          "output_type": "stream",
          "name": "stderr",
          "text": [
            "Using custom data configuration default\n",
            "Reusing dataset xsum (/root/.cache/huggingface/datasets/xsum/default/1.2.0/32c23220eadddb1149b16ed2e9430a05293768cfffbdfd151058697d4c11f934)\n"
          ]
        }
      ],
      "source": [
        "#load test dataset\n",
        "test_dataset = datasets.load_dataset('xsum', split='test')"
      ]
    },
    {
      "cell_type": "code",
      "execution_count": 9,
      "metadata": {
        "colab": {
          "base_uri": "https://localhost:8080/"
        },
        "id": "8_pa47Hm2X5T",
        "outputId": "f6f13204-1f2c-4eb0-d44b-7b8cda3fcba9"
      },
      "outputs": [
        {
          "output_type": "execute_result",
          "data": {
            "text/plain": [
              "Dataset({\n",
              "    features: ['document', 'summary', 'id'],\n",
              "    num_rows: 2000\n",
              "})"
            ]
          },
          "metadata": {},
          "execution_count": 9
        }
      ],
      "source": [
        "small_test = test_dataset.select(list(range(2000)))\n",
        "small_test"
      ]
    },
    {
      "cell_type": "code",
      "execution_count": 10,
      "metadata": {
        "id": "Hx8tXhPwGR5n"
      },
      "outputs": [],
      "source": [
        "# generate summary\n",
        "batch_size = 32\n",
        "max_input_length=512\n",
        "max_target_length=64\n",
        "\n",
        "def generate_summary(batch):\n",
        "    sentences = [prefix + text for text in batch['document']]\n",
        "    inputs = tokenizer(sentences, padding=\"max_length\", truncation=True, max_length=max_input_length, return_tensors=\"pt\")\n",
        "    input_ids = inputs.input_ids.to(torch_device)\n",
        "    attention_mask = inputs.attention_mask.to(torch_device)\n",
        "\n",
        "    outputs = model.generate(input_ids, attention_mask=attention_mask)\n",
        "    # all special tokens including will be removed\n",
        "    output_str = tokenizer.batch_decode(outputs, skip_special_tokens=True)\n",
        "\n",
        "    batch[\"pred\"] = output_str\n",
        "    return batch"
      ]
    },
    {
      "cell_type": "code",
      "execution_count": 11,
      "metadata": {
        "id": "LWtwgCW2HHl9",
        "colab": {
          "base_uri": "https://localhost:8080/",
          "height": 49,
          "referenced_widgets": [
            "28cad09436c748f394c24ad99b424cb6",
            "9ca434d7a4d349978ebe0db1719ad6c4",
            "ea9ac48f07464b1dbff8df8b8a5150f9",
            "0750404843524d60ba9828a09cbb9c59",
            "9e28c1f6b1654b6c80b3dde330216bff",
            "690732f77a2642cba709adbcf9751184",
            "62947d41021e4be296a6f612676c35b8",
            "2e5559d516664ee2970962746fbc21a5",
            "14e74f2230a9436796e1fd0dd2051315",
            "e1f06550dac94a888b51a5e8f28de3e6",
            "45c8f32e75e644c7a833a27fe7eeb37d"
          ]
        },
        "outputId": "4c0d67d6-e522-429f-cd17-d9bbab549928"
      },
      "outputs": [
        {
          "output_type": "display_data",
          "data": {
            "text/plain": [
              "  0%|          | 0/63 [00:00<?, ?ba/s]"
            ],
            "application/vnd.jupyter.widget-view+json": {
              "version_major": 2,
              "version_minor": 0,
              "model_id": "28cad09436c748f394c24ad99b424cb6"
            }
          },
          "metadata": {}
        }
      ],
      "source": [
        "results = small_test.map(generate_summary, batched=True, batch_size=batch_size, remove_columns=[\"document\"])"
      ]
    },
    {
      "cell_type": "code",
      "execution_count": 12,
      "metadata": {
        "colab": {
          "base_uri": "https://localhost:8080/"
        },
        "id": "ehzvExDuHfTc",
        "outputId": "2ecbb225-a6b9-497a-a2ec-0f956904d201"
      },
      "outputs": [
        {
          "output_type": "execute_result",
          "data": {
            "text/plain": [
              "Dataset({\n",
              "    features: ['summary', 'id', 'pred'],\n",
              "    num_rows: 2000\n",
              "})"
            ]
          },
          "metadata": {},
          "execution_count": 12
        }
      ],
      "source": [
        "results"
      ]
    },
    {
      "cell_type": "code",
      "execution_count": 13,
      "metadata": {
        "id": "i9l1oRz1Jqm-"
      },
      "outputs": [],
      "source": [
        "metric = datasets.load_metric(\"rouge\")\n",
        "rouge_score = metric.compute(predictions=results[\"pred\"], references=results[\"summary\"], use_stemmer=True)\n",
        "# Extract a few results\n",
        "rouge_mean = {key: value.mid.fmeasure * 100 for key, value in rouge_score.items()}"
      ]
    },
    {
      "cell_type": "code",
      "source": [
        "rouge_mean"
      ],
      "metadata": {
        "colab": {
          "base_uri": "https://localhost:8080/"
        },
        "id": "fFRmKmChs1lc",
        "outputId": "12b5a5c7-3821-4b3b-aaf0-4e7b3c5af89e"
      },
      "execution_count": 14,
      "outputs": [
        {
          "output_type": "execute_result",
          "data": {
            "text/plain": [
              "{'rouge1': 16.525991555512682,\n",
              " 'rouge2': 2.1437459202762783,\n",
              " 'rougeL': 13.021018211037788,\n",
              " 'rougeLsum': 13.019777642857338}"
            ]
          },
          "metadata": {},
          "execution_count": 14
        }
      ]
    },
    {
      "cell_type": "code",
      "source": [
        "!ls "
      ],
      "metadata": {
        "colab": {
          "base_uri": "https://localhost:8080/"
        },
        "id": "-D1xnSDaWSV5",
        "outputId": "6bac8966-a9a1-4728-f822-c47c82781cce"
      },
      "execution_count": 22,
      "outputs": [
        {
          "output_type": "stream",
          "name": "stdout",
          "text": [
            "bart-base-finetuned-xsum.zip  drive  sample_data\n"
          ]
        }
      ]
    },
    {
      "cell_type": "code",
      "source": [
        "#load fine-tuned model\n",
        "!cp 'drive/MyDrive/weights/t5-small-finetuned-xsum.zip' '/content'"
      ],
      "metadata": {
        "id": "QOIoG70RspvN"
      },
      "execution_count": 15,
      "outputs": []
    },
    {
      "cell_type": "code",
      "source": [
        "!unzip t5-small-finetuned-xsum.zip"
      ],
      "metadata": {
        "colab": {
          "base_uri": "https://localhost:8080/"
        },
        "id": "P19eBYEXtgik",
        "outputId": "08a28598-d64d-4aef-b4f5-6be974a478d4"
      },
      "execution_count": 16,
      "outputs": [
        {
          "output_type": "stream",
          "name": "stdout",
          "text": [
            "Archive:  t5-small-finetuned-xsum.zip\n",
            "   creating: content/t5-small-finetuned-xsum/checkpoint-25506/\n",
            "  inflating: content/t5-small-finetuned-xsum/checkpoint-25506/scaler.pt  \n",
            "  inflating: content/t5-small-finetuned-xsum/checkpoint-25506/scheduler.pt  \n",
            "  inflating: content/t5-small-finetuned-xsum/checkpoint-25506/tokenizer_config.json  \n",
            "  inflating: content/t5-small-finetuned-xsum/checkpoint-25506/optimizer.pt  \n",
            "  inflating: content/t5-small-finetuned-xsum/checkpoint-25506/config.json  \n",
            "  inflating: content/t5-small-finetuned-xsum/checkpoint-25506/pytorch_model.bin  \n",
            "  inflating: content/t5-small-finetuned-xsum/checkpoint-25506/tokenizer.json  \n",
            "  inflating: content/t5-small-finetuned-xsum/checkpoint-25506/special_tokens_map.json  \n",
            "  inflating: content/t5-small-finetuned-xsum/checkpoint-25506/rng_state.pth  \n",
            "  inflating: content/t5-small-finetuned-xsum/checkpoint-25506/trainer_state.json  \n",
            "  inflating: content/t5-small-finetuned-xsum/checkpoint-25506/training_args.bin  \n"
          ]
        }
      ]
    },
    {
      "cell_type": "code",
      "source": [
        "finetuned_model = T5ForConditionalGeneration.from_pretrained('content/t5-small-finetuned-xsum/checkpoint-25506/').to(torch_device)"
      ],
      "metadata": {
        "id": "qWzYh8MbsmQ6"
      },
      "execution_count": 17,
      "outputs": []
    },
    {
      "cell_type": "code",
      "source": [
        "# generate summary\n",
        "\n",
        "def finetuned_summary(batch):\n",
        "    sentences = [prefix + text for text in batch['document']]\n",
        "    inputs = tokenizer(sentences, padding=\"max_length\", truncation=True, max_length=max_input_length, return_tensors=\"pt\")\n",
        "    input_ids = inputs.input_ids.to(torch_device)\n",
        "    attention_mask = inputs.attention_mask.to(torch_device)\n",
        "\n",
        "    outputs = finetuned_model.generate(input_ids, attention_mask=attention_mask)\n",
        "    # all special tokens including will be removed\n",
        "    output_str = tokenizer.batch_decode(outputs, skip_special_tokens=True)\n",
        "\n",
        "    batch[\"pred\"] = output_str\n",
        "    return batch"
      ],
      "metadata": {
        "id": "1xg1T6XLsmDZ"
      },
      "execution_count": 18,
      "outputs": []
    },
    {
      "cell_type": "code",
      "source": [
        "finetuned_results = small_test.map(finetuned_summary, batched=True, batch_size=batch_size, remove_columns=[\"document\"])"
      ],
      "metadata": {
        "colab": {
          "base_uri": "https://localhost:8080/",
          "height": 49,
          "referenced_widgets": [
            "06df35d15f034f56a0d1b3af37306e37",
            "04d0dec73c764649a8684a58efffe67f",
            "4617dbce34b4439da42d0727aaf3980a",
            "8c4ded4feacb4074a92122107e912dd4",
            "1c307942834c4b2486d8722e923e0ce2",
            "70c1062551014bdfa2be24d6dc3e94b1",
            "43d9634096e1434c94546bab981c5535",
            "c6539c7712a84d87a7f841f2e7df0e42",
            "4a47d1f5748e4ff0a95e93e7eeb2f7a3",
            "f5488342304d4329ad5b3f0055c0df4f",
            "430e87df74b1465b9e2407cff46e591e"
          ]
        },
        "id": "KA9JKkWHuuTP",
        "outputId": "97e5ea3b-5d77-40d3-c886-02be32514133"
      },
      "execution_count": 19,
      "outputs": [
        {
          "output_type": "display_data",
          "data": {
            "text/plain": [
              "  0%|          | 0/63 [00:00<?, ?ba/s]"
            ],
            "application/vnd.jupyter.widget-view+json": {
              "version_major": 2,
              "version_minor": 0,
              "model_id": "06df35d15f034f56a0d1b3af37306e37"
            }
          },
          "metadata": {}
        }
      ]
    },
    {
      "cell_type": "code",
      "source": [
        "finetuned_score = metric.compute(predictions=finetuned_results[\"pred\"], references=finetuned_results[\"summary\"], use_stemmer=True)\n",
        "# Extract a few results\n",
        "finetuned_rouge_mean = {key: value.mid.fmeasure * 100 for key, value in finetuned_score.items()}"
      ],
      "metadata": {
        "id": "st2v19DrvBs7"
      },
      "execution_count": 20,
      "outputs": []
    },
    {
      "cell_type": "code",
      "source": [
        "rouge_mean"
      ],
      "metadata": {
        "colab": {
          "base_uri": "https://localhost:8080/"
        },
        "id": "A8pN5ycJvWMA",
        "outputId": "8d5e4cc6-9b8a-47eb-d445-71fc32fa517a"
      },
      "execution_count": 21,
      "outputs": [
        {
          "output_type": "execute_result",
          "data": {
            "text/plain": [
              "{'rouge1': 16.525991555512682,\n",
              " 'rouge2': 2.1437459202762783,\n",
              " 'rougeL': 13.021018211037788,\n",
              " 'rougeLsum': 13.019777642857338}"
            ]
          },
          "metadata": {},
          "execution_count": 21
        }
      ]
    },
    {
      "cell_type": "code",
      "source": [
        "finetuned_rouge_mean"
      ],
      "metadata": {
        "colab": {
          "base_uri": "https://localhost:8080/"
        },
        "id": "VX-DcelrvISf",
        "outputId": "082cd07a-ecd7-43be-f0ae-59af8f43af68"
      },
      "execution_count": 22,
      "outputs": [
        {
          "output_type": "execute_result",
          "data": {
            "text/plain": [
              "{'rouge1': 29.778369926669157,\n",
              " 'rouge2': 8.677926422408019,\n",
              " 'rougeL': 23.47989206875079,\n",
              " 'rougeLsum': 23.470377484890886}"
            ]
          },
          "metadata": {},
          "execution_count": 22
        }
      ]
    },
    {
      "cell_type": "code",
      "source": [
        "for i in range(20, 30):\n",
        "    print(\"Original Text: %s\" % small_test[i]['document'])\n",
        "    print(\"\\nActual Summary: %s\" % results[i]['summary'])\n",
        "    print(\"\\nOriginal Prediction : %s\" % results[i]['pred'])\n",
        "    print(\"\\nfinetuned Prediction : %s\" % finetuned_results[i][\"pred\"])\n",
        "    print(\"=====================================================================\\n\")"
      ],
      "metadata": {
        "colab": {
          "base_uri": "https://localhost:8080/"
        },
        "id": "LaVCwcW2y7vY",
        "outputId": "9b425434-f4ac-4323-a69e-d5dacfa372dd"
      },
      "execution_count": 23,
      "outputs": [
        {
          "output_type": "stream",
          "name": "stdout",
          "text": [
            "Original Text: Pakistan's telecoms regulator said the ban was no longer necessary because Google, which owns YouTube, had now launched a Pakistan-specific version.\n",
            "YouTube has denied claims that the authorities can filter content.\n",
            "Many young Pakistanis have welcomed the lifting of the ban but some activists want details of the deal with Google.\n",
            "They say there should be greater transparency of the terms agreed between Google and the government.\n",
            "A Pakistan Telecommunication Authority (PTA) official confirmed to the BBC that all internet service providers had been directed to open access to YouTube.\n",
            "The Pakistan Telecommunication Company Ltd posted on its Facebook page on Monday: \"Welcome Back YouTube\".\n",
            "Pakistan's ministry of information technology said: \"Google has provided an online web process through which requests for blocking access of offending material can be made by the PTA to Google directly.\n",
            "\"Google/YouTube will accordingly restrict access to the said offending material for users within Pakistan.\"\n",
            "However, a YouTube spokeswoman said government requests for the removal of content would not automatically be granted.\n",
            "\"We have clear community guidelines, and when videos violate those rules, we remove them,\" she said.\n",
            "\"In addition, where we have launched YouTube locally and we are notified that a video is illegal in that country, we may restrict access to it after a thorough review.\"\n",
            "She said requests by governments for content to be removed would be recorded in YouTube's Transparency Report.\n",
            "Pakistan's ban on YouTube was imposed by the Supreme Court in 2012 after the US-made film Innocence of Muslims was uploaded.\n",
            "The amateur-made video was condemned in the Muslim world and sparked widespread protests for its mocking portrayal of the Prophet Muhammad.\n",
            "More than a dozen people died in protests in Pakistan.\n",
            "Blasphemy is a crime in Pakistan and can carry the death penalty, although such a sentence has not been carried out.\n",
            "Google revealed last week that it had launched local versions of YouTube for Nepal, Pakistan and Sri Lanka.\n",
            "\n",
            "Actual Summary: Pakistan has unblocked the video sharing site, YouTube, more than three years after it was banned for posting a video deemed insulting to Islam.\n",
            "\n",
            "Original Prediction : a Pakistan-specific version of YouTube has been launched by the government. the ban was\n",
            "\n",
            "finetuned Prediction : Pakistan's government has lifted a ban on YouTube after it launched a local version of\n",
            "=====================================================================\n",
            "\n",
            "Original Text: The 26-year-old was injured in last week's win over Exeter.\n",
            "Director of rugby Richard Cockerill told BBC Radio Leicester: \"With eight weeks of the season to go that is probably the last we will see of him.\"\n",
            "Meanwhile, scrum-half Sam Harrison, 24, has signed a new deal, but the length of the contract has not been revealed.\n",
            "Benjamin has been plagued by injuries since signing from Worcester in 2012, suffering a serious neck injury which delayed his first-team debut by 15 months.\n",
            "He also sustained a knee injury that ruled him out for four months last term.\n",
            "But Cockerill said: \"It is certainly not too serious and he will make a full recovery in the next eight to 10 weeks.\"\n",
            "\n",
            "Actual Summary: Leicester Tigers winger Miles Benjamin is likely to be out for the rest of the season because of a knee injury, reports BBC Radio Leicester.\n",
            "\n",
            "Original Prediction : the 26-year-old was injured in last week's win over Exeter. scr\n",
            "\n",
            "finetuned Prediction : Leicester City have signed Leicester City winger Benjamin Benjamin on a two-year deal.\n",
            "=====================================================================\n",
            "\n",
            "Original Text: Media playback is not supported on this device\n",
            "Doull emulated fellow Welshman Geraint Thomas, who won at the 2008 and 2012 Olympics, by helping Great Britain win team pursuit gold in world record time.\n",
            "The 23-year-old joined record-breaking Sir Bradley Wiggins, Steven Burke and Ed Clancy to beat the world champions.\n",
            "\"That was just surreal, it feels dreamlike\" said the Cardiff rider.\n",
            "Media playback is not supported on this device\n",
            "\"We've been in situations like that before when we've been so close and have lost so to pull it off now is unbelievable.\"\n",
            "He had previously won silver medals at the 2015 and 2016 World Championship - this year to the Australian team - but Doull earned Olympic redemption to add to the four Welsh silver medallists in Rio.\n",
            "\"I've dreamt of this moment for so long,\" added Doull.\n",
            "\"It's what gets you out of the bed in the morning. I've pictured crossing that line first and winning the Olympics and to finally be here and do it, it's just surreal. It's a culmination of four years of hard work.\"\n",
            "Swimmer Jazz Carlin, rower Victoria Thornley and rugby sevens players Sam Cross and James Davies had already enjoyed podium finishes before Doull secured Wales' seventh gold in the last three Olympics.\n",
            "Wales had not won an Olympic title in 36 years when Nicole Cooke stormed to women's road race gold in 2008 - the first Welsh cycling medal ever at an Olympics.\n",
            "But since Cooke's win in Beijing, Wales have won three more cycling gold medals - and could win a fifth on Saturday when Elinor Barker will help the British world record holding women bid for team pursuit gold.\n",
            "Doull - who started cycling at the Maindy Fliers club in Cardiff like Thomas and Barker - had helped the Great Britain team to lower the world record in their heat demolition of New Zealand.\n",
            "But Team GB were quickly behind in Friday's final as Australia led by 0.7 seconds at the halfway mark, before GB reeled them in and then pulled away in the final 500m to win the 4km race by 0.83 seconds - in a world record time of three minutes, 50.265 seconds.\n",
            "Doull's team-mate Wiggins became the first Briton to win eight Olympic medals - five golds, one silver and two bronzes - as GB won a third successive team pursuit Olympic title.\n",
            "\"It gives you such confidence....you've got Brad on my right behind me and I've got Burke and Ed down below me,\" said Doull.\n",
            "\"It's Burke's second Olympic title in his discipline, it's Ed's third and he's the most decorated Yorkshireman, so he keeps telling me, so to have that calibre of team is just massive and it gives you such confidence.\"\n",
            "\n",
            "Actual Summary: Owain Doull has won Wales' first gold of the 2016 Olympics as  he helped the Great Britain men's team pursuit defend their cycling title in Rio.\n",
            "\n",
            "Original Prediction : the 23-year-old joins record-breaking team pursuit gold in world record time\n",
            "\n",
            "finetuned Prediction : Wales' Jeremy Doull has re-signed as the first Welsh cyclist to win\n",
            "=====================================================================\n",
            "\n",
            "Original Text: The death toll doubled over the last two days as officials found more than 100 bodies once waters began receding.\n",
            "Officials estimate that the floods have affected 450,000 people in the state.\n",
            "This years monsoon rains have affected millions across at least 20 states in India. The north-eastern state of Assam has also seen dozens killed and hundreds of thousands displaced.\n",
            "The government has announced aid packages for affected areas and Prime Minister Narendra Modi is due to visit Assam on Tuesday.\n",
            "He has said the aim of his visit is to find a \"permanent solution\" to the flooding that Assam faces every year.\n",
            "The Press Trust of India news agency quoted an official as saying that many affected people in Gujarat had begun returning to their villages.\n",
            "\n",
            "Actual Summary: Floods in the western Indian state of Gujarat have killed 218 people, government officials have confirmed.\n",
            "\n",
            "Original Prediction : officials estimate that the flooding has affected 450,000 people in the state. this year mons\n",
            "\n",
            "finetuned Prediction : The death toll in the Gujarat flooding has doubled in the last two days, according to\n",
            "=====================================================================\n",
            "\n",
            "Original Text: Two snowsports enthusiasts got married at a Scottish ski resort before sliding off down a run in their wedding attire.\n",
            "Bridget and Jonathan Reid, from Moy, near Tomatin in the Highlands, tied the knot at Nevis Range, near Fort William, on Friday.\n",
            "The couple first's date six years ago was a skiing trip, so they decided it would be appropriate to get married on skis.\n",
            "Adventure photographer Hamish Frost took their wedding snaps.\n",
            "Bridget, who is a teacher, and Jonathan, who runs his own electrical automation company, benefited from recent snowfalls for their big day.\n",
            "They got married in full Highland dress, which includes a kilt, and white wedding dress surrounded by snow-covered mountain landscape.\n",
            "The white stuff had been lacking over winter, but last month's Storm Doris and recent spells of colder weather have helped with the operation of Nevis Range and Scotland's other outdoor ski centres.\n",
            "The newly weds said: \"Over the last couple of years we have spent as many weekends as possible skiing the Back Corries at Nevis Range.\n",
            "\"We love the atmosphere, the friendliness of the staff and the amazing terrain for skiing.  When we heard that we could actually get married there it was a no-brainer.\"\n",
            "The couple got married at the top of Easy Gully in a ceremony officiated by Halde Pottinger from the Humanist Society of Scotland.\n",
            "\"He was totally up for marrying us on skis and did an amazing job. He is currently trying to establish whether or not we are the first wedding actually conducted and vowed in skis - officiate and couple,\" said the Reids.\n",
            "\"We can't actually believe we are but there can't be many. We also managed to twist the arm of adventure photographer Hamish Frost, who came along to take photographs.\"\n",
            "The couple added: \"The day could not have been better. Without doubt it was the best conditions of the year - with blue skies and fresh snow, we could not have asked for more.\"\n",
            "They thanked the staff of Nevis Range for \"a fabulous job making our day possible\", and for helping in throwing \"a hell of a good party\" in the evening.\n",
            "\n",
            "Actual Summary: All images copyrighted.\n",
            "\n",
            "Original Prediction : bridget and Jonathan Reid tied the knot at a ski resort in the Highlands.\n",
            "\n",
            "finetuned Prediction : A couple from the Highlands have married in a wedding dress at a ski resort in\n",
            "=====================================================================\n",
            "\n",
            "Original Text: The fine follows the conviction of former RBS trader, Shirlina Tsang, for fraud last year.\n",
            "She was sentenced to 50 months in prison after being caught falsifying records of emerging markets trades.\n",
            "Hong Kong regulators said RBS's controls were \"seriously inadequate\".\n",
            "The Securities and Futures Commission (SFC) also said there were \"significant weaknesses in its procedures, management systems and internal controls.\"\n",
            "But the regulator said the fine took into account the bank's speedy action in alerting the authorities once it had discovered the illegal trades, which took place in its emerging markets rates business in 2011.\n",
            "\"This deserves substantial credit and is the reason why today's sanctions are not heavier ones,\" Mark Steward, the SFC's head of enforcement, said in a statement.\n",
            "RBS responded with a statement, reading: \"We put in place a comprehensive remediation programme that strengthened our governance and supervisory oversight, and our control environment.\"\n",
            "The fine is relatively small compared to others the bank has received in the last few years.\n",
            "In December RBS agreed to pay 391m euros (£320m) in penalties to the European Commission for its role in the attempted rigging of Yen Libor and Euribor - the Tokyo and euro equivalents of the London interbank offered rate, or Libor.\n",
            "In the same month it was fined $100m (£60m) by US regulators for violations of US sanctions against Iran, Sudan, Burma, and Cuba.\n",
            "The bank was found to have removed location information on payments made to US financial institutions from countries such as Iran and Cuba.\n",
            "\n",
            "Actual Summary: Royal Bank of Scotland (RBS) has been fined HK$6m (£460,000) by Hong Kong regulators after it failed to detect a series of unauthorised transactions by one of its traders.\n",
            "\n",
            "Original Prediction : the fine follows the conviction of former RBS trader, Shirlina Tsang\n",
            "\n",
            "finetuned Prediction : Hong Kong's largest bank has been fined £4m (£4m) for\n",
            "=====================================================================\n",
            "\n",
            "Original Text: Here are the best bits we heard backstage at the Royal Albert Hall in London.\n",
            "In La La Land, Emma Stone plays aspiring actress Mia Dolan.\n",
            "So does the best actress winner think Mia could ever win a Bafta or Oscar?\n",
            "After a dramatic pause, she delivered her verdict.\n",
            "\"Hopefully!\"\n",
            "\"It's been like a whirlwind,\" said Spider-Man actor Tom Holland, winner of the Rising Star Award. \"I'm so happy everything seems to be working out.\"\n",
            "The 20-year-old Brit isn't wrong there. Having made his screen debut in tsunami disaster movie The Impossible, he first appeared as Spidey in Captain America: Civil War and recently finished filming for Spider-Man: Homecoming.\n",
            "But Tom admitted the super hero role has its drawbacks.\n",
            "\"Ever since I was a kid I've wanted to be Spider-Man. It's been so fun, but my legs are in bits right now from spider poses after spider poses.\n",
            "\"So I'll be sitting down for the rest of the evening!\"\n",
            "It was perhaps inevitable that Meryl Streep's speech at the Golden Globes would come up at the Baftas.\n",
            "Asked about Donald Trump's response, supporting actress winner Viola Davis didn't hold back.\n",
            "\"Anyone who labels Meryl Streep an 'overrated' actress obviously doesn't know anything about acting,\" she said.\n",
            "\"That's not just directed towards Donald Trump - that's directed towards anyone.\"\n",
            "She didn't stop there.\n",
            "\"This is someone who is the master at her skill and she has lasted for 40 years in a very difficult profession,\" Viola continued.\n",
            "\"One of the things people have to know about this woman is that she is the most honourable, accessible human being you could possibly want to meet.\"\n",
            "Best actor winner Casey Affleck said he'd grabbed a word with Meryl Streep after the Baftas ceremony.\n",
            "\"She was taking pictures of people... and I told her how much her speech at the Golden Globes meant to all of us and how grateful I was that she did it and kicked in the door a little bit,\" he said.\n",
            "The Manchester by the Sea star said he hoped more actors would speak out.\n",
            "\"There is a big audience for these awards shows... and I have to say I'm very proud to be a part of the arts community.\n",
            "\"I don't always say some of the things I would like to say in those opportunities because there are people like Meryl Streep who say them much better than I can - and if they are going to be said it should be said very, very well because they are important.\"\n",
            "\"I'm a little bit wobbly,\" confessed Dev Patel a few minutes after winning the supporting actor prize for Lion.\n",
            "\"I really did not expect it, we have gone to so many awards ceremony and this one is where everything changed, on home turf with my family.\"\n",
            "Dev recalled how he had made his acting debut a decade ago on E4's teen drama Skins.\n",
            "\"I remember the first time I ever stepped on a film set, I never knew what a boom mic was,\" he laughed.\n",
            "\"My mum took me to an open casting of Skins after she saw an advert in Metro newspaper and 10 years on we are here at the Baftas - that is pretty amazing.\"\n",
            "Justin Hurwitz, who won the Bafta for his original music in La La Land, said that he'd written a title song that didn't end up in the movie.\n",
            "\"It was going to be in the middle of the movie but we nixed that, and then we toyed with using it in the end credits, and we nixed that at the last minute.\"\n",
            "And how about this? Another Day of Sun, from the famous traffic jam scene, was cut \"for many months\" before being put back in as the big opening number.\n",
            "Mel Brooks, who was awarded the prestigious Bafta Fellowship, was asked about whether he might write a comedy about Donald Trump.\n",
            "\"I'm not afraid of him, I don't think he's dangerous,\" said the 90-year-old writer, actor and producer.\n",
            "\"I think he's mostly an entertainer, a guy who wants audiences to love him.\n",
            "\"What I'm afraid of are all the guys around him, the people who whisper in his ears, like the people who whispered in George W Bush's ears and we got the Iraq War...\n",
            "\"I just hope that Trump stays the egomaniac he is, listens to no-one and then we'll all be safe. But if he believes these guys we're all in trouble.\"\n",
            "Mel was in a lighter mood as he plugged his new musical Young Frankenstein, which will open in London's West End this year after a run in Newcastle.\n",
            "\"I think, modestly speaking, it will be sensational,\" he chuckled.\n",
            "Follow us on Facebook, on Twitter @BBCNewsEnts, or on Instagram at bbcnewsents. If you have a story suggestion email entertainment.news@bbc.co.uk.\n",
            "\n",
            "Actual Summary: The Bafta awards had laughter, passion and plenty of politics.\n",
            "\n",
            "Original Prediction : the best actress winner says she's \"like a whirlwind\" in\n",
            "\n",
            "finetuned Prediction : The best actress in the UK has a slew of sex and\n",
            "=====================================================================\n",
            "\n",
            "Original Text: Media playback is not supported on this device\n",
            "Of his first 30 matches in 2017, the world number one has won 21 and lost nine.\n",
            "Winning his last five tournaments of 2016 to pip Novak Djokovic to the year-end number one position in the final match of the season at London's O2 Arena was astonishing, dramatic and unforgettable.\n",
            "And yet it appears that relentless run of success, and the 87 matches he played over a season, has come at a price.\n",
            "Murray's straight-set defeat by world number 90 Jordan Thompson in the first round at Queen's Club was the sixth time he has lost to a player outside the top 20 this year. He has had shingles and an elbow problem, and now his left hip is proving cause for concern.\n",
            "Opting out of two scheduled exhibition matches at the Hurlingham Club in London may not be too much of a blow, as Murray's aptitude for grass is likely to allow him some margin for error during the opening week at Wimbledon. But will he be in pain, and will his movement suffer?\n",
            "Although it was reassuring to see him return to the practice courts on Friday, Murray was walking with a limp and neither moving, nor hitting his backhand, anywhere near as well as he will need to. Only time will tell.\n",
            "Media playback is not supported on this device\n",
            "Murray has looked especially vulnerable this season over three sets.\n",
            "As well as the defeat by Thompson at Queen's, he has also lost in straight sets to Fabio Fognini in Rome (no disgrace), to Borna Coric in Madrid, and to world number 129 Vasek Pospisil at Indian Wells.\n",
            "Though he was bamboozled by Mischa Zverev in the fourth round of the Australian Open, his Grand Slam record remains formidable. He is aiming this fortnight for a 10th consecutive Wimbledon quarter-final, and the last time he failed to reach the second week of a Slam was when he fell to Stan Wawrinka in the third round of the 2010 US Open.\n",
            "So, assuming Murray's hip does not leave him underpowered, the French Open provides the best indication as to how he might fare at Wimbledon.\n",
            "Murray often started slowly in matches at Roland Garros, but put in a dominant third-round performance against Juan Martin del Potro as he won in straight sets. He never looked a realistic champion, but ultimately was just a tie-break away from a second consecutive final. He then ran out of steam, a legacy of insufficient matches, in a Stan Wawrinka-dominated final set of their semi-final.\n",
            "It would be foolish to try to come to a firm conclusion about Murray's chances at the All England Club this year. Twice a champion, and a gold-medal winner on Centre Court at the 2012 Olympics, not even Novak Djokovic has outperformed him at Wimbledon over the past five years.\n",
            "Yet on 2017 results alone, Murray is only the seventh best player in the field.\n",
            "He has too frequently struggled to impose himself on his opponent, and hindered at times by injury, has not been able to trust his serve in the same way.\n",
            "This year he has won 72% of points on first serve, down from 76% last year; and while last year he saved 66% of the break points he faced, that number has fallen this year to 54%.\n",
            "He claims his indifferent form is nothing to do with the pressure associated with his status as world number one, and he does not cut the figure of a man weighed down by an unwelcome burden.\n",
            "But perhaps Murray has lost his cause: he is now the hunted, rather than the hunter.\n",
            "That may not be a concern much longer.\n",
            "Murray is virtually 5,000 points behind Rafael Nadal in the season-long race and is therefore very likely to be replaced at the top of the rankings by the autumn at the latest.\n",
            "In fact, he could be overtaken after Wimbledon by Wawrinka or Djokovic if they win the title, but more probably by Nadal, who assuming both reach the second week would only have to go one round further.\n",
            "Nadal's knees, Djokovic's blues and Wawrinka's unexceptional Wimbledon record muddy the waters still further.\n",
            "And then there's Roger Federer: the seven-time champion, who is free of injuries, and last Sunday in Halle won his fourth title of the year having skipped the clay-court season.\n",
            "Media playback is not supported on this device\n",
            "\n",
            "Actual Summary: Of his last 30 matches in 2016, Andy Murray won 28 and lost just two.\n",
            "\n",
            "Original Prediction : world number one has won 21 matches and lost nine. 87 matches he played over\n",
            "\n",
            "finetuned Prediction : Murray has been a savagely successful player at Wimbledon, but he has\n",
            "=====================================================================\n",
            "\n",
            "Original Text: Mandla Hlatshwayo and his friend were shot after confronting a group of men who had robbed women of their mobile phones in a pub in Soweto.\n",
            "The suspects were found in possession of drugs and an unlicensed gun.\n",
            "South Africa has one of the highest murder rates in the world with more than 50,000 cases reported every year.\n",
            "\"Police are questioning the suspects to see if they can link them to the shooting,\" says the police's Lungelo Dlamini.\n",
            "Tributes are still pouring in for the star who was also a DJ on local radio station Jozi FM.\n",
            "Those who knew the 40-year-old have described him as a selfless man.\n",
            "\n",
            "Actual Summary: South African police say four people have been arrested in connection with the murder of former actor on popular local TV series Generations.\n",
            "\n",
            "Original Prediction : mandla Hlatshwayo and his friend were shot after confronting men\n",
            "\n",
            "finetuned Prediction : A man has been shot dead in South Africa after a man was shot in the head.\n",
            "=====================================================================\n",
            "\n",
            "Original Text: Witnesses told officers they heard a gun being fired near Anfield Road Primary School at about 09:00 GMT.\n",
            "Pupils and staff there and at the nearby All Saints Catholic Primary School have been ordered to stay indoors while police investigate.\n",
            "Ch Supt Mark Harrison said it \"beggars belief\" it would happen at a school.\n",
            "Members of the public told police the shot was fired at a dark coloured car by a white man in a grey hooded top who was on foot.\n",
            "A Merseyside Police spokeswoman said local hospitals had been checked and \"no-one has sought medical attention for injuries caused by a firearm\".\n",
            "She said officers were making house-to-house inquiries and studying CCTV footage of the area.\n",
            "Ch Supt Harrison said the attack \"appears to be targeted\" and was particularly worrying as \"a child could have been seriously injured or worse\".\n",
            "He said police wanted to hear from those inside the car \"so we know they are safe\".\n",
            "Anfield Road Primary School's headteacher Clair Drew-Williams said her pupils were \"safe and unaware of the incident\".\n",
            "\"The site was not evacuated, the school day is continuing as normal and a trip for some pupils took place as planned,\" she said.\n",
            "\n",
            "Actual Summary: A shot was reportedly fired at a car outside a primary school in Liverpool as parents were taking their children inside, police have said.\n",
            "\n",
            "Original Prediction : witnesses tell police they heard a gun being fired near anfield Road Primary school. police\n",
            "\n",
            "finetuned Prediction : A gunshot wound to a car in Merseyside has been fired at\n",
            "=====================================================================\n",
            "\n"
          ]
        }
      ]
    },
    {
      "cell_type": "markdown",
      "source": [
        "##CNN"
      ],
      "metadata": {
        "id": "1zu1hIF8yiOb"
      }
    },
    {
      "cell_type": "code",
      "execution_count": 24,
      "metadata": {
        "colab": {
          "base_uri": "https://localhost:8080/"
        },
        "outputId": "20a98069-4c08-41a1-c702-b319183ffb78",
        "id": "SJSu-A84yiOh"
      },
      "outputs": [
        {
          "output_type": "stream",
          "name": "stderr",
          "text": [
            "Reusing dataset cnn_dailymail (/root/.cache/huggingface/datasets/cnn_dailymail/3.0.0/3.0.0/3cb851bf7cf5826e45d49db2863f627cba583cbc32342df7349dfe6c38060234)\n"
          ]
        }
      ],
      "source": [
        "#load test dataset\n",
        "test_cnn = datasets.load_dataset('cnn_dailymail', '3.0.0', split='test')"
      ]
    },
    {
      "cell_type": "code",
      "execution_count": 25,
      "metadata": {
        "colab": {
          "base_uri": "https://localhost:8080/"
        },
        "outputId": "3b04cbe1-362b-4fa9-ca20-5641595fdf3c",
        "id": "xpKzXO26yiOi"
      },
      "outputs": [
        {
          "output_type": "execute_result",
          "data": {
            "text/plain": [
              "Dataset({\n",
              "    features: ['article', 'highlights', 'id'],\n",
              "    num_rows: 2000\n",
              "})"
            ]
          },
          "metadata": {},
          "execution_count": 25
        }
      ],
      "source": [
        "small_test = test_cnn.select(list(range(2000)))\n",
        "small_test"
      ]
    },
    {
      "cell_type": "code",
      "execution_count": 26,
      "metadata": {
        "id": "9nGP5ksYyiOi"
      },
      "outputs": [],
      "source": [
        "# generate summary\n",
        "batch_size = 16\n",
        "max_input_length=512\n",
        "max_target_length=128\n",
        "\n",
        "def generate_summary(batch):\n",
        "    sentences = [prefix + text for text in batch['article']]\n",
        "    inputs = tokenizer(sentences, padding=\"max_length\", truncation=True, max_length=max_input_length, return_tensors=\"pt\")\n",
        "    input_ids = inputs.input_ids.to(torch_device)\n",
        "    attention_mask = inputs.attention_mask.to(torch_device)\n",
        "\n",
        "    outputs = model.generate(input_ids, attention_mask=attention_mask)\n",
        "    # all special tokens including will be removed\n",
        "    output_str = tokenizer.batch_decode(outputs, skip_special_tokens=True)\n",
        "\n",
        "    batch[\"pred\"] = output_str\n",
        "    return batch"
      ]
    },
    {
      "cell_type": "code",
      "execution_count": 27,
      "metadata": {
        "colab": {
          "base_uri": "https://localhost:8080/",
          "height": 49,
          "referenced_widgets": [
            "49e582c255154a38a415f5b250665d88",
            "a918bb6e62e74156be22d565404da8dc",
            "0ce58235374e479ab0122457ee754f4a",
            "1e59b0be0b0b454fb3b136de18e34c93",
            "a7b51f8c251f46d8a1eebf9277515928",
            "c41b3798ce754feeb565a06043501e85",
            "61103a6fe8aa48cc84b375a9a716ccc3",
            "10481137702e4c57b27e0ffa1d24759f",
            "f5796669f6c7407589a5a70fc454db6b",
            "3c3ade606f814aa58a1e597d26e4c872",
            "957d794cc7f64392aa4db16f71991695"
          ]
        },
        "outputId": "db6c74c9-ee31-48a8-c6d7-e453b954235e",
        "id": "jueGR_RkyiOi"
      },
      "outputs": [
        {
          "output_type": "display_data",
          "data": {
            "text/plain": [
              "  0%|          | 0/125 [00:00<?, ?ba/s]"
            ],
            "application/vnd.jupyter.widget-view+json": {
              "version_major": 2,
              "version_minor": 0,
              "model_id": "49e582c255154a38a415f5b250665d88"
            }
          },
          "metadata": {}
        }
      ],
      "source": [
        "results = small_test.map(generate_summary, batched=True, batch_size=batch_size, remove_columns=[\"article\"])"
      ]
    },
    {
      "cell_type": "code",
      "execution_count": 28,
      "metadata": {
        "colab": {
          "base_uri": "https://localhost:8080/"
        },
        "outputId": "af166d6f-89fc-453b-a033-e12228761a53",
        "id": "AcqFVeUGyiOi"
      },
      "outputs": [
        {
          "output_type": "execute_result",
          "data": {
            "text/plain": [
              "Dataset({\n",
              "    features: ['highlights', 'id', 'pred'],\n",
              "    num_rows: 2000\n",
              "})"
            ]
          },
          "metadata": {},
          "execution_count": 28
        }
      ],
      "source": [
        "results"
      ]
    },
    {
      "cell_type": "code",
      "execution_count": 29,
      "metadata": {
        "id": "MsrOrVoUyiOi"
      },
      "outputs": [],
      "source": [
        "rouge_score = metric.compute(predictions=results[\"pred\"], references=results[\"highlights\"], use_stemmer=True)\n",
        "# Extract a few results\n",
        "rouge_mean = {key: value.mid.fmeasure * 100 for key, value in rouge_score.items()}"
      ]
    },
    {
      "cell_type": "code",
      "source": [
        "rouge_mean"
      ],
      "metadata": {
        "colab": {
          "base_uri": "https://localhost:8080/"
        },
        "outputId": "f2858b0e-5d77-4d3c-924b-8e1bfaf199a3",
        "id": "ehCkgzLhyiOi"
      },
      "execution_count": 30,
      "outputs": [
        {
          "output_type": "execute_result",
          "data": {
            "text/plain": [
              "{'rouge1': 23.1030101034274,\n",
              " 'rouge2': 8.986408236979477,\n",
              " 'rougeL': 18.648127730394737,\n",
              " 'rougeLsum': 20.977500114970514}"
            ]
          },
          "metadata": {},
          "execution_count": 30
        }
      ]
    },
    {
      "cell_type": "code",
      "source": [
        "#load fine-tuned model\n",
        "!cp 'drive/MyDrive/weights/t5-small-finetuned-cnn.zip' '/content'"
      ],
      "metadata": {
        "id": "nWiUM_JNyiOj"
      },
      "execution_count": 31,
      "outputs": []
    },
    {
      "cell_type": "code",
      "source": [
        "!unzip t5-small-finetuned-cnn.zip"
      ],
      "metadata": {
        "colab": {
          "base_uri": "https://localhost:8080/"
        },
        "outputId": "e38e3c5f-f72e-43a4-9bde-dd2acb49a863",
        "id": "ltbGyvCOyiOj"
      },
      "execution_count": 32,
      "outputs": [
        {
          "output_type": "stream",
          "name": "stdout",
          "text": [
            "Archive:  t5-small-finetuned-cnn.zip\n",
            "   creating: content/t5-small-finetuned-cnn/checkpoint-35890/\n",
            "  inflating: content/t5-small-finetuned-cnn/checkpoint-35890/scaler.pt  \n",
            "  inflating: content/t5-small-finetuned-cnn/checkpoint-35890/scheduler.pt  \n",
            "  inflating: content/t5-small-finetuned-cnn/checkpoint-35890/tokenizer_config.json  \n",
            "  inflating: content/t5-small-finetuned-cnn/checkpoint-35890/optimizer.pt  \n",
            "  inflating: content/t5-small-finetuned-cnn/checkpoint-35890/config.json  \n",
            "  inflating: content/t5-small-finetuned-cnn/checkpoint-35890/pytorch_model.bin  \n",
            "  inflating: content/t5-small-finetuned-cnn/checkpoint-35890/tokenizer.json  \n",
            "  inflating: content/t5-small-finetuned-cnn/checkpoint-35890/special_tokens_map.json  \n",
            "  inflating: content/t5-small-finetuned-cnn/checkpoint-35890/rng_state.pth  \n",
            "  inflating: content/t5-small-finetuned-cnn/checkpoint-35890/trainer_state.json  \n",
            "  inflating: content/t5-small-finetuned-cnn/checkpoint-35890/training_args.bin  \n"
          ]
        }
      ]
    },
    {
      "cell_type": "code",
      "source": [
        "finetuned_model = T5ForConditionalGeneration.from_pretrained('content/t5-small-finetuned-cnn/checkpoint-35890/').to(torch_device)"
      ],
      "metadata": {
        "id": "3SFIecyoyiOj"
      },
      "execution_count": 33,
      "outputs": []
    },
    {
      "cell_type": "code",
      "source": [
        "# generate summary\n",
        "\n",
        "def finetuned_summary(batch):\n",
        "    sentences = [prefix + text for text in batch['article']]\n",
        "    inputs = tokenizer(sentences, padding=\"max_length\", truncation=True, max_length=max_input_length, return_tensors=\"pt\")\n",
        "    input_ids = inputs.input_ids.to(torch_device)\n",
        "    attention_mask = inputs.attention_mask.to(torch_device)\n",
        "\n",
        "    outputs = finetuned_model.generate(input_ids, attention_mask=attention_mask)\n",
        "    # all special tokens including will be removed\n",
        "    output_str = tokenizer.batch_decode(outputs, skip_special_tokens=True)\n",
        "\n",
        "    batch[\"pred\"] = output_str\n",
        "    return batch"
      ],
      "metadata": {
        "id": "BLVcVtegyiOj"
      },
      "execution_count": 34,
      "outputs": []
    },
    {
      "cell_type": "code",
      "source": [
        "finetuned_results = small_test.map(finetuned_summary, batched=True, batch_size=batch_size, remove_columns=[\"article\"])"
      ],
      "metadata": {
        "colab": {
          "base_uri": "https://localhost:8080/",
          "height": 49,
          "referenced_widgets": [
            "fd9c6950f4094257b3323274363d3218",
            "64abd26b578348f4adf437049bfa83e1",
            "7b5008fdfa95464181d9b8345d484bf0",
            "f55d6bfc29bf45aebe9f73c636c430ba",
            "06632e8f53074e9d841527072f5c1f96",
            "a68c531449e44bb68656f3af80f69e5a",
            "8af175dfed954f18941975479654f678",
            "64d941d0c5924ebe80958d4f9f8924e2",
            "198a2f0166f1454b8ba37d825d013798",
            "ff301011f6214bc3a884a598bc3da39c",
            "0387502466e547bdad70ed8a7c501d88"
          ]
        },
        "outputId": "90a48562-7c65-4862-9609-a47b7cf3505d",
        "id": "Bh0UhOJiyiOj"
      },
      "execution_count": 35,
      "outputs": [
        {
          "output_type": "display_data",
          "data": {
            "text/plain": [
              "  0%|          | 0/125 [00:00<?, ?ba/s]"
            ],
            "application/vnd.jupyter.widget-view+json": {
              "version_major": 2,
              "version_minor": 0,
              "model_id": "fd9c6950f4094257b3323274363d3218"
            }
          },
          "metadata": {}
        }
      ]
    },
    {
      "cell_type": "code",
      "source": [
        "finetuned_score = metric.compute(predictions=finetuned_results[\"pred\"], references=finetuned_results[\"highlights\"], use_stemmer=True)\n",
        "# Extract a few results\n",
        "finetuned_rouge_mean = {key: value.mid.fmeasure * 100 for key, value in finetuned_score.items()}"
      ],
      "metadata": {
        "id": "ElhghJcDyiOj"
      },
      "execution_count": 36,
      "outputs": []
    },
    {
      "cell_type": "code",
      "source": [
        "rouge_mean"
      ],
      "metadata": {
        "colab": {
          "base_uri": "https://localhost:8080/"
        },
        "outputId": "e40cfc6e-6e63-413f-a1b4-7d9380162835",
        "id": "EzvQxP9gyiOj"
      },
      "execution_count": 37,
      "outputs": [
        {
          "output_type": "execute_result",
          "data": {
            "text/plain": [
              "{'rouge1': 23.1030101034274,\n",
              " 'rouge2': 8.986408236979477,\n",
              " 'rougeL': 18.648127730394737,\n",
              " 'rougeLsum': 20.977500114970514}"
            ]
          },
          "metadata": {},
          "execution_count": 37
        }
      ]
    },
    {
      "cell_type": "code",
      "source": [
        "finetuned_rouge_mean"
      ],
      "metadata": {
        "colab": {
          "base_uri": "https://localhost:8080/"
        },
        "outputId": "18680ea2-1025-4fb6-919b-ee6dad7106b3",
        "id": "xNvd5lXbyiOk"
      },
      "execution_count": 38,
      "outputs": [
        {
          "output_type": "execute_result",
          "data": {
            "text/plain": [
              "{'rouge1': 24.623718608200644,\n",
              " 'rouge2': 10.637427641753249,\n",
              " 'rougeL': 20.302748758901696,\n",
              " 'rougeLsum': 22.598165213510956}"
            ]
          },
          "metadata": {},
          "execution_count": 38
        }
      ]
    },
    {
      "cell_type": "code",
      "source": [
        "for i in range(0, 15):\n",
        "    print(\"Original Text: %s\" % small_test[i][\"article\"])\n",
        "    print(\"\\nActual Summary: %s\" % results[i][\"highlights\"])\n",
        "    print(\"\\nOriginal Prediction : %s\" % results[i]['pred'])\n",
        "    print(\"\\nfinetuned Prediction : %s\" % finetuned_results[i][\"pred\"])\n",
        "    print(\"=====================================================================\\n\")"
      ],
      "metadata": {
        "colab": {
          "base_uri": "https://localhost:8080/"
        },
        "id": "OuUb4pzm2HuN",
        "outputId": "3db42536-3379-485e-c6b1-14ae14f455cf"
      },
      "execution_count": 39,
      "outputs": [
        {
          "output_type": "stream",
          "name": "stdout",
          "text": [
            "Original Text: (CNN)James Best, best known for his portrayal of bumbling sheriff Rosco P. Coltrane on TV's \"The Dukes of Hazzard,\" died Monday after a brief illness. He was 88. Best died in hospice in Hickory, North Carolina, of complications from pneumonia, said Steve Latshaw, a longtime friend and Hollywood colleague. Although he'd been a busy actor for decades in theater and in Hollywood, Best didn't become famous until 1979, when \"The Dukes of Hazzard's\" cornpone charms began beaming into millions of American homes almost every Friday night. For seven seasons, Best's Rosco P. Coltrane chased the moonshine-running Duke boys back and forth across the back roads of fictitious Hazzard County, Georgia, although his \"hot pursuit\" usually ended with him crashing his patrol car. Although Rosco was slow-witted and corrupt, Best gave him a childlike enthusiasm that got laughs and made him endearing. His character became known for his distinctive \"kew-kew-kew\" chuckle and for goofy catchphrases such as \"cuff 'em and stuff 'em!\" upon making an arrest. Among the most popular shows on TV in the early '80s, \"The Dukes of Hazzard\" ran until 1985 and spawned TV movies, an animated series and video games. Several of Best's \"Hazzard\" co-stars paid tribute to the late actor on social media. \"I laughed and learned more from Jimmie in one hour than from anyone else in a whole year,\" co-star John Schneider, who played Bo Duke, said on Twitter. \"Give Uncle Jesse my love when you see him dear friend.\" \"Jimmy Best was the most constantly creative person I have ever known,\" said Ben Jones, who played mechanic Cooter on the show, in a Facebook post. \"Every minute of his long life was spent acting, writing, producing, painting, teaching, fishing, or involved in another of his life's many passions.\" Born Jewel Guy on July 26, 1926, in Powderly, Kentucky, Best was orphaned at 3 and adopted by Armen and Essa Best, who renamed him James and raised him in rural Indiana. Best served in the Army during World War II before launching his acting career. In the 1950s and 1960s, he accumulated scores of credits, playing a range of colorful supporting characters in such TV shows as \"The Twilight Zone,\" \"Bonanza,\" \"The Andy Griffith Show\" and \"Gunsmoke.\" He later appeared in a handful of Burt Reynolds' movies, including \"Hooper\" and \"The End.\" But Best will always be best known for his \"Hazzard\" role, which lives on in reruns. \"Jimmie was my teacher, mentor, close friend and collaborator for 26 years,\" Latshaw said. \"I directed two of his feature films, including the recent 'Return of the Killer Shrews,' a sequel he co-wrote and was quite proud of as he had made the first one more than 50 years earlier.\" People we've lost in 2015 . CNN's Stella Chan contributed to this story.\n",
            "\n",
            "Actual Summary: James Best, who played the sheriff on \"The Dukes of Hazzard,\" died Monday at 88 .\n",
            "\"Hazzard\" ran from 1979 to 1985 and was among the most popular shows on TV .\n",
            "\n",
            "Original Prediction : \"the Dukes of Hazzard\" co-stars paid tribute to the late actor\n",
            "\n",
            "finetuned Prediction : \"The Dukes of Hazzard\" was a popular show in the early '\n",
            "=====================================================================\n",
            "\n",
            "Original Text: (CNN)The attorney for a suburban New York cardiologist charged in what authorities say was a failed scheme to have another physician hurt or killed is calling the allegations against his client \"completely unsubstantiated.\" Appearing Saturday morning on CNN's \"New Day,\" Randy Zelin defended his client, Dr. Anthony Moschetto, who faces criminal solicitation, conspiracy, burglary, arson, criminal prescription sale and weapons charges in connection to what prosecutors called a plot to take out a rival doctor on Long Island. \"None of anything in this case has any evidentiary value,\" Zelin told CNN's Christi Paul.  \"It doesn't matter what anyone says, he is presumed to be innocent.\" Moschetto,54, pleaded not guilty to all charges Wednesday.  He was released after posting $2 million bond and surrendering his passport. Zelin said that his next move is to get Dr. Moshetto back to work. \"He's got patients to see. This man, while he was in a detention cell, the only thing that he cared about were his patients. And amazingly, his patients were flooding the office with calls, making sure that he was OK,\" Zelin said. Two other men -- identified as James Chmela, 43, and James Kalamaras, 41 -- were named as accomplices, according to prosecutors. They pleaded not guilty in Nassau County District Court, according to authorities. Both were released on bail. A requests for comment from an attorney representing Chmela was not returned. It's unclear whether Kalamaras has retained an attorney. Police officers allegedly discovered approximately 100 weapons at Moschetto's home, including hand grenades, high-capacity magazines and knives. Many of the weapons were found in a hidden room behind a switch-activated bookshelf, according to prosecutors. The investigation began back in December, when undercover officers began buying heroin and oxycodone pills from Moschetto in what was initially a routine investigation into the sale of prescription drugs, officials said. During the course of the undercover operation, however, Moschetto also sold the officers two semiautomatic assault weapons as well as ammunition, prosecutors said. Moschetto allegedly told officers during one buy that he needed dynamite to \"blow up a building.\" He later said he no longer needed the dynamite because a friend was setting fire to the building instead. Kalamaras and Chmela are believed to have taken part in the arson, according to prosecutors. \"The fire damaged but did not destroy the office of another cardiologist whose relationship with Dr. Moschetto had soured due to a professional dispute,\" according to the statement from the district attorney's office. Moschetto allegedly gave an informant and undercover detective blank prescriptions and cash for the assault and killing of the fellow cardiologist, according to prosecutors. He also requested that the rival's wife be assaulted if she happened to be present, authorities said. \"He was willing to pay $5,000 to have him beaten and put in a hospital for a few months, and then he said he would pay $20,000 to have him killed,\" said Assistant District Attorney Anne Donnelly, according to CNN affiliate WCBS.\n",
            "\n",
            "Actual Summary: A lawyer for Dr. Anthony Moschetto says the charges against him are baseless .\n",
            "Moschetto, 54, was arrested for selling drugs and weapons, prosecutors say .\n",
            "Authorities allege Moschetto hired accomplices to burn down the practice of former associate .\n",
            "\n",
            "Original Prediction : attorney for cardiologist says allegations against his client \"completely unsubstantiated\"\n",
            "\n",
            "finetuned Prediction : Dr. Anthony Moschetto is charged with solicitation, conspiracy, burglary, ar\n",
            "=====================================================================\n",
            "\n",
            "Original Text: (CNN)President Barack Obama took part in a roundtable discussion this week on climate change, refocusing on the issue from a public health vantage point. After the event at Washington's Howard University on Tuesday, Obama sat down with me for a one-on-one interview. I asked him about the science behind climate change and public health and the message he wants the average American to take away, as well as how enforceable his action plan is. Here are five things I learned: . The President enrolled at Occidental College in Los Angeles in 1979 (he transferred to Columbia University his junior year). While in L.A., he said, the air was so bad that it prevented him from running outside. He remembers the air quality alerts and how people with respiratory problems had to stay inside. He credits the Clean Air Act with making Americans \"a lot\" healthier, in addition to being able to \"see the mountains in the background because they aren't covered in smog.\" Obama also said the instances of asthma and other respiratory diseases went down after these measures were taken. Peer-reviewed Environmental Protection Agency studies say that the Clean Air Act and subsequent amendments have reduced early deaths associated with exposure to ambient fine particle pollution and ozone, and reduced illnesses such as chronic bronchitis and acute myocardial infarction. The EPA estimates that, between 1970 and 2010, the act and its amendments prevented 365,000 early deaths from particulate matter alone. \"No challenge poses more of a public threat than climate change,\" the President told me. When I asked about the strength of the science supporting the direct relationship between climate change and public health, he said, \"We know as temperatures rise, insect-borne diseases potentially start shifting up. We know, in a very straight-forward fashion, that heatstroke and other heat-related illnesses and deaths potentially increase, and so what we're doing here is to make sure that in addition to public awareness around the potential for big storms like Hurricane Sandy or big wildfires or droughts, that people recognize there's a very personal, potential impact in climate change, and the good news is we can do something about it.\" In many ways, Obama is attempting to reframe the discussion around climate change as a public health issue that affects all of us, while conceding that we don't fully understand the magnitude of the correlation between rising temperatures and impact on human health. When asked what the average American can do about all this, the President encouraged ordinary citizens, doctors and nurses to start putting some pressure on elected officials \"to try and make something happen to reduce the impacts of climate change.\" He also issued a presidential proclamation declaring April 6-12 as National Public Health Week \"to better understand, communicate and reduce the health impacts of climate change on our communities.\" The average American can also do their part to reduce their own carbon footprint, including: . • Change your incandescent light bulbs to compact fluorescent lights. One CFL can reduce up to 1,300 pounds of carbon dioxide pollution during its lifetime. If every house in the U.S. switched its bulbs, we could reduce the electricity spent on lighting by half. • Unplug your gadgets and chargers when not in use. According to the U.S. Department of Energy, this practice can save $100 a year on your energy bill. • Use a laptop instead of a desktop. Laptops are designed to be energy-efficient, because battery life is a major factor in their design. According to Energy Star, a laptop can be up to 80% more energy-efficient than a desktop. • Filter your own water. Beyond the environmental toll of plastic waste, consider just how far your water was transported before you bought it at the grocery store. • Adjust your curtains and thermostats. If you keep your house 2 degrees warmer in the summer and 2 degrees colder in the winter, you can save big bucks on your energy bill. The Department of Energy estimates you can save up to 15% on your bill by turning off your thermostat when you're not at home. Obama did not appear particularly concerned about the current Supreme Court challenge to the Affordable Care Act. He  said he believes the statute is \"clear and straightforward.\" He said, \"I am not anticipating the Supreme Court would make such a bad decision.\" At issue is the 32 states that did not set up their own health care exchanges and left it to the federal government to do so. The plaintiffs in the lawsuit contend that the language of the Affordable Care Act does not allow for tax subsidies in those states (without state-based exchanges), possibly creating a situation, for example, in which people in Massachusetts would receive a tax credit, but people living in Texas would not. Obama did tell me that if the Supreme Court challenge is upheld, however, there is no Plan B. \"Millions of people would lose their health insurance. They would no longer be able to afford the health insurance that's being provided out there.\" Obama went on to say, \"I think this is the last gasp of folks who have been fighting against [the Affordable Care Act] for ideological reasons.\" He told me that he \"gets letters every day from people who say, 'you know what, the Affordable Care Act saved my life or saved my kid's life because I got insurance.' 'I thought I was healthy; turns out I had a tumor, but because I went and got a checkup, it was removed in time, and I'm now cancer-free.' \" He added, \"I think stories like that will be factored in when the Supreme Court takes a look at this case.\" CNN's Ben Tinker contributed to this report.\n",
            "\n",
            "Actual Summary: \"No challenge poses more of a public threat than climate change,\" the President says .\n",
            "He credits the Clean Air Act with making Americans \"a lot\" healthier .\n",
            "\n",
            "Original Prediction : president obama took part in a roundtable discussion on climate change.\n",
            "\n",
            "finetuned Prediction : Obama took part in a roundtable discussion this week on climate change. He says the\n",
            "=====================================================================\n",
            "\n",
            "Original Text: Moscow (CNN)A Russian TV channel aired Hillary Clinton's first campaign video with a rating stamp that means it's for mature audiences, because of fears it might run afoul of the country's anti-gay propaganda law. A clip of the video, which features a gay couple holding hands, got the 18+ rating from the independent TV Rain channel in Russia on Monday. The channel told CNN that it didn't want to break the controversial law, which bans \"propaganda of nontraditional sexual relations around minors\" and bars public discussion of gay rights and relationships within earshot of children. \"There are no legal precedents for this law, so we just don't know what comes under this law and (what) doesn't,\" a TV Rain spokesperson told CNN. \"Therefore, fearing to break the law -- especially given the high attention to TV Rain from the supervising authorities -- we decided to put a marker (on the video).\" Clinton's video was released over the weekend to announce the start of her 2016 U.S. presidential campaign. It features about five seconds of two men holding hands. One of the men says, \"I'm getting married this summer to someone I really care about.\" The former senator and first lady first declared her support for same-sex marriage in early 2013, saying that \"gay rights are human rights, and human rights are gay rights.\" Russia's controversial law caused an international outcry after it was passed by the Russian Parliament and signed by President Vladimir Putin in July 2013. Human Rights Watch described the anti-gay propaganda law as \"a profoundly discriminatory and dangerous bill that is bound to worsen homophobia in Russia.\" Rights campaigners called for a boycott of the 2014 Winter Olympics in Sochi, and a number of bars around the world stopped serving Russian vodka in protest. U.S. President Barack Obama -- Clinton's former boss -- said at the time that he found the legislation offensive. \"I have no patience for countries that try to treat gays or lesbians or transgendered persons in ways that intimidate them or harmful to them,\" Obama told Jay Leno in 2013. Putin defended the law, noting that unlike other countries, Russia decriminalized homosexual relationships (in 1993). \"We don't outlaw anything and don't nab anyone,\" he said before the 2014 Games. \"That's why you can feel safe and free here,\" he added, \"but please leave our children in peace.\" The rights group ILGA-Europe said in a May 2014 report that Russia was the worst place in Europe (out of 49 countries) for LGBTI people to live. READ MORE: Social media react to Hillary Clinton logo .\n",
            "\n",
            "Actual Summary: Presidential hopeful's video, featuring gay couple, gets mature rating in Russia .\n",
            "Russian TV channel feared airing it would break the country's anti-gay propaganda law .\n",
            "Clinton announced her support for same-sex marriage in 2013 .\n",
            "\n",
            "Original Prediction : a clip of the video features a gay couple holding hands. the video was released\n",
            "\n",
            "finetuned Prediction : Russian TV Rain channel aired Hillary Clinton's first campaign video with a rating stamp\n",
            "=====================================================================\n",
            "\n",
            "Original Text: (CNN)Marco Rubio is all in.  The Republican senator from Florida has announced that he is seeking the Republican presidential nomination, running on an optimistic message that he embodies the promise of the American Dream. With his youthful energy and Hispanic roots, it's tempting to see Rubio as the new blood that the GOP needs in order to compete against Hillary Clinton in 2016.  Yet Rubio has been his own worst enemy on what could have been his two signature issues: immigration reform and Cuba relations.  He holds little appeal to Latino voters.  And unless he can offer new ideas, his climb to the Republican nomination will be steep. Back in 2013, Rubio was a member of the Senate \"Gang of 8\" that crafted a bipartisan proposal for comprehensive reform, including a path to citizenship for the nation's estimated 11 million undocumented immigrants.  He later distanced himself from the bill after it ran into resistance from House Republicans, and now says he favors a piecemeal approach, starting with securing the border. His retreat on immigration means that Rubio has missed an opportunity to set himself apart from most of the presumptive Republican presidential candidates.  That's a shame, for this issue was supposed to be his calling card to Latino voters. Instead, Rubio has embraced a typical conservative approach to immigration.   He believes that President Obama's Deferred Action program, offering deportation relief to young immigrants, should be ended.  He has stated that the President's executive action on immigration, on hold pending a circuit court review, sets a \"horrifying precedent.\" Meanwhile, both the Deferred Action program and President Obama's executive action on immigration are overwhelmingly favored by Hispanics.  No wonder the research firm Latino Decisions reports that, \"We find no evidence that Rubio's candidacy will draw significant Latino support for his candidacy or for his party more generally.\"  So, if Rubio is counting on his ethnicity and personal history as the son of immigrants to win over fellow Hispanics, he is mistaken. At a private breakfast Monday for supporters, Rubio described running against \"one candidate in the race who's from yesterday, and one who wants to take us back to yesterday.\"  But when it comes to Cuba policy, Rubio himself seems firmly stuck in the past.  Over the weekend, he called the recent thaw in relations between the two countries ridiculous. He has warned that Cuba is taking advantage of the United States.  Here, he is an increasingly lonely voice.  Most Americans support better relations with Cuba, as do a majority of Cuban-Americans.  By clinging to the notion that isolating Cuba is better than engaging with the communist country, Rubio has marginalized himself on an issue where he could have provided insight and leadership. Immigration and Cuba policy aside, Rubio's political philosophy will be a tough sell to Hispanics.  He is a fierce opponent of \"Obamacare\" and wants the law repealed.  However, the Affordable Care Act has led to a 12.3% drop in the Hispanic uninsured rate, making Latinos the demographic with the largest gain in insurance, thanks to the law.  (In fact, Rubio signed his own family up for \"Obamacare\" on the Washington exchange, taking advantage of a generous federal subsidy offered to lawmakers.) Rubio favors smaller government, while Latinos are more likely than the general public to say they favor a bigger government that provides more services over a small government that provides less.  And though Rubio doubts that climate change is caused by humans, The New York Times has noted that Latinos view global warming as a problem and favor government action on the issue. Sure, Rubio is young and charismatic.  But his work on the failed immigration bill notwithstanding, Rubio has a significant lack of accomplishments to show for his five years in the senate.  In February, he was reported as topping the list of absentee lawmakers by the website Politico. Another Rubio weakness is his lack of bold policy proposals.  Consider that his fellow contender for the GOP presidential nomination, Sen. Rand Paul of Kentucky, has been willing to present new ideas to the Republican base, such as reforming the criminal justice system and legalizing medical marijuana.  Or that another GOP candidate for president, Sen. Ted Cruz  of Texas is entirely comfortable with his image as a conservative firebrand.  By comparison, Rubio seems cautious and ill-suited to the task of rousing Republican voters. With his early leap into the 2016 race, Marco Rubio is positioning himself as the next generation of GOP leadership.  Unfortunately, a fresh face on stale ideas is not a winning combination -- not for Rubio, and not for Latino voters.\n",
            "\n",
            "Actual Summary: Raul Reyes: In seeking Latino vote, Marco Rubio his own worst enemy on two key issues: immigration reform, Cuba relations .\n",
            "He says on health care, climate change and other issues, he breaks from Latinos' positions. Polls show they don't favor him .\n",
            "\n",
            "Original Prediction : marco Rubio is seeking the Republican presidential nomination. he says he has been\n",
            "\n",
            "finetuned Prediction : Marco Rubio is seeking the Republican presidential nomination. He says he has been his\n",
            "=====================================================================\n",
            "\n",
            "Original Text: (CNN)SPOILER ALERT! It's not just women getting cloned. That was the big twist at the end of \"Orphan Black's\" second season. The kickoff to the new season leads the list of six things to watch in the week ahead. 1. \"Orphan Black,\" 9 p.m. ET, Saturday, April 18, BBC America . The cloning cult sci-fi series remains one of the most critically acclaimed shows on TV, thanks in large part to the performance of Tatiana Maslany, who has taken on at least six roles on the show so far, including a newly introduced transgender clone. Maslany told reporters this week that we can expect even more impressive scenes with multiple clones. \"We like to push the boundaries of what we're able to do and the limits of those clone scenes,\" she said. \"So, yes, you'll definitely see more complex clone work this season and that's just because we're getting more comfortable with the technology and we're excited by getting to sort of further complicate things.\" And the introduction of a group of male clones will certainly increase the suspense. \"There definitely is a shift towards the Castor clones that we get to explore them a little bit more,\" she said. The fans of the show, dubbed the \"Clone Club\" have a lot to look forward to when the show premieres on Saturday the 18th, and Maslany is blown away by the response to the series so far. \"We've always been really humbled and really inspired by our fans and by their dedication to the show and their knowledge of the show, and  just how it changes their own lives. It's incredible.\" 2. \"Turn: Washington's Spies,\" 9 p.m. ET, Monday, AMC . The series about spies in the early days of the Revolutionary War returns with a new subtitle, \"Washington's Spies,\" and a new Monday night time slot. Series star Jamie Bell told CNN what we can expect in the second season. \"This year we have a lot more battles; we have the journey of [George] Washington and we're getting under his skin a little bit as well. We also introduce new characters like Benedict Arnold, a very infamous character in American history.\" Bell hopes the series might bring more recognition to the Culper spy ring and everything it did. \"I think there should be a monument to all of the Culper ring somewhere. I was amazed that there is nothing [in Washington] about these people who did something extraordinary.\" 3. \"Game of Thrones,\" 9 p.m. ET, Sunday, HBO . The world of Westeros returns for a fifth season in one of the biggest season premieres of the year. Click here for more on what to expect. 4. \"Justified,\" 10 p.m. ET, Tuesday, FX . Timothy Olyphant's tour de force performance as Raylan Givens comes to an end Tuesday night, as the modern-day Western airs its season finale. We'll have to see how his final showdown with Boyd Crowder goes. 5. \"Veep,\" 10:30 ET, Sunday, HBO . Hugh Laurie joins the cast and Julia Louis-Dreyfus is now the president of the United States on HBO's hit comedy. 6. \"Nurse Jackie,\" 9 p.m. ET, Sunday, Showtime . The final season of Showtime's long-running melodrama begins.\n",
            "\n",
            "Actual Summary: Critically acclaimed series \"Orphan Black\" returns .\n",
            "\"Turn: Washington's Spies\" starts a second season .\n",
            "\"Game of Thrones\" is back for season five .\n",
            "\n",
            "Original Prediction : \"Orphan Black\" kicks off the new season. the series is one of the\n",
            "\n",
            "finetuned Prediction : \"Orphan Black\" returns with a new subtitle, \"Washington's S\n",
            "=====================================================================\n",
            "\n",
            "Original Text: (CNN)Emergency operators get lots of crazy calls, but few start like this. Caller:  \"Hello, I'm trapped in this plane and I called my job, but I'm in this plane.\" Operator:  \"You're where?\" Caller:  \"I'm inside a plane and I feel like it's up moving in the air.  Flight 448 can you please tell somebody (to) stop it.\" The frantic 911 call came just as the Alaska Airlines flight had taken off from Seattle-Tacoma International Airport on Monday afternoon.  The caller was a ramp agent who fell asleep in the plane's cargo hold. The cell phone call soon broke up, but the man was making himself known in other ways as the crew and passengers reported unusual banging from the belly of the Boeing 737. The pilot radioed air traffic control and said he would make an emergency landing. \"There could be a person in there so we're going to come back around,\" he told air traffic control. The ramp agent who took the untimely nap and caused all the fuss is an employee of Menzies Aviation, a contractor for Alaska Airlines that handles loading the luggage. He'll no longer have the option of dozing aboard one of the airline's planes. \"The Menzies employee has been permanently banned from working on Alaska Airlines planes,\" said Bobbie Egan, a spokeswoman for the airline. Flight 448, which was on its way to Los Angeles, only spent 14 minutes in the air. Other than being scared, the agent never was in any real danger. The cargo hold is pressurized and temperature controlled, the airline said. The passengers knew something wasn't right, almost as soon as the plane took off. \"All of a sudden we heard all this pounding underneath the plane and we thought there was something wrong with the landing gear,\" Robert Higgins told CNN affiliate KABC. Not everyone heard the banging, but it was soon clear this wasn't a normal flight. \"We just took off for L.A. regular and then ... about five minutes into the flight the captain came on and said we were going back and we'd land within five to seven minutes, and we did,\" passenger Marty Collins told affiliate KOMO. \"When we landed was when all the trucks and the police and the fire trucks surrounded the plane.\" \"I think it's scary and really unsafe, too,\" Chelsie Nieto told affiliate KCPQ. \"Because what if it's someone who could have been a terrorist?\" The employee started work at 5 a.m. and his shift was scheduled to end at 2:30 p.m., just before the flight departed. The agent was off the two days prior to the incident and had taken a lunch break and a break in the afternoon before making his way into the cargo hold, according to a source familiar with the investigation. The man had been on a four-person team loading baggage onto the flight. \"During a pre-departure huddle, the team lead noticed the employee was missing. The team lead called into the cargo hold for the employee and called and texted the employee's cell phone, but did not receive an answer. His co-workers believed he finished his shift and went home,\" the airline's blog said. It's believed he was hidden by luggage, making it difficult for the rest of his team to see him, the source said. All ramp employees have security badges, and undergo full criminal background checks before being hired, according to the airline. After the delay, the flight with 170 passengers and six crew members on board made it to Los Angeles a couple of hours late. CNN's Dave Alsup, Joshua Gaynor and Greg Morrison contributed to this report.\n",
            "\n",
            "Actual Summary: The ramp agent fell asleep in the plane's cargo hold .\n",
            "He can no longer work on Alaska Airlines flights .\n",
            "\n",
            "Original Prediction : the flight 448 was on its way to los Angeles. the crew and passengers reported unusual\n",
            "\n",
            "finetuned Prediction : The plane was on its way to Los Angeles. The crew and passengers reported unusual banging\n",
            "=====================================================================\n",
            "\n",
            "Original Text: (CNN)Mullah Mohammed Omar is \"still the leader\" of the Taliban's self-declared Islamic Emirate of Afghanistan. That appears to be the primary message of a biography, just published by the Taliban, of the reclusive militant who is credited with founding the group in the early 1990s. The Taliban's \"Cultural Commission\" released the 11-page document in several different translations on the movement's website, ostensibly to commemorate the 19th anniversary of an April 4, 1996, meeting in Afghanistan's Kandahar province when an assembly of Afghans swore allegiance to Omar. Several Afghan observers say the biography is aimed at dispelling rumors of Omar's demise. \"There have been a lot of rumors lately about him. Some people are saying that he is not alive,\" said Sayyed Muhammad Akbar Agha, a former Taliban insider who has written an autobiography about his days with the movement. \"I think the Taliban thought it was an important time to release his biography to give assurances that he is alive and present,\" Agha told CNN in a telephone interview. Bergen: Why U.S. must stay in Afghanistan past 2016 . The biography also appears to be an attempt to remind the world of the Afghan's jihadi leadership credentials, at a time when ISIS leader Abu Bakr al-Baghdadi has declared himself \"caliph\" of the world's Muslims. \"The Taliban has a huge leadership problem at a critical political moment,\" said Graeme Smith, a Kabul-based analyst for the International Crisis Group. \"Another caliph has announced himself to the world, and the Taliban has been silent. And that is getting noticed by militants across South Asia.\" Omar was famously camera-shy during the Taliban's six-year rule over most of Afghanistan. To this day, there are only a handful of photographs of the one-eyed leader. \"He never was actively involved in any of these propaganda campaigns. No publicity. No interviews. He never used the Internet,\" said Rahimullah Yusufzai, a Pakistani journalist and expert on Afghanistan who once interviewed Osama bin Laden. Omar then all but disappeared after a U.S.-led bombing campaign routed the Taliban from Kabul in 2001. Washington has offered a $10 million reward for his capture. The Taliban have released written statements purportedly made by the leader-in-hiding. But years without any video or audio recordings of the fugitive have led to growing speculation that Omar may have died. The biography challenges rumors of Omar's death by offering a description of his daily work schedule, which begins with prayers, study of the Quran, and then delivering \"orders in a specific way to his Jihadi commanders.\" The publication also seeks to fill in some of the gaps about the militant's early years, including the detail that his \"preferred weapon of choice\" was the RPG-7, a rocket-propelled grenade. According to the biography, Omar was born in 1960 in a village called Chah-i-Himmat in Afghanistan's Kandahar province. His father, a \"well-known and respected erudite and social figure,\" died only five years later, apparently of natural causes. Omar studied at a religious school, or madrassa, run by his uncle. The rise of the Communist Party in Afghanistan, and the subsequent 1979 Soviet invasion, interrupted the young man's studies and propelled him into the arms of the armed Afghan opposition known as the mujahedeen. For the next decade, Omar commanded rebel groups \"against the invading Russians and their internal communist puppets,\" according to the biography. Along the way, he was wounded a number of times and was blinded in his right eye. In one battle, the biography claims, Omar and a fighter named Mullah Biradar Akhund destroyed four Soviet tanks, even though they were armed with only four RPG rounds. The Taliban biography makes no mention of the fact that the U.S., allied with Saudi Arabia and Pakistan, helped arm and bankroll the mujahedeen until the Soviet army withdrew in defeat in 1989. Afghan historians have documented the rapid rise of the Taliban in the chaotic years after the communist government in Kabul collapsed in 1992. The movement of warriors who identified themselves as religious scholars emerged to bring order to a country being ripped apart by rival mujahedeen warlords who battled one another for power. The Taliban biography says that Omar and his compatriots \"launched their struggle and fight against corruption and anarchy\" after an initial meeting in Kandahar in June 1994. Two years later, the Taliban captured Kabul and began imposing its austere interpretation of Islamic law on the rest of the country. While the document denounces the Taliban's post-9/11 overthrow at the hands of a U.S.-backed coalition of rival Afghan fighters, it makes no mention of the Taliban's alliance with bin Laden and al Qaeda. During a decade in exile, the Saudi-born bin Laden continued to release periodic video and audio statements until he was killed by U.S. raid on his hideout in the Pakistani city of Abbottabad in 2011. Though Taliban militants have continued to battle the U.S.-backed government across Afghanistan, Omar has not been seen or heard from in years. The movement claims he continues to oversee a Taliban leadership council, judiciary and nine executive commissions, as well as military commanders who operate in all 34 provinces of Afghanistan. Exclusive: ISIS 'recruits Afghans' in chilling video . CNN's Masoud Popalzai contributed to this report from Kabul, Afghanistan.\n",
            "\n",
            "Actual Summary: Mullah Omar, the reclusive founder of the Afghan Taliban, is still in charge, a new biography claims .\n",
            "An ex-Taliban insider says there have been rumors that the one-eyed militant is dead .\n",
            "\n",
            "Original Prediction : the biography of the reclusive militant is published by the Taliban. the tali\n",
            "\n",
            "finetuned Prediction : Taliban's \"Cultural Commission\" released the 11-page document in several different\n",
            "=====================================================================\n",
            "\n",
            "Original Text: (CNN)Wanted: film director, must be eager to shoot footage of golden lassos and invisible jets. CNN confirms that Michelle MacLaren is leaving the upcoming \"Wonder Woman\" movie (The Hollywood Reporter first broke the story). MacLaren was announced as director of the movie in November. CNN obtained a statement from Warner Bros. Pictures that says, \"Given creative differences, Warner Bros. and Michelle MacLaren have decided not to move forward with plans to develop and direct 'Wonder Woman' together.\" (CNN and Warner Bros. Pictures are both owned by Time Warner.) The movie, starring Gal Gadot in the title role of the Amazon princess, is still set for release on June 23, 2017. It's the first theatrical movie centering around the most popular female superhero. Gadot will appear beforehand in \"Batman v. Superman: Dawn of Justice,\" due out March 25, 2016. In the meantime, Warner will need to find someone new for the director's chair.\n",
            "\n",
            "Actual Summary: Michelle MacLaren is no longer set to direct the first \"Wonder Woman\" theatrical movie .\n",
            "MacLaren left the project over \"creative differences\"\n",
            "Movie is currently set for 2017 .\n",
            "\n",
            "Original Prediction : the movie is set for release on June 23, 2017. the movie is the first theatrical movie\n",
            "\n",
            "finetuned Prediction : Michelle MacLaren is leaving the upcoming \"Wonder Woman\" movie. The\n",
            "=====================================================================\n",
            "\n",
            "Original Text: London (CNN)British police investigating a spectacular heist in the heart of London's jewelry district said Friday they knew a burglar alarm went off but didn't respond. Southern Monitoring Alarm Company called the Metropolitan Police Service, also known as Scotland Yard, at 12:21 a.m. April 3 to report that the burglar alarm had been activated at Hatton Garden Safe Deposit Ltd., MPS said in a prepared statement. \"The call was recorded and transferred to the police's CAD (computer-aided dispatch) system,\" the statement said. \"A grade was applied to the call that meant that no police response was deemed to be required. We are now investigating why this grade was applied to the call. This investigation is being carried out locally. \"It is too early to say if the handling of the call would have had an impact on the outcome of the incident.\" The theft was so big that police haven't come up with a value for what was stolen. Over the four-day Easter holiday, thieves broke into the vault of Hatton Garden Safe Deposit Ltd. and might have been able to take as long as four days to rifle through the boxes. A former police official in London has speculated that the loss could run to £200 million, or $300 million, in a remark widely reported by news media. Numerous British news organizations put the value of the loss in the hundreds of thousands of pounds. Detective Chief Inspector Paul Johnson of the London Metropolitan Police Flying Squad said police were still identifying the owners of ransacked safe deposit boxes and trying to contact them to learn what had been lost. The British tabloid The Daily Mirror claimed Friday to have obtained closed-circuit TV footage that captured the robbery being carried out. The video showed people inside the building dressed like utility workers with their faces covered. They carried large bags, what looked like drill equipment and other tools, then exited with trash bins. Toward the end of the video, a white van can be seen on a street during daytime with individuals loading back their gear and the trash bins. British police told CNN they have not released any video of the heist. When asked about the video published by the Daily Mirror, police said they could not confirm that it was footage from the Hatton Garden robbery and that officers have not seen that particular video. The Daily Mirror published time-stamped images it said showed that the thieves had been -- as was feared -- in the vault for days. The Mirror's time stamps, which CNN has not been able to independently verify, show employees locking up for the weekend at 9:19 p.m. on Thursday. If the footage, and its interpretation by the newspaper are correct, at least six people were involved in the heist . Just four minutes later, the first of the thieves, nicknamed \"Mr. Ginger\" by the newspaper for his red hair, appears in the building holding a black bag. He goes downstairs toward the vault. At 9:27 p.m., a street camera shows a white Ford Transit van pulling up to an alley beside the Hatton Garden Safe Deposit building. Men are seen dragging trash bins down the alley before the van drives away, leaving the men behind. Inside the building, at 9:30p.m., the camera records a thief nicknamed \"The Gent\" for his natty clothing -- though he also wears a hard-hat and a high-visibility jacket labeled \"Gas\" on the back. A minute later, \"Mr. Strong\" appears, wearing a builder's hat and carrying steel supports, which the newspaper speculates could have been used to support the diamond-tipped drill used to smash through the wall of the vault. At 9:36 p.m., Mr. Strong and a thief nicknamed Mr. Montana for the logo on his hooded sweatshirt roll in trash bins, one of which might have contained, according the Mirror, the 77-pound drill that bored through the reinforced seven-foot concrete wall to reach the vault. It is unclear, but the thieves may have spent the night in the basement in or near the vault. At any rate, according to the Daily Mirror, no more activity is seen above ground until Friday morning, shortly before 8:00. The white van returns, is loaded in two minutes, and drives off again. On Saturday evening, Mr. Ginger returns, two days after he was first seen. The newspaper says is wearing latex gloves and carrying a black sack. He goes downstairs toward the vault. Saturday evening also marked the first appearance of the Tall Man, who helped carry some of the loot out of the building. Early Sunday, Mr Ginger, the Tall Man and a robber nicknamed the Old Man are seen to be active. The Tall Man and the Old Man struggle to move a bin before they drag it outside. The Old Man leans on the bin, struggling for breath, and reveals the side of his face to the camera. A white van arrives by the alley and the men start loading equipment on it, including several trash bins. Three men get into the white van and, at 6:44 a.m. they are gone. The heist would not be reported to police for two more days, on Tuesday morning when employees of the company arrived for work. Police said Thursday there was no sign of forced entry. Johnson said the thieves appeared to have gained access to the vault through the shaft of an elevator that is used by several businesses in the building. The thieves disabled the elevator on the second floor of the building -- which would be called the third floor in the United States -- then climbed down the elevator shaft into the basement, he said. Once there, he said, they used a drill to bore through a 6-foot-thick wall and gain access to the vault where the safe deposit boxes were. People with knowledge of the area have speculated that cash and jewels were probably taken. Some jewelry businesses reportedly stored some of their jewels in the boxes rather than leaving it in their stores over the holiday weekend. Johnson said the scene in the vault remained chaotic as police continued their forensic examination. He said the floor was covered with dust and littered with safe deposit boxes and power tools. WATCH: Top five jewelry heists . Johnson called the crime sophisticated and said there were a limited number of people in the United Kingdom capable of pulling it off. He said he had no idea whether the thieves were still in the country. Although there was no sign of forced entry to the building, the detective said, \"whether that involves inside knowledge will form part of the investigation.\" Hatton Garden is a storied area in London and the heart of the city's diamond trade. The area's promotional website says it is home to \"the largest and most concentrated cluster of jewellery retailers in the UK\" and has been for quite some time. \"History tells us that the old City of London had certain streets -- or quarters -- dedicated to specific types of business,\" the website says. \"The Hatton Garden area has been the epicentre of London's jewellery trade since medieval times. \"Today, it maintains its international reputation as the centre of London's diamond trade. It is one of the finest and most renowned jewellery locations in the world.\" How was $4.8 million in gold swiped from a North Carolina highway? The website of Hatton Garden Safe Deposit Ltd. says the company was founded in 1954 and offers a \"secure and cost-effective solution to store and protect important and irreplaceable personal belongings.\"\n",
            "\n",
            "Actual Summary: British tabloid releases video it says shows the robbery being carried out .\n",
            "British police say they didn't respond to a burglar alarm in jewelry district .\n",
            "Police give no value of the amount taken in the heist in London's jewelry district .\n",
            "\n",
            "Original Prediction : police say they knew a burglar alarm went off but didn't respond. the burglar\n",
            "\n",
            "finetuned Prediction : Police say they knew a burglar alarm went off but didn't respond. The Metropolitan\n",
            "=====================================================================\n",
            "\n",
            "Original Text: (CNN)The Baltimore mother who slapped her son several times and pulled him out of a protest told CNN on Wednesday she wasn't concerned that she might be embarrassing her son. \"Not at all,\" Toya Graham told CNN's \"Anderson Cooper 360˚\" in an interview that aired Wednesday night. \"He was embarrassing himself by wearing that mask and that hoodie and doing what he was doing.\" The video of Graham yanking her son, Michael Singleton, and slapping him with a right hand as CNN affiliate WMAR recorded has led to the Internet calling Graham #motheroftheyear. Many people have praised the unemployed, single mother of six for going to the Mondawmin Mall and getting her son away from the escalating violence. Graham told Cooper that she saw her son with a brick in his hand, and she lost control of her emotions and told him to drop it. Wednesday night: Across United States, protests in support of Baltimore demonstrators . \"I did (get emotional). You know, once he threw that rock down I said, 'You weren't brought up like this,' \" Graham said. He's not a perfect child, but he's also not a thug, she said. The 16-year-old boy said he understood that his mother was there looking out for him. \"She didn't want me to get in trouble (with the) law. She didn't want me to be like another Freddie Gray,\" he said, referring to the 25-year-old man who died of a severe spinal injury after being arrested by Baltimore police. Gray's death has sparked daily protests over police brutality. There have also been riots and looting that prompted the city to put a curfew into effect. Graham said her son told her the night before the violence at the mall that something was up. She told him then and the next morning not to go. He swore to her he wouldn't. Her motherly sense kicked in when she heard school had closed early and the mall was shutting down, too. She went to the mall and focused on the teens who were tossing rocks and bricks. There he was, in sweatpants she recognized. They made eye contact. He had a brick in his hand, and that set her off. Wednesday night: Marchers back in the streets of Baltimore . \"I was so angry with him that he had made a decision to do some harm to the police officers,\" she said. She yelled at him to put the brick down. Singleton said he had seen her, but it didn't make sense that his mother would be there. But when he heard her voice, he realized it really was his mom -- and he was in big trouble. Then the camera captured her memorable smackdown. \"It was just World War III from right there,\" he said, showing some humor about the incident. Graham noticed the TV crew but didn't think anything of it. And she didn't care. \"I wasn't there to be recorded. I was there to get my child,\" she said. Tameka Brown, one of Graham's five daughters, told CNN on Tuesday it wasn't that hard for her mom to spot her 16-year-old half-brother. \"She knows her son and picked him out. Even with the mask on, she knew,\" Brown said. Brown said her mother is always looking out for her children. \"She has always been tough and knows where we are at,\" Brown said. Graham said she tries to steer her son away from potential trouble and troublemakers. \"As long as I have breath in my body I will always try to do right by Michael and show him what's going on out in society doesn't have to be you,\" she told CNN. Her son said that once they got home from the mall he understood why she pulled him out of the crowd. \"I was embarrassed a little bit, until she just started talking to me when we got home,\" he said. \"(She was) just telling me she did it because she cared about me. And it wasn't to embarrass me, but because she cared.\" CNN's Elise Miller and AnneClaire Stapleton contributed to this report. Watch Anderson Cooper 360° weeknights 8pm ET. For the latest from AC360° click here.\n",
            "\n",
            "Actual Summary: Video of Toya Graham going to a protest and forcefully removing her son went viral, drew a lot of praise .\n",
            "The single mother of six tells CNN her son was scolded that he wasn't brought up that way .\n",
            "Michael Singleton says he knows his mom was trying to protect him .\n",
            "\n",
            "Original Prediction : toya Graham tells \"Anderson Cooper 360 \" she didn't want\n",
            "\n",
            "finetuned Prediction : Toya Graham says her son was embarrassed by wearing a mask and hoodie\n",
            "=====================================================================\n",
            "\n",
            "Original Text: (CNN)Ever had a headache so big, you felt like drilling a hole in your head to let the pain out? In Neolithic times trepanation -- or drilling a hole into the skull -- was thought to be a cure for everything from epilepsy to migraines. It could even have been a form of emergency surgery for battle wounds. But while there is still conjecture about the real reasons behind the mysterious procedure, what is known is that the implement often used to carry out the primitive surgery was made from one of the sharpest substances found in nature -- obsidian. Obsidian -- a type of volcanic glass -- can produce cutting edges many times finer than even the best steel scalpels. At 30 angstroms -- a unit of measurement equal to one hundred millionth of a centimeter -- an obsidian scalpel can rival diamond in the fineness of its edge. When you consider that most household razor blades are 300-600 angstroms, obsidian can still cut it with the sharpest materials nano-technology can produce. Even today, a small number of surgeons are using an ancient technology to carry out fine incisions that they say heal with minimal scarring. Dr. Lee Green, professor and chair of the Department of Family Medicine at the University of Alberta, says he routinely uses obsidian blades. \"The biggest advantage with obsidian is that it is the sharpest edge there is, it causes very little trauma to tissue, it heals faster and more importantly it heals with less scarring,\" he said. \"It makes for the best cosmetic outcome.\" He explained that steel scalpels at a microscopic level have a rough cutting edge that tears into tissue, a function of the crystals that make up the metal. Obsidian, meanwhile, cleaves into a fine and continuous edge when properly cut. Dr. Green said he once helped documentary makers produce a program on surgical technology in ancient Egyptian, setting up a blind test on the cutting power of obsidian. Using cultured-skin burn dressing, a substance composed of skin cells, he made an incision with a modern scalpel and a parallel incision with an obsidian scalpel. The host of the program was then invited to look at the cuts under a video microscope and tell the difference. \"It wasn't hard to tell the difference at all -- as soon as he turned around everyone in the studio was like 'Ohhh',\" Dr. Green said. \"Under the microscope you could see the obsidian scalpel had divided individual cells in half, and next to it the steel scalpel incision looked like it had been made by a chainsaw.\" Modern obsidian scalpels look nothing like the decorative flint-knapped knives of Neolithic man, often resembling their modern counterparts in everything except for the blade edge, but Dr. Green said they are a very different animal. \"The feel is very different because obsidian has no 'bite,'\" he said. \"If you look under the microscope at a steel scalpel edge it looks almost like a saw, it has teeth, whereas obsidian is smooth even microscopically. \"It's a very different feel to work with and you have to practice before you start using it in surgery. \"You also have to be careful not to nick yourself with it because you don't even feel it!\" And Dr. Green believes incisions made with these blades heal faster. He said a colleague who needed a mole removed agreed to undergo an experiment where half the procedure was carried out with an obsidian scalpel and the other half was removed with steel. \"What's really fun is seeing it heal,\" he said. \"Four weeks later the difference was quite remarkable -- there was very much a difference in scarring.\" In Germany, the manufacturer Fine Science Tools produces obsidian scalpels which can be used in situations where the patient may have an allergy to steel or metal. \"For studies where trace metals from ordinary scalpel blades cannot be tolerated, these very special obsidian scalpels may provide the answer,\" the company says. At €99 per scalpel ($107.40), they represent a considerable saving on their diamond cousins which the company prices at €712.50 ($772.60). But there has been little academic research into the efficacy of obsidian blades compared to steel scalpels, and they do have disadvantages: Obsidian scalpels are not Food and Drug Administration (FDA) approved, and they are extremely brittle and prone to breaking if lateral forces are applied -- meaning they are unlikely to ever be in widespread use. Dr. Green, whose scalpels were manufactured for him by an expert flint-knapper and archaeologist Errett Callahan, concedes the Stone Age scalpels are not for everyone. \"If it was let loose on the market there'd be far too many injuries from it,\" he said. \"It's very fragile and it's very easy to break pieces off.\"\n",
            "\n",
            "Actual Summary: Obsidian can produce cutting edges many times finer than even the best steel scalpels .\n",
            "Some surgeons still use the blades in procedures today .\n",
            "\n",
            "Original Prediction : obsidian can produce cutting edges many times finer than steel scalpels. a\n",
            "\n",
            "finetuned Prediction : Ostracists are using ancient technology to cut fine incisions. They say\n",
            "=====================================================================\n",
            "\n",
            "Original Text: (CNN)More than 500 Houthi rebels have been killed since the start of Saudi-led military operations against Yemeni Shia fighters, a Saudi Defense Ministry official said Saturday, according to the state-run Saudi Press Agency. A Saudi general said Saturday the nine-nation coalition has undertaken 1,200 airstrikes since they began on March 26. Gen. Ahmed Asiri added that the raids aim to keep the rebels from moving toward southern Yemen,  according to the SPA. Clashes took place Friday near the Saudi-Yemeni border, in the Najran region. Saudi forces responded to mortar rounds fired by Houthis on a Saudi border site. Three Saudi military officers were killed and two others were wounded in the shelling, a defense official said, according to SPA. A Saudi source also confirmed to CNN's Nic Robertson that three Saudi soldiers were killed in the shelling. The Yemeni Health Ministry on Saturday said 385 civilians have been killed and 342 others have been wounded. The World Health Organization has put higher figure on both tolls -- 648 killed and 2,191 wounded -- but includes militant casualties in the totals. Yemen has been descending into chaos in the weeks since Houthi rebels -- minority Shiites who have long complained of being marginalized in the majority Sunni country -- forced Yemeni President Abdu Rabu Mansour Hadi from power in January. And even before the crisis escalated with the Saudi airstrikes, most of the 25 million people in Yemen required humanitarian assistance to meet their most basic needs, the United Nations said Friday. CNN's Pierre Meilhan and Mohammed Tawfeeq contributed to this report.\n",
            "\n",
            "Actual Summary: Saudi general says more than 1,200 airstrikes since campaign began March 26 .\n",
            "Three Saudis were killed in attack on border position, source tells CNN .\n",
            "\n",
            "Original Prediction : a total of 1,200 airstrikes have been carried out since the start of the\n",
            "\n",
            "finetuned Prediction : Saudi general: More than 500 Houthi rebels have been killed since start of Saudi-\n",
            "=====================================================================\n",
            "\n",
            "Original Text: Washington (CNN)Nearly 6 in 10 Americans say that businesses that provide wedding-related services should be required to provide those services to same-sex couples in the same way they would all other customers, even if they have religious objections. A new CNN/ORC poll finds 57% feel businesses such as caterers or florists should be required to serve gay or lesbian couples just as they would heterosexual couples, while 41% say they should be allowed to refuse service for religious reasons. That's a shift from a Pew Research Center poll conducted last fall, which found just 49% thought businesses ought to be required to serve same-sex couples while 47% that they should be allowed to refuse service on religious grounds. Since the Pew poll last fall, Indiana's Religious Freedom Restoration Act, signed into law in late March by Republican governor Mike Pence, sparked a nationwide controversy over whether the law allowed wedding-related businesses to refuse service to gay and lesbian couples. Apple, Walmart and the NCAA all spoke out against the law, while some states and cities with Democratic leaders barred spending public money in Indiana. Pence and other Indiana legislators insisted discrimination was not the law's intent and a bill to change the original law was signed in early April. In the CNN/ORC Poll, most Democrats (70%) and independents (60%) say wedding-related businesses should be required to provide services to same-sex couples as they would different-sex couples, while Republicans break broadly the other way, 67% say religious reasons are a valid justification for refusing service. Full poll results . Looking at Republicans and independents who lean toward the Republican Party, 60% in that group say wedding-related businesses should be allowed to refuse services to same-sex couples, but there are sharp divides within that group by age and ideology. Moderate and liberal Republicans and Republican-leaners broadly say wedding-related businesses should be required to serve all couples the same way (58%) while three-quarters of conservative Republicans favor allowing a caterer or florist to refuse service for religious reasons (74%). Among Republicans and Republican-leaning independents under age 50, 56% say wedding-related businesses should be required to serve same-sex and different-sex couples the same way while among those age 50 or older, 72% think they should not be required to do so. The big gay wedding cake quiz . Age differences hold across party lines, but the generation gap among Republicans and Republican-leaners is larger than that among Democrats and Democratic-leaning independents. Overall, white evangelicals are broadly in favor of allowing businesses to refuse service for religious reasons - 62% say they should be able to. But among whites who are not evangelicals, 61% say such businesses should be required to provide services to all couples the same way. The shift from the Pew Center results comes across demographic lines. Men, women, whites, younger adults and senior citizens all are more apt than in the Pew poll to say wedding-related business should be required to serve same-sex couples as they do others. The CNN/ORC International poll was conducted by telephone, April 16-19, among a random national sample of 1,018 adult Americans. Results for the full poll have a margin of sampling error of plus or minus 3 percentage points. Michigan auto repair shop says yes to gun owners, no to homosexuals .\n",
            "\n",
            "Actual Summary: Most Americans say businesses should not discriminate against same-sex weddings .\n",
            "Public opinion has shifted on the issue since last fall .\n",
            "Indiana passed and later changed its religious freedom law after public outcry .\n",
            "\n",
            "Original Prediction : 57% of americans say businesses should be required to serve gay or lesbian couples.\n",
            "\n",
            "finetuned Prediction : CNN/ORC poll finds 57% feel businesses should be required to serve gay or lesbian\n",
            "=====================================================================\n",
            "\n",
            "Original Text: (CNN)James Holmes made his introduction to the world in a Colorado cinema filled with spectators watching a midnight showing of the new Batman movie, \"The Dark Knight Rises,\" in June 2012. The moment became one of the deadliest shootings in U.S. history. Holmes is accused of opening fire on the crowd, killing 12 people and injuring or maiming 70 others in Aurora, a suburb of Denver. Holmes appeared like a comic book character: He resembled the Joker, with red-orange hair, similar to the late actor Heath Ledger's portrayal of the villain in an earlier Batman movie, authorities said. But Holmes was hardly a cartoon. Authorities said he wore body armor and carried several guns, including an AR-15 rifle, with lots of ammo. He also wore a gas mask. Holmes says he was insane at the time of the shootings, and that is his legal defense and court plea: not guilty by reason of insanity. Prosecutors aren't swayed and will seek the death penalty. Opening statements in his trial are scheduled to begin Monday. Holmes admits to the shootings but says he was suffering \"a psychotic episode\" at the time,  according to court papers filed in July 2013 by the state public defenders, Daniel King and Tamara A. Brady. Evidence \"revealed thus far in the case supports the defense's position that Mr. Holmes suffers from a severe mental illness and was in the throes of a psychotic episode when he committed the acts that resulted in the tragic loss of life and injuries sustained by moviegoers on July 20, 2012,\" the public defenders wrote. Holmes no longer looks like a dazed Joker, as he did in his first appearance before a judge in 2012. He appeared dramatically different in January when jury selection began for his trial: 9,000 potential jurors were summoned for duty, described as one of the nation's largest jury calls. Holmes now has a cleaner look, with a mustache, button-down shirt and khaki pants. In January, he had a beard and eyeglasses. If this new image sounds like one of an academician, it may be because Holmes, now 27, once was one. Just before the shooting, Holmes was a doctoral student in neuroscience, and he was studying how the brain works, with his schooling funded by a U.S. government grant. Yet for all his learning, Holmes apparently lacked the capacity to command his own mind, according to the case against him. A jury will ultimately decide Holmes' fate. That panel is made up of 12 jurors and 12 alternates. They are 19 women and five men, and almost all are white and middle-aged. The trial could last until autumn. When jury summonses were issued in January, each potential juror stood a 0.2% chance of being selected, District Attorney George Brauchler told the final jury this month. He described the approaching trial as \"four to five months of a horrible roller coaster through the worst haunted house you can imagine.\" The jury will have to render verdicts on each of the 165 counts against Holmes, including murder and attempted murder charges. Meanwhile, victims and their relatives are challenging all media outlets \"to stop the gratuitous use of the name and likeness of mass killers, thereby depriving violent individuals the media celebrity and media spotlight they so crave,\" the No Notoriety group says. They are joined by victims from eight other mass shootings in recent U.S. history. Raised in central coastal California and in San Diego, James Eagan Holmes is the son of a mathematician father noted for his work at the FICO firm that provides credit scores and a registered nurse mother, according to the U-T San Diego newspaper. Holmes also has a sister, Chris, a musician, who's five years younger, the newspaper said. His childhood classmates remember him as a clean-cut, bespectacled boy with an \"exemplary\" character who \"never gave any trouble, and never got in trouble himself,\" The Salinas Californian reported. His family then moved down the California coast, where Holmes grew up in the San Diego-area neighborhood of Rancho Peñasquitos, which a neighbor described as \"kind of like Mayberry,\" the San Diego newspaper said. Holmes attended Westview High School, which says its school district sits in \"a primarily middle- to upper-middle-income residential community.\" There, Holmes ran cross-country, played soccer and later worked at a biotechnology internship at the Salk Institute and Miramar College, which attracts academically talented students. By then, his peers described him as standoffish and a bit of a wiseacre, the San Diego newspaper said. Holmes attended college fairly close to home, in a neighboring area known as Southern California's \"inland empire\" because it's more than an hour's drive from the coast, in a warm, low-desert climate. He entered the University of California, Riverside, in 2006 as a scholarship student. In 2008 he was a summer camp counselor for disadvantaged children, age 7 to 14, at Camp Max Straus, run by Jewish Big Brothers Big Sisters of Los Angeles. He graduated from UC Riverside in 2010 with the highest honors and a bachelor's degree in neuroscience. \"Academically, he was at the top of the top,\" Chancellor Timothy P. White said. He seemed destined for even higher achievement. By 2011, he had enrolled as a doctoral student in the neuroscience program at the University of Colorado Anschutz Medical Campus in Aurora, the largest academic health center in the Rocky Mountain region. The doctoral in neuroscience program attended by Holmes focuses on how the brain works, with an emphasis on processing of information, behavior, learning and memory. Holmes was one of six pre-thesis Ph.D. students in the program who were awarded a neuroscience training grant from the National Institutes of Health. The grant rewards outstanding neuroscientists who will make major contributions to neurobiology. A syllabus that listed Holmes as a student at the medical school shows he was to have delivered a presentation about microRNA biomarkers. But Holmes struggled, and his own mental health took an ominous turn. In March 2012, he told a classmate he wanted to kill people, and that he would do so \"when his life was over,\" court documents said. Holmes was \"denied access to the school after June 12, 2012, after he made threats to a professor,\" according to court documents. About that time, Holmes was a patient of University of Colorado psychiatrist Lynne Fenton. Fenton was so concerned about Holmes' behavior that she mentioned it to her colleagues, saying he could be a danger to others, CNN affiliate KMGH-TV reported, citing sources with knowledge of the investigation. Fenton's concerns surfaced in early June, sources told the Denver station. Holmes began to fantasize about killing \"a lot of people\" in early June, nearly six weeks before the shootings, the station reported, citing unidentified sources familiar with the investigation. Holmes' psychiatrist contacted several members of a \"behavioral evaluation and threat assessment\" team to say Holmes could be a danger to others, the station reported. At issue was whether to order Holmes held for 72 hours to be evaluated by mental health professionals, the station reported. \"Fenton made initial phone calls about engaging the BETA team\" in \"the first 10 days\" of June, but it \"never came together\" because in the period Fenton was having conversations with team members, Holmes began the process of dropping out of school, a source told KMGH. Defense attorneys have rejected the prosecution's assertions that Holmes was barred from campus. Citing statements from the university, Holmes' attorneys have argued that his access was revoked because that's normal procedure when a student drops enrollment. What caused this turn for the worse for Holmes has yet to be clearly detailed. In the months before the shooting, he bought four weapons and more than 6,000 rounds of ammunition, authorities said. Police said he also booby-trapped his third-floor apartment with explosives, but police weren't fooled. After Holmes was caught in the cinema parking lot immediately after the shooting, bomb technicians went to the apartment and neutralized the explosives. No one was injured at the apartment building. Nine minutes before Holmes went into the movie theater, he called a University of Colorado switchboard, public defender Brady has said in court. The number he called can be used to get in contact with faculty members during off hours, Brady said. Court documents have also revealed that investigators have obtained text messages that Holmes exchanged with someone before the shooting. That person was not named, and the content of the texts has not been made public. According to The New York Times, Holmes sent a text message to a fellow graduate student, a woman, about two weeks before the shooting. She asked if he had left Aurora yet, reported the newspaper, which didn't identify her. No, he had two months left on his lease, Holmes wrote back, according to the Times. He asked if she had heard of \"dysphoric mania,\" a form of bipolar disorder marked by the highs of mania and the dark and sometimes paranoid delusions of major depression. The woman asked if the disorder could be managed with treatment. \"It was,\" Holmes wrote her, according to the Times. But he warned she should stay away from him \"because I am bad news,\" the newspaper reported. It was her last contact with Holmes. After the shooting, Holmes' family issued a brief statement: \"Our hearts go out to those who were involved in this tragedy and to the families and friends of those involved,\" they said, without giving any information about their son. Since then, prosecutors have refused to offer a plea deal to Holmes. For Holmes, \"justice is death,\" said Brauchler, the district attorney. In December, Holmes' parents, who will be attending the trial, issued another statement: They asked that their son's life be spared and that he be sent to an institution for mentally ill people for the rest of his life, if he's found not guilty by reason of insanity. \"He is not a monster,\" Robert and Arlene Holmes wrote, saying the death penalty is \"morally wrong, especially when the condemned is mentally ill.\" \"He is a human being gripped by a severe mental illness,\" the parents said. The matter will be settled by the jury. CNN's Ana Cabrera and Sara Weisfeldt contributed to this report from Denver.\n",
            "\n",
            "Actual Summary: Opening statements are scheduled Monday in the trial of James Holmes .\n",
            "Jury selection took three months .\n",
            "Holmes faces 165 counts in the movie theater massacre that killed 12 people .\n",
            "\n",
            "Original Prediction : a judge has ruled that he was insane at the time of the shootings\n",
            "\n",
            "finetuned Prediction : Holmes is accused of opening fire on the crowd, killing 12 people and injuring 70 others\n",
            "=====================================================================\n",
            "\n"
          ]
        }
      ]
    },
    {
      "cell_type": "markdown",
      "source": [
        "##Wikihow"
      ],
      "metadata": {
        "id": "MJCiKNHu2-tj"
      }
    },
    {
      "cell_type": "code",
      "execution_count": 40,
      "metadata": {
        "colab": {
          "base_uri": "https://localhost:8080/"
        },
        "outputId": "959116f9-9a3e-4469-f64c-fc2ac5694461",
        "id": "ku44RlIG2-tp"
      },
      "outputs": [
        {
          "output_type": "stream",
          "name": "stderr",
          "text": [
            "Using custom data configuration all-6f5101161f12f62f\n",
            "Reusing dataset wikihow (/root/.cache/huggingface/datasets/wikihow/all-6f5101161f12f62f/1.2.0/5343fc81d685acaa086c9cc19eb8706206cd1f8b315792b04c1d7b92091c305e)\n"
          ]
        }
      ],
      "source": [
        "#load test dataset\n",
        "test_wiki = datasets.load_dataset(\"wikihow\", \"all\", \"/content/drive/MyDrive/dataset\", split='test')"
      ]
    },
    {
      "cell_type": "code",
      "execution_count": 41,
      "metadata": {
        "colab": {
          "base_uri": "https://localhost:8080/"
        },
        "outputId": "8ac415b0-7bf4-4648-acd1-615b89b87788",
        "id": "rAa9SVX_2-tp"
      },
      "outputs": [
        {
          "output_type": "execute_result",
          "data": {
            "text/plain": [
              "Dataset({\n",
              "    features: ['text', 'headline', 'title'],\n",
              "    num_rows: 2000\n",
              "})"
            ]
          },
          "metadata": {},
          "execution_count": 41
        }
      ],
      "source": [
        "small_test = test_wiki.select(list(range(2000)))\n",
        "small_test"
      ]
    },
    {
      "cell_type": "code",
      "execution_count": 42,
      "metadata": {
        "id": "YwWT25Wu2-tp"
      },
      "outputs": [],
      "source": [
        "# generate summary\n",
        "batch_size = 16\n",
        "max_input_length=512\n",
        "max_target_length=128\n",
        "\n",
        "def generate_summary(batch):\n",
        "    sentences = [prefix + text for text in batch['text']]\n",
        "    inputs = tokenizer(sentences, padding=\"max_length\", truncation=True, max_length=max_input_length, return_tensors=\"pt\")\n",
        "    input_ids = inputs.input_ids.to(torch_device)\n",
        "    attention_mask = inputs.attention_mask.to(torch_device)\n",
        "\n",
        "    outputs = model.generate(input_ids, attention_mask=attention_mask)\n",
        "    # all special tokens including will be removed\n",
        "    output_str = tokenizer.batch_decode(outputs, skip_special_tokens=True)\n",
        "\n",
        "    batch[\"pred\"] = output_str\n",
        "    return batch"
      ]
    },
    {
      "cell_type": "code",
      "execution_count": 43,
      "metadata": {
        "colab": {
          "base_uri": "https://localhost:8080/",
          "height": 49,
          "referenced_widgets": [
            "d353aeac1f6f4ab9ac8b42dd2aa873c6",
            "346200dc68344e6ba03ab102192dc57c",
            "839fa6ac668e4458972fd3b7f6f30cc5",
            "c29316a29e284653bfd1feb0fbe2e61c",
            "96eb493a7da84a3da806b63f25aea452",
            "1df30706a8e746bdb29fd3bd71cd379f",
            "cf989d184a2c4d5c8ed32b9742a8916a",
            "10db391e229f446faa151b4e1775290f",
            "3e59788eb2ad4098b3b92aef6dee9f82",
            "ccd4d4507d7d4a73a7bee52366bc5471",
            "88ac6e02281643e78999cc1916ede1c1"
          ]
        },
        "outputId": "737ab0e6-06c1-4b48-87a3-3380fff8909f",
        "id": "RGRKaAuw2-tq"
      },
      "outputs": [
        {
          "output_type": "display_data",
          "data": {
            "text/plain": [
              "  0%|          | 0/125 [00:00<?, ?ba/s]"
            ],
            "application/vnd.jupyter.widget-view+json": {
              "version_major": 2,
              "version_minor": 0,
              "model_id": "d353aeac1f6f4ab9ac8b42dd2aa873c6"
            }
          },
          "metadata": {}
        }
      ],
      "source": [
        "results = small_test.map(generate_summary, batched=True, batch_size=batch_size, remove_columns=[\"text\"])"
      ]
    },
    {
      "cell_type": "code",
      "execution_count": 44,
      "metadata": {
        "colab": {
          "base_uri": "https://localhost:8080/"
        },
        "outputId": "5ed7a837-1129-4a02-c8f5-738c8a9f652f",
        "id": "vs6iO3gT2-tq"
      },
      "outputs": [
        {
          "output_type": "execute_result",
          "data": {
            "text/plain": [
              "Dataset({\n",
              "    features: ['headline', 'title', 'pred'],\n",
              "    num_rows: 2000\n",
              "})"
            ]
          },
          "metadata": {},
          "execution_count": 44
        }
      ],
      "source": [
        "results"
      ]
    },
    {
      "cell_type": "code",
      "execution_count": 45,
      "metadata": {
        "id": "OpQeCMro2-tq"
      },
      "outputs": [],
      "source": [
        "rouge_score = metric.compute(predictions=results[\"pred\"], references=results[\"headline\"], use_stemmer=True)\n",
        "# Extract a few results\n",
        "rouge_mean = {key: value.mid.fmeasure * 100 for key, value in rouge_score.items()}"
      ]
    },
    {
      "cell_type": "code",
      "source": [
        "rouge_mean"
      ],
      "metadata": {
        "colab": {
          "base_uri": "https://localhost:8080/"
        },
        "outputId": "8b409358-1e18-43af-83f6-991f7fbfd3b5",
        "id": "wHpCGK2h2-tq"
      },
      "execution_count": 46,
      "outputs": [
        {
          "output_type": "execute_result",
          "data": {
            "text/plain": [
              "{'rouge1': 16.174629778065576,\n",
              " 'rouge2': 3.349838153623965,\n",
              " 'rougeL': 12.693453349403388,\n",
              " 'rougeLsum': 14.893588649729676}"
            ]
          },
          "metadata": {},
          "execution_count": 46
        }
      ]
    },
    {
      "cell_type": "code",
      "source": [
        "!ls "
      ],
      "metadata": {
        "colab": {
          "base_uri": "https://localhost:8080/"
        },
        "id": "JlVuzqZ0ixVI",
        "outputId": "9155e147-013e-4f28-9d93-ee2c20f5c6a2"
      },
      "execution_count": null,
      "outputs": [
        {
          "output_type": "stream",
          "name": "stdout",
          "text": [
            "content\t\t\t\t   prophetnet-large-uncased-finetuned-wiki.zip\n",
            "drive\t\t\t\t   prophetnet-large-uncased-finetuned-xsum.zip\n",
            "prophetnet-finetuned-cnn-half.zip  sample_data\n"
          ]
        }
      ]
    },
    {
      "cell_type": "code",
      "source": [
        "#load fine-tuned model\n",
        "!cp '/content/drive/My Drive/weights/t5-small-finetuned-wiki.zip' '/content'"
      ],
      "metadata": {
        "id": "QQm3SEr_2-tq"
      },
      "execution_count": 47,
      "outputs": []
    },
    {
      "cell_type": "code",
      "source": [
        "!unzip t5-small-finetuned-wiki.zip"
      ],
      "metadata": {
        "colab": {
          "base_uri": "https://localhost:8080/"
        },
        "outputId": "1d0e3d73-c845-44fc-8871-966fa64c21d3",
        "id": "thtsN-Xz2-tq"
      },
      "execution_count": 48,
      "outputs": [
        {
          "output_type": "stream",
          "name": "stdout",
          "text": [
            "Archive:  t5-small-finetuned-wiki.zip\n",
            "   creating: content/t5-small-finetuned-wiki/checkpoint-19657/\n",
            "  inflating: content/t5-small-finetuned-wiki/checkpoint-19657/scaler.pt  \n",
            "  inflating: content/t5-small-finetuned-wiki/checkpoint-19657/scheduler.pt  \n",
            "  inflating: content/t5-small-finetuned-wiki/checkpoint-19657/tokenizer_config.json  \n",
            "  inflating: content/t5-small-finetuned-wiki/checkpoint-19657/optimizer.pt  \n",
            "  inflating: content/t5-small-finetuned-wiki/checkpoint-19657/config.json  \n",
            "  inflating: content/t5-small-finetuned-wiki/checkpoint-19657/pytorch_model.bin  \n",
            "  inflating: content/t5-small-finetuned-wiki/checkpoint-19657/tokenizer.json  \n",
            "  inflating: content/t5-small-finetuned-wiki/checkpoint-19657/special_tokens_map.json  \n",
            "  inflating: content/t5-small-finetuned-wiki/checkpoint-19657/rng_state.pth  \n",
            "  inflating: content/t5-small-finetuned-wiki/checkpoint-19657/trainer_state.json  \n",
            "  inflating: content/t5-small-finetuned-wiki/checkpoint-19657/training_args.bin  \n"
          ]
        }
      ]
    },
    {
      "cell_type": "code",
      "source": [
        "finetuned_model = T5ForConditionalGeneration.from_pretrained('content/t5-small-finetuned-wiki/checkpoint-19657/').to(torch_device)"
      ],
      "metadata": {
        "id": "DCmNNKmx2-tq"
      },
      "execution_count": 49,
      "outputs": []
    },
    {
      "cell_type": "code",
      "source": [
        "# generate summary\n",
        "\n",
        "def finetuned_summary(batch):\n",
        "    sentences = [prefix + text for text in batch['text']]\n",
        "    inputs = tokenizer(sentences, padding=\"max_length\", truncation=True, max_length=max_input_length, return_tensors=\"pt\")\n",
        "    input_ids = inputs.input_ids.to(torch_device)\n",
        "    attention_mask = inputs.attention_mask.to(torch_device)\n",
        "\n",
        "    outputs = finetuned_model.generate(input_ids, attention_mask=attention_mask)\n",
        "    # all special tokens including will be removed\n",
        "    output_str = tokenizer.batch_decode(outputs, skip_special_tokens=True)\n",
        "\n",
        "    batch[\"pred\"] = output_str\n",
        "    return batch"
      ],
      "metadata": {
        "id": "HBflSSZG2-tq"
      },
      "execution_count": 50,
      "outputs": []
    },
    {
      "cell_type": "code",
      "source": [
        "finetuned_results = small_test.map(finetuned_summary, batched=True, batch_size=batch_size, remove_columns=[\"text\"])"
      ],
      "metadata": {
        "colab": {
          "base_uri": "https://localhost:8080/",
          "height": 49,
          "referenced_widgets": [
            "2e401a08a9bc409c931215a83bc1cce4",
            "12d9ae21726e43e78bff773cea3a8a7d",
            "cd1752223e6947c4abaaa0e704913797",
            "66da49dee84e4072b8a7fbfdf19784c2",
            "884516fd403148f7b5c92c9ed59f1960",
            "22d234fe156941499040dc8339ecbc3f",
            "4aff174098824cd1a023f5d2f0d2407d",
            "2233272a97fb451689aa773518ade0dc",
            "93cba154e03245e9907cdcddd96b133c",
            "c3e9c7be7ee44e94a981cba978eeb0c3",
            "7a0450c00ea2449e9f8a98e8912fa294"
          ]
        },
        "outputId": "957116d5-2ccc-4884-bccf-95416a1f988d",
        "id": "3Xw84_ik2-tr"
      },
      "execution_count": 51,
      "outputs": [
        {
          "output_type": "display_data",
          "data": {
            "text/plain": [
              "  0%|          | 0/125 [00:00<?, ?ba/s]"
            ],
            "application/vnd.jupyter.widget-view+json": {
              "version_major": 2,
              "version_minor": 0,
              "model_id": "2e401a08a9bc409c931215a83bc1cce4"
            }
          },
          "metadata": {}
        }
      ]
    },
    {
      "cell_type": "code",
      "source": [
        "finetuned_score = metric.compute(predictions=finetuned_results[\"pred\"], references=finetuned_results[\"headline\"], use_stemmer=True)\n",
        "# Extract a few results\n",
        "finetuned_rouge_mean = {key: value.mid.fmeasure * 100 for key, value in finetuned_score.items()}"
      ],
      "metadata": {
        "id": "n9UgtIQ92-tr"
      },
      "execution_count": 52,
      "outputs": []
    },
    {
      "cell_type": "code",
      "source": [
        "rouge_mean"
      ],
      "metadata": {
        "colab": {
          "base_uri": "https://localhost:8080/"
        },
        "outputId": "acff8d90-ef2a-4678-c8a3-f414eebb2607",
        "id": "KnllJC5b2-tr"
      },
      "execution_count": 53,
      "outputs": [
        {
          "output_type": "execute_result",
          "data": {
            "text/plain": [
              "{'rouge1': 16.174629778065576,\n",
              " 'rouge2': 3.349838153623965,\n",
              " 'rougeL': 12.693453349403388,\n",
              " 'rougeLsum': 14.893588649729676}"
            ]
          },
          "metadata": {},
          "execution_count": 53
        }
      ]
    },
    {
      "cell_type": "code",
      "source": [
        "finetuned_rouge_mean"
      ],
      "metadata": {
        "colab": {
          "base_uri": "https://localhost:8080/"
        },
        "outputId": "34e0ddcc-44f0-4474-ebaf-6d713ba904c3",
        "id": "-tQlxPRk2-tr"
      },
      "execution_count": 54,
      "outputs": [
        {
          "output_type": "execute_result",
          "data": {
            "text/plain": [
              "{'rouge1': 24.197973776859396,\n",
              " 'rouge2': 8.30502818359228,\n",
              " 'rougeL': 20.336830114247313,\n",
              " 'rougeLsum': 22.887015549111293}"
            ]
          },
          "metadata": {},
          "execution_count": 54
        }
      ]
    },
    {
      "cell_type": "code",
      "source": [
        "for i in range(20, 30):\n",
        "    print(\"Original Text: %s\" % small_test[i]['text'])\n",
        "    print(\"\\nActual Summary: %s\" % results[i]['headline'])\n",
        "    print(\"\\nOriginal Prediction : %s\" % results[i]['pred'])\n",
        "    print(\"\\nfinetuned Prediction : %s\" % finetuned_results[i][\"pred\"])\n",
        "    print(\"=====================================================================\\n\")"
      ],
      "metadata": {
        "colab": {
          "base_uri": "https://localhost:8080/"
        },
        "outputId": "d3dec63a-d210-4818-e1e7-466aabeccbb8",
        "id": "Oc9QU4b12-tr"
      },
      "execution_count": 55,
      "outputs": [
        {
          "output_type": "stream",
          "name": "stdout",
          "text": [
            "Original Text: In general, dwarf hamsters have thickset bodies, large cheek pouches, and short tails. Make sure it does not have any nasal or eye discharge, nor any other signs of illness. Russian dwarf hamsters are particularly prone to diabetes. A hamster suffering from this condition will drink a lot of water and urinate more frequently than other dwarf hamsters.Be sure to consult your veterinarian if you suspect that your hamster has diabetes.\n",
            " A recently weaned or an extremely stressed out dwarf hamster may come down with a disease called “wet tail.” Your hamster experiences diarrhea — the excessive moisture from this causes its tail to become literally wet. Consult a veterinarian for a proper diagnosis and treatment.\n",
            "\n",
            "\n",
            "Tyzzer’s disease causes diarrhea in young or stressed hamsters. This is a disease that needs veterinarian treatment. Certain antibiotics can cause and exacerbate this condition, so don’t treat your hamster on your own., Like dogs and cats, dwarf hamsters can suffer from parasites like tapeworms. Tapeworms are the most predominant, so be on the look out. When you clean out your hamster’s cage, be on the lookout for signs of diarrhea and little white rice-like worm segments.If you suspect that your dwarf hamster has a tapeworm, see a veterinarian. Bring a stool sample with you. With the help of a microscope, your vet will be able to properly diagnose your hamster. Your vet will prescribe a dewormer for you to use. It will come in either a topical or an oral form. Follow the instructions on the product in order to administer., Dwarf hamsters are susceptible to cold viruses just like humans. Occasionally, this can escalate to pneumonia. A dwarf hamster with pneumonia will have eye and nasal discharge. It will also stop eating. This is serious. Call your veterinarian immediately., Dwarf hamsters are prone to abscess formation as well, often caused by their teeth. This is most common around their head and cheek pouch areas. Assesses are essentially infected pockets of puss that will appear underneath your hamster's skin and fur. If present, they will be sensitive to touch. Your hamster will resist your inspection. Contact your veterinarian about how you should proceed. In many cases, the abscess will heal on its own, but if it gets too bad, your vet will probably have to lance and treat the spot.\n",
            "\n",
            "Actual Summary: Identify a healthy dwarf hamster.\n",
            "Check for wet tail.\n",
            "Look for signs of parasites.\n",
            "Check their eyes and nose regularly.\n",
            "Look for abscesses too.\n",
            "\n",
            "Original Prediction : dwarf hamsters have thickset bodies, large cheek pouches, and short tail\n",
            "\n",
            "finetuned Prediction : Check your dwarf hamster’s body. Look for signs of diarrhea. Check your vet\n",
            "=====================================================================\n",
            "\n",
            "Original Text: A hamster's teeth and nails do not stop growing. This is why hamsters need chews and sand to keep their teeth and nails filed down. Occasionally, you may need to have your hamster's teeth or nails trimmed if they become overgrown. Unless you're professionally trained, it's best to take your hamster into the vet when he needs a trim. You want to make sure the procedure is done safely and your hamster is not hurt in the process., Hamsters are not always friendly to new pets. If you're going to introduce a second hamster, do so when your current hamster is still young. Also, do not place a male and female in the same cage unless you want them to breed. Hamsters are very fertile and a female can give birth to 3 to 18 babies every 30 days.If you do add a new hamster, you should spend several days introducing them. Keep your hamsters in separate cages where they can see each other for a few days. When you do place them in the same cage, keep an eye on them to make sure there's no fighting. You might want to wear protective gloves during the introduction. In the event of a fight, you may have to separate the hamsters., As stated, a wheel is an essential part of your hamster's health. However, you want to make sure your hamster's wheel is big enough for safe use. Small wheels can cause back problems from your hamster bending his back to fit the wheel. If you have a larger hamster, go for a bigger sized wheel.At minimum, look for a wheel of at least 6.5 inches. Certain types of hamster, like Syrian hamsters, tend to grow very big. In this case, you should get a wheel that's at lest 8 inches., You should never let your hamster out of his cage unsupervised. If you use a hamster ball or similar device, only allow your hamster to roam in it when you're watching. Accidents and mishaps can occur, resulting in injury and even death. Your hamster should never be allow to roam the house without supervision.\n",
            "\n",
            "Actual Summary: Trim teeth and nails regularly.\n",
            "Take precautions when introducing a new hamster.\n",
            "Get the right wheel.\n",
            "Supervise your hamster when you let him out of his cage.\n",
            "\n",
            "Original Prediction : hamsters need chews and sand to keep their teeth and nails filed down\n",
            "\n",
            "finetuned Prediction : Keep your hamster's teeth and nails filed down. Introduce your hamsters\n",
            "=====================================================================\n",
            "\n",
            "Original Text: Vitamin C is an important nutrient for guinea pigs. Guinea pigs cannot produce vitamin C in their bodies, so they must obtain it through their diet. Feed your guinea pigs vitamin C-rich foods like oranges, broccoli, and leafy greens (e.g., kale, parsley, spinach). You can also feed them Vitamin C-fortified pellets.Vitamin C in pellets can break down quickly. Check the milling date (processing date) on the package. Feed the pellets within 90 days of the milling date to ensure your guinea pigs get enough vitamin C from the pellets.You could put vitamin C drops in your guinea pigs' water bottle. However, vitamin C breaks down very quickly in water. Plus, the drops could make the water taste bad.A guinea pig needs at least 50 milligrams of vitamin C each day to stay healthy.Without enough vitamin C, a guinea pig’s immune system could weaken., Your good hygiene can prevent respiratory problems in guinea pigs. If you have multiple guinea pigs, wash your hands between handling each one.This is especially important if one of your guinea pigs is sick.\n",
            " Dental problems can lead to respiratory problems in guinea pigs. For example, the tooth roots (located above the gum line) of a guinea pig’s cheek teeth are fairly close to the nasal airways.If these roots get pushed upward because of another dental problem, a guinea pig could develop respiratory problems, like a sinus infection.\n",
            "\n",
            "\n",
            "Dental problems require veterinary treatment, such as surgery and antibiotics.\n",
            "\n",
            "Actual Summary: Include Vitamin C in your guinea pig’s diet.\n",
            "Wash your hands.\n",
            "Have your vet correct dental problems.\n",
            "\n",
            "Original Prediction : vitamin C in pellets can break down quickly. guinea pigs need\n",
            "\n",
            "finetuned Prediction : Feed your guinea pigs vitamin C-rich foods. Feed your\n",
            "=====================================================================\n",
            "\n",
            "Original Text: Certain hamster species should be kept alone, in separate cages, and away from other species. Certain species can also only socialize if they are of the same gender. Take your hamster to the vet to confirm her species, or ask the pet store where you purchased your hamster about her species.Syrian hamsters, also called Golden hamsters, are the most common species, and the largest of the species. They come in a variety of colors, though the most common is a golden, light brown coat with black spots and a white underbelly. They also have beady eyes, large ears, and short tails.Syrian hamsters should never be kept together as they are territorial and solitary creatures. These aggressive tendencies start to develop when Syrian hamsters are between 6 and 8 weeks old. Once they reach 8 weeks, they should be housed on their own in separate cages.Dwarf hamsters are the second most common species and are smaller than Syrian hamsters. Dwarf hamsters have a dark strip of fur running from their head down to their tail and are often brown in color, unless they are albino, then they will be all white.Dwarf hamsters usually prefer to live socially, in pairs or groups. But their sociability varies, and some dwarf hamsters prefer to live alone.\n",
            "Chinese Dwarf hamsters are the third most common species. They are small, about 4-5 inches long, with silky gray-brown fur and black stripes down their backs. These hamsters are sometimes mistaken for mice, as they have longer tails than other hamster species. Their long tails make them great jumpers and climbers. They enjoy human interaction, but don't usually play well with other hamsters, so keep only one per a cage. They are also nocturnal, so they will run around and make noise at night.Please note that there is no such thing as hamster breeds. There are only hamster species and colorings.;\n",
            ", The best rule of thumb is to keep hamsters of the same gender together and separate hamsters of different genders in separate cages. Hamsters of the same gender tend to fight and squabble less than hamsters of different genders.If you want to try to keep hamsters of different genders in the same cage, introduce them when they are young., This initial set up allows the hamsters to get used to each other's scent without physical contact. Let them smell and interact with each other through the bars of their separate cages. Once they appear to be tolerating each other, try putting them in the same cage.\n",
            "\n",
            "\n",
            "Before you put them in the same cage, make sure the cage is neutral and does not contain the scent of either hamster. The cage should be clean or new, have clean bedding, and clean toys. This will give the hamsters fewer things to fight over and dissuade them from fighting over territory.\n",
            " Once you place the hamsters together in one cage, pay attention to how they interact with each other. Do they play with each other at least once a day or ignore each other? Does one hamster seem more forward or aggressive than the other hamster? This will help you get a sense of their dynamic and if they are starting to become aggressive with each other.\n",
            "\n",
            "\n",
            "Do not leave your hamsters alone in their cage until you are satisfied that they are tolerating each other. You should feel they are not physically dangerous to one another or likely to harm each other. If you are not sure if they are getting along, remove them from the same cage and place them back in separate cages. Try placing them together again the following day and watch them interact for signs they are getting along.\n",
            " Normal squabbling between your hamsters is about dominance, where one hamster puts the other in her place and asserts herself as a dominant one. If your hamsters are chasing and squeaking, this is considered normal squabbling. It can be loud and distressing to watch, but as long it is brief bursts of chasing, sniffing, and squealing, it is considered normal dominance behavior. You should let the hamsters squabble and not interfere, as this is their natural way of asserting dominance.One hamster may jump on top of the other hamster until the bottom hamster squeaks in submission. The hamster on top, now confirmed dominant, should then release the bottom hamster.\n",
            "These displays of dominance can happen over and over, and as long as the hamsters get up and resume their activities, it’s normal. Normal squabbling can occur for a few weeks when the hamsters are first placed in a cage together, and may happen over the course of the hamsters’ lives.Avoid interfering with your hamster when they are squabbling or removing one hamster from the cage and then putting her back in the cage again. As long as the hamsters are squabbling, you should let them respond to each other on their own. Pulling one hamster out of the cage can create confusion and stress out your hamsters., Fighting is characterized as biting, chasing, and one hamster cornering another hamster to prevent escape. These are not normal dominance displays, they are signs of bullying and fighting between your hamsters.One hamster may cause injury to the other hamster and prevent the bullied hamster from eating, drinking, or sleeping.\n",
            "A bullied hamster may become withdrawn, lose or gain weight and stop playing with the other hamster or with you. She may also even become aggressive towards you when you hold her or touch her. These are all signs of severe distress, and you will likely need to adjust the bullied hamster’s living space or separate her from the other hamster., Some hamsters, even if they are the same gender, may end up fighting despite your best efforts to keep them both happy. If the bullied hamster is displaying stress signs like lack of appetite, fearful hiding, or injuries from biting by the dominant hamster, its time to move the bullied hamster to a separate cage. Separate hamsters are better than aggressive and stressed out hamsters together in the same cage.Once you move the bullied hamster to a new cage, try to keep the new cage as close to her old cage as possible. This will allow her to transition more easily to the new cage and reduce her stress levels., It’s important that once you separate the hamsters, you do not take them out of their cages at the same time, place them together in a cage, or play with them together. They may start fighting again or act aggressively towards each other if they are socializing at the same time.\n",
            "\n",
            "Actual Summary: Determine the species of your hamsters.\n",
            "Find out the gender of your hamsters.\n",
            "Put the hamsters in separate cages side by side.\n",
            "Watch your hamsters play and interact in their cage.\n",
            "Be prepared for normal squabbling between your hamsters.\n",
            "Look for signs of fighting between your hamsters.\n",
            "Move a bullied hamster to a different cage.\n",
            "Do not let the hamsters socialize once they are separated.\n",
            "\n",
            "Original Prediction : hamsters are the most common species, and the largest of the species. they\n",
            "\n",
            "finetuned Prediction : Keep hamsters of the same gender. Keep hamsters of the same gender\n",
            "=====================================================================\n",
            "\n",
            "Original Text: Immediately after it bites, give a quick, gentle puff of air in its face. This will distract the hamster from biting while not harming them. It will also encourage them to let go of you., Lower the hamster into the cage. Remember not to grab your hamster around the sides as you do so. The hamster will need time to cool off before you handle them again. If the hamster is still biting your skin, you can gently pry them off of you., Wash the bite with warm water. Use antibacterial soap. You can also apply an antibacterial ointment on the wound. If you are bleeding or skin was broken, put a bandage or light dressing on the wound. Watch the wound for swelling. If swelling does not go away after three days, visit a doctor.If a child or pregnant woman has been bitten, watch for flu-like symptoms following the bite such as nausea, muscle pain, or fever. This could be a sign that they have contracted lymphocytic choriomeningitis (LCM) from the hamster., Constant biting may be a sign of health problems. Visiting the vet will also ensure that it does not have any health problems or diseases that it could pass onto you.\n",
            "\n",
            "Actual Summary: Blow in your hamster’s face.\n",
            "Return the hamster to their cage.\n",
            "Treat the wound.\n",
            "Take your hamster to the vet.\n",
            "\n",
            "Original Prediction : hamster bites may be signs of lymphocytic choriomen\n",
            "\n",
            "finetuned Prediction : Give the hamster a puff of air. Remove the hamster from the cage\n",
            "=====================================================================\n",
            "\n",
            "Original Text: Hamsters sleep most of the day and are most active in the evening and night. If you wake your hamster, she may be grumpy and resistant to handling. Always let your hamster wake up on her own before playing with her., Hamsters have a very keen sense of smell. It is important that you wash all food scents off your hands, or your hamster may bite you., The smell of bedding will make your hamster feel safer in your hands., Before you can play with your hamster outside her cage, you need to get her used to being handled by you. Start by feeding your hamster treats from your hand. When your hamster approaches you without fear, try letting her play in your hand. When she is comfortable there, pick her up. Gradually increase the amount of time you hold your hamster.Always let your hamster sniff at your closed fist before attempting to pick her up. Do not surprise her.Always handle your hamster over a table or while sitting on the ground. Otherwise, your hamster might suffer a serious injury if she squirms out of your grasp. A fall of only one foot can seriously injure a hamster.If your hamster tries to squirm away or bites you, put it back in its cage. It is tired of being held.\n",
            " Play with your hamster in an enclosed area. Be aware that hamsters can escape through very small spaces, such as under doors, so you will need to keep your pet under supervision when playing outside its cage.Don’t play in an area with a small space that your hamster can squeeze into to hide, such as underneath couches or drawers.\n",
            "Bathrooms are convenient enclosed space to play in, but be sure to shut the toilet lid.\n",
            "Consider purchasing a hamster playpen to make sure your pet can’t escape. It should be larger than the hamster’s cage. Also consider covering the pen with a mesh screen so your pet can’t escape.\n",
            "Purchasing a child’s wading pool is an easy way to provide an enclosed, inexpensive play space., If it’s there, your hamster will probably chew on it. Be sure to remove all electrical cords from the area where your hamster is playing.Also remove any toxic plants, such as azalea, daffodil, oleander, speedwell, buttercups, bindweed, bluebells, ragwort, elder, hemlock, and privet. For a complete list of toxic plants, see here.\n",
            " Hamsters have almost no instinctual fear of falling, and a tumble off a high table or counter can seriously injure your pet. Don’t leave your hamster alone in high places, and always be on hand to keep her from falling., Imagine sharing a room with a giant monster that wants to eat you. Not fun. Even if your hamster is safe, they will find the presence of your dog or cat stressful., If your hamster gets loose, all is not lost. Having a plan in advance can ward off panic and make it much more likely you will find your pet.Search near the hamster’s cage first.\n",
            "Look in small places: behind and underneath furniture, in between cushions on sofas and chairs, on bookshelves, in drawers, and inside shoes, tissues boxes, and shoe boxes.\n",
            "If your search fails, leave the cage open and place your hamster’s favorite food near and inside it. Turn out the lights and wait for your hamster to come.\n",
            "If that fails, set out some food before you go to sleep and surround it with flour so that your hamster’s tracks lead you back to its hiding place.\n",
            " Wild hamsters run miles each day to find food. Your pet doesn’t have to work that hard, but she still has the instinct to run. Put a hamster wheel in your pet’s cage and watch her go.The wheel should be large enough that your hamster’s back does not bend.Solid wheels are preferable, as your hamsters toes or legs may get caught between the bars of a wire wheel.Check the wheel periodically to make sure it is rotating freely. Remove any obstructions as needed and grease with olive oil or vegetable oil.\n",
            " Wooden branches give your hamster something to chew and climb on in her cage, but make sure they are thoroughly cleaned first. Wash each branch with soapy water, let it dry, and then bake it for 45 minutes at 200°F to kill any bugs or eggs. And be sure to use wood that is not toxic to hamsters, such as willow, pear or apple, cottonwood, pecan, or mulberry. For a full list of safe and unsafe woods, see here.\n",
            " Hamsters love to crawl through leftover toilet paper and paper towel tubes. Try taping several together to make a tunnel maze for your pet., Simply run the string through the roll and tie it to the top of your hamster’s habitat so that it hangs just off the floor., Tie several laces from side to side or leave a few hanging down. Your hamster will love to climb and pull on them. But be sure to remove the plastic tips covering the ends, so that your pet does not eat them and get sick., Hamster’s love to forage for food. Hide food all around your hamster’s cage – in tubes, on platforms, in corners – and watch her find it., To maximize your hamster’s health and happiness, you need to give her time outside her cage. And it’s fun! Just be sure your that hamster is hand-tamed and that you play with her in a safe, enclosed area., Hamsters enjoy being cuddled, so long as you don’t squeeze too hard, and they’ll also have fun exploring you. This is a great way to bond with your hamster and teach her to trust you.Be sure you are seated on the ground so that your hamster doesn’t hurt herself if she falls. Better yet, try lying on your back with your hamster on your chest.\n",
            "Make sure you are in an enclosed area so your hamster can’t escape.Limit your time handling your hamster to 10-15 minutes, and for the first few times only 3-4 minutes. If you handle your hamster for too long, she will try to escape or bite you., These are plastic or rubber balls that you can place your hamster inside so that she can safely explore your home. They are basically a hamster wheel on the go.Be sure to get a ball with ventilation slots.\n",
            "Wash the ball with soap and water after each use. Let it dry completely before re-using.\n",
            "Limit time in the ball to 10-15 minutes, and giver your hamster a chance to drink and eat afterwards., You can make your maze walls out of anything: glued together Popsicle sticks, cardboard, blocks, books, etc. Place some treats in the maze and watch your hamster explore.To make sure your hamster doesn’t escape, consider placing the maze inside a large cardboard box.\n",
            " Any secure area with no means of escape can serve as a playpen for your hamster. You can purchase a variety of toys, but your pet will also enjoy exploring household objects such as:\n",
            "\n",
            "\n",
            "Paper towel or toilet paper tubes\n",
            "Tissue or shoe boxes\n",
            "Paper bags\n",
            "Shoes\n",
            "Ramps (a propped up piece of wood or cardboard)\n",
            "Cereal boxes\n",
            "\n",
            ", A hamster can carry up to half her body weight in her cheek pouches! Scatter grains or crumbs on the table and watch your hamster collect them.But be careful what you feed your hamster. Foods to avoid include:Junk food: pizza, chocolate, potato chips, pickles, salted peanuts or other high salt foods\n",
            "Citrus fruits, dried fruits, fruit pips, or apple seeds\n",
            "Iceberg lettuce, parsley, or rhubarb\n",
            "Avocado, eggplant, onions, peppers, mushrooms, or garlic\n",
            "Potatoes, kidney beans or red beans\n",
            "Red meat\n",
            "\n",
            "Actual Summary: Let sleeping hamster lie.\n",
            "Wash your hands first.\n",
            "Rub your hands in clean hamster bedding.\n",
            "Hand-tame your hamster.\n",
            "Make sure your hamster cannot escape when playing outside her cage.\n",
            "Remove any hazards when playing outside the cage.\n",
            "Be careful when playing with your hamster on a table or counter.\n",
            "Remove your other pets from the room when playing with your hamster out of the cage.\n",
            "Know how to recapture your hamster if she escapes.\n",
            "Watch your hamster run.\n",
            "Add some nature.\n",
            "Create a cardboard tube maze.\n",
            "Make a swing with a little string and a used roll of duct tape or packaging tape.\n",
            "Tie shoelaces to the top of your hamster’s cage.\n",
            "Hide food in your hamster’s cage and watch her find it.\n",
            "Let your hamster out of her cage to play every day.\n",
            "Cuddle your hamster and let her crawl on you.\n",
            "Get a hamster ball.\n",
            "Make a maze.\n",
            "Put your hamster in a playpen with toys.\n",
            "Watch your hamster gather food.\n",
            "\n",
            "Original Prediction : hamsters have a keen sense of smell and are most active in the evening and\n",
            "\n",
            "finetuned Prediction : Wake your hamster. Wash your hands. Give your hamster treats. Keep your\n",
            "=====================================================================\n",
            "\n",
            "Original Text: Helmet itch can be caused by a variety of things. While some causes may be due to your helmet or helmet lining, your itchy scalp may be due to a medical condition, such as contact dermatitis or even lice or ringworm. You'll wan to check with your doctor if you have an on-going issue with helmet itch so that you can be properly diagnosed. Other things can also cause helmet itch, from static to hair length to hair products.\n",
            "\n",
            "\n",
            "The causes of helmet itch may be due to potential issues with your scalp rather than the helmet. If this is the case, simply cleaning your helmet may not alleviate helmet itch.\n",
            "When you are trying to figure out the cause of helmet itch, try different tactics until one works. Even though one issue may be solved, another may be the one causing helmet itch.\n",
            " This is a condition in which your skin is exposed to an irritating foreign substance or an allergen, leading to itching, redness, and discomfort. You may be reacting to the material in your helmet or possibly a chemical used to treat the inside of your helmet. Make an appointment to see your doctor for a proper diagnosis., Your itchy scalp may be caused by more than just sweat or irritation — you may have dermatophytosis, or ringworm, which is a fungal infection of the skin (don't worry, there's no actual \"worm\" in ringworm). Ringworm commonly affects the scalp and can cause itching. Look also for raised, red, scaly patches; patches that resemble a ring; blisters that begin to ooze.See your doctor for a diagnosis of ringworm. If ringworm is confirmed, then your doctor can prescribe you medication and discuss treatment.\n",
            "If you have a ringworm infection, you will need to thoroughly clean your helmet, as you could reinfect yourself. Discuss this with your doctor.\n",
            " Another common cause of an itchy scalp is a lice infestation. Lice are parasites whose bites can cause itching. If you have lice, you may notice a tickling sensation on your scalp; red, itchy bumps; difficulty sleeping; or tiny white objects in your hair, which are lice eggs, or nits.Get someone to check your hair for lice or visit your doctor for diagnosis and treatment. You'll need to thoroughly disinfect your helmet (as well as your bedding, clothes, and other items that might harbor lice) to ensure you don't become reinfested.\n",
            " In most cases, helmet itch caused by static occurs pretty quickly after putting on the helmet. If static is the issue, you can try to wet your hair and scalp before putting on your helmet.\n",
            "\n",
            "\n",
            "For helmet itch caused by static, the best tactic is to have wet hair when putting on your helmet. Wet hair is heavier and is less inclined to produce static electricity.Static electricity can also be dangerous. If you are riding a motorcycle, static electricity could potentially spark a fire when you're filling up your bike., Hair length can be a factor and may also contribute to increased itchiness. If you have long hair, you’re more likely to experience moderate to severe itch more frequently, since your helmet will be more humid.\n",
            "\n",
            "\n",
            "If your hair is especially long, it may be a good idea to braid it or put it in a bun. This can keep your hair out of your face, but also keep it isolated to avoid helmet itch.Very short hair can also cause itchiness. If you have very short hair, try wearing a protecting covering to keep your hair protected from the helmet., If possible, avoid using hair products that dry out your hair, which can cause scalp irritation when placed on the skin. These products can be especially itchy in humid conditions.\n",
            "\n",
            "\n",
            "Switching to hair products that moisturize your hair can help prevent itchy scalp. In particular, try to avoid products that contain sodium lauryl sulfate (SLS) since these can dry out your scalp.Additionally, eating healthy fats such as nuts and avocado can provide your hair with plenty of natural oils. These can make your hair less dry and make you less prone to itchy scalp.\n",
            "\n",
            "Actual Summary: Identify the underlying cause of helmet itch.\n",
            "Consider that it may be contact dermatitis.\n",
            "Check for ringworm.\n",
            "Check for lice.\n",
            "Consider static as the cause of helmet itch.\n",
            "Think about the length of your hair.\n",
            "Note the hair products you are using.\n",
            "\n",
            "Original Prediction : helmet itch can be caused by contact dermatitis or even lice or ringworm\n",
            "\n",
            "finetuned Prediction : Check with your doctor if you have an issue with helmet itch. Check your helmet for\n",
            "=====================================================================\n",
            "\n",
            "Original Text: You'll learn that they live around 2-3 years. They are sensitive to light, heat, and many other things such as pets and small children. If you have cats or dogs that might try to eat it, think twice. They can't be kept in direct sunlight or in drafty areas, and need a pretty stable temperature such as 70 or 75 degrees. They also need to be handled every day to stay friendly, and need to have their cage cleaned once every two weeks or so. Don't clean it too often or they might get sick. Also, have a big cage: the bigger the better. You shouldn't get a hamster just because they're cute, you should get it because you are ready for the responsibility.;\n",
            ", Tell them you have researched hamsters and looked up pet stores, shelters, and breeders around the area. Explain your plans to take care of the hamster. If your parents say yes, you will need a wheel without bars (solid surface so they don't get stuck), cage bedding, hamster food, a cage (really big and make sure it will fit in your room), and a water bottle.\n",
            " If they say maybe, you could be lucky! Go to the pet store to show them a hamster and tell them all the interesting things you've learned about hamsters. Get them interested in the subject and you may be able to change their minds.\n",
            " After a few weeks or days, they might say yes. If not, ask for the reason, but don't beg, give them more time to think about it if they need it . There are lots of reasons for and against getting a pet. For example, if you have other animals they might say something like \"We don't need a hamster\" or \"We have cats!\" If you know why they refused, you can either give up, or plan how to convince them in the future. If they say no, don't have a fit; just ask them again in a month or so and every once in a while drop them a hint that you still want one like tell them a fact or two.\n",
            " You'll need at least a hundred dollars, which you can get by selling lemonade or having a garage sale.\n",
            " Also, show that you consider the reasons for not having one use something like a pros and cons list. Your parents will be more likely to give in to the good and constructive argument.\n",
            " Try to do your chores without them asking you or try to get better grades in school. If your parents see that you are responsible enough for the upkeep of a hamster, they might let you have one!\n",
            "\n",
            ", Include everything your hamster will need, and add the prices of all the items (cage included).\n",
            " If you have other animals, put it in a place separate from them, but try to put in a place where you go often, like the living room or your bedroom.\n",
            " It doesn't help with anything except making your parents feel more pressured.\n",
            " You may not want to, but it probably will help convince your parents. Also, it might be a little expensive they are not really cheap.Don't forget to set aside some money to pay for a vet trip if you have to.\n",
            "\n",
            "Actual Summary: Research hamsters and their habits.\n",
            "Talk to your parents.\n",
            "Be persistent without being annoying.\n",
            "Be patient.\n",
            "Plan financially for your hamster's care.\n",
            "Write a letter to your parents stating, gently but clearly, why you want a hamster.\n",
            "Your parents probably won't get you a hamster if you have a history of not being responsible or having bad grades.\n",
            "Draw an example of a hamster cage.\n",
            "Decide on a place to keep your hamster.\n",
            "Don't bring the hamster up too much.\n",
            "Pay for it yourself.\n",
            "\n",
            "Original Prediction : hamsters are sensitive to light, heat, and other things such as pets and small\n",
            "\n",
            "finetuned Prediction : Know that they live around 2-3 years. Tell them you have researched hamsters. Tell\n",
            "=====================================================================\n",
            "\n",
            "Original Text: Your pants are not the main part of the halter look, but you do have to run and move around in them. Look for a show pant that is flattering to your body shape and has a slightly longer leg cut with a higher waist. This gives a longer leg impression so as you walk and jog beside your horse you too will look longer.\n",
            " It should be long sleeved unless you are wearing a halter jacket. Otherwise you can get away with a short sleeved shirt under the jacket as it won't be seen. The shirt for handlers should be long sleeved and have a collar. The shirt should be buttoned all the way up the front. A slinky, (suitable more so for females) should have a turtle neck type collar. You are required to have your shirt tucked in unless it is a slinky and sits right on the gab between your pants and skin line, no skin should be seen.\n",
            " Jackets come in two basic cuts for Showmanship and Halter - cropped and long. A cropped Jacket sits just on the pants line, and gives a flattering appearance. A longer Jacket is one that may or may not have a split similar to that of a riding Jacket. It gives a longer appearance and many judges prefer a longer jacket to a cropped or a shirt style top. If you go for a specially designed halter outfit, look for one that suits your body shape. The Halter outfits are usually made of leather and do up at either the front or back depending on the design and shape. They are good for the handler that does a lot of Halter showing as they are less likely to get dirty and can be wiped clean with a damp cloth. They are also especially good as they are at most good Western Attire Retailers and the designs are quite bright so they suit a new Handler wanting to make an impression.\n",
            " The buckle can be either Glitzy and Glamour with Rhinestones and Diamantes or it can be a silver plaited trophy type buckle. Either is well suited, and this just makes the outfit. If you don't wear a belt and buckle you can be eliminated from the event.\n",
            " They can have fancy stitching or embroidery or they can be plain. During a Halter or Showmanship event you must always wear a hat. This can have a Hat band and can be glitzy or plain. To finish the look wear a neck piece such as a Yolk band or bolo tie for males and a piece of jewellery such as a necklace or bolo tie for the woman.\n",
            "\n",
            "Actual Summary: Buy a good pair of pants that are a good cut and length to suit you.\n",
            "Wear a shirt or a slinky on your top half.\n",
            "Put on a jacket or wear a specially designed halter outfit.\n",
            "Buckle Up with a good leather type belt suited for Showmanship and Halter and have a Buckle.\n",
            "Finish the look with a sturdy pair of boots such as Pull Ons, or Lace Ups.\n",
            "\n",
            "Original Prediction : show pants are flattering to your body shape and have a slightly longer leg cut\n",
            "\n",
            "finetuned Prediction : Look for a halter jacket. Look for a cropped jacket. Look for\n",
            "=====================================================================\n",
            "\n",
            "Original Text: You need to make sure your squirrel has a healthy, balanced diet. As squirrels are not traditionally kept as pets, this can be somewhat tricky.\n",
            "\n",
            "\n",
            "Do not attempt to feed a baby squirrel on your own. Baby squirrels need specific vitamins and minerals. Feeding a baby squirrel formula or milk could result in the squirrel dying. Take your baby squirrel to a vet or wildlife rescue as soon as you can. The workers there will know how to feed him properly. In the event you take him back home with you, you can learn how to care for the baby online at TheSquirrelBoard.com. They do make specially designed food for squirrels. It can be tricky to find, however, as it may be sold at your local pet store. Some states do not allow people to keep squirrels as pets. You may be able to order squirrel food online, but it might take a few days. In the event you cannot get squirrel food quickly, TheSquirrelBoard.com has recipes to make temporary formula. , Keep a bowl of water in your squirrels cage or enclosure. Squirrels need plenty of water for their health and wellbeing. You can either leave water in a bowl or use a bottle, like you would in a hamster cage. If you're getting a bottle, make sure you use a glass bottle. Some squirrels chew through plastic.If you're giving water to a baby squirrel, make sure any bowls you use are not too big. You would not want a baby squirrel to accidentally drown in his water bottle. You can place rocks or marbles at the bottom and fill the bowl to just halfway up to the marbles so he doesn’t drown.\n",
            " If you found a squirrel in the wild, he may be injured. You should carefully assess a squirrel for injury and get him veterinary care if you see any injuries.\n",
            "\n",
            "\n",
            "Find a safe spot in your home with good lighting. Stay away from children or other pets. Wear heavy, protective gloves when handling a wild animal. You should also wear a long sleeve coat. If a squirrel has not been handled before, he may bite or scratch. If you are bitten/scratched, rabies is NOT A PROBLEM. Squirrels are cleaner than most other animals. Just rinse out the cut and go about your business. Keep a basin of warm water and a few clean washcloths on hand. Check the face, nose, and mouth for dried blood. If you see any parasites, like fleas or ticks, remove them. Parasites should be killed if still alive to avoid infecting other pets in your home. If you need to wash any blood, wring out the rag thoroughly and move it gently over the squirrel's fur.Pay attention to your squirrel's limbs. Lets and feet may be twisted awkwardly or limp. Baby squirrels are especially prone to injury from falling out of a tree or nest.If your squirrel is injured, contact a wildlife rehabber and/or vet IMMEDIATELY.\n",
            " Squirrels need a lot of exercise. If you plan to keep your squirrel for awhile, you need to make sure he spends time building his muscles.\n",
            "\n",
            "\n",
            "Allow your squirrel access to one room of your house for at least an hour a day. Make sure you remove anything breakable or anything you do not want damaged. Allow your squirrels to run, climb, and play in this room.Do not allow the squirrel outside without a cage. Hawks and other predators are faster than you and can make a meal out of the baby before you can react. Also, the baby may get spooked and run away, to never return, and thus die due to not knowing how to fend for himself. If you're keeping your squirrel longer than a week or so, install some perches in his cage. As stated earlier, bird perches work well for a squirrel cage. They should come with manufacturer's instructions for set up.\n",
            "\n",
            "Actual Summary: Feed your squirrel a proper diet.\n",
            "Provide plenty of water.\n",
            "Check your squirrel for wounds and injuries.\n",
            "Encourage exercise.\n",
            "\n",
            "Original Prediction : squirrels need specific vitamins and minerals, such as vitamins and minerals. a baby squirrel\n",
            "\n",
            "finetuned Prediction : Feed your baby squirrel. Buy squirrel food online. Keep a bowl of water. Check\n",
            "=====================================================================\n",
            "\n"
          ]
        }
      ]
    },
    {
      "cell_type": "code",
      "source": [
        ""
      ],
      "metadata": {
        "id": "w4DHVarD4l23"
      },
      "execution_count": null,
      "outputs": []
    }
  ],
  "metadata": {
    "accelerator": "GPU",
    "colab": {
      "name": "Evaluation.ipynb",
      "provenance": [],
      "collapsed_sections": [],
      "toc_visible": true
    },
    "kernelspec": {
      "display_name": "Python 3",
      "name": "python3"
    },
    "language_info": {
      "name": "python"
    },
    "widgets": {
      "application/vnd.jupyter.widget-state+json": {
        "c3c971c2b30c4675a1d20eb19e56b99a": {
          "model_module": "@jupyter-widgets/controls",
          "model_name": "HBoxModel",
          "model_module_version": "1.5.0",
          "state": {
            "_dom_classes": [],
            "_model_module": "@jupyter-widgets/controls",
            "_model_module_version": "1.5.0",
            "_model_name": "HBoxModel",
            "_view_count": null,
            "_view_module": "@jupyter-widgets/controls",
            "_view_module_version": "1.5.0",
            "_view_name": "HBoxView",
            "box_style": "",
            "children": [
              "IPY_MODEL_d001bc2443824989aa8e08091475adbd",
              "IPY_MODEL_73b2586774c34971aec29b5003cefa12",
              "IPY_MODEL_2dec1aa4926a49a6a5c72355353370dd"
            ],
            "layout": "IPY_MODEL_e30b50f2794945cfb58b49a10c84aeee"
          }
        },
        "d001bc2443824989aa8e08091475adbd": {
          "model_module": "@jupyter-widgets/controls",
          "model_name": "HTMLModel",
          "model_module_version": "1.5.0",
          "state": {
            "_dom_classes": [],
            "_model_module": "@jupyter-widgets/controls",
            "_model_module_version": "1.5.0",
            "_model_name": "HTMLModel",
            "_view_count": null,
            "_view_module": "@jupyter-widgets/controls",
            "_view_module_version": "1.5.0",
            "_view_name": "HTMLView",
            "description": "",
            "description_tooltip": null,
            "layout": "IPY_MODEL_87459fa6676c42e3ba08079864b75977",
            "placeholder": "​",
            "style": "IPY_MODEL_f8e3f8249ae54628b6e4368ee876abf5",
            "value": "Downloading: 100%"
          }
        },
        "73b2586774c34971aec29b5003cefa12": {
          "model_module": "@jupyter-widgets/controls",
          "model_name": "FloatProgressModel",
          "model_module_version": "1.5.0",
          "state": {
            "_dom_classes": [],
            "_model_module": "@jupyter-widgets/controls",
            "_model_module_version": "1.5.0",
            "_model_name": "FloatProgressModel",
            "_view_count": null,
            "_view_module": "@jupyter-widgets/controls",
            "_view_module_version": "1.5.0",
            "_view_name": "ProgressView",
            "bar_style": "success",
            "description": "",
            "description_tooltip": null,
            "layout": "IPY_MODEL_2ce92b1658c04ebdb57839027d7f65e2",
            "max": 791656,
            "min": 0,
            "orientation": "horizontal",
            "style": "IPY_MODEL_f51f057612dc4d98aef0611742e6ce7a",
            "value": 791656
          }
        },
        "2dec1aa4926a49a6a5c72355353370dd": {
          "model_module": "@jupyter-widgets/controls",
          "model_name": "HTMLModel",
          "model_module_version": "1.5.0",
          "state": {
            "_dom_classes": [],
            "_model_module": "@jupyter-widgets/controls",
            "_model_module_version": "1.5.0",
            "_model_name": "HTMLModel",
            "_view_count": null,
            "_view_module": "@jupyter-widgets/controls",
            "_view_module_version": "1.5.0",
            "_view_name": "HTMLView",
            "description": "",
            "description_tooltip": null,
            "layout": "IPY_MODEL_76eb694c70d44a52b67a2615fa92b4b2",
            "placeholder": "​",
            "style": "IPY_MODEL_abe666d961674c8cbd72a8cd3489c1c1",
            "value": " 773k/773k [00:00&lt;00:00, 3.30MB/s]"
          }
        },
        "e30b50f2794945cfb58b49a10c84aeee": {
          "model_module": "@jupyter-widgets/base",
          "model_name": "LayoutModel",
          "model_module_version": "1.2.0",
          "state": {
            "_model_module": "@jupyter-widgets/base",
            "_model_module_version": "1.2.0",
            "_model_name": "LayoutModel",
            "_view_count": null,
            "_view_module": "@jupyter-widgets/base",
            "_view_module_version": "1.2.0",
            "_view_name": "LayoutView",
            "align_content": null,
            "align_items": null,
            "align_self": null,
            "border": null,
            "bottom": null,
            "display": null,
            "flex": null,
            "flex_flow": null,
            "grid_area": null,
            "grid_auto_columns": null,
            "grid_auto_flow": null,
            "grid_auto_rows": null,
            "grid_column": null,
            "grid_gap": null,
            "grid_row": null,
            "grid_template_areas": null,
            "grid_template_columns": null,
            "grid_template_rows": null,
            "height": null,
            "justify_content": null,
            "justify_items": null,
            "left": null,
            "margin": null,
            "max_height": null,
            "max_width": null,
            "min_height": null,
            "min_width": null,
            "object_fit": null,
            "object_position": null,
            "order": null,
            "overflow": null,
            "overflow_x": null,
            "overflow_y": null,
            "padding": null,
            "right": null,
            "top": null,
            "visibility": null,
            "width": null
          }
        },
        "87459fa6676c42e3ba08079864b75977": {
          "model_module": "@jupyter-widgets/base",
          "model_name": "LayoutModel",
          "model_module_version": "1.2.0",
          "state": {
            "_model_module": "@jupyter-widgets/base",
            "_model_module_version": "1.2.0",
            "_model_name": "LayoutModel",
            "_view_count": null,
            "_view_module": "@jupyter-widgets/base",
            "_view_module_version": "1.2.0",
            "_view_name": "LayoutView",
            "align_content": null,
            "align_items": null,
            "align_self": null,
            "border": null,
            "bottom": null,
            "display": null,
            "flex": null,
            "flex_flow": null,
            "grid_area": null,
            "grid_auto_columns": null,
            "grid_auto_flow": null,
            "grid_auto_rows": null,
            "grid_column": null,
            "grid_gap": null,
            "grid_row": null,
            "grid_template_areas": null,
            "grid_template_columns": null,
            "grid_template_rows": null,
            "height": null,
            "justify_content": null,
            "justify_items": null,
            "left": null,
            "margin": null,
            "max_height": null,
            "max_width": null,
            "min_height": null,
            "min_width": null,
            "object_fit": null,
            "object_position": null,
            "order": null,
            "overflow": null,
            "overflow_x": null,
            "overflow_y": null,
            "padding": null,
            "right": null,
            "top": null,
            "visibility": null,
            "width": null
          }
        },
        "f8e3f8249ae54628b6e4368ee876abf5": {
          "model_module": "@jupyter-widgets/controls",
          "model_name": "DescriptionStyleModel",
          "model_module_version": "1.5.0",
          "state": {
            "_model_module": "@jupyter-widgets/controls",
            "_model_module_version": "1.5.0",
            "_model_name": "DescriptionStyleModel",
            "_view_count": null,
            "_view_module": "@jupyter-widgets/base",
            "_view_module_version": "1.2.0",
            "_view_name": "StyleView",
            "description_width": ""
          }
        },
        "2ce92b1658c04ebdb57839027d7f65e2": {
          "model_module": "@jupyter-widgets/base",
          "model_name": "LayoutModel",
          "model_module_version": "1.2.0",
          "state": {
            "_model_module": "@jupyter-widgets/base",
            "_model_module_version": "1.2.0",
            "_model_name": "LayoutModel",
            "_view_count": null,
            "_view_module": "@jupyter-widgets/base",
            "_view_module_version": "1.2.0",
            "_view_name": "LayoutView",
            "align_content": null,
            "align_items": null,
            "align_self": null,
            "border": null,
            "bottom": null,
            "display": null,
            "flex": null,
            "flex_flow": null,
            "grid_area": null,
            "grid_auto_columns": null,
            "grid_auto_flow": null,
            "grid_auto_rows": null,
            "grid_column": null,
            "grid_gap": null,
            "grid_row": null,
            "grid_template_areas": null,
            "grid_template_columns": null,
            "grid_template_rows": null,
            "height": null,
            "justify_content": null,
            "justify_items": null,
            "left": null,
            "margin": null,
            "max_height": null,
            "max_width": null,
            "min_height": null,
            "min_width": null,
            "object_fit": null,
            "object_position": null,
            "order": null,
            "overflow": null,
            "overflow_x": null,
            "overflow_y": null,
            "padding": null,
            "right": null,
            "top": null,
            "visibility": null,
            "width": null
          }
        },
        "f51f057612dc4d98aef0611742e6ce7a": {
          "model_module": "@jupyter-widgets/controls",
          "model_name": "ProgressStyleModel",
          "model_module_version": "1.5.0",
          "state": {
            "_model_module": "@jupyter-widgets/controls",
            "_model_module_version": "1.5.0",
            "_model_name": "ProgressStyleModel",
            "_view_count": null,
            "_view_module": "@jupyter-widgets/base",
            "_view_module_version": "1.2.0",
            "_view_name": "StyleView",
            "bar_color": null,
            "description_width": ""
          }
        },
        "76eb694c70d44a52b67a2615fa92b4b2": {
          "model_module": "@jupyter-widgets/base",
          "model_name": "LayoutModel",
          "model_module_version": "1.2.0",
          "state": {
            "_model_module": "@jupyter-widgets/base",
            "_model_module_version": "1.2.0",
            "_model_name": "LayoutModel",
            "_view_count": null,
            "_view_module": "@jupyter-widgets/base",
            "_view_module_version": "1.2.0",
            "_view_name": "LayoutView",
            "align_content": null,
            "align_items": null,
            "align_self": null,
            "border": null,
            "bottom": null,
            "display": null,
            "flex": null,
            "flex_flow": null,
            "grid_area": null,
            "grid_auto_columns": null,
            "grid_auto_flow": null,
            "grid_auto_rows": null,
            "grid_column": null,
            "grid_gap": null,
            "grid_row": null,
            "grid_template_areas": null,
            "grid_template_columns": null,
            "grid_template_rows": null,
            "height": null,
            "justify_content": null,
            "justify_items": null,
            "left": null,
            "margin": null,
            "max_height": null,
            "max_width": null,
            "min_height": null,
            "min_width": null,
            "object_fit": null,
            "object_position": null,
            "order": null,
            "overflow": null,
            "overflow_x": null,
            "overflow_y": null,
            "padding": null,
            "right": null,
            "top": null,
            "visibility": null,
            "width": null
          }
        },
        "abe666d961674c8cbd72a8cd3489c1c1": {
          "model_module": "@jupyter-widgets/controls",
          "model_name": "DescriptionStyleModel",
          "model_module_version": "1.5.0",
          "state": {
            "_model_module": "@jupyter-widgets/controls",
            "_model_module_version": "1.5.0",
            "_model_name": "DescriptionStyleModel",
            "_view_count": null,
            "_view_module": "@jupyter-widgets/base",
            "_view_module_version": "1.2.0",
            "_view_name": "StyleView",
            "description_width": ""
          }
        },
        "f3918eebf23d4d4689000dab77bc23a2": {
          "model_module": "@jupyter-widgets/controls",
          "model_name": "HBoxModel",
          "model_module_version": "1.5.0",
          "state": {
            "_dom_classes": [],
            "_model_module": "@jupyter-widgets/controls",
            "_model_module_version": "1.5.0",
            "_model_name": "HBoxModel",
            "_view_count": null,
            "_view_module": "@jupyter-widgets/controls",
            "_view_module_version": "1.5.0",
            "_view_name": "HBoxView",
            "box_style": "",
            "children": [
              "IPY_MODEL_cfabe9e4974d4778850f9aee0913b5aa",
              "IPY_MODEL_86aefb9d47cb4e8c8f1639e123974041",
              "IPY_MODEL_6ac5ea5972e2487bb61bf6a956730237"
            ],
            "layout": "IPY_MODEL_5cc4cb8fdecf46f99b1ce0c41311081c"
          }
        },
        "cfabe9e4974d4778850f9aee0913b5aa": {
          "model_module": "@jupyter-widgets/controls",
          "model_name": "HTMLModel",
          "model_module_version": "1.5.0",
          "state": {
            "_dom_classes": [],
            "_model_module": "@jupyter-widgets/controls",
            "_model_module_version": "1.5.0",
            "_model_name": "HTMLModel",
            "_view_count": null,
            "_view_module": "@jupyter-widgets/controls",
            "_view_module_version": "1.5.0",
            "_view_name": "HTMLView",
            "description": "",
            "description_tooltip": null,
            "layout": "IPY_MODEL_21ea0e64a8ed495f83313ee7c429b0af",
            "placeholder": "​",
            "style": "IPY_MODEL_11d09f90db7b4d89917c37f13b648b6e",
            "value": "Downloading: 100%"
          }
        },
        "86aefb9d47cb4e8c8f1639e123974041": {
          "model_module": "@jupyter-widgets/controls",
          "model_name": "FloatProgressModel",
          "model_module_version": "1.5.0",
          "state": {
            "_dom_classes": [],
            "_model_module": "@jupyter-widgets/controls",
            "_model_module_version": "1.5.0",
            "_model_name": "FloatProgressModel",
            "_view_count": null,
            "_view_module": "@jupyter-widgets/controls",
            "_view_module_version": "1.5.0",
            "_view_name": "ProgressView",
            "bar_style": "success",
            "description": "",
            "description_tooltip": null,
            "layout": "IPY_MODEL_92cd517360504759b9932ac8f3f5c903",
            "max": 1197,
            "min": 0,
            "orientation": "horizontal",
            "style": "IPY_MODEL_cf901d1632d14f3fbd643c394bd04a5e",
            "value": 1197
          }
        },
        "6ac5ea5972e2487bb61bf6a956730237": {
          "model_module": "@jupyter-widgets/controls",
          "model_name": "HTMLModel",
          "model_module_version": "1.5.0",
          "state": {
            "_dom_classes": [],
            "_model_module": "@jupyter-widgets/controls",
            "_model_module_version": "1.5.0",
            "_model_name": "HTMLModel",
            "_view_count": null,
            "_view_module": "@jupyter-widgets/controls",
            "_view_module_version": "1.5.0",
            "_view_name": "HTMLView",
            "description": "",
            "description_tooltip": null,
            "layout": "IPY_MODEL_04f68b9bde084e39874da751c1aa4554",
            "placeholder": "​",
            "style": "IPY_MODEL_62742dc55ffe4913a709479b539255af",
            "value": " 1.17k/1.17k [00:00&lt;00:00, 36.6kB/s]"
          }
        },
        "5cc4cb8fdecf46f99b1ce0c41311081c": {
          "model_module": "@jupyter-widgets/base",
          "model_name": "LayoutModel",
          "model_module_version": "1.2.0",
          "state": {
            "_model_module": "@jupyter-widgets/base",
            "_model_module_version": "1.2.0",
            "_model_name": "LayoutModel",
            "_view_count": null,
            "_view_module": "@jupyter-widgets/base",
            "_view_module_version": "1.2.0",
            "_view_name": "LayoutView",
            "align_content": null,
            "align_items": null,
            "align_self": null,
            "border": null,
            "bottom": null,
            "display": null,
            "flex": null,
            "flex_flow": null,
            "grid_area": null,
            "grid_auto_columns": null,
            "grid_auto_flow": null,
            "grid_auto_rows": null,
            "grid_column": null,
            "grid_gap": null,
            "grid_row": null,
            "grid_template_areas": null,
            "grid_template_columns": null,
            "grid_template_rows": null,
            "height": null,
            "justify_content": null,
            "justify_items": null,
            "left": null,
            "margin": null,
            "max_height": null,
            "max_width": null,
            "min_height": null,
            "min_width": null,
            "object_fit": null,
            "object_position": null,
            "order": null,
            "overflow": null,
            "overflow_x": null,
            "overflow_y": null,
            "padding": null,
            "right": null,
            "top": null,
            "visibility": null,
            "width": null
          }
        },
        "21ea0e64a8ed495f83313ee7c429b0af": {
          "model_module": "@jupyter-widgets/base",
          "model_name": "LayoutModel",
          "model_module_version": "1.2.0",
          "state": {
            "_model_module": "@jupyter-widgets/base",
            "_model_module_version": "1.2.0",
            "_model_name": "LayoutModel",
            "_view_count": null,
            "_view_module": "@jupyter-widgets/base",
            "_view_module_version": "1.2.0",
            "_view_name": "LayoutView",
            "align_content": null,
            "align_items": null,
            "align_self": null,
            "border": null,
            "bottom": null,
            "display": null,
            "flex": null,
            "flex_flow": null,
            "grid_area": null,
            "grid_auto_columns": null,
            "grid_auto_flow": null,
            "grid_auto_rows": null,
            "grid_column": null,
            "grid_gap": null,
            "grid_row": null,
            "grid_template_areas": null,
            "grid_template_columns": null,
            "grid_template_rows": null,
            "height": null,
            "justify_content": null,
            "justify_items": null,
            "left": null,
            "margin": null,
            "max_height": null,
            "max_width": null,
            "min_height": null,
            "min_width": null,
            "object_fit": null,
            "object_position": null,
            "order": null,
            "overflow": null,
            "overflow_x": null,
            "overflow_y": null,
            "padding": null,
            "right": null,
            "top": null,
            "visibility": null,
            "width": null
          }
        },
        "11d09f90db7b4d89917c37f13b648b6e": {
          "model_module": "@jupyter-widgets/controls",
          "model_name": "DescriptionStyleModel",
          "model_module_version": "1.5.0",
          "state": {
            "_model_module": "@jupyter-widgets/controls",
            "_model_module_version": "1.5.0",
            "_model_name": "DescriptionStyleModel",
            "_view_count": null,
            "_view_module": "@jupyter-widgets/base",
            "_view_module_version": "1.2.0",
            "_view_name": "StyleView",
            "description_width": ""
          }
        },
        "92cd517360504759b9932ac8f3f5c903": {
          "model_module": "@jupyter-widgets/base",
          "model_name": "LayoutModel",
          "model_module_version": "1.2.0",
          "state": {
            "_model_module": "@jupyter-widgets/base",
            "_model_module_version": "1.2.0",
            "_model_name": "LayoutModel",
            "_view_count": null,
            "_view_module": "@jupyter-widgets/base",
            "_view_module_version": "1.2.0",
            "_view_name": "LayoutView",
            "align_content": null,
            "align_items": null,
            "align_self": null,
            "border": null,
            "bottom": null,
            "display": null,
            "flex": null,
            "flex_flow": null,
            "grid_area": null,
            "grid_auto_columns": null,
            "grid_auto_flow": null,
            "grid_auto_rows": null,
            "grid_column": null,
            "grid_gap": null,
            "grid_row": null,
            "grid_template_areas": null,
            "grid_template_columns": null,
            "grid_template_rows": null,
            "height": null,
            "justify_content": null,
            "justify_items": null,
            "left": null,
            "margin": null,
            "max_height": null,
            "max_width": null,
            "min_height": null,
            "min_width": null,
            "object_fit": null,
            "object_position": null,
            "order": null,
            "overflow": null,
            "overflow_x": null,
            "overflow_y": null,
            "padding": null,
            "right": null,
            "top": null,
            "visibility": null,
            "width": null
          }
        },
        "cf901d1632d14f3fbd643c394bd04a5e": {
          "model_module": "@jupyter-widgets/controls",
          "model_name": "ProgressStyleModel",
          "model_module_version": "1.5.0",
          "state": {
            "_model_module": "@jupyter-widgets/controls",
            "_model_module_version": "1.5.0",
            "_model_name": "ProgressStyleModel",
            "_view_count": null,
            "_view_module": "@jupyter-widgets/base",
            "_view_module_version": "1.2.0",
            "_view_name": "StyleView",
            "bar_color": null,
            "description_width": ""
          }
        },
        "04f68b9bde084e39874da751c1aa4554": {
          "model_module": "@jupyter-widgets/base",
          "model_name": "LayoutModel",
          "model_module_version": "1.2.0",
          "state": {
            "_model_module": "@jupyter-widgets/base",
            "_model_module_version": "1.2.0",
            "_model_name": "LayoutModel",
            "_view_count": null,
            "_view_module": "@jupyter-widgets/base",
            "_view_module_version": "1.2.0",
            "_view_name": "LayoutView",
            "align_content": null,
            "align_items": null,
            "align_self": null,
            "border": null,
            "bottom": null,
            "display": null,
            "flex": null,
            "flex_flow": null,
            "grid_area": null,
            "grid_auto_columns": null,
            "grid_auto_flow": null,
            "grid_auto_rows": null,
            "grid_column": null,
            "grid_gap": null,
            "grid_row": null,
            "grid_template_areas": null,
            "grid_template_columns": null,
            "grid_template_rows": null,
            "height": null,
            "justify_content": null,
            "justify_items": null,
            "left": null,
            "margin": null,
            "max_height": null,
            "max_width": null,
            "min_height": null,
            "min_width": null,
            "object_fit": null,
            "object_position": null,
            "order": null,
            "overflow": null,
            "overflow_x": null,
            "overflow_y": null,
            "padding": null,
            "right": null,
            "top": null,
            "visibility": null,
            "width": null
          }
        },
        "62742dc55ffe4913a709479b539255af": {
          "model_module": "@jupyter-widgets/controls",
          "model_name": "DescriptionStyleModel",
          "model_module_version": "1.5.0",
          "state": {
            "_model_module": "@jupyter-widgets/controls",
            "_model_module_version": "1.5.0",
            "_model_name": "DescriptionStyleModel",
            "_view_count": null,
            "_view_module": "@jupyter-widgets/base",
            "_view_module_version": "1.2.0",
            "_view_name": "StyleView",
            "description_width": ""
          }
        },
        "a6c2d7b0a6e946fd84e494113ba8aaf6": {
          "model_module": "@jupyter-widgets/controls",
          "model_name": "HBoxModel",
          "model_module_version": "1.5.0",
          "state": {
            "_dom_classes": [],
            "_model_module": "@jupyter-widgets/controls",
            "_model_module_version": "1.5.0",
            "_model_name": "HBoxModel",
            "_view_count": null,
            "_view_module": "@jupyter-widgets/controls",
            "_view_module_version": "1.5.0",
            "_view_name": "HBoxView",
            "box_style": "",
            "children": [
              "IPY_MODEL_cd9a24554daf49a0ba7afd0de6195583",
              "IPY_MODEL_9eb89a71c6ea468db4c32b78a0baaa89",
              "IPY_MODEL_4df5d3ab029d4901b229baecbc7725d8"
            ],
            "layout": "IPY_MODEL_1aae494cc97d44dc838d900675b95a3a"
          }
        },
        "cd9a24554daf49a0ba7afd0de6195583": {
          "model_module": "@jupyter-widgets/controls",
          "model_name": "HTMLModel",
          "model_module_version": "1.5.0",
          "state": {
            "_dom_classes": [],
            "_model_module": "@jupyter-widgets/controls",
            "_model_module_version": "1.5.0",
            "_model_name": "HTMLModel",
            "_view_count": null,
            "_view_module": "@jupyter-widgets/controls",
            "_view_module_version": "1.5.0",
            "_view_name": "HTMLView",
            "description": "",
            "description_tooltip": null,
            "layout": "IPY_MODEL_7d8b2e5bf82645e3bceb6c2980abf418",
            "placeholder": "​",
            "style": "IPY_MODEL_5572fcd8617543f7a2bd9dc16139b1b5",
            "value": "Downloading: 100%"
          }
        },
        "9eb89a71c6ea468db4c32b78a0baaa89": {
          "model_module": "@jupyter-widgets/controls",
          "model_name": "FloatProgressModel",
          "model_module_version": "1.5.0",
          "state": {
            "_dom_classes": [],
            "_model_module": "@jupyter-widgets/controls",
            "_model_module_version": "1.5.0",
            "_model_name": "FloatProgressModel",
            "_view_count": null,
            "_view_module": "@jupyter-widgets/controls",
            "_view_module_version": "1.5.0",
            "_view_name": "ProgressView",
            "bar_style": "success",
            "description": "",
            "description_tooltip": null,
            "layout": "IPY_MODEL_00f9509ec5d541efb7790c9d7df41c77",
            "max": 242065649,
            "min": 0,
            "orientation": "horizontal",
            "style": "IPY_MODEL_e5942b46f38d4eb48a2a159763c8c922",
            "value": 242065649
          }
        },
        "4df5d3ab029d4901b229baecbc7725d8": {
          "model_module": "@jupyter-widgets/controls",
          "model_name": "HTMLModel",
          "model_module_version": "1.5.0",
          "state": {
            "_dom_classes": [],
            "_model_module": "@jupyter-widgets/controls",
            "_model_module_version": "1.5.0",
            "_model_name": "HTMLModel",
            "_view_count": null,
            "_view_module": "@jupyter-widgets/controls",
            "_view_module_version": "1.5.0",
            "_view_name": "HTMLView",
            "description": "",
            "description_tooltip": null,
            "layout": "IPY_MODEL_73867081525f404db9046942dfd71a92",
            "placeholder": "​",
            "style": "IPY_MODEL_c6d101f8497046b09ae05a454cfbc279",
            "value": " 231M/231M [00:04&lt;00:00, 50.2MB/s]"
          }
        },
        "1aae494cc97d44dc838d900675b95a3a": {
          "model_module": "@jupyter-widgets/base",
          "model_name": "LayoutModel",
          "model_module_version": "1.2.0",
          "state": {
            "_model_module": "@jupyter-widgets/base",
            "_model_module_version": "1.2.0",
            "_model_name": "LayoutModel",
            "_view_count": null,
            "_view_module": "@jupyter-widgets/base",
            "_view_module_version": "1.2.0",
            "_view_name": "LayoutView",
            "align_content": null,
            "align_items": null,
            "align_self": null,
            "border": null,
            "bottom": null,
            "display": null,
            "flex": null,
            "flex_flow": null,
            "grid_area": null,
            "grid_auto_columns": null,
            "grid_auto_flow": null,
            "grid_auto_rows": null,
            "grid_column": null,
            "grid_gap": null,
            "grid_row": null,
            "grid_template_areas": null,
            "grid_template_columns": null,
            "grid_template_rows": null,
            "height": null,
            "justify_content": null,
            "justify_items": null,
            "left": null,
            "margin": null,
            "max_height": null,
            "max_width": null,
            "min_height": null,
            "min_width": null,
            "object_fit": null,
            "object_position": null,
            "order": null,
            "overflow": null,
            "overflow_x": null,
            "overflow_y": null,
            "padding": null,
            "right": null,
            "top": null,
            "visibility": null,
            "width": null
          }
        },
        "7d8b2e5bf82645e3bceb6c2980abf418": {
          "model_module": "@jupyter-widgets/base",
          "model_name": "LayoutModel",
          "model_module_version": "1.2.0",
          "state": {
            "_model_module": "@jupyter-widgets/base",
            "_model_module_version": "1.2.0",
            "_model_name": "LayoutModel",
            "_view_count": null,
            "_view_module": "@jupyter-widgets/base",
            "_view_module_version": "1.2.0",
            "_view_name": "LayoutView",
            "align_content": null,
            "align_items": null,
            "align_self": null,
            "border": null,
            "bottom": null,
            "display": null,
            "flex": null,
            "flex_flow": null,
            "grid_area": null,
            "grid_auto_columns": null,
            "grid_auto_flow": null,
            "grid_auto_rows": null,
            "grid_column": null,
            "grid_gap": null,
            "grid_row": null,
            "grid_template_areas": null,
            "grid_template_columns": null,
            "grid_template_rows": null,
            "height": null,
            "justify_content": null,
            "justify_items": null,
            "left": null,
            "margin": null,
            "max_height": null,
            "max_width": null,
            "min_height": null,
            "min_width": null,
            "object_fit": null,
            "object_position": null,
            "order": null,
            "overflow": null,
            "overflow_x": null,
            "overflow_y": null,
            "padding": null,
            "right": null,
            "top": null,
            "visibility": null,
            "width": null
          }
        },
        "5572fcd8617543f7a2bd9dc16139b1b5": {
          "model_module": "@jupyter-widgets/controls",
          "model_name": "DescriptionStyleModel",
          "model_module_version": "1.5.0",
          "state": {
            "_model_module": "@jupyter-widgets/controls",
            "_model_module_version": "1.5.0",
            "_model_name": "DescriptionStyleModel",
            "_view_count": null,
            "_view_module": "@jupyter-widgets/base",
            "_view_module_version": "1.2.0",
            "_view_name": "StyleView",
            "description_width": ""
          }
        },
        "00f9509ec5d541efb7790c9d7df41c77": {
          "model_module": "@jupyter-widgets/base",
          "model_name": "LayoutModel",
          "model_module_version": "1.2.0",
          "state": {
            "_model_module": "@jupyter-widgets/base",
            "_model_module_version": "1.2.0",
            "_model_name": "LayoutModel",
            "_view_count": null,
            "_view_module": "@jupyter-widgets/base",
            "_view_module_version": "1.2.0",
            "_view_name": "LayoutView",
            "align_content": null,
            "align_items": null,
            "align_self": null,
            "border": null,
            "bottom": null,
            "display": null,
            "flex": null,
            "flex_flow": null,
            "grid_area": null,
            "grid_auto_columns": null,
            "grid_auto_flow": null,
            "grid_auto_rows": null,
            "grid_column": null,
            "grid_gap": null,
            "grid_row": null,
            "grid_template_areas": null,
            "grid_template_columns": null,
            "grid_template_rows": null,
            "height": null,
            "justify_content": null,
            "justify_items": null,
            "left": null,
            "margin": null,
            "max_height": null,
            "max_width": null,
            "min_height": null,
            "min_width": null,
            "object_fit": null,
            "object_position": null,
            "order": null,
            "overflow": null,
            "overflow_x": null,
            "overflow_y": null,
            "padding": null,
            "right": null,
            "top": null,
            "visibility": null,
            "width": null
          }
        },
        "e5942b46f38d4eb48a2a159763c8c922": {
          "model_module": "@jupyter-widgets/controls",
          "model_name": "ProgressStyleModel",
          "model_module_version": "1.5.0",
          "state": {
            "_model_module": "@jupyter-widgets/controls",
            "_model_module_version": "1.5.0",
            "_model_name": "ProgressStyleModel",
            "_view_count": null,
            "_view_module": "@jupyter-widgets/base",
            "_view_module_version": "1.2.0",
            "_view_name": "StyleView",
            "bar_color": null,
            "description_width": ""
          }
        },
        "73867081525f404db9046942dfd71a92": {
          "model_module": "@jupyter-widgets/base",
          "model_name": "LayoutModel",
          "model_module_version": "1.2.0",
          "state": {
            "_model_module": "@jupyter-widgets/base",
            "_model_module_version": "1.2.0",
            "_model_name": "LayoutModel",
            "_view_count": null,
            "_view_module": "@jupyter-widgets/base",
            "_view_module_version": "1.2.0",
            "_view_name": "LayoutView",
            "align_content": null,
            "align_items": null,
            "align_self": null,
            "border": null,
            "bottom": null,
            "display": null,
            "flex": null,
            "flex_flow": null,
            "grid_area": null,
            "grid_auto_columns": null,
            "grid_auto_flow": null,
            "grid_auto_rows": null,
            "grid_column": null,
            "grid_gap": null,
            "grid_row": null,
            "grid_template_areas": null,
            "grid_template_columns": null,
            "grid_template_rows": null,
            "height": null,
            "justify_content": null,
            "justify_items": null,
            "left": null,
            "margin": null,
            "max_height": null,
            "max_width": null,
            "min_height": null,
            "min_width": null,
            "object_fit": null,
            "object_position": null,
            "order": null,
            "overflow": null,
            "overflow_x": null,
            "overflow_y": null,
            "padding": null,
            "right": null,
            "top": null,
            "visibility": null,
            "width": null
          }
        },
        "c6d101f8497046b09ae05a454cfbc279": {
          "model_module": "@jupyter-widgets/controls",
          "model_name": "DescriptionStyleModel",
          "model_module_version": "1.5.0",
          "state": {
            "_model_module": "@jupyter-widgets/controls",
            "_model_module_version": "1.5.0",
            "_model_name": "DescriptionStyleModel",
            "_view_count": null,
            "_view_module": "@jupyter-widgets/base",
            "_view_module_version": "1.2.0",
            "_view_name": "StyleView",
            "description_width": ""
          }
        },
        "28cad09436c748f394c24ad99b424cb6": {
          "model_module": "@jupyter-widgets/controls",
          "model_name": "HBoxModel",
          "model_module_version": "1.5.0",
          "state": {
            "_dom_classes": [],
            "_model_module": "@jupyter-widgets/controls",
            "_model_module_version": "1.5.0",
            "_model_name": "HBoxModel",
            "_view_count": null,
            "_view_module": "@jupyter-widgets/controls",
            "_view_module_version": "1.5.0",
            "_view_name": "HBoxView",
            "box_style": "",
            "children": [
              "IPY_MODEL_9ca434d7a4d349978ebe0db1719ad6c4",
              "IPY_MODEL_ea9ac48f07464b1dbff8df8b8a5150f9",
              "IPY_MODEL_0750404843524d60ba9828a09cbb9c59"
            ],
            "layout": "IPY_MODEL_9e28c1f6b1654b6c80b3dde330216bff"
          }
        },
        "9ca434d7a4d349978ebe0db1719ad6c4": {
          "model_module": "@jupyter-widgets/controls",
          "model_name": "HTMLModel",
          "model_module_version": "1.5.0",
          "state": {
            "_dom_classes": [],
            "_model_module": "@jupyter-widgets/controls",
            "_model_module_version": "1.5.0",
            "_model_name": "HTMLModel",
            "_view_count": null,
            "_view_module": "@jupyter-widgets/controls",
            "_view_module_version": "1.5.0",
            "_view_name": "HTMLView",
            "description": "",
            "description_tooltip": null,
            "layout": "IPY_MODEL_690732f77a2642cba709adbcf9751184",
            "placeholder": "​",
            "style": "IPY_MODEL_62947d41021e4be296a6f612676c35b8",
            "value": "100%"
          }
        },
        "ea9ac48f07464b1dbff8df8b8a5150f9": {
          "model_module": "@jupyter-widgets/controls",
          "model_name": "FloatProgressModel",
          "model_module_version": "1.5.0",
          "state": {
            "_dom_classes": [],
            "_model_module": "@jupyter-widgets/controls",
            "_model_module_version": "1.5.0",
            "_model_name": "FloatProgressModel",
            "_view_count": null,
            "_view_module": "@jupyter-widgets/controls",
            "_view_module_version": "1.5.0",
            "_view_name": "ProgressView",
            "bar_style": "success",
            "description": "",
            "description_tooltip": null,
            "layout": "IPY_MODEL_2e5559d516664ee2970962746fbc21a5",
            "max": 63,
            "min": 0,
            "orientation": "horizontal",
            "style": "IPY_MODEL_14e74f2230a9436796e1fd0dd2051315",
            "value": 63
          }
        },
        "0750404843524d60ba9828a09cbb9c59": {
          "model_module": "@jupyter-widgets/controls",
          "model_name": "HTMLModel",
          "model_module_version": "1.5.0",
          "state": {
            "_dom_classes": [],
            "_model_module": "@jupyter-widgets/controls",
            "_model_module_version": "1.5.0",
            "_model_name": "HTMLModel",
            "_view_count": null,
            "_view_module": "@jupyter-widgets/controls",
            "_view_module_version": "1.5.0",
            "_view_name": "HTMLView",
            "description": "",
            "description_tooltip": null,
            "layout": "IPY_MODEL_e1f06550dac94a888b51a5e8f28de3e6",
            "placeholder": "​",
            "style": "IPY_MODEL_45c8f32e75e644c7a833a27fe7eeb37d",
            "value": " 63/63 [00:55&lt;00:00,  1.49ba/s]"
          }
        },
        "9e28c1f6b1654b6c80b3dde330216bff": {
          "model_module": "@jupyter-widgets/base",
          "model_name": "LayoutModel",
          "model_module_version": "1.2.0",
          "state": {
            "_model_module": "@jupyter-widgets/base",
            "_model_module_version": "1.2.0",
            "_model_name": "LayoutModel",
            "_view_count": null,
            "_view_module": "@jupyter-widgets/base",
            "_view_module_version": "1.2.0",
            "_view_name": "LayoutView",
            "align_content": null,
            "align_items": null,
            "align_self": null,
            "border": null,
            "bottom": null,
            "display": null,
            "flex": null,
            "flex_flow": null,
            "grid_area": null,
            "grid_auto_columns": null,
            "grid_auto_flow": null,
            "grid_auto_rows": null,
            "grid_column": null,
            "grid_gap": null,
            "grid_row": null,
            "grid_template_areas": null,
            "grid_template_columns": null,
            "grid_template_rows": null,
            "height": null,
            "justify_content": null,
            "justify_items": null,
            "left": null,
            "margin": null,
            "max_height": null,
            "max_width": null,
            "min_height": null,
            "min_width": null,
            "object_fit": null,
            "object_position": null,
            "order": null,
            "overflow": null,
            "overflow_x": null,
            "overflow_y": null,
            "padding": null,
            "right": null,
            "top": null,
            "visibility": null,
            "width": null
          }
        },
        "690732f77a2642cba709adbcf9751184": {
          "model_module": "@jupyter-widgets/base",
          "model_name": "LayoutModel",
          "model_module_version": "1.2.0",
          "state": {
            "_model_module": "@jupyter-widgets/base",
            "_model_module_version": "1.2.0",
            "_model_name": "LayoutModel",
            "_view_count": null,
            "_view_module": "@jupyter-widgets/base",
            "_view_module_version": "1.2.0",
            "_view_name": "LayoutView",
            "align_content": null,
            "align_items": null,
            "align_self": null,
            "border": null,
            "bottom": null,
            "display": null,
            "flex": null,
            "flex_flow": null,
            "grid_area": null,
            "grid_auto_columns": null,
            "grid_auto_flow": null,
            "grid_auto_rows": null,
            "grid_column": null,
            "grid_gap": null,
            "grid_row": null,
            "grid_template_areas": null,
            "grid_template_columns": null,
            "grid_template_rows": null,
            "height": null,
            "justify_content": null,
            "justify_items": null,
            "left": null,
            "margin": null,
            "max_height": null,
            "max_width": null,
            "min_height": null,
            "min_width": null,
            "object_fit": null,
            "object_position": null,
            "order": null,
            "overflow": null,
            "overflow_x": null,
            "overflow_y": null,
            "padding": null,
            "right": null,
            "top": null,
            "visibility": null,
            "width": null
          }
        },
        "62947d41021e4be296a6f612676c35b8": {
          "model_module": "@jupyter-widgets/controls",
          "model_name": "DescriptionStyleModel",
          "model_module_version": "1.5.0",
          "state": {
            "_model_module": "@jupyter-widgets/controls",
            "_model_module_version": "1.5.0",
            "_model_name": "DescriptionStyleModel",
            "_view_count": null,
            "_view_module": "@jupyter-widgets/base",
            "_view_module_version": "1.2.0",
            "_view_name": "StyleView",
            "description_width": ""
          }
        },
        "2e5559d516664ee2970962746fbc21a5": {
          "model_module": "@jupyter-widgets/base",
          "model_name": "LayoutModel",
          "model_module_version": "1.2.0",
          "state": {
            "_model_module": "@jupyter-widgets/base",
            "_model_module_version": "1.2.0",
            "_model_name": "LayoutModel",
            "_view_count": null,
            "_view_module": "@jupyter-widgets/base",
            "_view_module_version": "1.2.0",
            "_view_name": "LayoutView",
            "align_content": null,
            "align_items": null,
            "align_self": null,
            "border": null,
            "bottom": null,
            "display": null,
            "flex": null,
            "flex_flow": null,
            "grid_area": null,
            "grid_auto_columns": null,
            "grid_auto_flow": null,
            "grid_auto_rows": null,
            "grid_column": null,
            "grid_gap": null,
            "grid_row": null,
            "grid_template_areas": null,
            "grid_template_columns": null,
            "grid_template_rows": null,
            "height": null,
            "justify_content": null,
            "justify_items": null,
            "left": null,
            "margin": null,
            "max_height": null,
            "max_width": null,
            "min_height": null,
            "min_width": null,
            "object_fit": null,
            "object_position": null,
            "order": null,
            "overflow": null,
            "overflow_x": null,
            "overflow_y": null,
            "padding": null,
            "right": null,
            "top": null,
            "visibility": null,
            "width": null
          }
        },
        "14e74f2230a9436796e1fd0dd2051315": {
          "model_module": "@jupyter-widgets/controls",
          "model_name": "ProgressStyleModel",
          "model_module_version": "1.5.0",
          "state": {
            "_model_module": "@jupyter-widgets/controls",
            "_model_module_version": "1.5.0",
            "_model_name": "ProgressStyleModel",
            "_view_count": null,
            "_view_module": "@jupyter-widgets/base",
            "_view_module_version": "1.2.0",
            "_view_name": "StyleView",
            "bar_color": null,
            "description_width": ""
          }
        },
        "e1f06550dac94a888b51a5e8f28de3e6": {
          "model_module": "@jupyter-widgets/base",
          "model_name": "LayoutModel",
          "model_module_version": "1.2.0",
          "state": {
            "_model_module": "@jupyter-widgets/base",
            "_model_module_version": "1.2.0",
            "_model_name": "LayoutModel",
            "_view_count": null,
            "_view_module": "@jupyter-widgets/base",
            "_view_module_version": "1.2.0",
            "_view_name": "LayoutView",
            "align_content": null,
            "align_items": null,
            "align_self": null,
            "border": null,
            "bottom": null,
            "display": null,
            "flex": null,
            "flex_flow": null,
            "grid_area": null,
            "grid_auto_columns": null,
            "grid_auto_flow": null,
            "grid_auto_rows": null,
            "grid_column": null,
            "grid_gap": null,
            "grid_row": null,
            "grid_template_areas": null,
            "grid_template_columns": null,
            "grid_template_rows": null,
            "height": null,
            "justify_content": null,
            "justify_items": null,
            "left": null,
            "margin": null,
            "max_height": null,
            "max_width": null,
            "min_height": null,
            "min_width": null,
            "object_fit": null,
            "object_position": null,
            "order": null,
            "overflow": null,
            "overflow_x": null,
            "overflow_y": null,
            "padding": null,
            "right": null,
            "top": null,
            "visibility": null,
            "width": null
          }
        },
        "45c8f32e75e644c7a833a27fe7eeb37d": {
          "model_module": "@jupyter-widgets/controls",
          "model_name": "DescriptionStyleModel",
          "model_module_version": "1.5.0",
          "state": {
            "_model_module": "@jupyter-widgets/controls",
            "_model_module_version": "1.5.0",
            "_model_name": "DescriptionStyleModel",
            "_view_count": null,
            "_view_module": "@jupyter-widgets/base",
            "_view_module_version": "1.2.0",
            "_view_name": "StyleView",
            "description_width": ""
          }
        },
        "06df35d15f034f56a0d1b3af37306e37": {
          "model_module": "@jupyter-widgets/controls",
          "model_name": "HBoxModel",
          "model_module_version": "1.5.0",
          "state": {
            "_dom_classes": [],
            "_model_module": "@jupyter-widgets/controls",
            "_model_module_version": "1.5.0",
            "_model_name": "HBoxModel",
            "_view_count": null,
            "_view_module": "@jupyter-widgets/controls",
            "_view_module_version": "1.5.0",
            "_view_name": "HBoxView",
            "box_style": "",
            "children": [
              "IPY_MODEL_04d0dec73c764649a8684a58efffe67f",
              "IPY_MODEL_4617dbce34b4439da42d0727aaf3980a",
              "IPY_MODEL_8c4ded4feacb4074a92122107e912dd4"
            ],
            "layout": "IPY_MODEL_1c307942834c4b2486d8722e923e0ce2"
          }
        },
        "04d0dec73c764649a8684a58efffe67f": {
          "model_module": "@jupyter-widgets/controls",
          "model_name": "HTMLModel",
          "model_module_version": "1.5.0",
          "state": {
            "_dom_classes": [],
            "_model_module": "@jupyter-widgets/controls",
            "_model_module_version": "1.5.0",
            "_model_name": "HTMLModel",
            "_view_count": null,
            "_view_module": "@jupyter-widgets/controls",
            "_view_module_version": "1.5.0",
            "_view_name": "HTMLView",
            "description": "",
            "description_tooltip": null,
            "layout": "IPY_MODEL_70c1062551014bdfa2be24d6dc3e94b1",
            "placeholder": "​",
            "style": "IPY_MODEL_43d9634096e1434c94546bab981c5535",
            "value": "100%"
          }
        },
        "4617dbce34b4439da42d0727aaf3980a": {
          "model_module": "@jupyter-widgets/controls",
          "model_name": "FloatProgressModel",
          "model_module_version": "1.5.0",
          "state": {
            "_dom_classes": [],
            "_model_module": "@jupyter-widgets/controls",
            "_model_module_version": "1.5.0",
            "_model_name": "FloatProgressModel",
            "_view_count": null,
            "_view_module": "@jupyter-widgets/controls",
            "_view_module_version": "1.5.0",
            "_view_name": "ProgressView",
            "bar_style": "success",
            "description": "",
            "description_tooltip": null,
            "layout": "IPY_MODEL_c6539c7712a84d87a7f841f2e7df0e42",
            "max": 63,
            "min": 0,
            "orientation": "horizontal",
            "style": "IPY_MODEL_4a47d1f5748e4ff0a95e93e7eeb2f7a3",
            "value": 63
          }
        },
        "8c4ded4feacb4074a92122107e912dd4": {
          "model_module": "@jupyter-widgets/controls",
          "model_name": "HTMLModel",
          "model_module_version": "1.5.0",
          "state": {
            "_dom_classes": [],
            "_model_module": "@jupyter-widgets/controls",
            "_model_module_version": "1.5.0",
            "_model_name": "HTMLModel",
            "_view_count": null,
            "_view_module": "@jupyter-widgets/controls",
            "_view_module_version": "1.5.0",
            "_view_name": "HTMLView",
            "description": "",
            "description_tooltip": null,
            "layout": "IPY_MODEL_f5488342304d4329ad5b3f0055c0df4f",
            "placeholder": "​",
            "style": "IPY_MODEL_430e87df74b1465b9e2407cff46e591e",
            "value": " 63/63 [00:48&lt;00:00,  1.53ba/s]"
          }
        },
        "1c307942834c4b2486d8722e923e0ce2": {
          "model_module": "@jupyter-widgets/base",
          "model_name": "LayoutModel",
          "model_module_version": "1.2.0",
          "state": {
            "_model_module": "@jupyter-widgets/base",
            "_model_module_version": "1.2.0",
            "_model_name": "LayoutModel",
            "_view_count": null,
            "_view_module": "@jupyter-widgets/base",
            "_view_module_version": "1.2.0",
            "_view_name": "LayoutView",
            "align_content": null,
            "align_items": null,
            "align_self": null,
            "border": null,
            "bottom": null,
            "display": null,
            "flex": null,
            "flex_flow": null,
            "grid_area": null,
            "grid_auto_columns": null,
            "grid_auto_flow": null,
            "grid_auto_rows": null,
            "grid_column": null,
            "grid_gap": null,
            "grid_row": null,
            "grid_template_areas": null,
            "grid_template_columns": null,
            "grid_template_rows": null,
            "height": null,
            "justify_content": null,
            "justify_items": null,
            "left": null,
            "margin": null,
            "max_height": null,
            "max_width": null,
            "min_height": null,
            "min_width": null,
            "object_fit": null,
            "object_position": null,
            "order": null,
            "overflow": null,
            "overflow_x": null,
            "overflow_y": null,
            "padding": null,
            "right": null,
            "top": null,
            "visibility": null,
            "width": null
          }
        },
        "70c1062551014bdfa2be24d6dc3e94b1": {
          "model_module": "@jupyter-widgets/base",
          "model_name": "LayoutModel",
          "model_module_version": "1.2.0",
          "state": {
            "_model_module": "@jupyter-widgets/base",
            "_model_module_version": "1.2.0",
            "_model_name": "LayoutModel",
            "_view_count": null,
            "_view_module": "@jupyter-widgets/base",
            "_view_module_version": "1.2.0",
            "_view_name": "LayoutView",
            "align_content": null,
            "align_items": null,
            "align_self": null,
            "border": null,
            "bottom": null,
            "display": null,
            "flex": null,
            "flex_flow": null,
            "grid_area": null,
            "grid_auto_columns": null,
            "grid_auto_flow": null,
            "grid_auto_rows": null,
            "grid_column": null,
            "grid_gap": null,
            "grid_row": null,
            "grid_template_areas": null,
            "grid_template_columns": null,
            "grid_template_rows": null,
            "height": null,
            "justify_content": null,
            "justify_items": null,
            "left": null,
            "margin": null,
            "max_height": null,
            "max_width": null,
            "min_height": null,
            "min_width": null,
            "object_fit": null,
            "object_position": null,
            "order": null,
            "overflow": null,
            "overflow_x": null,
            "overflow_y": null,
            "padding": null,
            "right": null,
            "top": null,
            "visibility": null,
            "width": null
          }
        },
        "43d9634096e1434c94546bab981c5535": {
          "model_module": "@jupyter-widgets/controls",
          "model_name": "DescriptionStyleModel",
          "model_module_version": "1.5.0",
          "state": {
            "_model_module": "@jupyter-widgets/controls",
            "_model_module_version": "1.5.0",
            "_model_name": "DescriptionStyleModel",
            "_view_count": null,
            "_view_module": "@jupyter-widgets/base",
            "_view_module_version": "1.2.0",
            "_view_name": "StyleView",
            "description_width": ""
          }
        },
        "c6539c7712a84d87a7f841f2e7df0e42": {
          "model_module": "@jupyter-widgets/base",
          "model_name": "LayoutModel",
          "model_module_version": "1.2.0",
          "state": {
            "_model_module": "@jupyter-widgets/base",
            "_model_module_version": "1.2.0",
            "_model_name": "LayoutModel",
            "_view_count": null,
            "_view_module": "@jupyter-widgets/base",
            "_view_module_version": "1.2.0",
            "_view_name": "LayoutView",
            "align_content": null,
            "align_items": null,
            "align_self": null,
            "border": null,
            "bottom": null,
            "display": null,
            "flex": null,
            "flex_flow": null,
            "grid_area": null,
            "grid_auto_columns": null,
            "grid_auto_flow": null,
            "grid_auto_rows": null,
            "grid_column": null,
            "grid_gap": null,
            "grid_row": null,
            "grid_template_areas": null,
            "grid_template_columns": null,
            "grid_template_rows": null,
            "height": null,
            "justify_content": null,
            "justify_items": null,
            "left": null,
            "margin": null,
            "max_height": null,
            "max_width": null,
            "min_height": null,
            "min_width": null,
            "object_fit": null,
            "object_position": null,
            "order": null,
            "overflow": null,
            "overflow_x": null,
            "overflow_y": null,
            "padding": null,
            "right": null,
            "top": null,
            "visibility": null,
            "width": null
          }
        },
        "4a47d1f5748e4ff0a95e93e7eeb2f7a3": {
          "model_module": "@jupyter-widgets/controls",
          "model_name": "ProgressStyleModel",
          "model_module_version": "1.5.0",
          "state": {
            "_model_module": "@jupyter-widgets/controls",
            "_model_module_version": "1.5.0",
            "_model_name": "ProgressStyleModel",
            "_view_count": null,
            "_view_module": "@jupyter-widgets/base",
            "_view_module_version": "1.2.0",
            "_view_name": "StyleView",
            "bar_color": null,
            "description_width": ""
          }
        },
        "f5488342304d4329ad5b3f0055c0df4f": {
          "model_module": "@jupyter-widgets/base",
          "model_name": "LayoutModel",
          "model_module_version": "1.2.0",
          "state": {
            "_model_module": "@jupyter-widgets/base",
            "_model_module_version": "1.2.0",
            "_model_name": "LayoutModel",
            "_view_count": null,
            "_view_module": "@jupyter-widgets/base",
            "_view_module_version": "1.2.0",
            "_view_name": "LayoutView",
            "align_content": null,
            "align_items": null,
            "align_self": null,
            "border": null,
            "bottom": null,
            "display": null,
            "flex": null,
            "flex_flow": null,
            "grid_area": null,
            "grid_auto_columns": null,
            "grid_auto_flow": null,
            "grid_auto_rows": null,
            "grid_column": null,
            "grid_gap": null,
            "grid_row": null,
            "grid_template_areas": null,
            "grid_template_columns": null,
            "grid_template_rows": null,
            "height": null,
            "justify_content": null,
            "justify_items": null,
            "left": null,
            "margin": null,
            "max_height": null,
            "max_width": null,
            "min_height": null,
            "min_width": null,
            "object_fit": null,
            "object_position": null,
            "order": null,
            "overflow": null,
            "overflow_x": null,
            "overflow_y": null,
            "padding": null,
            "right": null,
            "top": null,
            "visibility": null,
            "width": null
          }
        },
        "430e87df74b1465b9e2407cff46e591e": {
          "model_module": "@jupyter-widgets/controls",
          "model_name": "DescriptionStyleModel",
          "model_module_version": "1.5.0",
          "state": {
            "_model_module": "@jupyter-widgets/controls",
            "_model_module_version": "1.5.0",
            "_model_name": "DescriptionStyleModel",
            "_view_count": null,
            "_view_module": "@jupyter-widgets/base",
            "_view_module_version": "1.2.0",
            "_view_name": "StyleView",
            "description_width": ""
          }
        },
        "49e582c255154a38a415f5b250665d88": {
          "model_module": "@jupyter-widgets/controls",
          "model_name": "HBoxModel",
          "model_module_version": "1.5.0",
          "state": {
            "_dom_classes": [],
            "_model_module": "@jupyter-widgets/controls",
            "_model_module_version": "1.5.0",
            "_model_name": "HBoxModel",
            "_view_count": null,
            "_view_module": "@jupyter-widgets/controls",
            "_view_module_version": "1.5.0",
            "_view_name": "HBoxView",
            "box_style": "",
            "children": [
              "IPY_MODEL_a918bb6e62e74156be22d565404da8dc",
              "IPY_MODEL_0ce58235374e479ab0122457ee754f4a",
              "IPY_MODEL_1e59b0be0b0b454fb3b136de18e34c93"
            ],
            "layout": "IPY_MODEL_a7b51f8c251f46d8a1eebf9277515928"
          }
        },
        "a918bb6e62e74156be22d565404da8dc": {
          "model_module": "@jupyter-widgets/controls",
          "model_name": "HTMLModel",
          "model_module_version": "1.5.0",
          "state": {
            "_dom_classes": [],
            "_model_module": "@jupyter-widgets/controls",
            "_model_module_version": "1.5.0",
            "_model_name": "HTMLModel",
            "_view_count": null,
            "_view_module": "@jupyter-widgets/controls",
            "_view_module_version": "1.5.0",
            "_view_name": "HTMLView",
            "description": "",
            "description_tooltip": null,
            "layout": "IPY_MODEL_c41b3798ce754feeb565a06043501e85",
            "placeholder": "​",
            "style": "IPY_MODEL_61103a6fe8aa48cc84b375a9a716ccc3",
            "value": "100%"
          }
        },
        "0ce58235374e479ab0122457ee754f4a": {
          "model_module": "@jupyter-widgets/controls",
          "model_name": "FloatProgressModel",
          "model_module_version": "1.5.0",
          "state": {
            "_dom_classes": [],
            "_model_module": "@jupyter-widgets/controls",
            "_model_module_version": "1.5.0",
            "_model_name": "FloatProgressModel",
            "_view_count": null,
            "_view_module": "@jupyter-widgets/controls",
            "_view_module_version": "1.5.0",
            "_view_name": "ProgressView",
            "bar_style": "success",
            "description": "",
            "description_tooltip": null,
            "layout": "IPY_MODEL_10481137702e4c57b27e0ffa1d24759f",
            "max": 125,
            "min": 0,
            "orientation": "horizontal",
            "style": "IPY_MODEL_f5796669f6c7407589a5a70fc454db6b",
            "value": 125
          }
        },
        "1e59b0be0b0b454fb3b136de18e34c93": {
          "model_module": "@jupyter-widgets/controls",
          "model_name": "HTMLModel",
          "model_module_version": "1.5.0",
          "state": {
            "_dom_classes": [],
            "_model_module": "@jupyter-widgets/controls",
            "_model_module_version": "1.5.0",
            "_model_name": "HTMLModel",
            "_view_count": null,
            "_view_module": "@jupyter-widgets/controls",
            "_view_module_version": "1.5.0",
            "_view_name": "HTMLView",
            "description": "",
            "description_tooltip": null,
            "layout": "IPY_MODEL_3c3ade606f814aa58a1e597d26e4c872",
            "placeholder": "​",
            "style": "IPY_MODEL_957d794cc7f64392aa4db16f71991695",
            "value": " 125/125 [00:58&lt;00:00,  2.18ba/s]"
          }
        },
        "a7b51f8c251f46d8a1eebf9277515928": {
          "model_module": "@jupyter-widgets/base",
          "model_name": "LayoutModel",
          "model_module_version": "1.2.0",
          "state": {
            "_model_module": "@jupyter-widgets/base",
            "_model_module_version": "1.2.0",
            "_model_name": "LayoutModel",
            "_view_count": null,
            "_view_module": "@jupyter-widgets/base",
            "_view_module_version": "1.2.0",
            "_view_name": "LayoutView",
            "align_content": null,
            "align_items": null,
            "align_self": null,
            "border": null,
            "bottom": null,
            "display": null,
            "flex": null,
            "flex_flow": null,
            "grid_area": null,
            "grid_auto_columns": null,
            "grid_auto_flow": null,
            "grid_auto_rows": null,
            "grid_column": null,
            "grid_gap": null,
            "grid_row": null,
            "grid_template_areas": null,
            "grid_template_columns": null,
            "grid_template_rows": null,
            "height": null,
            "justify_content": null,
            "justify_items": null,
            "left": null,
            "margin": null,
            "max_height": null,
            "max_width": null,
            "min_height": null,
            "min_width": null,
            "object_fit": null,
            "object_position": null,
            "order": null,
            "overflow": null,
            "overflow_x": null,
            "overflow_y": null,
            "padding": null,
            "right": null,
            "top": null,
            "visibility": null,
            "width": null
          }
        },
        "c41b3798ce754feeb565a06043501e85": {
          "model_module": "@jupyter-widgets/base",
          "model_name": "LayoutModel",
          "model_module_version": "1.2.0",
          "state": {
            "_model_module": "@jupyter-widgets/base",
            "_model_module_version": "1.2.0",
            "_model_name": "LayoutModel",
            "_view_count": null,
            "_view_module": "@jupyter-widgets/base",
            "_view_module_version": "1.2.0",
            "_view_name": "LayoutView",
            "align_content": null,
            "align_items": null,
            "align_self": null,
            "border": null,
            "bottom": null,
            "display": null,
            "flex": null,
            "flex_flow": null,
            "grid_area": null,
            "grid_auto_columns": null,
            "grid_auto_flow": null,
            "grid_auto_rows": null,
            "grid_column": null,
            "grid_gap": null,
            "grid_row": null,
            "grid_template_areas": null,
            "grid_template_columns": null,
            "grid_template_rows": null,
            "height": null,
            "justify_content": null,
            "justify_items": null,
            "left": null,
            "margin": null,
            "max_height": null,
            "max_width": null,
            "min_height": null,
            "min_width": null,
            "object_fit": null,
            "object_position": null,
            "order": null,
            "overflow": null,
            "overflow_x": null,
            "overflow_y": null,
            "padding": null,
            "right": null,
            "top": null,
            "visibility": null,
            "width": null
          }
        },
        "61103a6fe8aa48cc84b375a9a716ccc3": {
          "model_module": "@jupyter-widgets/controls",
          "model_name": "DescriptionStyleModel",
          "model_module_version": "1.5.0",
          "state": {
            "_model_module": "@jupyter-widgets/controls",
            "_model_module_version": "1.5.0",
            "_model_name": "DescriptionStyleModel",
            "_view_count": null,
            "_view_module": "@jupyter-widgets/base",
            "_view_module_version": "1.2.0",
            "_view_name": "StyleView",
            "description_width": ""
          }
        },
        "10481137702e4c57b27e0ffa1d24759f": {
          "model_module": "@jupyter-widgets/base",
          "model_name": "LayoutModel",
          "model_module_version": "1.2.0",
          "state": {
            "_model_module": "@jupyter-widgets/base",
            "_model_module_version": "1.2.0",
            "_model_name": "LayoutModel",
            "_view_count": null,
            "_view_module": "@jupyter-widgets/base",
            "_view_module_version": "1.2.0",
            "_view_name": "LayoutView",
            "align_content": null,
            "align_items": null,
            "align_self": null,
            "border": null,
            "bottom": null,
            "display": null,
            "flex": null,
            "flex_flow": null,
            "grid_area": null,
            "grid_auto_columns": null,
            "grid_auto_flow": null,
            "grid_auto_rows": null,
            "grid_column": null,
            "grid_gap": null,
            "grid_row": null,
            "grid_template_areas": null,
            "grid_template_columns": null,
            "grid_template_rows": null,
            "height": null,
            "justify_content": null,
            "justify_items": null,
            "left": null,
            "margin": null,
            "max_height": null,
            "max_width": null,
            "min_height": null,
            "min_width": null,
            "object_fit": null,
            "object_position": null,
            "order": null,
            "overflow": null,
            "overflow_x": null,
            "overflow_y": null,
            "padding": null,
            "right": null,
            "top": null,
            "visibility": null,
            "width": null
          }
        },
        "f5796669f6c7407589a5a70fc454db6b": {
          "model_module": "@jupyter-widgets/controls",
          "model_name": "ProgressStyleModel",
          "model_module_version": "1.5.0",
          "state": {
            "_model_module": "@jupyter-widgets/controls",
            "_model_module_version": "1.5.0",
            "_model_name": "ProgressStyleModel",
            "_view_count": null,
            "_view_module": "@jupyter-widgets/base",
            "_view_module_version": "1.2.0",
            "_view_name": "StyleView",
            "bar_color": null,
            "description_width": ""
          }
        },
        "3c3ade606f814aa58a1e597d26e4c872": {
          "model_module": "@jupyter-widgets/base",
          "model_name": "LayoutModel",
          "model_module_version": "1.2.0",
          "state": {
            "_model_module": "@jupyter-widgets/base",
            "_model_module_version": "1.2.0",
            "_model_name": "LayoutModel",
            "_view_count": null,
            "_view_module": "@jupyter-widgets/base",
            "_view_module_version": "1.2.0",
            "_view_name": "LayoutView",
            "align_content": null,
            "align_items": null,
            "align_self": null,
            "border": null,
            "bottom": null,
            "display": null,
            "flex": null,
            "flex_flow": null,
            "grid_area": null,
            "grid_auto_columns": null,
            "grid_auto_flow": null,
            "grid_auto_rows": null,
            "grid_column": null,
            "grid_gap": null,
            "grid_row": null,
            "grid_template_areas": null,
            "grid_template_columns": null,
            "grid_template_rows": null,
            "height": null,
            "justify_content": null,
            "justify_items": null,
            "left": null,
            "margin": null,
            "max_height": null,
            "max_width": null,
            "min_height": null,
            "min_width": null,
            "object_fit": null,
            "object_position": null,
            "order": null,
            "overflow": null,
            "overflow_x": null,
            "overflow_y": null,
            "padding": null,
            "right": null,
            "top": null,
            "visibility": null,
            "width": null
          }
        },
        "957d794cc7f64392aa4db16f71991695": {
          "model_module": "@jupyter-widgets/controls",
          "model_name": "DescriptionStyleModel",
          "model_module_version": "1.5.0",
          "state": {
            "_model_module": "@jupyter-widgets/controls",
            "_model_module_version": "1.5.0",
            "_model_name": "DescriptionStyleModel",
            "_view_count": null,
            "_view_module": "@jupyter-widgets/base",
            "_view_module_version": "1.2.0",
            "_view_name": "StyleView",
            "description_width": ""
          }
        },
        "fd9c6950f4094257b3323274363d3218": {
          "model_module": "@jupyter-widgets/controls",
          "model_name": "HBoxModel",
          "model_module_version": "1.5.0",
          "state": {
            "_dom_classes": [],
            "_model_module": "@jupyter-widgets/controls",
            "_model_module_version": "1.5.0",
            "_model_name": "HBoxModel",
            "_view_count": null,
            "_view_module": "@jupyter-widgets/controls",
            "_view_module_version": "1.5.0",
            "_view_name": "HBoxView",
            "box_style": "",
            "children": [
              "IPY_MODEL_64abd26b578348f4adf437049bfa83e1",
              "IPY_MODEL_7b5008fdfa95464181d9b8345d484bf0",
              "IPY_MODEL_f55d6bfc29bf45aebe9f73c636c430ba"
            ],
            "layout": "IPY_MODEL_06632e8f53074e9d841527072f5c1f96"
          }
        },
        "64abd26b578348f4adf437049bfa83e1": {
          "model_module": "@jupyter-widgets/controls",
          "model_name": "HTMLModel",
          "model_module_version": "1.5.0",
          "state": {
            "_dom_classes": [],
            "_model_module": "@jupyter-widgets/controls",
            "_model_module_version": "1.5.0",
            "_model_name": "HTMLModel",
            "_view_count": null,
            "_view_module": "@jupyter-widgets/controls",
            "_view_module_version": "1.5.0",
            "_view_name": "HTMLView",
            "description": "",
            "description_tooltip": null,
            "layout": "IPY_MODEL_a68c531449e44bb68656f3af80f69e5a",
            "placeholder": "​",
            "style": "IPY_MODEL_8af175dfed954f18941975479654f678",
            "value": "100%"
          }
        },
        "7b5008fdfa95464181d9b8345d484bf0": {
          "model_module": "@jupyter-widgets/controls",
          "model_name": "FloatProgressModel",
          "model_module_version": "1.5.0",
          "state": {
            "_dom_classes": [],
            "_model_module": "@jupyter-widgets/controls",
            "_model_module_version": "1.5.0",
            "_model_name": "FloatProgressModel",
            "_view_count": null,
            "_view_module": "@jupyter-widgets/controls",
            "_view_module_version": "1.5.0",
            "_view_name": "ProgressView",
            "bar_style": "success",
            "description": "",
            "description_tooltip": null,
            "layout": "IPY_MODEL_64d941d0c5924ebe80958d4f9f8924e2",
            "max": 125,
            "min": 0,
            "orientation": "horizontal",
            "style": "IPY_MODEL_198a2f0166f1454b8ba37d825d013798",
            "value": 125
          }
        },
        "f55d6bfc29bf45aebe9f73c636c430ba": {
          "model_module": "@jupyter-widgets/controls",
          "model_name": "HTMLModel",
          "model_module_version": "1.5.0",
          "state": {
            "_dom_classes": [],
            "_model_module": "@jupyter-widgets/controls",
            "_model_module_version": "1.5.0",
            "_model_name": "HTMLModel",
            "_view_count": null,
            "_view_module": "@jupyter-widgets/controls",
            "_view_module_version": "1.5.0",
            "_view_name": "HTMLView",
            "description": "",
            "description_tooltip": null,
            "layout": "IPY_MODEL_ff301011f6214bc3a884a598bc3da39c",
            "placeholder": "​",
            "style": "IPY_MODEL_0387502466e547bdad70ed8a7c501d88",
            "value": " 125/125 [00:57&lt;00:00,  2.19ba/s]"
          }
        },
        "06632e8f53074e9d841527072f5c1f96": {
          "model_module": "@jupyter-widgets/base",
          "model_name": "LayoutModel",
          "model_module_version": "1.2.0",
          "state": {
            "_model_module": "@jupyter-widgets/base",
            "_model_module_version": "1.2.0",
            "_model_name": "LayoutModel",
            "_view_count": null,
            "_view_module": "@jupyter-widgets/base",
            "_view_module_version": "1.2.0",
            "_view_name": "LayoutView",
            "align_content": null,
            "align_items": null,
            "align_self": null,
            "border": null,
            "bottom": null,
            "display": null,
            "flex": null,
            "flex_flow": null,
            "grid_area": null,
            "grid_auto_columns": null,
            "grid_auto_flow": null,
            "grid_auto_rows": null,
            "grid_column": null,
            "grid_gap": null,
            "grid_row": null,
            "grid_template_areas": null,
            "grid_template_columns": null,
            "grid_template_rows": null,
            "height": null,
            "justify_content": null,
            "justify_items": null,
            "left": null,
            "margin": null,
            "max_height": null,
            "max_width": null,
            "min_height": null,
            "min_width": null,
            "object_fit": null,
            "object_position": null,
            "order": null,
            "overflow": null,
            "overflow_x": null,
            "overflow_y": null,
            "padding": null,
            "right": null,
            "top": null,
            "visibility": null,
            "width": null
          }
        },
        "a68c531449e44bb68656f3af80f69e5a": {
          "model_module": "@jupyter-widgets/base",
          "model_name": "LayoutModel",
          "model_module_version": "1.2.0",
          "state": {
            "_model_module": "@jupyter-widgets/base",
            "_model_module_version": "1.2.0",
            "_model_name": "LayoutModel",
            "_view_count": null,
            "_view_module": "@jupyter-widgets/base",
            "_view_module_version": "1.2.0",
            "_view_name": "LayoutView",
            "align_content": null,
            "align_items": null,
            "align_self": null,
            "border": null,
            "bottom": null,
            "display": null,
            "flex": null,
            "flex_flow": null,
            "grid_area": null,
            "grid_auto_columns": null,
            "grid_auto_flow": null,
            "grid_auto_rows": null,
            "grid_column": null,
            "grid_gap": null,
            "grid_row": null,
            "grid_template_areas": null,
            "grid_template_columns": null,
            "grid_template_rows": null,
            "height": null,
            "justify_content": null,
            "justify_items": null,
            "left": null,
            "margin": null,
            "max_height": null,
            "max_width": null,
            "min_height": null,
            "min_width": null,
            "object_fit": null,
            "object_position": null,
            "order": null,
            "overflow": null,
            "overflow_x": null,
            "overflow_y": null,
            "padding": null,
            "right": null,
            "top": null,
            "visibility": null,
            "width": null
          }
        },
        "8af175dfed954f18941975479654f678": {
          "model_module": "@jupyter-widgets/controls",
          "model_name": "DescriptionStyleModel",
          "model_module_version": "1.5.0",
          "state": {
            "_model_module": "@jupyter-widgets/controls",
            "_model_module_version": "1.5.0",
            "_model_name": "DescriptionStyleModel",
            "_view_count": null,
            "_view_module": "@jupyter-widgets/base",
            "_view_module_version": "1.2.0",
            "_view_name": "StyleView",
            "description_width": ""
          }
        },
        "64d941d0c5924ebe80958d4f9f8924e2": {
          "model_module": "@jupyter-widgets/base",
          "model_name": "LayoutModel",
          "model_module_version": "1.2.0",
          "state": {
            "_model_module": "@jupyter-widgets/base",
            "_model_module_version": "1.2.0",
            "_model_name": "LayoutModel",
            "_view_count": null,
            "_view_module": "@jupyter-widgets/base",
            "_view_module_version": "1.2.0",
            "_view_name": "LayoutView",
            "align_content": null,
            "align_items": null,
            "align_self": null,
            "border": null,
            "bottom": null,
            "display": null,
            "flex": null,
            "flex_flow": null,
            "grid_area": null,
            "grid_auto_columns": null,
            "grid_auto_flow": null,
            "grid_auto_rows": null,
            "grid_column": null,
            "grid_gap": null,
            "grid_row": null,
            "grid_template_areas": null,
            "grid_template_columns": null,
            "grid_template_rows": null,
            "height": null,
            "justify_content": null,
            "justify_items": null,
            "left": null,
            "margin": null,
            "max_height": null,
            "max_width": null,
            "min_height": null,
            "min_width": null,
            "object_fit": null,
            "object_position": null,
            "order": null,
            "overflow": null,
            "overflow_x": null,
            "overflow_y": null,
            "padding": null,
            "right": null,
            "top": null,
            "visibility": null,
            "width": null
          }
        },
        "198a2f0166f1454b8ba37d825d013798": {
          "model_module": "@jupyter-widgets/controls",
          "model_name": "ProgressStyleModel",
          "model_module_version": "1.5.0",
          "state": {
            "_model_module": "@jupyter-widgets/controls",
            "_model_module_version": "1.5.0",
            "_model_name": "ProgressStyleModel",
            "_view_count": null,
            "_view_module": "@jupyter-widgets/base",
            "_view_module_version": "1.2.0",
            "_view_name": "StyleView",
            "bar_color": null,
            "description_width": ""
          }
        },
        "ff301011f6214bc3a884a598bc3da39c": {
          "model_module": "@jupyter-widgets/base",
          "model_name": "LayoutModel",
          "model_module_version": "1.2.0",
          "state": {
            "_model_module": "@jupyter-widgets/base",
            "_model_module_version": "1.2.0",
            "_model_name": "LayoutModel",
            "_view_count": null,
            "_view_module": "@jupyter-widgets/base",
            "_view_module_version": "1.2.0",
            "_view_name": "LayoutView",
            "align_content": null,
            "align_items": null,
            "align_self": null,
            "border": null,
            "bottom": null,
            "display": null,
            "flex": null,
            "flex_flow": null,
            "grid_area": null,
            "grid_auto_columns": null,
            "grid_auto_flow": null,
            "grid_auto_rows": null,
            "grid_column": null,
            "grid_gap": null,
            "grid_row": null,
            "grid_template_areas": null,
            "grid_template_columns": null,
            "grid_template_rows": null,
            "height": null,
            "justify_content": null,
            "justify_items": null,
            "left": null,
            "margin": null,
            "max_height": null,
            "max_width": null,
            "min_height": null,
            "min_width": null,
            "object_fit": null,
            "object_position": null,
            "order": null,
            "overflow": null,
            "overflow_x": null,
            "overflow_y": null,
            "padding": null,
            "right": null,
            "top": null,
            "visibility": null,
            "width": null
          }
        },
        "0387502466e547bdad70ed8a7c501d88": {
          "model_module": "@jupyter-widgets/controls",
          "model_name": "DescriptionStyleModel",
          "model_module_version": "1.5.0",
          "state": {
            "_model_module": "@jupyter-widgets/controls",
            "_model_module_version": "1.5.0",
            "_model_name": "DescriptionStyleModel",
            "_view_count": null,
            "_view_module": "@jupyter-widgets/base",
            "_view_module_version": "1.2.0",
            "_view_name": "StyleView",
            "description_width": ""
          }
        },
        "d353aeac1f6f4ab9ac8b42dd2aa873c6": {
          "model_module": "@jupyter-widgets/controls",
          "model_name": "HBoxModel",
          "model_module_version": "1.5.0",
          "state": {
            "_dom_classes": [],
            "_model_module": "@jupyter-widgets/controls",
            "_model_module_version": "1.5.0",
            "_model_name": "HBoxModel",
            "_view_count": null,
            "_view_module": "@jupyter-widgets/controls",
            "_view_module_version": "1.5.0",
            "_view_name": "HBoxView",
            "box_style": "",
            "children": [
              "IPY_MODEL_346200dc68344e6ba03ab102192dc57c",
              "IPY_MODEL_839fa6ac668e4458972fd3b7f6f30cc5",
              "IPY_MODEL_c29316a29e284653bfd1feb0fbe2e61c"
            ],
            "layout": "IPY_MODEL_96eb493a7da84a3da806b63f25aea452"
          }
        },
        "346200dc68344e6ba03ab102192dc57c": {
          "model_module": "@jupyter-widgets/controls",
          "model_name": "HTMLModel",
          "model_module_version": "1.5.0",
          "state": {
            "_dom_classes": [],
            "_model_module": "@jupyter-widgets/controls",
            "_model_module_version": "1.5.0",
            "_model_name": "HTMLModel",
            "_view_count": null,
            "_view_module": "@jupyter-widgets/controls",
            "_view_module_version": "1.5.0",
            "_view_name": "HTMLView",
            "description": "",
            "description_tooltip": null,
            "layout": "IPY_MODEL_1df30706a8e746bdb29fd3bd71cd379f",
            "placeholder": "​",
            "style": "IPY_MODEL_cf989d184a2c4d5c8ed32b9742a8916a",
            "value": "100%"
          }
        },
        "839fa6ac668e4458972fd3b7f6f30cc5": {
          "model_module": "@jupyter-widgets/controls",
          "model_name": "FloatProgressModel",
          "model_module_version": "1.5.0",
          "state": {
            "_dom_classes": [],
            "_model_module": "@jupyter-widgets/controls",
            "_model_module_version": "1.5.0",
            "_model_name": "FloatProgressModel",
            "_view_count": null,
            "_view_module": "@jupyter-widgets/controls",
            "_view_module_version": "1.5.0",
            "_view_name": "ProgressView",
            "bar_style": "success",
            "description": "",
            "description_tooltip": null,
            "layout": "IPY_MODEL_10db391e229f446faa151b4e1775290f",
            "max": 125,
            "min": 0,
            "orientation": "horizontal",
            "style": "IPY_MODEL_3e59788eb2ad4098b3b92aef6dee9f82",
            "value": 125
          }
        },
        "c29316a29e284653bfd1feb0fbe2e61c": {
          "model_module": "@jupyter-widgets/controls",
          "model_name": "HTMLModel",
          "model_module_version": "1.5.0",
          "state": {
            "_dom_classes": [],
            "_model_module": "@jupyter-widgets/controls",
            "_model_module_version": "1.5.0",
            "_model_name": "HTMLModel",
            "_view_count": null,
            "_view_module": "@jupyter-widgets/controls",
            "_view_module_version": "1.5.0",
            "_view_name": "HTMLView",
            "description": "",
            "description_tooltip": null,
            "layout": "IPY_MODEL_ccd4d4507d7d4a73a7bee52366bc5471",
            "placeholder": "​",
            "style": "IPY_MODEL_88ac6e02281643e78999cc1916ede1c1",
            "value": " 125/125 [00:57&lt;00:00,  2.13ba/s]"
          }
        },
        "96eb493a7da84a3da806b63f25aea452": {
          "model_module": "@jupyter-widgets/base",
          "model_name": "LayoutModel",
          "model_module_version": "1.2.0",
          "state": {
            "_model_module": "@jupyter-widgets/base",
            "_model_module_version": "1.2.0",
            "_model_name": "LayoutModel",
            "_view_count": null,
            "_view_module": "@jupyter-widgets/base",
            "_view_module_version": "1.2.0",
            "_view_name": "LayoutView",
            "align_content": null,
            "align_items": null,
            "align_self": null,
            "border": null,
            "bottom": null,
            "display": null,
            "flex": null,
            "flex_flow": null,
            "grid_area": null,
            "grid_auto_columns": null,
            "grid_auto_flow": null,
            "grid_auto_rows": null,
            "grid_column": null,
            "grid_gap": null,
            "grid_row": null,
            "grid_template_areas": null,
            "grid_template_columns": null,
            "grid_template_rows": null,
            "height": null,
            "justify_content": null,
            "justify_items": null,
            "left": null,
            "margin": null,
            "max_height": null,
            "max_width": null,
            "min_height": null,
            "min_width": null,
            "object_fit": null,
            "object_position": null,
            "order": null,
            "overflow": null,
            "overflow_x": null,
            "overflow_y": null,
            "padding": null,
            "right": null,
            "top": null,
            "visibility": null,
            "width": null
          }
        },
        "1df30706a8e746bdb29fd3bd71cd379f": {
          "model_module": "@jupyter-widgets/base",
          "model_name": "LayoutModel",
          "model_module_version": "1.2.0",
          "state": {
            "_model_module": "@jupyter-widgets/base",
            "_model_module_version": "1.2.0",
            "_model_name": "LayoutModel",
            "_view_count": null,
            "_view_module": "@jupyter-widgets/base",
            "_view_module_version": "1.2.0",
            "_view_name": "LayoutView",
            "align_content": null,
            "align_items": null,
            "align_self": null,
            "border": null,
            "bottom": null,
            "display": null,
            "flex": null,
            "flex_flow": null,
            "grid_area": null,
            "grid_auto_columns": null,
            "grid_auto_flow": null,
            "grid_auto_rows": null,
            "grid_column": null,
            "grid_gap": null,
            "grid_row": null,
            "grid_template_areas": null,
            "grid_template_columns": null,
            "grid_template_rows": null,
            "height": null,
            "justify_content": null,
            "justify_items": null,
            "left": null,
            "margin": null,
            "max_height": null,
            "max_width": null,
            "min_height": null,
            "min_width": null,
            "object_fit": null,
            "object_position": null,
            "order": null,
            "overflow": null,
            "overflow_x": null,
            "overflow_y": null,
            "padding": null,
            "right": null,
            "top": null,
            "visibility": null,
            "width": null
          }
        },
        "cf989d184a2c4d5c8ed32b9742a8916a": {
          "model_module": "@jupyter-widgets/controls",
          "model_name": "DescriptionStyleModel",
          "model_module_version": "1.5.0",
          "state": {
            "_model_module": "@jupyter-widgets/controls",
            "_model_module_version": "1.5.0",
            "_model_name": "DescriptionStyleModel",
            "_view_count": null,
            "_view_module": "@jupyter-widgets/base",
            "_view_module_version": "1.2.0",
            "_view_name": "StyleView",
            "description_width": ""
          }
        },
        "10db391e229f446faa151b4e1775290f": {
          "model_module": "@jupyter-widgets/base",
          "model_name": "LayoutModel",
          "model_module_version": "1.2.0",
          "state": {
            "_model_module": "@jupyter-widgets/base",
            "_model_module_version": "1.2.0",
            "_model_name": "LayoutModel",
            "_view_count": null,
            "_view_module": "@jupyter-widgets/base",
            "_view_module_version": "1.2.0",
            "_view_name": "LayoutView",
            "align_content": null,
            "align_items": null,
            "align_self": null,
            "border": null,
            "bottom": null,
            "display": null,
            "flex": null,
            "flex_flow": null,
            "grid_area": null,
            "grid_auto_columns": null,
            "grid_auto_flow": null,
            "grid_auto_rows": null,
            "grid_column": null,
            "grid_gap": null,
            "grid_row": null,
            "grid_template_areas": null,
            "grid_template_columns": null,
            "grid_template_rows": null,
            "height": null,
            "justify_content": null,
            "justify_items": null,
            "left": null,
            "margin": null,
            "max_height": null,
            "max_width": null,
            "min_height": null,
            "min_width": null,
            "object_fit": null,
            "object_position": null,
            "order": null,
            "overflow": null,
            "overflow_x": null,
            "overflow_y": null,
            "padding": null,
            "right": null,
            "top": null,
            "visibility": null,
            "width": null
          }
        },
        "3e59788eb2ad4098b3b92aef6dee9f82": {
          "model_module": "@jupyter-widgets/controls",
          "model_name": "ProgressStyleModel",
          "model_module_version": "1.5.0",
          "state": {
            "_model_module": "@jupyter-widgets/controls",
            "_model_module_version": "1.5.0",
            "_model_name": "ProgressStyleModel",
            "_view_count": null,
            "_view_module": "@jupyter-widgets/base",
            "_view_module_version": "1.2.0",
            "_view_name": "StyleView",
            "bar_color": null,
            "description_width": ""
          }
        },
        "ccd4d4507d7d4a73a7bee52366bc5471": {
          "model_module": "@jupyter-widgets/base",
          "model_name": "LayoutModel",
          "model_module_version": "1.2.0",
          "state": {
            "_model_module": "@jupyter-widgets/base",
            "_model_module_version": "1.2.0",
            "_model_name": "LayoutModel",
            "_view_count": null,
            "_view_module": "@jupyter-widgets/base",
            "_view_module_version": "1.2.0",
            "_view_name": "LayoutView",
            "align_content": null,
            "align_items": null,
            "align_self": null,
            "border": null,
            "bottom": null,
            "display": null,
            "flex": null,
            "flex_flow": null,
            "grid_area": null,
            "grid_auto_columns": null,
            "grid_auto_flow": null,
            "grid_auto_rows": null,
            "grid_column": null,
            "grid_gap": null,
            "grid_row": null,
            "grid_template_areas": null,
            "grid_template_columns": null,
            "grid_template_rows": null,
            "height": null,
            "justify_content": null,
            "justify_items": null,
            "left": null,
            "margin": null,
            "max_height": null,
            "max_width": null,
            "min_height": null,
            "min_width": null,
            "object_fit": null,
            "object_position": null,
            "order": null,
            "overflow": null,
            "overflow_x": null,
            "overflow_y": null,
            "padding": null,
            "right": null,
            "top": null,
            "visibility": null,
            "width": null
          }
        },
        "88ac6e02281643e78999cc1916ede1c1": {
          "model_module": "@jupyter-widgets/controls",
          "model_name": "DescriptionStyleModel",
          "model_module_version": "1.5.0",
          "state": {
            "_model_module": "@jupyter-widgets/controls",
            "_model_module_version": "1.5.0",
            "_model_name": "DescriptionStyleModel",
            "_view_count": null,
            "_view_module": "@jupyter-widgets/base",
            "_view_module_version": "1.2.0",
            "_view_name": "StyleView",
            "description_width": ""
          }
        },
        "2e401a08a9bc409c931215a83bc1cce4": {
          "model_module": "@jupyter-widgets/controls",
          "model_name": "HBoxModel",
          "model_module_version": "1.5.0",
          "state": {
            "_dom_classes": [],
            "_model_module": "@jupyter-widgets/controls",
            "_model_module_version": "1.5.0",
            "_model_name": "HBoxModel",
            "_view_count": null,
            "_view_module": "@jupyter-widgets/controls",
            "_view_module_version": "1.5.0",
            "_view_name": "HBoxView",
            "box_style": "",
            "children": [
              "IPY_MODEL_12d9ae21726e43e78bff773cea3a8a7d",
              "IPY_MODEL_cd1752223e6947c4abaaa0e704913797",
              "IPY_MODEL_66da49dee84e4072b8a7fbfdf19784c2"
            ],
            "layout": "IPY_MODEL_884516fd403148f7b5c92c9ed59f1960"
          }
        },
        "12d9ae21726e43e78bff773cea3a8a7d": {
          "model_module": "@jupyter-widgets/controls",
          "model_name": "HTMLModel",
          "model_module_version": "1.5.0",
          "state": {
            "_dom_classes": [],
            "_model_module": "@jupyter-widgets/controls",
            "_model_module_version": "1.5.0",
            "_model_name": "HTMLModel",
            "_view_count": null,
            "_view_module": "@jupyter-widgets/controls",
            "_view_module_version": "1.5.0",
            "_view_name": "HTMLView",
            "description": "",
            "description_tooltip": null,
            "layout": "IPY_MODEL_22d234fe156941499040dc8339ecbc3f",
            "placeholder": "​",
            "style": "IPY_MODEL_4aff174098824cd1a023f5d2f0d2407d",
            "value": "100%"
          }
        },
        "cd1752223e6947c4abaaa0e704913797": {
          "model_module": "@jupyter-widgets/controls",
          "model_name": "FloatProgressModel",
          "model_module_version": "1.5.0",
          "state": {
            "_dom_classes": [],
            "_model_module": "@jupyter-widgets/controls",
            "_model_module_version": "1.5.0",
            "_model_name": "FloatProgressModel",
            "_view_count": null,
            "_view_module": "@jupyter-widgets/controls",
            "_view_module_version": "1.5.0",
            "_view_name": "ProgressView",
            "bar_style": "success",
            "description": "",
            "description_tooltip": null,
            "layout": "IPY_MODEL_2233272a97fb451689aa773518ade0dc",
            "max": 125,
            "min": 0,
            "orientation": "horizontal",
            "style": "IPY_MODEL_93cba154e03245e9907cdcddd96b133c",
            "value": 125
          }
        },
        "66da49dee84e4072b8a7fbfdf19784c2": {
          "model_module": "@jupyter-widgets/controls",
          "model_name": "HTMLModel",
          "model_module_version": "1.5.0",
          "state": {
            "_dom_classes": [],
            "_model_module": "@jupyter-widgets/controls",
            "_model_module_version": "1.5.0",
            "_model_name": "HTMLModel",
            "_view_count": null,
            "_view_module": "@jupyter-widgets/controls",
            "_view_module_version": "1.5.0",
            "_view_name": "HTMLView",
            "description": "",
            "description_tooltip": null,
            "layout": "IPY_MODEL_c3e9c7be7ee44e94a981cba978eeb0c3",
            "placeholder": "​",
            "style": "IPY_MODEL_7a0450c00ea2449e9f8a98e8912fa294",
            "value": " 125/125 [00:55&lt;00:00,  2.20ba/s]"
          }
        },
        "884516fd403148f7b5c92c9ed59f1960": {
          "model_module": "@jupyter-widgets/base",
          "model_name": "LayoutModel",
          "model_module_version": "1.2.0",
          "state": {
            "_model_module": "@jupyter-widgets/base",
            "_model_module_version": "1.2.0",
            "_model_name": "LayoutModel",
            "_view_count": null,
            "_view_module": "@jupyter-widgets/base",
            "_view_module_version": "1.2.0",
            "_view_name": "LayoutView",
            "align_content": null,
            "align_items": null,
            "align_self": null,
            "border": null,
            "bottom": null,
            "display": null,
            "flex": null,
            "flex_flow": null,
            "grid_area": null,
            "grid_auto_columns": null,
            "grid_auto_flow": null,
            "grid_auto_rows": null,
            "grid_column": null,
            "grid_gap": null,
            "grid_row": null,
            "grid_template_areas": null,
            "grid_template_columns": null,
            "grid_template_rows": null,
            "height": null,
            "justify_content": null,
            "justify_items": null,
            "left": null,
            "margin": null,
            "max_height": null,
            "max_width": null,
            "min_height": null,
            "min_width": null,
            "object_fit": null,
            "object_position": null,
            "order": null,
            "overflow": null,
            "overflow_x": null,
            "overflow_y": null,
            "padding": null,
            "right": null,
            "top": null,
            "visibility": null,
            "width": null
          }
        },
        "22d234fe156941499040dc8339ecbc3f": {
          "model_module": "@jupyter-widgets/base",
          "model_name": "LayoutModel",
          "model_module_version": "1.2.0",
          "state": {
            "_model_module": "@jupyter-widgets/base",
            "_model_module_version": "1.2.0",
            "_model_name": "LayoutModel",
            "_view_count": null,
            "_view_module": "@jupyter-widgets/base",
            "_view_module_version": "1.2.0",
            "_view_name": "LayoutView",
            "align_content": null,
            "align_items": null,
            "align_self": null,
            "border": null,
            "bottom": null,
            "display": null,
            "flex": null,
            "flex_flow": null,
            "grid_area": null,
            "grid_auto_columns": null,
            "grid_auto_flow": null,
            "grid_auto_rows": null,
            "grid_column": null,
            "grid_gap": null,
            "grid_row": null,
            "grid_template_areas": null,
            "grid_template_columns": null,
            "grid_template_rows": null,
            "height": null,
            "justify_content": null,
            "justify_items": null,
            "left": null,
            "margin": null,
            "max_height": null,
            "max_width": null,
            "min_height": null,
            "min_width": null,
            "object_fit": null,
            "object_position": null,
            "order": null,
            "overflow": null,
            "overflow_x": null,
            "overflow_y": null,
            "padding": null,
            "right": null,
            "top": null,
            "visibility": null,
            "width": null
          }
        },
        "4aff174098824cd1a023f5d2f0d2407d": {
          "model_module": "@jupyter-widgets/controls",
          "model_name": "DescriptionStyleModel",
          "model_module_version": "1.5.0",
          "state": {
            "_model_module": "@jupyter-widgets/controls",
            "_model_module_version": "1.5.0",
            "_model_name": "DescriptionStyleModel",
            "_view_count": null,
            "_view_module": "@jupyter-widgets/base",
            "_view_module_version": "1.2.0",
            "_view_name": "StyleView",
            "description_width": ""
          }
        },
        "2233272a97fb451689aa773518ade0dc": {
          "model_module": "@jupyter-widgets/base",
          "model_name": "LayoutModel",
          "model_module_version": "1.2.0",
          "state": {
            "_model_module": "@jupyter-widgets/base",
            "_model_module_version": "1.2.0",
            "_model_name": "LayoutModel",
            "_view_count": null,
            "_view_module": "@jupyter-widgets/base",
            "_view_module_version": "1.2.0",
            "_view_name": "LayoutView",
            "align_content": null,
            "align_items": null,
            "align_self": null,
            "border": null,
            "bottom": null,
            "display": null,
            "flex": null,
            "flex_flow": null,
            "grid_area": null,
            "grid_auto_columns": null,
            "grid_auto_flow": null,
            "grid_auto_rows": null,
            "grid_column": null,
            "grid_gap": null,
            "grid_row": null,
            "grid_template_areas": null,
            "grid_template_columns": null,
            "grid_template_rows": null,
            "height": null,
            "justify_content": null,
            "justify_items": null,
            "left": null,
            "margin": null,
            "max_height": null,
            "max_width": null,
            "min_height": null,
            "min_width": null,
            "object_fit": null,
            "object_position": null,
            "order": null,
            "overflow": null,
            "overflow_x": null,
            "overflow_y": null,
            "padding": null,
            "right": null,
            "top": null,
            "visibility": null,
            "width": null
          }
        },
        "93cba154e03245e9907cdcddd96b133c": {
          "model_module": "@jupyter-widgets/controls",
          "model_name": "ProgressStyleModel",
          "model_module_version": "1.5.0",
          "state": {
            "_model_module": "@jupyter-widgets/controls",
            "_model_module_version": "1.5.0",
            "_model_name": "ProgressStyleModel",
            "_view_count": null,
            "_view_module": "@jupyter-widgets/base",
            "_view_module_version": "1.2.0",
            "_view_name": "StyleView",
            "bar_color": null,
            "description_width": ""
          }
        },
        "c3e9c7be7ee44e94a981cba978eeb0c3": {
          "model_module": "@jupyter-widgets/base",
          "model_name": "LayoutModel",
          "model_module_version": "1.2.0",
          "state": {
            "_model_module": "@jupyter-widgets/base",
            "_model_module_version": "1.2.0",
            "_model_name": "LayoutModel",
            "_view_count": null,
            "_view_module": "@jupyter-widgets/base",
            "_view_module_version": "1.2.0",
            "_view_name": "LayoutView",
            "align_content": null,
            "align_items": null,
            "align_self": null,
            "border": null,
            "bottom": null,
            "display": null,
            "flex": null,
            "flex_flow": null,
            "grid_area": null,
            "grid_auto_columns": null,
            "grid_auto_flow": null,
            "grid_auto_rows": null,
            "grid_column": null,
            "grid_gap": null,
            "grid_row": null,
            "grid_template_areas": null,
            "grid_template_columns": null,
            "grid_template_rows": null,
            "height": null,
            "justify_content": null,
            "justify_items": null,
            "left": null,
            "margin": null,
            "max_height": null,
            "max_width": null,
            "min_height": null,
            "min_width": null,
            "object_fit": null,
            "object_position": null,
            "order": null,
            "overflow": null,
            "overflow_x": null,
            "overflow_y": null,
            "padding": null,
            "right": null,
            "top": null,
            "visibility": null,
            "width": null
          }
        },
        "7a0450c00ea2449e9f8a98e8912fa294": {
          "model_module": "@jupyter-widgets/controls",
          "model_name": "DescriptionStyleModel",
          "model_module_version": "1.5.0",
          "state": {
            "_model_module": "@jupyter-widgets/controls",
            "_model_module_version": "1.5.0",
            "_model_name": "DescriptionStyleModel",
            "_view_count": null,
            "_view_module": "@jupyter-widgets/base",
            "_view_module_version": "1.2.0",
            "_view_name": "StyleView",
            "description_width": ""
          }
        }
      }
    }
  },
  "nbformat": 4,
  "nbformat_minor": 0
}
{
  "nbformat": 4,
  "nbformat_minor": 0,
  "metadata": {
    "colab": {
      "name": "Fine-tune T5 on CNN/Daily",
      "provenance": [],
      "collapsed_sections": []
    },
    "language_info": {
      "name": "python"
    },
    "kernelspec": {
      "name": "python3",
      "display_name": "Python 3"
    },
    "widgets": {
      "application/vnd.jupyter.widget-state+json": {
        "4c276393bca249a28e44e06844703b49": {
          "model_module": "@jupyter-widgets/controls",
          "model_name": "HBoxModel",
          "model_module_version": "1.5.0",
          "state": {
            "_view_name": "HBoxView",
            "_dom_classes": [],
            "_model_name": "HBoxModel",
            "_view_module": "@jupyter-widgets/controls",
            "_model_module_version": "1.5.0",
            "_view_count": null,
            "_view_module_version": "1.5.0",
            "box_style": "",
            "layout": "IPY_MODEL_dfdebf2eb02b4ee197755e4146e17b34",
            "_model_module": "@jupyter-widgets/controls",
            "children": [
              "IPY_MODEL_f5339d296489429a9d6ccd1c98a47eb4",
              "IPY_MODEL_9adf83f11ca341319f798c62b182623e",
              "IPY_MODEL_af847bbf1b274fbd997ecd00ef068fdf"
            ]
          }
        },
        "dfdebf2eb02b4ee197755e4146e17b34": {
          "model_module": "@jupyter-widgets/base",
          "model_name": "LayoutModel",
          "model_module_version": "1.2.0",
          "state": {
            "_view_name": "LayoutView",
            "grid_template_rows": null,
            "right": null,
            "justify_content": null,
            "_view_module": "@jupyter-widgets/base",
            "overflow": null,
            "_model_module_version": "1.2.0",
            "_view_count": null,
            "flex_flow": null,
            "width": null,
            "min_width": null,
            "border": null,
            "align_items": null,
            "bottom": null,
            "_model_module": "@jupyter-widgets/base",
            "top": null,
            "grid_column": null,
            "overflow_y": null,
            "overflow_x": null,
            "grid_auto_flow": null,
            "grid_area": null,
            "grid_template_columns": null,
            "flex": null,
            "_model_name": "LayoutModel",
            "justify_items": null,
            "grid_row": null,
            "max_height": null,
            "align_content": null,
            "visibility": null,
            "align_self": null,
            "height": null,
            "min_height": null,
            "padding": null,
            "grid_auto_rows": null,
            "grid_gap": null,
            "max_width": null,
            "order": null,
            "_view_module_version": "1.2.0",
            "grid_template_areas": null,
            "object_position": null,
            "object_fit": null,
            "grid_auto_columns": null,
            "margin": null,
            "display": null,
            "left": null
          }
        },
        "f5339d296489429a9d6ccd1c98a47eb4": {
          "model_module": "@jupyter-widgets/controls",
          "model_name": "HTMLModel",
          "model_module_version": "1.5.0",
          "state": {
            "_view_name": "HTMLView",
            "style": "IPY_MODEL_e9f75cb65b1844fbac9ce4e582ee39e1",
            "_dom_classes": [],
            "description": "",
            "_model_name": "HTMLModel",
            "placeholder": "​",
            "_view_module": "@jupyter-widgets/controls",
            "_model_module_version": "1.5.0",
            "value": "100%",
            "_view_count": null,
            "_view_module_version": "1.5.0",
            "description_tooltip": null,
            "_model_module": "@jupyter-widgets/controls",
            "layout": "IPY_MODEL_58619a24e5f74828982421ce769ef192"
          }
        },
        "9adf83f11ca341319f798c62b182623e": {
          "model_module": "@jupyter-widgets/controls",
          "model_name": "FloatProgressModel",
          "model_module_version": "1.5.0",
          "state": {
            "_view_name": "ProgressView",
            "style": "IPY_MODEL_9f1db1e8894348ba900f1643bfb61596",
            "_dom_classes": [],
            "description": "",
            "_model_name": "FloatProgressModel",
            "bar_style": "success",
            "max": 3,
            "_view_module": "@jupyter-widgets/controls",
            "_model_module_version": "1.5.0",
            "value": 3,
            "_view_count": null,
            "_view_module_version": "1.5.0",
            "orientation": "horizontal",
            "min": 0,
            "description_tooltip": null,
            "_model_module": "@jupyter-widgets/controls",
            "layout": "IPY_MODEL_bc5b9ed7653b41c9b46dd159581b0c7d"
          }
        },
        "af847bbf1b274fbd997ecd00ef068fdf": {
          "model_module": "@jupyter-widgets/controls",
          "model_name": "HTMLModel",
          "model_module_version": "1.5.0",
          "state": {
            "_view_name": "HTMLView",
            "style": "IPY_MODEL_064bc11282e646bfaeebd26fabf14eab",
            "_dom_classes": [],
            "description": "",
            "_model_name": "HTMLModel",
            "placeholder": "​",
            "_view_module": "@jupyter-widgets/controls",
            "_model_module_version": "1.5.0",
            "value": " 3/3 [00:00&lt;00:00,  2.58it/s]",
            "_view_count": null,
            "_view_module_version": "1.5.0",
            "description_tooltip": null,
            "_model_module": "@jupyter-widgets/controls",
            "layout": "IPY_MODEL_a7c0cfcf72484dc89d11361ee9d8ca9a"
          }
        },
        "e9f75cb65b1844fbac9ce4e582ee39e1": {
          "model_module": "@jupyter-widgets/controls",
          "model_name": "DescriptionStyleModel",
          "model_module_version": "1.5.0",
          "state": {
            "_view_name": "StyleView",
            "_model_name": "DescriptionStyleModel",
            "description_width": "",
            "_view_module": "@jupyter-widgets/base",
            "_model_module_version": "1.5.0",
            "_view_count": null,
            "_view_module_version": "1.2.0",
            "_model_module": "@jupyter-widgets/controls"
          }
        },
        "58619a24e5f74828982421ce769ef192": {
          "model_module": "@jupyter-widgets/base",
          "model_name": "LayoutModel",
          "model_module_version": "1.2.0",
          "state": {
            "_view_name": "LayoutView",
            "grid_template_rows": null,
            "right": null,
            "justify_content": null,
            "_view_module": "@jupyter-widgets/base",
            "overflow": null,
            "_model_module_version": "1.2.0",
            "_view_count": null,
            "flex_flow": null,
            "width": null,
            "min_width": null,
            "border": null,
            "align_items": null,
            "bottom": null,
            "_model_module": "@jupyter-widgets/base",
            "top": null,
            "grid_column": null,
            "overflow_y": null,
            "overflow_x": null,
            "grid_auto_flow": null,
            "grid_area": null,
            "grid_template_columns": null,
            "flex": null,
            "_model_name": "LayoutModel",
            "justify_items": null,
            "grid_row": null,
            "max_height": null,
            "align_content": null,
            "visibility": null,
            "align_self": null,
            "height": null,
            "min_height": null,
            "padding": null,
            "grid_auto_rows": null,
            "grid_gap": null,
            "max_width": null,
            "order": null,
            "_view_module_version": "1.2.0",
            "grid_template_areas": null,
            "object_position": null,
            "object_fit": null,
            "grid_auto_columns": null,
            "margin": null,
            "display": null,
            "left": null
          }
        },
        "9f1db1e8894348ba900f1643bfb61596": {
          "model_module": "@jupyter-widgets/controls",
          "model_name": "ProgressStyleModel",
          "model_module_version": "1.5.0",
          "state": {
            "_view_name": "StyleView",
            "_model_name": "ProgressStyleModel",
            "description_width": "",
            "_view_module": "@jupyter-widgets/base",
            "_model_module_version": "1.5.0",
            "_view_count": null,
            "_view_module_version": "1.2.0",
            "bar_color": null,
            "_model_module": "@jupyter-widgets/controls"
          }
        },
        "bc5b9ed7653b41c9b46dd159581b0c7d": {
          "model_module": "@jupyter-widgets/base",
          "model_name": "LayoutModel",
          "model_module_version": "1.2.0",
          "state": {
            "_view_name": "LayoutView",
            "grid_template_rows": null,
            "right": null,
            "justify_content": null,
            "_view_module": "@jupyter-widgets/base",
            "overflow": null,
            "_model_module_version": "1.2.0",
            "_view_count": null,
            "flex_flow": null,
            "width": null,
            "min_width": null,
            "border": null,
            "align_items": null,
            "bottom": null,
            "_model_module": "@jupyter-widgets/base",
            "top": null,
            "grid_column": null,
            "overflow_y": null,
            "overflow_x": null,
            "grid_auto_flow": null,
            "grid_area": null,
            "grid_template_columns": null,
            "flex": null,
            "_model_name": "LayoutModel",
            "justify_items": null,
            "grid_row": null,
            "max_height": null,
            "align_content": null,
            "visibility": null,
            "align_self": null,
            "height": null,
            "min_height": null,
            "padding": null,
            "grid_auto_rows": null,
            "grid_gap": null,
            "max_width": null,
            "order": null,
            "_view_module_version": "1.2.0",
            "grid_template_areas": null,
            "object_position": null,
            "object_fit": null,
            "grid_auto_columns": null,
            "margin": null,
            "display": null,
            "left": null
          }
        },
        "064bc11282e646bfaeebd26fabf14eab": {
          "model_module": "@jupyter-widgets/controls",
          "model_name": "DescriptionStyleModel",
          "model_module_version": "1.5.0",
          "state": {
            "_view_name": "StyleView",
            "_model_name": "DescriptionStyleModel",
            "description_width": "",
            "_view_module": "@jupyter-widgets/base",
            "_model_module_version": "1.5.0",
            "_view_count": null,
            "_view_module_version": "1.2.0",
            "_model_module": "@jupyter-widgets/controls"
          }
        },
        "a7c0cfcf72484dc89d11361ee9d8ca9a": {
          "model_module": "@jupyter-widgets/base",
          "model_name": "LayoutModel",
          "model_module_version": "1.2.0",
          "state": {
            "_view_name": "LayoutView",
            "grid_template_rows": null,
            "right": null,
            "justify_content": null,
            "_view_module": "@jupyter-widgets/base",
            "overflow": null,
            "_model_module_version": "1.2.0",
            "_view_count": null,
            "flex_flow": null,
            "width": null,
            "min_width": null,
            "border": null,
            "align_items": null,
            "bottom": null,
            "_model_module": "@jupyter-widgets/base",
            "top": null,
            "grid_column": null,
            "overflow_y": null,
            "overflow_x": null,
            "grid_auto_flow": null,
            "grid_area": null,
            "grid_template_columns": null,
            "flex": null,
            "_model_name": "LayoutModel",
            "justify_items": null,
            "grid_row": null,
            "max_height": null,
            "align_content": null,
            "visibility": null,
            "align_self": null,
            "height": null,
            "min_height": null,
            "padding": null,
            "grid_auto_rows": null,
            "grid_gap": null,
            "max_width": null,
            "order": null,
            "_view_module_version": "1.2.0",
            "grid_template_areas": null,
            "object_position": null,
            "object_fit": null,
            "grid_auto_columns": null,
            "margin": null,
            "display": null,
            "left": null
          }
        },
        "a6f3993d574948ca9c279d2e3d4efac0": {
          "model_module": "@jupyter-widgets/controls",
          "model_name": "HBoxModel",
          "model_module_version": "1.5.0",
          "state": {
            "_view_name": "HBoxView",
            "_dom_classes": [],
            "_model_name": "HBoxModel",
            "_view_module": "@jupyter-widgets/controls",
            "_model_module_version": "1.5.0",
            "_view_count": null,
            "_view_module_version": "1.5.0",
            "box_style": "",
            "layout": "IPY_MODEL_23c30f0c9ab24e748dff304c3e32f00d",
            "_model_module": "@jupyter-widgets/controls",
            "children": [
              "IPY_MODEL_968b6675d46e495ead72d2d7786d235a",
              "IPY_MODEL_08f953cf48ec499f86c40c6c767bed82",
              "IPY_MODEL_de69d30612d74684aaaec8a964e0771d"
            ]
          }
        },
        "23c30f0c9ab24e748dff304c3e32f00d": {
          "model_module": "@jupyter-widgets/base",
          "model_name": "LayoutModel",
          "model_module_version": "1.2.0",
          "state": {
            "_view_name": "LayoutView",
            "grid_template_rows": null,
            "right": null,
            "justify_content": null,
            "_view_module": "@jupyter-widgets/base",
            "overflow": null,
            "_model_module_version": "1.2.0",
            "_view_count": null,
            "flex_flow": null,
            "width": null,
            "min_width": null,
            "border": null,
            "align_items": null,
            "bottom": null,
            "_model_module": "@jupyter-widgets/base",
            "top": null,
            "grid_column": null,
            "overflow_y": null,
            "overflow_x": null,
            "grid_auto_flow": null,
            "grid_area": null,
            "grid_template_columns": null,
            "flex": null,
            "_model_name": "LayoutModel",
            "justify_items": null,
            "grid_row": null,
            "max_height": null,
            "align_content": null,
            "visibility": null,
            "align_self": null,
            "height": null,
            "min_height": null,
            "padding": null,
            "grid_auto_rows": null,
            "grid_gap": null,
            "max_width": null,
            "order": null,
            "_view_module_version": "1.2.0",
            "grid_template_areas": null,
            "object_position": null,
            "object_fit": null,
            "grid_auto_columns": null,
            "margin": null,
            "display": null,
            "left": null
          }
        },
        "968b6675d46e495ead72d2d7786d235a": {
          "model_module": "@jupyter-widgets/controls",
          "model_name": "HTMLModel",
          "model_module_version": "1.5.0",
          "state": {
            "_view_name": "HTMLView",
            "style": "IPY_MODEL_0dab02ba352445e2aedefe8850802d50",
            "_dom_classes": [],
            "description": "",
            "_model_name": "HTMLModel",
            "placeholder": "​",
            "_view_module": "@jupyter-widgets/controls",
            "_model_module_version": "1.5.0",
            "value": "100%",
            "_view_count": null,
            "_view_module_version": "1.5.0",
            "description_tooltip": null,
            "_model_module": "@jupyter-widgets/controls",
            "layout": "IPY_MODEL_fe7fe4f950554104819cf406be1b9564"
          }
        },
        "08f953cf48ec499f86c40c6c767bed82": {
          "model_module": "@jupyter-widgets/controls",
          "model_name": "FloatProgressModel",
          "model_module_version": "1.5.0",
          "state": {
            "_view_name": "ProgressView",
            "style": "IPY_MODEL_a9a750d2ada44cde9160ae0f2d87f0d8",
            "_dom_classes": [],
            "description": "",
            "_model_name": "FloatProgressModel",
            "bar_style": "success",
            "max": 288,
            "_view_module": "@jupyter-widgets/controls",
            "_model_module_version": "1.5.0",
            "value": 288,
            "_view_count": null,
            "_view_module_version": "1.5.0",
            "orientation": "horizontal",
            "min": 0,
            "description_tooltip": null,
            "_model_module": "@jupyter-widgets/controls",
            "layout": "IPY_MODEL_cf9012ddd8ee4042a568c3d558da6e11"
          }
        },
        "de69d30612d74684aaaec8a964e0771d": {
          "model_module": "@jupyter-widgets/controls",
          "model_name": "HTMLModel",
          "model_module_version": "1.5.0",
          "state": {
            "_view_name": "HTMLView",
            "style": "IPY_MODEL_7756c0a070cd43a2beea55ca78512436",
            "_dom_classes": [],
            "description": "",
            "_model_name": "HTMLModel",
            "placeholder": "​",
            "_view_module": "@jupyter-widgets/controls",
            "_model_module_version": "1.5.0",
            "value": " 288/288 [10:23&lt;00:00,  1.65s/ba]",
            "_view_count": null,
            "_view_module_version": "1.5.0",
            "description_tooltip": null,
            "_model_module": "@jupyter-widgets/controls",
            "layout": "IPY_MODEL_a248424e62cb4067951359d64ca3e93a"
          }
        },
        "0dab02ba352445e2aedefe8850802d50": {
          "model_module": "@jupyter-widgets/controls",
          "model_name": "DescriptionStyleModel",
          "model_module_version": "1.5.0",
          "state": {
            "_view_name": "StyleView",
            "_model_name": "DescriptionStyleModel",
            "description_width": "",
            "_view_module": "@jupyter-widgets/base",
            "_model_module_version": "1.5.0",
            "_view_count": null,
            "_view_module_version": "1.2.0",
            "_model_module": "@jupyter-widgets/controls"
          }
        },
        "fe7fe4f950554104819cf406be1b9564": {
          "model_module": "@jupyter-widgets/base",
          "model_name": "LayoutModel",
          "model_module_version": "1.2.0",
          "state": {
            "_view_name": "LayoutView",
            "grid_template_rows": null,
            "right": null,
            "justify_content": null,
            "_view_module": "@jupyter-widgets/base",
            "overflow": null,
            "_model_module_version": "1.2.0",
            "_view_count": null,
            "flex_flow": null,
            "width": null,
            "min_width": null,
            "border": null,
            "align_items": null,
            "bottom": null,
            "_model_module": "@jupyter-widgets/base",
            "top": null,
            "grid_column": null,
            "overflow_y": null,
            "overflow_x": null,
            "grid_auto_flow": null,
            "grid_area": null,
            "grid_template_columns": null,
            "flex": null,
            "_model_name": "LayoutModel",
            "justify_items": null,
            "grid_row": null,
            "max_height": null,
            "align_content": null,
            "visibility": null,
            "align_self": null,
            "height": null,
            "min_height": null,
            "padding": null,
            "grid_auto_rows": null,
            "grid_gap": null,
            "max_width": null,
            "order": null,
            "_view_module_version": "1.2.0",
            "grid_template_areas": null,
            "object_position": null,
            "object_fit": null,
            "grid_auto_columns": null,
            "margin": null,
            "display": null,
            "left": null
          }
        },
        "a9a750d2ada44cde9160ae0f2d87f0d8": {
          "model_module": "@jupyter-widgets/controls",
          "model_name": "ProgressStyleModel",
          "model_module_version": "1.5.0",
          "state": {
            "_view_name": "StyleView",
            "_model_name": "ProgressStyleModel",
            "description_width": "",
            "_view_module": "@jupyter-widgets/base",
            "_model_module_version": "1.5.0",
            "_view_count": null,
            "_view_module_version": "1.2.0",
            "bar_color": null,
            "_model_module": "@jupyter-widgets/controls"
          }
        },
        "cf9012ddd8ee4042a568c3d558da6e11": {
          "model_module": "@jupyter-widgets/base",
          "model_name": "LayoutModel",
          "model_module_version": "1.2.0",
          "state": {
            "_view_name": "LayoutView",
            "grid_template_rows": null,
            "right": null,
            "justify_content": null,
            "_view_module": "@jupyter-widgets/base",
            "overflow": null,
            "_model_module_version": "1.2.0",
            "_view_count": null,
            "flex_flow": null,
            "width": null,
            "min_width": null,
            "border": null,
            "align_items": null,
            "bottom": null,
            "_model_module": "@jupyter-widgets/base",
            "top": null,
            "grid_column": null,
            "overflow_y": null,
            "overflow_x": null,
            "grid_auto_flow": null,
            "grid_area": null,
            "grid_template_columns": null,
            "flex": null,
            "_model_name": "LayoutModel",
            "justify_items": null,
            "grid_row": null,
            "max_height": null,
            "align_content": null,
            "visibility": null,
            "align_self": null,
            "height": null,
            "min_height": null,
            "padding": null,
            "grid_auto_rows": null,
            "grid_gap": null,
            "max_width": null,
            "order": null,
            "_view_module_version": "1.2.0",
            "grid_template_areas": null,
            "object_position": null,
            "object_fit": null,
            "grid_auto_columns": null,
            "margin": null,
            "display": null,
            "left": null
          }
        },
        "7756c0a070cd43a2beea55ca78512436": {
          "model_module": "@jupyter-widgets/controls",
          "model_name": "DescriptionStyleModel",
          "model_module_version": "1.5.0",
          "state": {
            "_view_name": "StyleView",
            "_model_name": "DescriptionStyleModel",
            "description_width": "",
            "_view_module": "@jupyter-widgets/base",
            "_model_module_version": "1.5.0",
            "_view_count": null,
            "_view_module_version": "1.2.0",
            "_model_module": "@jupyter-widgets/controls"
          }
        },
        "a248424e62cb4067951359d64ca3e93a": {
          "model_module": "@jupyter-widgets/base",
          "model_name": "LayoutModel",
          "model_module_version": "1.2.0",
          "state": {
            "_view_name": "LayoutView",
            "grid_template_rows": null,
            "right": null,
            "justify_content": null,
            "_view_module": "@jupyter-widgets/base",
            "overflow": null,
            "_model_module_version": "1.2.0",
            "_view_count": null,
            "flex_flow": null,
            "width": null,
            "min_width": null,
            "border": null,
            "align_items": null,
            "bottom": null,
            "_model_module": "@jupyter-widgets/base",
            "top": null,
            "grid_column": null,
            "overflow_y": null,
            "overflow_x": null,
            "grid_auto_flow": null,
            "grid_area": null,
            "grid_template_columns": null,
            "flex": null,
            "_model_name": "LayoutModel",
            "justify_items": null,
            "grid_row": null,
            "max_height": null,
            "align_content": null,
            "visibility": null,
            "align_self": null,
            "height": null,
            "min_height": null,
            "padding": null,
            "grid_auto_rows": null,
            "grid_gap": null,
            "max_width": null,
            "order": null,
            "_view_module_version": "1.2.0",
            "grid_template_areas": null,
            "object_position": null,
            "object_fit": null,
            "grid_auto_columns": null,
            "margin": null,
            "display": null,
            "left": null
          }
        },
        "eb16894f687d4c5f8a96fbef0cd14860": {
          "model_module": "@jupyter-widgets/controls",
          "model_name": "HBoxModel",
          "model_module_version": "1.5.0",
          "state": {
            "_view_name": "HBoxView",
            "_dom_classes": [],
            "_model_name": "HBoxModel",
            "_view_module": "@jupyter-widgets/controls",
            "_model_module_version": "1.5.0",
            "_view_count": null,
            "_view_module_version": "1.5.0",
            "box_style": "",
            "layout": "IPY_MODEL_da02fdee63004c6e945fb8afc2b3d3d7",
            "_model_module": "@jupyter-widgets/controls",
            "children": [
              "IPY_MODEL_7d9fff666efd490381ce4382ad3f37d5",
              "IPY_MODEL_a535718c348549988b451dfe64aed2e5",
              "IPY_MODEL_65cd9c358ae7441cab3045f77f0b9b62"
            ]
          }
        },
        "da02fdee63004c6e945fb8afc2b3d3d7": {
          "model_module": "@jupyter-widgets/base",
          "model_name": "LayoutModel",
          "model_module_version": "1.2.0",
          "state": {
            "_view_name": "LayoutView",
            "grid_template_rows": null,
            "right": null,
            "justify_content": null,
            "_view_module": "@jupyter-widgets/base",
            "overflow": null,
            "_model_module_version": "1.2.0",
            "_view_count": null,
            "flex_flow": null,
            "width": null,
            "min_width": null,
            "border": null,
            "align_items": null,
            "bottom": null,
            "_model_module": "@jupyter-widgets/base",
            "top": null,
            "grid_column": null,
            "overflow_y": null,
            "overflow_x": null,
            "grid_auto_flow": null,
            "grid_area": null,
            "grid_template_columns": null,
            "flex": null,
            "_model_name": "LayoutModel",
            "justify_items": null,
            "grid_row": null,
            "max_height": null,
            "align_content": null,
            "visibility": null,
            "align_self": null,
            "height": null,
            "min_height": null,
            "padding": null,
            "grid_auto_rows": null,
            "grid_gap": null,
            "max_width": null,
            "order": null,
            "_view_module_version": "1.2.0",
            "grid_template_areas": null,
            "object_position": null,
            "object_fit": null,
            "grid_auto_columns": null,
            "margin": null,
            "display": null,
            "left": null
          }
        },
        "7d9fff666efd490381ce4382ad3f37d5": {
          "model_module": "@jupyter-widgets/controls",
          "model_name": "HTMLModel",
          "model_module_version": "1.5.0",
          "state": {
            "_view_name": "HTMLView",
            "style": "IPY_MODEL_9ac2936bc99e4fbfb349c9883567daa5",
            "_dom_classes": [],
            "description": "",
            "_model_name": "HTMLModel",
            "placeholder": "​",
            "_view_module": "@jupyter-widgets/controls",
            "_model_module_version": "1.5.0",
            "value": "100%",
            "_view_count": null,
            "_view_module_version": "1.5.0",
            "description_tooltip": null,
            "_model_module": "@jupyter-widgets/controls",
            "layout": "IPY_MODEL_10bf290e9b0a4651ac7ef0bf66b27b8d"
          }
        },
        "a535718c348549988b451dfe64aed2e5": {
          "model_module": "@jupyter-widgets/controls",
          "model_name": "FloatProgressModel",
          "model_module_version": "1.5.0",
          "state": {
            "_view_name": "ProgressView",
            "style": "IPY_MODEL_b8e0656ab1f0497a9efb945112a00dd1",
            "_dom_classes": [],
            "description": "",
            "_model_name": "FloatProgressModel",
            "bar_style": "success",
            "max": 14,
            "_view_module": "@jupyter-widgets/controls",
            "_model_module_version": "1.5.0",
            "value": 14,
            "_view_count": null,
            "_view_module_version": "1.5.0",
            "orientation": "horizontal",
            "min": 0,
            "description_tooltip": null,
            "_model_module": "@jupyter-widgets/controls",
            "layout": "IPY_MODEL_8b63bc44516b42738fa01eceb5297974"
          }
        },
        "65cd9c358ae7441cab3045f77f0b9b62": {
          "model_module": "@jupyter-widgets/controls",
          "model_name": "HTMLModel",
          "model_module_version": "1.5.0",
          "state": {
            "_view_name": "HTMLView",
            "style": "IPY_MODEL_11daa7fbfc6041bf8639eabff002ce77",
            "_dom_classes": [],
            "description": "",
            "_model_name": "HTMLModel",
            "placeholder": "​",
            "_view_module": "@jupyter-widgets/controls",
            "_model_module_version": "1.5.0",
            "value": " 14/14 [00:28&lt;00:00,  1.77s/ba]",
            "_view_count": null,
            "_view_module_version": "1.5.0",
            "description_tooltip": null,
            "_model_module": "@jupyter-widgets/controls",
            "layout": "IPY_MODEL_c7d6a56f3c2d47a79f4e5c737d80decc"
          }
        },
        "9ac2936bc99e4fbfb349c9883567daa5": {
          "model_module": "@jupyter-widgets/controls",
          "model_name": "DescriptionStyleModel",
          "model_module_version": "1.5.0",
          "state": {
            "_view_name": "StyleView",
            "_model_name": "DescriptionStyleModel",
            "description_width": "",
            "_view_module": "@jupyter-widgets/base",
            "_model_module_version": "1.5.0",
            "_view_count": null,
            "_view_module_version": "1.2.0",
            "_model_module": "@jupyter-widgets/controls"
          }
        },
        "10bf290e9b0a4651ac7ef0bf66b27b8d": {
          "model_module": "@jupyter-widgets/base",
          "model_name": "LayoutModel",
          "model_module_version": "1.2.0",
          "state": {
            "_view_name": "LayoutView",
            "grid_template_rows": null,
            "right": null,
            "justify_content": null,
            "_view_module": "@jupyter-widgets/base",
            "overflow": null,
            "_model_module_version": "1.2.0",
            "_view_count": null,
            "flex_flow": null,
            "width": null,
            "min_width": null,
            "border": null,
            "align_items": null,
            "bottom": null,
            "_model_module": "@jupyter-widgets/base",
            "top": null,
            "grid_column": null,
            "overflow_y": null,
            "overflow_x": null,
            "grid_auto_flow": null,
            "grid_area": null,
            "grid_template_columns": null,
            "flex": null,
            "_model_name": "LayoutModel",
            "justify_items": null,
            "grid_row": null,
            "max_height": null,
            "align_content": null,
            "visibility": null,
            "align_self": null,
            "height": null,
            "min_height": null,
            "padding": null,
            "grid_auto_rows": null,
            "grid_gap": null,
            "max_width": null,
            "order": null,
            "_view_module_version": "1.2.0",
            "grid_template_areas": null,
            "object_position": null,
            "object_fit": null,
            "grid_auto_columns": null,
            "margin": null,
            "display": null,
            "left": null
          }
        },
        "b8e0656ab1f0497a9efb945112a00dd1": {
          "model_module": "@jupyter-widgets/controls",
          "model_name": "ProgressStyleModel",
          "model_module_version": "1.5.0",
          "state": {
            "_view_name": "StyleView",
            "_model_name": "ProgressStyleModel",
            "description_width": "",
            "_view_module": "@jupyter-widgets/base",
            "_model_module_version": "1.5.0",
            "_view_count": null,
            "_view_module_version": "1.2.0",
            "bar_color": null,
            "_model_module": "@jupyter-widgets/controls"
          }
        },
        "8b63bc44516b42738fa01eceb5297974": {
          "model_module": "@jupyter-widgets/base",
          "model_name": "LayoutModel",
          "model_module_version": "1.2.0",
          "state": {
            "_view_name": "LayoutView",
            "grid_template_rows": null,
            "right": null,
            "justify_content": null,
            "_view_module": "@jupyter-widgets/base",
            "overflow": null,
            "_model_module_version": "1.2.0",
            "_view_count": null,
            "flex_flow": null,
            "width": null,
            "min_width": null,
            "border": null,
            "align_items": null,
            "bottom": null,
            "_model_module": "@jupyter-widgets/base",
            "top": null,
            "grid_column": null,
            "overflow_y": null,
            "overflow_x": null,
            "grid_auto_flow": null,
            "grid_area": null,
            "grid_template_columns": null,
            "flex": null,
            "_model_name": "LayoutModel",
            "justify_items": null,
            "grid_row": null,
            "max_height": null,
            "align_content": null,
            "visibility": null,
            "align_self": null,
            "height": null,
            "min_height": null,
            "padding": null,
            "grid_auto_rows": null,
            "grid_gap": null,
            "max_width": null,
            "order": null,
            "_view_module_version": "1.2.0",
            "grid_template_areas": null,
            "object_position": null,
            "object_fit": null,
            "grid_auto_columns": null,
            "margin": null,
            "display": null,
            "left": null
          }
        },
        "11daa7fbfc6041bf8639eabff002ce77": {
          "model_module": "@jupyter-widgets/controls",
          "model_name": "DescriptionStyleModel",
          "model_module_version": "1.5.0",
          "state": {
            "_view_name": "StyleView",
            "_model_name": "DescriptionStyleModel",
            "description_width": "",
            "_view_module": "@jupyter-widgets/base",
            "_model_module_version": "1.5.0",
            "_view_count": null,
            "_view_module_version": "1.2.0",
            "_model_module": "@jupyter-widgets/controls"
          }
        },
        "c7d6a56f3c2d47a79f4e5c737d80decc": {
          "model_module": "@jupyter-widgets/base",
          "model_name": "LayoutModel",
          "model_module_version": "1.2.0",
          "state": {
            "_view_name": "LayoutView",
            "grid_template_rows": null,
            "right": null,
            "justify_content": null,
            "_view_module": "@jupyter-widgets/base",
            "overflow": null,
            "_model_module_version": "1.2.0",
            "_view_count": null,
            "flex_flow": null,
            "width": null,
            "min_width": null,
            "border": null,
            "align_items": null,
            "bottom": null,
            "_model_module": "@jupyter-widgets/base",
            "top": null,
            "grid_column": null,
            "overflow_y": null,
            "overflow_x": null,
            "grid_auto_flow": null,
            "grid_area": null,
            "grid_template_columns": null,
            "flex": null,
            "_model_name": "LayoutModel",
            "justify_items": null,
            "grid_row": null,
            "max_height": null,
            "align_content": null,
            "visibility": null,
            "align_self": null,
            "height": null,
            "min_height": null,
            "padding": null,
            "grid_auto_rows": null,
            "grid_gap": null,
            "max_width": null,
            "order": null,
            "_view_module_version": "1.2.0",
            "grid_template_areas": null,
            "object_position": null,
            "object_fit": null,
            "grid_auto_columns": null,
            "margin": null,
            "display": null,
            "left": null
          }
        },
        "0f1f2903a65d44f59d9e3a35945e5fd2": {
          "model_module": "@jupyter-widgets/controls",
          "model_name": "HBoxModel",
          "model_module_version": "1.5.0",
          "state": {
            "_view_name": "HBoxView",
            "_dom_classes": [],
            "_model_name": "HBoxModel",
            "_view_module": "@jupyter-widgets/controls",
            "_model_module_version": "1.5.0",
            "_view_count": null,
            "_view_module_version": "1.5.0",
            "box_style": "",
            "layout": "IPY_MODEL_db14e747cb1c4fdcbd2965ad93104d77",
            "_model_module": "@jupyter-widgets/controls",
            "children": [
              "IPY_MODEL_918da0b4215a466996ce4c7b64275830",
              "IPY_MODEL_ea388bd5bf3b45ed883baa7d2a618e97",
              "IPY_MODEL_c3e16f7c6d5c40bbbcef74733cc626fa"
            ]
          }
        },
        "db14e747cb1c4fdcbd2965ad93104d77": {
          "model_module": "@jupyter-widgets/base",
          "model_name": "LayoutModel",
          "model_module_version": "1.2.0",
          "state": {
            "_view_name": "LayoutView",
            "grid_template_rows": null,
            "right": null,
            "justify_content": null,
            "_view_module": "@jupyter-widgets/base",
            "overflow": null,
            "_model_module_version": "1.2.0",
            "_view_count": null,
            "flex_flow": null,
            "width": null,
            "min_width": null,
            "border": null,
            "align_items": null,
            "bottom": null,
            "_model_module": "@jupyter-widgets/base",
            "top": null,
            "grid_column": null,
            "overflow_y": null,
            "overflow_x": null,
            "grid_auto_flow": null,
            "grid_area": null,
            "grid_template_columns": null,
            "flex": null,
            "_model_name": "LayoutModel",
            "justify_items": null,
            "grid_row": null,
            "max_height": null,
            "align_content": null,
            "visibility": null,
            "align_self": null,
            "height": null,
            "min_height": null,
            "padding": null,
            "grid_auto_rows": null,
            "grid_gap": null,
            "max_width": null,
            "order": null,
            "_view_module_version": "1.2.0",
            "grid_template_areas": null,
            "object_position": null,
            "object_fit": null,
            "grid_auto_columns": null,
            "margin": null,
            "display": null,
            "left": null
          }
        },
        "918da0b4215a466996ce4c7b64275830": {
          "model_module": "@jupyter-widgets/controls",
          "model_name": "HTMLModel",
          "model_module_version": "1.5.0",
          "state": {
            "_view_name": "HTMLView",
            "style": "IPY_MODEL_31391aadcef24fc59855930487e05e7e",
            "_dom_classes": [],
            "description": "",
            "_model_name": "HTMLModel",
            "placeholder": "​",
            "_view_module": "@jupyter-widgets/controls",
            "_model_module_version": "1.5.0",
            "value": "100%",
            "_view_count": null,
            "_view_module_version": "1.5.0",
            "description_tooltip": null,
            "_model_module": "@jupyter-widgets/controls",
            "layout": "IPY_MODEL_8ee5aee26bbc4a0cb7be4556809f3116"
          }
        },
        "ea388bd5bf3b45ed883baa7d2a618e97": {
          "model_module": "@jupyter-widgets/controls",
          "model_name": "FloatProgressModel",
          "model_module_version": "1.5.0",
          "state": {
            "_view_name": "ProgressView",
            "style": "IPY_MODEL_24345d5750fe47beb169e309e7ae5978",
            "_dom_classes": [],
            "description": "",
            "_model_name": "FloatProgressModel",
            "bar_style": "success",
            "max": 12,
            "_view_module": "@jupyter-widgets/controls",
            "_model_module_version": "1.5.0",
            "value": 12,
            "_view_count": null,
            "_view_module_version": "1.5.0",
            "orientation": "horizontal",
            "min": 0,
            "description_tooltip": null,
            "_model_module": "@jupyter-widgets/controls",
            "layout": "IPY_MODEL_444d5deae5884748bbcb4d3a3de54a5b"
          }
        },
        "c3e16f7c6d5c40bbbcef74733cc626fa": {
          "model_module": "@jupyter-widgets/controls",
          "model_name": "HTMLModel",
          "model_module_version": "1.5.0",
          "state": {
            "_view_name": "HTMLView",
            "style": "IPY_MODEL_139d79833e894c6596fd7a08df62f923",
            "_dom_classes": [],
            "description": "",
            "_model_name": "HTMLModel",
            "placeholder": "​",
            "_view_module": "@jupyter-widgets/controls",
            "_model_module_version": "1.5.0",
            "value": " 12/12 [00:25&lt;00:00,  1.87s/ba]",
            "_view_count": null,
            "_view_module_version": "1.5.0",
            "description_tooltip": null,
            "_model_module": "@jupyter-widgets/controls",
            "layout": "IPY_MODEL_2ad4f60c34e144eb87f24a14c7c970cb"
          }
        },
        "31391aadcef24fc59855930487e05e7e": {
          "model_module": "@jupyter-widgets/controls",
          "model_name": "DescriptionStyleModel",
          "model_module_version": "1.5.0",
          "state": {
            "_view_name": "StyleView",
            "_model_name": "DescriptionStyleModel",
            "description_width": "",
            "_view_module": "@jupyter-widgets/base",
            "_model_module_version": "1.5.0",
            "_view_count": null,
            "_view_module_version": "1.2.0",
            "_model_module": "@jupyter-widgets/controls"
          }
        },
        "8ee5aee26bbc4a0cb7be4556809f3116": {
          "model_module": "@jupyter-widgets/base",
          "model_name": "LayoutModel",
          "model_module_version": "1.2.0",
          "state": {
            "_view_name": "LayoutView",
            "grid_template_rows": null,
            "right": null,
            "justify_content": null,
            "_view_module": "@jupyter-widgets/base",
            "overflow": null,
            "_model_module_version": "1.2.0",
            "_view_count": null,
            "flex_flow": null,
            "width": null,
            "min_width": null,
            "border": null,
            "align_items": null,
            "bottom": null,
            "_model_module": "@jupyter-widgets/base",
            "top": null,
            "grid_column": null,
            "overflow_y": null,
            "overflow_x": null,
            "grid_auto_flow": null,
            "grid_area": null,
            "grid_template_columns": null,
            "flex": null,
            "_model_name": "LayoutModel",
            "justify_items": null,
            "grid_row": null,
            "max_height": null,
            "align_content": null,
            "visibility": null,
            "align_self": null,
            "height": null,
            "min_height": null,
            "padding": null,
            "grid_auto_rows": null,
            "grid_gap": null,
            "max_width": null,
            "order": null,
            "_view_module_version": "1.2.0",
            "grid_template_areas": null,
            "object_position": null,
            "object_fit": null,
            "grid_auto_columns": null,
            "margin": null,
            "display": null,
            "left": null
          }
        },
        "24345d5750fe47beb169e309e7ae5978": {
          "model_module": "@jupyter-widgets/controls",
          "model_name": "ProgressStyleModel",
          "model_module_version": "1.5.0",
          "state": {
            "_view_name": "StyleView",
            "_model_name": "ProgressStyleModel",
            "description_width": "",
            "_view_module": "@jupyter-widgets/base",
            "_model_module_version": "1.5.0",
            "_view_count": null,
            "_view_module_version": "1.2.0",
            "bar_color": null,
            "_model_module": "@jupyter-widgets/controls"
          }
        },
        "444d5deae5884748bbcb4d3a3de54a5b": {
          "model_module": "@jupyter-widgets/base",
          "model_name": "LayoutModel",
          "model_module_version": "1.2.0",
          "state": {
            "_view_name": "LayoutView",
            "grid_template_rows": null,
            "right": null,
            "justify_content": null,
            "_view_module": "@jupyter-widgets/base",
            "overflow": null,
            "_model_module_version": "1.2.0",
            "_view_count": null,
            "flex_flow": null,
            "width": null,
            "min_width": null,
            "border": null,
            "align_items": null,
            "bottom": null,
            "_model_module": "@jupyter-widgets/base",
            "top": null,
            "grid_column": null,
            "overflow_y": null,
            "overflow_x": null,
            "grid_auto_flow": null,
            "grid_area": null,
            "grid_template_columns": null,
            "flex": null,
            "_model_name": "LayoutModel",
            "justify_items": null,
            "grid_row": null,
            "max_height": null,
            "align_content": null,
            "visibility": null,
            "align_self": null,
            "height": null,
            "min_height": null,
            "padding": null,
            "grid_auto_rows": null,
            "grid_gap": null,
            "max_width": null,
            "order": null,
            "_view_module_version": "1.2.0",
            "grid_template_areas": null,
            "object_position": null,
            "object_fit": null,
            "grid_auto_columns": null,
            "margin": null,
            "display": null,
            "left": null
          }
        },
        "139d79833e894c6596fd7a08df62f923": {
          "model_module": "@jupyter-widgets/controls",
          "model_name": "DescriptionStyleModel",
          "model_module_version": "1.5.0",
          "state": {
            "_view_name": "StyleView",
            "_model_name": "DescriptionStyleModel",
            "description_width": "",
            "_view_module": "@jupyter-widgets/base",
            "_model_module_version": "1.5.0",
            "_view_count": null,
            "_view_module_version": "1.2.0",
            "_model_module": "@jupyter-widgets/controls"
          }
        },
        "2ad4f60c34e144eb87f24a14c7c970cb": {
          "model_module": "@jupyter-widgets/base",
          "model_name": "LayoutModel",
          "model_module_version": "1.2.0",
          "state": {
            "_view_name": "LayoutView",
            "grid_template_rows": null,
            "right": null,
            "justify_content": null,
            "_view_module": "@jupyter-widgets/base",
            "overflow": null,
            "_model_module_version": "1.2.0",
            "_view_count": null,
            "flex_flow": null,
            "width": null,
            "min_width": null,
            "border": null,
            "align_items": null,
            "bottom": null,
            "_model_module": "@jupyter-widgets/base",
            "top": null,
            "grid_column": null,
            "overflow_y": null,
            "overflow_x": null,
            "grid_auto_flow": null,
            "grid_area": null,
            "grid_template_columns": null,
            "flex": null,
            "_model_name": "LayoutModel",
            "justify_items": null,
            "grid_row": null,
            "max_height": null,
            "align_content": null,
            "visibility": null,
            "align_self": null,
            "height": null,
            "min_height": null,
            "padding": null,
            "grid_auto_rows": null,
            "grid_gap": null,
            "max_width": null,
            "order": null,
            "_view_module_version": "1.2.0",
            "grid_template_areas": null,
            "object_position": null,
            "object_fit": null,
            "grid_auto_columns": null,
            "margin": null,
            "display": null,
            "left": null
          }
        },
        "1cb275428d01436eaa5042434f669d76": {
          "model_module": "@jupyter-widgets/controls",
          "model_name": "HBoxModel",
          "model_module_version": "1.5.0",
          "state": {
            "_view_name": "HBoxView",
            "_dom_classes": [],
            "_model_name": "HBoxModel",
            "_view_module": "@jupyter-widgets/controls",
            "_model_module_version": "1.5.0",
            "_view_count": null,
            "_view_module_version": "1.5.0",
            "box_style": "",
            "layout": "IPY_MODEL_afd3733fd7f847f1af5fac4f9bda4302",
            "_model_module": "@jupyter-widgets/controls",
            "children": [
              "IPY_MODEL_c7138e2609d5415a8ce574e4201a5dd0",
              "IPY_MODEL_c34f820a7216478fbc810fac6e60e188",
              "IPY_MODEL_862b94110766404281be3c492fd277a7"
            ]
          }
        },
        "afd3733fd7f847f1af5fac4f9bda4302": {
          "model_module": "@jupyter-widgets/base",
          "model_name": "LayoutModel",
          "model_module_version": "1.2.0",
          "state": {
            "_view_name": "LayoutView",
            "grid_template_rows": null,
            "right": null,
            "justify_content": null,
            "_view_module": "@jupyter-widgets/base",
            "overflow": null,
            "_model_module_version": "1.2.0",
            "_view_count": null,
            "flex_flow": null,
            "width": null,
            "min_width": null,
            "border": null,
            "align_items": null,
            "bottom": null,
            "_model_module": "@jupyter-widgets/base",
            "top": null,
            "grid_column": null,
            "overflow_y": null,
            "overflow_x": null,
            "grid_auto_flow": null,
            "grid_area": null,
            "grid_template_columns": null,
            "flex": null,
            "_model_name": "LayoutModel",
            "justify_items": null,
            "grid_row": null,
            "max_height": null,
            "align_content": null,
            "visibility": null,
            "align_self": null,
            "height": null,
            "min_height": null,
            "padding": null,
            "grid_auto_rows": null,
            "grid_gap": null,
            "max_width": null,
            "order": null,
            "_view_module_version": "1.2.0",
            "grid_template_areas": null,
            "object_position": null,
            "object_fit": null,
            "grid_auto_columns": null,
            "margin": null,
            "display": null,
            "left": null
          }
        },
        "c7138e2609d5415a8ce574e4201a5dd0": {
          "model_module": "@jupyter-widgets/controls",
          "model_name": "HTMLModel",
          "model_module_version": "1.5.0",
          "state": {
            "_view_name": "HTMLView",
            "style": "IPY_MODEL_708116a4a8344c52b413faf770c2eefc",
            "_dom_classes": [],
            "description": "",
            "_model_name": "HTMLModel",
            "placeholder": "​",
            "_view_module": "@jupyter-widgets/controls",
            "_model_module_version": "1.5.0",
            "value": "Downloading: 100%",
            "_view_count": null,
            "_view_module_version": "1.5.0",
            "description_tooltip": null,
            "_model_module": "@jupyter-widgets/controls",
            "layout": "IPY_MODEL_799fc61743fd442b90ff99d217976c38"
          }
        },
        "c34f820a7216478fbc810fac6e60e188": {
          "model_module": "@jupyter-widgets/controls",
          "model_name": "FloatProgressModel",
          "model_module_version": "1.5.0",
          "state": {
            "_view_name": "ProgressView",
            "style": "IPY_MODEL_73aaceae2c00408cb7f8968d3cc72413",
            "_dom_classes": [],
            "description": "",
            "_model_name": "FloatProgressModel",
            "bar_style": "success",
            "max": 891691430,
            "_view_module": "@jupyter-widgets/controls",
            "_model_module_version": "1.5.0",
            "value": 891691430,
            "_view_count": null,
            "_view_module_version": "1.5.0",
            "orientation": "horizontal",
            "min": 0,
            "description_tooltip": null,
            "_model_module": "@jupyter-widgets/controls",
            "layout": "IPY_MODEL_8ebf3317d16b4a128005ad8a4348419f"
          }
        },
        "862b94110766404281be3c492fd277a7": {
          "model_module": "@jupyter-widgets/controls",
          "model_name": "HTMLModel",
          "model_module_version": "1.5.0",
          "state": {
            "_view_name": "HTMLView",
            "style": "IPY_MODEL_f30c58cd5af5424dbe431ab783dfb3ee",
            "_dom_classes": [],
            "description": "",
            "_model_name": "HTMLModel",
            "placeholder": "​",
            "_view_module": "@jupyter-widgets/controls",
            "_model_module_version": "1.5.0",
            "value": " 850M/850M [00:18&lt;00:00, 51.7MB/s]",
            "_view_count": null,
            "_view_module_version": "1.5.0",
            "description_tooltip": null,
            "_model_module": "@jupyter-widgets/controls",
            "layout": "IPY_MODEL_827e28f3ec1246d3bfd7221ed5403825"
          }
        },
        "708116a4a8344c52b413faf770c2eefc": {
          "model_module": "@jupyter-widgets/controls",
          "model_name": "DescriptionStyleModel",
          "model_module_version": "1.5.0",
          "state": {
            "_view_name": "StyleView",
            "_model_name": "DescriptionStyleModel",
            "description_width": "",
            "_view_module": "@jupyter-widgets/base",
            "_model_module_version": "1.5.0",
            "_view_count": null,
            "_view_module_version": "1.2.0",
            "_model_module": "@jupyter-widgets/controls"
          }
        },
        "799fc61743fd442b90ff99d217976c38": {
          "model_module": "@jupyter-widgets/base",
          "model_name": "LayoutModel",
          "model_module_version": "1.2.0",
          "state": {
            "_view_name": "LayoutView",
            "grid_template_rows": null,
            "right": null,
            "justify_content": null,
            "_view_module": "@jupyter-widgets/base",
            "overflow": null,
            "_model_module_version": "1.2.0",
            "_view_count": null,
            "flex_flow": null,
            "width": null,
            "min_width": null,
            "border": null,
            "align_items": null,
            "bottom": null,
            "_model_module": "@jupyter-widgets/base",
            "top": null,
            "grid_column": null,
            "overflow_y": null,
            "overflow_x": null,
            "grid_auto_flow": null,
            "grid_area": null,
            "grid_template_columns": null,
            "flex": null,
            "_model_name": "LayoutModel",
            "justify_items": null,
            "grid_row": null,
            "max_height": null,
            "align_content": null,
            "visibility": null,
            "align_self": null,
            "height": null,
            "min_height": null,
            "padding": null,
            "grid_auto_rows": null,
            "grid_gap": null,
            "max_width": null,
            "order": null,
            "_view_module_version": "1.2.0",
            "grid_template_areas": null,
            "object_position": null,
            "object_fit": null,
            "grid_auto_columns": null,
            "margin": null,
            "display": null,
            "left": null
          }
        },
        "73aaceae2c00408cb7f8968d3cc72413": {
          "model_module": "@jupyter-widgets/controls",
          "model_name": "ProgressStyleModel",
          "model_module_version": "1.5.0",
          "state": {
            "_view_name": "StyleView",
            "_model_name": "ProgressStyleModel",
            "description_width": "",
            "_view_module": "@jupyter-widgets/base",
            "_model_module_version": "1.5.0",
            "_view_count": null,
            "_view_module_version": "1.2.0",
            "bar_color": null,
            "_model_module": "@jupyter-widgets/controls"
          }
        },
        "8ebf3317d16b4a128005ad8a4348419f": {
          "model_module": "@jupyter-widgets/base",
          "model_name": "LayoutModel",
          "model_module_version": "1.2.0",
          "state": {
            "_view_name": "LayoutView",
            "grid_template_rows": null,
            "right": null,
            "justify_content": null,
            "_view_module": "@jupyter-widgets/base",
            "overflow": null,
            "_model_module_version": "1.2.0",
            "_view_count": null,
            "flex_flow": null,
            "width": null,
            "min_width": null,
            "border": null,
            "align_items": null,
            "bottom": null,
            "_model_module": "@jupyter-widgets/base",
            "top": null,
            "grid_column": null,
            "overflow_y": null,
            "overflow_x": null,
            "grid_auto_flow": null,
            "grid_area": null,
            "grid_template_columns": null,
            "flex": null,
            "_model_name": "LayoutModel",
            "justify_items": null,
            "grid_row": null,
            "max_height": null,
            "align_content": null,
            "visibility": null,
            "align_self": null,
            "height": null,
            "min_height": null,
            "padding": null,
            "grid_auto_rows": null,
            "grid_gap": null,
            "max_width": null,
            "order": null,
            "_view_module_version": "1.2.0",
            "grid_template_areas": null,
            "object_position": null,
            "object_fit": null,
            "grid_auto_columns": null,
            "margin": null,
            "display": null,
            "left": null
          }
        },
        "f30c58cd5af5424dbe431ab783dfb3ee": {
          "model_module": "@jupyter-widgets/controls",
          "model_name": "DescriptionStyleModel",
          "model_module_version": "1.5.0",
          "state": {
            "_view_name": "StyleView",
            "_model_name": "DescriptionStyleModel",
            "description_width": "",
            "_view_module": "@jupyter-widgets/base",
            "_model_module_version": "1.5.0",
            "_view_count": null,
            "_view_module_version": "1.2.0",
            "_model_module": "@jupyter-widgets/controls"
          }
        },
        "827e28f3ec1246d3bfd7221ed5403825": {
          "model_module": "@jupyter-widgets/base",
          "model_name": "LayoutModel",
          "model_module_version": "1.2.0",
          "state": {
            "_view_name": "LayoutView",
            "grid_template_rows": null,
            "right": null,
            "justify_content": null,
            "_view_module": "@jupyter-widgets/base",
            "overflow": null,
            "_model_module_version": "1.2.0",
            "_view_count": null,
            "flex_flow": null,
            "width": null,
            "min_width": null,
            "border": null,
            "align_items": null,
            "bottom": null,
            "_model_module": "@jupyter-widgets/base",
            "top": null,
            "grid_column": null,
            "overflow_y": null,
            "overflow_x": null,
            "grid_auto_flow": null,
            "grid_area": null,
            "grid_template_columns": null,
            "flex": null,
            "_model_name": "LayoutModel",
            "justify_items": null,
            "grid_row": null,
            "max_height": null,
            "align_content": null,
            "visibility": null,
            "align_self": null,
            "height": null,
            "min_height": null,
            "padding": null,
            "grid_auto_rows": null,
            "grid_gap": null,
            "max_width": null,
            "order": null,
            "_view_module_version": "1.2.0",
            "grid_template_areas": null,
            "object_position": null,
            "object_fit": null,
            "grid_auto_columns": null,
            "margin": null,
            "display": null,
            "left": null
          }
        },
        "6bed8e83a04840beaaac5430cab652b3": {
          "model_module": "@jupyter-widgets/controls",
          "model_name": "HBoxModel",
          "model_module_version": "1.5.0",
          "state": {
            "_view_name": "HBoxView",
            "_dom_classes": [],
            "_model_name": "HBoxModel",
            "_view_module": "@jupyter-widgets/controls",
            "_model_module_version": "1.5.0",
            "_view_count": null,
            "_view_module_version": "1.5.0",
            "box_style": "",
            "layout": "IPY_MODEL_31dc2660fb3f4b0680109b6c018eba3f",
            "_model_module": "@jupyter-widgets/controls",
            "children": [
              "IPY_MODEL_084c29f308b44958b8fd5b0fb3b7c8a2",
              "IPY_MODEL_f249c69a9e8b4f47b0eab584e1a5614a",
              "IPY_MODEL_8b89a496d50e4a68af3782a15414bb3f"
            ]
          }
        },
        "31dc2660fb3f4b0680109b6c018eba3f": {
          "model_module": "@jupyter-widgets/base",
          "model_name": "LayoutModel",
          "model_module_version": "1.2.0",
          "state": {
            "_view_name": "LayoutView",
            "grid_template_rows": null,
            "right": null,
            "justify_content": null,
            "_view_module": "@jupyter-widgets/base",
            "overflow": null,
            "_model_module_version": "1.2.0",
            "_view_count": null,
            "flex_flow": null,
            "width": null,
            "min_width": null,
            "border": null,
            "align_items": null,
            "bottom": null,
            "_model_module": "@jupyter-widgets/base",
            "top": null,
            "grid_column": null,
            "overflow_y": null,
            "overflow_x": null,
            "grid_auto_flow": null,
            "grid_area": null,
            "grid_template_columns": null,
            "flex": null,
            "_model_name": "LayoutModel",
            "justify_items": null,
            "grid_row": null,
            "max_height": null,
            "align_content": null,
            "visibility": null,
            "align_self": null,
            "height": null,
            "min_height": null,
            "padding": null,
            "grid_auto_rows": null,
            "grid_gap": null,
            "max_width": null,
            "order": null,
            "_view_module_version": "1.2.0",
            "grid_template_areas": null,
            "object_position": null,
            "object_fit": null,
            "grid_auto_columns": null,
            "margin": null,
            "display": null,
            "left": null
          }
        },
        "084c29f308b44958b8fd5b0fb3b7c8a2": {
          "model_module": "@jupyter-widgets/controls",
          "model_name": "HTMLModel",
          "model_module_version": "1.5.0",
          "state": {
            "_view_name": "HTMLView",
            "style": "IPY_MODEL_1f61dff338ca4ef7b2eda1c043ac3962",
            "_dom_classes": [],
            "description": "",
            "_model_name": "HTMLModel",
            "placeholder": "​",
            "_view_module": "@jupyter-widgets/controls",
            "_model_module_version": "1.5.0",
            "value": "100%",
            "_view_count": null,
            "_view_module_version": "1.5.0",
            "description_tooltip": null,
            "_model_module": "@jupyter-widgets/controls",
            "layout": "IPY_MODEL_10bc115d32d142eda6dc83076aaf34b2"
          }
        },
        "f249c69a9e8b4f47b0eab584e1a5614a": {
          "model_module": "@jupyter-widgets/controls",
          "model_name": "FloatProgressModel",
          "model_module_version": "1.5.0",
          "state": {
            "_view_name": "ProgressView",
            "style": "IPY_MODEL_3d0f0539a4a5435e9e824649337e509c",
            "_dom_classes": [],
            "description": "",
            "_model_name": "FloatProgressModel",
            "bar_style": "success",
            "max": 5,
            "_view_module": "@jupyter-widgets/controls",
            "_model_module_version": "1.5.0",
            "value": 5,
            "_view_count": null,
            "_view_module_version": "1.5.0",
            "orientation": "horizontal",
            "min": 0,
            "description_tooltip": null,
            "_model_module": "@jupyter-widgets/controls",
            "layout": "IPY_MODEL_70abedc7d0764ce2ae31beca379b30fe"
          }
        },
        "8b89a496d50e4a68af3782a15414bb3f": {
          "model_module": "@jupyter-widgets/controls",
          "model_name": "HTMLModel",
          "model_module_version": "1.5.0",
          "state": {
            "_view_name": "HTMLView",
            "style": "IPY_MODEL_095eadda38874d4cbd73b0a3d9993469",
            "_dom_classes": [],
            "description": "",
            "_model_name": "HTMLModel",
            "placeholder": "​",
            "_view_module": "@jupyter-widgets/controls",
            "_model_module_version": "1.5.0",
            "value": " 5/5 [00:10&lt;00:00,  2.02s/ba]",
            "_view_count": null,
            "_view_module_version": "1.5.0",
            "description_tooltip": null,
            "_model_module": "@jupyter-widgets/controls",
            "layout": "IPY_MODEL_b4b8ce60cdfd4b6798da1add8c7d9c28"
          }
        },
        "1f61dff338ca4ef7b2eda1c043ac3962": {
          "model_module": "@jupyter-widgets/controls",
          "model_name": "DescriptionStyleModel",
          "model_module_version": "1.5.0",
          "state": {
            "_view_name": "StyleView",
            "_model_name": "DescriptionStyleModel",
            "description_width": "",
            "_view_module": "@jupyter-widgets/base",
            "_model_module_version": "1.5.0",
            "_view_count": null,
            "_view_module_version": "1.2.0",
            "_model_module": "@jupyter-widgets/controls"
          }
        },
        "10bc115d32d142eda6dc83076aaf34b2": {
          "model_module": "@jupyter-widgets/base",
          "model_name": "LayoutModel",
          "model_module_version": "1.2.0",
          "state": {
            "_view_name": "LayoutView",
            "grid_template_rows": null,
            "right": null,
            "justify_content": null,
            "_view_module": "@jupyter-widgets/base",
            "overflow": null,
            "_model_module_version": "1.2.0",
            "_view_count": null,
            "flex_flow": null,
            "width": null,
            "min_width": null,
            "border": null,
            "align_items": null,
            "bottom": null,
            "_model_module": "@jupyter-widgets/base",
            "top": null,
            "grid_column": null,
            "overflow_y": null,
            "overflow_x": null,
            "grid_auto_flow": null,
            "grid_area": null,
            "grid_template_columns": null,
            "flex": null,
            "_model_name": "LayoutModel",
            "justify_items": null,
            "grid_row": null,
            "max_height": null,
            "align_content": null,
            "visibility": null,
            "align_self": null,
            "height": null,
            "min_height": null,
            "padding": null,
            "grid_auto_rows": null,
            "grid_gap": null,
            "max_width": null,
            "order": null,
            "_view_module_version": "1.2.0",
            "grid_template_areas": null,
            "object_position": null,
            "object_fit": null,
            "grid_auto_columns": null,
            "margin": null,
            "display": null,
            "left": null
          }
        },
        "3d0f0539a4a5435e9e824649337e509c": {
          "model_module": "@jupyter-widgets/controls",
          "model_name": "ProgressStyleModel",
          "model_module_version": "1.5.0",
          "state": {
            "_view_name": "StyleView",
            "_model_name": "ProgressStyleModel",
            "description_width": "",
            "_view_module": "@jupyter-widgets/base",
            "_model_module_version": "1.5.0",
            "_view_count": null,
            "_view_module_version": "1.2.0",
            "bar_color": null,
            "_model_module": "@jupyter-widgets/controls"
          }
        },
        "70abedc7d0764ce2ae31beca379b30fe": {
          "model_module": "@jupyter-widgets/base",
          "model_name": "LayoutModel",
          "model_module_version": "1.2.0",
          "state": {
            "_view_name": "LayoutView",
            "grid_template_rows": null,
            "right": null,
            "justify_content": null,
            "_view_module": "@jupyter-widgets/base",
            "overflow": null,
            "_model_module_version": "1.2.0",
            "_view_count": null,
            "flex_flow": null,
            "width": null,
            "min_width": null,
            "border": null,
            "align_items": null,
            "bottom": null,
            "_model_module": "@jupyter-widgets/base",
            "top": null,
            "grid_column": null,
            "overflow_y": null,
            "overflow_x": null,
            "grid_auto_flow": null,
            "grid_area": null,
            "grid_template_columns": null,
            "flex": null,
            "_model_name": "LayoutModel",
            "justify_items": null,
            "grid_row": null,
            "max_height": null,
            "align_content": null,
            "visibility": null,
            "align_self": null,
            "height": null,
            "min_height": null,
            "padding": null,
            "grid_auto_rows": null,
            "grid_gap": null,
            "max_width": null,
            "order": null,
            "_view_module_version": "1.2.0",
            "grid_template_areas": null,
            "object_position": null,
            "object_fit": null,
            "grid_auto_columns": null,
            "margin": null,
            "display": null,
            "left": null
          }
        },
        "095eadda38874d4cbd73b0a3d9993469": {
          "model_module": "@jupyter-widgets/controls",
          "model_name": "DescriptionStyleModel",
          "model_module_version": "1.5.0",
          "state": {
            "_view_name": "StyleView",
            "_model_name": "DescriptionStyleModel",
            "description_width": "",
            "_view_module": "@jupyter-widgets/base",
            "_model_module_version": "1.5.0",
            "_view_count": null,
            "_view_module_version": "1.2.0",
            "_model_module": "@jupyter-widgets/controls"
          }
        },
        "b4b8ce60cdfd4b6798da1add8c7d9c28": {
          "model_module": "@jupyter-widgets/base",
          "model_name": "LayoutModel",
          "model_module_version": "1.2.0",
          "state": {
            "_view_name": "LayoutView",
            "grid_template_rows": null,
            "right": null,
            "justify_content": null,
            "_view_module": "@jupyter-widgets/base",
            "overflow": null,
            "_model_module_version": "1.2.0",
            "_view_count": null,
            "flex_flow": null,
            "width": null,
            "min_width": null,
            "border": null,
            "align_items": null,
            "bottom": null,
            "_model_module": "@jupyter-widgets/base",
            "top": null,
            "grid_column": null,
            "overflow_y": null,
            "overflow_x": null,
            "grid_auto_flow": null,
            "grid_area": null,
            "grid_template_columns": null,
            "flex": null,
            "_model_name": "LayoutModel",
            "justify_items": null,
            "grid_row": null,
            "max_height": null,
            "align_content": null,
            "visibility": null,
            "align_self": null,
            "height": null,
            "min_height": null,
            "padding": null,
            "grid_auto_rows": null,
            "grid_gap": null,
            "max_width": null,
            "order": null,
            "_view_module_version": "1.2.0",
            "grid_template_areas": null,
            "object_position": null,
            "object_fit": null,
            "grid_auto_columns": null,
            "margin": null,
            "display": null,
            "left": null
          }
        },
        "47e4aef038614dfd83eb99ef2d5719d1": {
          "model_module": "@jupyter-widgets/controls",
          "model_name": "VBoxModel",
          "model_module_version": "1.5.0",
          "state": {
            "_view_name": "VBoxView",
            "_dom_classes": [],
            "_model_name": "VBoxModel",
            "_view_module": "@jupyter-widgets/controls",
            "_model_module_version": "1.5.0",
            "_view_count": null,
            "_view_module_version": "1.5.0",
            "box_style": "",
            "layout": "IPY_MODEL_fa2e40c2c20a4deeaa3f4b8af10ad97f",
            "_model_module": "@jupyter-widgets/controls",
            "children": [
              "IPY_MODEL_3334e510d47b4fb3b562a956078768ee",
              "IPY_MODEL_b0eecb6c1f5c4bc08b645371dad71992"
            ]
          }
        },
        "fa2e40c2c20a4deeaa3f4b8af10ad97f": {
          "model_module": "@jupyter-widgets/base",
          "model_name": "LayoutModel",
          "model_module_version": "1.2.0",
          "state": {
            "_view_name": "LayoutView",
            "grid_template_rows": null,
            "right": null,
            "justify_content": null,
            "_view_module": "@jupyter-widgets/base",
            "overflow": null,
            "_model_module_version": "1.2.0",
            "_view_count": null,
            "flex_flow": null,
            "width": null,
            "min_width": null,
            "border": null,
            "align_items": null,
            "bottom": null,
            "_model_module": "@jupyter-widgets/base",
            "top": null,
            "grid_column": null,
            "overflow_y": null,
            "overflow_x": null,
            "grid_auto_flow": null,
            "grid_area": null,
            "grid_template_columns": null,
            "flex": null,
            "_model_name": "LayoutModel",
            "justify_items": null,
            "grid_row": null,
            "max_height": null,
            "align_content": null,
            "visibility": null,
            "align_self": null,
            "height": null,
            "min_height": null,
            "padding": null,
            "grid_auto_rows": null,
            "grid_gap": null,
            "max_width": null,
            "order": null,
            "_view_module_version": "1.2.0",
            "grid_template_areas": null,
            "object_position": null,
            "object_fit": null,
            "grid_auto_columns": null,
            "margin": null,
            "display": null,
            "left": null
          }
        },
        "3334e510d47b4fb3b562a956078768ee": {
          "model_module": "@jupyter-widgets/controls",
          "model_name": "LabelModel",
          "model_module_version": "1.5.0",
          "state": {
            "_view_name": "LabelView",
            "style": "IPY_MODEL_389e7c88b2f649c1b04619eed87b131b",
            "_dom_classes": [],
            "description": "",
            "_model_name": "LabelModel",
            "placeholder": "​",
            "_view_module": "@jupyter-widgets/controls",
            "_model_module_version": "1.5.0",
            "value": " 0.30MB of 0.30MB uploaded (0.00MB deduped)\r",
            "_view_count": null,
            "_view_module_version": "1.5.0",
            "description_tooltip": null,
            "_model_module": "@jupyter-widgets/controls",
            "layout": "IPY_MODEL_4ae2a17f3dbe47be86e00864ecba1ac4"
          }
        },
        "b0eecb6c1f5c4bc08b645371dad71992": {
          "model_module": "@jupyter-widgets/controls",
          "model_name": "FloatProgressModel",
          "model_module_version": "1.5.0",
          "state": {
            "_view_name": "ProgressView",
            "style": "IPY_MODEL_2071e9c5251a41f0bb04dbc34dd67ac5",
            "_dom_classes": [],
            "description": "",
            "_model_name": "FloatProgressModel",
            "bar_style": "",
            "max": 1,
            "_view_module": "@jupyter-widgets/controls",
            "_model_module_version": "1.5.0",
            "value": 1,
            "_view_count": null,
            "_view_module_version": "1.5.0",
            "orientation": "horizontal",
            "min": 0,
            "description_tooltip": null,
            "_model_module": "@jupyter-widgets/controls",
            "layout": "IPY_MODEL_ca01ce97a7de4f9f8f7844200ea2d543"
          }
        },
        "389e7c88b2f649c1b04619eed87b131b": {
          "model_module": "@jupyter-widgets/controls",
          "model_name": "DescriptionStyleModel",
          "model_module_version": "1.5.0",
          "state": {
            "_view_name": "StyleView",
            "_model_name": "DescriptionStyleModel",
            "description_width": "",
            "_view_module": "@jupyter-widgets/base",
            "_model_module_version": "1.5.0",
            "_view_count": null,
            "_view_module_version": "1.2.0",
            "_model_module": "@jupyter-widgets/controls"
          }
        },
        "4ae2a17f3dbe47be86e00864ecba1ac4": {
          "model_module": "@jupyter-widgets/base",
          "model_name": "LayoutModel",
          "model_module_version": "1.2.0",
          "state": {
            "_view_name": "LayoutView",
            "grid_template_rows": null,
            "right": null,
            "justify_content": null,
            "_view_module": "@jupyter-widgets/base",
            "overflow": null,
            "_model_module_version": "1.2.0",
            "_view_count": null,
            "flex_flow": null,
            "width": null,
            "min_width": null,
            "border": null,
            "align_items": null,
            "bottom": null,
            "_model_module": "@jupyter-widgets/base",
            "top": null,
            "grid_column": null,
            "overflow_y": null,
            "overflow_x": null,
            "grid_auto_flow": null,
            "grid_area": null,
            "grid_template_columns": null,
            "flex": null,
            "_model_name": "LayoutModel",
            "justify_items": null,
            "grid_row": null,
            "max_height": null,
            "align_content": null,
            "visibility": null,
            "align_self": null,
            "height": null,
            "min_height": null,
            "padding": null,
            "grid_auto_rows": null,
            "grid_gap": null,
            "max_width": null,
            "order": null,
            "_view_module_version": "1.2.0",
            "grid_template_areas": null,
            "object_position": null,
            "object_fit": null,
            "grid_auto_columns": null,
            "margin": null,
            "display": null,
            "left": null
          }
        },
        "2071e9c5251a41f0bb04dbc34dd67ac5": {
          "model_module": "@jupyter-widgets/controls",
          "model_name": "ProgressStyleModel",
          "model_module_version": "1.5.0",
          "state": {
            "_view_name": "StyleView",
            "_model_name": "ProgressStyleModel",
            "description_width": "",
            "_view_module": "@jupyter-widgets/base",
            "_model_module_version": "1.5.0",
            "_view_count": null,
            "_view_module_version": "1.2.0",
            "bar_color": null,
            "_model_module": "@jupyter-widgets/controls"
          }
        },
        "ca01ce97a7de4f9f8f7844200ea2d543": {
          "model_module": "@jupyter-widgets/base",
          "model_name": "LayoutModel",
          "model_module_version": "1.2.0",
          "state": {
            "_view_name": "LayoutView",
            "grid_template_rows": null,
            "right": null,
            "justify_content": null,
            "_view_module": "@jupyter-widgets/base",
            "overflow": null,
            "_model_module_version": "1.2.0",
            "_view_count": null,
            "flex_flow": null,
            "width": null,
            "min_width": null,
            "border": null,
            "align_items": null,
            "bottom": null,
            "_model_module": "@jupyter-widgets/base",
            "top": null,
            "grid_column": null,
            "overflow_y": null,
            "overflow_x": null,
            "grid_auto_flow": null,
            "grid_area": null,
            "grid_template_columns": null,
            "flex": null,
            "_model_name": "LayoutModel",
            "justify_items": null,
            "grid_row": null,
            "max_height": null,
            "align_content": null,
            "visibility": null,
            "align_self": null,
            "height": null,
            "min_height": null,
            "padding": null,
            "grid_auto_rows": null,
            "grid_gap": null,
            "max_width": null,
            "order": null,
            "_view_module_version": "1.2.0",
            "grid_template_areas": null,
            "object_position": null,
            "object_fit": null,
            "grid_auto_columns": null,
            "margin": null,
            "display": null,
            "left": null
          }
        }
      }
    },
    "accelerator": "GPU"
  },
  "cells": [
    {
      "cell_type": "markdown",
      "metadata": {
        "id": "EUGbYz84pdUH"
      },
      "source": [
        "# Fine-tune T5 on CNN/Daily"
      ]
    },
    {
      "cell_type": "markdown",
      "metadata": {
        "id": "n47c6hknp4Tc"
      },
      "source": [
        "## Libraries and environment preparation"
      ]
    },
    {
      "cell_type": "code",
      "metadata": {
        "id": "MOsHUjgdIrIW"
      },
      "source": [
        "#Install essential packages\n",
        "%%capture\n",
        "! pip install datasets transformers rouge-score nltk wandb"
      ],
      "execution_count": null,
      "outputs": []
    },
    {
      "cell_type": "code",
      "metadata": {
        "id": "V2zA-9KI0UHS",
        "colab": {
          "base_uri": "https://localhost:8080/"
        },
        "outputId": "727ebe6a-b62c-4656-a8fc-6ed27e384a4d"
      },
      "source": [
        "#install Git-LFS\n",
        "!apt install git-lfs"
      ],
      "execution_count": null,
      "outputs": [
        {
          "output_type": "stream",
          "name": "stdout",
          "text": [
            "Reading package lists... Done\n",
            "Building dependency tree       \n",
            "Reading state information... Done\n",
            "git-lfs is already the newest version (2.3.4-1).\n",
            "0 upgraded, 0 newly installed, 0 to remove and 37 not upgraded.\n"
          ]
        }
      ]
    },
    {
      "cell_type": "code",
      "metadata": {
        "colab": {
          "base_uri": "https://localhost:8080/"
        },
        "id": "sRR_NvOdahp_",
        "outputId": "9d6d0a4e-e3f7-4f22-9fdc-c35731ecaeba"
      },
      "source": [
        "#Colab Environment Check for GPU and RAM\n",
        "from psutil import virtual_memory\n",
        "ram_gb = virtual_memory().total / 1e9\n",
        "print('Your runtime has {:.1f} gigabytes of available RAM\\n'.format(ram_gb))\n",
        "\n",
        "#GPU check\n",
        "gpu_info = !nvidia-smi\n",
        "gpu_info = '\\n'.join(gpu_info)\n",
        "if gpu_info.find('failed') >= 0:\n",
        "  print('Not connected to a GPU')\n",
        "else:\n",
        "  print(gpu_info)"
      ],
      "execution_count": null,
      "outputs": [
        {
          "output_type": "stream",
          "name": "stdout",
          "text": [
            "Your runtime has 13.6 gigabytes of available RAM\n",
            "\n",
            "Sun Nov 28 00:49:05 2021       \n",
            "+-----------------------------------------------------------------------------+\n",
            "| NVIDIA-SMI 495.44       Driver Version: 460.32.03    CUDA Version: 11.2     |\n",
            "|-------------------------------+----------------------+----------------------+\n",
            "| GPU  Name        Persistence-M| Bus-Id        Disp.A | Volatile Uncorr. ECC |\n",
            "| Fan  Temp  Perf  Pwr:Usage/Cap|         Memory-Usage | GPU-Util  Compute M. |\n",
            "|                               |                      |               MIG M. |\n",
            "|===============================+======================+======================|\n",
            "|   0  Tesla P100-PCIE...  Off  | 00000000:00:04.0 Off |                    0 |\n",
            "| N/A   37C    P0    26W / 250W |      0MiB / 16280MiB |      0%      Default |\n",
            "|                               |                      |                  N/A |\n",
            "+-------------------------------+----------------------+----------------------+\n",
            "                                                                               \n",
            "+-----------------------------------------------------------------------------+\n",
            "| Processes:                                                                  |\n",
            "|  GPU   GI   CI        PID   Type   Process name                  GPU Memory |\n",
            "|        ID   ID                                                   Usage      |\n",
            "|=============================================================================|\n",
            "|  No running processes found                                                 |\n",
            "+-----------------------------------------------------------------------------+\n"
          ]
        }
      ]
    },
    {
      "cell_type": "markdown",
      "metadata": {
        "id": "zd2tIC7g0UHT"
      },
      "source": [
        "Make sure your version of Transformers is at least 4.11.0 since the functionality was introduced in that version:"
      ]
    },
    {
      "cell_type": "code",
      "metadata": {
        "id": "glZC8RTP0UHU",
        "colab": {
          "base_uri": "https://localhost:8080/"
        },
        "outputId": "b3a21a52-5ea4-4ebf-eea1-e8988a09c001"
      },
      "source": [
        "# Make sure your version of Transformers is at least 4.11.0 \n",
        "# to run the following code correctly:\n",
        "import datasets\n",
        "import transformers\n",
        "print(transformers.__version__)"
      ],
      "execution_count": null,
      "outputs": [
        {
          "output_type": "stream",
          "name": "stdout",
          "text": [
            "4.12.5\n"
          ]
        }
      ]
    },
    {
      "cell_type": "code",
      "metadata": {
        "id": "t8-hXSR0i-zy"
      },
      "source": [
        "# Import Wandb \n",
        "import os\n",
        "import wandb\n",
        "API_KEY = '39991c538626bee25c64d4f8a4c3403dd635537c'\n",
        "os.environ[\"WANDB_API_KEY\"] = API_KEY"
      ],
      "execution_count": null,
      "outputs": []
    },
    {
      "cell_type": "markdown",
      "metadata": {
        "id": "whPRbBNbIrIl"
      },
      "source": [
        "## Loading the dataset"
      ]
    },
    {
      "cell_type": "code",
      "metadata": {
        "id": "IreSlFmlIrIm",
        "colab": {
          "base_uri": "https://localhost:8080/",
          "height": 66,
          "referenced_widgets": [
            "4c276393bca249a28e44e06844703b49",
            "dfdebf2eb02b4ee197755e4146e17b34",
            "f5339d296489429a9d6ccd1c98a47eb4",
            "9adf83f11ca341319f798c62b182623e",
            "af847bbf1b274fbd997ecd00ef068fdf",
            "e9f75cb65b1844fbac9ce4e582ee39e1",
            "58619a24e5f74828982421ce769ef192",
            "9f1db1e8894348ba900f1643bfb61596",
            "bc5b9ed7653b41c9b46dd159581b0c7d",
            "064bc11282e646bfaeebd26fabf14eab",
            "a7c0cfcf72484dc89d11361ee9d8ca9a"
          ]
        },
        "outputId": "46db0898-29ad-40e1-ebdd-7b0a2079efe5"
      },
      "source": [
        "# import dataset huggingface\n",
        "raw_datasets = datasets.load_dataset('cnn_dailymail', '3.0.0')"
      ],
      "execution_count": null,
      "outputs": [
        {
          "output_type": "stream",
          "name": "stderr",
          "text": [
            "Reusing dataset cnn_dailymail (/root/.cache/huggingface/datasets/cnn_dailymail/3.0.0/3.0.0/3cb851bf7cf5826e45d49db2863f627cba583cbc32342df7349dfe6c38060234)\n"
          ]
        },
        {
          "output_type": "display_data",
          "data": {
            "application/vnd.jupyter.widget-view+json": {
              "model_id": "4c276393bca249a28e44e06844703b49",
              "version_minor": 0,
              "version_major": 2
            },
            "text/plain": [
              "  0%|          | 0/3 [00:00<?, ?it/s]"
            ]
          },
          "metadata": {}
        }
      ]
    },
    {
      "cell_type": "code",
      "metadata": {
        "id": "GWiVUF0jIrIv",
        "colab": {
          "base_uri": "https://localhost:8080/"
        },
        "outputId": "7c7a9f7d-ffbd-4349-f6e8-c555dc086e4b"
      },
      "source": [
        "raw_datasets"
      ],
      "execution_count": null,
      "outputs": [
        {
          "output_type": "execute_result",
          "data": {
            "text/plain": [
              "DatasetDict({\n",
              "    train: Dataset({\n",
              "        features: ['article', 'highlights', 'id'],\n",
              "        num_rows: 287113\n",
              "    })\n",
              "    validation: Dataset({\n",
              "        features: ['article', 'highlights', 'id'],\n",
              "        num_rows: 13368\n",
              "    })\n",
              "    test: Dataset({\n",
              "        features: ['article', 'highlights', 'id'],\n",
              "        num_rows: 11490\n",
              "    })\n",
              "})"
            ]
          },
          "metadata": {},
          "execution_count": 7
        }
      ]
    },
    {
      "cell_type": "code",
      "metadata": {
        "id": "i3j8APAoIrI3"
      },
      "source": [
        "# Visualize the Data\n",
        "\n",
        "import datasets\n",
        "import random\n",
        "import pandas as pd\n",
        "from IPython.display import display, HTML\n",
        "\n",
        "def show_random_elements(dataset, num_examples=3):\n",
        "    assert num_examples <= len(dataset), \"Can't pick more elements than there are in the dataset.\"\n",
        "    picks = []\n",
        "    for _ in range(num_examples):\n",
        "        pick = random.randint(0, len(dataset)-1)\n",
        "        while pick in picks:\n",
        "            pick = random.randint(0, len(dataset)-1)\n",
        "        picks.append(pick)\n",
        "    \n",
        "    df = pd.DataFrame(dataset[picks])\n",
        "    del df[\"id\"]\n",
        "    for column, typ in dataset.features.items():\n",
        "        if isinstance(typ, datasets.ClassLabel):\n",
        "            df[column] = df[column].transform(lambda i: typ.names[i])\n",
        "    display(HTML(df.to_html()))"
      ],
      "execution_count": null,
      "outputs": []
    },
    {
      "cell_type": "code",
      "metadata": {
        "id": "SZy5tRB_IrI7",
        "colab": {
          "base_uri": "https://localhost:8080/",
          "height": 1000
        },
        "outputId": "2f79bed3-eeda-4d53-a164-efcaff1e9115"
      },
      "source": [
        "show_random_elements(raw_datasets[\"train\"])"
      ],
      "execution_count": null,
      "outputs": [
        {
          "output_type": "display_data",
          "data": {
            "text/html": [
              "<table border=\"1\" class=\"dataframe\">\n",
              "  <thead>\n",
              "    <tr style=\"text-align: right;\">\n",
              "      <th></th>\n",
              "      <th>article</th>\n",
              "      <th>highlights</th>\n",
              "    </tr>\n",
              "  </thead>\n",
              "  <tbody>\n",
              "    <tr>\n",
              "      <th>0</th>\n",
              "      <td>By . Chris Pleasance . PUBLISHED: . 13:41 EST, 2 December 2013 . | . UPDATED: . 15:19 EST, 2 December 2013 . Police Constable Gareth Browning is in critical but stable condition in hospital after allegedly being run over while trying to stop a stolen car . Three people have been arrested after a police officer was allegedly hit by a stolen car leaving him in critical condition. PC Gareth Browning was his by a black Mazda Areosport as he tried to stop the car at around 5.30pm on Saturday. One man, 28, and a 31-year-old woman have been arrested today on suspicion of attempted murder. A third suspect, a 34-year-old woman, has been detained on suspicion of assisting an offender. All three, from Reading, are in custody. PC Browning is in a critical but stable condition in the John Radcliffe Hospital, Oxford. His family, thought to be from Thatcham, Berkshire, are at his bedside. Browning and his colleague were on foot patrol on Lower Early Way in Reading on Saturday when they saw the car, which had been stolen from a house 10 days earlier, speeding around a residential area. They tried to stop it by throwing a stop stick, similar to a stinger, into the road but the car swerved onto the pavement and hit Browning so hard he was thrown into the air. He is believed to have landed on his his head, causing severe injuries. As his colleague ran to help the driver avoided the stinger, escaped, and the vehicle was found abandoned a short time later. Thames Valley Police’s Assistant Chief Constable, John Campbell, said: 'That officer went on duty that afternoon with the sole purpose of protecting the public and he’s ended up in a very seriously ill condition in hospital. 'His family are very shocked by what has gone on and we are offering them all the support we can. According to police a stolen car similar to this one was used to ram PC Browning during the attack . 'His colleagues are also shocked and upset by what has happened. Professionally, they are continuing with the job as we always do when there are tragic consequences. It's had an impact but we carry on as you would expect.' PC Browning works at Loddon Valley Police Station where he has served for 10 years. The 07-registered Mazda was stolen during a burglary in the affluent area of Sonning Common on November 21. Thieves broke into the property and took the keys before making off with the car. Police are still appealing for witnesses anybody with information is asked to call 101 or Crimestoppers anonymously on 0800 555 111.</td>\n",
              "      <td>PC Gareth Browning was hit while on foot patrol last Saturday .\\nHe was trying to stop a stolen black Mazda using a stinger .\\nHowever the car swerved onto the pavement and ran into him .\\nHe is believed to have landed on his head causing severe injuries .\\nThe driver fled and the car was found abandoned later .\\nMan, 28, and woman, 31, arrested on suspicion of attempted murder .\\nWoman, 34, has been arrested on suspicion of assisting an offender .</td>\n",
              "    </tr>\n",
              "    <tr>\n",
              "      <th>1</th>\n",
              "      <td>By . Phil Vinter . PUBLISHED: . 07:45 EST, 30 May 2012 . | . UPDATED: . 14:50 EST, 30 May 2012 . When dieter Melanie Swan-Horton saw her weight plummet from a size 16 to a size ten she was thrilled. She finally had a body to be proud of and put her tiredness and lethargy down to the hours spent in the gym. But her exhaustion and her weight loss were in fact signs of bowel cancer. Dramatic: Melanie Swan-Horton went down six dress sizes but unfortunately it was because she had developed bowel cancer . Unfortunately Mel ignored the symptoms and put them down to the side effects of her diet and exercise regime. Now after surgery and chemotherapy the married mother of two from Norwich, in Norfolk, has been told nothing more can be done to save her life. Because she missed the warning signs for so long the cancer has now spread to her liver and lungs. Brave: Mrs Swan-Horton with her husband Kristian. She says she wants to let make . everyone aware of the symptoms of bowel cancer before she dies . Bowel cancer affects more than 36,500 people in the UK every year. It is the second most common cancer in women -  around 18,400 new cases were diagnosed in the UK in 2009. The biggest single risk factor is age as the chances of having bowel cancer go up after 50. 1 in 10 people are under 50 when they get bowel cancer - Melanie Swan-Horton (featured) is 46. Early bowel cancer may have no symptoms. Initial symptoms can also occur in people with less serious problems such as haemorrhoids.However, the NHS recommends seeing your doctor if you notice the following: . If you are worried about any symptoms you can also call the Bowel Cancer UK Support line on 0800 8403540 . She said: ‘I’m still having treatment, but it’s palliative care now just to keep me going. ‘I’m . mentally and physically exhausted and I’m finding it hard to keep going . at the moment but I don’t want to let this horrible disease win. ‘Before . I die I want every man and woman in Britain to know the signs of bowel . cancer. I thought I was getting really slim and fit but it was the . cancer killing me and other slimmers need to be aware.’ She . is concerned that in the run up to the holiday period women who are . dieting may also miss the tell tale signs and symptoms which are putting . their own lives at risk. The former charity manager said: ‘ I’m not trying to panic people but I genuinely thought I was slimmer, fitter and happier than ever. When I heard them say incurable cancer I was shocked and devastated. ‘I just want people to know the facts so they can get checked out. If I had it may have saved my life.’ Melanie, 46, started slimming to rebuild her confidence after a divorce two years ago. She followed a high protein plan for fast results and soon dropped from a size 16 to a size ten. Melanie met her new husband Kristian, 36, who regularly worked out at the gym and encouraged Melanie to join him. Within three months of working out with weights she had achieved an enviable bikini body. ‘When I looked in the mirror I couldn’t believe it was me. I’d gone from a frumpy middle-aged mother to toned and slim. It was astonishing and I loved buying a bikini for the first time in years.’ ‘My confidence rocketed and I wished I had done it sooner.' Big change: Mrs Swan-horton followed a high protein plan for fast results after meeting her now husband Kristian who regularly worked out . Working out: Training in the gym hid the signs of Mrs Swan-Horton's underlying bowel . cancer. As she thought she was getting healthier the cancer was . spreading . But at the same time she started feeling drained and tired. ‘ It was no surprise really because I was spending up to two hours in the gym so I thought nothing of it. When Melanie noticed blood in the toilet she was alarmed. ‘ I was shocked at first but then I remembered hearing that lifting weights could cause small bleeds so again I put it down to the exercise. ‘All the pieces of the puzzle seemed to fit. Of course if it had come out of the blue and if I hadn’t been dieting and lifting weights I would have gone to the GP immediately.’ But three months later with the bleeding persisting she finally saw her doctor. He referred her to hospital and two weeks later she went back for the results. It was then that she was told she was suffering from bowel cancer. Tying the knot: Melanie Swan-Horton and husband Kristian on their wedding day . Chemotherapy treatment to shrink the tumour to an operable size started immediately. But on the operating table doctors discovered the cancer had now spread to her liver. Despite further chemotherapy, tumours were then found in her lungs. A week after the devastating news Melanie married Kristian last September in Cyprus in front of her twin daughters aged 24. Back home she continued chemotherapy but was recently told it had stopped working. Disguised: Melanie says she doesn't want to scare people but wants them to know the facts about bowel cancer so they can get checked out . Battling: Mrs Swan-Horton has been told there is nothing more that can be done for her but says she doesn't want to give up fighting for more time with her daughters, husband and family and friends . ‘I was told there was nothing more that could be done for me. There was a slight possibility of taking part in clinical trials to keep it at bay for a little longer but I knew it would be draining so my doctors agreed I could go on holiday and think it over. ‘I decided to try but it’s very hard and I feel very poorly now. I’ll do my best to keep going though. ‘I haven’t asked how long I have because I don’t want to give up fighting for more time with my daughters, husband, family and friends. ‘They have all been amazing and I love them all to bits. I don’t think I would have got this far without their support. ‘If bowel cancer is found in time it can be cured so if you read my story and you have any of the symptoms please see your GP.’</td>\n",
              "      <td>Melanie Swan-Horton's dramatic weight loss was due to bowel cancer .\\nShe had started high protein diet to slim down after divorce two years ago .\\nAfter chemo and surgery nothing more can be done for married mum .\\nDying mission is to educate people on how to spot cancer symptoms .</td>\n",
              "    </tr>\n",
              "    <tr>\n",
              "      <th>2</th>\n",
              "      <td>By . Thomas Durante and Associated Press . PUBLISHED: . 16:57 EST, 19 March 2013 . | . UPDATED: . 16:58 EST, 19 March 2013 . Would-be killer: UCF student James Oliver Seevakumaran was planning a campus killing spree before killing himself, cops said . A student at the University of Central Florida student has been hailed a hero for his role in preventing a mass shooting by his roommate, who killed himself instead of putting his plan into action. Arabo 'BK' Babakhani says that he was the man who called 911 to report a gunman in a dorm room after his roommate, James Oliver Seevakumaran had just pulled a fire alarm, and raised a gun to Babakhani's face just after midnight on Monday. At a press conference on Monday evening, UCF Police Chief Richard Beary said that Babakhani's call, combined with the quick response time of UCF officers, 'may have changed [Seevakumaran's] ability to think quickly on his feet.' Pulling the fire alarm was the first step of an elaborate campus massacre plot by Seevakumaran, police have said, but as officers approached, he shot himself in the head in his bedroom. There, cops found Seevakumaran's body, two guns, hundreds of rounds of ammunition and a backpack filled with improvised explosives. Babakhani told the UCF student newspaper Knightly News that he darted into his bedroom and called 911. He told the paper: 'I got away from the door in case he barred into it. I crouched in front of my chair in case he fired into the door. I crouched in front of my chest of [drawers] in case he fired into a wall... I just didnt know where he was gonna fire.' Scroll down for video . Deadly weapon: University of Central Florida Police Chief Richard Beary, right, shows an example of the assault rifle found in the dorm room of James Oliver Seevakumaran . Death on campus: Cops investigating a report of a man with a gun found the body of Seevakumaran after he had shot himself in the head . Shooting: University of Central Florida police block off a street near the Tower 1 dorm after explosive devices were found while investigating a suicide in the dorm . Babakhani also described Seevakumaran as a loner, and said isn't sure he and his roommate ever locked eyes before pointing an assault rifle at him. He told the paper: 'I don’t know if he’s got any family. I've never heard him talk on his cell phone or I don't know if he’s got any family. I don’t know if he’s got any friends cause I've never seen them.' Babakhani added in the interview: 'For Thanksgiving... he didn't invite anyone. He just cooked a whole Thanksgiving meal for himself.' Plotter: Seevakumaran's roommate described the 30-year-old as a loner, who once cooked an entire Thanksgiving meal for himself . As police investigated, they found writings in Seevakumaran's room that detailed a plan of attack. A list found along with his dead body included getting drunk at a bar near campus before pulling the fire alarm. Beary says the final item was 'give them hell.' About 500 students were evacuated from the dorm on the Orlando campus after the fire alarm was pulled at about 12:21am, Beary said. Beary added that Seevakumaran had not . yet paid his school fees for this semester, and a process had begun to . kick him out of the dorm. He . had no prior disciplinary record at UCF, but he was arrested in 2006 . for misuse of a temporary tag and driving with a suspended license. His . writings indicated that he had been planning the attack since February, . and he had bought his weapons in an Orlando-area gunshop, police said. More details emerged Tuesday about Seevakumaran's solitary lifestyle. Seevakumaran's family said he was a loner who didn't have a history of violence in a brief statement released by authorities. Beary told the news conference that he acted alone and didn't have any friends. 'He didn't like to talk to people,' Beary said. UCF spokesman Grant Heston . said the Orange County Sheriff's Office and the FBI are helping with the investigation. Distraught: Evacuated students wait near the residence hall after the student's suicide early Monday morning . Response team: Various police agencies are seen during an investigation of a Seevakumaran's suicide on the University of Central Florida campus . Grisly scene: Arriving officers found a student dead from what appeared to be a self-inflicted gunshot wound inside a residence at the Tower 1 dorm . Investigation: About 500 students were evacuated from the dorm as police examined the explosives found inside . Just after noon on Monday, the explosives were removed from the dorm and classes resumed as scheduled. The school utilized text message alerts to keep students informed about the situation. Scare: Students were evacuated from the tower and moved to an open area about 1,000 feet from the UCF Arena . Antonio Whitehead, 21, a junior from . Hollywood, Florida, said he heard the fire alarm go off after midnight . and thought it was a routine alarm. He headed outside where he saw a crowd already heading across the street from the dorm. 'All . of a sudden, I felt the crowd move a little faster. And a police . officer with a machine gun or something told everyone to start moving a . lot faster,' he said. Whitehead, who has lived in the dorm . for two years, said the students were moved to an open area about 1,000 . feet from UCF Arena. Grant . Hernandez, 20, a sophomore from Orlando who also is a resident at the . dorm, said he woke up sometime after midnight when police were . evacuating the building. 'We weren't allowed to get our cars. We weren't allowed to get our personal effects,' Hernandez said. 'All we saw were people running, and they were not telling us what was going on,' he added. 'We were left unsure of things. It wasn't till about 6 o'clock that we got more information and a clearer picture of what was going on.' He said officers on the scene began providing more information, and students checked updates on the university's website. The area is a very busy section of the campus, with restaurants and shops nearby. A statement on the university's website said the UCF Arena would open to accommodate displaced students. Counselors would be available to talk to students who need assistance. Waiting game: University of Central Florida students wait outside the college sports arena after explosive devices were found in a nearby dorm . Homeless: A statement on the university's website said the UCF Arena would open to accommodate displaced students . Emergency: The Orange County Sheriff's Office and the FBI are helping with the investigation .</td>\n",
              "      <td>Roommate Arabo 'BK' Babakhani says James Seevakumaran was a loner, and didn't know if he had family'\\nSeevakumaran was found dead early on Monday morning with a handgun, assault rifle and bag of explosives .\\nPolice were dispatched to investigate a fire alarm, but received a call while en route from Babakhani about a man with a gun .\\nCops believe Seevakumaran pulled the fire alarm to get his fellow students out in the open for a campus killing spree .</td>\n",
              "    </tr>\n",
              "  </tbody>\n",
              "</table>"
            ],
            "text/plain": [
              "<IPython.core.display.HTML object>"
            ]
          },
          "metadata": {}
        }
      ]
    },
    {
      "cell_type": "markdown",
      "metadata": {
        "id": "n9qywopnIrJH"
      },
      "source": [
        "## Preprocessing the data"
      ]
    },
    {
      "cell_type": "code",
      "metadata": {
        "id": "BV_AALCCkXBl"
      },
      "source": [
        "model_checkpoint = \"t5-base\""
      ],
      "execution_count": null,
      "outputs": []
    },
    {
      "cell_type": "code",
      "metadata": {
        "id": "90DOtlCDk07d"
      },
      "source": [
        "# Import tokenizer from model checkpoint\n",
        "from transformers import AutoTokenizer   \n",
        "tokenizer = AutoTokenizer.from_pretrained(model_checkpoint)"
      ],
      "execution_count": null,
      "outputs": []
    },
    {
      "cell_type": "code",
      "metadata": {
        "id": "hLQtq0Ac0UHc"
      },
      "source": [
        "# If you are using one of the five T5 checkpoints we have to prefix \n",
        "# the inputs with \"summarize:\" (t5 is a multi-task model).\n",
        "\n",
        "if model_checkpoint in [\"t5-small\", \"t5-base\", \"t5-larg\", \"t5-3b\", \"t5-11b\"]:\n",
        "    prefix = \"summarize: \"\n",
        "else:\n",
        "    prefix = \"\""
      ],
      "execution_count": null,
      "outputs": []
    },
    {
      "cell_type": "markdown",
      "metadata": {
        "id": "aN5GySkJuxH0"
      },
      "source": [
        "For Xsum, the input tokens are about 1500 and the length of the summaries are about 160. Here we truncate to 1024 and 128"
      ]
    },
    {
      "cell_type": "code",
      "metadata": {
        "id": "vc0BSBLIIrJQ"
      },
      "source": [
        "# tokenlize inputs into map\n",
        "\n",
        "max_input_length = 512\n",
        "max_target_length = 128\n",
        "\n",
        "def preprocess_function(examples):\n",
        "    inputs = [prefix + doc for doc in examples[\"article\"]]\n",
        "    model_inputs = tokenizer(inputs, max_length=max_input_length, truncation=True)\n",
        "\n",
        "    # Setup the tokenizer for targets\n",
        "    with tokenizer.as_target_tokenizer():\n",
        "        labels = tokenizer(examples[\"highlights\"], max_length=max_target_length, truncation=True)\n",
        "\n",
        "    model_inputs[\"labels\"] = labels[\"input_ids\"]\n",
        "    return model_inputs"
      ],
      "execution_count": null,
      "outputs": []
    },
    {
      "cell_type": "code",
      "metadata": {
        "colab": {
          "base_uri": "https://localhost:8080/",
          "height": 113,
          "referenced_widgets": [
            "a6f3993d574948ca9c279d2e3d4efac0",
            "23c30f0c9ab24e748dff304c3e32f00d",
            "968b6675d46e495ead72d2d7786d235a",
            "08f953cf48ec499f86c40c6c767bed82",
            "de69d30612d74684aaaec8a964e0771d",
            "0dab02ba352445e2aedefe8850802d50",
            "fe7fe4f950554104819cf406be1b9564",
            "a9a750d2ada44cde9160ae0f2d87f0d8",
            "cf9012ddd8ee4042a568c3d558da6e11",
            "7756c0a070cd43a2beea55ca78512436",
            "a248424e62cb4067951359d64ca3e93a",
            "eb16894f687d4c5f8a96fbef0cd14860",
            "da02fdee63004c6e945fb8afc2b3d3d7",
            "7d9fff666efd490381ce4382ad3f37d5",
            "a535718c348549988b451dfe64aed2e5",
            "65cd9c358ae7441cab3045f77f0b9b62",
            "9ac2936bc99e4fbfb349c9883567daa5",
            "10bf290e9b0a4651ac7ef0bf66b27b8d",
            "b8e0656ab1f0497a9efb945112a00dd1",
            "8b63bc44516b42738fa01eceb5297974",
            "11daa7fbfc6041bf8639eabff002ce77",
            "c7d6a56f3c2d47a79f4e5c737d80decc",
            "0f1f2903a65d44f59d9e3a35945e5fd2",
            "db14e747cb1c4fdcbd2965ad93104d77",
            "918da0b4215a466996ce4c7b64275830",
            "ea388bd5bf3b45ed883baa7d2a618e97",
            "c3e16f7c6d5c40bbbcef74733cc626fa",
            "31391aadcef24fc59855930487e05e7e",
            "8ee5aee26bbc4a0cb7be4556809f3116",
            "24345d5750fe47beb169e309e7ae5978",
            "444d5deae5884748bbcb4d3a3de54a5b",
            "139d79833e894c6596fd7a08df62f923",
            "2ad4f60c34e144eb87f24a14c7c970cb"
          ]
        },
        "id": "f5taYLq5gZ7r",
        "outputId": "a56b8605-b0ea-45f2-e27d-37928c42ecf3"
      },
      "source": [
        "tokenized_datasets = raw_datasets.map(preprocess_function, batched=True)"
      ],
      "execution_count": null,
      "outputs": [
        {
          "output_type": "display_data",
          "data": {
            "application/vnd.jupyter.widget-view+json": {
              "model_id": "a6f3993d574948ca9c279d2e3d4efac0",
              "version_minor": 0,
              "version_major": 2
            },
            "text/plain": [
              "  0%|          | 0/288 [00:00<?, ?ba/s]"
            ]
          },
          "metadata": {}
        },
        {
          "output_type": "display_data",
          "data": {
            "application/vnd.jupyter.widget-view+json": {
              "model_id": "eb16894f687d4c5f8a96fbef0cd14860",
              "version_minor": 0,
              "version_major": 2
            },
            "text/plain": [
              "  0%|          | 0/14 [00:00<?, ?ba/s]"
            ]
          },
          "metadata": {}
        },
        {
          "output_type": "display_data",
          "data": {
            "application/vnd.jupyter.widget-view+json": {
              "model_id": "0f1f2903a65d44f59d9e3a35945e5fd2",
              "version_minor": 0,
              "version_major": 2
            },
            "text/plain": [
              "  0%|          | 0/12 [00:00<?, ?ba/s]"
            ]
          },
          "metadata": {}
        }
      ]
    },
    {
      "cell_type": "code",
      "metadata": {
        "colab": {
          "base_uri": "https://localhost:8080/"
        },
        "id": "LyGLN12Ue8Qq",
        "outputId": "3ef60ba6-d17d-4904-80dc-b54cf1838771"
      },
      "source": [
        "tokenized_datasets"
      ],
      "execution_count": null,
      "outputs": [
        {
          "output_type": "execute_result",
          "data": {
            "text/plain": [
              "DatasetDict({\n",
              "    train: Dataset({\n",
              "        features: ['article', 'attention_mask', 'highlights', 'id', 'input_ids', 'labels'],\n",
              "        num_rows: 287113\n",
              "    })\n",
              "    validation: Dataset({\n",
              "        features: ['article', 'attention_mask', 'highlights', 'id', 'input_ids', 'labels'],\n",
              "        num_rows: 13368\n",
              "    })\n",
              "    test: Dataset({\n",
              "        features: ['article', 'attention_mask', 'highlights', 'id', 'input_ids', 'labels'],\n",
              "        num_rows: 11490\n",
              "    })\n",
              "})"
            ]
          },
          "metadata": {},
          "execution_count": 19
        }
      ]
    },
    {
      "cell_type": "markdown",
      "metadata": {
        "id": "545PP3o8IrJV"
      },
      "source": [
        "## Fine-tuning the model"
      ]
    },
    {
      "cell_type": "code",
      "metadata": {
        "colab": {
          "base_uri": "https://localhost:8080/",
          "height": 49,
          "referenced_widgets": [
            "1cb275428d01436eaa5042434f669d76",
            "afd3733fd7f847f1af5fac4f9bda4302",
            "c7138e2609d5415a8ce574e4201a5dd0",
            "c34f820a7216478fbc810fac6e60e188",
            "862b94110766404281be3c492fd277a7",
            "708116a4a8344c52b413faf770c2eefc",
            "799fc61743fd442b90ff99d217976c38",
            "73aaceae2c00408cb7f8968d3cc72413",
            "8ebf3317d16b4a128005ad8a4348419f",
            "f30c58cd5af5424dbe431ab783dfb3ee",
            "827e28f3ec1246d3bfd7221ed5403825"
          ]
        },
        "id": "CMgPYCXKcQig",
        "outputId": "d5ef0e98-11fb-4d88-cb0c-fe32b26412b0"
      },
      "source": [
        "# Import Huggingface Automodel class from model checkpoint\n",
        "\n",
        "from transformers import AutoModelForSeq2SeqLM, DataCollatorForSeq2Seq, Seq2SeqTrainingArguments, Seq2SeqTrainer\n",
        "model = AutoModelForSeq2SeqLM.from_pretrained(model_checkpoint)"
      ],
      "execution_count": null,
      "outputs": [
        {
          "output_type": "display_data",
          "data": {
            "application/vnd.jupyter.widget-view+json": {
              "model_id": "1cb275428d01436eaa5042434f669d76",
              "version_minor": 0,
              "version_major": 2
            },
            "text/plain": [
              "Downloading:   0%|          | 0.00/850M [00:00<?, ?B/s]"
            ]
          },
          "metadata": {}
        }
      ]
    },
    {
      "cell_type": "code",
      "metadata": {
        "id": "ryalV2iH0UHe"
      },
      "source": [
        "# data collator: pad the inputs and labels during each batch to save space\n",
        "data_collator = DataCollatorForSeq2Seq(tokenizer, model=model)"
      ],
      "execution_count": null,
      "outputs": []
    },
    {
      "cell_type": "code",
      "metadata": {
        "colab": {
          "base_uri": "https://localhost:8080/",
          "height": 74
        },
        "id": "s0nC8gqBguRT",
        "outputId": "aab7cbdb-d37a-4e38-d0d6-bc43609850ba"
      },
      "source": [
        "# keep track with wandb\n",
        "wandb.init(project=\"T5-sum\")"
      ],
      "execution_count": null,
      "outputs": [
        {
          "output_type": "stream",
          "name": "stderr",
          "text": [
            "\u001b[34m\u001b[1mwandb\u001b[0m: Currently logged in as: \u001b[33mshusunny\u001b[0m (use `wandb login --relogin` to force relogin)\n"
          ]
        },
        {
          "output_type": "display_data",
          "data": {
            "text/html": [
              "\n",
              "                    Syncing run <strong><a href=\"https://wandb.ai/shusunny/T5-sum/runs/hn9qja0n\" target=\"_blank\">ethereal-night-6</a></strong> to <a href=\"https://wandb.ai/shusunny/T5-sum\" target=\"_blank\">Weights & Biases</a> (<a href=\"https://docs.wandb.com/integrations/jupyter.html\" target=\"_blank\">docs</a>).<br/>\n",
              "\n",
              "                "
            ],
            "text/plain": [
              "<IPython.core.display.HTML object>"
            ]
          },
          "metadata": {}
        },
        {
          "output_type": "execute_result",
          "data": {
            "text/plain": [
              "<wandb.sdk.wandb_run.Run at 0x7f704358b990>"
            ],
            "text/html": [
              "<button onClick=\"this.nextSibling.style.display='block';this.style.display='none';\">Display W&B run</button><iframe src=\"https://wandb.ai/shusunny/T5-sum/runs/hn9qja0n?jupyter=true\" style=\"border:none;width:100%;height:420px;display:none;\"></iframe>"
            ]
          },
          "metadata": {},
          "execution_count": 22
        }
      ]
    },
    {
      "cell_type": "code",
      "metadata": {
        "id": "UmvbnJ9JIrJd",
        "colab": {
          "base_uri": "https://localhost:8080/"
        },
        "outputId": "ca736531-2aae-491f-e716-a7deca4d865a"
      },
      "source": [
        "# Define compute_metrics\n",
        "import nltk\n",
        "import numpy as np\n",
        "nltk.download('punkt')\n",
        "\n",
        "metric = datasets.load_metric(\"rouge\")\n",
        "\n",
        "def compute_metrics(eval_pred):\n",
        "    predictions, labels = eval_pred\n",
        "    decoded_preds = tokenizer.batch_decode(predictions, skip_special_tokens=True)\n",
        "    # Replace -100 in the labels as we can't decode them.\n",
        "    labels = np.where(labels != -100, labels, tokenizer.pad_token_id)\n",
        "    decoded_labels = tokenizer.batch_decode(labels, skip_special_tokens=True)\n",
        "    \n",
        "    # Rouge expects a newline after each sentence\n",
        "    decoded_preds = [\"\\n\".join(nltk.sent_tokenize(pred.strip())) for pred in decoded_preds]\n",
        "    decoded_labels = [\"\\n\".join(nltk.sent_tokenize(label.strip())) for label in decoded_labels]\n",
        "    \n",
        "    result = metric.compute(predictions=decoded_preds, references=decoded_labels, use_stemmer=True)\n",
        "    # Extract a few results\n",
        "    result = {key: value.mid.fmeasure * 100 for key, value in result.items()}\n",
        "    \n",
        "    # Add mean generated length\n",
        "    prediction_lens = [np.count_nonzero(pred != tokenizer.pad_token_id) for pred in predictions]\n",
        "    result[\"gen_len\"] = np.mean(prediction_lens)\n",
        "    \n",
        "    return {k: round(v, 4) for k, v in result.items()}"
      ],
      "execution_count": null,
      "outputs": [
        {
          "output_type": "stream",
          "name": "stdout",
          "text": [
            "[nltk_data] Downloading package punkt to /root/nltk_data...\n",
            "[nltk_data]   Package punkt is already up-to-date!\n"
          ]
        }
      ]
    },
    {
      "cell_type": "code",
      "metadata": {
        "id": "h_Mlb63H0UHe"
      },
      "source": [
        "# Define traing args, batch size and epoch\n",
        "\n",
        "batch_size = 8\n",
        "epochs = 1\n",
        "model_name = model_checkpoint.split(\"/\")[-1]\n",
        "args = Seq2SeqTrainingArguments(\n",
        "    f\"{model_name}-finetuned-cnn\",\n",
        "    evaluation_strategy=\"steps\",\n",
        "    per_device_train_batch_size=batch_size,\n",
        "    per_device_eval_batch_size=batch_size,\n",
        "    logging_steps=1000,  # set to 1000 for full training\n",
        "    save_steps=2000,  # set to 500 for full training\n",
        "    eval_steps=6000,  # set to 8000 for full training\n",
        "    save_total_limit=3,\n",
        "    num_train_epochs=epochs,\n",
        "    predict_with_generate=True,\n",
        "    fp16=True,\n",
        "    report_to=\"wandb\",\n",
        ")"
      ],
      "execution_count": null,
      "outputs": []
    },
    {
      "cell_type": "code",
      "metadata": {
        "id": "imY1oC3SIrJf",
        "colab": {
          "base_uri": "https://localhost:8080/"
        },
        "outputId": "5ce18779-a927-44ec-e2a3-8c509a75d62a"
      },
      "source": [
        "# Pass into the trainer\n",
        "\n",
        "train_dataset=tokenized_datasets[\"train\"]\n",
        "eval_dataset=tokenized_datasets[\"validation\"]\n",
        "\n",
        "trainer = Seq2SeqTrainer(\n",
        "    model,\n",
        "    args,\n",
        "    train_dataset=train_dataset,\n",
        "    eval_dataset=eval_dataset,\n",
        "    data_collator=data_collator,\n",
        "    tokenizer=tokenizer,\n",
        "    compute_metrics=compute_metrics\n",
        ")"
      ],
      "execution_count": null,
      "outputs": [
        {
          "output_type": "stream",
          "name": "stderr",
          "text": [
            "Using amp fp16 backend\n"
          ]
        }
      ]
    },
    {
      "cell_type": "markdown",
      "metadata": {
        "id": "CdzABDVcIrJg"
      },
      "source": [
        "We can now finetune our model by just calling the `train` method:"
      ]
    },
    {
      "cell_type": "code",
      "metadata": {
        "id": "uNx5pyRlIrJh",
        "scrolled": false,
        "colab": {
          "base_uri": "https://localhost:8080/",
          "height": 1000
        },
        "outputId": "5f0e2159-6ae9-4044-bd1c-94f5a2299de6"
      },
      "source": [
        "trainer.train()"
      ],
      "execution_count": null,
      "outputs": [
        {
          "output_type": "stream",
          "name": "stderr",
          "text": [
            "The following columns in the training set  don't have a corresponding argument in `T5ForConditionalGeneration.forward` and have been ignored: highlights, id, article.\n",
            "***** Running training *****\n",
            "  Num examples = 287113\n",
            "  Num Epochs = 1\n",
            "  Instantaneous batch size per device = 8\n",
            "  Total train batch size (w. parallel, distributed & accumulation) = 8\n",
            "  Gradient Accumulation steps = 1\n",
            "  Total optimization steps = 35890\n",
            "Automatic Weights & Biases logging enabled, to disable set os.environ[\"WANDB_DISABLED\"] = \"true\"\n"
          ]
        },
        {
          "output_type": "display_data",
          "data": {
            "text/html": [
              "\n",
              "    <div>\n",
              "      \n",
              "      <progress value='24305' max='35890' style='width:300px; height:20px; vertical-align: middle;'></progress>\n",
              "      [24305/35890 6:19:40 < 3:00:59, 1.07 it/s, Epoch 0.68/1]\n",
              "    </div>\n",
              "    <table border=\"1\" class=\"dataframe\">\n",
              "  <thead>\n",
              "    <tr style=\"text-align: left;\">\n",
              "      <th>Step</th>\n",
              "      <th>Training Loss</th>\n",
              "      <th>Validation Loss</th>\n",
              "      <th>Rouge1</th>\n",
              "      <th>Rouge2</th>\n",
              "      <th>Rougel</th>\n",
              "      <th>Rougelsum</th>\n",
              "      <th>Gen Len</th>\n",
              "    </tr>\n",
              "  </thead>\n",
              "  <tbody>\n",
              "    <tr>\n",
              "      <td>6000</td>\n",
              "      <td>2.205000</td>\n",
              "      <td>1.920674</td>\n",
              "      <td>23.485500</td>\n",
              "      <td>10.086000</td>\n",
              "      <td>19.024200</td>\n",
              "      <td>21.961600</td>\n",
              "      <td>18.996300</td>\n",
              "    </tr>\n",
              "    <tr>\n",
              "      <td>12000</td>\n",
              "      <td>2.218000</td>\n",
              "      <td>1.932958</td>\n",
              "      <td>23.430400</td>\n",
              "      <td>10.068800</td>\n",
              "      <td>18.989800</td>\n",
              "      <td>21.907500</td>\n",
              "      <td>18.995800</td>\n",
              "    </tr>\n",
              "    <tr>\n",
              "      <td>18000</td>\n",
              "      <td>2.215300</td>\n",
              "      <td>1.932958</td>\n",
              "      <td>23.430400</td>\n",
              "      <td>10.068800</td>\n",
              "      <td>18.989800</td>\n",
              "      <td>21.907500</td>\n",
              "      <td>18.995800</td>\n",
              "    </tr>\n",
              "    <tr>\n",
              "      <td>24000</td>\n",
              "      <td>2.214900</td>\n",
              "      <td>1.932958</td>\n",
              "      <td>23.430400</td>\n",
              "      <td>10.068800</td>\n",
              "      <td>18.989800</td>\n",
              "      <td>21.907500</td>\n",
              "      <td>18.995800</td>\n",
              "    </tr>\n",
              "  </tbody>\n",
              "</table><p>"
            ],
            "text/plain": [
              "<IPython.core.display.HTML object>"
            ]
          },
          "metadata": {}
        },
        {
          "output_type": "stream",
          "name": "stderr",
          "text": [
            "Saving model checkpoint to t5-base-finetuned-cnn/checkpoint-2000\n",
            "Configuration saved in t5-base-finetuned-cnn/checkpoint-2000/config.json\n",
            "Model weights saved in t5-base-finetuned-cnn/checkpoint-2000/pytorch_model.bin\n",
            "tokenizer config file saved in t5-base-finetuned-cnn/checkpoint-2000/tokenizer_config.json\n",
            "Special tokens file saved in t5-base-finetuned-cnn/checkpoint-2000/special_tokens_map.json\n",
            "Saving model checkpoint to t5-base-finetuned-cnn/checkpoint-4000\n",
            "Configuration saved in t5-base-finetuned-cnn/checkpoint-4000/config.json\n",
            "Model weights saved in t5-base-finetuned-cnn/checkpoint-4000/pytorch_model.bin\n",
            "tokenizer config file saved in t5-base-finetuned-cnn/checkpoint-4000/tokenizer_config.json\n",
            "Special tokens file saved in t5-base-finetuned-cnn/checkpoint-4000/special_tokens_map.json\n",
            "The following columns in the evaluation set  don't have a corresponding argument in `T5ForConditionalGeneration.forward` and have been ignored: highlights, id, article.\n",
            "***** Running Evaluation *****\n",
            "  Num examples = 13368\n",
            "  Batch size = 8\n",
            "Saving model checkpoint to t5-base-finetuned-cnn/checkpoint-6000\n",
            "Configuration saved in t5-base-finetuned-cnn/checkpoint-6000/config.json\n",
            "Model weights saved in t5-base-finetuned-cnn/checkpoint-6000/pytorch_model.bin\n",
            "tokenizer config file saved in t5-base-finetuned-cnn/checkpoint-6000/tokenizer_config.json\n",
            "Special tokens file saved in t5-base-finetuned-cnn/checkpoint-6000/special_tokens_map.json\n",
            "Saving model checkpoint to t5-base-finetuned-cnn/checkpoint-8000\n",
            "Configuration saved in t5-base-finetuned-cnn/checkpoint-8000/config.json\n",
            "Model weights saved in t5-base-finetuned-cnn/checkpoint-8000/pytorch_model.bin\n",
            "tokenizer config file saved in t5-base-finetuned-cnn/checkpoint-8000/tokenizer_config.json\n",
            "Special tokens file saved in t5-base-finetuned-cnn/checkpoint-8000/special_tokens_map.json\n",
            "Deleting older checkpoint [t5-base-finetuned-cnn/checkpoint-2000] due to args.save_total_limit\n",
            "Saving model checkpoint to t5-base-finetuned-cnn/checkpoint-10000\n",
            "Configuration saved in t5-base-finetuned-cnn/checkpoint-10000/config.json\n",
            "Model weights saved in t5-base-finetuned-cnn/checkpoint-10000/pytorch_model.bin\n",
            "tokenizer config file saved in t5-base-finetuned-cnn/checkpoint-10000/tokenizer_config.json\n",
            "Special tokens file saved in t5-base-finetuned-cnn/checkpoint-10000/special_tokens_map.json\n",
            "Deleting older checkpoint [t5-base-finetuned-cnn/checkpoint-4000] due to args.save_total_limit\n",
            "The following columns in the evaluation set  don't have a corresponding argument in `T5ForConditionalGeneration.forward` and have been ignored: highlights, id, article.\n",
            "***** Running Evaluation *****\n",
            "  Num examples = 13368\n",
            "  Batch size = 8\n",
            "Saving model checkpoint to t5-base-finetuned-cnn/checkpoint-12000\n",
            "Configuration saved in t5-base-finetuned-cnn/checkpoint-12000/config.json\n",
            "Model weights saved in t5-base-finetuned-cnn/checkpoint-12000/pytorch_model.bin\n",
            "tokenizer config file saved in t5-base-finetuned-cnn/checkpoint-12000/tokenizer_config.json\n",
            "Special tokens file saved in t5-base-finetuned-cnn/checkpoint-12000/special_tokens_map.json\n",
            "Deleting older checkpoint [t5-base-finetuned-cnn/checkpoint-6000] due to args.save_total_limit\n",
            "Saving model checkpoint to t5-base-finetuned-cnn/checkpoint-14000\n",
            "Configuration saved in t5-base-finetuned-cnn/checkpoint-14000/config.json\n",
            "Model weights saved in t5-base-finetuned-cnn/checkpoint-14000/pytorch_model.bin\n",
            "tokenizer config file saved in t5-base-finetuned-cnn/checkpoint-14000/tokenizer_config.json\n",
            "Special tokens file saved in t5-base-finetuned-cnn/checkpoint-14000/special_tokens_map.json\n",
            "Deleting older checkpoint [t5-base-finetuned-cnn/checkpoint-8000] due to args.save_total_limit\n",
            "Saving model checkpoint to t5-base-finetuned-cnn/checkpoint-16000\n",
            "Configuration saved in t5-base-finetuned-cnn/checkpoint-16000/config.json\n",
            "Model weights saved in t5-base-finetuned-cnn/checkpoint-16000/pytorch_model.bin\n",
            "tokenizer config file saved in t5-base-finetuned-cnn/checkpoint-16000/tokenizer_config.json\n",
            "Special tokens file saved in t5-base-finetuned-cnn/checkpoint-16000/special_tokens_map.json\n",
            "Deleting older checkpoint [t5-base-finetuned-cnn/checkpoint-10000] due to args.save_total_limit\n",
            "The following columns in the evaluation set  don't have a corresponding argument in `T5ForConditionalGeneration.forward` and have been ignored: highlights, id, article.\n",
            "***** Running Evaluation *****\n",
            "  Num examples = 13368\n",
            "  Batch size = 8\n",
            "Saving model checkpoint to t5-base-finetuned-cnn/checkpoint-18000\n",
            "Configuration saved in t5-base-finetuned-cnn/checkpoint-18000/config.json\n",
            "Model weights saved in t5-base-finetuned-cnn/checkpoint-18000/pytorch_model.bin\n",
            "tokenizer config file saved in t5-base-finetuned-cnn/checkpoint-18000/tokenizer_config.json\n",
            "Special tokens file saved in t5-base-finetuned-cnn/checkpoint-18000/special_tokens_map.json\n",
            "Deleting older checkpoint [t5-base-finetuned-cnn/checkpoint-12000] due to args.save_total_limit\n",
            "Saving model checkpoint to t5-base-finetuned-cnn/checkpoint-20000\n",
            "Configuration saved in t5-base-finetuned-cnn/checkpoint-20000/config.json\n",
            "Model weights saved in t5-base-finetuned-cnn/checkpoint-20000/pytorch_model.bin\n",
            "tokenizer config file saved in t5-base-finetuned-cnn/checkpoint-20000/tokenizer_config.json\n",
            "Special tokens file saved in t5-base-finetuned-cnn/checkpoint-20000/special_tokens_map.json\n",
            "Deleting older checkpoint [t5-base-finetuned-cnn/checkpoint-14000] due to args.save_total_limit\n",
            "Saving model checkpoint to t5-base-finetuned-cnn/checkpoint-22000\n",
            "Configuration saved in t5-base-finetuned-cnn/checkpoint-22000/config.json\n",
            "Model weights saved in t5-base-finetuned-cnn/checkpoint-22000/pytorch_model.bin\n",
            "tokenizer config file saved in t5-base-finetuned-cnn/checkpoint-22000/tokenizer_config.json\n",
            "Special tokens file saved in t5-base-finetuned-cnn/checkpoint-22000/special_tokens_map.json\n",
            "Deleting older checkpoint [t5-base-finetuned-cnn/checkpoint-16000] due to args.save_total_limit\n",
            "The following columns in the evaluation set  don't have a corresponding argument in `T5ForConditionalGeneration.forward` and have been ignored: highlights, id, article.\n",
            "***** Running Evaluation *****\n",
            "  Num examples = 13368\n",
            "  Batch size = 8\n",
            "Saving model checkpoint to t5-base-finetuned-cnn/checkpoint-24000\n",
            "Configuration saved in t5-base-finetuned-cnn/checkpoint-24000/config.json\n",
            "Model weights saved in t5-base-finetuned-cnn/checkpoint-24000/pytorch_model.bin\n",
            "tokenizer config file saved in t5-base-finetuned-cnn/checkpoint-24000/tokenizer_config.json\n",
            "Special tokens file saved in t5-base-finetuned-cnn/checkpoint-24000/special_tokens_map.json\n",
            "Deleting older checkpoint [t5-base-finetuned-cnn/checkpoint-18000] due to args.save_total_limit\n"
          ]
        }
      ]
    },
    {
      "cell_type": "markdown",
      "metadata": {
        "id": "PxvVrBGpJnqp"
      },
      "source": [
        "## Trying with a smaller dataset"
      ]
    },
    {
      "cell_type": "code",
      "metadata": {
        "colab": {
          "base_uri": "https://localhost:8080/",
          "height": 74
        },
        "id": "-CE3xNuDXwLS",
        "outputId": "b06bc2ef-3113-4f4a-92d1-87d0122154f4"
      },
      "source": [
        "# Init new logging params\n",
        "wandb.init(project=\"T5-sum\")"
      ],
      "execution_count": null,
      "outputs": [
        {
          "output_type": "stream",
          "name": "stderr",
          "text": [
            "\u001b[34m\u001b[1mwandb\u001b[0m: Currently logged in as: \u001b[33mshusunny\u001b[0m (use `wandb login --relogin` to force relogin)\n"
          ]
        },
        {
          "output_type": "display_data",
          "data": {
            "text/html": [
              "\n",
              "                    Syncing run <strong><a href=\"https://wandb.ai/shusunny/T5-sum/runs/1cye84up\" target=\"_blank\">frosty-brook-8</a></strong> to <a href=\"https://wandb.ai/shusunny/T5-sum\" target=\"_blank\">Weights & Biases</a> (<a href=\"https://docs.wandb.com/integrations/jupyter.html\" target=\"_blank\">docs</a>).<br/>\n",
              "\n",
              "                "
            ],
            "text/plain": [
              "<IPython.core.display.HTML object>"
            ]
          },
          "metadata": {}
        },
        {
          "output_type": "execute_result",
          "data": {
            "text/plain": [
              "<wandb.sdk.wandb_run.Run at 0x7f5c6e12b5d0>"
            ],
            "text/html": [
              "<button onClick=\"this.nextSibling.style.display='block';this.style.display='none';\">Display W&B run</button><iframe src=\"https://wandb.ai/shusunny/T5-sum/runs/1cye84up?jupyter=true\" style=\"border:none;width:100%;height:420px;display:none;\"></iframe>"
            ]
          },
          "metadata": {},
          "execution_count": 14
        }
      ]
    },
    {
      "cell_type": "code",
      "metadata": {
        "colab": {
          "base_uri": "https://localhost:8080/"
        },
        "id": "qJxUPIi-BMrw",
        "outputId": "9592c03e-b441-4d1a-ae49-c0b76fd781eb"
      },
      "source": [
        "# Select to get smaller dataset\n",
        "small_train = raw_datasets['train'].select(list(range(0, 5000)))\n",
        "small_val = raw_datasets['validation'].select(list(range(0, 500)))\n",
        "small_train"
      ],
      "execution_count": null,
      "outputs": [
        {
          "output_type": "execute_result",
          "data": {
            "text/plain": [
              "Dataset({\n",
              "    features: ['article', 'highlights', 'id'],\n",
              "    num_rows: 5000\n",
              "})"
            ]
          },
          "metadata": {},
          "execution_count": 15
        }
      ]
    },
    {
      "cell_type": "code",
      "metadata": {
        "id": "-b70jh26IrJS",
        "colab": {
          "base_uri": "https://localhost:8080/",
          "height": 156,
          "referenced_widgets": [
            "6bed8e83a04840beaaac5430cab652b3",
            "31dc2660fb3f4b0680109b6c018eba3f",
            "084c29f308b44958b8fd5b0fb3b7c8a2",
            "f249c69a9e8b4f47b0eab584e1a5614a",
            "8b89a496d50e4a68af3782a15414bb3f",
            "1f61dff338ca4ef7b2eda1c043ac3962",
            "10bc115d32d142eda6dc83076aaf34b2",
            "3d0f0539a4a5435e9e824649337e509c",
            "70abedc7d0764ce2ae31beca379b30fe",
            "095eadda38874d4cbd73b0a3d9993469",
            "b4b8ce60cdfd4b6798da1add8c7d9c28"
          ]
        },
        "outputId": "1b98ce58-6a42-4022-e236-8181c76eee79"
      },
      "source": [
        "# Processing\n",
        "tokenized_train = small_train.map(preprocess_function, batched=True)\n",
        "tokenized_val = small_val.map(preprocess_function, batched=True)\n",
        "tokenized_train"
      ],
      "execution_count": null,
      "outputs": [
        {
          "output_type": "display_data",
          "data": {
            "application/vnd.jupyter.widget-view+json": {
              "model_id": "6bed8e83a04840beaaac5430cab652b3",
              "version_minor": 0,
              "version_major": 2
            },
            "text/plain": [
              "  0%|          | 0/5 [00:00<?, ?ba/s]"
            ]
          },
          "metadata": {}
        },
        {
          "output_type": "stream",
          "name": "stderr",
          "text": [
            "Loading cached processed dataset at /root/.cache/huggingface/datasets/cnn_dailymail/3.0.0/3.0.0/3cb851bf7cf5826e45d49db2863f627cba583cbc32342df7349dfe6c38060234/cache-34bfa482b3a753b2.arrow\n"
          ]
        },
        {
          "output_type": "execute_result",
          "data": {
            "text/plain": [
              "Dataset({\n",
              "    features: ['article', 'attention_mask', 'highlights', 'id', 'input_ids', 'labels'],\n",
              "    num_rows: 5000\n",
              "})"
            ]
          },
          "metadata": {},
          "execution_count": 16
        }
      ]
    },
    {
      "cell_type": "code",
      "metadata": {
        "id": "qHZMegn8XplB"
      },
      "source": [
        "# Import a new T5\n",
        "from transformers import AutoModelForSeq2SeqLM, DataCollatorForSeq2Seq, Seq2SeqTrainingArguments, Seq2SeqTrainer\n",
        "model_small = AutoModelForSeq2SeqLM.from_pretrained(model_checkpoint)"
      ],
      "execution_count": null,
      "outputs": []
    },
    {
      "cell_type": "code",
      "metadata": {
        "id": "vITEQRlxX_QJ"
      },
      "source": [
        "# data collator: pad the inputs and labels during each batch to save space\n",
        "data_collator = DataCollatorForSeq2Seq(tokenizer, model=model_small)"
      ],
      "execution_count": null,
      "outputs": []
    },
    {
      "cell_type": "code",
      "metadata": {
        "id": "HExsNjvpPI7Q"
      },
      "source": [
        "# Define traing args, batch size and epoch\n",
        "# batch size depends on the memory of GPU\n",
        "\n",
        "batch_size = 8\n",
        "epochs = 20\n",
        "model_name = model_checkpoint.split(\"/\")[-1]\n",
        "args_small = Seq2SeqTrainingArguments(\n",
        "    f\"{model_name}-finetuned-cnn-small\",\n",
        "    evaluation_strategy = \"epoch\",\n",
        "    learning_rate=2e-5,\n",
        "    weight_decay=0.01,\n",
        "    save_strategy = \"epoch\",\n",
        "    save_total_limit=3,\n",
        "    num_train_epochs=epochs,\n",
        "    predict_with_generate=True,\n",
        "    fp16=True,\n",
        "    report_to=\"wandb\",\n",
        ")"
      ],
      "execution_count": null,
      "outputs": []
    },
    {
      "cell_type": "code",
      "metadata": {
        "colab": {
          "base_uri": "https://localhost:8080/"
        },
        "id": "vGCZwbldPN9A",
        "outputId": "fa067f9a-94cf-4538-fcca-d0d1eeee444c"
      },
      "source": [
        "# Pass into the trainer\n",
        "\n",
        "train_dataset=tokenized_train\n",
        "eval_dataset=tokenized_val\n",
        "\n",
        "trainer_small = Seq2SeqTrainer(\n",
        "    model_small,\n",
        "    args_small,\n",
        "    train_dataset=train_dataset,\n",
        "    eval_dataset=eval_dataset,\n",
        "    data_collator=data_collator,\n",
        "    tokenizer=tokenizer,\n",
        "    compute_metrics=compute_metrics\n",
        ")"
      ],
      "execution_count": null,
      "outputs": [
        {
          "output_type": "stream",
          "name": "stderr",
          "text": [
            "Using amp fp16 backend\n"
          ]
        }
      ]
    },
    {
      "cell_type": "code",
      "metadata": {
        "colab": {
          "base_uri": "https://localhost:8080/",
          "height": 1000
        },
        "id": "EQ2sYxSIPRg0",
        "outputId": "08062632-2a5f-46a0-ec87-01818c601cf7"
      },
      "source": [
        "trainer_small.train()"
      ],
      "execution_count": null,
      "outputs": [
        {
          "output_type": "stream",
          "name": "stderr",
          "text": [
            "The following columns in the training set  don't have a corresponding argument in `T5ForConditionalGeneration.forward` and have been ignored: article, id, highlights.\n",
            "***** Running training *****\n",
            "  Num examples = 5000\n",
            "  Num Epochs = 20\n",
            "  Instantaneous batch size per device = 8\n",
            "  Total train batch size (w. parallel, distributed & accumulation) = 8\n",
            "  Gradient Accumulation steps = 1\n",
            "  Total optimization steps = 12500\n",
            "Automatic Weights & Biases logging enabled, to disable set os.environ[\"WANDB_DISABLED\"] = \"true\"\n"
          ]
        },
        {
          "output_type": "display_data",
          "data": {
            "text/html": [
              "\n",
              "    <div>\n",
              "      \n",
              "      <progress value='12500' max='12500' style='width:300px; height:20px; vertical-align: middle;'></progress>\n",
              "      [12500/12500 2:48:23, Epoch 20/20]\n",
              "    </div>\n",
              "    <table border=\"1\" class=\"dataframe\">\n",
              "  <thead>\n",
              "    <tr style=\"text-align: left;\">\n",
              "      <th>Epoch</th>\n",
              "      <th>Training Loss</th>\n",
              "      <th>Validation Loss</th>\n",
              "      <th>Rouge1</th>\n",
              "      <th>Rouge2</th>\n",
              "      <th>Rougel</th>\n",
              "      <th>Rougelsum</th>\n",
              "      <th>Gen Len</th>\n",
              "    </tr>\n",
              "  </thead>\n",
              "  <tbody>\n",
              "    <tr>\n",
              "      <td>1</td>\n",
              "      <td>1.719400</td>\n",
              "      <td>1.799034</td>\n",
              "      <td>26.221000</td>\n",
              "      <td>11.039200</td>\n",
              "      <td>21.507700</td>\n",
              "      <td>24.000100</td>\n",
              "      <td>18.986000</td>\n",
              "    </tr>\n",
              "    <tr>\n",
              "      <td>2</td>\n",
              "      <td>1.647300</td>\n",
              "      <td>1.794493</td>\n",
              "      <td>26.413400</td>\n",
              "      <td>11.029400</td>\n",
              "      <td>21.615500</td>\n",
              "      <td>24.105100</td>\n",
              "      <td>18.988000</td>\n",
              "    </tr>\n",
              "    <tr>\n",
              "      <td>3</td>\n",
              "      <td>1.602500</td>\n",
              "      <td>1.799427</td>\n",
              "      <td>26.467200</td>\n",
              "      <td>11.122700</td>\n",
              "      <td>21.629000</td>\n",
              "      <td>24.071200</td>\n",
              "      <td>18.994000</td>\n",
              "    </tr>\n",
              "    <tr>\n",
              "      <td>4</td>\n",
              "      <td>1.549000</td>\n",
              "      <td>1.801260</td>\n",
              "      <td>26.591000</td>\n",
              "      <td>11.122500</td>\n",
              "      <td>21.752300</td>\n",
              "      <td>24.229500</td>\n",
              "      <td>18.984000</td>\n",
              "    </tr>\n",
              "    <tr>\n",
              "      <td>5</td>\n",
              "      <td>1.520500</td>\n",
              "      <td>1.788304</td>\n",
              "      <td>26.352800</td>\n",
              "      <td>10.993200</td>\n",
              "      <td>21.671400</td>\n",
              "      <td>24.111500</td>\n",
              "      <td>18.996000</td>\n",
              "    </tr>\n",
              "    <tr>\n",
              "      <td>6</td>\n",
              "      <td>1.558500</td>\n",
              "      <td>1.930049</td>\n",
              "      <td>24.152100</td>\n",
              "      <td>9.669600</td>\n",
              "      <td>19.883900</td>\n",
              "      <td>22.165700</td>\n",
              "      <td>19.000000</td>\n",
              "    </tr>\n",
              "    <tr>\n",
              "      <td>7</td>\n",
              "      <td>1.777000</td>\n",
              "      <td>2.099338</td>\n",
              "      <td>24.282100</td>\n",
              "      <td>9.340900</td>\n",
              "      <td>19.431300</td>\n",
              "      <td>21.940700</td>\n",
              "      <td>19.000000</td>\n",
              "    </tr>\n",
              "    <tr>\n",
              "      <td>8</td>\n",
              "      <td>1.983000</td>\n",
              "      <td>2.083384</td>\n",
              "      <td>24.176300</td>\n",
              "      <td>9.321700</td>\n",
              "      <td>19.468000</td>\n",
              "      <td>21.920200</td>\n",
              "      <td>19.000000</td>\n",
              "    </tr>\n",
              "    <tr>\n",
              "      <td>9</td>\n",
              "      <td>1.956100</td>\n",
              "      <td>2.085913</td>\n",
              "      <td>24.388800</td>\n",
              "      <td>9.448400</td>\n",
              "      <td>19.601700</td>\n",
              "      <td>22.059300</td>\n",
              "      <td>19.000000</td>\n",
              "    </tr>\n",
              "    <tr>\n",
              "      <td>10</td>\n",
              "      <td>1.951800</td>\n",
              "      <td>2.087633</td>\n",
              "      <td>24.332800</td>\n",
              "      <td>9.384800</td>\n",
              "      <td>19.504300</td>\n",
              "      <td>22.047000</td>\n",
              "      <td>19.000000</td>\n",
              "    </tr>\n",
              "    <tr>\n",
              "      <td>11</td>\n",
              "      <td>1.942300</td>\n",
              "      <td>2.088274</td>\n",
              "      <td>24.328800</td>\n",
              "      <td>9.416000</td>\n",
              "      <td>19.529800</td>\n",
              "      <td>22.066300</td>\n",
              "      <td>19.000000</td>\n",
              "    </tr>\n",
              "    <tr>\n",
              "      <td>12</td>\n",
              "      <td>1.941400</td>\n",
              "      <td>2.088180</td>\n",
              "      <td>24.328800</td>\n",
              "      <td>9.416000</td>\n",
              "      <td>19.529800</td>\n",
              "      <td>22.066300</td>\n",
              "      <td>19.000000</td>\n",
              "    </tr>\n",
              "    <tr>\n",
              "      <td>13</td>\n",
              "      <td>1.949700</td>\n",
              "      <td>2.088094</td>\n",
              "      <td>24.330300</td>\n",
              "      <td>9.416000</td>\n",
              "      <td>19.530300</td>\n",
              "      <td>22.067800</td>\n",
              "      <td>19.000000</td>\n",
              "    </tr>\n",
              "    <tr>\n",
              "      <td>14</td>\n",
              "      <td>1.936700</td>\n",
              "      <td>2.088052</td>\n",
              "      <td>24.330300</td>\n",
              "      <td>9.416000</td>\n",
              "      <td>19.530300</td>\n",
              "      <td>22.067800</td>\n",
              "      <td>19.000000</td>\n",
              "    </tr>\n",
              "    <tr>\n",
              "      <td>15</td>\n",
              "      <td>1.947500</td>\n",
              "      <td>2.088022</td>\n",
              "      <td>24.330300</td>\n",
              "      <td>9.416000</td>\n",
              "      <td>19.530300</td>\n",
              "      <td>22.067800</td>\n",
              "      <td>19.000000</td>\n",
              "    </tr>\n",
              "    <tr>\n",
              "      <td>16</td>\n",
              "      <td>1.943900</td>\n",
              "      <td>2.087956</td>\n",
              "      <td>24.327900</td>\n",
              "      <td>9.411700</td>\n",
              "      <td>19.524000</td>\n",
              "      <td>22.059300</td>\n",
              "      <td>19.000000</td>\n",
              "    </tr>\n",
              "    <tr>\n",
              "      <td>17</td>\n",
              "      <td>1.936200</td>\n",
              "      <td>2.087896</td>\n",
              "      <td>24.327900</td>\n",
              "      <td>9.402600</td>\n",
              "      <td>19.510100</td>\n",
              "      <td>22.048600</td>\n",
              "      <td>19.000000</td>\n",
              "    </tr>\n",
              "    <tr>\n",
              "      <td>18</td>\n",
              "      <td>1.935100</td>\n",
              "      <td>2.087890</td>\n",
              "      <td>24.327900</td>\n",
              "      <td>9.402600</td>\n",
              "      <td>19.510100</td>\n",
              "      <td>22.048600</td>\n",
              "      <td>19.000000</td>\n",
              "    </tr>\n",
              "    <tr>\n",
              "      <td>19</td>\n",
              "      <td>1.954300</td>\n",
              "      <td>2.087890</td>\n",
              "      <td>24.327900</td>\n",
              "      <td>9.402600</td>\n",
              "      <td>19.510100</td>\n",
              "      <td>22.048600</td>\n",
              "      <td>19.000000</td>\n",
              "    </tr>\n",
              "    <tr>\n",
              "      <td>20</td>\n",
              "      <td>1.933200</td>\n",
              "      <td>2.087890</td>\n",
              "      <td>24.327900</td>\n",
              "      <td>9.402600</td>\n",
              "      <td>19.510100</td>\n",
              "      <td>22.048600</td>\n",
              "      <td>19.000000</td>\n",
              "    </tr>\n",
              "  </tbody>\n",
              "</table><p>"
            ],
            "text/plain": [
              "<IPython.core.display.HTML object>"
            ]
          },
          "metadata": {}
        },
        {
          "output_type": "stream",
          "name": "stderr",
          "text": [
            "The following columns in the evaluation set  don't have a corresponding argument in `T5ForConditionalGeneration.forward` and have been ignored: article, id, highlights.\n",
            "***** Running Evaluation *****\n",
            "  Num examples = 500\n",
            "  Batch size = 8\n",
            "Saving model checkpoint to t5-base-finetuned-cnn-small/checkpoint-625\n",
            "Configuration saved in t5-base-finetuned-cnn-small/checkpoint-625/config.json\n",
            "Model weights saved in t5-base-finetuned-cnn-small/checkpoint-625/pytorch_model.bin\n",
            "tokenizer config file saved in t5-base-finetuned-cnn-small/checkpoint-625/tokenizer_config.json\n",
            "Special tokens file saved in t5-base-finetuned-cnn-small/checkpoint-625/special_tokens_map.json\n",
            "The following columns in the evaluation set  don't have a corresponding argument in `T5ForConditionalGeneration.forward` and have been ignored: article, id, highlights.\n",
            "***** Running Evaluation *****\n",
            "  Num examples = 500\n",
            "  Batch size = 8\n",
            "Saving model checkpoint to t5-base-finetuned-cnn-small/checkpoint-1250\n",
            "Configuration saved in t5-base-finetuned-cnn-small/checkpoint-1250/config.json\n",
            "Model weights saved in t5-base-finetuned-cnn-small/checkpoint-1250/pytorch_model.bin\n",
            "tokenizer config file saved in t5-base-finetuned-cnn-small/checkpoint-1250/tokenizer_config.json\n",
            "Special tokens file saved in t5-base-finetuned-cnn-small/checkpoint-1250/special_tokens_map.json\n",
            "The following columns in the evaluation set  don't have a corresponding argument in `T5ForConditionalGeneration.forward` and have been ignored: article, id, highlights.\n",
            "***** Running Evaluation *****\n",
            "  Num examples = 500\n",
            "  Batch size = 8\n",
            "Saving model checkpoint to t5-base-finetuned-cnn-small/checkpoint-1875\n",
            "Configuration saved in t5-base-finetuned-cnn-small/checkpoint-1875/config.json\n",
            "Model weights saved in t5-base-finetuned-cnn-small/checkpoint-1875/pytorch_model.bin\n",
            "tokenizer config file saved in t5-base-finetuned-cnn-small/checkpoint-1875/tokenizer_config.json\n",
            "Special tokens file saved in t5-base-finetuned-cnn-small/checkpoint-1875/special_tokens_map.json\n",
            "The following columns in the evaluation set  don't have a corresponding argument in `T5ForConditionalGeneration.forward` and have been ignored: article, id, highlights.\n",
            "***** Running Evaluation *****\n",
            "  Num examples = 500\n",
            "  Batch size = 8\n",
            "Saving model checkpoint to t5-base-finetuned-cnn-small/checkpoint-2500\n",
            "Configuration saved in t5-base-finetuned-cnn-small/checkpoint-2500/config.json\n",
            "Model weights saved in t5-base-finetuned-cnn-small/checkpoint-2500/pytorch_model.bin\n",
            "tokenizer config file saved in t5-base-finetuned-cnn-small/checkpoint-2500/tokenizer_config.json\n",
            "Special tokens file saved in t5-base-finetuned-cnn-small/checkpoint-2500/special_tokens_map.json\n",
            "Deleting older checkpoint [t5-base-finetuned-cnn-small/checkpoint-625] due to args.save_total_limit\n",
            "The following columns in the evaluation set  don't have a corresponding argument in `T5ForConditionalGeneration.forward` and have been ignored: article, id, highlights.\n",
            "***** Running Evaluation *****\n",
            "  Num examples = 500\n",
            "  Batch size = 8\n",
            "Saving model checkpoint to t5-base-finetuned-cnn-small/checkpoint-3125\n",
            "Configuration saved in t5-base-finetuned-cnn-small/checkpoint-3125/config.json\n",
            "Model weights saved in t5-base-finetuned-cnn-small/checkpoint-3125/pytorch_model.bin\n",
            "tokenizer config file saved in t5-base-finetuned-cnn-small/checkpoint-3125/tokenizer_config.json\n",
            "Special tokens file saved in t5-base-finetuned-cnn-small/checkpoint-3125/special_tokens_map.json\n",
            "Deleting older checkpoint [t5-base-finetuned-cnn-small/checkpoint-1250] due to args.save_total_limit\n",
            "The following columns in the evaluation set  don't have a corresponding argument in `T5ForConditionalGeneration.forward` and have been ignored: article, id, highlights.\n",
            "***** Running Evaluation *****\n",
            "  Num examples = 500\n",
            "  Batch size = 8\n",
            "Saving model checkpoint to t5-base-finetuned-cnn-small/checkpoint-3750\n",
            "Configuration saved in t5-base-finetuned-cnn-small/checkpoint-3750/config.json\n",
            "Model weights saved in t5-base-finetuned-cnn-small/checkpoint-3750/pytorch_model.bin\n",
            "tokenizer config file saved in t5-base-finetuned-cnn-small/checkpoint-3750/tokenizer_config.json\n",
            "Special tokens file saved in t5-base-finetuned-cnn-small/checkpoint-3750/special_tokens_map.json\n",
            "Deleting older checkpoint [t5-base-finetuned-cnn-small/checkpoint-1875] due to args.save_total_limit\n",
            "The following columns in the evaluation set  don't have a corresponding argument in `T5ForConditionalGeneration.forward` and have been ignored: article, id, highlights.\n",
            "***** Running Evaluation *****\n",
            "  Num examples = 500\n",
            "  Batch size = 8\n",
            "Saving model checkpoint to t5-base-finetuned-cnn-small/checkpoint-4375\n",
            "Configuration saved in t5-base-finetuned-cnn-small/checkpoint-4375/config.json\n",
            "Model weights saved in t5-base-finetuned-cnn-small/checkpoint-4375/pytorch_model.bin\n",
            "tokenizer config file saved in t5-base-finetuned-cnn-small/checkpoint-4375/tokenizer_config.json\n",
            "Special tokens file saved in t5-base-finetuned-cnn-small/checkpoint-4375/special_tokens_map.json\n",
            "Deleting older checkpoint [t5-base-finetuned-cnn-small/checkpoint-2500] due to args.save_total_limit\n",
            "The following columns in the evaluation set  don't have a corresponding argument in `T5ForConditionalGeneration.forward` and have been ignored: article, id, highlights.\n",
            "***** Running Evaluation *****\n",
            "  Num examples = 500\n",
            "  Batch size = 8\n",
            "Saving model checkpoint to t5-base-finetuned-cnn-small/checkpoint-5000\n",
            "Configuration saved in t5-base-finetuned-cnn-small/checkpoint-5000/config.json\n",
            "Model weights saved in t5-base-finetuned-cnn-small/checkpoint-5000/pytorch_model.bin\n",
            "tokenizer config file saved in t5-base-finetuned-cnn-small/checkpoint-5000/tokenizer_config.json\n",
            "Special tokens file saved in t5-base-finetuned-cnn-small/checkpoint-5000/special_tokens_map.json\n",
            "Deleting older checkpoint [t5-base-finetuned-cnn-small/checkpoint-3125] due to args.save_total_limit\n",
            "The following columns in the evaluation set  don't have a corresponding argument in `T5ForConditionalGeneration.forward` and have been ignored: article, id, highlights.\n",
            "***** Running Evaluation *****\n",
            "  Num examples = 500\n",
            "  Batch size = 8\n",
            "Saving model checkpoint to t5-base-finetuned-cnn-small/checkpoint-5625\n",
            "Configuration saved in t5-base-finetuned-cnn-small/checkpoint-5625/config.json\n",
            "Model weights saved in t5-base-finetuned-cnn-small/checkpoint-5625/pytorch_model.bin\n",
            "tokenizer config file saved in t5-base-finetuned-cnn-small/checkpoint-5625/tokenizer_config.json\n",
            "Special tokens file saved in t5-base-finetuned-cnn-small/checkpoint-5625/special_tokens_map.json\n",
            "Deleting older checkpoint [t5-base-finetuned-cnn-small/checkpoint-3750] due to args.save_total_limit\n",
            "The following columns in the evaluation set  don't have a corresponding argument in `T5ForConditionalGeneration.forward` and have been ignored: article, id, highlights.\n",
            "***** Running Evaluation *****\n",
            "  Num examples = 500\n",
            "  Batch size = 8\n",
            "Saving model checkpoint to t5-base-finetuned-cnn-small/checkpoint-6250\n",
            "Configuration saved in t5-base-finetuned-cnn-small/checkpoint-6250/config.json\n",
            "Model weights saved in t5-base-finetuned-cnn-small/checkpoint-6250/pytorch_model.bin\n",
            "tokenizer config file saved in t5-base-finetuned-cnn-small/checkpoint-6250/tokenizer_config.json\n",
            "Special tokens file saved in t5-base-finetuned-cnn-small/checkpoint-6250/special_tokens_map.json\n",
            "Deleting older checkpoint [t5-base-finetuned-cnn-small/checkpoint-4375] due to args.save_total_limit\n",
            "The following columns in the evaluation set  don't have a corresponding argument in `T5ForConditionalGeneration.forward` and have been ignored: article, id, highlights.\n",
            "***** Running Evaluation *****\n",
            "  Num examples = 500\n",
            "  Batch size = 8\n",
            "Saving model checkpoint to t5-base-finetuned-cnn-small/checkpoint-6875\n",
            "Configuration saved in t5-base-finetuned-cnn-small/checkpoint-6875/config.json\n",
            "Model weights saved in t5-base-finetuned-cnn-small/checkpoint-6875/pytorch_model.bin\n",
            "tokenizer config file saved in t5-base-finetuned-cnn-small/checkpoint-6875/tokenizer_config.json\n",
            "Special tokens file saved in t5-base-finetuned-cnn-small/checkpoint-6875/special_tokens_map.json\n",
            "Deleting older checkpoint [t5-base-finetuned-cnn-small/checkpoint-5000] due to args.save_total_limit\n",
            "The following columns in the evaluation set  don't have a corresponding argument in `T5ForConditionalGeneration.forward` and have been ignored: article, id, highlights.\n",
            "***** Running Evaluation *****\n",
            "  Num examples = 500\n",
            "  Batch size = 8\n",
            "Saving model checkpoint to t5-base-finetuned-cnn-small/checkpoint-7500\n",
            "Configuration saved in t5-base-finetuned-cnn-small/checkpoint-7500/config.json\n",
            "Model weights saved in t5-base-finetuned-cnn-small/checkpoint-7500/pytorch_model.bin\n",
            "tokenizer config file saved in t5-base-finetuned-cnn-small/checkpoint-7500/tokenizer_config.json\n",
            "Special tokens file saved in t5-base-finetuned-cnn-small/checkpoint-7500/special_tokens_map.json\n",
            "Deleting older checkpoint [t5-base-finetuned-cnn-small/checkpoint-5625] due to args.save_total_limit\n",
            "The following columns in the evaluation set  don't have a corresponding argument in `T5ForConditionalGeneration.forward` and have been ignored: article, id, highlights.\n",
            "***** Running Evaluation *****\n",
            "  Num examples = 500\n",
            "  Batch size = 8\n",
            "Saving model checkpoint to t5-base-finetuned-cnn-small/checkpoint-8125\n",
            "Configuration saved in t5-base-finetuned-cnn-small/checkpoint-8125/config.json\n",
            "Model weights saved in t5-base-finetuned-cnn-small/checkpoint-8125/pytorch_model.bin\n",
            "tokenizer config file saved in t5-base-finetuned-cnn-small/checkpoint-8125/tokenizer_config.json\n",
            "Special tokens file saved in t5-base-finetuned-cnn-small/checkpoint-8125/special_tokens_map.json\n",
            "Deleting older checkpoint [t5-base-finetuned-cnn-small/checkpoint-6250] due to args.save_total_limit\n",
            "The following columns in the evaluation set  don't have a corresponding argument in `T5ForConditionalGeneration.forward` and have been ignored: article, id, highlights.\n",
            "***** Running Evaluation *****\n",
            "  Num examples = 500\n",
            "  Batch size = 8\n",
            "Saving model checkpoint to t5-base-finetuned-cnn-small/checkpoint-8750\n",
            "Configuration saved in t5-base-finetuned-cnn-small/checkpoint-8750/config.json\n",
            "Model weights saved in t5-base-finetuned-cnn-small/checkpoint-8750/pytorch_model.bin\n",
            "tokenizer config file saved in t5-base-finetuned-cnn-small/checkpoint-8750/tokenizer_config.json\n",
            "Special tokens file saved in t5-base-finetuned-cnn-small/checkpoint-8750/special_tokens_map.json\n",
            "Deleting older checkpoint [t5-base-finetuned-cnn-small/checkpoint-6875] due to args.save_total_limit\n",
            "The following columns in the evaluation set  don't have a corresponding argument in `T5ForConditionalGeneration.forward` and have been ignored: article, id, highlights.\n",
            "***** Running Evaluation *****\n",
            "  Num examples = 500\n",
            "  Batch size = 8\n",
            "Saving model checkpoint to t5-base-finetuned-cnn-small/checkpoint-9375\n",
            "Configuration saved in t5-base-finetuned-cnn-small/checkpoint-9375/config.json\n",
            "Model weights saved in t5-base-finetuned-cnn-small/checkpoint-9375/pytorch_model.bin\n",
            "tokenizer config file saved in t5-base-finetuned-cnn-small/checkpoint-9375/tokenizer_config.json\n",
            "Special tokens file saved in t5-base-finetuned-cnn-small/checkpoint-9375/special_tokens_map.json\n",
            "Deleting older checkpoint [t5-base-finetuned-cnn-small/checkpoint-7500] due to args.save_total_limit\n",
            "The following columns in the evaluation set  don't have a corresponding argument in `T5ForConditionalGeneration.forward` and have been ignored: article, id, highlights.\n",
            "***** Running Evaluation *****\n",
            "  Num examples = 500\n",
            "  Batch size = 8\n",
            "Saving model checkpoint to t5-base-finetuned-cnn-small/checkpoint-10000\n",
            "Configuration saved in t5-base-finetuned-cnn-small/checkpoint-10000/config.json\n",
            "Model weights saved in t5-base-finetuned-cnn-small/checkpoint-10000/pytorch_model.bin\n",
            "tokenizer config file saved in t5-base-finetuned-cnn-small/checkpoint-10000/tokenizer_config.json\n",
            "Special tokens file saved in t5-base-finetuned-cnn-small/checkpoint-10000/special_tokens_map.json\n",
            "Deleting older checkpoint [t5-base-finetuned-cnn-small/checkpoint-8125] due to args.save_total_limit\n",
            "The following columns in the evaluation set  don't have a corresponding argument in `T5ForConditionalGeneration.forward` and have been ignored: article, id, highlights.\n",
            "***** Running Evaluation *****\n",
            "  Num examples = 500\n",
            "  Batch size = 8\n",
            "Saving model checkpoint to t5-base-finetuned-cnn-small/checkpoint-10625\n",
            "Configuration saved in t5-base-finetuned-cnn-small/checkpoint-10625/config.json\n",
            "Model weights saved in t5-base-finetuned-cnn-small/checkpoint-10625/pytorch_model.bin\n",
            "tokenizer config file saved in t5-base-finetuned-cnn-small/checkpoint-10625/tokenizer_config.json\n",
            "Special tokens file saved in t5-base-finetuned-cnn-small/checkpoint-10625/special_tokens_map.json\n",
            "Deleting older checkpoint [t5-base-finetuned-cnn-small/checkpoint-8750] due to args.save_total_limit\n",
            "The following columns in the evaluation set  don't have a corresponding argument in `T5ForConditionalGeneration.forward` and have been ignored: article, id, highlights.\n",
            "***** Running Evaluation *****\n",
            "  Num examples = 500\n",
            "  Batch size = 8\n",
            "Saving model checkpoint to t5-base-finetuned-cnn-small/checkpoint-11250\n",
            "Configuration saved in t5-base-finetuned-cnn-small/checkpoint-11250/config.json\n",
            "Model weights saved in t5-base-finetuned-cnn-small/checkpoint-11250/pytorch_model.bin\n",
            "tokenizer config file saved in t5-base-finetuned-cnn-small/checkpoint-11250/tokenizer_config.json\n",
            "Special tokens file saved in t5-base-finetuned-cnn-small/checkpoint-11250/special_tokens_map.json\n",
            "Deleting older checkpoint [t5-base-finetuned-cnn-small/checkpoint-9375] due to args.save_total_limit\n",
            "The following columns in the evaluation set  don't have a corresponding argument in `T5ForConditionalGeneration.forward` and have been ignored: article, id, highlights.\n",
            "***** Running Evaluation *****\n",
            "  Num examples = 500\n",
            "  Batch size = 8\n",
            "Saving model checkpoint to t5-base-finetuned-cnn-small/checkpoint-11875\n",
            "Configuration saved in t5-base-finetuned-cnn-small/checkpoint-11875/config.json\n",
            "Model weights saved in t5-base-finetuned-cnn-small/checkpoint-11875/pytorch_model.bin\n",
            "tokenizer config file saved in t5-base-finetuned-cnn-small/checkpoint-11875/tokenizer_config.json\n",
            "Special tokens file saved in t5-base-finetuned-cnn-small/checkpoint-11875/special_tokens_map.json\n",
            "Deleting older checkpoint [t5-base-finetuned-cnn-small/checkpoint-10000] due to args.save_total_limit\n",
            "The following columns in the evaluation set  don't have a corresponding argument in `T5ForConditionalGeneration.forward` and have been ignored: article, id, highlights.\n",
            "***** Running Evaluation *****\n",
            "  Num examples = 500\n",
            "  Batch size = 8\n",
            "Saving model checkpoint to t5-base-finetuned-cnn-small/checkpoint-12500\n",
            "Configuration saved in t5-base-finetuned-cnn-small/checkpoint-12500/config.json\n",
            "Model weights saved in t5-base-finetuned-cnn-small/checkpoint-12500/pytorch_model.bin\n",
            "tokenizer config file saved in t5-base-finetuned-cnn-small/checkpoint-12500/tokenizer_config.json\n",
            "Special tokens file saved in t5-base-finetuned-cnn-small/checkpoint-12500/special_tokens_map.json\n",
            "Deleting older checkpoint [t5-base-finetuned-cnn-small/checkpoint-10625] due to args.save_total_limit\n",
            "\n",
            "\n",
            "Training completed. Do not forget to share your model on huggingface.co/models =)\n",
            "\n",
            "\n"
          ]
        },
        {
          "output_type": "execute_result",
          "data": {
            "text/plain": [
              "TrainOutput(global_step=12500, training_loss=1.8421403125, metrics={'train_runtime': 10104.5209, 'train_samples_per_second': 9.897, 'train_steps_per_second': 1.237, 'total_flos': 7.134444078170112e+16, 'train_loss': 1.8421403125, 'epoch': 20.0})"
            ]
          },
          "metadata": {},
          "execution_count": 22
        }
      ]
    },
    {
      "cell_type": "code",
      "metadata": {
        "id": "yoeCzgrVUvHd",
        "colab": {
          "base_uri": "https://localhost:8080/",
          "height": 578,
          "referenced_widgets": [
            "47e4aef038614dfd83eb99ef2d5719d1",
            "fa2e40c2c20a4deeaa3f4b8af10ad97f",
            "3334e510d47b4fb3b562a956078768ee",
            "b0eecb6c1f5c4bc08b645371dad71992",
            "389e7c88b2f649c1b04619eed87b131b",
            "4ae2a17f3dbe47be86e00864ecba1ac4",
            "2071e9c5251a41f0bb04dbc34dd67ac5",
            "ca01ce97a7de4f9f8f7844200ea2d543"
          ]
        },
        "outputId": "65b0c1bd-cae2-4ccf-a4dc-4ce84fa1779b"
      },
      "source": [
        "wandb.finish()"
      ],
      "execution_count": null,
      "outputs": [
        {
          "output_type": "display_data",
          "data": {
            "text/html": [
              "<br/>Waiting for W&B process to finish, PID 2203... <strong style=\"color:green\">(success).</strong>"
            ],
            "text/plain": [
              "<IPython.core.display.HTML object>"
            ]
          },
          "metadata": {}
        },
        {
          "output_type": "display_data",
          "data": {
            "application/vnd.jupyter.widget-view+json": {
              "model_id": "47e4aef038614dfd83eb99ef2d5719d1",
              "version_minor": 0,
              "version_major": 2
            },
            "text/plain": [
              "VBox(children=(Label(value=' 0.00MB of 0.00MB uploaded (0.00MB deduped)\\r'), FloatProgress(value=1.0, max=1.0)…"
            ]
          },
          "metadata": {}
        },
        {
          "output_type": "display_data",
          "data": {
            "text/html": [
              "<style>\n",
              "    table.wandb td:nth-child(1) { padding: 0 10px; text-align: right }\n",
              "    .wandb-row { display: flex; flex-direction: row; flex-wrap: wrap; width: 100% }\n",
              "    .wandb-col { display: flex; flex-direction: column; flex-basis: 100%; flex: 1; padding: 10px; }\n",
              "    </style>\n",
              "<div class=\"wandb-row\"><div class=\"wandb-col\">\n",
              "<h3>Run history:</h3><br/><table class=\"wandb\"><tr><td>eval/gen_len</td><td>▂▃▅▁▆███████████████</td></tr><tr><td>eval/loss</td><td>▁▁▁▁▁▄██████████████</td></tr><tr><td>eval/rouge1</td><td>▇▇██▇▁▁▁▂▂▂▂▂▂▂▂▂▂▂▂</td></tr><tr><td>eval/rouge2</td><td>████▇▂▁▁▁▁▁▁▁▁▁▁▁▁▁▁</td></tr><tr><td>eval/rougeL</td><td>▇████▂▁▁▂▁▁▁▁▁▁▁▁▁▁▁</td></tr><tr><td>eval/rougeLsum</td><td>▇████▂▁▁▁▁▁▁▁▁▁▁▁▁▁▁</td></tr><tr><td>eval/runtime</td><td>▅▃▃▆▄▄▁▄▄▅▄▃█▇▅▄▄█▄▄</td></tr><tr><td>eval/samples_per_second</td><td>▃▆▆▃▅▅█▅▅▄▅▆▁▂▄▅▅▁▅▅</td></tr><tr><td>eval/steps_per_second</td><td>▄▆▆▃▅▅█▅▅▄▅▅▁▂▄▄▅▁▅▅</td></tr><tr><td>train/epoch</td><td>▁▁▁▁▂▂▂▂▂▃▃▃▃▃▄▄▄▄▄▄▅▅▅▅▅▅▆▆▆▆▇▇▇▇▇▇████</td></tr><tr><td>train/global_step</td><td>▁▁▁▁▂▂▂▂▂▃▃▃▃▃▄▄▄▄▄▄▅▅▅▅▅▅▆▆▆▆▇▇▇▇▇▇████</td></tr><tr><td>train/learning_rate</td><td>██▇▇▇▇▆▆▆▅▅▅▄▄▄▄▃▃▃▂▂▂▂▁▁</td></tr><tr><td>train/loss</td><td>▄▃▂▂▁▁▂▅████▇▇▇▇▇▇▇▇▇▇█▇▇</td></tr><tr><td>train/total_flos</td><td>▁</td></tr><tr><td>train/train_loss</td><td>▁</td></tr><tr><td>train/train_runtime</td><td>▁</td></tr><tr><td>train/train_samples_per_second</td><td>▁</td></tr><tr><td>train/train_steps_per_second</td><td>▁</td></tr></table><br/></div><div class=\"wandb-col\">\n",
              "<h3>Run summary:</h3><br/><table class=\"wandb\"><tr><td>eval/gen_len</td><td>19.0</td></tr><tr><td>eval/loss</td><td>2.08789</td></tr><tr><td>eval/rouge1</td><td>24.3279</td></tr><tr><td>eval/rouge2</td><td>9.4026</td></tr><tr><td>eval/rougeL</td><td>19.5101</td></tr><tr><td>eval/rougeLsum</td><td>22.0486</td></tr><tr><td>eval/runtime</td><td>41.1198</td></tr><tr><td>eval/samples_per_second</td><td>12.16</td></tr><tr><td>eval/steps_per_second</td><td>1.532</td></tr><tr><td>train/epoch</td><td>20.0</td></tr><tr><td>train/global_step</td><td>12500</td></tr><tr><td>train/learning_rate</td><td>0.0</td></tr><tr><td>train/loss</td><td>1.9332</td></tr><tr><td>train/total_flos</td><td>7.134444078170112e+16</td></tr><tr><td>train/train_loss</td><td>1.84214</td></tr><tr><td>train/train_runtime</td><td>10104.5209</td></tr><tr><td>train/train_samples_per_second</td><td>9.897</td></tr><tr><td>train/train_steps_per_second</td><td>1.237</td></tr></table>\n",
              "</div></div>\n",
              "Synced 5 W&B file(s), 0 media file(s), 0 artifact file(s) and 0 other file(s)\n",
              "<br/>Synced <strong style=\"color:#cdcd00\">frosty-brook-8</strong>: <a href=\"https://wandb.ai/shusunny/T5-sum/runs/1cye84up\" target=\"_blank\">https://wandb.ai/shusunny/T5-sum/runs/1cye84up</a><br/>\n",
              "Find logs at: <code>./wandb/run-20211128_004945-1cye84up/logs</code><br/>\n"
            ],
            "text/plain": [
              "<IPython.core.display.HTML object>"
            ]
          },
          "metadata": {}
        }
      ]
    },
    {
      "cell_type": "code",
      "metadata": {
        "colab": {
          "base_uri": "https://localhost:8080/"
        },
        "id": "AhlCOfOBpaGu",
        "outputId": "f69082a4-114c-41c9-cb1d-f2657076f7a6"
      },
      "source": [
        "!ls"
      ],
      "execution_count": null,
      "outputs": [
        {
          "output_type": "stream",
          "name": "stdout",
          "text": [
            "sample_data  t5-base-finetuned-cnn  t5-base-finetuned-cnn-small  wandb\n"
          ]
        }
      ]
    },
    {
      "cell_type": "code",
      "metadata": {
        "colab": {
          "base_uri": "https://localhost:8080/"
        },
        "id": "yk-LLddypcg0",
        "outputId": "1f494e06-af94-479b-b4c5-2775edcd3875"
      },
      "source": [
        "!ls t5-base-finetuned-cnn/"
      ],
      "execution_count": null,
      "outputs": [
        {
          "output_type": "stream",
          "name": "stdout",
          "text": [
            "checkpoint-22000  checkpoint-24000  checkpoint-26000\n"
          ]
        }
      ]
    },
    {
      "cell_type": "code",
      "metadata": {
        "colab": {
          "base_uri": "https://localhost:8080/"
        },
        "id": "xu2bRxqwpgoN",
        "outputId": "c9f735e7-9f4c-4c7b-a66c-5fe3718dc6da"
      },
      "source": [
        "!ls t5-base-finetuned-cnn-small/"
      ],
      "execution_count": null,
      "outputs": [
        {
          "output_type": "stream",
          "name": "stdout",
          "text": [
            "checkpoint-11250  checkpoint-11875  checkpoint-12500\n"
          ]
        }
      ]
    },
    {
      "cell_type": "code",
      "metadata": {
        "colab": {
          "base_uri": "https://localhost:8080/"
        },
        "id": "hSEcggpvqOCI",
        "outputId": "5349756d-e8ea-45d2-dc9f-715074de922e"
      },
      "source": [
        "from transformers import T5Tokenizer, T5Model\n",
        "\n",
        "model = T5Model.from_pretrained('t5-base-finetuned-cnn/checkpoint-22000')"
      ],
      "execution_count": null,
      "outputs": [
        {
          "output_type": "stream",
          "name": "stderr",
          "text": [
            "loading configuration file t5-base-finetuned-cnn/checkpoint-22000/config.json\n",
            "Model config T5Config {\n",
            "  \"_name_or_path\": \"t5-base\",\n",
            "  \"architectures\": [\n",
            "    \"T5ForConditionalGeneration\"\n",
            "  ],\n",
            "  \"d_ff\": 3072,\n",
            "  \"d_kv\": 64,\n",
            "  \"d_model\": 768,\n",
            "  \"decoder_start_token_id\": 0,\n",
            "  \"dropout_rate\": 0.1,\n",
            "  \"eos_token_id\": 1,\n",
            "  \"feed_forward_proj\": \"relu\",\n",
            "  \"initializer_factor\": 1.0,\n",
            "  \"is_encoder_decoder\": true,\n",
            "  \"layer_norm_epsilon\": 1e-06,\n",
            "  \"model_type\": \"t5\",\n",
            "  \"n_positions\": 512,\n",
            "  \"num_decoder_layers\": 12,\n",
            "  \"num_heads\": 12,\n",
            "  \"num_layers\": 12,\n",
            "  \"output_past\": true,\n",
            "  \"pad_token_id\": 0,\n",
            "  \"relative_attention_num_buckets\": 32,\n",
            "  \"task_specific_params\": {\n",
            "    \"summarization\": {\n",
            "      \"early_stopping\": true,\n",
            "      \"length_penalty\": 2.0,\n",
            "      \"max_length\": 200,\n",
            "      \"min_length\": 30,\n",
            "      \"no_repeat_ngram_size\": 3,\n",
            "      \"num_beams\": 4,\n",
            "      \"prefix\": \"summarize: \"\n",
            "    },\n",
            "    \"translation_en_to_de\": {\n",
            "      \"early_stopping\": true,\n",
            "      \"max_length\": 300,\n",
            "      \"num_beams\": 4,\n",
            "      \"prefix\": \"translate English to German: \"\n",
            "    },\n",
            "    \"translation_en_to_fr\": {\n",
            "      \"early_stopping\": true,\n",
            "      \"max_length\": 300,\n",
            "      \"num_beams\": 4,\n",
            "      \"prefix\": \"translate English to French: \"\n",
            "    },\n",
            "    \"translation_en_to_ro\": {\n",
            "      \"early_stopping\": true,\n",
            "      \"max_length\": 300,\n",
            "      \"num_beams\": 4,\n",
            "      \"prefix\": \"translate English to Romanian: \"\n",
            "    }\n",
            "  },\n",
            "  \"torch_dtype\": \"float32\",\n",
            "  \"transformers_version\": \"4.12.5\",\n",
            "  \"use_cache\": true,\n",
            "  \"vocab_size\": 32128\n",
            "}\n",
            "\n",
            "loading weights file t5-base-finetuned-cnn/checkpoint-22000/pytorch_model.bin\n",
            "Some weights of the model checkpoint at t5-base-finetuned-cnn/checkpoint-22000 were not used when initializing T5Model: ['lm_head.weight']\n",
            "- This IS expected if you are initializing T5Model from the checkpoint of a model trained on another task or with another architecture (e.g. initializing a BertForSequenceClassification model from a BertForPreTraining model).\n",
            "- This IS NOT expected if you are initializing T5Model from the checkpoint of a model that you expect to be exactly identical (initializing a BertForSequenceClassification model from a BertForSequenceClassification model).\n",
            "All the weights of T5Model were initialized from the model checkpoint at t5-base-finetuned-cnn/checkpoint-22000.\n",
            "If your task is similar to the task the model of the checkpoint was trained on, you can already use T5Model for predictions without further training.\n"
          ]
        }
      ]
    },
    {
      "cell_type": "code",
      "metadata": {
        "colab": {
          "base_uri": "https://localhost:8080/"
        },
        "id": "_M4E6onnpjdq",
        "outputId": "54ff0051-502f-4535-93f3-72f398893019"
      },
      "source": [
        "model_small=T5Model.from_pretrained('t5-base-finetuned-cnn-small/checkpoint-11250')"
      ],
      "execution_count": null,
      "outputs": [
        {
          "output_type": "stream",
          "name": "stderr",
          "text": [
            "loading configuration file t5-base-finetuned-cnn-small/checkpoint-11250/config.json\n",
            "Model config T5Config {\n",
            "  \"_name_or_path\": \"t5-base\",\n",
            "  \"architectures\": [\n",
            "    \"T5ForConditionalGeneration\"\n",
            "  ],\n",
            "  \"d_ff\": 3072,\n",
            "  \"d_kv\": 64,\n",
            "  \"d_model\": 768,\n",
            "  \"decoder_start_token_id\": 0,\n",
            "  \"dropout_rate\": 0.1,\n",
            "  \"eos_token_id\": 1,\n",
            "  \"feed_forward_proj\": \"relu\",\n",
            "  \"initializer_factor\": 1.0,\n",
            "  \"is_encoder_decoder\": true,\n",
            "  \"layer_norm_epsilon\": 1e-06,\n",
            "  \"model_type\": \"t5\",\n",
            "  \"n_positions\": 512,\n",
            "  \"num_decoder_layers\": 12,\n",
            "  \"num_heads\": 12,\n",
            "  \"num_layers\": 12,\n",
            "  \"output_past\": true,\n",
            "  \"pad_token_id\": 0,\n",
            "  \"relative_attention_num_buckets\": 32,\n",
            "  \"task_specific_params\": {\n",
            "    \"summarization\": {\n",
            "      \"early_stopping\": true,\n",
            "      \"length_penalty\": 2.0,\n",
            "      \"max_length\": 200,\n",
            "      \"min_length\": 30,\n",
            "      \"no_repeat_ngram_size\": 3,\n",
            "      \"num_beams\": 4,\n",
            "      \"prefix\": \"summarize: \"\n",
            "    },\n",
            "    \"translation_en_to_de\": {\n",
            "      \"early_stopping\": true,\n",
            "      \"max_length\": 300,\n",
            "      \"num_beams\": 4,\n",
            "      \"prefix\": \"translate English to German: \"\n",
            "    },\n",
            "    \"translation_en_to_fr\": {\n",
            "      \"early_stopping\": true,\n",
            "      \"max_length\": 300,\n",
            "      \"num_beams\": 4,\n",
            "      \"prefix\": \"translate English to French: \"\n",
            "    },\n",
            "    \"translation_en_to_ro\": {\n",
            "      \"early_stopping\": true,\n",
            "      \"max_length\": 300,\n",
            "      \"num_beams\": 4,\n",
            "      \"prefix\": \"translate English to Romanian: \"\n",
            "    }\n",
            "  },\n",
            "  \"torch_dtype\": \"float32\",\n",
            "  \"transformers_version\": \"4.12.5\",\n",
            "  \"use_cache\": true,\n",
            "  \"vocab_size\": 32128\n",
            "}\n",
            "\n",
            "loading weights file t5-base-finetuned-cnn-small/checkpoint-11250/pytorch_model.bin\n",
            "Some weights of the model checkpoint at t5-base-finetuned-cnn-small/checkpoint-11250 were not used when initializing T5Model: ['lm_head.weight']\n",
            "- This IS expected if you are initializing T5Model from the checkpoint of a model trained on another task or with another architecture (e.g. initializing a BertForSequenceClassification model from a BertForPreTraining model).\n",
            "- This IS NOT expected if you are initializing T5Model from the checkpoint of a model that you expect to be exactly identical (initializing a BertForSequenceClassification model from a BertForSequenceClassification model).\n",
            "All the weights of T5Model were initialized from the model checkpoint at t5-base-finetuned-cnn-small/checkpoint-11250.\n",
            "If your task is similar to the task the model of the checkpoint was trained on, you can already use T5Model for predictions without further training.\n"
          ]
        }
      ]
    },
    {
      "cell_type": "code",
      "metadata": {
        "id": "4meXCoLJq4kn"
      },
      "source": [
        "# map data correctly\n",
        "def generate_summary(batch):\n",
        "    tokenizer.padding_side = \"left\"\n",
        "    tokenizer.pad_token = tokenizer.eos_token # to avoid an error\n",
        "    # cut off at BERT max length 512\n",
        "    sentences = [prefix + sentence for sentence in batch[\"article\"]]\n",
        "    inputs = tokenizer(sentences, truncation=True, max_length=512, return_tensors=\"pt\", padding=True)\n",
        "    input_ids = inputs.input_ids.to(\"cuda\")\n",
        "    attention_mask = inputs.attention_mask.to(\"cuda\")\n",
        "\n",
        "    outputs = model.generate(input_ids, attention_mask=attention_mask)\n",
        "\n",
        "    # all special tokens including will be removed\n",
        "    output_str = tokenizer.batch_decode(outputs, skip_special_tokens=True)\n",
        "\n",
        "    batch[\"pred\"] = output_str\n",
        "\n",
        "    return batch"
      ],
      "execution_count": null,
      "outputs": []
    },
    {
      "cell_type": "code",
      "metadata": {
        "id": "JZqjlzNZrEPd"
      },
      "source": [
        "test_data = raw_datasets['test']\n",
        "test_data = test_data.select(range(16))"
      ],
      "execution_count": null,
      "outputs": []
    },
    {
      "cell_type": "code",
      "metadata": {
        "colab": {
          "base_uri": "https://localhost:8080/"
        },
        "id": "t52KEm1JsrgG",
        "outputId": "af36227e-e07c-4f0d-cf3a-46c2002fc4f9"
      },
      "source": [
        "tokenizer.padding_side = \"left\"\n",
        "tokenizer.pad_token = tokenizer.eos_token # to avoid an error\n",
        "\n",
        "sentences = test_data[\"article\"] \n",
        "inputs = tokenizer([prefix + sentence for sentence in sentences], max_length=max_input_length, return_tensors=\"pt\", padding=True)"
      ],
      "execution_count": null,
      "outputs": [
        {
          "output_type": "stream",
          "name": "stderr",
          "text": [
            "/usr/local/lib/python3.7/dist-packages/transformers/tokenization_utils_base.py:2229: UserWarning: `max_length` is ignored when `padding`=`True` and there is no truncation strategy. To pad to max length, use `padding='max_length'`.\n",
            "  \"`max_length` is ignored when `padding`=`True` and there is no truncation strategy. \"\n"
          ]
        }
      ]
    },
    {
      "cell_type": "code",
      "metadata": {
        "id": "Y2blHcN5rO2A"
      },
      "source": [
        ""
      ],
      "execution_count": null,
      "outputs": []
    }
  ]
}